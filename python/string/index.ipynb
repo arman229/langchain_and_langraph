{
 "cells": [
  {
   "cell_type": "code",
   "execution_count": 1,
   "id": "622982c8",
   "metadata": {},
   "outputs": [
    {
     "name": "stdout",
     "output_type": "stream",
     "text": [
      "My name is arman\n",
      "'My name is arman'\n"
     ]
    }
   ],
   "source": [
    "name = \"My name is arman\"\n",
    "print(name)\n",
    "print(f\"{name!r}\")"
   ]
  },
  {
   "cell_type": "code",
   "execution_count": 2,
   "id": "2e461ae3",
   "metadata": {},
   "outputs": [
    {
     "name": "stdout",
     "output_type": "stream",
     "text": [
      "6\n",
      "6\n"
     ]
    }
   ],
   "source": [
    "height = 6\n",
    "print(height)\n",
    "print(f\"{height!r}\")"
   ]
  },
  {
   "cell_type": "code",
   "execution_count": null,
   "id": "184f64cc",
   "metadata": {},
   "outputs": [],
   "source": []
  }
 ],
 "metadata": {
  "kernelspec": {
   "display_name": "Python 3",
   "language": "python",
   "name": "python3"
  },
  "language_info": {
   "codemirror_mode": {
    "name": "ipython",
    "version": 3
   },
   "file_extension": ".py",
   "mimetype": "text/x-python",
   "name": "python",
   "nbconvert_exporter": "python",
   "pygments_lexer": "ipython3",
   "version": "3.13.3"
  }
 },
 "nbformat": 4,
 "nbformat_minor": 5
}
