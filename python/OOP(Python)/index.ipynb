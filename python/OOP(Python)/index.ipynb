{
 "cells": [
  {
   "cell_type": "markdown",
   "metadata": {},
   "source": [
    "To become proficient in Python's Object-Oriented Programming (OOP), here are the key topics you should focus on:\n",
    "\n",
    "1. **Classes and Objects**\n",
    "   - Definition and creation of classes.\n",
    "   - Instantiating objects from classes.\n",
    "\n",
    "2. **Attributes and Methods**\n",
    "   - Class attributes vs. instance attributes.\n",
    "   - Defining methods within a class.\n",
    "   - Instance methods, class methods, and static methods.\n",
    "\n",
    "3. **Encapsulation**\n",
    "   - Private, protected, and public attributes.\n",
    "   - Getter and setter methods.\n",
    "   - Using property decorators.\n",
    "\n",
    "4. **Inheritance**\n",
    "   - Single inheritance.\n",
    "   - Multiple inheritance.\n",
    "   - Method overriding.\n",
    "   - Using `super()` to call parent class methods.\n",
    "\n",
    "5. **Polymorphism**\n",
    "   - Method overloading (achieved through default arguments).\n",
    "   - Method overriding.\n",
    "   - Duck typing.\n",
    "\n",
    "6. **Abstraction**\n",
    "   - Abstract classes and methods.\n",
    "   - Using `abc` module in Python for abstraction.\n",
    "\n",
    "7. **Composition vs. Inheritance**\n",
    "   - Understanding when to use inheritance and when to use composition.\n",
    "   - \"Has-A\" vs. \"Is-A\" relationships.\n",
    "\n",
    "8. **Magic/Dunder Methods**\n",
    "   - `__init__`, `__str__`, `__repr__`, `__eq__`, and more.\n",
    "   - Overloading operators.\n",
    "\n",
    "9. **Class and Static Methods**\n",
    "   - Difference between class methods and static methods.\n",
    "   - Using `@classmethod` and `@staticmethod` decorators.\n",
    "\n",
    "10. **The `self` and `cls` Keywords**\n",
    "    - Difference between `self` in instance methods and `cls` in class methods.\n",
    "\n",
    "11. **Inner Classes**\n",
    "    - Defining and using inner classes.\n",
    "\n",
    "12. **Inheritance Hierarchies and MRO (Method Resolution Order)**\n",
    "    - Understanding MRO in Python.\n",
    "\n",
    "13. **Decorators in OOP**\n",
    "    - Applying decorators to classes and methods.\n",
    "\n",
    "14. **Metaclasses**\n",
    "    - Creating and using metaclasses for advanced class creation.\n",
    "\n",
    "These topics cover the core concepts of OOP in Python. Once you master these, you can build complex, scalable applications following OOP principles."
   ]
  },
  {
   "cell_type": "markdown",
   "metadata": {},
   "source": [
    "### Object-Oriented Programming (OOP) concepts and topics in Python, along with detailed explanations:"
   ]
  },
  {
   "cell_type": "markdown",
   "metadata": {},
   "source": [
    "### 1. **Classes and Objects**\n",
    "   - **Class**: A blueprint for creating objects. Defines properties (attributes) and behaviors (methods).\n",
    "   - **Object**: An instance of a class. Represents a specific entity based on the class definition.\n",
    "   In Python, when you create a real thing from the class (blueprint), it’s called an instance. OR,When we initialize a class (i.e., when we create an object from the class), we are creating an instance of that class.\n",
    "   An object is an instance of a class. When a class is defined, no memory is allocated until an object is created.\n",
    "\n"
   ]
  },
  {
   "cell_type": "markdown",
   "metadata": {},
   "source": [
    "#### Creating an Object\n",
    "Now, to use the class, we create an object from it:"
   ]
  },
  {
   "cell_type": "code",
   "execution_count": null,
   "metadata": {},
   "outputs": [],
   "source": [
    "MyClass:\n",
    "    pass\n",
    "\n",
    "# Creating an object of MyClass\n",
    "my_object = MyClass()\n",
    "\n",
    "# Accessing the class attribute and method using the object\n",
    "print(my_object.attribute)  # Output: I am an attribute\n",
    "print(my_object.say_hello())  # Output: Hello from MyClass!\n"
   ]
  },
  {
   "cell_type": "markdown",
   "metadata": {},
   "source": [
    "### 2. **Attributes and Methods**\n",
    "   - **Attributes**: Variables that belong to a class or object. Can be defined inside the `__init__` method (for instance attributes) or directly in the class (for class attributes).They store data or information related to the object. There are two main types of attributes:\n",
    "   - ***Instance attributes***: These are specific to each object (instance) and are defined within the `__init__` method or other methods.\n",
    "   - **Class attributes**: These are shared by all instances of the class and are defined directly in the class body.\n",
    "\n",
    "   - **Methods**: Functions defined within a class that operate on objects' data. \n",
    "      Methods are the functions that belong to a class and define actions or behaviors of the objects. Methods operate on the object’s attributes and perform tasks related to the object.\n",
    "   - **Instance Method**: Operates on individual instances of the class.\n",
    "   - **Class Method**: Operates on the class itself.\n",
    "   - **Static Method**: Not dependent on either the class or instances.\n",
    "   \n",
    "#   In Summary:\n",
    "\n",
    "- **Instance Method**: Use self and work with the object's data.\n",
    "- **Class Method**: Use cls and work with class-level data.\n",
    "- **Static Method**: Don’t need self or cls, they are like regular functions inside the class."
   ]
  },
  {
   "cell_type": "markdown",
   "metadata": {},
   "source": [
    " \n",
    "---\n",
    "\n",
    "### **Instance Method vs Class Method in Python**\n",
    "In Python, **instance methods** and **class methods** are two types of methods used in object-oriented programming.\n",
    "\n",
    "#### **1. Instance Method**  \n",
    "- It operates on an **instance** of a class.\n",
    "- It can access and modify **instance variables**.\n",
    "- It takes `self` as the first parameter, which represents the instance.\n",
    "\n",
    "#### **2. Class Method**  \n",
    "- It operates on the **class itself** rather than instances.\n",
    "- It can access and modify **class variables**.\n",
    "- It takes `cls` as the first parameter, which represents the class.\n",
    "- It is decorated with `@classmethod`.\n",
    "\n",
    "---\n",
    "\n",
    "### **Code Example**\n",
    "```python\n",
    "class MyClass:\n",
    "    class_variable = \"I am a class variable\"\n",
    "\n",
    "    def __init__(self, value):\n",
    "        self.instance_variable = value  # Instance variable\n",
    "\n",
    "    def instance_method(self):\n",
    "        \"\"\"Instance method can access instance and class variables.\"\"\"\n",
    "        print(f\"Instance Method: instance_variable = {self.instance_variable}\")\n",
    "        print(f\"Instance Method: class_variable = {MyClass.class_variable}\")\n",
    "\n",
    "    @classmethod\n",
    "    def class_method(cls):\n",
    "        \"\"\"Class method can access class variables but not instance variables.\"\"\"\n",
    "        print(f\"Class Method: class_variable = {cls.class_variable}\")\n",
    "        # print(self.instance_variable)  # ❌ This would raise an error\n",
    "\n",
    "# Creating an instance\n",
    "obj = MyClass(\"Hello\")\n",
    "\n",
    "# Calling instance method\n",
    "obj.instance_method()\n",
    "\n",
    "# Calling class method\n",
    "MyClass.class_method()  # Calling directly on the class\n",
    "obj.class_method()  # Can also be called using an instance, but works on class level\n",
    "```\n",
    "\n",
    "### **Output**\n",
    "```\n",
    "Instance Method: instance_variable = Hello\n",
    "Instance Method: class_variable = I am a class variable\n",
    "Class Method: class_variable = I am a class variable\n",
    "```\n",
    "\n",
    "---\n",
    "\n",
    "### **Key Differences**\n",
    "| Feature         | Instance Method | Class Method |\n",
    "|---------------|---------------|-------------|\n",
    "| First parameter | `self` (instance) | `cls` (class) |\n",
    "| Access instance variables? | ✅ Yes | ❌ No |\n",
    "| Access class variables? | ✅ Yes | ✅ Yes |\n",
    "| Can modify instance variables? | ✅ Yes | ❌ No |\n",
    "| Can modify class variables? | ✅ Yes | ✅ Yes |\n",
    "| Can be called on the class? | ❌ No | ✅ Yes |\n",
    "\n",
    "Would you like an example with **static methods** as well? 😊"
   ]
  },
  {
   "cell_type": "code",
   "execution_count": null,
   "metadata": {},
   "outputs": [],
   "source": [
    "class MyClass:\n",
    "    class_variable = \"I am a class variable\"\n",
    "\n",
    "    def __init__(self, value):\n",
    "        self.instance_variable = value  # Instance variable\n",
    "\n",
    "    def instance_method(self):\n",
    "        \"\"\"Instance method can access instance and class variables.\"\"\"\n",
    "        print(f\"Instance Method: instance_variable = {self.instance_variable}\")\n",
    "        print(f\"Instance Method: class_variable = {MyClass.class_variable}\")\n",
    "\n",
    "    @classmethod\n",
    "    def class_method(cls):\n",
    "        \"\"\"Class method can access class variables but not instance variables.\"\"\"\n",
    "        print(f\"Class Method: class_variable = {MyClass.class_variable}\")\n",
    "        MyClass.class_variable='I am a class variable after changing the class variable'\n",
    "        print(f\"Class Method After changin: class_variable = {cls.class_variable}\")\n",
    "        # print(self.instance_variable)  # ❌ This would raise an error\n",
    "\n",
    "# Creating an instance\n",
    "obj = MyClass(\"Hello\")\n",
    "\n",
    "# Calling instance method\n",
    "obj.instance_method()\n",
    "\n",
    "# Calling class method\n",
    "MyClass.class_method()  # Calling directly on the class\n",
    "obj.class_method()  # Can also be called using an instance, but works on class level\n",
    " "
   ]
  },
  {
   "cell_type": "code",
   "execution_count": 16,
   "metadata": {},
   "outputs": [
    {
     "name": "stdout",
     "output_type": "stream",
     "text": [
      "Instance Method: instance_variable = Hello\n",
      "Instance Method: class_variable = I am a class variable\n",
      "Class Method: class_variable = I am a class variable\n",
      "Class Method After changin: class_variable = I am a class variable after changing the class variable\n",
      "Class Method: class_variable = I am a class variable after changing the class variable\n",
      "Class Method After changin: class_variable = I am a class variable after changing the class variable\n"
     ]
    }
   ],
   "source": [
    "class MyClass:\n",
    "    class_variable = \"I am a class variable\"\n",
    "\n",
    "    def __init__(self, value):\n",
    "        self.instance_variable = value  # Instance variable\n",
    "\n",
    "    def instance_method(self):\n",
    "        \"\"\"Instance method can access instance and class variables.\"\"\"\n",
    "        print(f\"Instance Method: instance_variable = {self.instance_variable}\")\n",
    "        print(f\"Instance Method: class_variable = {MyClass.class_variable}\")\n",
    "\n",
    "    @classmethod\n",
    "    def class_method(cls):\n",
    "        \"\"\"Class method can access class variables but not instance variables.\"\"\"\n",
    "        print(f\"Class Method: class_variable = {MyClass.class_variable}\")\n",
    "        cls.class_variable='I am a class variable after changing the class variable'\n",
    "        print(f\"Class Method After changin: class_variable = {cls.class_variable}\")\n",
    "        # print(self.instance_variable)  # ❌ This would raise an error\n",
    "\n",
    "# Creating an instance\n",
    "obj = MyClass(\"Hello\")\n",
    "\n",
    "# Calling instance method\n",
    "obj.instance_method()\n",
    "\n",
    "# Calling class method\n",
    "MyClass.class_method()  # Calling directly on the class\n",
    "obj.class_method()  # Can also be called using an instance, but works on class level\n",
    " "
   ]
  },
  {
   "cell_type": "code",
   "execution_count": 1,
   "metadata": {},
   "outputs": [
    {
     "name": "stdout",
     "output_type": "stream",
     "text": [
      "Human\n",
      "Human\n",
      "Ali\n",
      "Sara\n",
      "Hello, my name is Ali and I am 25 years old.\n",
      "Hello, my name is Sara and I am 30 years old.\n"
     ]
    }
   ],
   "source": [
    "class Person:\n",
    "    # Class attribute (shared by all instances)\n",
    "    species = \"Human\"\n",
    "\n",
    "    # Instance attributes (specific to each instance)\n",
    "    def __init__(self, name, age):\n",
    "        self.name = name  # instance attribute\n",
    "        self.age = age    # instance attribute\n",
    "\n",
    "    # Instance method (performs an action using instance attributes)\n",
    "    def introduce(self):\n",
    "        return f\"Hello, my name is {self.name} and I am {self.age} years old.\"\n",
    "\n",
    "# Creating instances (objects) of the Person class\n",
    "person1 = Person(\"Ali\", 25)\n",
    "person2 = Person(\"Sara\", 30)\n",
    "\n",
    "# Accessing class attribute\n",
    "print(person1.species)  # Output: Human\n",
    "print(person2.species)  # Output: Human\n",
    "\n",
    "# Accessing instance attributes\n",
    "print(person1.name)     # Output: Ali\n",
    "print(person2.name)     # Output: Sara\n",
    "\n",
    "# Calling instance method\n",
    "print(person1.introduce())  # Output: Hello, my name is Ali and I am 25 years old.\n",
    "print(person2.introduce())  # Output: Hello, my name is Sara and I am 30 years old.\n"
   ]
  },
  {
   "cell_type": "markdown",
   "metadata": {},
   "source": [
    "### 3. **The `__init__` Method (Constructor)**\n",
    "   - The special method that is automatically invoked when a new object of the class is created. It initializes the object’s attributes.\n",
    "  "
   ]
  },
  {
   "cell_type": "code",
   "execution_count": 2,
   "metadata": {},
   "outputs": [
    {
     "name": "stdout",
     "output_type": "stream",
     "text": [
      "Making a Chiar...\n"
     ]
    }
   ],
   "source": [
    "class Wood:\n",
    "    def make_chiar(self):\n",
    "        return \"Making a Chiar...\"\n",
    "        \n",
    "wood_call = Wood()\n",
    "print(wood_call.make_chiar())          "
   ]
  },
  {
   "cell_type": "markdown",
   "metadata": {},
   "source": [
    "\n",
    "### **Instance Methods, Class Method and Static Method** in Python\n",
    "\n",
    "#### 1. **Instance Methods** :\n",
    "These are the most common methods in OOP. They take `self` as the first parameter, which represents the specific instance of the class. This allows them to access and modify instance attributes.\n",
    "\n",
    "#### 2. **Class Methods**:\n",
    "- A **class method** takes `cls` (representing the class itself) as the first parameter instead of `self`.\n",
    "- It can modify class-level attributes but cannot access instance-level attributes directly.\n",
    "- It is defined using the `@classmethod` decorator.\n",
    "\n",
    "#### 3. **Static Methods**:\n",
    "- A **static method** does not take `self` or `cls` as the first parameter.\n",
    "- It cannot modify class or instance attributes but is still related to the class conceptually.\n",
    "- It is defined using the `@staticmethod` decorator.\n",
    " \n",
    " \n",
    "### Explanation:\n",
    "1. **Instance Method (`introduce`)**:\n",
    "   - Works on instance attributes `self.name` and `self.age` and provides a personalized introduction for each instance.\n",
    "\n",
    "2. **Class Method (`change_species`)**:\n",
    "   - Takes `cls` as the first parameter (refers to the class itself).\n",
    "   - Modifies the class-level attribute `species` for all instances of the class. In the example, we changed the species from `\"Human\"` to `\"Superhuman\"` for all instances of `Person`.\n",
    "\n",
    "3. **Static Method (`is_adult`)**:\n",
    "   - Does not operate on instance or class attributes.\n",
    "   - Acts as a general utility function that checks whether a person is an adult (based on age).\n",
    "   - It can be called using the class name directly (i.e., `Person.is_adult()`) or via an instance, but it has no direct access to either `self` or `cls`.\n",
    "\n",
    " \n",
    "### Real-Life Analogy:\n",
    "\n",
    "- **Instance Method**: Imagine a student introducing themselves. The method only works with that student's data (name, age, etc.).\n",
    "  \n",
    "- **Class Method**: Think of it like a rule that applies to all students in a class. If the school decides to change all students' uniforms, it's a class-wide change, not specific to an individual student.\n",
    "\n",
    "- **Static Method**: This is like a general function or rule that students can follow, like checking whether they are eligible to vote. It doesn't change anything about the student or the school, but it provides useful information.\n",
    "\n"
   ]
  },
  {
   "cell_type": "code",
   "execution_count": 40,
   "metadata": {},
   "outputs": [
    {
     "name": "stdout",
     "output_type": "stream",
     "text": [
      "Human\n",
      "newSuperhuman\n",
      "Hello, my name is Ali and I am 25 years old.\n",
      "Hello, my name is Sara and I am 16 years old.\n",
      "True\n",
      "False\n",
      "newSuperhuman\n",
      "Superhuman\n"
     ]
    }
   ],
   "source": [
    "class Person:\n",
    "    species = \"Human\"  # Class attribute shared by all instances\n",
    "\n",
    "    # Constructor to initialize instance attributes\n",
    "    def __init__(self, name, age):\n",
    "        self.name = name\n",
    "        self.age = age\n",
    "\n",
    "    # Instance method (operates on instance attributes)\n",
    "    def introduce(self):\n",
    "        return f\"Hello, my name is {self.name} and I am {self.age} years old.\"\n",
    "\n",
    "    # Class method (operates on class attributes)\n",
    "    @classmethod\n",
    "    def change_species(cls, new_species):\n",
    "        cls.species = new_species  # Modify class attribute\n",
    "     \n",
    "    # Static method (general utility method)\n",
    "    @staticmethod\n",
    "    def is_adult(age):\n",
    "        return age >= 18  # Determines if age qualifies as adult\n",
    "\n",
    "\n",
    "# Example usage\n",
    "# Creating an instance of the Person class\n",
    "person1 = Person(\"Ali\", 25)\n",
    "person2 = Person(\"Sara\", 16)\n",
    "\n",
    "person1.species = \"newSuperhuman\" \n",
    "print(Person.species)     # Output: newSuperhuman\n",
    "print(person1.species)     # Output: newSuperhuman\n",
    "# Calling the instance method\n",
    "print(person1.introduce())  # Output: Hello, my name is Ali and I am 25 years old.\n",
    "print(person2.introduce())  # Output: Hello, my name is Sara and I am 16 years old.\n",
    "\n",
    "# Calling the static method (can be called without creating an instance)\n",
    "print(Person.is_adult(25))  # Output: True\n",
    "print(Person.is_adult(16))  # Output: False\n",
    "\n",
    "# Calling the class method to change the species for all instances\n",
    "Person.change_species(\"Superhuman\")\n",
    "\n",
    "# Now species has been changed for all instances\n",
    "print(person1.species)  # Output: Superhuman\n",
    "print(person2.species)  # Output: Superhuman\n",
    "\n"
   ]
  },
  {
   "cell_type": "markdown",
   "metadata": {},
   "source": []
  },
  {
   "cell_type": "markdown",
   "metadata": {},
   "source": [
    " \n",
    "### **What is a Static Method in Python?**\n",
    "A **static method** is a method inside a class that does **not depend on instance (object) or class attributes**. It behaves like a **regular function** but belongs to a class for organizational purposes.\n",
    "\n",
    "- It is defined using the `@staticmethod` decorator.\n",
    "- It **does not take `self` (instance reference) or `cls` (class reference) as parameters**.\n",
    "- It **cannot modify or access instance attributes or class attributes directly**.\n",
    "\n",
    "---\n",
    "\n",
    "### **Example of a Static Method**\n",
    "```python\n",
    "class MathOperations:\n",
    "    @staticmethod\n",
    "    def add(x, y):\n",
    "        \"\"\"This method does not use self or cls.\"\"\"\n",
    "        return x + y\n",
    "\n",
    "# Calling the static method\n",
    "result = MathOperations.add(10, 5)\n",
    "print(f\"Sum: {result}\")  # Output: Sum: 15\n",
    "```\n",
    "\n",
    "✅ **Why use a static method?**  \n",
    "- It is used when you don't need to access or modify instance/class attributes.\n",
    "- It helps in **code organization** inside a class rather than defining a function globally.\n",
    "\n",
    "---\n",
    "\n",
    "### **Can a Static Method Access Class or Instance Attributes?**\n",
    "🚫 **No, a static method cannot directly access instance (`self`) or class (`cls`) attributes.**  \n",
    "However, you can pass them as arguments if needed.\n",
    "\n",
    "#### **Example of Restricted Access**\n",
    "```python\n",
    "class Example:\n",
    "    class_variable = \"Hello\"\n",
    "\n",
    "    def __init__(self, value):\n",
    "        self.instance_variable = value\n",
    "\n",
    "    @staticmethod\n",
    "    def static_method():\n",
    "        \"\"\"Cannot access instance or class attributes directly.\"\"\"\n",
    "        # print(self.instance_variable)  # ❌ This will cause an error\n",
    "        # print(cls.class_variable)  # ❌ This will cause an error\n",
    "        print(\"Static method called!\")\n",
    "\n",
    "# Creating an object\n",
    "obj = Example(\"Test\")\n",
    "\n",
    "# Calling static method\n",
    "obj.static_method()\n",
    "Example.static_method()\n",
    "```\n",
    "\n",
    "✅ **Solution: Pass them as arguments**  \n",
    "If you need to use instance or class attributes, pass them explicitly:\n",
    "```python\n",
    "class Example:\n",
    "    class_variable = \"Hello\"\n",
    "\n",
    "    def __init__(self, value):\n",
    "        self.instance_variable = value\n",
    "\n",
    "    @staticmethod\n",
    "    def static_method(value):\n",
    "        \"\"\"Access instance or class attributes via arguments.\"\"\"\n",
    "        print(f\"Static method received: {value}\")\n",
    "\n",
    "# Creating an object\n",
    "obj = Example(\"Test\")\n",
    "\n",
    "# Calling static method with instance attribute\n",
    "Example.static_method(obj.instance_variable)\n",
    "\n",
    "# Calling static method with class attribute\n",
    "Example.static_method(Example.class_variable)\n",
    "```\n",
    "\n",
    "### **Summary**\n",
    "| Feature          | Instance Method | Class Method | Static Method |\n",
    "|-----------------|---------------|-------------|--------------|\n",
    "| Takes `self`?   | ✅ Yes | ❌ No | ❌ No |\n",
    "| Takes `cls`?    | ❌ No | ✅ Yes | ❌ No |\n",
    "| Access instance variables? | ✅ Yes | ❌ No | ❌ No |\n",
    "| Access class variables? | ✅ Yes | ✅ Yes | ❌ No |\n",
    "| Can modify instance variables? | ✅ Yes | ❌ No | ❌ No |\n",
    "| Can modify class variables? | ✅ Yes | ✅ Yes | ❌ No |\n",
    "| Can be called on the class? | ❌ No | ✅ Yes | ✅ Yes |\n",
    "\n",
    " "
   ]
  },
  {
   "cell_type": "code",
   "execution_count": 5,
   "metadata": {},
   "outputs": [
    {
     "name": "stdout",
     "output_type": "stream",
     "text": [
      "Static method received: Test\n",
      "Static method received: Hello\n",
      "Static method received: Hello\n"
     ]
    }
   ],
   "source": [
    "class Example:\n",
    "    class_variable = \"Hello\"\n",
    "\n",
    "    def __init__(self, value):\n",
    "        self.instance_variable = value\n",
    "\n",
    "    @staticmethod\n",
    "    def static_method(value):\n",
    "        \"\"\"Access instance or class attributes via arguments.\"\"\"\n",
    "        print(f\"Static method received: {value}\")\n",
    "\n",
    "# Creating an object\n",
    "obj = Example(\"Test\")\n",
    "\n",
    "# Calling static method with instance attribute\n",
    "Example.static_method(obj.instance_variable)\n",
    "\n",
    "# Calling static method with class attribute\n",
    "Example.static_method(Example.class_variable)\n",
    "# OR\n",
    "\n",
    "Example.static_method(obj.class_variable)\n"
   ]
  },
  {
   "cell_type": "code",
   "execution_count": 8,
   "metadata": {},
   "outputs": [
    {
     "name": "stdout",
     "output_type": "stream",
     "text": [
      "Total cars created: 0\n"
     ]
    }
   ],
   "source": [
    "class Car:\n",
    "    total_cars = 0\n",
    "\n",
    "    def __init__(self, brand, model):\n",
    "        self.brand = brand\n",
    "        self.model = model\n",
    "        Car.total_cars += 1\n",
    "    @staticmethod\n",
    "    def car_count():  # Regular method\n",
    "        return f\"Total cars created: {Car.total_cars}\"\n",
    "\n",
    "class ElectricCar(Car):\n",
    "    pass\n",
    "\n",
    " \n",
    "print(Car.car_count())  "
   ]
  },
  {
   "cell_type": "code",
   "execution_count": 10,
   "metadata": {},
   "outputs": [
    {
     "name": "stdout",
     "output_type": "stream",
     "text": [
      "Total cars created: 0\n"
     ]
    }
   ],
   "source": [
    "class Car:\n",
    "    total_cars = 0\n",
    "\n",
    "    def __init__(self, brand, model):\n",
    "        self.brand = brand\n",
    "        self.model = model\n",
    "        Car.total_cars += 1\n",
    "    @staticmethod\n",
    "    def car_count():  # Regular method\n",
    "        return f\"Total cars created: {Car.total_cars}\"\n",
    "\n",
    "class ElectricCar(Car):\n",
    "    pass\n",
    "print(Car.car_count()) \n",
    "car1 = Car(\"Tesla\", \"Model S\")\n",
    "  "
   ]
  },
  {
   "cell_type": "code",
   "execution_count": 12,
   "metadata": {},
   "outputs": [
    {
     "name": "stdout",
     "output_type": "stream",
     "text": [
      "Total cars created: 2\n"
     ]
    }
   ],
   "source": [
    "class Car:\n",
    "    total_cars = 0\n",
    "\n",
    "    def __init__(self, brand, model):\n",
    "        self.brand = brand\n",
    "        self.model = model\n",
    "        Car.total_cars += 1\n",
    "    @staticmethod\n",
    "    def car_count():  # Regular method\n",
    "        return f\"Total cars created: {Car.total_cars}\"\n",
    "\n",
    "class ElectricCar(Car):\n",
    "    pass\n",
    "\n",
    "# Example usage\n",
    "car1 = Car(\"Tesla\", \"Model S\")\n",
    "car1 = ElectricCar(\"Tesla\", \"Model S\")\n",
    "print(Car.car_count())   "
   ]
  },
  {
   "cell_type": "code",
   "execution_count": 13,
   "metadata": {},
   "outputs": [
    {
     "name": "stdout",
     "output_type": "stream",
     "text": [
      "Total cars created: 0\n",
      "Tesla\n"
     ]
    }
   ],
   "source": [
    "class Car:\n",
    "    total_cars = 0\n",
    "\n",
    "    def __init__(self, brand, model):\n",
    "        self.brand = brand\n",
    "        self.model = model\n",
    "        Car.total_cars += 1\n",
    "    @staticmethod\n",
    "    def car_count():  # Regular method\n",
    "        return f\"Total cars created: {Car.total_cars}\"\n",
    "\n",
    "class ElectricCar(Car):\n",
    "    pass\n",
    "print(ElectricCar.car_count()) \n",
    "car1 = ElectricCar(\"Tesla\", \"Model S\")\n",
    "print(car1.brand)\n",
    "  "
   ]
  },
  {
   "cell_type": "code",
   "execution_count": 15,
   "metadata": {},
   "outputs": [
    {
     "name": "stdout",
     "output_type": "stream",
     "text": [
      "Total cars created: 3\n",
      "Total electric cars created: 2\n"
     ]
    }
   ],
   "source": [
    "class Car:\n",
    "    total_cars = 0  # Shared by all Car instances\n",
    "\n",
    "    def __init__(self, brand, model):\n",
    "        self.brand = brand\n",
    "        self.model = model\n",
    "        Car.total_cars += 1\n",
    "\n",
    "    @classmethod\n",
    "    def car_count(cls):  # Class method to count total cars\n",
    "        return f\"Total cars created: {cls.total_cars}\"\n",
    "\n",
    "\n",
    "# Subclass with its own counter\n",
    "class ElectricCar(Car):\n",
    "    total_electric_cars = 0  # Specific to ElectricCar instances\n",
    "\n",
    "    def __init__(self, brand, model):\n",
    "        super().__init__(brand, model)  # Call the parent constructor\n",
    "        ElectricCar.total_electric_cars += 1\n",
    "\n",
    "    @classmethod\n",
    "    def electric_car_count(cls):  # Class method to count electric cars\n",
    "        return f\"Total electric cars created: {cls.total_electric_cars}\"\n",
    "\n",
    "\n",
    "# Example usage\n",
    "car1 = Car(\"Toyota\", \"Corolla\")  # Regular car\n",
    "car2 = ElectricCar(\"Tesla\", \"Model S\")  # Electric car\n",
    "car3 = ElectricCar(\"Nissan\", \"Leaf\")  # Electric car\n",
    "\n",
    "# Print total cars and total electric cars\n",
    "print(Car.car_count())           # Output: Total cars created: 3\n",
    "print(ElectricCar.electric_car_count())  # Output: Total electric cars created: 2\n"
   ]
  },
  {
   "cell_type": "code",
   "execution_count": 18,
   "metadata": {},
   "outputs": [
    {
     "name": "stdout",
     "output_type": "stream",
     "text": [
      "Total cars created: 3\n",
      "Total electric cars created: 1\n"
     ]
    }
   ],
   "source": [
    "class Car:\n",
    "    total_cars = 0  # Shared by all Car instances\n",
    "\n",
    "    def __init__(self, brand, model):\n",
    "        self.brand = brand\n",
    "        self.model = model\n",
    "        Car.total_cars += 1\n",
    "\n",
    "    @classmethod\n",
    "    def car_count(cls):  # Class method to count total cars\n",
    "        return f\"Total cars created: {cls.total_cars}\"\n",
    "\n",
    "\n",
    "# Subclass with its own counter\n",
    "class ElectricCar(Car):\n",
    "    total_electric_cars = 0  # Specific to ElectricCar instances\n",
    "\n",
    "    def __init__(self, brand, model):\n",
    "        super().__init__(brand, model)  # Call the parent constructor\n",
    "        \n",
    "\n",
    "    @classmethod\n",
    "    def electric_car_count(cls):  # Class method to count electric cars\n",
    "        ElectricCar.total_electric_cars += 1\n",
    "        return f\"Total electric cars created: {cls.total_electric_cars}\"\n",
    "\n",
    "\n",
    "# Example usage\n",
    "car1 = Car(\"Toyota\", \"Corolla\")  # Regular car\n",
    "car2 = ElectricCar(\"Tesla\", \"Model S\")  # Electric car\n",
    "car3 = ElectricCar(\"Nissan\", \"Leaf\")  # Electric car\n",
    "\n",
    "# Print total cars and total electric cars\n",
    "print(Car.car_count())           # Output: Total cars created: 3\n",
    "print(ElectricCar.electric_car_count())  # Output: Total electric cars created: 2\n"
   ]
  },
  {
   "cell_type": "code",
   "execution_count": 68,
   "metadata": {},
   "outputs": [
    {
     "name": "stdout",
     "output_type": "stream",
     "text": [
      "Toyota Corolla\n"
     ]
    }
   ],
   "source": [
    "class Car:\n",
    "    def __init__(self, brand, model):\n",
    "        self.brand = brand\n",
    "        self.model = model\n",
    "    \n",
    "    @classmethod\n",
    "    def from_string(cls, car_str):\n",
    "        brand, model = car_str.split('-')\n",
    "        return cls(brand, model)\n",
    "\n",
    "car = Car.from_string(\"Toyota-Corolla\")\n",
    "print(car.brand, car.model)  # Output: Toyota Corolla"
   ]
  },
  {
   "cell_type": "code",
   "execution_count": 73,
   "metadata": {},
   "outputs": [
    {
     "name": "stdout",
     "output_type": "stream",
     "text": [
      "This is an instance method\n"
     ]
    },
    {
     "ename": "TypeError",
     "evalue": "Vehicle.display_message() missing 1 required positional argument: 'self'",
     "output_type": "error",
     "traceback": [
      "\u001b[1;31m---------------------------------------------------------------------------\u001b[0m",
      "\u001b[1;31mTypeError\u001b[0m                                 Traceback (most recent call last)",
      "Cell \u001b[1;32mIn[73], line 15\u001b[0m\n\u001b[0;32m     11\u001b[0m \u001b[38;5;28mprint\u001b[39m(vehicle\u001b[38;5;241m.\u001b[39mdisplay_message())  \u001b[38;5;66;03m# Output: This is an instance method\u001b[39;00m\n\u001b[0;32m     13\u001b[0m \u001b[38;5;66;03m# Incorrect way to call an instance method\u001b[39;00m\n\u001b[0;32m     14\u001b[0m \u001b[38;5;66;03m# This will raise an error because the method expects 'self'\u001b[39;00m\n\u001b[1;32m---> 15\u001b[0m \u001b[38;5;28mprint\u001b[39m(\u001b[43mVehicle\u001b[49m\u001b[38;5;241;43m.\u001b[39;49m\u001b[43mdisplay_message\u001b[49m\u001b[43m(\u001b[49m\u001b[43m)\u001b[49m)  \u001b[38;5;66;03m# TypeError: display_message() missing 1 required positional argument: 'self'\u001b[39;00m\n",
      "\u001b[1;31mTypeError\u001b[0m: Vehicle.display_message() missing 1 required positional argument: 'self'"
     ]
    }
   ],
   "source": [
    "class Vehicle:\n",
    "    def __init__(self, brand, model):\n",
    "        self.brand = brand\n",
    "        self.model = model\n",
    "    \n",
    "    def display_message(self):  # Instance method\n",
    "        return \"This is an instance method\"\n",
    "\n",
    "# Correct way to call an instance method\n",
    "vehicle = Vehicle(\"Toyota\", \"Corolla\")\n",
    "print(vehicle.display_message())  # Output: This is an instance method\n",
    "\n",
    "# Incorrect way to call an instance method\n",
    "# This will raise an error because the method expects 'self'\n",
    "print(Vehicle.display_message())  # TypeError: display_message() missing 1 required positional argument: 'self'\n"
   ]
  },
  {
   "cell_type": "code",
   "execution_count": 74,
   "metadata": {},
   "outputs": [
    {
     "name": "stdout",
     "output_type": "stream",
     "text": [
      "This is a static method\n",
      "This is a static method\n"
     ]
    }
   ],
   "source": [
    "class Vehicle:\n",
    "    def __init__(self, brand, model):\n",
    "        self.brand = brand\n",
    "        self.model = model\n",
    "    \n",
    "    @staticmethod\n",
    "    def display_message():  # Static method\n",
    "        return \"This is a static method\"\n",
    "\n",
    "# Correct way to call a static method (both from class and instance)\n",
    "print(Vehicle.display_message())  # Output: This is a static method\n",
    "vehicle = Vehicle(\"Toyota\", \"Corolla\")\n",
    "print(vehicle.display_message())  # Output: This is a static method\n"
   ]
  },
  {
   "cell_type": "code",
   "execution_count": 75,
   "metadata": {},
   "outputs": [
    {
     "name": "stdout",
     "output_type": "stream",
     "text": [
      "Total vehicles created: 0\n",
      "Total vehicles created: 1\n"
     ]
    }
   ],
   "source": [
    "class Vehicle:\n",
    "    total_vehicles = 0\n",
    "\n",
    "    def __init__(self, brand, model):\n",
    "        self.brand = brand\n",
    "        self.model = model\n",
    "        Vehicle.total_vehicles += 1\n",
    "    \n",
    "    @classmethod\n",
    "    def display_message(cls):  # Class method\n",
    "        return f\"Total vehicles created: {cls.total_vehicles}\"\n",
    "\n",
    "# Correct way to call a class method (both from class and instance)\n",
    "print(Vehicle.display_message())  # Output: Total vehicles created: 0\n",
    "vehicle = Vehicle(\"Toyota\", \"Corolla\")\n",
    "print(vehicle.display_message())  # Output: Total vehicles created: 1\n"
   ]
  },
  {
   "cell_type": "markdown",
   "metadata": {},
   "source": [
    "### 4. **Encapsulation**\n",
    "   - The concept of bundling data (attributes) and methods (functions) that operate on the data within a single unit or class. This hides the internal representation and restricts access.\n",
    "   - **Private Attributes**: Use underscore (`_`) to indicate private attributes.\n",
    "   - **Getter and Setter Methods**: Used to access and modify private attributes."
   ]
  },
  {
   "cell_type": "markdown",
   "metadata": {},
   "source": [
    "### Inheritance in Python\n",
    "\n",
    "**Inheritance** is a key concept in Object-Oriented Programming (OOP) where a class can **inherit** attributes and methods from another class. The class that inherits is called the **child class** (or subclass), and the class from which it inherits is called the **parent class** (or superclass).\n",
    "\n",
    "Inheritance allows code reuse and helps in organizing related classes.\n",
    "\n",
    "### Key Topics in Inheritance:\n",
    "\n",
    "1. **Single Inheritance**\n",
    "2. **Multiple Inheritance**\n",
    "3. **Method Overriding**\n",
    "4. **Using `super()`**"
   ]
  },
  {
   "cell_type": "markdown",
   "metadata": {},
   "source": [
    "### 1. **Single Inheritance**\n",
    "\n",
    "**Single Inheritance** means that a class inherits from a single parent class. The child class inherits the attributes and methods of the parent class.\n",
    "\n",
    "#### Example:"
   ]
  },
  {
   "cell_type": "code",
   "execution_count": 10,
   "metadata": {},
   "outputs": [
    {
     "name": "stdout",
     "output_type": "stream",
     "text": [
      "Buddy makes a sound.\n",
      "Golden Retriever\n"
     ]
    }
   ],
   "source": [
    "# Parent class (or Superclass)\n",
    "class Animal:\n",
    "    def __init__(self, name):\n",
    "        self.name = name\n",
    "\n",
    "    def speak(self):\n",
    "        return f\"{self.name} makes a sound.\"\n",
    "\n",
    "# Child class (or Subclass) inheriting from Animal\n",
    "class Dog(Animal):\n",
    "    def __init__(self, name, breed):\n",
    "        super().__init__(name)  # Call the constructor of the parent class\n",
    "        self.breed = breed\n",
    "\n",
    "# Creating an instance of Dog\n",
    "dog = Dog(\"Buddy\", \"Golden Retriever\")\n",
    "\n",
    "# Accessing inherited methods\n",
    "print(dog.speak())  # Output: Buddy makes a sound.\n",
    "print(dog.breed)    # Output: Golden Retriever    \n",
    " \n",
    "\n",
    " "
   ]
  },
  {
   "cell_type": "markdown",
   "metadata": {},
   "source": [
    " \n",
    "\n",
    "#### Explanation:\n",
    "- The `Dog` class inherits from the `Animal` class.\n",
    "- The `Dog` class can use the `speak()` method from the `Animal` class, demonstrating inheritance.\n",
    "- The `super().__init__(name)` is used to call the constructor of the parent class to initialize the `name` attribute.\n",
    "\n",
    " "
   ]
  },
  {
   "cell_type": "markdown",
   "metadata": {},
   "source": [
    "### 2. **Multiple Inheritance**\n",
    "\n",
    "**Multiple Inheritance** means a class can inherit from more than one parent class. This is a powerful feature in Python but should be used carefully to avoid complexity.\n",
    "\n",
    "#### Example:"
   ]
  },
  {
   "cell_type": "code",
   "execution_count": null,
   "metadata": {},
   "outputs": [],
   "source": [
    "# Parent class 1\n",
    "class Flyable:\n",
    "    def fly(self):\n",
    "        return \"I can fly.\"\n",
    "\n",
    "# Parent class 2\n",
    "class Swimmable:\n",
    "    def swim(self):\n",
    "        return \"I can swim.\"\n",
    "\n",
    "# Child class inheriting from both Flyable and Swimmable\n",
    "class Duck(Flyable, Swimmable):\n",
    "    def quack(self):\n",
    "        return \"I can quack.\"\n",
    "\n",
    "# Creating an instance of Duck\n",
    "duck = Duck()\n",
    "\n",
    "# Accessing methods from both parent classes\n",
    "print(duck.fly())    # Output: I can fly.\n",
    "print(duck.swim())   # Output: I can swim.\n",
    "print(duck.quack())  # Output: I can quack."
   ]
  },
  {
   "cell_type": "markdown",
   "metadata": {},
   "source": [
    "#### Explanation:\n",
    "- The `Duck` class inherits from both `Flyable` and `Swimmable` classes.\n",
    "- It can access methods from both parent classes, demonstrating **multiple inheritance**.\n",
    "\n",
    "### **Important Note**:\n",
    "- Multiple inheritance can lead to complexity, especially with method resolution (which method is called when a method exists in both parent classes). Python uses the **Method Resolution Order (MRO)** to determine this.\n"
   ]
  },
  {
   "cell_type": "markdown",
   "metadata": {},
   "source": [
    "### 3. **Method Overriding**\n",
    "\n",
    "**Method Overriding** occurs when a child class provides its own implementation of a method that already exists in the parent class. The method in the child class **overrides** the one in the parent class.\n",
    "\n",
    "#### Example:"
   ]
  },
  {
   "cell_type": "code",
   "execution_count": 11,
   "metadata": {},
   "outputs": [
    {
     "name": "stdout",
     "output_type": "stream",
     "text": [
      "Dog barks.\n",
      "Cat meows.\n"
     ]
    }
   ],
   "source": [
    "class Animal:\n",
    "    def speak(self):\n",
    "        return \"Animal makes a sound.\"\n",
    "\n",
    "# Dog class overrides the speak() method of Animal class\n",
    "class Dog(Animal):\n",
    "    def speak(self):\n",
    "        return \"Dog barks.\"\n",
    "\n",
    "# Cat class overrides the speak() method of Animal class\n",
    "class Cat(Animal):\n",
    "    def speak(self):\n",
    "        return \"Cat meows.\"\n",
    "\n",
    "# Creating instances\n",
    "dog = Dog()\n",
    "cat = Cat()\n",
    "\n",
    "# Calling the overridden methods\n",
    "print(dog.speak())  # Output: Dog barks.\n",
    "print(cat.speak())  # Output: Cat meows."
   ]
  },
  {
   "cell_type": "markdown",
   "metadata": {},
   "source": [
    "#### Explanation:\n",
    "- Both `Dog` and `Cat` classes override the `speak()` method from the `Animal` class.\n",
    "- Even though `Dog` and `Cat` are inherited from `Animal`, they provide their own version of the `speak()` method.\n"
   ]
  },
  {
   "cell_type": "markdown",
   "metadata": {},
   "source": [
    "### 4. **Using `super()`**\n",
    "\n",
    "The `super()` function is used to call methods from the parent class. It is especially useful when you want to extend or modify the behavior of the parent class's methods in the child class without completely overriding them.\n",
    "\n",
    "#### Example:"
   ]
  },
  {
   "cell_type": "code",
   "execution_count": 76,
   "metadata": {},
   "outputs": [
    {
     "name": "stdout",
     "output_type": "stream",
     "text": [
      "Buddy makes a sound. Dog barks.\n"
     ]
    }
   ],
   "source": [
    "class Animal:\n",
    "    def __init__(self, name):\n",
    "        self.name = name\n",
    "\n",
    "    def speak(self):\n",
    "        return f\"{self.name} makes a sound.\"\n",
    "\n",
    "# Dog class overrides speak() method and uses super() to call the parent class method\n",
    "class Dog(Animal):\n",
    "    def __init__(self, name, breed):\n",
    "        super().__init__(name)  # Call parent class constructor\n",
    "        self.breed = breed\n",
    "\n",
    "    def speak(self):\n",
    "        # Use super() to extend the parent class method\n",
    "        parent_speech = super().speak()  # Call the parent class speak()\n",
    "        return f\"{parent_speech} Dog barks.\"\n",
    "\n",
    "# Creating an instance of Dog\n",
    "dog = Dog(\"Buddy\", \"Golden Retriever\")\n",
    "\n",
    "# Calling the overridden method with super()\n",
    "print(dog.speak())  # Output: Buddy makes a sound. Dog barks."
   ]
  },
  {
   "cell_type": "markdown",
   "metadata": {},
   "source": [
    "\n",
    "#### Explanation:\n",
    "- `super()` allows the `Dog` class to first call the `speak()` method from the `Animal` class, then adds its own behavior (`Dog barks.`).\n",
    "- This is useful when you want to extend functionality rather than completely replacing it.\n"
   ]
  },
  {
   "cell_type": "markdown",
   "metadata": {},
   "source": [
    "### Key Points:\n",
    "1. **Single Inheritance**: Inheriting from one parent class.\n",
    "2. **Multiple Inheritance**: Inheriting from multiple parent classes.\n",
    "3. **Method Overriding**: Child class provides its own implementation of a parent class method.\n",
    "4. **Using `super()`**: Used to call a method from the parent class inside the child class, often to extend the parent’s method.\n",
    "\n",
    "\n",
    "\n",
    "### Real-World Analogy:\n",
    "- **Single Inheritance**: If you learn cooking from your mother, and you inherit all her skills, this is single inheritance.\n",
    "- **Multiple Inheritance**: If you learn cooking from your mother and carpentry from your father, you inherit skills from both parents, which is multiple inheritance.\n",
    "- **Method Overriding**: You might learn a cooking recipe from your mother, but you modify it to your own taste. You’ve overridden the original recipe.\n",
    "- **Using `super()`**: You start cooking the way your mother taught you but add a special spice at the end. You use the original recipe but extend it with your own twist.\n"
   ]
  },
  {
   "cell_type": "markdown",
   "metadata": {},
   "source": [
    "Python follows a specific order to determine the method resolution order (MRO). The MRO defines the order in which Python will look for a method or attribute in the class hierarchy."
   ]
  },
  {
   "cell_type": "code",
   "execution_count": 86,
   "metadata": {},
   "outputs": [
    {
     "name": "stdout",
     "output_type": "stream",
     "text": [
      "[<class '__main__.D'>, <class '__main__.B'>, <class '__main__.C'>, <class '__main__.A'>, <class 'object'>]\n",
      "B\n"
     ]
    }
   ],
   "source": [
    "class A:\n",
    "    def method(self):\n",
    "        print(\"A\")\n",
    "\n",
    "class B(A):\n",
    "    def method(self):\n",
    "        print(\"B\")\n",
    "\n",
    "class C(A):\n",
    "    def method(self):\n",
    "        print(\"C\")\n",
    "\n",
    "class D(B, C):\n",
    "    pass\n",
    "class_d = D()\n",
    "print(D.mro())\n",
    "\n",
    "class_d.method() \n"
   ]
  },
  {
   "cell_type": "code",
   "execution_count": 87,
   "metadata": {},
   "outputs": [
    {
     "name": "stdout",
     "output_type": "stream",
     "text": [
      "[]\n"
     ]
    }
   ],
   "source": [
    "a = [1, 2, 3, 5, 6]\n",
    "print(a[0:2:-1])"
   ]
  },
  {
   "cell_type": "markdown",
   "metadata": {},
   "source": [
    "__str__ is a special method that is used to define the string representation of an object. When you print an object, Python calls this method to get a string representation of the object."
   ]
  },
  {
   "cell_type": "code",
   "execution_count": 3,
   "metadata": {},
   "outputs": [
    {
     "name": "stdout",
     "output_type": "stream",
     "text": [
      "Arman\n",
      "Child Arman: I have completed Bachelor's degree in Mathematics\n",
      "Child: Arman, Title: I have completed Bachelor's degree in Mathematics\n"
     ]
    }
   ],
   "source": [
    "class Father:\n",
    "    age: int = 60\n",
    "    \n",
    "    def __init__(self, name: str) -> None:\n",
    "        self.name = name\n",
    "        print(self.name)\n",
    "        \n",
    "    def height(self, height: int) -> None:\n",
    "        print(f'Father {self.name} has a height of {height} feet')\n",
    "\n",
    "\n",
    "class Child(Father):\n",
    "    def __init__(self, name: str, title: str) -> None:\n",
    "        super().__init__(name)\n",
    "        self.title = title\n",
    "        print(f'Child {self.name}: {self.title}')\n",
    "        \n",
    "    def __str__(self) -> str:\n",
    "        return f'Child: {self.name}, Title: {self.title}'\n",
    "\n",
    "child = Child('Arman', \"I have completed Bachelor's degree in Mathematics\")\n",
    "\n",
    "print(child)   \n"
   ]
  },
  {
   "cell_type": "code",
   "execution_count": 15,
   "metadata": {},
   "outputs": [
    {
     "name": "stdout",
     "output_type": "stream",
     "text": [
      "Animal speaks\n"
     ]
    }
   ],
   "source": [
    "class Animal:\n",
    "    def speak(self):\n",
    "        return \"Animal speaks\"\n",
    "\n",
    "class Dog:\n",
    "    def speak(self):\n",
    "        return \"Woof!\"\n",
    "\n",
    "class Cat:\n",
    "    def speak(self):\n",
    "        return \"Meow!\"\n",
    "class Combine(Animal,Cat,Dog):\n",
    "    pass\n",
    "combine = Combine()\n",
    "print(combine.speak()) "
   ]
  },
  {
   "cell_type": "markdown",
   "metadata": {},
   "source": [
    "# Method Overloading\n",
    "Definition: Method overloading allows a class to have multiple methods with the same name but different parameters (number, type, or order of parameters)."
   ]
  },
  {
   "cell_type": "markdown",
   "metadata": {},
   "source": [
    "Method Overloading in Python\n",
    "Definition: Python does not support traditional method overloading (i.e., having multiple methods with the same name but different parameters) because Python is dynamically typed."
   ]
  },
  {
   "cell_type": "code",
   "execution_count": 24,
   "metadata": {},
   "outputs": [
    {
     "name": "stdout",
     "output_type": "stream",
     "text": [
      "60\n"
     ]
    },
    {
     "ename": "TypeError",
     "evalue": "example.add() missing 1 required positional argument: 'c'",
     "output_type": "error",
     "traceback": [
      "\u001b[1;31m---------------------------------------------------------------------------\u001b[0m",
      "\u001b[1;31mTypeError\u001b[0m                                 Traceback (most recent call last)",
      "Cell \u001b[1;32mIn[24], line 12\u001b[0m\n\u001b[0;32m      9\u001b[0m obj \u001b[38;5;241m=\u001b[39m example()\n\u001b[0;32m     11\u001b[0m \u001b[38;5;28mprint\u001b[39m (obj\u001b[38;5;241m.\u001b[39madd(\u001b[38;5;241m10\u001b[39m,\u001b[38;5;241m20\u001b[39m,\u001b[38;5;241m30\u001b[39m))\n\u001b[1;32m---> 12\u001b[0m \u001b[38;5;28mprint\u001b[39m (\u001b[43mobj\u001b[49m\u001b[38;5;241;43m.\u001b[39;49m\u001b[43madd\u001b[49m\u001b[43m(\u001b[49m\u001b[38;5;241;43m10\u001b[39;49m\u001b[43m,\u001b[49m\u001b[38;5;241;43m20\u001b[39;49m\u001b[43m)\u001b[49m)\n",
      "\u001b[1;31mTypeError\u001b[0m: example.add() missing 1 required positional argument: 'c'"
     ]
    }
   ],
   "source": [
    "class example:\n",
    "   def add(self, a, b):\n",
    "      x = a+b\n",
    "      return x\n",
    "   def add(self, a, b, c):\n",
    "      x = a+b+c\n",
    "      return x\n",
    "\n",
    "obj = example()\n",
    "\n",
    "print (obj.add(10,20,30))\n",
    "print (obj.add(10,20))"
   ]
  },
  {
   "cell_type": "code",
   "execution_count": 23,
   "metadata": {},
   "outputs": [
    {
     "name": "stdout",
     "output_type": "stream",
     "text": [
      "6\n",
      "6.0\n",
      "Hello World\n",
      "[1, 2, 3, 4, 5, 6]\n"
     ]
    }
   ],
   "source": [
    "# Method Overloading\n",
    "from typing import overload ,Union\n",
    "class Addition:\n",
    "    @overload\n",
    "    def add(self,x: int, y: int) -> int:\n",
    "        ...\n",
    "    @overload\n",
    "    def add(self,x: float, y: float) -> float:\n",
    "        ...    \n",
    "    # concatenate two strings\n",
    "    @overload\n",
    "    def add(self,x: str, y: str) ->str:\n",
    "        ...\n",
    "    # Extend the list    \n",
    "    @overload\n",
    "    def add(self,x: list[int],y: list[int]) ->list[int]:\n",
    "        ...\n",
    "        \n",
    "    def add(self,x:str|int|float|list[int],y:str|int|float|list[int])->int|list[int]|str|float|None:\n",
    "        if isinstance(x, int) and isinstance(y, int):\n",
    "            return x + y\n",
    "        elif isinstance(x, float) and isinstance(y, float):\n",
    "            return x + y\n",
    "        elif isinstance(x, str) and isinstance(y, str):\n",
    "            return x + y\n",
    "        elif isinstance(x, list) and isinstance(y, list):\n",
    "            return x + y\n",
    "        else:\n",
    "            raise TypeError(\"Unsupported operand types\")\n",
    "\n",
    "# Test cases\n",
    "funcall =Addition()\n",
    "a_int =funcall.add(3,3)\n",
    "print(a_int)  # Output: 6\n",
    "\n",
    "a_float = funcall.add(3.5, 2.5)\n",
    "print(a_float)  # Output: 6.0\n",
    "\n",
    "a_str = funcall.add(\"Hello\", \" World\")\n",
    "print(a_str)  # Output: Hello World\n",
    "\n",
    "a_list =funcall.add([1, 2, 3], [4, 5, 6])\n",
    "print(a_list)  # Output: [1, 2, 3, 4, 5, 6]\n",
    "#print(add(3,'3') ) # Error message"
   ]
  },
  {
   "cell_type": "markdown",
   "metadata": {},
   "source": [
    "__repr__ Method:\n",
    "\n",
    "This method defines how the object is represented when printed or inspected.\n",
    "It is commonly used for debugging and provides detailed information.\n",
    "Result:\n",
    "\n",
    "When print(vector_sum) is called, Python automatically calls the __repr__ method of the vector_sum object to generate a readable string.\n",
    "Now you can print the entire Vector object in a meaningf"
   ]
  },
  {
   "cell_type": "markdown",
   "metadata": {},
   "source": [
    "# Operator overloading \n",
    "Operator overloading is a programming concept that allows developers to redefine the behavior of operators, such as addition (+), subtraction (-), multiplication (*), and division (/), for user-defined types or classes."
   ]
  },
  {
   "cell_type": "code",
   "execution_count": 29,
   "metadata": {},
   "outputs": [
    {
     "name": "stdout",
     "output_type": "stream",
     "text": [
      "Vector(x=4, y=8, z=12)\n",
      "Vector sum: 4 8 12\n",
      "<class '__main__.Vector'>\n"
     ]
    }
   ],
   "source": [
    "# we have a three vectors and we want to add them together \n",
    "# In python there is no way how we can add a vectors so we can add them by using the operator overloading \n",
    "class Vector:\n",
    "    def __init__(self, x: int, y: int, z: int) -> None:\n",
    "        self.x = x\n",
    "        self.y = y\n",
    "        self.z = z\n",
    "    \n",
    "    def __add__(self, other: 'Vector') -> 'Vector':\n",
    "        if isinstance(other, Vector):\n",
    "            return Vector(self.x + other.x, self.y + other.y, self.z + other.z)\n",
    "        else:\n",
    "            raise TypeError(\"Unsupported operand type for +: 'Vector' and '{}'\".format(type(other).__name__))\n",
    "\n",
    "    def __repr__(self) -> str:\n",
    "        return f\"Vector(x={self.x}, y={self.y}, z={self.z})\"\n",
    "\n",
    "\n",
    "vector1 = Vector(1, 2, 3)\n",
    "vector2 = Vector(1, 2, 3)\n",
    "vector3 = Vector(1, 2, 3)\n",
    "vector4 = Vector(1, 2, 3)\n",
    "\n",
    "vector_sum = vector1 + vector2 + vector3 + vector4\n",
    "print(vector_sum)\n",
    "print(\"Vector sum:\", vector_sum.x , vector_sum.y, vector_sum.z)\n",
    "print(type(vector_sum))\n"
   ]
  },
  {
   "cell_type": "code",
   "execution_count": 30,
   "metadata": {},
   "outputs": [],
   "source": [
    "class Vector:\n",
    "    def __init__(self, x: int, y: int, z: int) -> None:\n",
    "        self.x = x\n",
    "        self.y = y\n",
    "        self.z = z\n",
    "    \n",
    "    def __add__(self, other: 'Vector') -> 'Vector':\n",
    "        if isinstance(other, Vector):\n",
    "            print(f\"Adding: self = ({self.x}, {self.y}, {self.z}), other = ({other.x}, {other.y}, {other.z})\")\n",
    "            return Vector(self.x + other.x, self.y + other.y, self.z + other.z)\n",
    "        else:\n",
    "            raise TypeError(\"Unsupported operand type for +: 'Vector' and '{}'\".format(type(other).__name__))\n"
   ]
  },
  {
   "cell_type": "code",
   "execution_count": 31,
   "metadata": {},
   "outputs": [
    {
     "name": "stdout",
     "output_type": "stream",
     "text": [
      "Adding: self = (1, 2, 3), other = (4, 5, 6)\n",
      "Adding: self = (5, 7, 9), other = (7, 8, 9)\n"
     ]
    }
   ],
   "source": [
    "vector1 = Vector(1, 2, 3)\n",
    "vector2 = Vector(4, 5, 6)\n",
    "vector3 = Vector(7, 8, 9)\n",
    "\n",
    "vector_sum = vector1 + vector2 + vector3\n"
   ]
  },
  {
   "cell_type": "markdown",
   "metadata": {},
   "source": [
    " \n",
    "\n",
    "###  Operator Overriding**\n",
    "- **Definition**: Operator overriding is a specific case of operator overloading where you redefine the behavior of an operator in a subclass that was already defined in its superclass.\n",
    "- **Purpose**: It allows you to customize or extend the behavior of an operator for a subclass.\n",
    "- **How It Works**: You define the same special method (e.g., `__add__`, `__eq__`, etc.) in the subclass to override the behavior inherited from the superclass.\n",
    "\n",
    "#### **Example of Operator Overriding**\n",
    "```python\n",
    "class Animal:\n",
    "    def __init__(self, name):\n",
    "        self.name = name\n",
    "\n",
    "    # Overload the + operator\n",
    "    def __add__(self, other):\n",
    "        return f\"{self.name} and {other.name} are friends\"\n",
    "\n",
    "class Dog(Animal):\n",
    "    # Override the + operator\n",
    "    def __add__(self, other):\n",
    "        return f\"{self.name} and {other.name} are playing together\"\n",
    "\n",
    "# Usage\n",
    "a1 = Animal(\"Generic Animal\")\n",
    "a2 = Animal(\"Another Animal\")\n",
    "print(a1 + a2)  # Output: Generic Animal and Another Animal are friends\n",
    "\n",
    "d1 = Dog(\"Buddy\")\n",
    "d2 = Dog(\"Max\")\n",
    "print(d1 + d2)  # Output: Buddy and Max are playing together\n",
    "```\n",
    "\n",
    "In this example:\n",
    "- The `__add__` method is overridden in the `Dog` subclass to provide a different behavior for the `+` operator compared to the `Animal` superclass.\n"
   ]
  },
  {
   "cell_type": "code",
   "execution_count": 32,
   "metadata": {},
   "outputs": [
    {
     "name": "stdout",
     "output_type": "stream",
     "text": [
      "Generic Animal and Another Animal are friends\n",
      "Buddy and Max are friends\n"
     ]
    }
   ],
   "source": [
    "class Animal:\n",
    "    def __init__(self, name):\n",
    "        self.name = name\n",
    "\n",
    "    # Overload the + operator\n",
    "    def __add__(self, other):\n",
    "        return f\"{self.name} and {other.name} are friends\"\n",
    "\n",
    "class Dog(Animal):\n",
    "    pass\n",
    "# Usage\n",
    "a1 = Animal(\"Generic Animal\")\n",
    "a2 = Animal(\"Another Animal\")\n",
    "print(a1 + a2)  # Output: Generic Animal and Another Animal are friends\n",
    "\n",
    "d1 = Dog(\"Buddy\")\n",
    "d2 = Dog(\"Max\")\n",
    "print(d1 + d2)  "
   ]
  },
  {
   "cell_type": "code",
   "execution_count": 33,
   "metadata": {},
   "outputs": [
    {
     "name": "stdout",
     "output_type": "stream",
     "text": [
      "Generic Animal and Another Animal are friends\n",
      "Buddy and Max are playing together\n"
     ]
    }
   ],
   "source": [
    "class Animal:\n",
    "    def __init__(self, name):\n",
    "        self.name = name\n",
    "\n",
    "    # Overload the + operator\n",
    "    def __add__(self, other):\n",
    "        return f\"{self.name} and {other.name} are friends\"\n",
    "\n",
    "class Dog(Animal):\n",
    "    # Override the + operator\n",
    "    def __add__(self, other):\n",
    "        return f\"{self.name} and {other.name} are playing together\"\n",
    "\n",
    "# Usage\n",
    "a1 = Animal(\"Generic Animal\")\n",
    "a2 = Animal(\"Another Animal\")\n",
    "print(a1 + a2)  # Output: Generic Animal and Another Animal are friends\n",
    "\n",
    "d1 = Dog(\"Buddy\")\n",
    "d2 = Dog(\"Max\")\n",
    "print(d1 + d2)  "
   ]
  },
  {
   "cell_type": "markdown",
   "metadata": {},
   "source": [
    "# Using __call__()\n",
    "The __call__() method allows an object to be called like a function."
   ]
  },
  {
   "cell_type": "code",
   "execution_count": 36,
   "metadata": {},
   "outputs": [
    {
     "name": "stdout",
     "output_type": "stream",
     "text": [
      "12\n"
     ]
    }
   ],
   "source": [
    "class Multiplier:\n",
    "    def __call__(self, x: int, y: int) -> int:\n",
    "        return x * y\n",
    "    def add(self, x)->None:\n",
    "        print(x)    \n",
    "\n",
    "multiply = Multiplier()\n",
    "print(multiply(3, 4)) "
   ]
  },
  {
   "cell_type": "code",
   "execution_count": 57,
   "metadata": {},
   "outputs": [
    {
     "name": "stdout",
     "output_type": "stream",
     "text": [
      "Mother name is safia\n",
      "father name is ashraf\n",
      "Child name is Arman\n",
      "Child height is Mother 4\n"
     ]
    }
   ],
   "source": [
    "class Father:\n",
    "    def __init__(self, fname: str,) -> None:\n",
    "        self.name = fname\n",
    "        print(f'father name is {self.name}')\n",
    "    def height(self,height: int) -> str:\n",
    "        return f'father {height}'    \n",
    "class Mother:\n",
    "    def __init__(self, mname: str) -> None:\n",
    "        self.name = mname\n",
    "        print(f'Mother name is {self.name}')\n",
    "    def height(self,height: int) -> str:\n",
    "      return f'Mother {height}'  \n",
    "class Child(Mother,Father):\n",
    "    def __init__(self, fname: str,mname:str,cname:str) -> None:\n",
    "        Mother.__init__(self,fname)\n",
    "        Father.__init__(self,mname)\n",
    "        self.name = cname\n",
    "        print(f'Child name is {self.name}')\n",
    "    # def height(self,height: int) -> int:\n",
    "    #   return height         \n",
    "child:Child = Child('safia','ashraf','Arman')  \n",
    "print(f'Child height is {child.height(4)}')"
   ]
  },
  {
   "cell_type": "code",
   "execution_count": 60,
   "metadata": {},
   "outputs": [
    {
     "name": "stdout",
     "output_type": "stream",
     "text": [
      "36\n",
      "30\n",
      "99\n",
      "9\n"
     ]
    }
   ],
   "source": [
    " # In this example we call the methods without calling the object like add=mathematicalOperations()\n",
    "class MathematicalOperations:\n",
    "    my_name:str='Arman ' # This is we define static variable\n",
    "     \n",
    "    @staticmethod \n",
    "    def add(x: int,y:int)->int:\n",
    "        return x+y\n",
    "    @staticmethod\n",
    "    def sub(x: int,y:int)->int:\n",
    "        return x-y\n",
    "    @staticmethod\n",
    "    def mult(x: int,y:int)->int:\n",
    "        return x*y\n",
    "    @staticmethod\n",
    "    def sqrt(x: int,y:int)->int:\n",
    "        return x**y\n",
    "print(MathematicalOperations.add(33,3))    \n",
    "print(MathematicalOperations.sub(33,3))    \n",
    "print(MathematicalOperations.mult(33,3))    \n",
    "print(MathematicalOperations.sqrt(3,2))    \n",
    " "
   ]
  },
  {
   "cell_type": "markdown",
   "metadata": {},
   "source": [
    "* Assess modilfirs\n",
    "In Python, access modifiers like public, private, and protected aren't explicitly declared with keywords like in some other languages such as Java. However, there are conventions and mechanisms in Python to achieve similar effects:\n",
    "\n",
    "Public: In Python, all members (variables and methods) are public by default. They can be accessed from anywhere.\n",
    "\n",
    "Private: Conventionally, members that should be treated as private are prefixed with a double underscore (__). This doesn't make them truly private but rather mangles their names to make them harder to access from outside the class.\n",
    "\n",
    "Protected: Similarly, members prefixed with a single underscore (_) are conventionally considered protected. "
   ]
  },
  {
   "cell_type": "code",
   "execution_count": 2,
   "metadata": {},
   "outputs": [
    {
     "name": "stdout",
     "output_type": "stream",
     "text": [
      "<class 'tuple'>\n",
      "<class 'int'>\n",
      "Male\n"
     ]
    }
   ],
   "source": [
    "class BioData:\n",
    "    def __init__(self,name,age,gender):\n",
    "        self.name=name,\n",
    "        self.age = age\n",
    "        self.gender = gender\n",
    "        \n",
    "arman = BioData('arman',23,'Male')\n",
    "print(type(arman.name)) \n",
    "print(type(arman.age))\n",
    "print(arman.gender)       "
   ]
  },
  {
   "cell_type": "code",
   "execution_count": 10,
   "metadata": {},
   "outputs": [
    {
     "name": "stdout",
     "output_type": "stream",
     "text": [
      "arman\n",
      "pakistan\n",
      "Shahbaz Shrief\n",
      "pakistan\n",
      "pakistan\n",
      "23\n",
      "Male\n"
     ]
    }
   ],
   "source": [
    "class BioData:\n",
    "    country = 'pakistan'\n",
    "    _primenister = 'Shahbaz Shrief'\n",
    "    def __init__(self,name,age,gender):\n",
    "        self.name = name\n",
    "        self._age = age\n",
    "        self.gender = gender\n",
    "        \n",
    "bio_data = BioData('arman',23,'Male')\n",
    "print(bio_data.name) \n",
    "print(bio_data.country)\n",
    "print(BioData._primenister)\n",
    "print(BioData.country)\n",
    "print(bio_data.country)\n",
    "print(bio_data._age)\n",
    "print(bio_data.gender)       "
   ]
  },
  {
   "cell_type": "code",
   "execution_count": 16,
   "metadata": {},
   "outputs": [
    {
     "name": "stdout",
     "output_type": "stream",
     "text": [
      "arman\n",
      "pakistan\n",
      "Shahbaz Shrief\n",
      "pakistan\n",
      "pakistan\n",
      "23\n",
      "Male\n"
     ]
    }
   ],
   "source": [
    "class BioData:\n",
    "    country = 'pakistan'\n",
    "    _primenister = 'Shahbaz Shrief'\n",
    "    def __init__(self,name,age,gender):\n",
    "        self.name = name\n",
    "        self._age = age\n",
    "        self.__gender = gender\n",
    "        \n",
    "bio_data = BioData('arman',23,'Male')\n",
    "print(bio_data.name) \n",
    "print(bio_data.country)\n",
    "print(BioData._primenister)\n",
    "print(BioData.country)\n",
    "print(bio_data.country)\n",
    "print(bio_data._age) \n",
    "\n",
    "print(bio_data._BioData__gender)    # We can access Private modifier by using this     "
   ]
  },
  {
   "cell_type": "code",
   "execution_count": null,
   "metadata": {},
   "outputs": [],
   "source": [
    "class BioData:\n",
    "    country = 'pakistan'\n",
    "    _primenister = 'Shahbaz Shrief'\n",
    "    def __init__(self,name,age,gender):\n",
    "        self.name = name\n",
    "        self._age = age\n",
    "        self.__gender = gender\n",
    "class UpdateBioData()        \n",
    "bio_data = BioData('arman',23,'Male')\n",
    "print(bio_data.name) \n",
    "print(bio_data.country)\n",
    "print(BioData._primenister)\n",
    "print(BioData.country)\n",
    "print(bio_data.country)\n",
    "print(bio_data._age) \n",
    "\n",
    "print(bio_data._BioData__gender)    # We can access Private modifier by using this     "
   ]
  },
  {
   "cell_type": "code",
   "execution_count": 6,
   "metadata": {},
   "outputs": [
    {
     "name": "stdout",
     "output_type": "stream",
     "text": [
      "I'm public!\n",
      "I'm a public method!\n"
     ]
    }
   ],
   "source": [
    "class ProtectedClass:\n",
    "    def __init__(self):\n",
    "        self._protected_variable = \"I'm public!\"\n",
    "\n",
    "    def _protected_method(self):\n",
    "        return \"I'm a public method!\"\n",
    "\n",
    "class AnotherClass:\n",
    "    def access_protected_members(self):\n",
    "        protected_obj = ProtectedClass()\n",
    "        print(protected_obj._protected_variable)  # Warning or Error\n",
    "        print(protected_obj._protected_method())  # Warning or Error\n",
    "\n",
    "another_obj = AnotherClass()\n",
    "another_obj.access_protected_members()\n",
    " "
   ]
  },
  {
   "cell_type": "code",
   "execution_count": 9,
   "metadata": {},
   "outputs": [
    {
     "name": "stdout",
     "output_type": "stream",
     "text": [
      "Lion\n",
      "The animal's name is Lion.\n",
      "Roar\n",
      "The animal makes a 'Roar' sound.\n",
      "A dog named Buddy says 'Woof'.\n"
     ]
    }
   ],
   "source": [
    "class Animal:\n",
    "    def __init__(self, name, sound):\n",
    "        self.name = name         # Public variable\n",
    "        self._sound = sound      # Protected variable\n",
    "\n",
    "    def display_public(self):    # Public method\n",
    "        return f\"The animal's name is {self.name}.\"\n",
    "\n",
    "    def _display_protected(self):  # Protected method\n",
    "        return f\"The animal makes a '{self._sound}' sound.\"\n",
    "\n",
    "\n",
    "class Dog(Animal):\n",
    "    def access_protected(self):\n",
    "        # Accessing protected members inside a subclass\n",
    "        return f\"A dog named {self.name} says '{self._sound}'.\"\n",
    "\n",
    "\n",
    "# Creating an object of the Animal class\n",
    "animal = Animal(\"Lion\", \"Roar\")\n",
    "\n",
    "# Accessing public members\n",
    "print(animal.name)                 # Public variable accessed directly\n",
    "print(animal.display_public())     # Public method accessed directly\n",
    "\n",
    "# Accessing protected members\n",
    "print(animal._sound)               # Protected variable accessed (not recommended)\n",
    "print(animal._display_protected()) # Protected method accessed (not recommended)\n",
    "\n",
    "# Accessing protected members through subclass\n",
    "dog = Dog(\"Buddy\", \"Woof\")\n",
    "print(dog.access_protected())      # Protected variable used in subclass\n"
   ]
  },
  {
   "cell_type": "code",
   "execution_count": 14,
   "metadata": {},
   "outputs": [
    {
     "name": "stdout",
     "output_type": "stream",
     "text": [
      "1000\n",
      "1500\n"
     ]
    }
   ],
   "source": [
    "class BankAccount:\n",
    "    def __init__(self, balance):\n",
    "        self.__balance = balance  # Private attribute\n",
    "\n",
    "    def get_balance(self):  # Getter\n",
    "        return self.__balance\n",
    "\n",
    "    def set_balance(self, amount):  # Setter\n",
    "        if amount >= 0:\n",
    "            self.__balance = amount\n",
    "\n",
    "    balance = property(get_balance, set_balance)  # Property decorator\n",
    "\n",
    "account = BankAccount(1000)\n",
    "print(account.balance)  # Output: 1000\n",
    "account.balance = 1500\n",
    "print(account.balance)  # Output: 1500"
   ]
  },
  {
   "cell_type": "code",
   "execution_count": 16,
   "metadata": {},
   "outputs": [
    {
     "name": "stdout",
     "output_type": "stream",
     "text": [
      "1\n",
      "2\n",
      "3\n"
     ]
    }
   ],
   "source": [
    "def generator():\n",
    "    yield 1\n",
    "    yield 2\n",
    "    yield 3\n",
    "\n",
    "g = generator()\n",
    "print(next(g))\n",
    "print(next(g))\n",
    "print(g.send(10)) "
   ]
  },
  {
   "cell_type": "code",
   "execution_count": null,
   "metadata": {},
   "outputs": [],
   "source": []
  }
 ],
 "metadata": {
  "kernelspec": {
   "display_name": "Python 3",
   "language": "python",
   "name": "python3"
  },
  "language_info": {
   "codemirror_mode": {
    "name": "ipython",
    "version": 3
   },
   "file_extension": ".py",
   "mimetype": "text/x-python",
   "name": "python",
   "nbconvert_exporter": "python",
   "pygments_lexer": "ipython3",
   "version": "3.12.3"
  }
 },
 "nbformat": 4,
 "nbformat_minor": 2
}
