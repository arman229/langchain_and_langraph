{
 "cells": [
  {
   "cell_type": "markdown",
   "metadata": {},
   "source": [
    "To become proficient in Python's Object-Oriented Programming (OOP), here are the key topics you should focus on:\n",
    "\n",
    "1. **Classes and Objects**\n",
    "   - Definition and creation of classes.\n",
    "   - Instantiating objects from classes.\n",
    "\n",
    "2. **Attributes and Methods**\n",
    "   - Class attributes vs. instance attributes.\n",
    "   - Defining methods within a class.\n",
    "   - Instance methods, class methods, and static methods.\n",
    "\n",
    "3. **Encapsulation**\n",
    "   - Private, protected, and public attributes.\n",
    "   - Getter and setter methods.\n",
    "   - Using property decorators.\n",
    "\n",
    "4. **Inheritance**\n",
    "   - Single inheritance.\n",
    "   - Multiple inheritance.\n",
    "   - Method overriding.\n",
    "   - Using `super()` to call parent class methods.\n",
    "\n",
    "5. **Polymorphism**\n",
    "   - Method overloading (achieved through default arguments).\n",
    "   - Method overriding.\n",
    "   - Duck typing.\n",
    "\n",
    "6. **Abstraction**\n",
    "   - Abstract classes and methods.\n",
    "   - Using `abc` module in Python for abstraction.\n",
    "\n",
    "7. **Composition vs. Inheritance**\n",
    "   - Understanding when to use inheritance and when to use composition.\n",
    "   - \"Has-A\" vs. \"Is-A\" relationships.\n",
    "\n",
    "8. **Magic/Dunder Methods**\n",
    "   - `__init__`, `__str__`, `__repr__`, `__eq__`, and more.\n",
    "   - Overloading operators.\n",
    "\n",
    "9. **Class and Static Methods**\n",
    "   - Difference between class methods and static methods.\n",
    "   - Using `@classmethod` and `@staticmethod` decorators.\n",
    "\n",
    "10. **The `self` and `cls` Keywords**\n",
    "    - Difference between `self` in instance methods and `cls` in class methods.\n",
    "\n",
    "11. **Inner Classes**\n",
    "    - Defining and using inner classes.\n",
    "\n",
    "12. **Inheritance Hierarchies and MRO (Method Resolution Order)**\n",
    "    - Understanding MRO in Python.\n",
    "\n",
    "13. **Decorators in OOP**\n",
    "    - Applying decorators to classes and methods.\n",
    "\n",
    "14. **Metaclasses**\n",
    "    - Creating and using metaclasses for advanced class creation.\n",
    "\n",
    "These topics cover the core concepts of OOP in Python. Once you master these, you can build complex, scalable applications following OOP principles."
   ]
  },
  {
   "cell_type": "markdown",
   "metadata": {},
   "source": [
    "### Object-Oriented Programming (OOP) concepts and topics in Python, along with detailed explanations:"
   ]
  },
  {
   "cell_type": "markdown",
   "metadata": {},
   "source": [
    "### 1. **Classes and Objects**\n",
    "   - **Class**: A blueprint for creating objects. Defines properties (attributes) and behaviors (methods).\n",
    "   - **Object**: An instance of a class. Represents a specific entity based on the class definition.\n",
    "   In Python, when you create a real thing from the class (blueprint), it’s called an instance. OR,When we initialize a class (i.e., when we create an object from the class), we are creating an instance of that class.\n",
    "   An object is an instance of a class. When a class is defined, no memory is allocated until an object is created.\n",
    "\n"
   ]
  },
  {
   "cell_type": "markdown",
   "metadata": {},
   "source": [
    "#### Creating an Object\n",
    "Now, to use the class, we create an object from it:"
   ]
  },
  {
   "cell_type": "code",
   "execution_count": null,
   "metadata": {},
   "outputs": [],
   "source": [
    "MyClass:\n",
    "    pass\n",
    "\n",
    "# Creating an object of MyClass\n",
    "my_object = MyClass()\n",
    "\n",
    "# Accessing the class attribute and method using the object\n",
    "print(my_object.attribute)  # Output: I am an attribute\n",
    "print(my_object.say_hello())  # Output: Hello from MyClass!\n"
   ]
  },
  {
   "cell_type": "markdown",
   "metadata": {},
   "source": [
    "### 2. **Attributes and Methods**\n",
    "   - **Attributes**: Variables that belong to a class or object. Can be defined inside the `__init__` method (for instance attributes) or directly in the class (for class attributes).They store data or information related to the object. There are two main types of attributes:\n",
    "   - ***Instance attributes***: These are specific to each object (instance) and are defined within the `__init__` method or other methods.\n",
    "   - **Class attributes**: These are shared by all instances of the class and are defined directly in the class body.\n",
    "\n",
    "   - **Methods**: Functions defined within a class that operate on objects' data. \n",
    "      Methods are the functions that belong to a class and define actions or behaviors of the objects. Methods operate on the object’s attributes and perform tasks related to the object.\n",
    "   - **Instance Method**: Operates on individual instances of the class.\n",
    "   - **Class Method**: Operates on the class itself.\n",
    "   - **Static Method**: Not dependent on either the class or instances.\n",
    "   \n",
    "#   In Summary:\n",
    "\n",
    "- **Instance Method**: Use self and work with the object's data.\n",
    "- **Class Method**: Use cls and work with class-level data.\n",
    "- **Static Method**: Don’t need self or cls, they are like regular functions inside the class."
   ]
  },
  {
   "cell_type": "code",
   "execution_count": null,
   "metadata": {},
   "outputs": [],
   "source": [
    "class Person:\n",
    "    # Class attribute (shared by all instances)\n",
    "    species = \"Human\"\n",
    "\n",
    "    # Instance attributes (specific to each instance)\n",
    "    def __init__(self, name, age):\n",
    "        self.name = name  # instance attribute\n",
    "        self.age = age    # instance attribute\n",
    "\n",
    "    # Instance method (performs an action using instance attributes)\n",
    "    def introduce(self):\n",
    "        return f\"Hello, my name is {self.name} and I am {self.age} years old.\"\n",
    "\n",
    "# Creating instances (objects) of the Person class\n",
    "person1 = Person(\"Ali\", 25)\n",
    "person2 = Person(\"Sara\", 30)\n",
    "\n",
    "# Accessing class attribute\n",
    "print(person1.species)  # Output: Human\n",
    "print(person2.species)  # Output: Human\n",
    "\n",
    "# Accessing instance attributes\n",
    "print(person1.name)     # Output: Ali\n",
    "print(person2.name)     # Output: Sara\n",
    "\n",
    "# Calling instance method\n",
    "print(person1.introduce())  # Output: Hello, my name is Ali and I am 25 years old.\n",
    "print(person2.introduce())  # Output: Hello, my name is Sara and I am 30 years old.\n"
   ]
  },
  {
   "cell_type": "code",
   "execution_count": null,
   "metadata": {},
   "outputs": [],
   "source": [
    "### 3. **The `__init__` Method (Constructor)**\n",
    "   - The special method that is automatically invoked when a new object of the class is created. It initializes the object’s attributes.\n",
    "  "
   ]
  },
  {
   "cell_type": "code",
   "execution_count": 2,
   "metadata": {},
   "outputs": [
    {
     "name": "stdout",
     "output_type": "stream",
     "text": [
      "Making a Chiar...\n"
     ]
    }
   ],
   "source": [
    "class Wood:\n",
    "    def make_chiar(self):\n",
    "        return \"Making a Chiar...\"\n",
    "        \n",
    "wood_call = Wood()\n",
    "print(wood_call.make_chiar())          "
   ]
  },
  {
   "cell_type": "markdown",
   "metadata": {},
   "source": [
    "\n",
    "### **Instance Methods, Class Method and Static Method** in Python\n",
    "\n",
    "#### 1. **Instance Methods** :\n",
    "These are the most common methods in OOP. They take `self` as the first parameter, which represents the specific instance of the class. This allows them to access and modify instance attributes.\n",
    "\n",
    "#### 2. **Class Methods**:\n",
    "- A **class method** takes `cls` (representing the class itself) as the first parameter instead of `self`.\n",
    "- It can modify class-level attributes but cannot access instance-level attributes directly.\n",
    "- It is defined using the `@classmethod` decorator.\n",
    "\n",
    "#### 3. **Static Methods**:\n",
    "- A **static method** does not take `self` or `cls` as the first parameter.\n",
    "- It cannot modify class or instance attributes but is still related to the class conceptually.\n",
    "- It is defined using the `@staticmethod` decorator.\n",
    " \n",
    " \n",
    "### Explanation:\n",
    "1. **Instance Method (`introduce`)**:\n",
    "   - Works on instance attributes `self.name` and `self.age` and provides a personalized introduction for each instance.\n",
    "\n",
    "2. **Class Method (`change_species`)**:\n",
    "   - Takes `cls` as the first parameter (refers to the class itself).\n",
    "   - Modifies the class-level attribute `species` for all instances of the class. In the example, we changed the species from `\"Human\"` to `\"Superhuman\"` for all instances of `Person`.\n",
    "\n",
    "3. **Static Method (`is_adult`)**:\n",
    "   - Does not operate on instance or class attributes.\n",
    "   - Acts as a general utility function that checks whether a person is an adult (based on age).\n",
    "   - It can be called using the class name directly (i.e., `Person.is_adult()`) or via an instance, but it has no direct access to either `self` or `cls`.\n",
    "\n",
    " \n",
    "### Real-Life Analogy:\n",
    "\n",
    "- **Instance Method**: Imagine a student introducing themselves. The method only works with that student's data (name, age, etc.).\n",
    "  \n",
    "- **Class Method**: Think of it like a rule that applies to all students in a class. If the school decides to change all students' uniforms, it's a class-wide change, not specific to an individual student.\n",
    "\n",
    "- **Static Method**: This is like a general function or rule that students can follow, like checking whether they are eligible to vote. It doesn't change anything about the student or the school, but it provides useful information.\n",
    "\n"
   ]
  },
  {
   "cell_type": "code",
   "execution_count": 40,
   "metadata": {},
   "outputs": [
    {
     "name": "stdout",
     "output_type": "stream",
     "text": [
      "Human\n",
      "newSuperhuman\n",
      "Hello, my name is Ali and I am 25 years old.\n",
      "Hello, my name is Sara and I am 16 years old.\n",
      "True\n",
      "False\n",
      "newSuperhuman\n",
      "Superhuman\n"
     ]
    }
   ],
   "source": [
    "class Person:\n",
    "    species = \"Human\"  # Class attribute shared by all instances\n",
    "\n",
    "    # Constructor to initialize instance attributes\n",
    "    def __init__(self, name, age):\n",
    "        self.name = name\n",
    "        self.age = age\n",
    "\n",
    "    # Instance method (operates on instance attributes)\n",
    "    def introduce(self):\n",
    "        return f\"Hello, my name is {self.name} and I am {self.age} years old.\"\n",
    "\n",
    "    # Class method (operates on class attributes)\n",
    "    @classmethod\n",
    "    def change_species(cls, new_species):\n",
    "        cls.species = new_species  # Modify class attribute\n",
    "     \n",
    "    # Static method (general utility method)\n",
    "    @staticmethod\n",
    "    def is_adult(age):\n",
    "        return age >= 18  # Determines if age qualifies as adult\n",
    "\n",
    "\n",
    "# Example usage\n",
    "# Creating an instance of the Person class\n",
    "person1 = Person(\"Ali\", 25)\n",
    "person2 = Person(\"Sara\", 16)\n",
    "\n",
    "person1.species = \"newSuperhuman\" \n",
    "print(Person.species)     # Output: newSuperhuman\n",
    "print(person1.species)     # Output: newSuperhuman\n",
    "# Calling the instance method\n",
    "print(person1.introduce())  # Output: Hello, my name is Ali and I am 25 years old.\n",
    "print(person2.introduce())  # Output: Hello, my name is Sara and I am 16 years old.\n",
    "\n",
    "# Calling the static method (can be called without creating an instance)\n",
    "print(Person.is_adult(25))  # Output: True\n",
    "print(Person.is_adult(16))  # Output: False\n",
    "\n",
    "# Calling the class method to change the species for all instances\n",
    "Person.change_species(\"Superhuman\")\n",
    "\n",
    "# Now species has been changed for all instances\n",
    "print(person1.species)  # Output: Superhuman\n",
    "print(person2.species)  # Output: Superhuman\n",
    "\n"
   ]
  },
  {
   "cell_type": "markdown",
   "metadata": {},
   "source": []
  },
  {
   "cell_type": "code",
   "execution_count": 69,
   "metadata": {},
   "outputs": [
    {
     "name": "stdout",
     "output_type": "stream",
     "text": [
      "Total cars created: 1\n"
     ]
    },
    {
     "ename": "TypeError",
     "evalue": "Car.car_count() takes 0 positional arguments but 1 was given",
     "output_type": "error",
     "traceback": [
      "\u001b[1;31m---------------------------------------------------------------------------\u001b[0m",
      "\u001b[1;31mTypeError\u001b[0m                                 Traceback (most recent call last)",
      "Cell \u001b[1;32mIn[69], line 18\u001b[0m\n\u001b[0;32m     16\u001b[0m car1 \u001b[38;5;241m=\u001b[39m Car(\u001b[38;5;124m\"\u001b[39m\u001b[38;5;124mTesla\u001b[39m\u001b[38;5;124m\"\u001b[39m, \u001b[38;5;124m\"\u001b[39m\u001b[38;5;124mModel S\u001b[39m\u001b[38;5;124m\"\u001b[39m)\n\u001b[0;32m     17\u001b[0m \u001b[38;5;28mprint\u001b[39m(Car\u001b[38;5;241m.\u001b[39mcar_count())  \u001b[38;5;66;03m# Output: Total cars created: 1 (works but is hardcoded) but we are not created any ElectricCar instances yet.\u001b[39;00m\n\u001b[1;32m---> 18\u001b[0m \u001b[38;5;28mprint\u001b[39m(\u001b[43mcar1\u001b[49m\u001b[38;5;241;43m.\u001b[39;49m\u001b[43mcar_count\u001b[49m\u001b[43m(\u001b[49m\u001b[43m)\u001b[49m)\n",
      "\u001b[1;31mTypeError\u001b[0m: Car.car_count() takes 0 positional arguments but 1 was given"
     ]
    }
   ],
   "source": [
    "class Car:\n",
    "    total_cars = 0\n",
    "\n",
    "    def __init__(self, brand, model):\n",
    "        self.brand = brand\n",
    "        self.model = model\n",
    "        Car.total_cars += 1\n",
    "\n",
    "    def car_count():  # Regular method\n",
    "        return f\"Total cars created: {Car.total_cars}\"\n",
    "\n",
    "class ElectricCar(Car):\n",
    "    pass\n",
    "\n",
    "# Example usage\n",
    "car1 = Car(\"Tesla\", \"Model S\")\n",
    "print(Car.car_count())  # Output: Total cars created: 1 (works but is hardcoded) but we are not created any ElectricCar instances yet.\n",
    "print(car1.car_count())"
   ]
  },
  {
   "cell_type": "code",
   "execution_count": 65,
   "metadata": {},
   "outputs": [
    {
     "name": "stdout",
     "output_type": "stream",
     "text": [
      "Total cars created: 3\n",
      "Total electric cars created: 2\n"
     ]
    }
   ],
   "source": [
    "class Car:\n",
    "    total_cars = 0  # Shared by all Car instances\n",
    "\n",
    "    def __init__(self, brand, model):\n",
    "        self.brand = brand\n",
    "        self.model = model\n",
    "        Car.total_cars += 1\n",
    "\n",
    "    @classmethod\n",
    "    def car_count(cls):  # Class method to count total cars\n",
    "        return f\"Total cars created: {cls.total_cars}\"\n",
    "\n",
    "\n",
    "# Subclass with its own counter\n",
    "class ElectricCar(Car):\n",
    "    total_electric_cars = 0  # Specific to ElectricCar instances\n",
    "\n",
    "    def __init__(self, brand, model):\n",
    "        super().__init__(brand, model)  # Call the parent constructor\n",
    "        ElectricCar.total_electric_cars += 1\n",
    "\n",
    "    @classmethod\n",
    "    def electric_car_count(cls):  # Class method to count electric cars\n",
    "        return f\"Total electric cars created: {cls.total_electric_cars}\"\n",
    "\n",
    "\n",
    "# Example usage\n",
    "car1 = Car(\"Toyota\", \"Corolla\")  # Regular car\n",
    "car2 = ElectricCar(\"Tesla\", \"Model S\")  # Electric car\n",
    "car3 = ElectricCar(\"Nissan\", \"Leaf\")  # Electric car\n",
    "\n",
    "# Print total cars and total electric cars\n",
    "print(Car.car_count())           # Output: Total cars created: 3\n",
    "print(ElectricCar.electric_car_count())  # Output: Total electric cars created: 2\n"
   ]
  },
  {
   "cell_type": "code",
   "execution_count": 68,
   "metadata": {},
   "outputs": [
    {
     "name": "stdout",
     "output_type": "stream",
     "text": [
      "Toyota Corolla\n"
     ]
    }
   ],
   "source": [
    "class Car:\n",
    "    def __init__(self, brand, model):\n",
    "        self.brand = brand\n",
    "        self.model = model\n",
    "    \n",
    "    @classmethod\n",
    "    def from_string(cls, car_str):\n",
    "        brand, model = car_str.split('-')\n",
    "        return cls(brand, model)\n",
    "\n",
    "car = Car.from_string(\"Toyota-Corolla\")\n",
    "print(car.brand, car.model)  # Output: Toyota Corolla"
   ]
  },
  {
   "cell_type": "code",
   "execution_count": 73,
   "metadata": {},
   "outputs": [
    {
     "name": "stdout",
     "output_type": "stream",
     "text": [
      "This is an instance method\n"
     ]
    },
    {
     "ename": "TypeError",
     "evalue": "Vehicle.display_message() missing 1 required positional argument: 'self'",
     "output_type": "error",
     "traceback": [
      "\u001b[1;31m---------------------------------------------------------------------------\u001b[0m",
      "\u001b[1;31mTypeError\u001b[0m                                 Traceback (most recent call last)",
      "Cell \u001b[1;32mIn[73], line 15\u001b[0m\n\u001b[0;32m     11\u001b[0m \u001b[38;5;28mprint\u001b[39m(vehicle\u001b[38;5;241m.\u001b[39mdisplay_message())  \u001b[38;5;66;03m# Output: This is an instance method\u001b[39;00m\n\u001b[0;32m     13\u001b[0m \u001b[38;5;66;03m# Incorrect way to call an instance method\u001b[39;00m\n\u001b[0;32m     14\u001b[0m \u001b[38;5;66;03m# This will raise an error because the method expects 'self'\u001b[39;00m\n\u001b[1;32m---> 15\u001b[0m \u001b[38;5;28mprint\u001b[39m(\u001b[43mVehicle\u001b[49m\u001b[38;5;241;43m.\u001b[39;49m\u001b[43mdisplay_message\u001b[49m\u001b[43m(\u001b[49m\u001b[43m)\u001b[49m)  \u001b[38;5;66;03m# TypeError: display_message() missing 1 required positional argument: 'self'\u001b[39;00m\n",
      "\u001b[1;31mTypeError\u001b[0m: Vehicle.display_message() missing 1 required positional argument: 'self'"
     ]
    }
   ],
   "source": [
    "class Vehicle:\n",
    "    def __init__(self, brand, model):\n",
    "        self.brand = brand\n",
    "        self.model = model\n",
    "    \n",
    "    def display_message(self):  # Instance method\n",
    "        return \"This is an instance method\"\n",
    "\n",
    "# Correct way to call an instance method\n",
    "vehicle = Vehicle(\"Toyota\", \"Corolla\")\n",
    "print(vehicle.display_message())  # Output: This is an instance method\n",
    "\n",
    "# Incorrect way to call an instance method\n",
    "# This will raise an error because the method expects 'self'\n",
    "print(Vehicle.display_message())  # TypeError: display_message() missing 1 required positional argument: 'self'\n"
   ]
  },
  {
   "cell_type": "code",
   "execution_count": 74,
   "metadata": {},
   "outputs": [
    {
     "name": "stdout",
     "output_type": "stream",
     "text": [
      "This is a static method\n",
      "This is a static method\n"
     ]
    }
   ],
   "source": [
    "class Vehicle:\n",
    "    def __init__(self, brand, model):\n",
    "        self.brand = brand\n",
    "        self.model = model\n",
    "    \n",
    "    @staticmethod\n",
    "    def display_message():  # Static method\n",
    "        return \"This is a static method\"\n",
    "\n",
    "# Correct way to call a static method (both from class and instance)\n",
    "print(Vehicle.display_message())  # Output: This is a static method\n",
    "vehicle = Vehicle(\"Toyota\", \"Corolla\")\n",
    "print(vehicle.display_message())  # Output: This is a static method\n"
   ]
  },
  {
   "cell_type": "code",
   "execution_count": 75,
   "metadata": {},
   "outputs": [
    {
     "name": "stdout",
     "output_type": "stream",
     "text": [
      "Total vehicles created: 0\n",
      "Total vehicles created: 1\n"
     ]
    }
   ],
   "source": [
    "class Vehicle:\n",
    "    total_vehicles = 0\n",
    "\n",
    "    def __init__(self, brand, model):\n",
    "        self.brand = brand\n",
    "        self.model = model\n",
    "        Vehicle.total_vehicles += 1\n",
    "    \n",
    "    @classmethod\n",
    "    def display_message(cls):  # Class method\n",
    "        return f\"Total vehicles created: {cls.total_vehicles}\"\n",
    "\n",
    "# Correct way to call a class method (both from class and instance)\n",
    "print(Vehicle.display_message())  # Output: Total vehicles created: 0\n",
    "vehicle = Vehicle(\"Toyota\", \"Corolla\")\n",
    "print(vehicle.display_message())  # Output: Total vehicles created: 1\n"
   ]
  },
  {
   "cell_type": "markdown",
   "metadata": {},
   "source": [
    "### 4. **Encapsulation**\n",
    "   - The concept of bundling data (attributes) and methods (functions) that operate on the data within a single unit or class. This hides the internal representation and restricts access.\n",
    "   - **Private Attributes**: Use underscore (`_`) to indicate private attributes.\n",
    "   - **Getter and Setter Methods**: Used to access and modify private attributes."
   ]
  },
  {
   "cell_type": "markdown",
   "metadata": {},
   "source": [
    "### Inheritance in Python\n",
    "\n",
    "**Inheritance** is a key concept in Object-Oriented Programming (OOP) where a class can **inherit** attributes and methods from another class. The class that inherits is called the **child class** (or subclass), and the class from which it inherits is called the **parent class** (or superclass).\n",
    "\n",
    "Inheritance allows code reuse and helps in organizing related classes.\n",
    "\n",
    "### Key Topics in Inheritance:\n",
    "\n",
    "1. **Single Inheritance**\n",
    "2. **Multiple Inheritance**\n",
    "3. **Method Overriding**\n",
    "4. **Using `super()`**"
   ]
  },
  {
   "cell_type": "markdown",
   "metadata": {},
   "source": [
    "### 1. **Single Inheritance**\n",
    "\n",
    "**Single Inheritance** means that a class inherits from a single parent class. The child class inherits the attributes and methods of the parent class.\n",
    "\n",
    "#### Example:"
   ]
  },
  {
   "cell_type": "code",
   "execution_count": 10,
   "metadata": {},
   "outputs": [
    {
     "name": "stdout",
     "output_type": "stream",
     "text": [
      "Buddy makes a sound.\n",
      "Golden Retriever\n"
     ]
    }
   ],
   "source": [
    "# Parent class (or Superclass)\n",
    "class Animal:\n",
    "    def __init__(self, name):\n",
    "        self.name = name\n",
    "\n",
    "    def speak(self):\n",
    "        return f\"{self.name} makes a sound.\"\n",
    "\n",
    "# Child class (or Subclass) inheriting from Animal\n",
    "class Dog(Animal):\n",
    "    def __init__(self, name, breed):\n",
    "        super().__init__(name)  # Call the constructor of the parent class\n",
    "        self.breed = breed\n",
    "\n",
    "# Creating an instance of Dog\n",
    "dog = Dog(\"Buddy\", \"Golden Retriever\")\n",
    "\n",
    "# Accessing inherited methods\n",
    "print(dog.speak())  # Output: Buddy makes a sound.\n",
    "print(dog.breed)    # Output: Golden Retriever    \n",
    " \n",
    "\n",
    " "
   ]
  },
  {
   "cell_type": "markdown",
   "metadata": {},
   "source": [
    " \n",
    "\n",
    "#### Explanation:\n",
    "- The `Dog` class inherits from the `Animal` class.\n",
    "- The `Dog` class can use the `speak()` method from the `Animal` class, demonstrating inheritance.\n",
    "- The `super().__init__(name)` is used to call the constructor of the parent class to initialize the `name` attribute.\n",
    "\n",
    " "
   ]
  },
  {
   "cell_type": "markdown",
   "metadata": {},
   "source": [
    "### 2. **Multiple Inheritance**\n",
    "\n",
    "**Multiple Inheritance** means a class can inherit from more than one parent class. This is a powerful feature in Python but should be used carefully to avoid complexity.\n",
    "\n",
    "#### Example:"
   ]
  },
  {
   "cell_type": "code",
   "execution_count": null,
   "metadata": {},
   "outputs": [],
   "source": [
    "# Parent class 1\n",
    "class Flyable:\n",
    "    def fly(self):\n",
    "        return \"I can fly.\"\n",
    "\n",
    "# Parent class 2\n",
    "class Swimmable:\n",
    "    def swim(self):\n",
    "        return \"I can swim.\"\n",
    "\n",
    "# Child class inheriting from both Flyable and Swimmable\n",
    "class Duck(Flyable, Swimmable):\n",
    "    def quack(self):\n",
    "        return \"I can quack.\"\n",
    "\n",
    "# Creating an instance of Duck\n",
    "duck = Duck()\n",
    "\n",
    "# Accessing methods from both parent classes\n",
    "print(duck.fly())    # Output: I can fly.\n",
    "print(duck.swim())   # Output: I can swim.\n",
    "print(duck.quack())  # Output: I can quack."
   ]
  },
  {
   "cell_type": "markdown",
   "metadata": {},
   "source": [
    "#### Explanation:\n",
    "- The `Duck` class inherits from both `Flyable` and `Swimmable` classes.\n",
    "- It can access methods from both parent classes, demonstrating **multiple inheritance**.\n",
    "\n",
    "### **Important Note**:\n",
    "- Multiple inheritance can lead to complexity, especially with method resolution (which method is called when a method exists in both parent classes). Python uses the **Method Resolution Order (MRO)** to determine this.\n"
   ]
  },
  {
   "cell_type": "markdown",
   "metadata": {},
   "source": [
    "### 3. **Method Overriding**\n",
    "\n",
    "**Method Overriding** occurs when a child class provides its own implementation of a method that already exists in the parent class. The method in the child class **overrides** the one in the parent class.\n",
    "\n",
    "#### Example:"
   ]
  },
  {
   "cell_type": "code",
   "execution_count": 11,
   "metadata": {},
   "outputs": [
    {
     "name": "stdout",
     "output_type": "stream",
     "text": [
      "Dog barks.\n",
      "Cat meows.\n"
     ]
    }
   ],
   "source": [
    "class Animal:\n",
    "    def speak(self):\n",
    "        return \"Animal makes a sound.\"\n",
    "\n",
    "# Dog class overrides the speak() method of Animal class\n",
    "class Dog(Animal):\n",
    "    def speak(self):\n",
    "        return \"Dog barks.\"\n",
    "\n",
    "# Cat class overrides the speak() method of Animal class\n",
    "class Cat(Animal):\n",
    "    def speak(self):\n",
    "        return \"Cat meows.\"\n",
    "\n",
    "# Creating instances\n",
    "dog = Dog()\n",
    "cat = Cat()\n",
    "\n",
    "# Calling the overridden methods\n",
    "print(dog.speak())  # Output: Dog barks.\n",
    "print(cat.speak())  # Output: Cat meows."
   ]
  },
  {
   "cell_type": "markdown",
   "metadata": {},
   "source": [
    "#### Explanation:\n",
    "- Both `Dog` and `Cat` classes override the `speak()` method from the `Animal` class.\n",
    "- Even though `Dog` and `Cat` are inherited from `Animal`, they provide their own version of the `speak()` method.\n"
   ]
  },
  {
   "cell_type": "markdown",
   "metadata": {},
   "source": [
    "### 4. **Using `super()`**\n",
    "\n",
    "The `super()` function is used to call methods from the parent class. It is especially useful when you want to extend or modify the behavior of the parent class's methods in the child class without completely overriding them.\n",
    "\n",
    "#### Example:"
   ]
  },
  {
   "cell_type": "code",
   "execution_count": 76,
   "metadata": {},
   "outputs": [
    {
     "name": "stdout",
     "output_type": "stream",
     "text": [
      "Buddy makes a sound. Dog barks.\n"
     ]
    }
   ],
   "source": [
    "class Animal:\n",
    "    def __init__(self, name):\n",
    "        self.name = name\n",
    "\n",
    "    def speak(self):\n",
    "        return f\"{self.name} makes a sound.\"\n",
    "\n",
    "# Dog class overrides speak() method and uses super() to call the parent class method\n",
    "class Dog(Animal):\n",
    "    def __init__(self, name, breed):\n",
    "        super().__init__(name)  # Call parent class constructor\n",
    "        self.breed = breed\n",
    "\n",
    "    def speak(self):\n",
    "        # Use super() to extend the parent class method\n",
    "        parent_speech = super().speak()  # Call the parent class speak()\n",
    "        return f\"{parent_speech} Dog barks.\"\n",
    "\n",
    "# Creating an instance of Dog\n",
    "dog = Dog(\"Buddy\", \"Golden Retriever\")\n",
    "\n",
    "# Calling the overridden method with super()\n",
    "print(dog.speak())  # Output: Buddy makes a sound. Dog barks."
   ]
  },
  {
   "cell_type": "markdown",
   "metadata": {},
   "source": [
    "\n",
    "#### Explanation:\n",
    "- `super()` allows the `Dog` class to first call the `speak()` method from the `Animal` class, then adds its own behavior (`Dog barks.`).\n",
    "- This is useful when you want to extend functionality rather than completely replacing it.\n"
   ]
  },
  {
   "cell_type": "markdown",
   "metadata": {},
   "source": [
    "### Key Points:\n",
    "1. **Single Inheritance**: Inheriting from one parent class.\n",
    "2. **Multiple Inheritance**: Inheriting from multiple parent classes.\n",
    "3. **Method Overriding**: Child class provides its own implementation of a parent class method.\n",
    "4. **Using `super()`**: Used to call a method from the parent class inside the child class, often to extend the parent’s method.\n",
    "\n",
    "\n",
    "\n",
    "### Real-World Analogy:\n",
    "- **Single Inheritance**: If you learn cooking from your mother, and you inherit all her skills, this is single inheritance.\n",
    "- **Multiple Inheritance**: If you learn cooking from your mother and carpentry from your father, you inherit skills from both parents, which is multiple inheritance.\n",
    "- **Method Overriding**: You might learn a cooking recipe from your mother, but you modify it to your own taste. You’ve overridden the original recipe.\n",
    "- **Using `super()`**: You start cooking the way your mother taught you but add a special spice at the end. You use the original recipe but extend it with your own twist.\n"
   ]
  },
  {
   "cell_type": "markdown",
   "metadata": {},
   "source": [
    "Python follows a specific order to determine the method resolution order (MRO). The MRO defines the order in which Python will look for a method or attribute in the class hierarchy."
   ]
  },
  {
   "cell_type": "code",
   "execution_count": 86,
   "metadata": {},
   "outputs": [
    {
     "name": "stdout",
     "output_type": "stream",
     "text": [
      "[<class '__main__.D'>, <class '__main__.B'>, <class '__main__.C'>, <class '__main__.A'>, <class 'object'>]\n",
      "B\n"
     ]
    }
   ],
   "source": [
    "class A:\n",
    "    def method(self):\n",
    "        print(\"A\")\n",
    "\n",
    "class B(A):\n",
    "    def method(self):\n",
    "        print(\"B\")\n",
    "\n",
    "class C(A):\n",
    "    def method(self):\n",
    "        print(\"C\")\n",
    "\n",
    "class D(B, C):\n",
    "    pass\n",
    "class_d = D()\n",
    "print(D.mro())\n",
    "\n",
    "class_d.method() \n"
   ]
  },
  {
   "cell_type": "code",
   "execution_count": 87,
   "metadata": {},
   "outputs": [
    {
     "name": "stdout",
     "output_type": "stream",
     "text": [
      "[]\n"
     ]
    }
   ],
   "source": [
    "a = [1, 2, 3, 5, 6]\n",
    "print(a[0:2:-1])"
   ]
  }
 ],
 "metadata": {
  "kernelspec": {
   "display_name": "Python 3",
   "language": "python",
   "name": "python3"
  },
  "language_info": {
   "codemirror_mode": {
    "name": "ipython",
    "version": 3
   },
   "file_extension": ".py",
   "mimetype": "text/x-python",
   "name": "python",
   "nbconvert_exporter": "python",
   "pygments_lexer": "ipython3",
   "version": "3.12.3"
  }
 },
 "nbformat": 4,
 "nbformat_minor": 2
}
