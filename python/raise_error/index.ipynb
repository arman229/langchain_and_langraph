{
 "cells": [
  {
   "cell_type": "code",
   "execution_count": 12,
   "metadata": {},
   "outputs": [
    {
     "name": "stdout",
     "output_type": "stream",
     "text": [
      "That was not a number.\n",
      "program finished\n",
      "program finished\n"
     ]
    }
   ],
   "source": [
    "try:\n",
    "    x=int(input('Please enter any number:'))\n",
    "except ValueError:\n",
    "    print('That was not a number.')    \n",
    "print('program finished') \n",
    "print('program finished')   "
   ]
  },
  {
   "cell_type": "markdown",
   "metadata": {},
   "source": [
    "# raise Error\n",
    "when we raise error it stop the execution "
   ]
  },
  {
   "cell_type": "code",
   "execution_count": 4,
   "metadata": {},
   "outputs": [
    {
     "name": "stdout",
     "output_type": "stream",
     "text": [
      "Invalid age provided. Age cannot be negative.\n",
      "Age is set to -5\n"
     ]
    }
   ],
   "source": [
    "def set_age(age):\n",
    "    if age < 0:\n",
    "        print(\"Invalid age provided. Age cannot be negative.\") \n",
    "    print(f\"Age is set to {age}\")\n",
    "try:\n",
    "    set_age(-5)\n",
    "except ValueError as e:\n",
    "    print(f\"Error: {e}\")"
   ]
  },
  {
   "cell_type": "code",
   "execution_count": 3,
   "metadata": {},
   "outputs": [
    {
     "name": "stdout",
     "output_type": "stream",
     "text": [
      "Error: Age cannot be negative\n"
     ]
    }
   ],
   "source": [
    "def set_age(age):\n",
    "    if age < 0:\n",
    "        raise ValueError(\"Age cannot be negative\")\n",
    "    print(f\"Age is set to {age}\")\n",
    "try:\n",
    "    set_age(-5)\n",
    "except ValueError as e:\n",
    "    print(f\"Error: {e}\")"
   ]
  },
  {
   "cell_type": "code",
   "execution_count": null,
   "metadata": {},
   "outputs": [],
   "source": []
  }
 ],
 "metadata": {
  "kernelspec": {
   "display_name": "Python 3",
   "language": "python",
   "name": "python3"
  },
  "language_info": {
   "codemirror_mode": {
    "name": "ipython",
    "version": 3
   },
   "file_extension": ".py",
   "mimetype": "text/x-python",
   "name": "python",
   "nbconvert_exporter": "python",
   "pygments_lexer": "ipython3",
   "version": "3.12.3"
  }
 },
 "nbformat": 4,
 "nbformat_minor": 2
}
