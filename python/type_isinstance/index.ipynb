{
 "cells": [
  {
   "cell_type": "markdown",
   "metadata": {},
   "source": [
    "isinstance()\n",
    "Purpose: Checks if an object is an instance of a class or a subclass thereof.\n",
    "Flexible Type Checking: It considers inheritance, so it will return True for subclasses.\n",
    "Usage: Useful when you want to verify that an object belongs to a class hierarchy (either the class itself or any of its subclasses)."
   ]
  },
  {
   "cell_type": "markdown",
   "metadata": {},
   "source": [
    "type()\n",
    "Purpose: Returns the exact type of an object.\n",
    "Strict Type Checking: It checks for the exact type of the object, not accounting for inheritance or subclass relationships.\n",
    "Usage: Suitable when you want to confirm that an object is of a specific type and not a subclass.\n"
   ]
  },
  {
   "cell_type": "code",
   "execution_count": 1,
   "metadata": {},
   "outputs": [
    {
     "name": "stdout",
     "output_type": "stream",
     "text": [
      "True\n",
      "False\n",
      "True\n",
      "True\n"
     ]
    }
   ],
   "source": [
    "class Animal:\n",
    "    pass\n",
    "\n",
    "class Dog(Animal):\n",
    "    pass\n",
    "\n",
    "dog = Dog()\n",
    "\n",
    " \n",
    "print(type(dog) == Dog)  # True (Exact match)\n",
    "print(type(dog) == Animal)  # False (Dog is a subclass of Animal)\n",
    " \n",
    "print(isinstance(dog, Dog))  # True (dog is an instance of Dog)\n",
    "print(isinstance(dog, Animal))  # True (Dog is a subclass of Animal)\n"
   ]
  }
 ],
 "metadata": {
  "kernelspec": {
   "display_name": "Python 3",
   "language": "python",
   "name": "python3"
  },
  "language_info": {
   "codemirror_mode": {
    "name": "ipython",
    "version": 3
   },
   "file_extension": ".py",
   "mimetype": "text/x-python",
   "name": "python",
   "nbconvert_exporter": "python",
   "pygments_lexer": "ipython3",
   "version": "3.12.3"
  }
 },
 "nbformat": 4,
 "nbformat_minor": 2
}
