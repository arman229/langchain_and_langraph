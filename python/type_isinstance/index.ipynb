{
 "cells": [
  {
   "cell_type": "markdown",
   "metadata": {},
   "source": [
    "isinstance()\n",
    "Purpose: Checks if an object is an instance of a class or a subclass thereof.\n",
    "Flexible Type Checking: It considers inheritance, so it will return True for subclasses.\n",
    "Usage: Useful when you want to verify that an object belongs to a class hierarchy (either the class itself or any of its subclasses)."
   ]
  },
  {
   "cell_type": "markdown",
   "metadata": {},
   "source": [
    "type()\n",
    "Purpose: Returns the exact type of an object.\n",
    "Strict Type Checking: It checks for the exact type of the object, not accounting for inheritance or subclass relationships.\n",
    "Usage: Suitable when you want to confirm that an object is of a specific type and not a subclass.\n"
   ]
  },
  {
   "cell_type": "code",
   "execution_count": 1,
   "metadata": {},
   "outputs": [
    {
     "name": "stdout",
     "output_type": "stream",
     "text": [
      "True\n",
      "False\n",
      "True\n",
      "True\n"
     ]
    }
   ],
   "source": [
    "class Animal:\n",
    "    pass\n",
    "\n",
    "class Dog(Animal):\n",
    "    pass\n",
    "\n",
    "dog = Dog()\n",
    "\n",
    " \n",
    "print(type(dog) == Dog)  # True (Exact match)\n",
    "print(type(dog) == Animal)  # False (Dog is a subclass of Animal)\n",
    " \n",
    "print(isinstance(dog, Dog))  # True (dog is an instance of Dog)\n",
    "print(isinstance(dog, Animal))  # True (Dog is a subclass of Animal)\n"
   ]
  },
  {
   "cell_type": "markdown",
   "metadata": {},
   "source": [
    "# The Ternary Operator"
   ]
  },
  {
   "cell_type": "code",
   "execution_count": null,
   "metadata": {},
   "outputs": [],
   "source": [
    "def is_adult(age): \n",
    "return True if age > 18 else False\n",
    "#  <result_if_true> if <condition> else <result_if_fals>\n"
   ]
  },
  {
   "cell_type": "code",
   "execution_count": 3,
   "metadata": {},
   "outputs": [
    {
     "name": "stdout",
     "output_type": "stream",
     "text": [
      "I am 23 year old\n"
     ]
    }
   ],
   "source": [
    "age = 23\n",
    "print(f\"I am {age} year old\")"
   ]
  },
  {
   "cell_type": "code",
   "execution_count": 8,
   "metadata": {},
   "outputs": [
    {
     "name": "stdout",
     "output_type": "stream",
     "text": [
      "False\n",
      "False\n"
     ]
    }
   ],
   "source": [
    "\n",
    "\n",
    "# all function return True if one of the value passed to it are true\n",
    "var_1 = True; var_2 = False; var_3 = True; var_4=False\n",
    "\n",
    "vars = any([var_1, var_2, var_3,var_4])\n",
    "print(vars)\n",
    "# all function return True If all of the values passed to it are True\n",
    "vars = all([var_1, var_2, var_3,var_4])\n",
    "print(vars)"
   ]
  },
  {
   "cell_type": "code",
   "execution_count": 15,
   "metadata": {},
   "outputs": [
    {
     "name": "stdout",
     "output_type": "stream",
     "text": [
      "1\n",
      "State.BOTH\n",
      "[<State.BOTH: 2>, <State.INACTIVE: 0>, <State.ACTIVE: 1>]\n"
     ]
    }
   ],
   "source": [
    "from enum import Enum\n",
    "class State(Enum): \n",
    "    BOTH = 2\n",
    "    INACTIVE = 0 \n",
    "    ACTIVE = 1\n",
    "    \n",
    "print(State.ACTIVE.value)    \n",
    "print(State(2))\n",
    "print(list(State)) "
   ]
  },
  {
   "cell_type": "markdown",
   "metadata": {},
   "source": [
    "# In an if-elif-else chain\n",
    "Only the first condition that evaluates to True is executed, and the rest of the conditions are skipped entirely."
   ]
  },
  {
   "cell_type": "code",
   "execution_count": 18,
   "metadata": {},
   "outputs": [
    {
     "name": "stdout",
     "output_type": "stream",
     "text": [
      "The condition\n",
      "was True\n"
     ]
    }
   ],
   "source": [
    "condition = True \n",
    "name = \"arman\" \n",
    " \n",
    "if condition == True: \n",
    "    print(\"The condition\") \n",
    "    print(\"was True\") \n",
    "elif name == \"arman\": \n",
    "    print(f\"Hello {name}\") \n",
    "else:    \n",
    "    print(\"The condition\") \n",
    "    print(\"was False\")"
   ]
  }
 ],
 "metadata": {
  "kernelspec": {
   "display_name": "Python 3",
   "language": "python",
   "name": "python3"
  },
  "language_info": {
   "codemirror_mode": {
    "name": "ipython",
    "version": 3
   },
   "file_extension": ".py",
   "mimetype": "text/x-python",
   "name": "python",
   "nbconvert_exporter": "python",
   "pygments_lexer": "ipython3",
   "version": "3.12.3"
  }
 },
 "nbformat": 4,
 "nbformat_minor": 2
}
