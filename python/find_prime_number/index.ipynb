{
 "cells": [
  {
   "cell_type": "code",
   "execution_count": 14,
   "metadata": {},
   "outputs": [
    {
     "name": "stdout",
     "output_type": "stream",
     "text": [
      "Please enter a valid integer.\n"
     ]
    }
   ],
   "source": [
    "import math\n",
    "\n",
    "def check_prime(n:int): \n",
    "    if n <= 1:\n",
    "        print(f\"{n} is not a prime number.\")  \n",
    "    if n == 2:\n",
    "        print(f\"{n} is a prime number.\")  \n",
    "    if n % 2 == 0:\n",
    "        print(f\"{n} is not a prime number.\")\n",
    " \n",
    "    for i in range(3, int(math.sqrt(n)) + 1, 2):  \n",
    "        if n % i == 0:\n",
    "            print(f\"{n} is not a prime number.\")  \n",
    "\n",
    "    print(f\"{n} is a prime number.\")  \n",
    "\n",
    "try:\n",
    "    number = int(input(\"Enter a number to check if it's prime: \"))\n",
    "    check_prime(number)\n",
    "except ValueError:\n",
    "    print(\"Please enter a valid integer.\")\n"
   ]
  }
 ],
 "metadata": {
  "kernelspec": {
   "display_name": "Python 3",
   "language": "python",
   "name": "python3"
  },
  "language_info": {
   "codemirror_mode": {
    "name": "ipython",
    "version": 3
   },
   "file_extension": ".py",
   "mimetype": "text/x-python",
   "name": "python",
   "nbconvert_exporter": "python",
   "pygments_lexer": "ipython3",
   "version": "3.12.3"
  }
 },
 "nbformat": 4,
 "nbformat_minor": 2
}
