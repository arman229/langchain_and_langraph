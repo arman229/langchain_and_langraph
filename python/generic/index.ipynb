{
 "cells": [
  {
   "cell_type": "markdown",
   "id": "8af0c146",
   "metadata": {},
   "source": [
    "### Generic\n",
    "Generic means writing code that can work with any type, but only one type at a time — safely and consistently.\n",
    "\n",
    "Generics allow us to define functions and classes that can operate on different data types while maintaining type safety."
   ]
  },
  {
   "cell_type": "code",
   "execution_count": 2,
   "id": "33a3498f",
   "metadata": {},
   "outputs": [
    {
     "name": "stdout",
     "output_type": "stream",
     "text": [
      "[1, 'hello']\n"
     ]
    }
   ],
   "source": [
    "from typing import Any,Union\n",
    "class Stack:\n",
    "    def __init__(self):\n",
    "        self.items:list[Any] = []\n",
    "\n",
    "    def push(self, item:Union[str,int]):\n",
    "        self.items.append(item)\n",
    "\n",
    "    def pop(self):\n",
    "        return self.items.pop()\n",
    "\n",
    "# This stack could mix types (not safe)\n",
    "stack = Stack()\n",
    "stack.push(1)\n",
    "stack.push(\"hello\")  # No error now, but dangerous later\n",
    "\n",
    "# val = stack.pop()  # Might return str when you expect int\n",
    "print(stack.items)  # Output: [1, 'hello']\n"
   ]
  },
  {
   "cell_type": "code",
   "execution_count": 3,
   "id": "19497ee5",
   "metadata": {},
   "outputs": [],
   "source": [
    "\n",
    "from typing import  Generic\n",
    "\n",
    "from typing_extensions import TypeVar\n",
    "\n",
    "NT = TypeVar('NT')\n",
    "\n",
    "class NewStack(Generic[NT]):\n",
    "    def __init__(self):\n",
    "        self.items:list[NT] = []\n",
    "\n",
    "    def push(self, item:NT) -> None:\n",
    "        self.items.append(item)\n",
    "\n",
    "    def pop(self):\n",
    "        return self.items.pop() \n",
    "new_stack = NewStack[int]()\n",
    "new_stack.push(1)\n",
    "new_stack.push(\"hello\")   \n",
    "\n",
    "# val = new_stack.pop()   \n",
    "# print(new_stack.items)  # Output: [1, 'hello']\n"
   ]
  },
  {
   "cell_type": "code",
   "execution_count": null,
   "id": "cf966068",
   "metadata": {},
   "outputs": [
    {
     "name": "stdout",
     "output_type": "stream",
     "text": [
      "[1, 'hello']\n"
     ]
    }
   ],
   "source": [
    "from typing import Generic\n",
    "from typing_extensions import TypeVar\n",
    "\n",
    "T = TypeVar(\"T\")\n",
    "\n",
    "class Stack(Generic[T]):\n",
    "    def __init__(self):\n",
    "        self.items: list[T] = []\n",
    "\n",
    "    def push(self, item: T):\n",
    "        self.items.append(item)\n",
    "\n",
    "    def pop(self) -> T:\n",
    "        return self.items.pop()\n",
    "stack = Stack[int]()\n",
    "stack.push(1)\n",
    "stack.push(\"hello\")  # ❌ Type checker will give an error\n",
    "print(stack.items)\n"
   ]
  },
  {
   "cell_type": "code",
   "execution_count": 24,
   "id": "7a303be5",
   "metadata": {},
   "outputs": [
    {
     "name": "stdout",
     "output_type": "stream",
     "text": [
      "1\n",
      "a\n"
     ]
    }
   ],
   "source": [
    "from typing import List\n",
    "\n",
    "def add_numbers(numbers: List[int]):\n",
    "    print(numbers[0])\n",
    "\n",
    "add_numbers([1, 2, 3])      # Correct usage\n",
    "add_numbers([\"a\", \"b\", \"c\"])  # Static checker warns: wrong type (str instead of int)\n"
   ]
  },
  {
   "cell_type": "code",
   "execution_count": 25,
   "id": "6345618c",
   "metadata": {},
   "outputs": [
    {
     "name": "stdout",
     "output_type": "stream",
     "text": [
      "123\n",
      "[2, 2, 2, 3]\n",
      "hello\n"
     ]
    }
   ],
   "source": [
    "from typing import Generic\n",
    "\n",
    "Ts = TypeVar('Ts')\n",
    "\n",
    "class Box(Generic[Ts]):\n",
    "    def __init__(self, content: Ts):\n",
    "        self.content = content\n",
    "\n",
    "    def get_content(self) -> Ts:\n",
    "        return self.content\n",
    "int_box = Box[int](123)\n",
    "print(int_box.get_content())  # Output: 123\n",
    "\n",
    "int_box = Box[str]([2,2,2,3])\n",
    "print(int_box.get_content())  # Output: 123\n",
    "\n",
    "str_box = Box[str](\"hello\")\n",
    "print(str_box.get_content())  # Output: hello\n"
   ]
  },
  {
   "cell_type": "code",
   "execution_count": 20,
   "id": "cfc1b250",
   "metadata": {},
   "outputs": [
    {
     "name": "stdout",
     "output_type": "stream",
     "text": [
      "age\n",
      "30\n"
     ]
    }
   ],
   "source": [
    "\n",
    "K = TypeVar('K')\n",
    "V = TypeVar('V')\n",
    "\n",
    "# Incorrect Usage (without Generic inheritance)\n",
    "from dataclasses import dataclass\n",
    "@dataclass\n",
    "class KeyValuePair(Generic[K,V]):\n",
    "    key: K\n",
    "    value: V\n",
    "pair = KeyValuePair(\"age\", 30)\n",
    "\n",
    "print(pair.key)    # 'age'\n",
    "print(pair.value)  # 30    "
   ]
  }
 ],
 "metadata": {
  "kernelspec": {
   "display_name": "Python 3",
   "language": "python",
   "name": "python3"
  },
  "language_info": {
   "codemirror_mode": {
    "name": "ipython",
    "version": 3
   },
   "file_extension": ".py",
   "mimetype": "text/x-python",
   "name": "python",
   "nbconvert_exporter": "python",
   "pygments_lexer": "ipython3",
   "version": "3.13.3"
  }
 },
 "nbformat": 4,
 "nbformat_minor": 5
}
