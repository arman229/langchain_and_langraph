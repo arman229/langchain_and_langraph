{
 "cells": [
  {
   "cell_type": "code",
   "execution_count": 1,
   "metadata": {},
   "outputs": [
    {
     "name": "stdout",
     "output_type": "stream",
     "text": [
      "Iteration 1\n",
      "Current time: Tue May  6 18:04:05 2025\n",
      "Waited for 2 seconds.\n",
      "Iteration 2\n",
      "Current time: Tue May  6 18:04:07 2025\n",
      "Waited for 2 seconds.\n",
      "Iteration 3\n",
      "Current time: Tue May  6 18:04:09 2025\n",
      "Waited for 2 seconds.\n",
      "Total time it takes : 6.001804351806641 seconds\n"
     ]
    }
   ],
   "source": [
    "import time\n",
    "\n",
    "def fetching_data(): \n",
    "    print(\"Current time:\", time.ctime()) \n",
    "    time.sleep(2) \n",
    "    print(\"Waited for 2 seconds.\")\n",
    "    \n",
    "def main(): \n",
    "    for i in range(3):\n",
    "        print(f'Iteration {i+1}')\n",
    "        fetching_data() \n",
    "    \n",
    "start_time = time.time()    \n",
    "main()  \n",
    "end_time = time.time()\n",
    "print(f'Total time it takes : {end_time - start_time} seconds')"
   ]
  },
  {
   "cell_type": "code",
   "execution_count": 11,
   "metadata": {},
   "outputs": [
    {
     "name": "stdout",
     "output_type": "stream",
     "text": [
      "Current time: Sat Apr 19 11:28:13 2025\n",
      "Current time: Sat Apr 19 11:28:13 2025\n",
      "Current time: Sat Apr 19 11:28:13 2025\n",
      "Waited for 2 seconds.\n",
      "Waited for 2 seconds.\n",
      "Waited for 2 seconds.\n",
      "Total time it takes : 2.00 seconds\n"
     ]
    }
   ],
   "source": [
    "import time\n",
    "import asyncio\n",
    "\n",
    "async def fetching_data(): \n",
    "    print(\"Current time:\", time.ctime()) \n",
    "    await asyncio.sleep(2) \n",
    "    print(\"Waited for 2 seconds.\")\n",
    "\n",
    "async def main(): \n",
    "    tasks = [fetching_data() for _ in range(3)]\n",
    "    await asyncio.gather(*tasks)\n",
    "    \n",
    "start_time = time.time()    \n",
    "await main()    \n",
    "end_time = time.time()\n",
    "print(f'Total time it takes : {end_time - start_time:.2f} seconds')\n"
   ]
  },
  {
   "cell_type": "code",
   "execution_count": 27,
   "metadata": {},
   "outputs": [
    {
     "name": "stdout",
     "output_type": "stream",
     "text": [
      "3\n"
     ]
    }
   ],
   "source": [
    "def listofargument(*x):\n",
    "    print(x)\n",
    "    \n",
    "x=3 # or x=[1,2,3]\n",
    "listofargument(x) \n",
    "   "
   ]
  },
  {
   "cell_type": "markdown",
   "metadata": {},
   "source": [
    "#### What does *tasks mean?\n",
    "The * operator is called the unpacking operator in Python.\n",
    "It takes a list (or tuple) and unpacks its elements as individual arguments."
   ]
  },
  {
   "cell_type": "code",
   "execution_count": 19,
   "metadata": {},
   "outputs": [
    {
     "name": "stdout",
     "output_type": "stream",
     "text": [
      "1 2 3 4\n"
     ]
    }
   ],
   "source": [
    "x=[1,2,3,4] \n",
    "print(*x)  # unpacking the list print(1,2,3,4)"
   ]
  },
  {
   "cell_type": "code",
   "execution_count": 21,
   "metadata": {},
   "outputs": [
    {
     "name": "stdout",
     "output_type": "stream",
     "text": [
      "2 4\n"
     ]
    }
   ],
   "source": [
    "print(2,4) # in print by default which is a space (sep=\" \")."
   ]
  },
  {
   "cell_type": "code",
   "execution_count": 23,
   "metadata": {},
   "outputs": [
    {
     "name": "stdout",
     "output_type": "stream",
     "text": [
      "1 2 3 4\n"
     ]
    }
   ],
   "source": [
    "def listofargument(*x):\n",
    "    print(*x)\n",
    "\n",
    "x = [1, 2, 3, 4]\n",
    "listofargument(*x)"
   ]
  },
  {
   "cell_type": "code",
   "execution_count": 22,
   "metadata": {},
   "outputs": [
    {
     "name": "stdout",
     "output_type": "stream",
     "text": [
      "task1 task2 task3\n"
     ]
    }
   ],
   "source": [
    "tasks = ['task1', 'task2', 'task3']\n",
    "\n",
    "print(*tasks)\n",
    " \n"
   ]
  },
  {
   "cell_type": "markdown",
   "metadata": {},
   "source": [
    "  \n",
    "*What is the difference between sequential, parallel, and concurrent execution (in order)?*\n",
    "\n",
    "---\n",
    "\n",
    "Let's explain all **three** execution styles **in sequence**, with **simple real-life and code examples**.\n",
    "\n",
    "---\n",
    "\n",
    "## 🔢 1. **Sequential Execution**\n",
    "- One task runs **at a time**, one **after** another.\n",
    "- **Slowest** method but **simplest**.\n",
    "  \n",
    "### 🔧 Example:\n",
    "\n",
    "```python\n",
    "import time\n",
    "\n",
    "def task(name):\n",
    "    print(f\"{name} started\")\n",
    "    time.sleep(2)\n",
    "    print(f\"{name} done\")\n",
    "\n",
    "task(\"A\")\n",
    "task(\"B\")\n",
    "task(\"C\")\n",
    "```\n",
    "\n",
    "### ⏱️ Output:\n",
    "```\n",
    "A started → A done (2s)  \n",
    "B started → B done (4s)  \n",
    "C started → C done (6s)\n",
    "```\n",
    "\n",
    "> Total time: **6 seconds**\n",
    "\n",
    "### 🍳 Analogy:\n",
    "One chef cooks dish A, finishes, then dish B, then dish C — **one by one**.\n",
    "\n",
    "---\n",
    "\n",
    "## ⚙️ 2. **Concurrent Execution**\n",
    "- Tasks run **independently**, but **not truly at the same time**.\n",
    "- They are **started together**, but only **one runs at a time**, switching quickly.\n",
    "- Good for **I/O-bound** operations.\n",
    "\n",
    "### 🔧 Example using `asyncio`:\n",
    "\n",
    "```python\n",
    "import asyncio\n",
    "\n",
    "async def task(name):\n",
    "    print(f\"{name} started\")\n",
    "    await asyncio.sleep(2)\n",
    "    print(f\"{name} done\")\n",
    "\n",
    "async def main():\n",
    "    await asyncio.gather(task(\"A\"), task(\"B\"), task(\"C\"))\n",
    "\n",
    "await main()\n",
    "```\n",
    "\n",
    "### ⏱️ Output:\n",
    "```\n",
    "A started  \n",
    "B started  \n",
    "C started  \n",
    "A done  \n",
    "B done  \n",
    "C done\n",
    "```\n",
    "\n",
    "> Total time: **~2 seconds**\n",
    "\n",
    "### 🍳 Analogy:\n",
    "One chef **starts 3 dishes** and switches between them while one is boiling or baking.\n",
    "\n",
    "---\n",
    "\n",
    "## 🧠 3. **Parallel Execution**\n",
    "- Tasks run **at the same time** using **multiple cores** (true multitasking).\n",
    "- Great for **CPU-heavy** operations (math, image processing).\n",
    "\n",
    "### 🔧 Example using `multiprocessing`:\n",
    "\n",
    "```python\n",
    "from multiprocessing import Process\n",
    "import time\n",
    "\n",
    "def task(name):\n",
    "    print(f\"{name} started\")\n",
    "    time.sleep(2)\n",
    "    print(f\"{name} done\")\n",
    "\n",
    "if __name__ == \"__main__\":\n",
    "    p1 = Process(target=task, args=(\"A\",))\n",
    "    p2 = Process(target=task, args=(\"B\",))\n",
    "    p3 = Process(target=task, args=(\"C\",))\n",
    "\n",
    "    p1.start()\n",
    "    p2.start()\n",
    "    p3.start()\n",
    "\n",
    "    p1.join()\n",
    "    p2.join()\n",
    "    p3.join()\n",
    "```\n",
    "\n",
    "### ⏱️ Output:\n",
    "```\n",
    "A started  \n",
    "B started  \n",
    "C started  \n",
    "A done  \n",
    "B done  \n",
    "C done\n",
    "```\n",
    "\n",
    "> Total time: **~2 seconds**\n",
    "\n",
    "### 🍳 Analogy:\n",
    "**3 chefs** cooking dishes A, B, and C **at the same time**, each with their own kitchen.\n",
    "\n",
    "---\n",
    "\n",
    "## 📊 Final Comparison\n",
    "\n",
    "| Style        | Execution Flow       | Best For     | Time (3 tasks) |\n",
    "|--------------|----------------------|--------------|----------------|\n",
    "| Sequential   | A → B → C            | Simple code  | ~6 sec         |\n",
    "| Concurrent   | A↔B↔C (switching)    | I/O-bound    | ~2 sec         |\n",
    "| Parallel     | A + B + C (same time)| CPU-bound    | ~2 sec         |\n",
    "\n",
    "---\n",
    " "
   ]
  },
  {
   "cell_type": "code",
   "execution_count": null,
   "metadata": {},
   "outputs": [],
   "source": []
  }
 ],
 "metadata": {
  "kernelspec": {
   "display_name": "Python 3",
   "language": "python",
   "name": "python3"
  },
  "language_info": {
   "codemirror_mode": {
    "name": "ipython",
    "version": 3
   },
   "file_extension": ".py",
   "mimetype": "text/x-python",
   "name": "python",
   "nbconvert_exporter": "python",
   "pygments_lexer": "ipython3",
   "version": "3.13.3"
  }
 },
 "nbformat": 4,
 "nbformat_minor": 2
}
