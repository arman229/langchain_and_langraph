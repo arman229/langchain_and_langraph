{
 "cells": [
  {
   "cell_type": "code",
   "execution_count": 6,
   "metadata": {},
   "outputs": [
    {
     "name": "stdout",
     "output_type": "stream",
     "text": [
      "parts:['Action', 'calculate', '4 + 5']\n",
      "Action Name: calculate\n",
      "Parameter: 4 + 5\n"
     ]
    }
   ],
   "source": [
    "def parse_action(line):\n",
    "    if line.startswith(\"Action: \"):  # Check if the line starts with \"Action: \"\n",
    "        parts = line.split(\": \")  # Split at \": \", max 2 splits\n",
    "        print(f'parts:{parts}')\n",
    "        if len(parts) == 3:  # Ensure we have \"Action\", action_name, and parameter\n",
    "            _, action_name, parameter = parts\n",
    "            return action_name, parameter  # Return extracted values\n",
    "    return None  # Return None if the format is incorrect\n",
    "line = \"Action: calculate: 4 + 5\"\n",
    "result = parse_action(line)\n",
    "\n",
    "if result:\n",
    "    action, parameter = result\n",
    "    print(\"Action Name:\", action)   \n",
    "    print(\"Parameter:\", parameter)   \n",
    "else:\n",
    "    print(\"Invalid format\")\n"
   ]
  },
  {
   "cell_type": "code",
   "execution_count": 9,
   "metadata": {},
   "outputs": [
    {
     "name": "stdout",
     "output_type": "stream",
     "text": [
      "['Action', 'describe: The result is: 10']\n"
     ]
    }
   ],
   "source": [
    "\n",
    "line = \"Action: describe: The result is: 10\"\n",
    "parts = line.split(\": \",1) # Split at \": \", max 1 splits and its output is ['Action', 'describe: The result is: 10']\n",
    "print(parts)"
   ]
  },
  {
   "cell_type": "code",
   "execution_count": 31,
   "metadata": {},
   "outputs": [
    {
     "name": "stdout",
     "output_type": "stream",
     "text": [
      "<re.Match object; span=(0, 4), match='iiiI'>\n",
      "Captured word: <re.Match object; span=(0, 4), match='iiiI'>\n"
     ]
    }
   ],
   "source": [
    "import re\n",
    "\n",
    "# Define a pattern to capture a word\n",
    "pattern = re.compile(r\"\\w+\")  # (\\w+) captures a single word\n",
    "\n",
    "# Example text\n",
    "text = \"iiiI dl*lo123\"\n",
    "\n",
    "# Match the pattern\n",
    "match = pattern.match(text)\n",
    "print(match)\n",
    "# Print the captured word\n",
    "if match:\n",
    "    print(\"Captured word:\", match)\n"
   ]
  },
  {
   "cell_type": "code",
   "execution_count": 41,
   "metadata": {},
   "outputs": [
    {
     "name": "stdout",
     "output_type": "stream",
     "text": [
      "Action: calculate\n",
      "Parameter: 4 + 5 *&^ oo\n"
     ]
    }
   ],
   "source": [
    "import re\n",
    "\n",
    "action_re = re.compile(r'^Action: (\\w+): (.*)$')\n",
    "\n",
    "line = \"Action: calculate: 4 + 5 *&^ oo\"\n",
    "match = action_re.match(line)\n",
    "\n",
    "if match:\n",
    "    action_name, parameter = match.groups()\n",
    "    print(\"Action:\", action_name)\n",
    "    print(\"Parameter:\", parameter)\n"
   ]
  },
  {
   "cell_type": "code",
   "execution_count": 35,
   "metadata": {},
   "outputs": [
    {
     "name": "stdout",
     "output_type": "stream",
     "text": [
      "Match 1: No Match\n"
     ]
    }
   ],
   "source": [
    "import re\n",
    "\n",
    "pattern = re.compile(r\"Hello (\\w+)$\")  # '$' ensures the match must end here\n",
    "\n",
    "text1 = \"Hello World, how are you?\"  # Extra text after 'World'\n",
    "text2 = \"Hello John d\"  # No extra text\n",
    "\n",
    "match1 = pattern.match(text1)\n",
    "match2 = pattern.match(text2)\n",
    "\n",
    "if match1:\n",
    "    print(\"Match 1:\", match1.group(1))  \n",
    "else:\n",
    "    print(\"Match 1: No Match\")  # Will not match because text1 has extra words\n",
    "\n",
    "if match2:\n",
    "    print(\"Match 2:\", match2.group(1))\n"
   ]
  },
  {
   "cell_type": "code",
   "execution_count": 34,
   "metadata": {},
   "outputs": [
    {
     "name": "stdout",
     "output_type": "stream",
     "text": [
      "Match 1: World\n",
      "Match 2: John\n"
     ]
    }
   ],
   "source": [
    "import re\n",
    "\n",
    "pattern = re.compile(r\"Hello (\\w+)\")  # No '$' at the end\n",
    "\n",
    "text1 = \"Hello World, how are you?\"\n",
    "text2 = \"Hello John\"\n",
    "\n",
    "match1 = pattern.match(text1)\n",
    "match2 = pattern.match(text2)\n",
    "\n",
    "if match1:\n",
    "    print(\"Match 1:\", match1.group(1))  # 'World' is captured, but the string continues\n",
    "if match2:\n",
    "    print(\"Match 2:\", match2.group(1))  # 'John' is captured\n"
   ]
  },
  {
   "cell_type": "code",
   "execution_count": 40,
   "metadata": {},
   "outputs": [
    {
     "name": "stdout",
     "output_type": "stream",
     "text": [
      "Match 1: True\n",
      "Match 2: False\n"
     ]
    }
   ],
   "source": [
    "import re\n",
    "\n",
    "action_re = re.compile(r\"^Action: (\\w+): (\\w+)$\")  # (\\w+) instead of (.*)\n",
    "\n",
    "text1 = \"Action: Jump: High\"  # ✅ MATCHES\n",
    "text2 = \"Action: Move: Forward now\"  # ❌ NOW IT WILL NOT MATCH\n",
    "\n",
    "match1 = action_re.match(text1)\n",
    "match2 = action_re.match(text2)\n",
    "\n",
    "print(\"Match 1:\", bool(match1))  # True ✅\n",
    "print(\"Match 2:\", bool(match2))  # False ❌ (extra word \"now\" breaks it)\n"
   ]
  },
  {
   "cell_type": "code",
   "execution_count": null,
   "metadata": {},
   "outputs": [],
   "source": []
  }
 ],
 "metadata": {
  "kernelspec": {
   "display_name": "Python 3",
   "language": "python",
   "name": "python3"
  },
  "language_info": {
   "codemirror_mode": {
    "name": "ipython",
    "version": 3
   },
   "file_extension": ".py",
   "mimetype": "text/x-python",
   "name": "python",
   "nbconvert_exporter": "python",
   "pygments_lexer": "ipython3",
   "version": "3.12.3"
  }
 },
 "nbformat": 4,
 "nbformat_minor": 2
}
