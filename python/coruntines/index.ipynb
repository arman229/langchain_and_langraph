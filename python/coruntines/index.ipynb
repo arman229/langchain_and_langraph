{
 "cells": [
  {
   "cell_type": "code",
   "execution_count": 1,
   "id": "8b818384",
   "metadata": {},
   "outputs": [],
   "source": [
    "import nest_asyncio\n",
    "nest_asyncio.apply()"
   ]
  },
  {
   "cell_type": "code",
   "execution_count": 29,
   "id": "619df415",
   "metadata": {},
   "outputs": [
    {
     "name": "stdout",
     "output_type": "stream",
     "text": [
      "Hello, World!\n",
      "Goodbye, World!\n"
     ]
    },
    {
     "data": {
      "text/plain": [
       "'main completed'"
      ]
     },
     "execution_count": 29,
     "metadata": {},
     "output_type": "execute_result"
    }
   ],
   "source": [
    "import asyncio\n",
    "\n",
    "async def main():\n",
    "    print(\"Hello, World!\")\n",
    "    await asyncio.sleep(2)\n",
    "    print(\"Goodbye, World!\")\n",
    "    return \"main completed\"\n",
    "\n",
    "asyncio.run(main())\n",
    "# if __name__ == \"__main__\":\n",
    "#     resp =  await main()\n",
    "#     print(f\"respon: {resp}\")"
   ]
  },
  {
   "cell_type": "markdown",
   "id": "0a871292",
   "metadata": {},
   "source": [
    " \n",
    "\n",
    "### ✅ What Are Coroutines (with More Detail)?\n",
    "\n",
    "Coroutines are functions defined with `async def`. They don’t run immediately; instead, they return something you **can await** later.\n",
    "\n",
    "They are the **building blocks** of `asyncio`.\n",
    "\n",
    "---\n",
    "\n",
    "### 🧠 Key Properties:\n",
    "\n",
    "* Coroutines are like **normal functions**, but they can **pause themselves** using `await`.\n",
    "* While paused, Python can **switch to another coroutine** instead of waiting idly.\n",
    "* Coroutines must be called with `await` or run using an event loop.\n",
    "\n",
    "---\n",
    "\n",
    "### 📦 Example:\n",
    "\n",
    "```python\n",
    "import asyncio\n",
    "\n",
    "async def greet():\n",
    "    print(\"Hi\")\n",
    "    await asyncio.sleep(2)  # Pauses here for 2 seconds\n",
    "    print(\"Bye\")\n",
    "\n",
    "await greet()\n",
    "```\n",
    "\n",
    "Here’s what happens:\n",
    "\n",
    "1. `greet()` is called.\n",
    "2. It prints \"Hi\".\n",
    "3. It waits (`await`) for 2 seconds without blocking.\n",
    "4. After that, it resumes and prints \"Bye\".\n",
    "\n",
    "---\n",
    "\n",
    "### 🛠 Real-Life Analogy\n",
    "\n",
    "Think of a coroutine like **putting something in the oven**:\n",
    "\n",
    "* You start cooking one dish.\n",
    "* Instead of waiting beside the oven, you start cooking another.\n",
    "* When the timer beeps, you go back and finish the first dish.\n",
    "\n",
    "This **non-blocking waiting** is exactly what coroutines do.\n",
    "\n",
    "---\n",
    " "
   ]
  },
  {
   "cell_type": "code",
   "execution_count": 18,
   "id": "81b165f6",
   "metadata": {},
   "outputs": [
    {
     "name": "stdout",
     "output_type": "stream",
     "text": [
      "<coroutine object foo at 0x0000027ED6A41850>\n"
     ]
    }
   ],
   "source": [
    "async def foo():  # ← coroutine function definition\n",
    "    return 123\n",
    "\n",
    "result =  foo()  # This is a coroutine object, not 123\n",
    "print(result)  # Output: <coroutine object foo at ...>"
   ]
  },
  {
   "cell_type": "code",
   "execution_count": 20,
   "id": "646ac557",
   "metadata": {},
   "outputs": [
    {
     "name": "stdout",
     "output_type": "stream",
     "text": [
      "123\n"
     ]
    }
   ],
   "source": [
    "def foo():\n",
    "    return 123\n",
    "\n",
    "results = foo()  \n",
    "print(results) "
   ]
  },
  {
   "cell_type": "code",
   "execution_count": 30,
   "id": "29d95e1d",
   "metadata": {},
   "outputs": [
    {
     "name": "stdout",
     "output_type": "stream",
     "text": [
      "('prata', 'pizza')\n",
      "Time taken: 5.002099514007568 seconds\n"
     ]
    }
   ],
   "source": [
    "import time\n",
    "def make_prata():\n",
    "    time.sleep(2)  # Simulating a blocking operation\n",
    "    return \"prata\"\n",
    "def make_pizza():\n",
    "    time.sleep(3)  # Simulating a blocking operation\n",
    "    return \"pizza\"\n",
    "\n",
    "def callingfun():\n",
    "    prata = make_prata()\n",
    "    pizza = make_pizza()\n",
    "    return prata, pizza\n",
    "s_time = time.time()\n",
    "resp = callingfun()\n",
    "print(resp)  # Output: ('prata', 'pizza')\n",
    "e_time = time.time()\n",
    "print(f\"Time taken: {e_time - s_time} seconds\")  # Output: Time taken: 5.0 seconds\n",
    "\n"
   ]
  },
  {
   "cell_type": "code",
   "execution_count": 34,
   "id": "4f53cc13",
   "metadata": {},
   "outputs": [
    {
     "name": "stdout",
     "output_type": "stream",
     "text": [
      "('prata', 'pizza')\n",
      "Time taken: 3.011178731918335 seconds\n"
     ]
    }
   ],
   "source": [
    "import asyncio\n",
    "import time \n",
    "\n",
    "async def make_prata():\n",
    "    await asyncio.sleep(2)  # Simulating a non-blocking operation\n",
    "    return \"prata\"\n",
    "\n",
    "async def make_pizza():\n",
    "    await asyncio.sleep(3)  # Simulating a non-blocking operation\n",
    "    return \"pizza\"\n",
    "\n",
    "\n",
    "async def callingfun(): \n",
    "    # tasks = [make_prata(), make_pizza()]\n",
    "    tasks =[asyncio.create_task(make_prata()),asyncio.create_task(make_pizza())]  \n",
    "    prata, pizza = await asyncio.gather(*tasks)\n",
    "    return prata, pizza\n",
    "s_time = time.time()\n",
    "resp = asyncio.run(callingfun())\n",
    "print(resp)  # Output: ('prata', 'pizza')\n",
    "e_time = time.time()\n",
    "print(f\"Time taken: {e_time - s_time} seconds\")  # Output: Time taken: 3.0 seconds\n"
   ]
  },
  {
   "cell_type": "code",
   "execution_count": null,
   "id": "b4ff1f8a",
   "metadata": {},
   "outputs": [
    {
     "name": "stdout",
     "output_type": "stream",
     "text": [
      "Time taken: 0.00 sec\n"
     ]
    },
    {
     "name": "stdout",
     "output_type": "stream",
     "text": [
      "Start prata\n",
      "Start pizza\n",
      "Done prata\n",
      "Done pizza\n"
     ]
    }
   ],
   "source": [
    "import asyncio\n",
    "import time\n",
    "\n",
    "async def cook(name, sec):\n",
    "    print(f\"Start {name}\")\n",
    "    await asyncio.sleep(sec)\n",
    "    print(f\"Done {name}\")\n",
    "    return name\n",
    "\n",
    "async def main():\n",
    "    task1 = asyncio.create_task(cook(\"prata\", 2))\n",
    "    task2 = asyncio.create_task(cook(\"pizza\", 3))\n",
    "\n",
    "    result1 ,result2=await asyncio.gather(task1, task2)\n",
    "    print(f\"Result: {result1},{result2}\")\n",
    "\n",
    "start = time.time()\n",
    "asyncio.run(main())\n",
    "print(f\"Time taken: {time.time() - start:.2f} sec\")\n"
   ]
  },
  {
   "cell_type": "code",
   "execution_count": 43,
   "id": "03f6c8c1",
   "metadata": {},
   "outputs": [
    {
     "name": "stdout",
     "output_type": "stream",
     "text": [
      "Start prata\n",
      "Start pizza\n",
      "Done prata\n",
      "Done pizza\n",
      "Result: prata, pizza\n",
      "Time taken: 3.00 sec\n"
     ]
    }
   ],
   "source": [
    "import asyncio\n",
    "import time\n",
    "\n",
    "async def cook(name, sec):\n",
    "    print(f\"Start {name}\")\n",
    "    await asyncio.sleep(sec)\n",
    "    print(f\"Done {name}\")\n",
    "    return name\n",
    "\n",
    "async def main():\n",
    "    result1, result2 = await asyncio.gather(\n",
    "        cook(\"prata\", 2),\n",
    "        cook(\"pizza\", 3)\n",
    "    )\n",
    "    print(f\"Result: {result1}, {result2}\")\n",
    "\n",
    "start = time.time()\n",
    "asyncio.run(main())\n",
    "print(f\"Time taken: {time.time() - start:.2f} sec\")\n"
   ]
  },
  {
   "cell_type": "code",
   "execution_count": 5,
   "id": "e5a09f31",
   "metadata": {},
   "outputs": [
    {
     "name": "stdout",
     "output_type": "stream",
     "text": [
      "Starting Coroutine...\n",
      "Going to Maldives on a 2 day vacation\n",
      "\tTask done...\n",
      "Come back from vacation\n",
      "future =  My Coroutine completed\n"
     ]
    }
   ],
   "source": [
    "\n",
    "import asyncio\n",
    "\n",
    "async def my_coroutine():\n",
    "    await asyncio.sleep(1)\n",
    "    print(\"\\tTask done...\")\n",
    "    return \"My Coroutine completed\"\n",
    "\n",
    "async def main():\n",
    "    # Create a Task (which returns a Future)\n",
    "    print(\"Starting Coroutine...\")\n",
    "    future = asyncio.create_task(my_coroutine())\n",
    "\n",
    "    print(\"Going to Maldives on a 2 day vacation\")\n",
    "    await asyncio.sleep(10)\n",
    "    print(\"Come back from vacation\")\n",
    "\n",
    "\n",
    "    # Await the Future\n",
    "    result = await future\n",
    "    print(\"future = \",result)\n",
    "\n",
    "asyncio.run(main())\n",
    "#await asyncio.create_task(main()"
   ]
  },
  {
   "cell_type": "code",
   "execution_count": null,
   "id": "c393dd90",
   "metadata": {},
   "outputs": [
    {
     "name": "stdout",
     "output_type": "stream",
     "text": [
      "Initial state: False\n",
      "Final state: True\n",
      "Result: Task Completed\n"
     ]
    }
   ],
   "source": [
    "import asyncio\n",
    "\n",
    "async def example_future():\n",
    "    future = asyncio.Future()   \n",
    "    print(f\"Initial state: {future.done()}\")   \n",
    "    await asyncio.sleep(2)\n",
    "\n",
    "    future.set_result(\"Task Completed\")  \n",
    "    print(f\"Final state: {future.done()}\")   \n",
    "    print(f\"Result: {future.result()}\") \n",
    "\n",
    "asyncio.run(example_future())"
   ]
  },
  {
   "cell_type": "markdown",
   "id": "bdfd7270",
   "metadata": {},
   "source": [
    "**Correction:**\n",
    "\n",
    "**“What is the current running event loop? Explain it in very simple terms using an analogy, and then relate it to the current scenario.”**\n",
    "\n",
    "---\n",
    "\n",
    "### ✅ Very Simple Analogy:\n",
    "\n",
    "**Imagine a restaurant kitchen** 🍳\n",
    "\n",
    "* The **chef** is like your CPU.\n",
    "* The **orders** (tasks) come in.\n",
    "* The **event loop** is like the **kitchen manager** who:\n",
    "\n",
    "  * Watches all the pending orders.\n",
    "  * Starts cooking when ingredients (resources) are ready.\n",
    "  * Moves to the next dish while one is boiling/waiting.\n",
    "\n",
    "So instead of one chef just standing still waiting for water to boil, the **event loop** makes sure the chef keeps cooking other dishes.\n",
    "\n",
    "---\n",
    "\n",
    "### ✅ Now Relate to Python's Event Loop:\n",
    "\n",
    "In Python `asyncio`, the **event loop** is a special system that:\n",
    "\n",
    "* **Manages all your async tasks** (like `await asyncio.sleep()`).\n",
    "* **Decides what runs next**, when a task is paused, or when it's ready to resume.\n",
    "* Only **one loop runs at a time** (in most cases).\n",
    "\n",
    "So when you do:\n",
    "\n",
    "```python\n",
    "loop = asyncio.get_running_loop()\n",
    "```\n",
    "\n",
    "You’re saying:\n",
    "\n",
    "> “Hey, give me the kitchen manager (event loop) who’s currently running the show.”\n",
    "\n",
    "Then when you call:\n",
    "\n",
    "```python\n",
    "future = loop.create_future()\n",
    "```\n",
    "\n",
    "You're giving the kitchen manager a new **pending task/order** to track.\n",
    "\n",
    "---\n",
    "\n",
    "### ✅ In Your Scenario:\n",
    "\n",
    "You created a `Future` using `asyncio.Future()` — that’s like creating a dish without telling the kitchen manager. It works if the manager (loop) is already there.\n",
    "\n",
    "But `get_running_loop().create_future()` is like:\n",
    "\n",
    "> “Hey manager, here’s a new dish to track — please handle it properly.” \n"
   ]
  },
  {
   "cell_type": "markdown",
   "id": "3a324f49",
   "metadata": {},
   "source": [
    "**“I don’t understand this part: ‘So when you do `loop = asyncio.get_running_loop()`, you’re saying: “Hey, give me the kitchen manager (event loop) who’s currently running the show.”’”**\n",
    "\n",
    "---\n",
    "\n",
    "### ✅ Let’s break it down even more simply:\n",
    "\n",
    "#### 🔧 What is `asyncio.get_running_loop()`?\n",
    "\n",
    "It means:\n",
    "\n",
    "> “Give me the currently *active* event loop.”\n",
    "\n",
    "---\n",
    "\n",
    "### 🍳 Super Simple Analogy:\n",
    "\n",
    "Imagine a kitchen in a restaurant:\n",
    "\n",
    "* The **kitchen manager** (event loop) keeps track of all cooking tasks.\n",
    "* Only **one manager** runs the kitchen at a time.\n",
    "\n",
    "Now, if you’re a chef (your code) and you want to:\n",
    "\n",
    "* Add a new task (like cooking a pizza 🍕),\n",
    "* You need to ask the **currently working manager** to help.\n",
    "\n",
    "So you say:\n",
    "\n",
    "```python\n",
    "loop = asyncio.get_running_loop()\n",
    "```\n",
    "\n",
    "Meaning:\n",
    "\n",
    "> “Hey! Who’s the kitchen manager currently managing things? I want to give them a job.”\n",
    "\n",
    "Now you can do:\n",
    "\n",
    "```python\n",
    "loop.create_future()\n",
    "```\n",
    "\n",
    "This means:\n",
    "\n",
    "> “Hey manager, please watch this new cooking task for me.”\n",
    "\n",
    "---\n",
    "\n",
    "### 💡 Why is it useful?\n",
    "\n",
    "You need the current loop if:\n",
    "\n",
    "* You’re *inside* an async function, and\n",
    "* You want to create something (like a `Future`) that the loop should manage.\n",
    "\n",
    "--- \n"
   ]
  },
  {
   "cell_type": "code",
   "execution_count": 15,
   "id": "20a1f602",
   "metadata": {},
   "outputs": [
    {
     "name": "stdout",
     "output_type": "stream",
     "text": [
      "Waiting for the result...\n",
      "Waiting to set result...\n",
      "Got result: Pizza is ready!\n"
     ]
    }
   ],
   "source": [
    "import asyncio\n",
    "\n",
    "async def set_future_value(future):\n",
    "    print(\"Waiting to set result...\")\n",
    "    await asyncio.sleep(2)\n",
    "    future.set_result(\"Pizza is ready!\")\n",
    "\n",
    "async def main():\n",
    "    loop = asyncio.get_running_loop()\n",
    "    future = loop.create_future()\n",
    "\n",
    "    # Schedule task to fill the future\n",
    "    asyncio.create_task(set_future_value(future))\n",
    "\n",
    "    print(\"Waiting for the result...\")\n",
    "    result = await future\n",
    "    print(\"Got result:\", result)\n",
    "\n",
    "asyncio.run(main())\n"
   ]
  },
  {
   "cell_type": "code",
   "execution_count": 14,
   "id": "951412f4",
   "metadata": {},
   "outputs": [
    {
     "name": "stdout",
     "output_type": "stream",
     "text": [
      "Initial state: False\n",
      "Final state: True\n",
      "Result: Task Completed\n"
     ]
    }
   ],
   "source": [
    "import asyncio\n",
    "\n",
    "async def example_future():\n",
    "    future = asyncio.Future()  # Create a Future object\n",
    "    print(f\"Initial state: {future.done()}\")  # False (Pending)\n",
    "\n",
    "    # Simulate computation\n",
    "    await asyncio.sleep(2)\n",
    "\n",
    "    future.set_result(\"Task Completed\")  # Mark future as done\n",
    "    print(f\"Final state: {future.done()}\")  # True (Done)\n",
    "    print(f\"Result: {future.result()}\")  # \"Task Completed\"\n",
    "\n",
    "asyncio.run(example_future()) "
   ]
  },
  {
   "cell_type": "code",
   "execution_count": 16,
   "id": "8df54808",
   "metadata": {},
   "outputs": [
    {
     "name": "stdout",
     "output_type": "stream",
     "text": [
      "Done!\n"
     ]
    }
   ],
   "source": [
    "import asyncio\n",
    "\n",
    "class MyAwaitable:\n",
    "    def __await__(self):\n",
    "        yield from asyncio.sleep(2).__await__()\n",
    "        return \"Done!\"\n",
    "\n",
    "async def main():\n",
    "    result = await MyAwaitable()\n",
    "    print(result)\n",
    "\n",
    "asyncio.run(main())\n"
   ]
  },
  {
   "cell_type": "code",
   "execution_count": 17,
   "id": "bc703517",
   "metadata": {},
   "outputs": [
    {
     "name": "stdout",
     "output_type": "stream",
     "text": [
      "hello\n",
      "world\n",
      "done\n"
     ]
    }
   ],
   "source": [
    "import asyncio\n",
    "\n",
    "async def say_after(delay, what):\n",
    "    await asyncio.sleep(delay)\n",
    "    print(what)\n",
    "\n",
    "async def main():\n",
    "    task1 = asyncio.create_task(say_after(1, 'hello'))\n",
    "    task2 = asyncio.create_task(say_after(2, 'world'))\n",
    "    await task2\n",
    "    print('done')\n",
    "\n",
    "asyncio.run(main())\n"
   ]
  },
  {
   "cell_type": "code",
   "execution_count": 19,
   "id": "6ec474a8",
   "metadata": {},
   "outputs": [
    {
     "name": "stdout",
     "output_type": "stream",
     "text": [
      "Hello\n"
     ]
    },
    {
     "ename": "RuntimeError",
     "evalue": "cannot reuse already awaited coroutine",
     "output_type": "error",
     "traceback": [
      "\u001b[31m---------------------------------------------------------------------------\u001b[39m",
      "\u001b[31mRuntimeError\u001b[39m                              Traceback (most recent call last)",
      "\u001b[36mCell\u001b[39m\u001b[36m \u001b[39m\u001b[32mIn[19]\u001b[39m\u001b[32m, line 6\u001b[39m\n\u001b[32m      4\u001b[39m coro = greet()  \u001b[38;5;66;03m# This creates a coroutine object\u001b[39;00m\n\u001b[32m      5\u001b[39m \u001b[38;5;28;01mawait\u001b[39;00m coro       \u001b[38;5;66;03m# ✅ First await works\u001b[39;00m\n\u001b[32m----> \u001b[39m\u001b[32m6\u001b[39m \u001b[38;5;28;01mawait\u001b[39;00m coro       \u001b[38;5;66;03m# ❌ Raises RuntimeError\u001b[39;00m\n",
      "\u001b[31mRuntimeError\u001b[39m: cannot reuse already awaited coroutine"
     ]
    }
   ],
   "source": [
    "async def greet():\n",
    "    print(\"Hello\")\n",
    "\n",
    "coro = greet()  # This creates a coroutine object\n",
    "await coro       # ✅ First await works\n",
    "await coro       # ❌ Raises RuntimeError\n"
   ]
  },
  {
   "cell_type": "code",
   "execution_count": 3,
   "id": "474cca5b",
   "metadata": {},
   "outputs": [
    {
     "name": "stdout",
     "output_type": "stream",
     "text": [
      "<coroutine object say at 0x0000024F1B100B80>\n"
     ]
    },
    {
     "name": "stderr",
     "output_type": "stream",
     "text": [
      "C:\\Users\\arman\\AppData\\Local\\Temp\\ipykernel_26972\\2101239541.py:5: RuntimeWarning: coroutine 'say' was never awaited\n",
      "  print(say())\n",
      "RuntimeWarning: Enable tracemalloc to get the object allocation traceback\n"
     ]
    }
   ],
   "source": [
    "async def say():\n",
    "    print(\"Hello\")\n",
    "    return \"world\"\n",
    "\n",
    "print(say())\n"
   ]
  },
  {
   "cell_type": "code",
   "execution_count": 4,
   "id": "54051810",
   "metadata": {},
   "outputs": [
    {
     "ename": "ValueError",
     "evalue": "Oops",
     "output_type": "error",
     "traceback": [
      "\u001b[31m---------------------------------------------------------------------------\u001b[39m",
      "\u001b[31mValueError\u001b[39m                                Traceback (most recent call last)",
      "\u001b[36mCell\u001b[39m\u001b[36m \u001b[39m\u001b[32mIn[4]\u001b[39m\u001b[32m, line 6\u001b[39m\n\u001b[32m      3\u001b[39m \u001b[38;5;28;01masync\u001b[39;00m \u001b[38;5;28;01mdef\u001b[39;00m\u001b[38;5;250m \u001b[39m\u001b[34mmain\u001b[39m():\n\u001b[32m      4\u001b[39m     \u001b[38;5;28;01mraise\u001b[39;00m \u001b[38;5;167;01mValueError\u001b[39;00m(\u001b[33m\"\u001b[39m\u001b[33mOops\u001b[39m\u001b[33m\"\u001b[39m)\n\u001b[32m----> \u001b[39m\u001b[32m6\u001b[39m \u001b[43masyncio\u001b[49m\u001b[43m.\u001b[49m\u001b[43mrun\u001b[49m\u001b[43m(\u001b[49m\u001b[43mmain\u001b[49m\u001b[43m(\u001b[49m\u001b[43m)\u001b[49m\u001b[43m)\u001b[49m\n",
      "\u001b[36mFile \u001b[39m\u001b[32m~\\AppData\\Roaming\\Python\\Python313\\site-packages\\nest_asyncio.py:30\u001b[39m, in \u001b[36m_patch_asyncio.<locals>.run\u001b[39m\u001b[34m(main, debug)\u001b[39m\n\u001b[32m     28\u001b[39m task = asyncio.ensure_future(main)\n\u001b[32m     29\u001b[39m \u001b[38;5;28;01mtry\u001b[39;00m:\n\u001b[32m---> \u001b[39m\u001b[32m30\u001b[39m     \u001b[38;5;28;01mreturn\u001b[39;00m \u001b[43mloop\u001b[49m\u001b[43m.\u001b[49m\u001b[43mrun_until_complete\u001b[49m\u001b[43m(\u001b[49m\u001b[43mtask\u001b[49m\u001b[43m)\u001b[49m\n\u001b[32m     31\u001b[39m \u001b[38;5;28;01mfinally\u001b[39;00m:\n\u001b[32m     32\u001b[39m     \u001b[38;5;28;01mif\u001b[39;00m \u001b[38;5;129;01mnot\u001b[39;00m task.done():\n",
      "\u001b[36mFile \u001b[39m\u001b[32m~\\AppData\\Roaming\\Python\\Python313\\site-packages\\nest_asyncio.py:98\u001b[39m, in \u001b[36m_patch_loop.<locals>.run_until_complete\u001b[39m\u001b[34m(self, future)\u001b[39m\n\u001b[32m     95\u001b[39m \u001b[38;5;28;01mif\u001b[39;00m \u001b[38;5;129;01mnot\u001b[39;00m f.done():\n\u001b[32m     96\u001b[39m     \u001b[38;5;28;01mraise\u001b[39;00m \u001b[38;5;167;01mRuntimeError\u001b[39;00m(\n\u001b[32m     97\u001b[39m         \u001b[33m'\u001b[39m\u001b[33mEvent loop stopped before Future completed.\u001b[39m\u001b[33m'\u001b[39m)\n\u001b[32m---> \u001b[39m\u001b[32m98\u001b[39m \u001b[38;5;28;01mreturn\u001b[39;00m \u001b[43mf\u001b[49m\u001b[43m.\u001b[49m\u001b[43mresult\u001b[49m\u001b[43m(\u001b[49m\u001b[43m)\u001b[49m\n",
      "\u001b[36mFile \u001b[39m\u001b[32mc:\\Users\\arman\\AppData\\Local\\Programs\\Python\\Python313\\Lib\\asyncio\\futures.py:199\u001b[39m, in \u001b[36mFuture.result\u001b[39m\u001b[34m(self)\u001b[39m\n\u001b[32m    197\u001b[39m \u001b[38;5;28mself\u001b[39m.__log_traceback = \u001b[38;5;28;01mFalse\u001b[39;00m\n\u001b[32m    198\u001b[39m \u001b[38;5;28;01mif\u001b[39;00m \u001b[38;5;28mself\u001b[39m._exception \u001b[38;5;129;01mis\u001b[39;00m \u001b[38;5;129;01mnot\u001b[39;00m \u001b[38;5;28;01mNone\u001b[39;00m:\n\u001b[32m--> \u001b[39m\u001b[32m199\u001b[39m     \u001b[38;5;28;01mraise\u001b[39;00m \u001b[38;5;28mself\u001b[39m._exception.with_traceback(\u001b[38;5;28mself\u001b[39m._exception_tb)\n\u001b[32m    200\u001b[39m \u001b[38;5;28;01mreturn\u001b[39;00m \u001b[38;5;28mself\u001b[39m._result\n",
      "\u001b[36mFile \u001b[39m\u001b[32mc:\\Users\\arman\\AppData\\Local\\Programs\\Python\\Python313\\Lib\\asyncio\\tasks.py:304\u001b[39m, in \u001b[36mTask.__step_run_and_handle_result\u001b[39m\u001b[34m(***failed resolving arguments***)\u001b[39m\n\u001b[32m    300\u001b[39m \u001b[38;5;28;01mtry\u001b[39;00m:\n\u001b[32m    301\u001b[39m     \u001b[38;5;28;01mif\u001b[39;00m exc \u001b[38;5;129;01mis\u001b[39;00m \u001b[38;5;28;01mNone\u001b[39;00m:\n\u001b[32m    302\u001b[39m         \u001b[38;5;66;03m# We use the `send` method directly, because coroutines\u001b[39;00m\n\u001b[32m    303\u001b[39m         \u001b[38;5;66;03m# don't have `__iter__` and `__next__` methods.\u001b[39;00m\n\u001b[32m--> \u001b[39m\u001b[32m304\u001b[39m         result = \u001b[43mcoro\u001b[49m\u001b[43m.\u001b[49m\u001b[43msend\u001b[49m\u001b[43m(\u001b[49m\u001b[38;5;28;43;01mNone\u001b[39;49;00m\u001b[43m)\u001b[49m\n\u001b[32m    305\u001b[39m     \u001b[38;5;28;01melse\u001b[39;00m:\n\u001b[32m    306\u001b[39m         result = coro.throw(exc)\n",
      "\u001b[36mCell\u001b[39m\u001b[36m \u001b[39m\u001b[32mIn[4]\u001b[39m\u001b[32m, line 4\u001b[39m, in \u001b[36mmain\u001b[39m\u001b[34m()\u001b[39m\n\u001b[32m      3\u001b[39m \u001b[38;5;28;01masync\u001b[39;00m \u001b[38;5;28;01mdef\u001b[39;00m\u001b[38;5;250m \u001b[39m\u001b[34mmain\u001b[39m():\n\u001b[32m----> \u001b[39m\u001b[32m4\u001b[39m     \u001b[38;5;28;01mraise\u001b[39;00m \u001b[38;5;167;01mValueError\u001b[39;00m(\u001b[33m\"\u001b[39m\u001b[33mOops\u001b[39m\u001b[33m\"\u001b[39m)\n",
      "\u001b[31mValueError\u001b[39m: Oops"
     ]
    }
   ],
   "source": [
    "import asyncio\n",
    "\n",
    "async def main():\n",
    "    raise ValueError(\"Oops\")\n",
    "\n",
    "asyncio.run(main())\n"
   ]
  },
  {
   "cell_type": "code",
   "execution_count": null,
   "id": "bfff1652",
   "metadata": {},
   "outputs": [],
   "source": []
  }
 ],
 "metadata": {
  "kernelspec": {
   "display_name": "Python 3",
   "language": "python",
   "name": "python3"
  },
  "language_info": {
   "codemirror_mode": {
    "name": "ipython",
    "version": 3
   },
   "file_extension": ".py",
   "mimetype": "text/x-python",
   "name": "python",
   "nbconvert_exporter": "python",
   "pygments_lexer": "ipython3",
   "version": "3.13.3"
  }
 },
 "nbformat": 4,
 "nbformat_minor": 5
}
