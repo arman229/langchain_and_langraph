{
 "cells": [
  {
   "cell_type": "code",
   "execution_count": 3,
   "metadata": {},
   "outputs": [
    {
     "data": {
      "text/plain": [
       "'Arman++Muhammad++Ashraf     '"
      ]
     },
     "metadata": {},
     "output_type": "display_data"
    },
    {
     "data": {
      "text/plain": [
       "'Arman++Muhammad++Ashraf     '"
      ]
     },
     "metadata": {},
     "output_type": "display_data"
    }
   ],
   "source": []
  },
  {
   "cell_type": "code",
   "execution_count": 1,
   "metadata": {},
   "outputs": [
    {
     "name": "stdout",
     "output_type": "stream",
     "text": [
      "1955660164448\n",
      "1955660164448\n",
      "1955660164448\n",
      "True\n",
      "True\n"
     ]
    }
   ],
   "source": [
    "b : str = 'ali'\n",
    "y : str = 'ali'\n",
    "c = b\n",
    "\n",
    "print(id(b))\n",
    "print(id(y))\n",
    "print(id(c))\n",
    "print(b is y)\n",
    "print(c is b)\n",
    "# b is not y"
   ]
  },
  {
   "cell_type": "code",
   "execution_count": null,
   "metadata": {},
   "outputs": [],
   "source": [
    "b : str = 'abc ali'\n",
    "y : str = 'abc ali'\n",
    "c = b\n",
    "\n",
    "print(id(b))\n",
    "print(id(y))\n",
    "print(id(c))\n",
    "print(b is y)\n",
    "print(c is b)\n",
    "# b is not y"
   ]
  }
 ],
 "metadata": {
  "kernelspec": {
   "display_name": "Python 3",
   "language": "python",
   "name": "python3"
  },
  "language_info": {
   "codemirror_mode": {
    "name": "ipython",
    "version": 3
   },
   "file_extension": ".py",
   "mimetype": "text/x-python",
   "name": "python",
   "nbconvert_exporter": "python",
   "pygments_lexer": "ipython3",
   "version": "3.12.3"
  }
 },
 "nbformat": 4,
 "nbformat_minor": 2
}
