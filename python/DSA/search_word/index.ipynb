{
 "cells": [
  {
   "cell_type": "code",
   "execution_count": 18,
   "metadata": {},
   "outputs": [
    {
     "name": "stdout",
     "output_type": "stream",
     "text": [
      "2\n"
     ]
    }
   ],
   "source": [
    "def search_word_fun(text,search_word):\n",
    "    text_len = len(text)\n",
    "    search_word_len = len(search_word) \n",
    "    for i in range(text_len - search_word_len + 1):\n",
    "        match = True\n",
    "        for j in range(search_word_len):\n",
    "            if text[i + j] != search_word[j]:\n",
    "                match = False\n",
    "                break\n",
    "        if match:\n",
    "            return i    \n",
    "    return -1          \n",
    "                \n",
    "    \n",
    "text = \"I Love Pakistan\"\n",
    "search_word = \"Love\"\n",
    "    \n",
    "find_index = search_word_fun(text,search_word)\n",
    "print(find_index)\n"
   ]
  },
  {
   "cell_type": "code",
   "execution_count": 22,
   "metadata": {},
   "outputs": [
    {
     "name": "stdout",
     "output_type": "stream",
     "text": [
      "2\n"
     ]
    }
   ],
   "source": [
    "def search_word_fun(text,search_word):\n",
    "    text_len = len(text)\n",
    "    search_word_len = len(search_word) \n",
    "    for i in range(text_len - search_word_len + 1):\n",
    "        if text[i:i +search_word_len]  == search_word:\n",
    "            return i \n",
    "    return -1 \n",
    "\n",
    "text = \"I Love Pakistan\"\n",
    "search_word = \"Love\"\n",
    "    \n",
    "find_index = search_word_fun(text,search_word)\n",
    "print(find_index)     \n",
    "            "
   ]
  }
 ],
 "metadata": {
  "kernelspec": {
   "display_name": "Python 3",
   "language": "python",
   "name": "python3"
  },
  "language_info": {
   "codemirror_mode": {
    "name": "ipython",
    "version": 3
   },
   "file_extension": ".py",
   "mimetype": "text/x-python",
   "name": "python",
   "nbconvert_exporter": "python",
   "pygments_lexer": "ipython3",
   "version": "3.12.3"
  }
 },
 "nbformat": 4,
 "nbformat_minor": 2
}
