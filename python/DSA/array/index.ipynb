{
 "cells": [
  {
   "cell_type": "code",
   "execution_count": 6,
   "id": "73e19efc",
   "metadata": {},
   "outputs": [
    {
     "name": "stdout",
     "output_type": "stream",
     "text": [
      "5,5\n",
      "minemum value is -3\n",
      "maximum value is 9\n",
      "middle value is 9\n"
     ]
    }
   ],
   "source": [
    "import math\n",
    "\n",
    "no_array=[4,3,2,3,9,4,3,0,-3]\n",
    "# find largest and smallest and middle value\n",
    "min_value = no_array[0]\n",
    "max_value = no_array[0]\n",
    "array_length = len(no_array)\n",
    "half_array = math.ceil(array_length/2)\n",
    "for i,no in enumerate(no_array,start=1):\n",
    "    if no < min_value:\n",
    "        min_value=no\n",
    "    if max_value < no:\n",
    "        max_value = no    \n",
    "    if i == half_array:\n",
    "        print(f\"{i},{half_array}\")\n",
    "        middle_value = no_array[i-1]\n",
    "print(f\"minemum value is {min_value}\")        \n",
    "print(f\"maximum value is {max_value}\")        \n",
    "print(f\"middle value is {middle_value}\")        \n",
    "    "
   ]
  },
  {
   "cell_type": "code",
   "execution_count": null,
   "id": "f6d72589",
   "metadata": {},
   "outputs": [],
   "source": []
  }
 ],
 "metadata": {
  "kernelspec": {
   "display_name": "Python 3",
   "language": "python",
   "name": "python3"
  },
  "language_info": {
   "codemirror_mode": {
    "name": "ipython",
    "version": 3
   },
   "file_extension": ".py",
   "mimetype": "text/x-python",
   "name": "python",
   "nbconvert_exporter": "python",
   "pygments_lexer": "ipython3",
   "version": "3.13.3"
  }
 },
 "nbformat": 4,
 "nbformat_minor": 5
}
