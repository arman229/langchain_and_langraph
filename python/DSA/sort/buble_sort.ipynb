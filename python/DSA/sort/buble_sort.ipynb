{
 "cells": [
  {
   "cell_type": "markdown",
   "metadata": {},
   "source": [
    " "
   ]
  },
  {
   "cell_type": "code",
   "execution_count": 22,
   "metadata": {},
   "outputs": [
    {
     "name": "stdout",
     "output_type": "stream",
     "text": [
      "[1, 2, 3, 4, 4, 5, 99]\n"
     ]
    }
   ],
   "source": [
    "def bubble_sort(array):\n",
    "    n = len(array)\n",
    "    for i in range(n - 1):  \n",
    "        for j in range(n - i - 1):  \n",
    "            if array[j] > array[j + 1]:   \n",
    "                array[j], array[j + 1] = array[j + 1], array[j]\n",
    "    return array   \n",
    "array = [3,4,99,4,5,1, 2]\n",
    "sorted_array = bubble_sort(array)\n",
    "print(sorted_array)   "
   ]
  },
  {
   "cell_type": "code",
   "execution_count": 23,
   "metadata": {},
   "outputs": [
    {
     "name": "stdout",
     "output_type": "stream",
     "text": [
      "[0, 2, 2, 3, 4, 4, 9]\n"
     ]
    }
   ],
   "source": [
    "number_list_2 =[3,4,2,9,4,0,2]\n",
    " \n",
    "for outer_value in range(len(number_list_2)-1):\n",
    "    for inner_value in range(len(number_list_2)-outer_value -1):\n",
    "        if number_list_2[inner_value] > number_list_2[inner_value+1]:\n",
    "            number_list_2[inner_value+1], number_list_2[inner_value] = number_list_2[inner_value], number_list_2[inner_value+1]\n",
    "\n",
    "print(number_list_2) "
   ]
  }
 ],
 "metadata": {
  "kernelspec": {
   "display_name": "Python 3",
   "language": "python",
   "name": "python3"
  },
  "language_info": {
   "codemirror_mode": {
    "name": "ipython",
    "version": 3
   },
   "file_extension": ".py",
   "mimetype": "text/x-python",
   "name": "python",
   "nbconvert_exporter": "python",
   "pygments_lexer": "ipython3",
   "version": "3.12.3"
  }
 },
 "nbformat": 4,
 "nbformat_minor": 2
}
