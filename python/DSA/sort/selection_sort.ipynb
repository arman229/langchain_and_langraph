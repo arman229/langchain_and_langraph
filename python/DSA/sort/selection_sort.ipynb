{
 "cells": [
  {
   "cell_type": "code",
   "execution_count": 28,
   "metadata": {},
   "outputs": [
    {
     "name": "stdout",
     "output_type": "stream",
     "text": [
      "[4, 1, 0, 3, 2]\n"
     ]
    }
   ],
   "source": [
    "import random\n",
    "\n",
    "array_list = list(range(0,5))\n",
    "random.shuffle(array_list) \n",
    "print(array_list)"
   ]
  },
  {
   "cell_type": "code",
   "execution_count": 102,
   "metadata": {},
   "outputs": [
    {
     "name": "stdout",
     "output_type": "stream",
     "text": [
      "outer loop 0\n",
      "how much time execute 10\n",
      "how much time execute 21\n",
      "how much time execute 31\n",
      "how much time execute 43\n",
      "how much time execute 54\n",
      "how much time execute 65\n",
      "outer loop 1\n",
      "how much time execute 21\n",
      "how much time execute 31\n",
      "how much time execute 43\n",
      "how much time execute 54\n",
      "how much time execute 65\n",
      "outer loop 2\n",
      "how much time execute 31\n",
      "how much time execute 43\n",
      "how much time execute 54\n",
      "how much time execute 65\n",
      "outer loop 3\n",
      "how much time execute 43\n",
      "how much time execute 54\n",
      "how much time execute 65\n"
     ]
    },
    {
     "data": {
      "text/plain": [
       "{'count': 18, 'array_list': [0, 1, 1, 2, 3, 4, 5]}"
      ]
     },
     "execution_count": 102,
     "metadata": {},
     "output_type": "execute_result"
    }
   ],
   "source": [
    "def selection_sort(array_list:list[int]):\n",
    "    count = 0\n",
    "    array_len = len(array_list)\n",
    "    \n",
    "    for outer_loop in range(array_len-1):\n",
    "        print(f\"outer loop {outer_loop}\")\n",
    "        swapped = False\n",
    "        \n",
    "        for inner_loop in range(outer_loop + 1  , array_len): \n",
    "            count =count + 1\n",
    "            print(f\"how much time execute {inner_loop}{array_list[inner_loop]}\")\n",
    "            if  array_list[inner_loop] < array_list[outer_loop]:\n",
    "               array_list[inner_loop], array_list[outer_loop] = array_list[outer_loop], array_list[inner_loop]\n",
    "               swapped = True\n",
    "        if not swapped:\n",
    "            break       \n",
    "    return{\"count\":count,\"array_list\":array_list}  \n",
    "array_list = [2,0,1,1,3,4,5]         \n",
    "selection_sort(array_list)               "
   ]
  },
  {
   "cell_type": "code",
   "execution_count": 100,
   "metadata": {},
   "outputs": [
    {
     "name": "stdout",
     "output_type": "stream",
     "text": [
      "outer loop 0 and its value is 2\n",
      "how much time inner_loop 11\n",
      "how much time inner_loop 23\n",
      "how much time inner_loop 34\n",
      "how much time inner_loop 45\n",
      "outer loop 1 and its value is 2\n",
      "how much time inner_loop 23\n",
      "how much time inner_loop 34\n",
      "how much time inner_loop 45\n",
      "outer loop 2 and its value is 3\n",
      "how much time inner_loop 34\n",
      "how much time inner_loop 45\n",
      "outer loop 3 and its value is 4\n",
      "how much time inner_loop 45\n"
     ]
    },
    {
     "data": {
      "text/plain": [
       "{'count': 10, 'array_list': [1, 2, 3, 4, 5]}"
      ]
     },
     "execution_count": 100,
     "metadata": {},
     "output_type": "execute_result"
    }
   ],
   "source": [
    " def selection_sort(array_list:list[int]):\n",
    "    count = 0\n",
    "    array_len = len(array_list)\n",
    "    for outer_loop in range(array_len-1):\n",
    "        \n",
    "        print(f\"outer loop {outer_loop} and its value is {array_list[outer_loop]}\")\n",
    "        for inner_loop in range(outer_loop + 1  , array_len): \n",
    "            count =count + 1\n",
    "            print(f\"how much time inner_loop {inner_loop}{array_list[inner_loop]}\")\n",
    "            if  array_list[inner_loop] < array_list[outer_loop]:\n",
    "               array_list[inner_loop], array_list[outer_loop] = array_list[outer_loop], array_list[inner_loop]          \n",
    "    return{\"count\":count,\"array_list\":array_list}  \n",
    "array_list = [2,1,3,4,5]   \n",
    "selection_sort(array_list)               "
   ]
  }
 ],
 "metadata": {
  "kernelspec": {
   "display_name": "Python 3",
   "language": "python",
   "name": "python3"
  },
  "language_info": {
   "codemirror_mode": {
    "name": "ipython",
    "version": 3
   },
   "file_extension": ".py",
   "mimetype": "text/x-python",
   "name": "python",
   "nbconvert_exporter": "python",
   "pygments_lexer": "ipython3",
   "version": "3.12.3"
  }
 },
 "nbformat": 4,
 "nbformat_minor": 2
}
