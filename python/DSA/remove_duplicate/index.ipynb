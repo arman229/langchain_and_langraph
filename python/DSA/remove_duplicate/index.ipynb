{
 "cells": [
  {
   "cell_type": "code",
   "execution_count": 47,
   "metadata": {},
   "outputs": [
    {
     "name": "stdout",
     "output_type": "stream",
     "text": [
      "[3, -3]\n"
     ]
    }
   ],
   "source": [
    "\n",
    "def remove_duplicates(number_list):\n",
    "    number_len = len(number_list)\n",
    "    new_array = []\n",
    "    \n",
    "    for i in range(number_len): \n",
    "        if len(new_array) ==0:\n",
    "            new_array.append(number_list[i]) \n",
    "        else: \n",
    "            for j in range(len(new_array)):\n",
    "                if new_array[j] == number_list[i]: \n",
    "                    break\n",
    "            else:    \n",
    "                new_array.append(number_list[i])\n",
    "    return new_array        \n",
    "\n",
    "number_list = [3,3,-3]\n",
    "call_remove = remove_duplicates(number_list)\n",
    "print(call_remove)"
   ]
  },
  {
   "cell_type": "code",
   "execution_count": null,
   "metadata": {},
   "outputs": [],
   "source": [
    "\n",
    "def remove_duplicates(number_list):\n",
    "    number_len = len(number_list)\n",
    "    new_array = []\n",
    "    \n",
    "    for i in range(number_len): \n",
    "        if len(new_array) ==0:\n",
    "            new_array.append(number_list[i]) \n",
    "        else: \n",
    "            for j in range(len(new_array)):\n",
    "                if new_array[j] == number_list[i]: \n",
    "                    break\n",
    "            else:    \n",
    "                new_array.append(number_list[i])\n",
    "    return new_array        \n",
    "\n",
    "number_list = [3,3,-3]\n",
    "call_remove = remove_duplicates(number_list)\n",
    "print(call_remove)"
   ]
  },
  {
   "cell_type": "code",
   "execution_count": 48,
   "metadata": {},
   "outputs": [
    {
     "name": "stdout",
     "output_type": "stream",
     "text": [
      "[1, 2, 4, 3]\n"
     ]
    }
   ],
   "source": [
    "num_list = [1,2,4,3,3]\n",
    "num_list.pop(3)\n",
    "print(num_list)"
   ]
  },
  {
   "cell_type": "code",
   "execution_count": 21,
   "metadata": {},
   "outputs": [
    {
     "ename": "NameError",
     "evalue": "name 'tail' is not defined",
     "output_type": "error",
     "traceback": [
      "\u001b[1;31m---------------------------------------------------------------------------\u001b[0m",
      "\u001b[1;31mNameError\u001b[0m                                 Traceback (most recent call last)",
      "Cell \u001b[1;32mIn[21], line 10\u001b[0m\n\u001b[0;32m      7\u001b[0m             nums[slow] \u001b[38;5;241m=\u001b[39m nums[fast] \n\u001b[0;32m      8\u001b[0m     \u001b[38;5;28;01mreturn\u001b[39;00m tail\u001b[38;5;241m+\u001b[39m\u001b[38;5;241m1\u001b[39m \n\u001b[1;32m---> 10\u001b[0m call_remove \u001b[38;5;241m=\u001b[39m \u001b[43mremoveDuplicates\u001b[49m\u001b[43m(\u001b[49m\u001b[43mnumber_list\u001b[49m\u001b[43m)\u001b[49m\n\u001b[0;32m     11\u001b[0m \u001b[38;5;28mprint\u001b[39m(call_remove)\n",
      "Cell \u001b[1;32mIn[21], line 8\u001b[0m, in \u001b[0;36mremoveDuplicates\u001b[1;34m(nums)\u001b[0m\n\u001b[0;32m      6\u001b[0m         slow \u001b[38;5;241m+\u001b[39m\u001b[38;5;241m=\u001b[39m \u001b[38;5;241m1\u001b[39m \n\u001b[0;32m      7\u001b[0m         nums[slow] \u001b[38;5;241m=\u001b[39m nums[fast] \n\u001b[1;32m----> 8\u001b[0m \u001b[38;5;28;01mreturn\u001b[39;00m \u001b[43mtail\u001b[49m\u001b[38;5;241m+\u001b[39m\u001b[38;5;241m1\u001b[39m\n",
      "\u001b[1;31mNameError\u001b[0m: name 'tail' is not defined"
     ]
    }
   ],
   "source": [
    " "
   ]
  }
 ],
 "metadata": {
  "kernelspec": {
   "display_name": "Python 3",
   "language": "python",
   "name": "python3"
  },
  "language_info": {
   "codemirror_mode": {
    "name": "ipython",
    "version": 3
   },
   "file_extension": ".py",
   "mimetype": "text/x-python",
   "name": "python",
   "nbconvert_exporter": "python",
   "pygments_lexer": "ipython3",
   "version": "3.12.3"
  }
 },
 "nbformat": 4,
 "nbformat_minor": 2
}
