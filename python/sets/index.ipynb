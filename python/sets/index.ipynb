{
 "cells": [
  {
   "cell_type": "code",
   "execution_count": null,
   "metadata": {},
   "outputs": [],
   "source": [
    "# sets:\n",
    "#Set is a collection which is unordered, unchangeable*, and unindexed. No duplicate members.\n",
    "# Note: Set items are unchangeable, but you can remove items and add new items"
   ]
  },
  {
   "cell_type": "code",
   "execution_count": 1,
   "metadata": {},
   "outputs": [
    {
     "name": "stdout",
     "output_type": "stream",
     "text": [
      "{'biology', 'chemistry', 'english', 'math'}\n"
     ]
    }
   ],
   "source": [
    "set_of_books = {\"math\",'biology','chemistry'}\n",
    "set_of_books.add('english')\n",
    "print(set_of_books)"
   ]
  },
  {
   "cell_type": "code",
   "execution_count": 5,
   "metadata": {},
   "outputs": [
    {
     "name": "stdout",
     "output_type": "stream",
     "text": [
      "{'chemistry', 'girls', 'boys', 'biology', 'math'}\n"
     ]
    }
   ],
   "source": [
    "set_of_books = {\"math\",'biology','chemistry'}\n",
    "set_of_students = {\"girls\",\"boys\"}\n",
    "set_of_books.update(set_of_students)\n",
    "print(set_of_books)"
   ]
  },
  {
   "cell_type": "code",
   "execution_count": 7,
   "metadata": {},
   "outputs": [
    {
     "name": "stdout",
     "output_type": "stream",
     "text": [
      "{'chemistry', 'girls', 'boys', 'biology', 'math'}\n"
     ]
    }
   ],
   "source": [
    "set_of_books = {\"math\",'biology','chemistry'}\n",
    "set_of_students = {\"girls\",\"boys\"}\n",
    "set_of_books.update(set_of_students)\n",
    "print(set_of_books)"
   ]
  },
  {
   "cell_type": "code",
   "execution_count": 24,
   "metadata": {},
   "outputs": [
    {
     "name": "stdout",
     "output_type": "stream",
     "text": [
      "{'biology', 'chemistry'}\n",
      "{'biology', 'chemistry'}\n",
      "{'chemistry'}\n",
      "set()\n",
      "{}\n",
      "set()\n"
     ]
    }
   ],
   "source": [
    "# We have five different methods to remove or delete items in set or delete the complete set\n",
    "set_of_books = {\"math\",'biology','chemistry'}\n",
    "set_of_books.remove('math') # But remove have one issue if there is no name match it will raise an error \n",
    "print(set_of_books)\n",
    "# set_of_books.remove('maths')\n",
    "# print(set_of_books)\n",
    "set_of_books.discard('maths') # Remove item from a set if there is no name match it will not raise an error\n",
    "print(set_of_books)\n",
    "set_of_books.pop() # pop method will remove any item from the set \n",
    "print(set_of_books)\n",
    "set_of_books.clear() # Clear all items\n",
    "print(set_of_books)\n",
    "del set_of_books # del method will remove the set completly\n",
    "# print(set_of_books)\n",
    "set_a = {} # it is dictionary not the set\n",
    "print(set_a)\n",
    "# how we can create a empty set \n",
    "empty_set = set() # empty set\n",
    "print(empty_set)"
   ]
  },
  {
   "cell_type": "code",
   "execution_count": null,
   "metadata": {},
   "outputs": [],
   "source": [
    "# The union() method can accept other iterables (like lists or tuples), whereas the | operator only works with sets"
   ]
  },
  {
   "cell_type": "code",
   "execution_count": 25,
   "metadata": {},
   "outputs": [
    {
     "name": "stdout",
     "output_type": "stream",
     "text": [
      "{1, 2, 3, 4, 5, 6, 7, 8, 9, 10, 11}\n"
     ]
    }
   ],
   "source": [
    "# Union of sets \n",
    "set_a = {1,2,3}\n",
    "set_b = {4,5,6,7,8,9,10,11}\n",
    "list_c = [1,2,3,4,5,6]\n",
    "union_of_sets = set_a.union(set_b)\n",
    "print(union_of_sets)"
   ]
  },
  {
   "cell_type": "code",
   "execution_count": 27,
   "metadata": {},
   "outputs": [
    {
     "name": "stdout",
     "output_type": "stream",
     "text": [
      "{1, 2, 3, 4, 5, 6, 7, 8, 9, 10, 11, 33}\n"
     ]
    }
   ],
   "source": [
    "# Union of sets \n",
    "set_a = {1,2,3}\n",
    "set_b = {4,5,6,7,8,9,10,11}\n",
    "list_c = [1,2,3,4,5,6,33]\n",
    "union_of_sets = set_a.union(set_b,list_c)\n",
    "print(union_of_sets)"
   ]
  },
  {
   "cell_type": "code",
   "execution_count": 29,
   "metadata": {},
   "outputs": [
    {
     "ename": "TypeError",
     "evalue": "unsupported operand type(s) for |: 'set' and 'list'",
     "output_type": "error",
     "traceback": [
      "\u001b[1;31m---------------------------------------------------------------------------\u001b[0m",
      "\u001b[1;31mTypeError\u001b[0m                                 Traceback (most recent call last)",
      "Cell \u001b[1;32mIn[29], line 5\u001b[0m\n\u001b[0;32m      3\u001b[0m set_b \u001b[38;5;241m=\u001b[39m {\u001b[38;5;241m4\u001b[39m,\u001b[38;5;241m5\u001b[39m,\u001b[38;5;241m6\u001b[39m,\u001b[38;5;241m7\u001b[39m,\u001b[38;5;241m8\u001b[39m,\u001b[38;5;241m9\u001b[39m,\u001b[38;5;241m10\u001b[39m,\u001b[38;5;241m11\u001b[39m}\n\u001b[0;32m      4\u001b[0m list_c \u001b[38;5;241m=\u001b[39m [\u001b[38;5;241m1\u001b[39m,\u001b[38;5;241m2\u001b[39m,\u001b[38;5;241m3\u001b[39m,\u001b[38;5;241m4\u001b[39m,\u001b[38;5;241m5\u001b[39m,\u001b[38;5;241m6\u001b[39m,\u001b[38;5;241m33\u001b[39m]\n\u001b[1;32m----> 5\u001b[0m union_of_sets \u001b[38;5;241m=\u001b[39m \u001b[43mset_a\u001b[49m\u001b[38;5;241;43m|\u001b[39;49m\u001b[43mset_b\u001b[49m\u001b[38;5;241;43m|\u001b[39;49m\u001b[43mlist_c\u001b[49m\n\u001b[0;32m      6\u001b[0m \u001b[38;5;28mprint\u001b[39m(union_of_sets)\n",
      "\u001b[1;31mTypeError\u001b[0m: unsupported operand type(s) for |: 'set' and 'list'"
     ]
    }
   ],
   "source": [
    "# Union of sets \n",
    "set_a = {1,2,3}\n",
    "set_b = {4,5,6,7,8,9,10,11}\n",
    "list_c = [1,2,3,4,5,6,33]\n",
    "# union_of_sets = set_a|set_b|list_c # it will raise error because this | only works on sets but union can works any iterable object\n",
    "# print(union_of_sets)\n",
    "union_of_sets = set_a|set_b\n",
    "print(union_of_sets)"
   ]
  }
 ],
 "metadata": {
  "kernelspec": {
   "display_name": "Python 3",
   "language": "python",
   "name": "python3"
  },
  "language_info": {
   "codemirror_mode": {
    "name": "ipython",
    "version": 3
   },
   "file_extension": ".py",
   "mimetype": "text/x-python",
   "name": "python",
   "nbconvert_exporter": "python",
   "pygments_lexer": "ipython3",
   "version": "3.12.3"
  }
 },
 "nbformat": 4,
 "nbformat_minor": 2
}
