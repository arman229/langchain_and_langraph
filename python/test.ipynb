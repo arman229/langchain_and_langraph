{
 "cells": [
  {
   "cell_type": "code",
   "execution_count": 14,
   "metadata": {},
   "outputs": [
    {
     "name": "stdout",
     "output_type": "stream",
     "text": [
      "['1,2,3,4,5', '6,7,8,9,10']\n"
     ]
    }
   ],
   "source": [
    "group_size = 5\n",
    "my_list = [1, 2, 3, 4, 5,6, 7, 8, 9, 10] \n",
    "new_lists = [item for i in range(0, len(my_list), group_size) for item in my_list[i:i + group_size]]\n",
    "print(new_lists)\n"
   ]
  },
  {
   "cell_type": "code",
   "execution_count": 25,
   "metadata": {},
   "outputs": [
    {
     "ename": "NameError",
     "evalue": "name 'i' is not defined",
     "output_type": "error",
     "traceback": [
      "\u001b[31m---------------------------------------------------------------------------\u001b[39m",
      "\u001b[31mNameError\u001b[39m                                 Traceback (most recent call last)",
      "\u001b[36mCell\u001b[39m\u001b[36m \u001b[39m\u001b[32mIn[25]\u001b[39m\u001b[32m, line 4\u001b[39m\n\u001b[32m      1\u001b[39m group_size = \u001b[32m5\u001b[39m\n\u001b[32m      2\u001b[39m my_list = [\u001b[32m1\u001b[39m, \u001b[32m2\u001b[39m, \u001b[32m3\u001b[39m, \u001b[32m4\u001b[39m, \u001b[32m5\u001b[39m, \u001b[32m6\u001b[39m, \u001b[32m7\u001b[39m, \u001b[32m8\u001b[39m, \u001b[32m9\u001b[39m, \u001b[32m10\u001b[39m]\n\u001b[32m----> \u001b[39m\u001b[32m4\u001b[39m new_lists = [item \u001b[38;5;28;01mfor\u001b[39;00m item \u001b[38;5;129;01min\u001b[39;00m my_list[\u001b[43mi\u001b[49m:i + group_size] \u001b[38;5;28;01mfor\u001b[39;00m i \u001b[38;5;129;01min\u001b[39;00m \u001b[38;5;28mrange\u001b[39m(\u001b[32m0\u001b[39m, \u001b[38;5;28mlen\u001b[39m(my_list), group_size)]\n\u001b[32m      5\u001b[39m \u001b[38;5;28mprint\u001b[39m(new_lists)\n",
      "\u001b[31mNameError\u001b[39m: name 'i' is not defined"
     ]
    }
   ],
   "source": [
    "group_size = 5\n",
    "my_list = [1, 2, 3, 4, 5, 6, 7, 8, 9, 10]\n",
    "\n",
    "new_lists = [item for item in my_list[i:i + group_size] for i in range(0, len(my_list), group_size)]\n",
    "print(new_lists)\n"
   ]
  },
  {
   "cell_type": "code",
   "execution_count": 27,
   "metadata": {},
   "outputs": [
    {
     "name": "stdout",
     "output_type": "stream",
     "text": [
      "[' 1\\n\\n 2\\n\\n 3\\n\\n 4\\n\\n 5', ' 6\\n\\n 7\\n\\n 8\\n\\n 9\\n\\n 10']\n"
     ]
    }
   ],
   "source": [
    "group_size = 5\n",
    "my_list = [1, 2, 3, 4, 5, 6, 7, 8, 9, 10]\n",
    "documentsStrs = [\n",
    "    \"\\n\\n\".join(\n",
    "        f\" {item}\"\n",
    "        for item in my_list[i : i + group_size]\n",
    "    )\n",
    "    for i in range(0, len(my_list), group_size)\n",
    "]\n",
    "print(documentsStrs)\n"
   ]
  },
  {
   "cell_type": "code",
   "execution_count": 23,
   "metadata": {},
   "outputs": [
    {
     "name": "stdout",
     "output_type": "stream",
     "text": [
      "[1, 2, 3, 4, 5, 6, 7, 8, 9, 10]\n"
     ]
    }
   ],
   "source": []
  }
 ],
 "metadata": {
  "kernelspec": {
   "display_name": "Python 3",
   "language": "python",
   "name": "python3"
  },
  "language_info": {
   "codemirror_mode": {
    "name": "ipython",
    "version": 3
   },
   "file_extension": ".py",
   "mimetype": "text/x-python",
   "name": "python",
   "nbconvert_exporter": "python",
   "pygments_lexer": "ipython3",
   "version": "3.12.3"
  }
 },
 "nbformat": 4,
 "nbformat_minor": 2
}
