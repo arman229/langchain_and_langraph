{
 "cells": [
  {
   "cell_type": "markdown",
   "metadata": {},
   "source": [
    "### **Pure Function:**\n",
    "A **pure function** is a function that always produces the same output for the same input and has no side effects (i.e., it does not modify any external state or variables).\n",
    "\n",
    "### **Code Example of Pure Function:**\n",
    "\n",
    "```python\n",
    "def add(a, b):\n",
    "    return a + b\n",
    "```\n",
    "\n",
    "- **Explanation**:\n",
    "  - For the same inputs `a` and `b`, this function will always return the same result.\n",
    "  - It doesn't modify any external variables or perform any side effects (like printing or changing global variables).\n",
    "\n",
    "---\n",
    "\n",
    "### **Impure Function:**\n",
    "An **impure function** is a function that may produce different outputs for the same input or has side effects such as modifying a global variable, interacting with files, or making network requests.\n",
    "\n",
    "### **Code Example of Impure Function:**\n",
    "\n",
    "```python\n",
    "external_value = 10\n",
    "\n",
    "def add_impure(a, b):\n",
    "    return a + b + external_value\n",
    "```\n",
    "\n",
    "- **Explanation**:\n",
    "  - This function depends on the external variable `external_value`, which can change. Therefore, even with the same inputs `a` and `b`, the output might differ if `external_value` changes.\n",
    "  - The function has a side effect because it interacts with an external state (the variable `external_value`)."
   ]
  },
  {
   "cell_type": "code",
   "execution_count": null,
   "metadata": {},
   "outputs": [],
   "source": []
  }
 ],
 "metadata": {
  "language_info": {
   "name": "python"
  }
 },
 "nbformat": 4,
 "nbformat_minor": 2
}
