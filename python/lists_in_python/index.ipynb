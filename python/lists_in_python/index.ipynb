{
 "cells": [
  {
   "cell_type": "markdown",
   "metadata": {},
   "source": [
    "# Key difference between mutable and immutable\n",
    "* mutable :\n",
    "Changes are made to the same object like in list\n",
    "* immutable :\n",
    "Changes are made to a new object like in tuple or string or integer"
   ]
  },
  {
   "cell_type": "code",
   "execution_count": 23,
   "metadata": {},
   "outputs": [
    {
     "name": "stdout",
     "output_type": "stream",
     "text": [
      "2889972702528\n",
      "[1, 2, 3, 4]\n",
      "2889972702528\n"
     ]
    }
   ],
   "source": [
    "list_1 = [1, 2, 3]\n",
    "print(id(list_1))\n",
    "list_1.append(4)\n",
    "print(list_1)\n",
    "print(id(list_1))"
   ]
  },
  {
   "cell_type": "code",
   "execution_count": 24,
   "metadata": {},
   "outputs": [
    {
     "name": "stdout",
     "output_type": "stream",
     "text": [
      "140710527375864\n",
      "6\n",
      "140710527375960\n"
     ]
    }
   ],
   "source": [
    "num_1 = 3\n",
    "print(id(num_1))\n",
    "num_1 += 3\n",
    "print(num_1)\n",
    "print(id(num_1))"
   ]
  },
  {
   "cell_type": "code",
   "execution_count": 13,
   "metadata": {},
   "outputs": [
    {
     "name": "stdout",
     "output_type": "stream",
     "text": [
      "num_1:3\n",
      "num_2:3\n",
      "num_1:5\n",
      "num_2:3\n"
     ]
    }
   ],
   "source": [
    "num_1:int = 3\n",
    "num_2:int = num_1 \n",
    "print(f\"num_1:{num_1}\")\n",
    "print(f\"num_2:{num_2}\")\n",
    "num_1 =5\n",
    "print(f\"num_1:{num_1}\")\n",
    "print(f\"num_2:{num_2}\")\n"
   ]
  },
  {
   "cell_type": "code",
   "execution_count": 14,
   "metadata": {},
   "outputs": [
    {
     "name": "stdout",
     "output_type": "stream",
     "text": [
      "num_1:3\n",
      "num_2:3\n",
      "num_1:3\n",
      "num_2:3\n"
     ]
    }
   ],
   "source": [
    "num_1:int = 3\n",
    "num_2 = num_1\n",
    "print(f\"num_1:{num_1}\")\n",
    "print(f\"num_2:{num_2}\")\n",
    "print(f\"num_1:{num_1}\")\n",
    "print(f\"num_2:{num_2}\")\n"
   ]
  },
  {
   "cell_type": "code",
   "execution_count": 25,
   "metadata": {},
   "outputs": [
    {
     "name": "stdout",
     "output_type": "stream",
     "text": [
      "list_2 id:2889972754944\n",
      "list_1 id:2889972754944\n",
      "list_2:[1, 2, 3, 4]\n",
      "list_1:[1, 2, 3, 4]\n",
      "list_1 id:2889972693376\n",
      "list_2 id:2889972754944\n",
      "list_1:[1, 2, 3, 4, 5]\n",
      "list_2:[1, 2, 3, 4]\n"
     ]
    }
   ],
   "source": [
    "list_1:list[int] = [1, 2, 3, 4]\n",
    "list_2 = list_1\n",
    "print(f\"list_2 id:{id(list_2)}\")\n",
    "print(f\"list_1 id:{id(list_1)}\")\n",
    "print(f\"list_2:{list_2}\")\n",
    "print(f\"list_1:{list_1}\")\n",
    "list_1 = [1,2,3,4,5]\n",
    "\n",
    "print(f\"list_1 id:{id(list_1)}\")\n",
    "print(f\"list_2 id:{id(list_2)}\")\n",
    "print(f\"list_1:{list_1}\")\n",
    "print(f\"list_2:{list_2}\")\n"
   ]
  },
  {
   "cell_type": "code",
   "execution_count": 26,
   "metadata": {},
   "outputs": [
    {
     "name": "stdout",
     "output_type": "stream",
     "text": [
      "list_1 id:2889966649600\n",
      "list_2 id:2889966649600\n",
      "list_2:[1, 2, 3, 4]\n",
      "list_1:[1, 2, 3, 4]\n",
      "list_1 id:2889966649600\n",
      "list_2 id:2889966649600\n",
      "list_1:[111, 2, 3, 4]\n",
      "list_2:[111, 2, 3, 4]\n"
     ]
    }
   ],
   "source": [
    "list_1:list[int] = [1, 2, 3, 4]\n",
    "list_2 = list_1\n",
    "print(f\"list_1 id:{id(list_1)}\")\n",
    "print(f\"list_2 id:{id(list_2)}\")\n",
    "print(f\"list_2:{list_2}\")\n",
    "print(f\"list_1:{list_1}\")\n",
    "# list_1 = [1,2,3,4]\n",
    "list_1[0]=111\n",
    "\n",
    "print(f\"list_1 id:{id(list_1)}\")\n",
    "print(f\"list_2 id:{id(list_2)}\")\n",
    "print(f\"list_1:{list_1}\")\n",
    "print(f\"list_2:{list_2}\")\n"
   ]
  },
  {
   "cell_type": "code",
   "execution_count": 5,
   "metadata": {},
   "outputs": [
    {
     "name": "stdout",
     "output_type": "stream",
     "text": [
      "list_2:[1, 2, 3, 4]\n",
      "list_1:[1, 2, 3, 4]\n",
      "list_1:[11, 2, 3, 4]\n",
      "list_2:[11, 2, 3, 4]\n"
     ]
    }
   ],
   "source": [
    "list_1:list[int] = [1, 2, 3, 4]\n",
    "list_2 = list_1\n",
    "print(f\"list_2:{list_2}\")\n",
    "print(f\"list_1:{list_1}\")\n",
    "list_1[0] = 11\n",
    "print(f\"list_1:{list_1}\")\n",
    "print(f\"list_2:{list_2}\")\n"
   ]
  },
  {
   "cell_type": "code",
   "execution_count": 9,
   "metadata": {},
   "outputs": [
    {
     "name": "stdout",
     "output_type": "stream",
     "text": [
      "list_2:[1, 2, 3, 4]\n",
      "list_1:[1, 2, 3, 4]\n",
      "list_1:[11, 2, 3, 4]\n",
      "list_2:[11, 2, 3, 4]\n"
     ]
    }
   ],
   "source": [
    "list_1:list[int] = [1, 2, 3, 4]\n",
    "list_2 = list_1\n",
    "print(f\"list_2:{list_2}\")\n",
    "print(f\"list_1:{list_1}\")\n",
    "list_2[0] = 11\n",
    "print(f\"list_1:{list_1}\")\n",
    "print(f\"list_2:{list_2}\")\n"
   ]
  },
  {
   "cell_type": "code",
   "execution_count": 27,
   "metadata": {},
   "outputs": [
    {
     "name": "stdout",
     "output_type": "stream",
     "text": [
      "list_1 id:2889972652288\n",
      "list_2 id:2889972652288\n",
      "list_2 id:2889972710336\n",
      "list_2:[1, 2, 3, 4]\n",
      "list_1:[1, 2, 3, 4]\n",
      "list_1 id:2889972652288\n",
      "list_2 id:2889972710336\n",
      "list_1:[11, 2, 3, 4]\n",
      "list_2:[1, 2, 3, 4]\n"
     ]
    }
   ],
   "source": [
    "list_1:list[int] = [1, 2, 3, 4]\n",
    "list_2 = list_1\n",
    "\n",
    "print(f\"list_1 id:{id(list_1)}\")\n",
    "print(f\"list_2 id:{id(list_2)}\")\n",
    "list_2 = [1, 2, 3, 4]\n",
    "\n",
    "print(f\"list_2 id:{id(list_2)}\")\n",
    "\n",
    "print(f\"list_2:{list_2}\")\n",
    "print(f\"list_1:{list_1}\")\n",
    "list_1[0] = 11\n",
    "print(f\"list_1 id:{id(list_1)}\")\n",
    "print(f\"list_2 id:{id(list_2)}\")\n",
    "print(f\"list_1:{list_1}\")\n",
    "print(f\"list_2:{list_2}\")\n"
   ]
  },
  {
   "cell_type": "code",
   "execution_count": 10,
   "metadata": {},
   "outputs": [
    {
     "name": "stdout",
     "output_type": "stream",
     "text": [
      "list_2:[1, 2, 3, 4]\n",
      "list_1:[1, 2, 3, 4]\n",
      "list_1:[1, 2, 3, 4]\n",
      "list_2:[22, 2, 3, 4]\n"
     ]
    }
   ],
   "source": [
    "list_1:list[int] = [1, 2, 3, 4]\n",
    "list_2 = list_1\n",
    "list_2 = [1, 2, 3, 4]\n",
    "print(f\"list_2:{list_2}\")\n",
    "print(f\"list_1:{list_1}\")\n",
    "list_2[0] = 22\n",
    "print(f\"list_1:{list_1}\") \n",
    "print(f\"list_2:{list_2}\")\n"
   ]
  },
  {
   "cell_type": "code",
   "execution_count": 29,
   "metadata": {},
   "outputs": [
    {
     "name": "stdout",
     "output_type": "stream",
     "text": [
      "my_list:[1, 2, 3, 4] 2889972685376\n",
      "new_list:[1, 2, 3, 4] 2889972889408\n"
     ]
    }
   ],
   "source": [
    "my_list:list[int] = [1,2,3,4]\n",
    "new_list:list[int] = my_list[:]\n",
    "print(f\"my_list:{new_list} {id(my_list)}\")\n",
    "print(f\"new_list:{new_list} {id(new_list)}\")"
   ]
  },
  {
   "cell_type": "code",
   "execution_count": 30,
   "metadata": {},
   "outputs": [
    {
     "name": "stdout",
     "output_type": "stream",
     "text": [
      "my_list [1, 2, 3, 4] 2889966711488\n",
      "new_list [1, 2, 3, 4] 2889972788032\n"
     ]
    }
   ],
   "source": [
    "import copy\n",
    "my_list = [1,2,3,4]\n",
    "new_list = copy.deepcopy(my_list)\n",
    "print(f\"my_list {my_list} {id(my_list)}\")\n",
    "print(f\"new_list {new_list} {id(new_list)}\")"
   ]
  },
  {
   "cell_type": "code",
   "execution_count": 33,
   "metadata": {},
   "outputs": [
    {
     "name": "stdout",
     "output_type": "stream",
     "text": [
      "my_list:[0, 1, 2, 3, 4] 2889966865472\n",
      "new_list:[0, 1, 2, 3, 4] 2889967160000\n",
      "my_list:[0, 1, 222, 3, 4] 2889966865472\n",
      "new_list:[0, 1, 22, 3, 4] 2889967160000\n"
     ]
    }
   ],
   "source": [
    "my_list: list[int] = [0,1, 2, 3, 4]\n",
    "new_list: list[int] = my_list[:]  # Creates a shallow copy\n",
    "# A shallow copy means a new list object is created, but the elements inside it are the same as my_list.\n",
    "\n",
    "print(f\"my_list:{my_list} {id(my_list)}\")\n",
    "print(f\"new_list:{new_list} {id(new_list)}\")\n",
    "\n",
    "new_list[2] = 22\n",
    "my_list[2] = 222\n",
    "\n",
    "print(f\"my_list:{my_list} {id(my_list)}\")\n",
    "print(f\"new_list:{new_list} {id(new_list)}\")\n",
    "\n"
   ]
  },
  {
   "cell_type": "markdown",
   "metadata": {},
   "source": [
    "### **Understanding Shallow Copy and Deep Copy in Python**\n",
    "\n",
    "When working with complex data structures like nested lists in Python, it's crucial to understand the difference between **shallow copy** and **deep copy**. These concepts determine how the original object and its copy are related and how changes to one affect the other. This article explains both concepts step by step with examples.\n",
    "\n",
    "---\n",
    "\n",
    "### **1. Shallow Copy**\n",
    "\n",
    "#### Definition:\n",
    "- A **shallow copy** creates a new object that is a copy of the original **outer object**. \n",
    "- However, if the outer object contains **inner (nested) objects**, they are **shared** between the original and the copy, meaning no new copies of inner objects are created.\n",
    "\n",
    "#### Key Characteristics:\n",
    "1. **Only the outer object is copied.**\n",
    "2. **Inner objects are shared between the original and the copy.**\n",
    "3. **Changes to inner objects affect both the original and the copy.**\n",
    "\n",
    "#### Example:\n",
    "```python\n",
    "original = [[1, 2], [3, 4]]  # Outer list contains nested lists\n",
    "shallow_copy = original[:]   # Create a shallow copy\n",
    "\n",
    "print(f\"Original: {original}\")       # [[1, 2], [3, 4]]\n",
    "print(f\"Shallow Copy: {shallow_copy}\")  # [[1, 2], [3, 4]]\n",
    "\n",
    "# Modify an inner object\n",
    "original[0][0] = 99  # Change the first element of the first nested list\n",
    "print(f\"Original: {original}\")       # [[99, 2], [3, 4]]\n",
    "print(f\"Shallow Copy: {shallow_copy}\")  # [[99, 2], [3, 4]]\n",
    "```\n",
    "\n",
    "**Explanation:**\n",
    "- The `shallow_copy` is a new outer list, but its inner lists (`[1, 2]` and `[3, 4]`) are shared with `original`.\n",
    "- Changes to inner objects like `[1, 2]` reflect in both `original` and `shallow_copy`.\n",
    "\n",
    "---\n",
    "\n",
    "### **2. Deep Copy**\n",
    "\n",
    "#### Definition:\n",
    "- A **deep copy** creates a completely independent copy of the original object, including all **nested (inner) objects**.\n",
    "- This ensures that the copy is entirely separate from the original, and changes to one do not affect the other.\n",
    "\n",
    "#### Key Characteristics:\n",
    "1. **Both the outer object and all inner objects are copied.**\n",
    "2. **No shared references between the original and the copy.**\n",
    "3. **Changes to inner objects do not affect the other.**\n",
    "\n",
    "#### Example:\n",
    "```python\n",
    "import copy\n",
    "\n",
    "original = [[1, 2], [3, 4]]  # Outer list contains nested lists\n",
    "deep_copy = copy.deepcopy(original)  # Create a deep copy\n",
    "\n",
    "# Modify an inner object in the original\n",
    "original[0][0] = 99  # Change the first element of the first nested list\n",
    "print(f\"Original: {original}\")       # [[99, 2], [3, 4]]\n",
    "print(f\"Deep Copy: {deep_copy}\")     # [[1, 2], [3, 4]]\n",
    "```\n",
    "\n",
    "**Explanation:**\n",
    "- The `deep_copy` is a completely independent copy. Changes to the inner objects in `original` do not affect `deep_copy`.\n",
    "\n",
    "---\n",
    "\n",
    "### **Key Differences Between Shallow Copy and Deep Copy**\n",
    "\n",
    "| **Aspect**                     | **Shallow Copy**                         | **Deep Copy**                         |\n",
    "|--------------------------------|------------------------------------------|---------------------------------------|\n",
    "| **Outer Object Copy**          | ✅ Yes                                   | ✅ Yes                                |\n",
    "| **Inner Objects Copy**         | ❌ No (Shared)                           | ✅ Yes (Independent)                  |\n",
    "| **Changes to Inner Objects**   | Affects Both                             | Affects Only Original or Copy         |\n",
    "\n",
    "\n",
    "\n",
    "\n",
    "Note: ( Affects Only Original or Copy)\n",
    "With a deep copy, changes to the original and the copy are isolated and do not influence each other.\n",
    "\n",
    "#### Example:\n",
    "```python\n",
    "import copy\n",
    "\n",
    "# Original nested list\n",
    "original = [[1, 2], [3, 4]]\n",
    "\n",
    "# Create a deep copy\n",
    "deep_copy = copy.deepcopy(original)\n",
    "\n",
    "# Change the original\n",
    "original[0][0] = 99  # Modify an inner object in the original\n",
    "\n",
    "print(f\"Original: {original}\")       # [[99, 2], [3, 4]]\n",
    "print(f\"Deep Copy: {deep_copy}\")     # [[1, 2], [3, 4]]\n",
    "\n",
    "# Now change the deep copy\n",
    "deep_copy[1][0] = 55  # Modify an inner object in the deep copy\n",
    "\n",
    "print(f\"Original after changing deep_copy: {original}\")  # [[99, 2], [3, 4]]\n",
    "print(f\"Deep Copy after modification: {deep_copy}\")      # [[1, 2], [55, 4]]\n",
    "\n",
    "```\n",
    "### **3. Comparing Both Concepts**\n",
    "\n",
    "#### Example Showing Both:\n",
    "```python\n",
    "import copy\n",
    "\n",
    "# Original nested list\n",
    "original = [[1, 2], [3, 4]]\n",
    "\n",
    "# Create a shallow copy\n",
    "shallow_copy = original[:]\n",
    "\n",
    "# Create a deep copy\n",
    "deep_copy = copy.deepcopy(original)\n",
    "\n",
    "# Modify an inner object in the original\n",
    "original[0][0] = 99\n",
    "\n",
    "print(f\"Original: {original}\")        # [[99, 2], [3, 4]]\n",
    "print(f\"Shallow Copy: {shallow_copy}\") # [[99, 2], [3, 4]] (affected)\n",
    "print(f\"Deep Copy: {deep_copy}\")      # [[1, 2], [3, 4]] (not affected)\n",
    "```\n",
    "\n",
    "---\n",
    "\n",
    "### **When to Use Each Copy Type**\n",
    "\n",
    "1. **Shallow Copy**:\n",
    "   - Use when the original structure is flat, or changes to inner objects should reflect in both the original and the copy.\n",
    "   - Example: When working with flat lists or objects without nested structures.\n",
    "\n",
    "2. **Deep Copy**:\n",
    "   - Use when you need a completely independent copy of both the outer and inner objects.\n",
    "   - Example: When dealing with complex nested data structures, such as JSON-like objects.\n",
    "\n",
    "---\n",
    "\n",
    "### **Conclusion**\n",
    "\n",
    "Understanding the difference between shallow and deep copies helps in managing mutable objects in Python effectively. \n",
    "- Use **shallow copy** for simple cases where shared references are acceptable.\n",
    "- Opt for **deep copy** when complete independence between the original and the copy is required."
   ]
  },
  {
   "cell_type": "code",
   "execution_count": 34,
   "metadata": {},
   "outputs": [
    {
     "name": "stdout",
     "output_type": "stream",
     "text": [
      "Original: [[99, 2], [3, 4], [5, 6]]\n",
      "Shallow Copy: [[99, 2], [3, 4]]\n",
      "Deep Copy: [[1, 2], [3, 4]]\n"
     ]
    }
   ],
   "source": [
    "import copy\n",
    "\n",
    "# Original nested list\n",
    "original = [[1, 2], [3, 4]]\n",
    "\n",
    "# Create a shallow copy\n",
    "shallow_copy = original[:]\n",
    "\n",
    "# Create a deep copy\n",
    "deep_copy = copy.deepcopy(original)\n",
    "original.append([5,6])\n",
    "# Modify an inner object in the original\n",
    "original[0][0] = 99\n",
    "\n",
    "print(f\"Original: {original}\")        # [[99, 2], [3, 4]]\n",
    "print(f\"Shallow Copy: {shallow_copy}\") # [[99, 2], [3, 4]] (affected)\n",
    "print(f\"Deep Copy: {deep_copy}\")      # [[1, 2], [3, 4]] (not affected)\n"
   ]
  }
 ],
 "metadata": {
  "kernelspec": {
   "display_name": "Python 3",
   "language": "python",
   "name": "python3"
  },
  "language_info": {
   "codemirror_mode": {
    "name": "ipython",
    "version": 3
   },
   "file_extension": ".py",
   "mimetype": "text/x-python",
   "name": "python",
   "nbconvert_exporter": "python",
   "pygments_lexer": "ipython3",
   "version": "3.12.3"
  }
 },
 "nbformat": 4,
 "nbformat_minor": 2
}
