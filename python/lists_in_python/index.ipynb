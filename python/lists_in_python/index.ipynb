{
 "cells": [
  {
   "cell_type": "code",
   "execution_count": 8,
   "metadata": {},
   "outputs": [
    {
     "name": "stdout",
     "output_type": "stream",
     "text": [
      "num_1:3\n",
      "num_2:3\n",
      "num_1:6\n",
      "num_2:3\n"
     ]
    }
   ],
   "source": [
    "num_1:int = 3\n",
    "num_2 = num_1\n",
    "print(f\"num_1:{num_1}\")\n",
    "print(f\"num_2:{num_2}\")\n",
    "num_1 = 6\n",
    "print(f\"num_1:{num_1}\")\n",
    "print(f\"num_2:{num_2}\")\n"
   ]
  },
  {
   "cell_type": "code",
   "execution_count": 3,
   "metadata": {},
   "outputs": [
    {
     "name": "stdout",
     "output_type": "stream",
     "text": [
      "list_2:[1, 2, 3, 4]\n",
      "list_1:[1, 2, 3, 4]\n",
      "list_1:[1, 2, 3, 4, 5]\n",
      "list_2:[1, 2, 3, 4]\n"
     ]
    }
   ],
   "source": [
    "list_1:list[int] = [1, 2, 3, 4]\n",
    "list_2 = list_1\n",
    "print(f\"list_2:{list_2}\")\n",
    "print(f\"list_1:{list_1}\")\n",
    "list_1 = [1,2,3,4,5]\n",
    "print(f\"list_1:{list_1}\")\n",
    "print(f\"list_2:{list_2}\")\n"
   ]
  },
  {
   "cell_type": "code",
   "execution_count": 5,
   "metadata": {},
   "outputs": [
    {
     "name": "stdout",
     "output_type": "stream",
     "text": [
      "list_2:[1, 2, 3, 4]\n",
      "list_1:[1, 2, 3, 4]\n",
      "list_1:[11, 2, 3, 4]\n",
      "list_2:[11, 2, 3, 4]\n"
     ]
    }
   ],
   "source": [
    "list_1:list[int] = [1, 2, 3, 4]\n",
    "list_2 = list_1\n",
    "print(f\"list_2:{list_2}\")\n",
    "print(f\"list_1:{list_1}\")\n",
    "list_1[0] = 11\n",
    "print(f\"list_1:{list_1}\")\n",
    "print(f\"list_2:{list_2}\")\n"
   ]
  },
  {
   "cell_type": "code",
   "execution_count": 9,
   "metadata": {},
   "outputs": [
    {
     "name": "stdout",
     "output_type": "stream",
     "text": [
      "list_2:[1, 2, 3, 4]\n",
      "list_1:[1, 2, 3, 4]\n",
      "list_1:[11, 2, 3, 4]\n",
      "list_2:[11, 2, 3, 4]\n"
     ]
    }
   ],
   "source": [
    "list_1:list[int] = [1, 2, 3, 4]\n",
    "list_2 = list_1\n",
    "print(f\"list_2:{list_2}\")\n",
    "print(f\"list_1:{list_1}\")\n",
    "list_2[0] = 11\n",
    "print(f\"list_1:{list_1}\")\n",
    "print(f\"list_2:{list_2}\")\n"
   ]
  },
  {
   "cell_type": "code",
   "execution_count": 6,
   "metadata": {},
   "outputs": [
    {
     "name": "stdout",
     "output_type": "stream",
     "text": [
      "list_2:[1, 2, 3, 4]\n",
      "list_1:[1, 2, 3, 4]\n",
      "list_1:[11, 2, 3, 4]\n",
      "list_2:[1, 2, 3, 4]\n"
     ]
    }
   ],
   "source": [
    "list_1:list[int] = [1, 2, 3, 4]\n",
    "list_2 = list_1\n",
    "list_2 = [1, 2, 3, 4]\n",
    "print(f\"list_2:{list_2}\")\n",
    "print(f\"list_1:{list_1}\")\n",
    "list_1[0] = 11\n",
    "print(f\"list_1:{list_1}\")\n",
    "print(f\"list_2:{list_2}\")\n"
   ]
  },
  {
   "cell_type": "code",
   "execution_count": 10,
   "metadata": {},
   "outputs": [
    {
     "name": "stdout",
     "output_type": "stream",
     "text": [
      "list_2:[1, 2, 3, 4]\n",
      "list_1:[1, 2, 3, 4]\n",
      "list_1:[1, 2, 3, 4]\n",
      "list_2:[22, 2, 3, 4]\n"
     ]
    }
   ],
   "source": [
    "list_1:list[int] = [1, 2, 3, 4]\n",
    "list_2 = list_1\n",
    "list_2 = [1, 2, 3, 4]\n",
    "print(f\"list_2:{list_2}\")\n",
    "print(f\"list_1:{list_1}\")\n",
    "list_2[0] = 22\n",
    "print(f\"list_1:{list_1}\") \n",
    "print(f\"list_2:{list_2}\")\n"
   ]
  },
  {
   "cell_type": "code",
   "execution_count": null,
   "metadata": {},
   "outputs": [],
   "source": [
    "my_list:list[int] = [1,2,3,4]\n",
    "new_list:list[int] = my_list[:]\n",
    "print\n"
   ]
  }
 ],
 "metadata": {
  "kernelspec": {
   "display_name": "Python 3",
   "language": "python",
   "name": "python3"
  },
  "language_info": {
   "codemirror_mode": {
    "name": "ipython",
    "version": 3
   },
   "file_extension": ".py",
   "mimetype": "text/x-python",
   "name": "python",
   "nbconvert_exporter": "python",
   "pygments_lexer": "ipython3",
   "version": "3.12.3"
  }
 },
 "nbformat": 4,
 "nbformat_minor": 2
}
