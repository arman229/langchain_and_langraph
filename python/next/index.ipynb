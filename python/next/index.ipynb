{
 "cells": [
  {
   "cell_type": "code",
   "execution_count": null,
   "id": "ab90d9f6",
   "metadata": {},
   "outputs": [],
   "source": [
    " \n",
    "llm_output = {\n",
    "    \"scenes\": [\n",
    "        {\"id\": \"1\", \"title\": \"Intro\"},\n",
    "        {\"id\": \"2\", \"title\": \"Middle\"},\n",
    "        {\"id\": \"3\", \"title\": \"End\"},\n",
    "        {\"id\": \"3\", \"title\": \"Ends\"},\n",
    "    ]\n",
    "}\n",
    "\n",
    " \n",
    " \n",
    "matching_scene1 = next((s for s in llm_output[\"scenes\"] if s[\"id\"] == '3'), None)\n",
    "matching_scene2 = [s for s in llm_output[\"scenes\"] if s[\"id\"] == '3']\n",
    "matching_scene3 = [s if s[\"id\"]=='3' else None for s in llm_output[\"scenes\"]  ]\n",
    "matching_scene4 = next((s for s in llm_output[\"scenes\"] if s[\"id\"] == '6'), None)\n",
    " \n",
    "print(\"Matching scene1:\", matching_scene1)\n",
    "print(\"Matching scene2:\", matching_scene2)\n",
    "print(\"Matching scene3:\", matching_scene3)\n",
    "print(\"Matching scene4:\", matching_scene4)\n",
    "\n",
    " \n"
   ]
  }
 ],
 "metadata": {
  "language_info": {
   "name": "python"
  }
 },
 "nbformat": 4,
 "nbformat_minor": 5
}
