{
 "cells": [
  {
   "cell_type": "markdown",
   "metadata": {},
   "source": [
    "# What is a dataclass?\n",
    "A dataclass is a Python feature (from the dataclasses module) that makes it easier to create and manage structured data. It automatically generates methods like __init__, __repr__, and __eq__, so you don’t have to write them manually."
   ]
  },
  {
   "cell_type": "code",
   "execution_count": 1,
   "metadata": {},
   "outputs": [
    {
     "ename": "TypeError",
     "evalue": "Product() takes no arguments",
     "output_type": "error",
     "traceback": [
      "\u001b[31m---------------------------------------------------------------------------\u001b[39m",
      "\u001b[31mTypeError\u001b[39m                                 Traceback (most recent call last)",
      "\u001b[36mCell\u001b[39m\u001b[36m \u001b[39m\u001b[32mIn[1]\u001b[39m\u001b[32m, line 4\u001b[39m\n\u001b[32m      2\u001b[39m     name:\u001b[38;5;28mstr\u001b[39m\n\u001b[32m      3\u001b[39m     price:\u001b[38;5;28mfloat\u001b[39m\n\u001b[32m----> \u001b[39m\u001b[32m4\u001b[39m item = \u001b[43mProduct\u001b[49m\u001b[43m(\u001b[49m\u001b[43mname\u001b[49m\u001b[43m=\u001b[49m\u001b[33;43m'\u001b[39;49m\u001b[33;43mpatato\u001b[39;49m\u001b[33;43m'\u001b[39;49m\u001b[43m,\u001b[49m\u001b[43mprice\u001b[49m\u001b[43m=\u001b[49m\u001b[32;43m3\u001b[39;49m\u001b[43m)\u001b[49m\n\u001b[32m      5\u001b[39m \u001b[38;5;28mprint\u001b[39m(item)\n",
      "\u001b[31mTypeError\u001b[39m: Product() takes no arguments"
     ]
    }
   ],
   "source": [
    "from dataclasses import dataclass\n",
    "\n",
    "@dataclass\n",
    "class Product:\n",
    "    name: str\n",
    "    price: float\n",
    "    stock: int\n",
    "\n",
    "# Creating an object\n",
    "item = Product(name=\"Laptop\", price=999.99, stock=5)\n",
    "\n",
    "print(item)  \n",
    "# Output: Product(name='Laptop', price=999.99, stock=5)\n"
   ]
  },
  {
   "cell_type": "markdown",
   "metadata": {},
   "source": [
    "# What is Pydantic?\n",
    "Pydantic is a data validation library for Python. It ensures that inputs match the expected format and automatically converts data types when possible. It’s commonly used in FastAPI and OpenAI Agents SDK to validate function inputs and outputs."
   ]
  },
  {
   "cell_type": "code",
   "execution_count": 2,
   "metadata": {},
   "outputs": [
    {
     "name": "stdout",
     "output_type": "stream",
     "text": [
      "{'name': 'Laptop', 'price': 999.99, 'stock': 5}\n"
     ]
    },
    {
     "ename": "ValidationError",
     "evalue": "2 validation errors for Product\nprice\n  Input should be a valid number, unable to parse string as a number [type=float_parsing, input_value='free', input_type=str]\n    For further information visit https://errors.pydantic.dev/2.7/v/float_parsing\nstock\n  Input should be a valid integer, unable to parse string as an integer [type=int_parsing, input_value='many', input_type=str]\n    For further information visit https://errors.pydantic.dev/2.7/v/int_parsing",
     "output_type": "error",
     "traceback": [
      "\u001b[31m---------------------------------------------------------------------------\u001b[39m",
      "\u001b[31mValidationError\u001b[39m                           Traceback (most recent call last)",
      "\u001b[36mCell\u001b[39m\u001b[36m \u001b[39m\u001b[32mIn[2]\u001b[39m\u001b[32m, line 15\u001b[39m\n\u001b[32m     11\u001b[39m \u001b[38;5;28mprint\u001b[39m(item.dict())  \n\u001b[32m     12\u001b[39m \u001b[38;5;66;03m# Output: {'name': 'Laptop', 'price': 999.99, 'stock': 5}\u001b[39;00m\n\u001b[32m     13\u001b[39m \n\u001b[32m     14\u001b[39m \u001b[38;5;66;03m# Trying to create an invalid object (Pydantic will raise an error)\u001b[39;00m\n\u001b[32m---> \u001b[39m\u001b[32m15\u001b[39m invalid_item = \u001b[43mProduct\u001b[49m\u001b[43m(\u001b[49m\u001b[43mname\u001b[49m\u001b[43m=\u001b[49m\u001b[33;43m\"\u001b[39;49m\u001b[33;43mLaptop\u001b[39;49m\u001b[33;43m\"\u001b[39;49m\u001b[43m,\u001b[49m\u001b[43m \u001b[49m\u001b[43mprice\u001b[49m\u001b[43m=\u001b[49m\u001b[33;43m\"\u001b[39;49m\u001b[33;43mfree\u001b[39;49m\u001b[33;43m\"\u001b[39;49m\u001b[43m,\u001b[49m\u001b[43m \u001b[49m\u001b[43mstock\u001b[49m\u001b[43m=\u001b[49m\u001b[33;43m\"\u001b[39;49m\u001b[33;43mmany\u001b[39;49m\u001b[33;43m\"\u001b[39;49m\u001b[43m)\u001b[49m\n",
      "\u001b[36mFile \u001b[39m\u001b[32mc:\\Users\\arman\\AppData\\Local\\Programs\\Python\\Python312\\Lib\\site-packages\\pydantic\\main.py:176\u001b[39m, in \u001b[36mBaseModel.__init__\u001b[39m\u001b[34m(self, **data)\u001b[39m\n\u001b[32m    174\u001b[39m \u001b[38;5;66;03m# `__tracebackhide__` tells pytest and some other tools to omit this function from tracebacks\u001b[39;00m\n\u001b[32m    175\u001b[39m __tracebackhide__ = \u001b[38;5;28;01mTrue\u001b[39;00m\n\u001b[32m--> \u001b[39m\u001b[32m176\u001b[39m \u001b[38;5;28;43mself\u001b[39;49m\u001b[43m.\u001b[49m\u001b[43m__pydantic_validator__\u001b[49m\u001b[43m.\u001b[49m\u001b[43mvalidate_python\u001b[49m\u001b[43m(\u001b[49m\u001b[43mdata\u001b[49m\u001b[43m,\u001b[49m\u001b[43m \u001b[49m\u001b[43mself_instance\u001b[49m\u001b[43m=\u001b[49m\u001b[38;5;28;43mself\u001b[39;49m\u001b[43m)\u001b[49m\n",
      "\u001b[31mValidationError\u001b[39m: 2 validation errors for Product\nprice\n  Input should be a valid number, unable to parse string as a number [type=float_parsing, input_value='free', input_type=str]\n    For further information visit https://errors.pydantic.dev/2.7/v/float_parsing\nstock\n  Input should be a valid integer, unable to parse string as an integer [type=int_parsing, input_value='many', input_type=str]\n    For further information visit https://errors.pydantic.dev/2.7/v/int_parsing"
     ]
    }
   ],
   "source": [
    "from pydantic import BaseModel\n",
    "\n",
    "class Product(BaseModel):\n",
    "    name: str\n",
    "    price: float\n",
    "    stock: int\n",
    "\n",
    "# Creating a valid object\n",
    "item = Product(name=\"Laptop\", price=999.99, stock=5)\n",
    "\n",
    "print(item.dict())  \n",
    "# Output: {'name': 'Laptop', 'price': 999.99, 'stock': 5}\n",
    "\n",
    "# Trying to create an invalid object (Pydantic will raise an error)\n",
    "invalid_item = Product(name=\"Laptop\", price=\"free\", stock=\"many\")\n"
   ]
  },
  {
   "cell_type": "code",
   "execution_count": 5,
   "metadata": {},
   "outputs": [],
   "source": [
    "\n",
    "from dataclasses import dataclass\n",
    "\n",
    "from typing import ClassVar\n",
    "\n",
    "@dataclass\n",
    "class American:\n",
    "  national_language: ClassVar[str] = \"English\"\n",
    "  national_food: ClassVar[str] = \"Hamburger\"\n",
    "  normal_body_temperature: ClassVar[float] = 98.6\n",
    "  name: str\n",
    "  age: int\n",
    "  weight: float\n",
    "  liked_food: str\n",
    "\n",
    "  def speaks(self):\n",
    "    return f\"{self.name} is speaking... {American.national_language}\"\n",
    "\n",
    "  def eats(self):\n",
    "    return f\"{self.name} is eating...\"\n",
    "\n",
    "  @staticmethod\n",
    "  def country_language():\n",
    "    return American.national_language\n",
    "  @classmethod\n",
    "  def country_language2(cls):\n",
    "    return cls.national_language"
   ]
  },
  {
   "cell_type": "code",
   "execution_count": null,
   "metadata": {},
   "outputs": [],
   "source": [
    "\n",
    "American.country_language()"
   ]
  },
  {
   "cell_type": "code",
   "execution_count": 6,
   "metadata": {},
   "outputs": [
    {
     "data": {
      "text/plain": [
       "'English'"
      ]
     },
     "execution_count": 6,
     "metadata": {},
     "output_type": "execute_result"
    }
   ],
   "source": [
    "\n",
    "American.country_language2()"
   ]
  },
  {
   "cell_type": "code",
   "execution_count": 8,
   "metadata": {},
   "outputs": [
    {
     "name": "stdout",
     "output_type": "stream",
     "text": [
      "John is speaking... English\n",
      "John is eating...\n"
     ]
    }
   ],
   "source": [
    "john = American(name=\"John\", age=25, weight=65, liked_food=\"P\")\n",
    "print(john.speaks())\n",
    "print(john.eats())"
   ]
  },
  {
   "cell_type": "code",
   "execution_count": 9,
   "metadata": {},
   "outputs": [
    {
     "name": "stdout",
     "output_type": "stream",
     "text": [
      "American(name='John', age=25, weight=65, liked_food='P')\n",
      "John\n",
      "25\n",
      "65\n",
      "English\n"
     ]
    }
   ],
   "source": [
    "\n",
    "print(john)\n",
    "print(john.name)\n",
    "print(john.age)\n",
    "print(john.weight)\n",
    "print(American.national_language)"
   ]
  },
  {
   "cell_type": "code",
   "execution_count": null,
   "metadata": {},
   "outputs": [],
   "source": []
  }
 ],
 "metadata": {
  "kernelspec": {
   "display_name": "Python 3",
   "language": "python",
   "name": "python3"
  },
  "language_info": {
   "codemirror_mode": {
    "name": "ipython",
    "version": 3
   },
   "file_extension": ".py",
   "mimetype": "text/x-python",
   "name": "python",
   "nbconvert_exporter": "python",
   "pygments_lexer": "ipython3",
   "version": "3.12.3"
  }
 },
 "nbformat": 4,
 "nbformat_minor": 2
}
