{
 "cells": [
  {
   "cell_type": "markdown",
   "metadata": {},
   "source": [
    "# What is a dataclass?\n",
    "A dataclass is a Python feature (from the dataclasses module) that makes it easier to create and manage structured data. It automatically generates methods like __init__, __repr__, and __eq__, so you don’t have to write them manually."
   ]
  },
  {
   "cell_type": "code",
   "execution_count": 6,
   "metadata": {},
   "outputs": [
    {
     "name": "stdout",
     "output_type": "stream",
     "text": [
      "Product(name='Laptop', price=999.99, stock=5)\n",
      "Product(name='Laptop', price='free', stock='many')\n"
     ]
    }
   ],
   "source": [
    "from dataclasses import dataclass\n",
    "\n",
    "@dataclass\n",
    "class Product:\n",
    "    name: str\n",
    "    price: float\n",
    "    stock: int\n",
    "\n",
    "# Creating an object\n",
    "item = Product(name=\"Laptop\", price=999.99, stock=5)\n",
    "invalid_item = Product(name=\"Laptop\", price=\"free\", stock=\"many\")\n",
    "print(item)  \n",
    "print(invalid_item)  \n",
    "# Output: Product(name='Laptop', price=999.99, stock=5)\n"
   ]
  },
  {
   "cell_type": "markdown",
   "metadata": {},
   "source": [
    "# What is Pydantic?\n",
    "Pydantic is a data validation library for Python. It ensures that inputs match the expected format and automatically converts data types when possible. It’s commonly used in FastAPI and OpenAI Agents SDK to validate function inputs and outputs."
   ]
  },
  {
   "cell_type": "code",
   "execution_count": 4,
   "metadata": {},
   "outputs": [
    {
     "name": "stderr",
     "output_type": "stream",
     "text": [
      "C:\\Users\\arman\\AppData\\Local\\Temp\\ipykernel_22008\\1722038449.py:11: PydanticDeprecatedSince20: The `dict` method is deprecated; use `model_dump` instead. Deprecated in Pydantic V2.0 to be removed in V3.0. See Pydantic V2 Migration Guide at https://errors.pydantic.dev/2.11/migration/\n",
      "  print(item.dict())\n"
     ]
    },
    {
     "name": "stdout",
     "output_type": "stream",
     "text": [
      "{'name': 'Laptop', 'price': 999.99, 'stock': 5}\n"
     ]
    },
    {
     "ename": "ValidationError",
     "evalue": "2 validation errors for Product\nprice\n  Input should be a valid number, unable to parse string as a number [type=float_parsing, input_value='free', input_type=str]\n    For further information visit https://errors.pydantic.dev/2.11/v/float_parsing\nstock\n  Input should be a valid integer, unable to parse string as an integer [type=int_parsing, input_value='many', input_type=str]\n    For further information visit https://errors.pydantic.dev/2.11/v/int_parsing",
     "output_type": "error",
     "traceback": [
      "\u001b[31m---------------------------------------------------------------------------\u001b[39m",
      "\u001b[31mValidationError\u001b[39m                           Traceback (most recent call last)",
      "\u001b[36mCell\u001b[39m\u001b[36m \u001b[39m\u001b[32mIn[4]\u001b[39m\u001b[32m, line 15\u001b[39m\n\u001b[32m     11\u001b[39m \u001b[38;5;28mprint\u001b[39m(item.dict())  \n\u001b[32m     12\u001b[39m \u001b[38;5;66;03m# Output: {'name': 'Laptop', 'price': 999.99, 'stock': 5}\u001b[39;00m\n\u001b[32m     13\u001b[39m \n\u001b[32m     14\u001b[39m \u001b[38;5;66;03m# Trying to create an invalid object (Pydantic will raise an error)\u001b[39;00m\n\u001b[32m---> \u001b[39m\u001b[32m15\u001b[39m invalid_item = \u001b[43mProduct\u001b[49m\u001b[43m(\u001b[49m\u001b[43mname\u001b[49m\u001b[43m=\u001b[49m\u001b[33;43m\"\u001b[39;49m\u001b[33;43mLaptop\u001b[39;49m\u001b[33;43m\"\u001b[39;49m\u001b[43m,\u001b[49m\u001b[43m \u001b[49m\u001b[43mprice\u001b[49m\u001b[43m=\u001b[49m\u001b[33;43m\"\u001b[39;49m\u001b[33;43mfree\u001b[39;49m\u001b[33;43m\"\u001b[39;49m\u001b[43m,\u001b[49m\u001b[43m \u001b[49m\u001b[43mstock\u001b[49m\u001b[43m=\u001b[49m\u001b[33;43m\"\u001b[39;49m\u001b[33;43mmany\u001b[39;49m\u001b[33;43m\"\u001b[39;49m\u001b[43m)\u001b[49m\n",
      "\u001b[36mFile \u001b[39m\u001b[32mc:\\Users\\arman\\AppData\\Local\\Programs\\Python\\Python313\\Lib\\site-packages\\pydantic\\main.py:253\u001b[39m, in \u001b[36mBaseModel.__init__\u001b[39m\u001b[34m(self, **data)\u001b[39m\n\u001b[32m    251\u001b[39m \u001b[38;5;66;03m# `__tracebackhide__` tells pytest and some other tools to omit this function from tracebacks\u001b[39;00m\n\u001b[32m    252\u001b[39m __tracebackhide__ = \u001b[38;5;28;01mTrue\u001b[39;00m\n\u001b[32m--> \u001b[39m\u001b[32m253\u001b[39m validated_self = \u001b[38;5;28;43mself\u001b[39;49m\u001b[43m.\u001b[49m\u001b[43m__pydantic_validator__\u001b[49m\u001b[43m.\u001b[49m\u001b[43mvalidate_python\u001b[49m\u001b[43m(\u001b[49m\u001b[43mdata\u001b[49m\u001b[43m,\u001b[49m\u001b[43m \u001b[49m\u001b[43mself_instance\u001b[49m\u001b[43m=\u001b[49m\u001b[38;5;28;43mself\u001b[39;49m\u001b[43m)\u001b[49m\n\u001b[32m    254\u001b[39m \u001b[38;5;28;01mif\u001b[39;00m \u001b[38;5;28mself\u001b[39m \u001b[38;5;129;01mis\u001b[39;00m \u001b[38;5;129;01mnot\u001b[39;00m validated_self:\n\u001b[32m    255\u001b[39m     warnings.warn(\n\u001b[32m    256\u001b[39m         \u001b[33m'\u001b[39m\u001b[33mA custom validator is returning a value other than `self`.\u001b[39m\u001b[38;5;130;01m\\n\u001b[39;00m\u001b[33m'\u001b[39m\n\u001b[32m    257\u001b[39m         \u001b[33m\"\u001b[39m\u001b[33mReturning anything other than `self` from a top level model validator isn\u001b[39m\u001b[33m'\u001b[39m\u001b[33mt supported when validating via `__init__`.\u001b[39m\u001b[38;5;130;01m\\n\u001b[39;00m\u001b[33m\"\u001b[39m\n\u001b[32m    258\u001b[39m         \u001b[33m'\u001b[39m\u001b[33mSee the `model_validator` docs (https://docs.pydantic.dev/latest/concepts/validators/#model-validators) for more details.\u001b[39m\u001b[33m'\u001b[39m,\n\u001b[32m    259\u001b[39m         stacklevel=\u001b[32m2\u001b[39m,\n\u001b[32m    260\u001b[39m     )\n",
      "\u001b[31mValidationError\u001b[39m: 2 validation errors for Product\nprice\n  Input should be a valid number, unable to parse string as a number [type=float_parsing, input_value='free', input_type=str]\n    For further information visit https://errors.pydantic.dev/2.11/v/float_parsing\nstock\n  Input should be a valid integer, unable to parse string as an integer [type=int_parsing, input_value='many', input_type=str]\n    For further information visit https://errors.pydantic.dev/2.11/v/int_parsing"
     ]
    }
   ],
   "source": [
    "from pydantic import BaseModel\n",
    "\n",
    "class Product(BaseModel):\n",
    "    name: str\n",
    "    price: float\n",
    "    stock: int\n",
    "\n",
    "# Creating a valid object\n",
    "item = Product(name=\"Laptop\", price=999.99, stock=5)\n",
    "\n",
    "print(item.dict())  \n",
    "# Output: {'name': 'Laptop', 'price': 999.99, 'stock': 5}\n",
    "\n",
    "# Trying to create an invalid object (Pydantic will raise an error)\n",
    "invalid_item = Product(name=\"Laptop\", price=\"free\", stock=\"many\")\n"
   ]
  },
  {
   "cell_type": "code",
   "execution_count": 5,
   "metadata": {},
   "outputs": [],
   "source": [
    "\n",
    "from dataclasses import dataclass\n",
    "\n",
    "from typing import ClassVar\n",
    "\n",
    "@dataclass\n",
    "class American:\n",
    "  national_language: ClassVar[str] = \"English\"\n",
    "  national_food: ClassVar[str] = \"Hamburger\"\n",
    "  normal_body_temperature: ClassVar[float] = 98.6\n",
    "  name: str\n",
    "  age: int\n",
    "  weight: float\n",
    "  liked_food: str\n",
    "\n",
    "  def speaks(self):\n",
    "    return f\"{self.name} is speaking... {American.national_language}\"\n",
    "\n",
    "  def eats(self):\n",
    "    return f\"{self.name} is eating...\"\n",
    "\n",
    "  @staticmethod\n",
    "  def country_language():\n",
    "    return American.national_language\n",
    "  @classmethod\n",
    "  def country_language2(cls):\n",
    "    return cls.national_language"
   ]
  },
  {
   "cell_type": "code",
   "execution_count": null,
   "metadata": {},
   "outputs": [],
   "source": [
    "\n",
    "American.country_language()"
   ]
  },
  {
   "cell_type": "code",
   "execution_count": 6,
   "metadata": {},
   "outputs": [
    {
     "data": {
      "text/plain": [
       "'English'"
      ]
     },
     "execution_count": 6,
     "metadata": {},
     "output_type": "execute_result"
    }
   ],
   "source": [
    "\n",
    "American.country_language2()"
   ]
  },
  {
   "cell_type": "code",
   "execution_count": 8,
   "metadata": {},
   "outputs": [
    {
     "name": "stdout",
     "output_type": "stream",
     "text": [
      "John is speaking... English\n",
      "John is eating...\n"
     ]
    }
   ],
   "source": [
    "john = American(name=\"John\", age=25, weight=65, liked_food=\"P\")\n",
    "print(john.speaks())\n",
    "print(john.eats())"
   ]
  },
  {
   "cell_type": "code",
   "execution_count": 9,
   "metadata": {},
   "outputs": [
    {
     "name": "stdout",
     "output_type": "stream",
     "text": [
      "American(name='John', age=25, weight=65, liked_food='P')\n",
      "John\n",
      "25\n",
      "65\n",
      "English\n"
     ]
    }
   ],
   "source": [
    "\n",
    "print(john)\n",
    "print(john.name)\n",
    "print(john.age)\n",
    "print(john.weight)\n",
    "print(American.national_language)"
   ]
  },
  {
   "cell_type": "code",
   "execution_count": null,
   "metadata": {},
   "outputs": [
    {
     "name": "stdout",
     "output_type": "stream",
     "text": [
      "False\n"
     ]
    }
   ],
   "source": [
    "class Product:\n",
    "    def __init__(self, name, price):\n",
    "        self.name = name\n",
    "        self.price = price\n",
    "\n",
    "    # def __eq__(self, other):\n",
    "    #     if not isinstance(other, Product):\n",
    "    #         return NotImplemented\n",
    "    #     return self.name == other.name and self.price == other.price\n",
    "p1 = Product(\"Laptop\", 999.99)\n",
    "p2 = Product(\"Laptop\", 999.99) \n",
    "print(p1 == p2)  # OR  print(p1.__eq__(p2)) \n",
    " "
   ]
  },
  {
   "cell_type": "code",
   "execution_count": 21,
   "metadata": {},
   "outputs": [
    {
     "name": "stdout",
     "output_type": "stream",
     "text": [
      "A.__eq__ called\n",
      "False\n"
     ]
    }
   ],
   "source": [
    "class A:\n",
    "    def __eq__(self, other):\n",
    "        print(\"A.__eq__ called\") \n",
    "        if not isinstance(other, A):\n",
    "            return False   \n",
    "        return True\n",
    "\n",
    "class B:\n",
    "    def __eq__(self, other):\n",
    "        print(\"B.__eq__ called\") \n",
    "        if isinstance(other, A):\n",
    "            return True\n",
    "        return False \n",
    "a = A()\n",
    "b = B() \n",
    "print(a == b) \n"
   ]
  },
  {
   "cell_type": "code",
   "execution_count": 22,
   "metadata": {},
   "outputs": [
    {
     "name": "stdout",
     "output_type": "stream",
     "text": [
      "A.__eq__ called\n",
      "B.__eq__ called\n",
      "True\n"
     ]
    }
   ],
   "source": [
    "class A:\n",
    "    def __eq__(self, other):\n",
    "        print(\"A.__eq__ called\")\n",
    "        if not isinstance(other, A):\n",
    "            return NotImplemented  # Pass the question to other\n",
    "        return True\n",
    "\n",
    "class B:\n",
    "    def __eq__(self, other):\n",
    "        print(\"B.__eq__ called\")\n",
    "        if isinstance(other, A):\n",
    "            return True\n",
    "        return False\n",
    "\n",
    "a = A()\n",
    "b = B()\n",
    "\n",
    "print(a == b)  # Output?\n"
   ]
  },
  {
   "cell_type": "markdown",
   "metadata": {},
   "source": [
    "__repr__ is the official string representation of an object in Python.\n",
    "\n"
   ]
  },
  {
   "cell_type": "code",
   "execution_count": null,
   "metadata": {},
   "outputs": [
    {
     "name": "stdout",
     "output_type": "stream",
     "text": [
      "Product(name='Laptop', price=999.99, stock=10)\n"
     ]
    }
   ],
   "source": [
    "class Product:\n",
    "    def __init__(self, name, price, stock):\n",
    "        self.name = name\n",
    "        self.price = price\n",
    "        self.stock = stock\n",
    "\n",
    "    def __repr__(self):\n",
    "        return f\"Product(name={self.name!r}, price={self.price!r}, stock={self.stock!r})\"\n",
    "\n",
    "    \n",
    "    def __hash__(self):\n",
    "        return hash((self.name, self.price, self.stock)) \n",
    "p1 = Product(\"Laptop\", 999.99, 10)\n",
    "p2 = Product(\"Laptop\", 999.99, 10) \n",
    "print(p1.__repr__())       #OR print(repr(p1)) \n",
    "\n",
    "     \n",
    "# print(p1.__hash__(), p2.__hash__())    \n",
    "           \n",
    "# print(hash(p1) == hash(p2))     \n",
    "# my_set = {p1, p2}\n",
    "# print(len(my_set))      \n"
   ]
  },
  {
   "cell_type": "code",
   "execution_count": 49,
   "metadata": {},
   "outputs": [
    {
     "name": "stdout",
     "output_type": "stream",
     "text": [
      "<__main__.Person object at 0x000001DBEF03F8C0>\n",
      "{<__main__.Person object at 0x000001DBEF03F8C0>: 'admin'}\n",
      "admin\n",
      "5572902419881711446\n",
      "5572902419881711446\n"
     ]
    }
   ],
   "source": [
    "class Person:\n",
    "    def __init__(self, name):\n",
    "        self.name = name\n",
    "    def __eq__(self, other):\n",
    "        return self.name == other.name\n",
    "    def __hash__(self):\n",
    "        return hash(self.name)\n",
    "\n",
    "p1 = Person(\"Alice\")\n",
    "p2 = Person(\"Alice\")\n",
    "print(p1)\n",
    "user = {p1:\"admin\"}\n",
    "print(user)\n",
    "print(user[p2])\n",
    "print(hash(p1))  # e.g. 4556128392000\n",
    "print(hash(p2))  # same as above, because name is same\n"
   ]
  },
  {
   "cell_type": "code",
   "execution_count": 50,
   "metadata": {},
   "outputs": [
    {
     "name": "stdout",
     "output_type": "stream",
     "text": [
      "1\n"
     ]
    }
   ],
   "source": [
    "class Product:\n",
    "    def __init__(self, name, price):\n",
    "        self.name = name\n",
    "        self.price = price\n",
    "\n",
    "    def __eq__(self, other):\n",
    "        return isinstance(other, Product) and self.name == other.name and self.price == other.price\n",
    "\n",
    "    def __hash__(self):\n",
    "        return hash((self.name, self.price))\n",
    "\n",
    "p1 = Product(\"Laptop\", 999.99)\n",
    "p2 = Product(\"Laptop\", 999.99)\n",
    "\n",
    "product_set = {p1, p2}\n",
    "\n",
    "print(len(product_set))  # ✅ Output: 1 — because p1 and p2 are equal and hash is the same\n"
   ]
  },
  {
   "cell_type": "code",
   "execution_count": 51,
   "metadata": {},
   "outputs": [
    {
     "name": "stdout",
     "output_type": "stream",
     "text": [
      "Product(name='Laptop', price=999.99, stock=10)\n",
      "True\n",
      "-7369802317057073040 -7369802317057073040\n",
      "True\n",
      "True\n",
      "1\n"
     ]
    }
   ],
   "source": [
    "class Product:\n",
    "    def __init__(self, name, price, stock):\n",
    "        self.name = name\n",
    "        self.price = price\n",
    "        self.stock = stock\n",
    "\n",
    "    def __repr__(self):\n",
    "        return f\"Product(name={self.name!r}, price={self.price!r}, stock={self.stock!r})\"\n",
    "\n",
    "    def __eq__(self, other):\n",
    "        if not isinstance(other, Product):\n",
    "            return NotImplemented\n",
    "        return (self.name, self.price, self.stock) == (other.name, other.price, other.stock)\n",
    "\n",
    "    def __hash__(self):\n",
    "        return hash((self.name, self.price, self.stock))\n",
    "\n",
    "# Create objects\n",
    "p1 = Product(\"Laptop\", 999.99, 10)\n",
    "p2 = Product(\"Laptop\", 999.99, 10)\n",
    "\n",
    "# Explicitly call methods\n",
    "print(p1.__repr__())           # Call __repr__\n",
    "print(p1.__eq__(p2))           # Call __eq__\n",
    "print(p1.__hash__(), p2.__hash__())  # Call __hash__\n",
    "\n",
    "# Normal usage (still calls the same methods under the hood)\n",
    "print(p1 == p2)                # Calls __eq__\n",
    "print(hash(p1) == hash(p2))    # Calls __hash__\n",
    "my_set = {p1, p2}\n",
    "print(len(my_set))             # 1, because __eq__ and __hash__ match\n"
   ]
  },
  {
   "cell_type": "code",
   "execution_count": null,
   "metadata": {},
   "outputs": [
    {
     "name": "stdout",
     "output_type": "stream",
     "text": [
      "Product(name='Laptop', price=999.99, stock=10)\n",
      "Product(name='Laptop', price=999.99, stock=10)\n"
     ]
    }
   ],
   "source": [
    "\n",
    "from dataclasses import dataclass\n",
    "\n",
    "@dataclass(frozen=True)\n",
    "class Product:\n",
    "    name: str\n",
    "    price: float\n",
    "    stock: int\n",
    "\n",
    "p1 = Product(\"Laptop\", 999.99, 10)\n",
    "p2 = Product(\"Laptop\", 999.99, 10)\n",
    "\n",
    "print(p1.__repr__()) # OR print(repr(p1)) \n",
    "\n",
    "# print(p1 == p2)        \n",
    "# print(hash(p1) == hash(p2))  \n",
    "\n",
    "# my_set = {p1, p2}\n",
    "# print(len(my_set))      \n"
   ]
  },
  {
   "cell_type": "markdown",
   "metadata": {},
   "source": [
    "In a @dataclass, setting frozen=True makes the object immutable — meaning you cannot change its attributes after it's created."
   ]
  },
  {
   "cell_type": "code",
   "execution_count": 54,
   "metadata": {},
   "outputs": [
    {
     "ename": "FrozenInstanceError",
     "evalue": "cannot assign to field 'name'",
     "output_type": "error",
     "traceback": [
      "\u001b[31m---------------------------------------------------------------------------\u001b[39m",
      "\u001b[31mFrozenInstanceError\u001b[39m                       Traceback (most recent call last)",
      "\u001b[36mCell\u001b[39m\u001b[36m \u001b[39m\u001b[32mIn[54]\u001b[39m\u001b[32m, line 9\u001b[39m\n\u001b[32m      6\u001b[39m     price: \u001b[38;5;28mfloat\u001b[39m\n\u001b[32m      8\u001b[39m p = Product(\u001b[33m\"\u001b[39m\u001b[33mLaptop\u001b[39m\u001b[33m\"\u001b[39m, \u001b[32m999.99\u001b[39m)\n\u001b[32m----> \u001b[39m\u001b[32m9\u001b[39m \u001b[43mp\u001b[49m\u001b[43m.\u001b[49m\u001b[43mname\u001b[49m = \u001b[33m\"\u001b[39m\u001b[33mPhone\u001b[39m\u001b[33m\"\u001b[39m  \u001b[38;5;66;03m# ❌ This will raise an error\u001b[39;00m\n\u001b[32m     10\u001b[39m \u001b[38;5;28mprint\u001b[39m(p)\n",
      "\u001b[36mFile \u001b[39m\u001b[32m<string>:16\u001b[39m, in \u001b[36m__setattr__\u001b[39m\u001b[34m(self, name, value)\u001b[39m\n",
      "\u001b[31mFrozenInstanceError\u001b[39m: cannot assign to field 'name'"
     ]
    }
   ],
   "source": [
    "from dataclasses import dataclass\n",
    "\n",
    "@dataclass(frozen=True)\n",
    "class Product:\n",
    "    name: str\n",
    "    price: float\n",
    "\n",
    "p = Product(\"Laptop\", 999.99)\n",
    "p.name = \"Phone\"  # ❌ This will raise an error\n",
    "print(p)\n"
   ]
  },
  {
   "cell_type": "code",
   "execution_count": 55,
   "metadata": {},
   "outputs": [
    {
     "name": "stdout",
     "output_type": "stream",
     "text": [
      "Product(name='Phone', price=999.99)\n"
     ]
    }
   ],
   "source": [
    "from dataclasses import dataclass\n",
    "\n",
    "@dataclass()\n",
    "class Product:\n",
    "    name: str\n",
    "    price: float\n",
    "\n",
    "p = Product(\"Laptop\", 999.99)\n",
    "p.name = \"Phone\"  # ❌ This will raise an error\n",
    "print(p)\n"
   ]
  },
  {
   "cell_type": "markdown",
   "metadata": {},
   "source": [
    "In a dataclass, __post_init__ is a special method that runs right after the automatically generated __init__."
   ]
  },
  {
   "cell_type": "code",
   "execution_count": 56,
   "metadata": {},
   "outputs": [
    {
     "name": "stdout",
     "output_type": "stream",
     "text": [
      "900.0\n"
     ]
    }
   ],
   "source": [
    "from dataclasses import dataclass\n",
    "\n",
    "@dataclass\n",
    "class Product:\n",
    "    name: str\n",
    "    price: float\n",
    "    discount_price: float = 0.0\n",
    "\n",
    "    def __post_init__(self):\n",
    "        # Calculate discount price after initialization\n",
    "        self.discount_price = self.price * 0.9\n",
    "p = Product(\"Laptop\", 1000)\n",
    "print(p.discount_price)  # Output: 900.0\n"
   ]
  },
  {
   "cell_type": "code",
   "execution_count": 57,
   "metadata": {},
   "outputs": [
    {
     "name": "stdout",
     "output_type": "stream",
     "text": [
      "{'name': 'Test', 'VERSION': '1.0.0'}\n"
     ]
    }
   ],
   "source": [
    "from dataclasses import dataclass\n",
    "from typing import Final, ClassVar\n",
    "\n",
    "@dataclass\n",
    "class Example:\n",
    "    name: str\n",
    "    VERSION: Final[str] = \"1.0.0\"\n",
    "    CATEGORY: ClassVar[str] = \"Generic\"\n",
    "\n",
    "e = Example(\"Test\")\n",
    "\n",
    "print(e.__dict__)  # Shows only instance-level attributes\n"
   ]
  },
  {
   "cell_type": "code",
   "execution_count": null,
   "metadata": {},
   "outputs": [],
   "source": []
  }
 ],
 "metadata": {
  "kernelspec": {
   "display_name": "Python 3",
   "language": "python",
   "name": "python3"
  },
  "language_info": {
   "codemirror_mode": {
    "name": "ipython",
    "version": 3
   },
   "file_extension": ".py",
   "mimetype": "text/x-python",
   "name": "python",
   "nbconvert_exporter": "python",
   "pygments_lexer": "ipython3",
   "version": "3.13.3"
  }
 },
 "nbformat": 4,
 "nbformat_minor": 2
}
