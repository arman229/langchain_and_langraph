{
 "cells": [
  {
   "cell_type": "code",
   "execution_count": 1,
   "metadata": {},
   "outputs": [
    {
     "name": "stdout",
     "output_type": "stream",
     "text": [
      "Error: Input cannot be empty\n"
     ]
    }
   ],
   "source": [
    "def reversed_order()->None:\n",
    "    try:\n",
    "        user_input:str = input(\"Please Enter a number or text to reverse in order\").strip()\n",
    "        if not user_input:\n",
    "            raise ValueError(\"Input cannot be empty\")\n",
    "        reversed_order = user_input[::-1]\n",
    "        print(f\"Reversed order:{reversed_order}\")\n",
    "    except ValueError as ve:\n",
    "        print(f\"Error: {ve}\")\n",
    "    except KeyboardInterrupt:\n",
    "        print(\"\\nProgram interrupted by user. Exiting gracefully...\") ## this error occurs if user enter cmd +c  if our progame is not completed\n",
    "    except Exception as e:\n",
    "        print(f\"General Error: {e}\")\n",
    "        \n",
    "reversed_order()        "
   ]
  }
 ],
 "metadata": {
  "kernelspec": {
   "display_name": "Python 3",
   "language": "python",
   "name": "python3"
  },
  "language_info": {
   "codemirror_mode": {
    "name": "ipython",
    "version": 3
   },
   "file_extension": ".py",
   "mimetype": "text/x-python",
   "name": "python",
   "nbconvert_exporter": "python",
   "pygments_lexer": "ipython3",
   "version": "3.12.3"
  }
 },
 "nbformat": 4,
 "nbformat_minor": 2
}
