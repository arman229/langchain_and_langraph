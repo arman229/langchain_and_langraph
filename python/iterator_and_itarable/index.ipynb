{
 "cells": [
  {
   "cell_type": "markdown",
   "metadata": {},
   "source": [
    "- **Iterable**: An object that can be \"iterated\" over (looped through) is called an **iterable**. This means you can get one item at a time from the object. Examples of iterables are lists, tuples, and strings. You can loop over these objects using a `for` loop.\n",
    "\n",
    "  - Example:\n",
    "    ```python\n",
    "    my_list = [1, 2, 3]\n",
    "    # my_list is an iterable\n",
    "    for item in my_list:\n",
    "        print(item)\n",
    "    ```\n",
    "\n",
    "- **Iterator**: An **iterator** is an object that keeps track of where we are in the iterable and gives us one item at a time when we ask for it. It has two main functions:\n",
    "  1. `__iter__()`: This makes an object iterable.\n",
    "  2. `__next__()`: This gives the next item from the iterable.\n",
    "\n",
    "  - Example:\n",
    "    ```python\n",
    "    my_list = [1, 2, 3]\n",
    "    my_iter = iter(my_list)  # Create an iterator from the list\n",
    "    \n",
    "    print(next(my_iter))  # Output: 1\n",
    "    print(next(my_iter))  # Output: 2\n",
    "    print(next(my_iter))  # Output: 3\n",
    "    ```\n",
    "\n",
    "So, an **iterable** is any object that you can loop through, and an **iterator** is the tool that actually gives you each item one by one when you ask for it.\n",
    "\n",
    " "
   ]
  },
  {
   "cell_type": "code",
   "execution_count": 1,
   "metadata": {},
   "outputs": [],
   "source": [
    "my_list= [1, 2, 3]\n",
    "iter_list = iter(my_list)"
   ]
  },
  {
   "cell_type": "code",
   "execution_count": 3,
   "metadata": {},
   "outputs": [
    {
     "name": "stdout",
     "output_type": "stream",
     "text": [
      "1\n"
     ]
    }
   ],
   "source": [
    "print(next(iter_list))"
   ]
  },
  {
   "cell_type": "code",
   "execution_count": 4,
   "metadata": {},
   "outputs": [
    {
     "name": "stdout",
     "output_type": "stream",
     "text": [
      "2\n"
     ]
    }
   ],
   "source": [
    "print(next(iter_list))"
   ]
  },
  {
   "cell_type": "code",
   "execution_count": 8,
   "metadata": {},
   "outputs": [
    {
     "name": "stdout",
     "output_type": "stream",
     "text": [
      "2229086740160\n",
      "2229086740160\n"
     ]
    }
   ],
   "source": [
    "my_list = [1,2,3]\n",
    "print(id(my_list))\n",
    "\n",
    "\n",
    "\n",
    "my_list[0]=4\n",
    "print(id(my_list))"
   ]
  }
 ],
 "metadata": {
  "kernelspec": {
   "display_name": "Python 3",
   "language": "python",
   "name": "python3"
  },
  "language_info": {
   "codemirror_mode": {
    "name": "ipython",
    "version": 3
   },
   "file_extension": ".py",
   "mimetype": "text/x-python",
   "name": "python",
   "nbconvert_exporter": "python",
   "pygments_lexer": "ipython3",
   "version": "3.12.3"
  }
 },
 "nbformat": 4,
 "nbformat_minor": 2
}
