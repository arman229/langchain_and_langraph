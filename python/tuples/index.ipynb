{
 "cells": [
  {
   "cell_type": "code",
   "execution_count": 3,
   "metadata": {},
   "outputs": [
    {
     "name": "stdout",
     "output_type": "stream",
     "text": [
      "(2,)\n",
      "<class 'tuple'>\n",
      "2\n",
      "<class 'int'>\n"
     ]
    }
   ],
   "source": [
    "# Tuple is a collection which is ordered and unchangeable. Allows duplicate members\n",
    "# ordered means its members are not shuffled \n",
    "# Tuple are used to store multiple items are single variables \n",
    "first_tuple =(2,)\n",
    "print(first_tuple)\n",
    "print(type(first_tuple))\n",
    "#Note: If we want to create a tuple which has only one member than we add the comma after the member otherwise it will becomes as the member we define like in our case we define a number so its type will be number not the tuple\n",
    "wrong_tuple =(2)\n",
    "print(wrong_tuple)\n",
    "print(type(wrong_tuple))"
   ]
  },
  {
   "cell_type": "code",
   "execution_count": 1,
   "metadata": {},
   "outputs": [
    {
     "name": "stdout",
     "output_type": "stream",
     "text": [
      "(1, 3, 5)\n"
     ]
    }
   ],
   "source": [
    "alph_tuple = (1,2,3,4,5,6,7,8,9,10) \n",
    "x =alph_tuple[0:6:2] \n",
    "print(x)"
   ]
  },
  {
   "cell_type": "code",
   "execution_count": 5,
   "metadata": {},
   "outputs": [
    {
     "name": "stdout",
     "output_type": "stream",
     "text": [
      "(7, 6, 5, 4)\n"
     ]
    }
   ],
   "source": [
    "alph_tuple = (0,1,2,3,4,5,6,7,8,9,10) \n",
    "x =alph_tuple[7:3:-1]  \n",
    "print(x)"
   ]
  },
  {
   "cell_type": "code",
   "execution_count": 13,
   "metadata": {},
   "outputs": [
    {
     "name": "stdout",
     "output_type": "stream",
     "text": [
      "(4, 5, 6, 7)\n"
     ]
    }
   ],
   "source": [
    "alph_tuple = (0,1,2,3, 4  ,5, 6,7,8,9,10) \n",
    "x =alph_tuple[-7:-3:1]  \n",
    "print(x)"
   ]
  },
  {
   "cell_type": "code",
   "execution_count": 4,
   "metadata": {},
   "outputs": [
    {
     "name": "stdout",
     "output_type": "stream",
     "text": [
      "(3, 4, 5, 6)\n"
     ]
    }
   ],
   "source": [
    "alph_tuple = (0,1,2,3,4,5,6,7,8,9,10) \n",
    "x =alph_tuple[3:7]  \n",
    "print(x)"
   ]
  },
  {
   "cell_type": "code",
   "execution_count": 10,
   "metadata": {},
   "outputs": [
    {
     "name": "stdout",
     "output_type": "stream",
     "text": [
      "[4, 3]\n"
     ]
    }
   ],
   "source": [
    "alph_tuple = [0,  1,2,3    ,4,5,6,7,8,9,10] \n",
    "x =alph_tuple[-7:-9:-1] \n",
    "print(x)"
   ]
  },
  {
   "cell_type": "code",
   "execution_count": 15,
   "metadata": {},
   "outputs": [
    {
     "name": "stdout",
     "output_type": "stream",
     "text": [
      "[7, 6, 5, 4]\n"
     ]
    }
   ],
   "source": [
    "alph_tuple = [0,1,2,3  ,4,5,6,  7,8,9,10] \n",
    "x =alph_tuple[7:3:-1] \n",
    "print(x)"
   ]
  },
  {
   "cell_type": "code",
   "execution_count": 14,
   "metadata": {},
   "outputs": [
    {
     "name": "stdout",
     "output_type": "stream",
     "text": [
      "(9, 8, 7, 6)\n"
     ]
    }
   ],
   "source": [
    "\n",
    "\n",
    "alph_tuple = (0, 1, 2, 3, 4, 5, 6, 7, 8, 9)\n",
    "result = alph_tuple[:5:-1]\n",
    " \n",
    "print(result)"
   ]
  },
  {
   "cell_type": "code",
   "execution_count": 17,
   "metadata": {},
   "outputs": [
    {
     "name": "stdout",
     "output_type": "stream",
     "text": [
      "('a', 'b', 'c')\n"
     ]
    }
   ],
   "source": [
    "# Update tuple: Once a tuple is created we can't change its values. Tuples are immutables or unchangeable . \n",
    "# We can convert tuple into list change the list and convert the list back into a tuple\n",
    "\n",
    "tuple_a = ('a','b')\n",
    "\n",
    "list_a = list(tuple_a)\n",
    "list_a.append('c')\n",
    "tuple_a = tuple(list_a)\n",
    "print(tuple_a)"
   ]
  },
  {
   "cell_type": "code",
   "execution_count": 18,
   "metadata": {},
   "outputs": [
    {
     "name": "stdout",
     "output_type": "stream",
     "text": [
      "old fruit_tuple id:2808259476224:('apple', 'banana', 'cherry')\n",
      "old fruit_tuple id:2808260412656:('apple', 'banana', 'cherry', 'orange')\n"
     ]
    }
   ],
   "source": [
    "fruit_tuple = (\"apple\",\"banana\",\"cherry\")\n",
    "print(f\"old fruit_tuple id:{id(fruit_tuple)}:{fruit_tuple}\")\n",
    "new_fruit_tuple = (\"orange\",)\n",
    "fruit_tuple +=new_fruit_tuple\n",
    "\n",
    "print(f\"old fruit_tuple id:{id(fruit_tuple)}:{fruit_tuple}\")\n"
   ]
  },
  {
   "cell_type": "code",
   "execution_count": 21,
   "metadata": {},
   "outputs": [
    {
     "ename": "NameError",
     "evalue": "name 'fruit_tuple' is not defined",
     "output_type": "error",
     "traceback": [
      "\u001b[1;31m---------------------------------------------------------------------------\u001b[0m",
      "\u001b[1;31mNameError\u001b[0m                                 Traceback (most recent call last)",
      "Cell \u001b[1;32mIn[21], line 3\u001b[0m\n\u001b[0;32m      1\u001b[0m fruit_tuple \u001b[38;5;241m=\u001b[39m (\u001b[38;5;124m\"\u001b[39m\u001b[38;5;124mapple\u001b[39m\u001b[38;5;124m\"\u001b[39m,\u001b[38;5;124m\"\u001b[39m\u001b[38;5;124mbanana\u001b[39m\u001b[38;5;124m\"\u001b[39m,\u001b[38;5;124m\"\u001b[39m\u001b[38;5;124mcherry\u001b[39m\u001b[38;5;124m\"\u001b[39m)\n\u001b[0;32m      2\u001b[0m \u001b[38;5;28;01mdel\u001b[39;00m fruit_tuple\n\u001b[1;32m----> 3\u001b[0m \u001b[38;5;28mprint\u001b[39m(\u001b[43mfruit_tuple\u001b[49m) \n",
      "\u001b[1;31mNameError\u001b[0m: name 'fruit_tuple' is not defined"
     ]
    }
   ],
   "source": [
    "# We can delete the tuple completely\n",
    "fruit_tuple = (\"apple\",\"banana\",\"cherry\")\n",
    "del fruit_tuple\n",
    "print(fruit_tuple) \n",
    " "
   ]
  },
  {
   "cell_type": "code",
   "execution_count": 22,
   "metadata": {},
   "outputs": [
    {
     "name": "stdout",
     "output_type": "stream",
     "text": [
      "apple\n",
      "banana\n",
      "cherry\n"
     ]
    }
   ],
   "source": [
    "# Unpacking a Tuple\"\n",
    "fruit_tuple = (\"apple\",\"banana\",\"cherry\")\n",
    "\n",
    "(a, b, c) = fruit_tuple\n",
    "\n",
    "print(a)\n",
    "print(b)\n",
    "print(c)"
   ]
  },
  {
   "cell_type": "code",
   "execution_count": 24,
   "metadata": {},
   "outputs": [
    {
     "name": "stdout",
     "output_type": "stream",
     "text": [
      "apple\n",
      "['banana', 'cherry', 'orange'] type of b <class 'list'>\n",
      "mango\n"
     ]
    }
   ],
   "source": [
    "# Unpacking a Tuple\"\n",
    "fruit_tuple = (\"apple\",\"banana\",\"cherry\",\"orange\",\"mango\")\n",
    "\n",
    "(a, *b, c) = fruit_tuple\n",
    "\n",
    "print(a)\n",
    "print(f\"{b} type of b {type(b)}\")\n",
    "print(c)"
   ]
  },
  {
   "cell_type": "code",
   "execution_count": 25,
   "metadata": {},
   "outputs": [
    {
     "name": "stdout",
     "output_type": "stream",
     "text": [
      "old type of b 2808266391296\n",
      "apple\n",
      "['banana', 'cherry', 'orange', 'grapes'] type of b <class 'list'> and its memory location 2808266391296\n",
      "mango\n"
     ]
    }
   ],
   "source": [
    "# Unpacking a Tuple\"\n",
    "fruit_tuple = (\"apple\",\"banana\",\"cherry\",\"orange\",\"mango\")\n",
    "\n",
    "(a, *b, c) = fruit_tuple\n",
    "print(f\"old type of b {id(b)}\")\n",
    "b.append(\"grapes\")\n",
    "\n",
    "print(a)\n",
    "print(f\"{b} type of b {type(b)} and its memory location {id(b)}\")\n",
    "print(c)"
   ]
  },
  {
   "cell_type": "code",
   "execution_count": 27,
   "metadata": {},
   "outputs": [
    {
     "name": "stdout",
     "output_type": "stream",
     "text": [
      "first fruit_tuple ['apple', ['banana', 'cherry', 'orange'], 'mango'] and its memory location 2808266391296 \n",
      "old type of b 2808266003072\n",
      "apple\n",
      "[['banana', 'cherry', 'orange'], 'grapes'] type of b <class 'list'> and its memory location 2808266003072\n",
      "mango\n",
      "second fruit_tuple ['apple', ['banana', 'cherry', 'orange'], 'mango'] and its memory location 2808266391296 \n"
     ]
    }
   ],
   "source": [
    " "
   ]
  },
  {
   "cell_type": "code",
   "execution_count": 32,
   "metadata": {},
   "outputs": [
    {
     "name": "stdout",
     "output_type": "stream",
     "text": [
      "-8\n",
      "-7\n",
      "-6\n",
      "-5\n",
      "-4\n",
      "-3\n",
      "-2\n",
      "-1\n",
      "0\n",
      "1\n",
      "2\n",
      "3\n",
      "4\n",
      "5\n",
      "6\n",
      "7\n",
      "8\n",
      "9\n"
     ]
    }
   ],
   "source": [
    "for i in range(-8,10,):\n",
    "    print(i)"
   ]
  },
  {
   "cell_type": "code",
   "execution_count": 35,
   "metadata": {},
   "outputs": [
    {
     "name": "stdout",
     "output_type": "stream",
     "text": [
      "2\n",
      "1\n"
     ]
    },
    {
     "ename": "ValueError",
     "evalue": "tuple.index(x): x not in tuple",
     "output_type": "error",
     "traceback": [
      "\u001b[1;31m---------------------------------------------------------------------------\u001b[0m",
      "\u001b[1;31mValueError\u001b[0m                                Traceback (most recent call last)",
      "Cell \u001b[1;32mIn[35], line 11\u001b[0m\n\u001b[0;32m      9\u001b[0m tuple_a \u001b[38;5;241m=\u001b[39m (\u001b[38;5;124m'\u001b[39m\u001b[38;5;124mapple\u001b[39m\u001b[38;5;124m'\u001b[39m, \u001b[38;5;124m'\u001b[39m\u001b[38;5;124mbanana\u001b[39m\u001b[38;5;124m'\u001b[39m, \u001b[38;5;124m'\u001b[39m\u001b[38;5;124mcherry\u001b[39m\u001b[38;5;124m'\u001b[39m, \u001b[38;5;124m'\u001b[39m\u001b[38;5;124mbanana\u001b[39m\u001b[38;5;124m'\u001b[39m, \u001b[38;5;124m'\u001b[39m\u001b[38;5;124mapple\u001b[39m\u001b[38;5;124m'\u001b[39m)\n\u001b[0;32m     10\u001b[0m \u001b[38;5;28mprint\u001b[39m(tuple_a\u001b[38;5;241m.\u001b[39mindex(\u001b[38;5;124m'\u001b[39m\u001b[38;5;124mbanana\u001b[39m\u001b[38;5;124m'\u001b[39m)) \u001b[38;5;66;03m# The index() method raises an exception if the value is not found.\u001b[39;00m\n\u001b[1;32m---> 11\u001b[0m \u001b[38;5;28mprint\u001b[39m(\u001b[43mtuple_a\u001b[49m\u001b[38;5;241;43m.\u001b[39;49m\u001b[43mindex\u001b[49m\u001b[43m(\u001b[49m\u001b[38;5;124;43m'\u001b[39;49m\u001b[38;5;124;43mbananaa\u001b[39;49m\u001b[38;5;124;43m'\u001b[39;49m\u001b[43m)\u001b[49m)\n",
      "\u001b[1;31mValueError\u001b[0m: tuple.index(x): x not in tuple"
     ]
    }
   ],
   "source": [
    "# Tuple Methods\n",
    "# count(): Returns the number of times a specified value occurs in a tuple.\n",
    "\n",
    "tuple_a = ('apple', 'banana', 'cherry', 'banana', 'apple')\n",
    "print(tuple_a.count('banana'))\n",
    "\n",
    "# index(): Returns the index of the first occurrence of a specified value in a tuple. it no\n",
    "\n",
    "tuple_a = ('apple', 'banana', 'cherry', 'banana', 'apple')\n",
    "print(tuple_a.index('banana')) # The index() method raises an exception if the value is not found.\n",
    "print(tuple_a.index('bananaa'))"
   ]
  },
  {
   "cell_type": "code",
   "execution_count": null,
   "metadata": {},
   "outputs": [],
   "source": []
  }
 ],
 "metadata": {
  "kernelspec": {
   "display_name": "Python 3",
   "language": "python",
   "name": "python3"
  },
  "language_info": {
   "codemirror_mode": {
    "name": "ipython",
    "version": 3
   },
   "file_extension": ".py",
   "mimetype": "text/x-python",
   "name": "python",
   "nbconvert_exporter": "python",
   "pygments_lexer": "ipython3",
   "version": "3.12.3"
  }
 },
 "nbformat": 4,
 "nbformat_minor": 2
}
