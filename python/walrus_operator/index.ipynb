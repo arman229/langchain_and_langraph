{
 "cells": [
  {
   "cell_type": "code",
   "execution_count": 1,
   "metadata": {},
   "outputs": [
    {
     "name": "stdout",
     "output_type": "stream",
     "text": [
      "2.0\n",
      "2\n"
     ]
    }
   ],
   "source": [
    "print(4/2)\n",
    "print(4//2)"
   ]
  },
  {
   "cell_type": "markdown",
   "metadata": {},
   "source": [
    "# Walrus Operator :\n",
    "Walrus operator is used to assign a value to a variable as part of another operations."
   ]
  },
  {
   "cell_type": "markdown",
   "metadata": {},
   "source": [
    "# walrus operator :\n",
    "The walrus operator (:=) in Python is used primarily for readability and convenience, especially in situations where you want to both assign a value to a variable and use that value in an expression at the same time. "
   ]
  },
  {
   "cell_type": "code",
   "execution_count": null,
   "metadata": {},
   "outputs": [],
   "source": [
    "square = [sqrt for x in range(10) if (sqrt:=x*x)<50]\n",
    "display(square)"
   ]
  },
  {
   "cell_type": "code",
   "execution_count": 19,
   "metadata": {},
   "outputs": [
    {
     "name": "stdout",
     "output_type": "stream",
     "text": [
      "number list has odd number items and quantity is 7\n"
     ]
    }
   ],
   "source": [
    "# Example Without Walrus Operator\n",
    "number_list = [1, 2, 3, 4, 5, 6,7]\n",
    "n = len(number_list)\n",
    "if n % 2== 0:\n",
    "    print(f\"number list has  even numbers items and quantity is {n} \")   \n",
    "else:\n",
    "    print(f\"number list has odd numbers items and quantity is {n}\")"
   ]
  },
  {
   "cell_type": "code",
   "execution_count": 20,
   "metadata": {},
   "outputs": [
    {
     "name": "stdout",
     "output_type": "stream",
     "text": [
      "number list has even numbers items and quantity is 6\n"
     ]
    }
   ],
   "source": [
    "# Example With Walrus Operator\n",
    "number_list = [1, 2, 3, 4, 5, 6]\n",
    "if (n:=len(number_list))%2==0:\n",
    "    print(f\"number list has even numbers items and quantity is {n}\")   \n",
    "else:\n",
    "    print(f\"number list has odd numbers items and quantity is {n}\")"
   ]
  },
  {
   "cell_type": "code",
   "execution_count": 11,
   "metadata": {},
   "outputs": [
    {
     "name": "stdout",
     "output_type": "stream",
     "text": [
      "0\n",
      "1\n",
      "2\n",
      "3\n",
      "4\n",
      "5\n",
      "6\n",
      "7\n",
      "8\n",
      "9\n",
      "10\n"
     ]
    }
   ],
   "source": [
    " "
   ]
  }
 ],
 "metadata": {
  "kernelspec": {
   "display_name": "Python 3",
   "language": "python",
   "name": "python3"
  },
  "language_info": {
   "codemirror_mode": {
    "name": "ipython",
    "version": 3
   },
   "file_extension": ".py",
   "mimetype": "text/x-python",
   "name": "python",
   "nbconvert_exporter": "python",
   "pygments_lexer": "ipython3",
   "version": "3.12.3"
  }
 },
 "nbformat": 4,
 "nbformat_minor": 2
}
