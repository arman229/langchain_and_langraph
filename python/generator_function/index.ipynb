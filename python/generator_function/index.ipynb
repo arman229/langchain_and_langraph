{
 "cells": [
  {
   "cell_type": "markdown",
   "metadata": {},
   "source": [
    "### **What is a Generator Function in Python?**\n",
    "\n",
    "A **generator function** is a special type of function in Python that **produces a sequence of values lazily**, one at a time, instead of computing them all at once and returning them as a collection.  \n",
    "\n",
    "Generator functions use the `yield` keyword to return values incrementally and maintain their state between calls.  \n",
    "\n",
    "---\n",
    "\n",
    "### **Key Characteristics of Generator Functions:**\n",
    "1. **`yield` Instead of `return`:**  \n",
    "   - A generator function contains one or more `yield` statements.  \n",
    "   - Unlike `return`, `yield` pauses the function and allows it to resume from where it left off.\n",
    "\n",
    "2. **State Preservation:**  \n",
    "   - Between calls, the function retains its local variables and execution state.\n",
    "\n",
    "3. **Lazy Evaluation:**  \n",
    "   - Values are generated only when requested, making generators memory-efficient.\n",
    "\n",
    "4. **Produces a Generator Object:**  \n",
    "   - When you call a generator function, it doesn’t execute immediately but returns a **generator object**.\n",
    "\n",
    "---\n",
    " \n",
    "### **How It Works:**\n",
    "\n",
    "1. The function is paused when `yield` is encountered.\n",
    "2. The next value is produced when you call `next()` on the generator.\n",
    "3. The function resumes from where it left off, retaining its state.\n",
    "\n",
    "---\n",
    "\n",
    "### **Practical Example:**\n",
    "\n",
    "#### **1. Infinite Sequence (Lazy Evaluation):**\n",
    "```python\n",
    "def infinite_counter():\n",
    "    num = 0\n",
    "    while True:\n",
    "        yield num\n",
    "        num += 1\n",
    "\n",
    "gen = infinite_counter()\n",
    "\n",
    "print(next(gen))  # Output: 0\n",
    "print(next(gen))  # Output: 1\n",
    "```\n",
    " \n",
    "\n",
    "### **Advantages of Generator Functions:**\n",
    "\n",
    "1. **Memory Efficiency:**  \n",
    "   - Suitable for processing large datasets since they don’t load the entire collection into memory.\n",
    "\n",
    "2. **Faster Execution for Iteration:**  \n",
    "   - Generators produce values on demand, which can be faster for certain tasks.\n",
    "\n",
    "3. **Easy Implementation of Iterators:**  \n",
    "   - Writing a generator is often simpler than implementing a custom iterator class.\n",
    "\n",
    "---\n",
    "\n",
    "### **Generator vs Regular Function:**\n",
    "\n",
    "| **Feature**               | **Regular Function**                | **Generator Function**               |\n",
    "|---------------------------|--------------------------------------|---------------------------------------|\n",
    "| **Returns**               | Single value or collection.         | Generator object (produces values).  |\n",
    "| **State Retention**       | No, starts fresh each time.         | Yes, resumes where it left off.      |\n",
    "| **Memory Efficiency**     | Consumes memory for full data.       | Lazily generates values on demand.   |\n",
    "| **Keyword Used**          | `return`                            | `yield`                              |\n",
    "\n",
    "---\n",
    " "
   ]
  },
  {
   "cell_type": "code",
   "execution_count": 10,
   "metadata": {},
   "outputs": [
    {
     "name": "stdout",
     "output_type": "stream",
     "text": [
      "0\n"
     ]
    }
   ],
   "source": [
    "def infinite_counter():\n",
    "    num = 0 \n",
    "    while num <4:\n",
    "        yield num\n",
    "        num += 1\n",
    "\n",
    "gen = infinite_counter()\n",
    "\n",
    " \n",
    "try:\n",
    "    print(next(gen))\n",
    "except Exception as e:\n",
    "    print(e) # Output: StopIteration    \n"
   ]
  },
  {
   "cell_type": "code",
   "execution_count": 17,
   "metadata": {},
   "outputs": [
    {
     "name": "stdout",
     "output_type": "stream",
     "text": [
      "stop iteration \n"
     ]
    }
   ],
   "source": [
    "try:\n",
    "    print(next(gen))\n",
    "except StopIteration as e:\n",
    "    print(f\"stop iteration {e}\") # Output: StopIteration  "
   ]
  },
  {
   "cell_type": "code",
   "execution_count": null,
   "metadata": {},
   "outputs": [],
   "source": [
    " "
   ]
  },
  {
   "cell_type": "code",
   "execution_count": null,
   "metadata": {},
   "outputs": [],
   "source": []
  }
 ],
 "metadata": {
  "kernelspec": {
   "display_name": "Python 3",
   "language": "python",
   "name": "python3"
  },
  "language_info": {
   "codemirror_mode": {
    "name": "ipython",
    "version": 3
   },
   "file_extension": ".py",
   "mimetype": "text/x-python",
   "name": "python",
   "nbconvert_exporter": "python",
   "pygments_lexer": "ipython3",
   "version": "3.12.3"
  }
 },
 "nbformat": 4,
 "nbformat_minor": 2
}
