{
 "cells": [
  {
   "cell_type": "code",
   "execution_count": null,
   "metadata": {},
   "outputs": [],
   "source": [
    "# Decorater is a function that takes another function as an argument and extend or modified its behaviour\n",
    "# without changing the code of a function"
   ]
  },
  {
   "cell_type": "code",
   "execution_count": 8,
   "metadata": {},
   "outputs": [
    {
     "name": "stdout",
     "output_type": "stream",
     "text": [
      "True\n",
      "About us page.\n",
      "Authentication failed. Please log in.\n",
      "Welcome to the home page!\n",
      "Authentication failed. Please log in.\n"
     ]
    }
   ],
   "source": [
    "# Without using the decorator function \n",
    "def authenticate(username:str, password:str)->str:\n",
    "    # This is a dummy authentication function\n",
    "    return username == \"admin\" and password == \"admin\"\n",
    "def home(username:str, password:str)->str:\n",
    "    if authenticate(username, password):\n",
    "        return \"Welcome to the home page!\"\n",
    "    else:\n",
    "        return \"Authentication failed. Please log in.\"\n",
    "\n",
    "def about(username:str, password:str)->str:\n",
    "    if authenticate(username, password):\n",
    "        return \"About us page.\"\n",
    "    else:\n",
    "        return \"Authentication failed. Please log in.\"\n",
    "\n",
    "def contact(username:str, password:str)->str:\n",
    "    if authenticate(username, password):\n",
    "        return \"Contact us page.\"\n",
    "    else:\n",
    "        return \"Authentication failed. Please log in.\"\n",
    "print(authenticate('admin', 'admin'))\n",
    "print(about('admin','admin'))\n",
    "print(about('Aadmin','admin'))\n",
    "print(home('admin','admin'))\n",
    "print(home('Aadmin','admin'))"
   ]
  },
  {
   "cell_type": "code",
   "execution_count": 23,
   "metadata": {},
   "outputs": [],
   "source": [
    "def login_required(func):\n",
    "    def wrapper(*args, **kwargs):\n",
    "        if kwargs.get('username')=='admin' and kwargs.get('password')=='1234':\n",
    "            # return func(*args, **kwargs)\n",
    "            return func(**kwargs)\n",
    "        else:\n",
    "            return \"Please provide the username and password correctly\"\n",
    "    return wrapper    \n",
    "\n",
    "@login_required\n",
    "def home_page(username:str, password:str)->str:\n",
    "    return f\"Welcome to {username} Home page\"\n",
    "\n",
    "@login_required\n",
    "def about_page(username:str, password:str)->str:\n",
    "    return f\"About page\"\n",
    "\n",
    "@login_required\n",
    "def order_page(username:str, password:str)->str:\n",
    "    return f\"order page\""
   ]
  },
  {
   "cell_type": "code",
   "execution_count": 24,
   "metadata": {},
   "outputs": [
    {
     "name": "stdout",
     "output_type": "stream",
     "text": [
      "Welcome to admin Home page\n"
     ]
    }
   ],
   "source": [
    "home_pages = home_page(username='admin', password='1234')\n",
    "print(home_pages)"
   ]
  },
  {
   "cell_type": "code",
   "execution_count": 25,
   "metadata": {},
   "outputs": [
    {
     "name": "stdout",
     "output_type": "stream",
     "text": [
      "Please provide the username and password correctly\n"
     ]
    }
   ],
   "source": [
    "home_pages = home_page(username='admin', password='123d4')\n",
    "print(home_pages)"
   ]
  },
  {
   "cell_type": "code",
   "execution_count": 27,
   "metadata": {},
   "outputs": [
    {
     "name": "stdout",
     "output_type": "stream",
     "text": [
      "order page\n"
     ]
    }
   ],
   "source": [
    "order_pages = order_page(username='admin', password='1234')\n",
    "print(order_pages)"
   ]
  },
  {
   "cell_type": "markdown",
   "metadata": {},
   "source": [
    "In Python, `@wraps` is a decorator provided by the `functools` module, and it is used in the context of writing custom decorators. It helps preserve the original metadata of the decorated function.\n",
    "\n",
    "### **Why Do We Need `@wraps`?**\n",
    "\n",
    "When you create a decorator, the function it wraps (the one being decorated) loses its original metadata, such as its `__name__`, `__doc__`, and other attributes. By using `@wraps`, you ensure that these attributes are preserved.\n",
    "\n",
    "---\n",
    "\n",
    "### **Example Without `@wraps`**\n",
    "```python\n",
    "def my_decorator(func):\n",
    "    def wrapper(*args, **kwargs):\n",
    "        print(\"Wrapper is called!\")\n",
    "        return func(*args, **kwargs)\n",
    "    return wrapper\n",
    "\n",
    "@my_decorator\n",
    "def greet(name):\n",
    "    \"\"\"This function greets the user.\"\"\"\n",
    "    return f\"Hello, {name}!\"\n",
    "\n",
    "print(greet.__name__)  # Output: wrapper (not greet)\n",
    "print(greet.__doc__)   # Output: None (original docstring is lost)\n",
    "```\n",
    "\n",
    "In this case:\n",
    "- The `greet` function's name (`__name__`) is replaced with `\"wrapper\"`.\n",
    "- The original docstring (`__doc__`) is lost.\n",
    "\n",
    "---\n",
    "\n",
    "### **Example With `@wraps`**\n",
    "```python\n",
    "from functools import wraps\n",
    "\n",
    "def my_decorator(func):\n",
    "    @wraps(func)\n",
    "    def wrapper(*args, **kwargs):\n",
    "        print(\"Wrapper is called!\")\n",
    "        return func(*args, **kwargs)\n",
    "    return wrapper\n",
    "\n",
    "@my_decorator\n",
    "def greet(name):\n",
    "    \"\"\"This function greets the user.\"\"\"\n",
    "    return f\"Hello, {name}!\"\n",
    "\n",
    "print(greet.__name__)  # Output: greet\n",
    "print(greet.__doc__)   # Output: This function greets the user.\n",
    "```\n",
    "\n",
    "Here:\n",
    "- The `@wraps(func)` ensures that the `greet` function retains its original name (`greet`) and docstring (`\"This function greets the user.\"`).\n",
    "\n",
    "---\n",
    "\n",
    "### **How `@wraps` Works**\n",
    "The `@wraps` decorator is shorthand for:\n",
    "```python\n",
    "from functools import update_wrapper\n",
    "\n",
    "def my_decorator(func):\n",
    "    def wrapper(*args, **kwargs):\n",
    "        print(\"Wrapper is called!\")\n",
    "        return func(*args, **kwargs)\n",
    "    update_wrapper(wrapper, func)  # Equivalent to using @wraps(func)\n",
    "    return wrapper\n",
    "```\n",
    "\n",
    "---\n",
    "\n",
    "### **Benefits of Using `@wraps`**\n",
    "1. **Preserves Metadata**: Keeps the original function's `__name__`, `__doc__`, and `__module__` intact.\n",
    "2. **Improves Debugging**: Makes it easier to identify the original function in stack traces and logs.\n",
    "3. **Supports Introspection**: Tools like `help()` and documentation generators (e.g., Sphinx) display the correct information.\n",
    "\n",
    "---\n",
    "\n",
    "### **When to Use `@wraps`**\n",
    "Always use `@wraps` when writing decorators, especially if your decorators wrap other functions. It ensures the decorated function behaves like the original one with respect to its metadata."
   ]
  },
  {
   "cell_type": "markdown",
   "metadata": {},
   "source": [
    "### **What Are Multiple Decorators in Python?**\n",
    "\n",
    "In Python, multiple decorators can be applied to a single function by stacking them. This allows you to combine multiple behaviors or transformations on the same function in a structured way. The decorators are applied from the bottom up (the innermost decorator is applied first, followed by the next, and so on).\n",
    "\n",
    "---\n",
    "\n",
    "### **Syntax for Multiple Decorators**\n",
    "Here is how multiple decorators are applied:\n",
    "\n",
    "```python\n",
    "@decorator_1\n",
    "@decorator_2\n",
    "def some_function():\n",
    "    print(\"Hello, World!\")\n",
    "```\n",
    "\n",
    "This is equivalent to:\n",
    "\n",
    "```python\n",
    "def some_function():\n",
    "    print(\"Hello, World!\")\n",
    "\n",
    "some_function = decorator_1(decorator_2(some_function))\n",
    "```\n",
    "\n",
    "---\n",
    "\n",
    "### **Example with Multiple Decorators**\n",
    "\n",
    "```python\n",
    "def uppercase_decorator(func):\n",
    "    def wrapper(*args, **kwargs):\n",
    "        result = func(*args, **kwargs)\n",
    "        return result.upper()\n",
    "    return wrapper\n",
    "\n",
    "def exclamation_decorator(func):\n",
    "    def wrapper(*args, **kwargs):\n",
    "        result = func(*args, **kwargs)\n",
    "        return result + \"!\"\n",
    "    return wrapper\n",
    "\n",
    "@uppercase_decorator\n",
    "@exclamation_decorator\n",
    "def greet(name):\n",
    "    return f\"Hello, {name}\"\n",
    "\n",
    "print(greet(\"Alice\"))\n",
    "```\n",
    "\n",
    "**Output:**\n",
    "```\n",
    "HELLO, ALICE!\n",
    "```\n",
    "\n",
    "#### **How It Works:**\n",
    "1. **`@exclamation_decorator`** is applied first. It adds `\"!\"` to the result of the `greet` function.\n",
    "2. **`@uppercase_decorator`** is applied next. It converts the result (which now includes `\"!\"`) to uppercase.\n",
    "\n",
    "---\n",
    "\n",
    "### **Order of Application**\n",
    "The order of decorators matters because each decorator works on the result of the one applied before it. For example:\n",
    "\n",
    "```python\n",
    "@exclamation_decorator\n",
    "@uppercase_decorator\n",
    "def greet(name):\n",
    "    return f\"Hello, {name}\"\n",
    "\n",
    "print(greet(\"Alice\"))\n",
    "```\n",
    "\n",
    "**Output:**\n",
    "```\n",
    "HELLO, ALICE!\n",
    "!\n",
    "```\n",
    "\n",
    "Here:\n",
    "1. **`@uppercase_decorator`** is applied first, converting the result to uppercase.\n",
    "2. **`@exclamation_decorator`** is applied next, adding `\"!\"` to the result.\n",
    " \n",
    "\n",
    "### **Key Takeaways for Multiple Decorators**\n",
    "1. Decorators are applied in reverse order (bottom-up).\n",
    "2. Each decorator operates on the result of the one applied before it.\n",
    "3. Using multiple decorators allows for modular, reusable function transformations.\n",
    "4. Be mindful of the order of decorators, as it affects the final output."
   ]
  },
  {
   "cell_type": "code",
   "execution_count": 7,
   "metadata": {},
   "outputs": [
    {
     "name": "stdout",
     "output_type": "stream",
     "text": [
      "Slow function1!\n",
      "slow_function1 took 1.0031533241271973 seconds to run.\n",
      "Slow function2!\n",
      "slow_function2 took 2.0004210472106934 seconds to run.\n"
     ]
    }
   ],
   "source": [
    "import time\n",
    "\n",
    "def timer(func):\n",
    "    def wrapper(*args, **kwargs):\n",
    "        start = time.time()\n",
    "        result = func(*args, **kwargs)\n",
    "        end = time.time()\n",
    "        print(f\"{func.__name__} took {end - start} seconds to run.\")\n",
    "        return result\n",
    "    return wrapper\n",
    "\n",
    "@timer\n",
    "def slow_function1():\n",
    "    time.sleep(1)\n",
    "    print(\"Slow function1!\")\n",
    "\n",
    "@timer\n",
    "def slow_function2():\n",
    "    time.sleep(2)\n",
    "    print(\"Slow function2!\")\n",
    "\n",
    "slow_function1()\n",
    "\n",
    "slow_function2()\n"
   ]
  }
 ],
 "metadata": {
  "kernelspec": {
   "display_name": "Python 3",
   "language": "python",
   "name": "python3"
  },
  "language_info": {
   "codemirror_mode": {
    "name": "ipython",
    "version": 3
   },
   "file_extension": ".py",
   "mimetype": "text/x-python",
   "name": "python",
   "nbconvert_exporter": "python",
   "pygments_lexer": "ipython3",
   "version": "3.12.3"
  }
 },
 "nbformat": 4,
 "nbformat_minor": 2
}
