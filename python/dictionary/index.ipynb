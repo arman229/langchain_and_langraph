{
 "cells": [
  {
   "cell_type": "code",
   "execution_count": 8,
   "metadata": {},
   "outputs": [
    {
     "name": "stdout",
     "output_type": "stream",
     "text": [
      "{1: 1, 2: 2, 3: 3, 4: 4}\n",
      "{'a': 1, 'b': 2, 'c': 3, 'd': 4}\n",
      "{(1, 2, 4): 1, (2, 4, 6): 2}\n"
     ]
    }
   ],
   "source": [
    "# Dictionaries:\n",
    "# Dictionaries are very important Python data structure.A Dictionary can contain multiple key/value pairs\n",
    "# Note: key can be any immutable value like a number, string or tuple.Not the mutable\n",
    "first_dictionary ={1:1, 2:2, 3:3, 4:4}\n",
    "second_dictionary ={'a':1, 'b':2, 'c':3, 'd':4}\n",
    "third_dictionary ={(1,2,4):1, (2,4,6):2}\n",
    "# fourth_dictionary ={[1,2,4]:1, [2,4,6]:2}\n",
    "print(first_dictionary)\n",
    "print(second_dictionary)\n",
    "print(third_dictionary)\n",
    "# print(fourth_dictionary)"
   ]
  },
  {
   "cell_type": "code",
   "execution_count": 14,
   "metadata": {},
   "outputs": [
    {
     "name": "stdout",
     "output_type": "stream",
     "text": [
      "1\n",
      "('d', 4)\n",
      "{'b': 2, 'c': 3}\n",
      "['b', 'c']\n",
      "[2, 3]\n",
      "[('b', 2), ('c', 3)]\n"
     ]
    }
   ],
   "source": [
    "second_dictionary ={'a':1, 'b':2, 'c':3, 'd':4}\n",
    "pop_method = second_dictionary.pop('a')\n",
    "print(pop_method)\n",
    "pop_method = second_dictionary.popitem() # key value pair \n",
    "print(pop_method)\n",
    "print(second_dictionary)\n",
    "a = list(second_dictionary.keys())\n",
    "b = list(second_dictionary.values())\n",
    "c = list(second_dictionary.items())\n",
    "print(a)\n",
    "print(b) \n",
    "print(c)"
   ]
  },
  {
   "cell_type": "code",
   "execution_count": 19,
   "metadata": {},
   "outputs": [
    {
     "name": "stdout",
     "output_type": "stream",
     "text": [
      "2325068265472\n",
      "2325068366208\n"
     ]
    }
   ],
   "source": [
    "# To copy a Dictionary\n",
    "# Delete a key/value: we can remove a key/value parit from a dictionary using the del statement\n",
    "\n",
    "second_dictionary ={'a':1, 'b':2, 'c':3, 'd':4,}\n",
    "del second_dictionary['d']\n",
    "copy_second_dictionary = second_dictionary.copy()\n",
    "copy_second_dictionary['e']=5\n",
    "print(id(second_dictionary))\n",
    "print(id(copy_second_dictionary))\n",
    "\n"
   ]
  },
  {
   "cell_type": "code",
   "execution_count": 20,
   "metadata": {},
   "outputs": [
    {
     "name": "stdout",
     "output_type": "stream",
     "text": [
      "{'a': 1, 'b': 2, 'c': 3, 'd': 4}\n"
     ]
    }
   ],
   "source": [
    "# NOte in Dictionary :No duplicate members\n",
    "second_dictionary ={'a':1, 'b':2, 'c':3, 'd':4,'d':4}\n",
    "print(second_dictionary)"
   ]
  }
 ],
 "metadata": {
  "kernelspec": {
   "display_name": "Python 3",
   "language": "python",
   "name": "python3"
  },
  "language_info": {
   "codemirror_mode": {
    "name": "ipython",
    "version": 3
   },
   "file_extension": ".py",
   "mimetype": "text/x-python",
   "name": "python",
   "nbconvert_exporter": "python",
   "pygments_lexer": "ipython3",
   "version": "3.12.3"
  }
 },
 "nbformat": 4,
 "nbformat_minor": 2
}
