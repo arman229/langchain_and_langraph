{
 "cells": [
  {
   "cell_type": "markdown",
   "id": "2a1a864f",
   "metadata": {},
   "source": [
    " \n",
    "\n",
    "What is `strip`?\n",
    "\n",
    "---\n",
    "\n",
    "**Answer:**\n",
    "In Python, `strip()` is a **string method** that removes **leading (start) and trailing (end)** characters from a string.\n",
    "\n",
    "### By default:\n",
    "\n",
    "```python\n",
    "text = \"   hello world   \"\n",
    "print(text.strip())  # Output: \"hello world\"\n",
    "```\n",
    "\n",
    "It removes all **spaces** from the beginning and end.\n",
    "\n",
    "---\n",
    "\n",
    "### You can also specify what to remove:\n",
    "\n",
    "```python\n",
    "text = \">>>hello<<<\"\n",
    "print(text.strip(\">\"))     # Output: \"hello<<<\"\n",
    "print(text.strip(\"><\"))    # Output: \"hello\"\n",
    "```\n",
    "\n",
    "---\n",
    "\n",
    "### Important:\n",
    "\n",
    "* `strip()` does **not** remove characters **in the middle** of the string.\n",
    "* It checks for each character in the argument **individually**, not as a whole substring.\n",
    " \n"
   ]
  }
 ],
 "metadata": {
  "kernelspec": {
   "display_name": "Python 3",
   "language": "python",
   "name": "python3"
  },
  "language_info": {
   "codemirror_mode": {
    "name": "ipython",
    "version": 3
   },
   "file_extension": ".py",
   "mimetype": "text/x-python",
   "name": "python",
   "nbconvert_exporter": "python",
   "pygments_lexer": "ipython3",
   "version": "3.13.3"
  }
 },
 "nbformat": 4,
 "nbformat_minor": 5
}
