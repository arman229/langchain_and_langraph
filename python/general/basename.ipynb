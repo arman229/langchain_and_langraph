{
 "cells": [
  {
   "cell_type": "code",
   "execution_count": null,
   "metadata": {},
   "outputs": [],
   "source": [
    "\n",
    "image_filename = os.path.basename('./image_downloads/image_1.png')\n",
    "print(image_filename)\n",
    "vector_id = os.path.splitext(image_filename)[0] \n",
    "print(vector_id)"
   ]
  }
 ],
 "metadata": {
  "language_info": {
   "name": "python"
  }
 },
 "nbformat": 4,
 "nbformat_minor": 2
}
