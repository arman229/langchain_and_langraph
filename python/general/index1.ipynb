{
 "cells": [
  {
   "cell_type": "code",
   "execution_count": 2,
   "metadata": {},
   "outputs": [
    {
     "name": "stdout",
     "output_type": "stream",
     "text": [
      "Hello, ali! Welcome to Python learning\n"
     ]
    }
   ],
   "source": [
    "try:\n",
    "    user_name:str = input('please Enter your name')\n",
    "    if not user_name:\n",
    "        raise ValueError(\"input cannot be empty\")\n",
    "    print(f\"Hello, {user_name}! Welcome to Python learning\")  \n",
    "except ValueError as ve:\n",
    "  print(f\"Error : {ve}\")\n",
    "except Exception as e:\n",
    "  print(f\"General Error: {e}\")"
   ]
  },
  {
   "cell_type": "code",
   "execution_count": null,
   "metadata": {},
   "outputs": [],
   "source": []
  },
  {
   "cell_type": "code",
   "execution_count": 8,
   "metadata": {},
   "outputs": [
    {
     "name": "stdout",
     "output_type": "stream",
     "text": [
      "[2, 3, 4, 44]\n"
     ]
    }
   ],
   "source": [
    "list = [44,2,4,3]\n",
    "list_sort =list.sort()\n",
    "print(list)"
   ]
  },
  {
   "cell_type": "code",
   "execution_count": 10,
   "metadata": {},
   "outputs": [
    {
     "name": "stdout",
     "output_type": "stream",
     "text": [
      "['a', 'a', 'A', 'b', 'B', 'C', 'D', 'E', 'F']\n",
      "['A', 'B', 'C', 'D', 'E', 'F', 'a', 'a', 'b']\n"
     ]
    }
   ],
   "source": [
    "#Note sort method only compare numberts or char not both at the same time \n",
    "# sort method by default compare the Capital letters first if we compare small letter first we can also copare this like\n",
    "\n",
    "list_1 = [\"a\",\"b\",\"a\",\"A\", \"B\", \"C\", \"D\", \"E\", \"F\", ]\n",
    "list_sort =list_1.sort(key=str.lower)\n",
    "print(list_1)\n",
    "\n",
    "list_2 = [\"a\",\"b\",\"a\",\"A\", \"B\", \"C\", \"D\", \"E\", \"F\", ]\n",
    "list_sort =list_2.sort()\n",
    "print(list_2)"
   ]
  },
  {
   "cell_type": "code",
   "execution_count": 12,
   "metadata": {},
   "outputs": [
    {
     "name": "stdout",
     "output_type": "stream",
     "text": [
      "['A', 'B', 'C', 'D', 'E', 'F', 'a', 'a', 'b']\n",
      "['a', 'b', 'a', 'A', 'B', 'C', 'D', 'E', 'F']\n"
     ]
    }
   ],
   "source": [
    "# sort change the original list we can overcome this problem by using the sorted method\n",
    "list_3 = [\"a\",\"b\",\"a\",\"A\", \"B\", \"C\", \"D\", \"E\", \"F\", ]\n",
    "list_sort =sorted(list_3)\n",
    "print(list_sort)\n",
    "print(list_3)"
   ]
  },
  {
   "cell_type": "code",
   "execution_count": 1,
   "metadata": {},
   "outputs": [
    {
     "name": "stdout",
     "output_type": "stream",
     "text": [
      "a\n",
      "b\n",
      "c\n",
      "e\n"
     ]
    }
   ],
   "source": [
    "items = ['a', 'b', 'c', 'd', 'e']\n",
    "for i in items:\n",
    "    \n",
    "    if i =='d':\n",
    "        continue\n",
    "        print(\"hello\")\n",
    "    print(i)\n",
    "print(\"Eww\")\n",
    "    "
   ]
  },
  {
   "cell_type": "code",
   "execution_count": 7,
   "metadata": {},
   "outputs": [
    {
     "name": "stdout",
     "output_type": "stream",
     "text": [
      "a\n",
      "b\n",
      "c\n"
     ]
    }
   ],
   "source": [
    "items = ['a', 'b', 'c', 'd', 'e']\n",
    "for i in items:\n",
    "    if i =='d':\n",
    "        break\n",
    "    print(i)"
   ]
  },
  {
   "cell_type": "code",
   "execution_count": 1,
   "metadata": {},
   "outputs": [
    {
     "name": "stdout",
     "output_type": "stream",
     "text": [
      "1\n"
     ]
    }
   ],
   "source": [
    "# Nested Function\n",
    "#Note: If you want to access a variable defined in the outer\n",
    "# function from the inner function, you first need to\n",
    "# declare it as nonlocal :\n",
    "def count(): \n",
    "    count = 0 \n",
    "    def increment(): \n",
    "        nonlocal count \n",
    "        count = count + 1 \n",
    "        print(count) \n",
    "    increment() \n",
    "count()"
   ]
  },
  {
   "cell_type": "code",
   "execution_count": 24,
   "metadata": {},
   "outputs": [
    {
     "name": "stdout",
     "output_type": "stream",
     "text": [
      "20\n"
     ]
    }
   ],
   "source": [
    "counts = 20 \n",
    "def count(): \n",
    " \n",
    "    countss = counts + 1 \n",
    "    def increment(): \n",
    "        print(counts) \n",
    "  \n",
    "    increment() \n",
    "count()"
   ]
  },
  {
   "cell_type": "code",
   "execution_count": 30,
   "metadata": {},
   "outputs": [
    {
     "name": "stdout",
     "output_type": "stream",
     "text": [
      "2\n"
     ]
    }
   ],
   "source": [
    "def countss(): \n",
    "    count = 0 \n",
    "    def increment(): \n",
    " \n",
    "        counts = count +2\n",
    "        print(counts) \n",
    "    increment() \n",
    "countss()"
   ]
  },
  {
   "cell_type": "code",
   "execution_count": 34,
   "metadata": {},
   "outputs": [
    {
     "name": "stdout",
     "output_type": "stream",
     "text": [
      "first 0 and its memory location is 140711565269400\n",
      "second 1 and its memory location is 140711565269432\n",
      "third 1 and its memory location is 140711565269432\n"
     ]
    }
   ],
   "source": [
    "def count(): \n",
    "    count = 0 \n",
    "    print(f\"first {count} and its memory location is {id(count)}\")\n",
    "    def increment(): \n",
    "        nonlocal count \n",
    "        count = count + 1 \n",
    "        print(f\"second {count} and its memory location is {id(count)}\")\n",
    "        \n",
    "  \n",
    "    increment() \n",
    "    print(f\"third {count} and its memory location is {id(count)}\")\n",
    "count() \n",
    "  "
   ]
  },
  {
   "cell_type": "code",
   "execution_count": 8,
   "metadata": {},
   "outputs": [
    {
     "name": "stdout",
     "output_type": "stream",
     "text": [
      "300\n"
     ]
    }
   ],
   "source": [
    "def myfunc():\n",
    "  x = 300\n",
    "  def myinnerfunc():\n",
    "    print(x)\n",
    "  myinnerfunc()\n",
    "\n",
    "myfunc()\n"
   ]
  },
  {
   "cell_type": "code",
   "execution_count": 42,
   "metadata": {},
   "outputs": [
    {
     "name": "stdout",
     "output_type": "stream",
     "text": [
      "<function myfunc1.<locals>.myinnerfunc1 at 0x0000026AB7A5CCC0>\n",
      "myinnerfunc\n"
     ]
    }
   ],
   "source": [
    "def myfunc1(): \n",
    "  def myinnerfunc1():\n",
    "    print(\"myinnerfunc\")\n",
    "  return myinnerfunc1\n",
    "\n",
    "print(myfunc1())\n",
    "def myfunc(): \n",
    "  def myinnerfunc():\n",
    "    print(\"myinnerfunc\")\n",
    "  return myinnerfunc\n",
    "\n",
    "myfunc()()\n"
   ]
  },
  {
   "cell_type": "code",
   "execution_count": 44,
   "metadata": {},
   "outputs": [
    {
     "name": "stdout",
     "output_type": "stream",
     "text": [
      "['__add__', '__class__', '__contains__', '__delattr__', '__dir__', '__doc__', '__eq__', '__format__', '__ge__', '__getattribute__', '__getitem__', '__getnewargs__', '__getstate__', '__gt__', '__hash__', '__init__', '__init_subclass__', '__iter__', '__le__', '__len__', '__lt__', '__mod__', '__mul__', '__ne__', '__new__', '__reduce__', '__reduce_ex__', '__repr__', '__rmod__', '__rmul__', '__setattr__', '__sizeof__', '__str__', '__subclasshook__', 'capitalize', 'casefold', 'center', 'count', 'encode', 'endswith', 'expandtabs', 'find', 'format', 'format_map', 'index', 'isalnum', 'isalpha', 'isascii', 'isdecimal', 'isdigit', 'isidentifier', 'islower', 'isnumeric', 'isprintable', 'isspace', 'istitle', 'isupper', 'join', 'ljust', 'lower', 'lstrip', 'maketrans', 'partition', 'removeprefix', 'removesuffix', 'replace', 'rfind', 'rindex', 'rjust', 'rpartition', 'rsplit', 'rstrip', 'split', 'splitlines', 'startswith', 'strip', 'swapcase', 'title', 'translate', 'upper', 'zfill']\n",
      "2657311029312\n"
     ]
    }
   ],
   "source": [
    "name = 'arman'\n",
    "print(dir(name))\n",
    "print(id(name)) "
   ]
  },
  {
   "cell_type": "code",
   "execution_count": 9,
   "metadata": {},
   "outputs": [
    {
     "name": "stdout",
     "output_type": "stream",
     "text": [
      "1209381582912\n",
      "1209381582912\n",
      "1209381582912\n"
     ]
    }
   ],
   "source": [
    "my_name = 'arman'\n",
    "\n",
    "print(id(my_name))\n",
    "my_names= 'arman'\n",
    "print(id(my_name))\n",
    "print(id(my_names))"
   ]
  },
  {
   "cell_type": "code",
   "execution_count": 38,
   "metadata": {},
   "outputs": [
    {
     "name": "stdout",
     "output_type": "stream",
     "text": [
      "1209433602928\n",
      "1209431897584\n",
      "1209433030304\n",
      "1209433019360\n"
     ]
    }
   ],
   "source": [
    "first_arman = 'first arman' \n",
    "second_arman= 'first arman '\n",
    "third_arman= ' arman'\n",
    "fourth_arman= ' arman'\n",
    "print(id(first_arman))\n",
    "print(id(second_arman))\n",
    "print(id(third_arman))\n",
    "print(id(fourth_arman))"
   ]
  },
  {
   "cell_type": "code",
   "execution_count": 2,
   "metadata": {},
   "outputs": [
    {
     "name": "stdout",
     "output_type": "stream",
     "text": [
      "1209432800384\n",
      "1209432801152\n"
     ]
    }
   ],
   "source": [
    "my_name = ['arman']\n",
    "my_name_new = ['arman']\n",
    "print(id(my_name))\n",
    "print(id(my_name_new))"
   ]
  },
  {
   "cell_type": "code",
   "execution_count": 10,
   "metadata": {},
   "outputs": [
    {
     "name": "stdout",
     "output_type": "stream",
     "text": [
      "1209431908528\n",
      "1209431909360\n"
     ]
    }
   ],
   "source": [
    "a = 'hello world'\n",
    "b = 'hello world'\n",
    "print(id(a))\n",
    "print(id(b))\n",
    "# print(f\"{id(a) == id(b)}{id(a)},{id(b)}\")  # Might output False, depending on string content.\n",
    "# print(333==333)\n",
    "# # Force different objects:\n",
    "# c = str('hello')\n",
    "# d = str('hello')\n",
    "# print(id(c) == id(d))  # False\n"
   ]
  },
  {
   "cell_type": "code",
   "execution_count": 44,
   "metadata": {},
   "outputs": [
    {
     "name": "stdout",
     "output_type": "stream",
     "text": [
      "0\n",
      "1\n"
     ]
    }
   ],
   "source": [
    "def infinite_counter():\n",
    "    num = 0\n",
    "    while True:\n",
    "        yield num\n",
    "        num += 1\n",
    "\n",
    "gen = infinite_counter()\n",
    "\n",
    "print(next(gen))  # Output: 0\n",
    "print(next(gen))  # Output: 1\n"
   ]
  },
  {
   "cell_type": "code",
   "execution_count": 45,
   "metadata": {},
   "outputs": [
    {
     "name": "stdout",
     "output_type": "stream",
     "text": [
      "2\n"
     ]
    }
   ],
   "source": [
    "print(next(gen))  # Output: 2"
   ]
  },
  {
   "cell_type": "code",
   "execution_count": 46,
   "metadata": {},
   "outputs": [
    {
     "name": "stdout",
     "output_type": "stream",
     "text": [
      "3\n"
     ]
    }
   ],
   "source": [
    "print(next(gen))  # Output: 3"
   ]
  },
  {
   "cell_type": "code",
   "execution_count": 57,
   "metadata": {},
   "outputs": [
    {
     "name": "stdout",
     "output_type": "stream",
     "text": [
      "calculated sum successfully and sum is 15.\n"
     ]
    }
   ],
   "source": [
    "def find_sum(num_arrary:list[int]):\n",
    "    sum = 0\n",
    "    for num in num_arrary:\n",
    "        if num > 5:\n",
    "            print(\"loop break\")\n",
    "            break\n",
    "        sum += num\n",
    "   \n",
    "    else:\n",
    "        print(f\"calculated sum successfully and sum is {sum}.\")\n",
    "     \n",
    "        \n",
    "find_sum([1,2,3,4,5])\n",
    "        "
   ]
  },
  {
   "cell_type": "code",
   "execution_count": 81,
   "metadata": {},
   "outputs": [
    {
     "name": "stdout",
     "output_type": "stream",
     "text": [
      "Fetching user name... (this may take 2 seconds)\n",
      "Fetching user name... (this may take 2 seconds)\n",
      "Validating user name... (this may take another 2 seconds)\n",
      "Validating user name... (this may take another 2 seconds)\n",
      "User name 'Arman' is valid.\n",
      "User name 'Arman' is valid.\n",
      "Total time taken: 4.02 seconds\n"
     ]
    }
   ],
   "source": [
    "import asyncio\n",
    "import time \n",
    "async def fetch_user_name():\n",
    "    print(\"Fetching user name... (this may take 2 seconds)\")\n",
    "    await asyncio.sleep(2)  \n",
    "    return \"Arman\"  \n",
    " \n",
    "async def validate_user_name(user_name):\n",
    "    print(f\"Validating user name... (this may take another 2 seconds)\")\n",
    "    await asyncio.sleep(2)  \n",
    "    if user_name == \"Arman\":\n",
    "        return True  \n",
    "    else:\n",
    "        return False   \n",
    "async def main():\n",
    "    start_time = time.time()  \n",
    "    \n",
    "    first_arman,second_arman   =    await asyncio.gather(fetch_user_name(),fetch_user_name())\n",
    "    is_valid_1, is_valid_2 = await asyncio.gather(validate_user_name(first_arman), validate_user_name(second_arman))\n",
    "     \n",
    "    \n",
    "    if is_valid_1:\n",
    "        print(f\"User name '{first_arman}' is valid.\")\n",
    "    else:\n",
    "        print(f\"User name '{first_arman}' is not valid.\")\n",
    "    \n",
    "    if is_valid_2:\n",
    "        print(f\"User name '{second_arman}' is valid.\")\n",
    "    else:\n",
    "        print(f\"User name '{second_arman}' is not valid.\")\n",
    "    \n",
    "    end_time = time.time()    \n",
    "    total_time = end_time - start_time\n",
    "    print(f\"Total time taken: {total_time:.2f} seconds\") \n",
    "await main()\n"
   ]
  },
  {
   "cell_type": "code",
   "execution_count": 82,
   "metadata": {},
   "outputs": [
    {
     "name": "stdout",
     "output_type": "stream",
     "text": [
      "Fetching user name... (this may take 2 seconds)\n",
      "User name fetched: Arman\n",
      "Validating user name... (this may take another 2 seconds)\n",
      "User name 0 'Arman' is valid.\n",
      "Fetching user name... (this may take 2 seconds)\n",
      "User name fetched: Arman\n",
      "Validating user name... (this may take another 2 seconds)\n",
      "User name 1 'Arman' is valid.\n",
      "Total time taken: 8.00 seconds\n"
     ]
    }
   ],
   "source": [
    "import time \n",
    "def fetch_user_name():\n",
    "    print(\"Fetching user name... (this may take 2 seconds)\")\n",
    "    time.sleep(2)   \n",
    "    return \"Arman\"   \n",
    "def validate_user_name(user_name):\n",
    "    print(f\"Validating user name... (this may take another 2 seconds)\")\n",
    "    time.sleep(2)  \n",
    "    if user_name == \"Arman\":\n",
    "        return True  \n",
    "    else:\n",
    "        return False   \n",
    " \n",
    "def main():\n",
    "    start_time = time.time()   \n",
    "    \n",
    "    for i in range(0,2):\n",
    "        user_name = fetch_user_name()\n",
    "        print(f\"User name fetched: {user_name}\")\n",
    "        \n",
    "        is_valid = validate_user_name(user_name) \n",
    "        if is_valid:\n",
    "            print(f\"User name {i} '{user_name}' is valid.\")\n",
    "        else:\n",
    "            print(f\"User name {i} '{user_name}' is not valid.\")\n",
    "\n",
    "    end_time = time.time()   \n",
    "    total_time = end_time - start_time\n",
    "    print(f\"Total time taken: {total_time:.2f} seconds\") \n",
    "main()\n"
   ]
  },
  {
   "cell_type": "code",
   "execution_count": 95,
   "metadata": {},
   "outputs": [
    {
     "name": "stdout",
     "output_type": "stream",
     "text": [
      "List of1209431889856\n",
      "List of1209447850432 140710431300024\n"
     ]
    }
   ],
   "source": [
    "my_list = []\n",
    "my_new_list = [1]\n",
    "print(f\"List of{id(my_list)}\")\n",
    "\n",
    "print(f\"List of{id(my_new_list)} {id(my_new_list[0])}\")\n"
   ]
  },
  {
   "cell_type": "code",
   "execution_count": 101,
   "metadata": {},
   "outputs": [
    {
     "name": "stdout",
     "output_type": "stream",
     "text": [
      "befor the yield we print the 3\n",
      "3\n"
     ]
    }
   ],
   "source": [
    "def yield_fun():\n",
    "    print('befor the yield we print the 3')\n",
    "    yield 3\n",
    "    print('after the yild it dose not print the 3')\n",
    "n=yield_fun()\n",
    "print(next(n)) \n",
    "    "
   ]
  },
  {
   "cell_type": "markdown",
   "metadata": {},
   "source": [
    "What is a context manager?\n",
    "A context manager is a way to manage resources like files, network connections, or database connections. It helps you to automatically clean up after using a resource, even if something goes wrong. This is done with the with statement.\n",
    "\n",
    "When you use a with statement, the context manager will open the resource (e.g., a file) when you enter the block and close it when you exit the block."
   ]
  },
  {
   "cell_type": "code",
   "execution_count": null,
   "metadata": {},
   "outputs": [],
   "source": [
    "from contextlib import contextmanager\n",
    "\n",
    "@contextmanager\n",
    "def open_file(filename, mode):\n",
    "    print(\"Opening file...\")\n",
    "    file = open(filename, mode)  # Open the file\n",
    "    yield file  # This is where the file is used in the 'with' block\n",
    "    print(\"Closing file...\")\n",
    "    file.close()  # Close the file after the 'with' block finishes\n",
    "\n",
    "# Using the context manager to open and close a file\n",
    "with open_file('test.txt', 'w') as file:\n",
    "    file.write(\"Hello, World!\")  # This is the code inside the 'with' block\n"
   ]
  },
  {
   "cell_type": "code",
   "execution_count": 1,
   "metadata": {},
   "outputs": [
    {
     "name": "stdout",
     "output_type": "stream",
     "text": [
      "4\n"
     ]
    }
   ],
   "source": [
    "#\\   line continue\n",
    "print(3 \\\n",
    "+4 \\\n",
    "    -3)"
   ]
  },
  {
   "cell_type": "markdown",
   "metadata": {},
   "source": [
    "sub=substitute \n",
    "re=regular Expression\n",
    " re.sub(pattarn ,replacement, variable)"
   ]
  },
  {
   "cell_type": "code",
   "execution_count": 28,
   "metadata": {},
   "outputs": [
    {
     "data": {
      "text/plain": [
       "'Arman++Muhammad++Ashraf     '"
      ]
     },
     "metadata": {},
     "output_type": "display_data"
    },
    {
     "data": {
      "text/plain": [
       "'Arman++Muhammad++Ashraf     '"
      ]
     },
     "metadata": {},
     "output_type": "display_data"
    }
   ],
   "source": [
    "import re\n",
    "name : str = \"Arman--------------------Muhammad------Ashraf     \"\n",
    "final_output : str = re.sub('-{1,99}','++', name)\n",
    "display(final_output)\n",
    "final_output2 : str = re.sub('-{2,99}','++', name)\n",
    "display(final_output2)"
   ]
  },
  {
   "cell_type": "code",
   "execution_count": 29,
   "metadata": {},
   "outputs": [
    {
     "name": "stdout",
     "output_type": "stream",
     "text": [
      "65\n",
      "A\n"
     ]
    }
   ],
   "source": [
    "print(ord('A'))\n",
    "print(chr(65))"
   ]
  },
  {
   "cell_type": "markdown",
   "metadata": {},
   "source": [
    "\n",
    "1. **String Interning in Python:**\n",
    "   - Python **interns** certain strings, which means that it reuses the same object in memory for immutable strings like `'abc'` to save memory and improve performance.\n",
    "   - Interning applies to strings that are:\n",
    "     - Short\n",
    "     - Made of alphanumeric characters or underscores\n",
    "     - Not created dynamically\n",
    "\n",
    "2. **Memory Behavior:**\n",
    "   - Both `b` and `y` are assigned the string `'abc'`.\n",
    "   - Since `'abc'` is interned, `b` and `y` will reference the **same memory location**.\n",
    "\n",
    "3. **Output:**\n",
    "   - `id(b)` and `id(y)` return the same value because `b` and `y` point to the same string object.\n",
    "   - `b is y` evaluates to `True` because both variables reference the same memory location.\n",
    "\n",
    "---\n",
    "\n",
    "### **Second Code Snippet**\n",
    "\n",
    "```python\n",
    "b: str = ' abc'\n",
    "y: str = ' abc'\n",
    "c = b\n",
    "\n",
    "print(id(b))  # ID of b\n",
    "print(id(y))  # ID of y\n",
    "print(id(c))  # ID of c\n",
    "print(b is y)  # Check if b and y are the same object\n",
    "print(c is b)  # Check if c and b are the same object\n",
    "```\n",
    "\n",
    "#### **Explanation:**\n",
    "\n",
    "1. **String Interning Doesn't Apply:**\n",
    "   - The string `' abc'` has a **leading space**, so it doesn't meet the interning criteria (it is not alphanumeric).\n",
    "   - Python creates **two separate string objects** for `b` and `y` even though they have the same value.\n",
    "\n",
    "2. **Memory Behavior:**\n",
    "   - `b` and `y` point to **different objects** in memory because `' abc'` is not interned.\n",
    "   - However, when `c = b`, `c` directly references the same object as `b`.\n",
    "\n",
    "3. **Output:**\n",
    "   - `id(b)` and `id(y)` are different because `b` and `y` are distinct objects.\n",
    "   - `id(c)` is the same as `id(b)` because `c` references the same object as `b`.\n",
    "   - `b is y` evaluates to `False` because `b` and `y` are not the same object.\n",
    "   - `c is b` evaluates to `True` because `c` and `b` reference the same object.\n",
    "\n",
    "---\n",
    "\n",
    "### Key Differences Between the Two Snippets\n",
    "\n",
    "| **Aspect**              | **First Snippet**                  | **Second Snippet**                     |\n",
    "|--------------------------|------------------------------------|----------------------------------------|\n",
    "| **String Value**         | `'abc'`                           | `' abc'` (with a leading space)         |\n",
    "| **String Interning**     | Applies (same object reused)      | Doesn't apply (different objects)      |\n",
    "| **Memory Location**      | `b` and `y` share the same object | `b` and `y` are different objects      |\n",
    "| **Result of `b is y`**   | `True`                            | `False`                                |\n",
    "| **Result of `c is b`**   | N/A (not assigned)                | `True` (same reference)                |\n",
    "\n",
    "---\n",
    "\n",
    "### Takeaway\n",
    "\n",
    "- **String Interning:** Python reuses immutable string objects for certain strings (alphanumeric, short) to optimize memory.\n",
    "- **Non-Interned Strings:** Strings with special characters or spaces do not follow interning, and separate objects are created.\n",
    "- **References:** Using `=` (e.g., `c = b`) makes the new variable (`c`) reference the same object as the original (`b`). \n",
    "\n"
   ]
  },
  {
   "cell_type": "code",
   "execution_count": 2,
   "metadata": {},
   "outputs": [
    {
     "name": "stdout",
     "output_type": "stream",
     "text": [
      "140721483712784\n",
      "140721483712784\n"
     ]
    },
    {
     "data": {
      "text/plain": [
       "True"
      ]
     },
     "execution_count": 2,
     "metadata": {},
     "output_type": "execute_result"
    }
   ],
   "source": [
    "b : str = 'abc'\n",
    "y : str = 'abc'\n",
    "\n",
    "print(id(b))\n",
    "print(id(y))\n",
    "b is y\n"
   ]
  },
  {
   "cell_type": "code",
   "execution_count": 5,
   "metadata": {},
   "outputs": [
    {
     "name": "stdout",
     "output_type": "stream",
     "text": [
      "1588343496304\n",
      "1588343496304\n",
      "1588343496304\n",
      "True\n",
      "True\n"
     ]
    }
   ],
   "source": [
    "b : str = 'ali_abc0'\n",
    "y : str = 'ali_abc0'\n",
    "\n",
    "c = b\n",
    "\n",
    "print(id(b))\n",
    "print(id(y))\n",
    "print(id(c))\n",
    "print(b is y)\n",
    "print(c is b)\n",
    "# b is not y"
   ]
  },
  {
   "cell_type": "code",
   "execution_count": 10,
   "metadata": {},
   "outputs": [
    {
     "name": "stdout",
     "output_type": "stream",
     "text": [
      "20320\n",
      "⑴\n"
     ]
    }
   ],
   "source": [
    "char = '你'\n",
    "print(ord(char))  # Output: 20320 (Unicode code point for '你')\n",
    "print(chr(9332)) # Output: 你\n"
   ]
  },
  {
   "cell_type": "code",
   "execution_count": 11,
   "metadata": {},
   "outputs": [
    {
     "name": "stdout",
     "output_type": "stream",
     "text": [
      "['a', 'b']\n",
      "['z', 'y', 'x', 'w', 'v', 'u', 't', 's', 'r', 'q', 'p', 'o', 'n', 'm', 'l', 'k', 'j', 'i', 'h', 'g', 'f', 'e', 'd', 'c', 'b', 'a']\n",
      "['a', 'b']\n"
     ]
    }
   ],
   "source": [
    "characters : list[str] = list('abcdefghijklmnopqrstuvwxyz')\n",
    "                                                                                                      \n",
    "\n",
    "# defualt slicing go from left to right\n",
    "print(characters[0:2])  \n",
    "print(characters[::-1])  \n",
    "print(characters[-26:-24:1]) \n",
    "# print(characters[0:2:1]) \n",
    "# print(characters[0:2:])  "
   ]
  },
  {
   "cell_type": "code",
   "execution_count": 13,
   "metadata": {},
   "outputs": [
    {
     "name": "stdout",
     "output_type": "stream",
     "text": [
      "m\n"
     ]
    },
    {
     "ename": "TypeError",
     "evalue": "'str' object does not support item assignment",
     "output_type": "error",
     "traceback": [
      "\u001b[1;31m---------------------------------------------------------------------------\u001b[0m",
      "\u001b[1;31mTypeError\u001b[0m                                 Traceback (most recent call last)",
      "Cell \u001b[1;32mIn[13], line 4\u001b[0m\n\u001b[0;32m      2\u001b[0m my_name:\u001b[38;5;28mstr\u001b[39m\u001b[38;5;241m=\u001b[39m\u001b[38;5;124m'\u001b[39m\u001b[38;5;124marman ashraf\u001b[39m\u001b[38;5;124m'\u001b[39m\n\u001b[0;32m      3\u001b[0m \u001b[38;5;28mprint\u001b[39m(my_name[\u001b[38;5;241m2\u001b[39m])\n\u001b[1;32m----> 4\u001b[0m \u001b[43mmy_name\u001b[49m\u001b[43m[\u001b[49m\u001b[38;5;241;43m0\u001b[39;49m\u001b[43m]\u001b[49m\u001b[38;5;241m=\u001b[39m\u001b[38;5;124m'\u001b[39m\u001b[38;5;124md\u001b[39m\u001b[38;5;124m'\u001b[39m \n\u001b[0;32m      5\u001b[0m \u001b[38;5;28mprint\u001b[39m(my_name)   \n",
      "\u001b[1;31mTypeError\u001b[0m: 'str' object does not support item assignment"
     ]
    }
   ],
   "source": [
    "# String are Immutable \n",
    "my_name:str='arman ashraf'\n",
    "print(my_name[2])\n",
    "my_name[0]='d' \n",
    "print(my_name)   "
   ]
  },
  {
   "cell_type": "markdown",
   "metadata": {},
   "source": [
    "# Difference between array and list ?\n",
    "A list in Python is an inbuilt collection of items that can contain elements of multiple data types, \n",
    "An array is a vector containing homogeneous elements i.e. belonging to the same data type.\n",
    "More read https://www.geeksforgeeks.org/difference-between-list-and-array-in-python/\n",
    "\n",
    "List \n",
    "* dynamic length\n",
    "* hetrogenous data types (Multiple type)\n",
    "* index\n",
    "* postive 0 to n-1\n",
    "* negative -1 to length\n",
    "* slicing[start:end:step]\n",
    "* start : int = include\n",
    "* end : int = n-1\n",
    "* step : int = sequance (if sequence is negative it shows direction right to left)"
   ]
  },
  {
   "cell_type": "code",
   "execution_count": 15,
   "metadata": {},
   "outputs": [
    {
     "name": "stdout",
     "output_type": "stream",
     "text": [
      "{2, 4, 6, 8, 10}\n",
      "{2, 4, 6, 8, 10, 12}\n"
     ]
    }
   ],
   "source": [
    "# set in python \n",
    "# Set is the collection of the unordered(means we define 10 first but due to unordered its value change) items\n",
    "# Each element in the set must be unique & immutabble\n",
    " \n",
    "# empty set can be defined as \n",
    "emtpy_set:set = set()\n",
    "set_of_even:set[int] = {10,2,2,4,4,6,8,8}\n",
    "print(set_of_even)\n",
    "# Note: sets are mutable but its elements are immutable.\n",
    "set_of_even.add(12)\n",
    "print(set_of_even)"
   ]
  },
  {
   "cell_type": "code",
   "execution_count": 19,
   "metadata": {},
   "outputs": [
    {
     "name": "stdout",
     "output_type": "stream",
     "text": [
      "set()\n",
      "{'ali', 6, 'zain', 8, 'babar', 10, 12, 14, 'arman'}\n",
      "{12}\n"
     ]
    }
   ],
   "source": [
    "from typing import Dict\n",
    "set_of_even:set[int|tuple[str,str]] = {10,2,2,4,4,6,8,8,('ali','ahmad')} \n",
    "set_of_even1:set[int|str] = {10,2,2,4,4,6,8,8,12,14,'ali','zain','arman','babar' } # not follow the order of the str value, \n",
    "# set_of_even2:set[int|list[str]] = {10,2,2,4,4,6,8,8,['ali','ahmad']}   # not vaild because of list, list are mutable but set elements are always immutable\n",
    "# set_of_even3:Dict[int|list[str]] = {10,2,2,4,4,6,8,8,{'name':'ali','fname':'ahmad'}} # not valid\n",
    " \n",
    "# set methods\n",
    "set_of_even1.remove(2)\n",
    "set_of_even1.pop() # remove random elements from the list\n",
    "set_of_even.clear() # empty the list \n",
    "print(set_of_even)\n",
    "print(set_of_even1)\n",
    "set_of_even.add(12)\n",
    "# set_of_even2.[8].append('zain') Not vaild\n",
    "print(set_of_even)"
   ]
  },
  {
   "cell_type": "code",
   "execution_count": 38,
   "metadata": {},
   "outputs": [
    {
     "name": "stdout",
     "output_type": "stream",
     "text": [
      "0:id\n",
      "1:name\n",
      "2:course\n",
      "{'id': '1', 'name': 'ali', 'course': 'computer science'}\n"
     ]
    }
   ],
   "source": [
    "from typing import Dict,Optional\n",
    "keys : list[str] = ['id','name','course']\n",
    "values : list[str] = ['1','ali','computer science']\n",
    "data : Dict[str,Optional[str]] = {}\n",
    "data = data.fromkeys(keys)\n",
    "for index,key in enumerate(data.keys()):\n",
    "   data[key]=values[index]\n",
    "   print(f\"{index}:{key}\")\n",
    "print(data)"
   ]
  },
  {
   "cell_type": "markdown",
   "metadata": {},
   "source": [
    "Yes, you're absolutely correct! Let me summarize it clearly:\n",
    "\n",
    "---\n",
    "\n",
    "### **1. `cdeDataType` (Variable Name):**\n",
    "- This is the **variable name** that holds the `TypedDict` type.\n",
    "- You use this name in your code to refer to the `TypedDict` type.\n",
    "- Example:\n",
    "  ```python\n",
    "  cdeDataType = TypedDict(...)\n",
    "  data: cdeDataType = {\"one\": \"Hello\", \"two\": \"World\"}\n",
    "  ```\n",
    "\n",
    "---\n",
    "\n",
    "### **2. `'CDEDataType'` (Internal Name):**\n",
    "- This is the **internal name** of the `TypedDict`, passed as a string to the `TypedDict` constructor.\n",
    "- It is used for **debugging, introspection, and documentation**.\n",
    "- Example:\n",
    "  ```python\n",
    "  cdeDataType = TypedDict(\n",
    "      'CDEDataType',  # Internal name\n",
    "      {\n",
    "          \"one\": str,\n",
    "          \"two\": str\n",
    "      }\n",
    "  )\n",
    "  ```\n",
    "\n",
    "---\n",
    "\n",
    "### **Why Are Both Needed?**\n",
    "\n",
    "1. **Variable Name (`cdeDataType`):**\n",
    "   - This is what you use in your code to refer to the `TypedDict` type.\n",
    "   - It is the **practical reference** for working with the type.\n",
    "\n",
    "2. **Internal Name (`'CDEDataType'`):**\n",
    "   - This is used internally by Python for **debugging, introspection, and type checking**.\n",
    "   - It helps tools like `mypy` and IDEs provide meaningful information about the type.\n",
    "\n",
    "---\n",
    "\n",
    "### **Example to Show the Difference:**\n",
    "\n",
    "```python\n",
    "from typing import TypedDict\n",
    "\n",
    "# Define the TypedDict\n",
    "cdeDataType = TypedDict(\n",
    "    'CDEDataType',  # Internal name\n",
    "    {\n",
    "        \"one\": str,\n",
    "        \"two\": str\n",
    "    }\n",
    ")\n",
    "\n",
    "# Use the TypedDict\n",
    "data: cdeDataType = {\n",
    "    \"one\": \"Hello\",\n",
    "    \"two\": \"World\"\n",
    "}\n",
    "\n",
    "# Inspect the type\n",
    "print(type(data).__name__)  # Output: CDEDataType (internal name)\n",
    "print(cdeDataType.__name__)  # Output: CDEDataType (internal name)\n",
    "```\n",
    "\n",
    "---\n",
    "\n",
    "### **Key Points:**\n",
    "\n",
    "- **Variable Name (`cdeDataType`):**\n",
    "  - Used in your code to refer to the `TypedDict` type.\n",
    "  - Example: `data: cdeDataType = {...}`\n",
    "\n",
    "- **Internal Name (`'CDEDataType'`):**\n",
    "  - Used internally by Python for debugging, introspection, and type checking.\n",
    "  - Example: `print(cdeDataType.__name__)` outputs `CDEDataType`.\n",
    "\n",
    "---\n",
    "\n",
    "### **Why Not Just Use One?**\n",
    "\n",
    "- The **variable name** is for **your code**—it’s how you refer to the type.\n",
    "- The **internal name** is for **Python and tools**—it’s how the type is represented internally.\n",
    "\n",
    "---\n",
    "\n",
    "### **Summary:**\n",
    "\n",
    "| **Aspect**            | **Variable Name (`cdeDataType`)**       | **Internal Name (`'CDEDataType'`)**       |\n",
    "|------------------------|-----------------------------------------|-------------------------------------------|\n",
    "| **Purpose**            | Used in your code to refer to the type. | Used internally for debugging and tools.  |\n",
    "| **Example**            | `data: cdeDataType = {...}`             | `print(cdeDataType.__name__)`             |\n",
    "| **Required?**          | Yes, to use the type in your code.      | Yes, to define the type internally.       |\n",
    "\n"
   ]
  },
  {
   "cell_type": "code",
   "execution_count": 47,
   "metadata": {},
   "outputs": [
    {
     "name": "stdout",
     "output_type": "stream",
     "text": [
      "math\n"
     ]
    }
   ],
   "source": [
    "from typing import  TypedDict, Tuple, Set, List\n",
    "import pprint\n",
    "\n",
    "cdeDataType = TypedDict(\n",
    "    'CDEDataType',\n",
    "    {\n",
    "        \"one\": str,\n",
    "        \"two\": str\n",
    "    }\n",
    ")\n",
    "\n",
    "myDataType = TypedDict(\n",
    "    'MyDataType', { \n",
    "        \"name\": str, \n",
    "        'education': cdeDataType\n",
    "    }\n",
    ")\n",
    "data:myDataType   = {\n",
    "     'name': 'arman',\n",
    "    \"education\": {\"one\": \"math\", 'two': 'state'}\n",
    "}\n",
    "\n",
    "print(data['education']['one'])"
   ]
  },
  {
   "cell_type": "code",
   "execution_count": 41,
   "metadata": {},
   "outputs": [
    {
     "name": "stdout",
     "output_type": "stream",
     "text": [
      "{'one': 'Math', 'two': 'State'}\n",
      "{'one': 'Math', 'two': 'State'}\n"
     ]
    }
   ],
   "source": [
    "# Using Class Syntax\n",
    "class CDEDataType(TypedDict):\n",
    "    one: str\n",
    "    two: str\n",
    "\n",
    "# Using Constructor Syntax\n",
    "cdeDataType = TypedDict(\n",
    "    'CDEDataType',\n",
    "    {\n",
    "        \"one\": str,\n",
    "        \"two\": str\n",
    "    }\n",
    ")\n",
    "\n",
    "# Create an instance of each type\n",
    "data_class = CDEDataType(one='Math', two='State')\n",
    "data_constructor = cdeDataType(one='Math', two='State')\n",
    "\n",
    "print(data_class)\n",
    "print(data_constructor)\n"
   ]
  },
  {
   "cell_type": "code",
   "execution_count": 44,
   "metadata": {},
   "outputs": [],
   "source": [
    "\n",
    "cdeDataType = TypedDict(\n",
    "    'CDEDataType',\n",
    "    {\n",
    "        \"one\": str,\n",
    "        \"two\": str\n",
    "    }\n",
    ")"
   ]
  },
  {
   "cell_type": "code",
   "execution_count": 46,
   "metadata": {},
   "outputs": [],
   "source": [
    "# Valid dictionary\n",
    "data1: cdeDataType = {\n",
    "    \"one\": \"Hello\",\n",
    "    \"two\": \"World\"\n",
    "}\n",
    "\n",
    "# Invalid dictionary (will cause type errors if checked)\n",
    "data2: cdeDataType = {\n",
    "    \"one\": 123,  # Error: \"one\" should be a string, not an integer\n",
    "    \"two\": \"World\"\n",
    "}"
   ]
  },
  {
   "cell_type": "code",
   "execution_count": 49,
   "metadata": {},
   "outputs": [
    {
     "name": "stdout",
     "output_type": "stream",
     "text": [
      "{2: 'two', 3: 'three'}\n",
      "{2: 'two', 4: 'four'}\n"
     ]
    }
   ],
   "source": [
    "from typing import Dict\n",
    "counting:Dict[int,str] = {1:'one',2:'two',3:'three'}\n",
    "counting.pop(1) # Removes the element with the specified key.\n",
    "print(counting)\n",
    "counting.popitem() # Removes the last inserted key-value pair.\n",
    "# Returns the value of the specified key. If the key \n",
    "# does not exist, insert the key, with the specified value.\n",
    "counting.setdefault(4,'four')\n",
    "print(counting)\n",
    " "
   ]
  },
  {
   "cell_type": "code",
   "execution_count": null,
   "metadata": {},
   "outputs": [
    {
     "name": "stdout",
     "output_type": "stream",
     "text": [
      "[2, 3, 4, 44]\n"
     ]
    }
   ],
   "source": []
  },
  {
   "cell_type": "code",
   "execution_count": null,
   "metadata": {},
   "outputs": [
    {
     "name": "stdout",
     "output_type": "stream",
     "text": [
      "['a', 'a', 'A', 'b', 'B', 'C', 'D', 'E', 'F']\n",
      "['A', 'B', 'C', 'D', 'E', 'F', 'a', 'a', 'b']\n"
     ]
    }
   ],
   "source": []
  },
  {
   "cell_type": "code",
   "execution_count": null,
   "metadata": {},
   "outputs": [
    {
     "name": "stdout",
     "output_type": "stream",
     "text": [
      "['A', 'B', 'C', 'D', 'E', 'F', 'a', 'a', 'b']\n",
      "['a', 'b', 'a', 'A', 'B', 'C', 'D', 'E', 'F']\n"
     ]
    }
   ],
   "source": []
  },
  {
   "cell_type": "code",
   "execution_count": null,
   "metadata": {},
   "outputs": [
    {
     "name": "stdout",
     "output_type": "stream",
     "text": [
      "a\n",
      "b\n",
      "c\n",
      "e\n"
     ]
    }
   ],
   "source": []
  },
  {
   "cell_type": "code",
   "execution_count": null,
   "metadata": {},
   "outputs": [
    {
     "name": "stdout",
     "output_type": "stream",
     "text": [
      "a\n",
      "b\n",
      "c\n"
     ]
    }
   ],
   "source": []
  },
  {
   "cell_type": "code",
   "execution_count": null,
   "metadata": {},
   "outputs": [
    {
     "name": "stdout",
     "output_type": "stream",
     "text": [
      "1\n"
     ]
    }
   ],
   "source": []
  },
  {
   "cell_type": "code",
   "execution_count": null,
   "metadata": {},
   "outputs": [
    {
     "name": "stdout",
     "output_type": "stream",
     "text": [
      "20\n"
     ]
    }
   ],
   "source": []
  },
  {
   "cell_type": "code",
   "execution_count": null,
   "metadata": {},
   "outputs": [
    {
     "name": "stdout",
     "output_type": "stream",
     "text": [
      "2\n"
     ]
    }
   ],
   "source": []
  },
  {
   "cell_type": "code",
   "execution_count": null,
   "metadata": {},
   "outputs": [
    {
     "name": "stdout",
     "output_type": "stream",
     "text": [
      "first 0 and its memory location is 140711565269400\n",
      "second 1 and its memory location is 140711565269432\n",
      "third 1 and its memory location is 140711565269432\n"
     ]
    }
   ],
   "source": []
  },
  {
   "cell_type": "code",
   "execution_count": null,
   "metadata": {},
   "outputs": [
    {
     "name": "stdout",
     "output_type": "stream",
     "text": [
      "300\n"
     ]
    }
   ],
   "source": []
  },
  {
   "cell_type": "code",
   "execution_count": null,
   "metadata": {},
   "outputs": [
    {
     "name": "stdout",
     "output_type": "stream",
     "text": [
      "<function myfunc1.<locals>.myinnerfunc1 at 0x0000026AB7A5CCC0>\n",
      "myinnerfunc\n"
     ]
    }
   ],
   "source": []
  },
  {
   "cell_type": "code",
   "execution_count": null,
   "metadata": {},
   "outputs": [
    {
     "name": "stdout",
     "output_type": "stream",
     "text": [
      "['__add__', '__class__', '__contains__', '__delattr__', '__dir__', '__doc__', '__eq__', '__format__', '__ge__', '__getattribute__', '__getitem__', '__getnewargs__', '__getstate__', '__gt__', '__hash__', '__init__', '__init_subclass__', '__iter__', '__le__', '__len__', '__lt__', '__mod__', '__mul__', '__ne__', '__new__', '__reduce__', '__reduce_ex__', '__repr__', '__rmod__', '__rmul__', '__setattr__', '__sizeof__', '__str__', '__subclasshook__', 'capitalize', 'casefold', 'center', 'count', 'encode', 'endswith', 'expandtabs', 'find', 'format', 'format_map', 'index', 'isalnum', 'isalpha', 'isascii', 'isdecimal', 'isdigit', 'isidentifier', 'islower', 'isnumeric', 'isprintable', 'isspace', 'istitle', 'isupper', 'join', 'ljust', 'lower', 'lstrip', 'maketrans', 'partition', 'removeprefix', 'removesuffix', 'replace', 'rfind', 'rindex', 'rjust', 'rpartition', 'rsplit', 'rstrip', 'split', 'splitlines', 'startswith', 'strip', 'swapcase', 'title', 'translate', 'upper', 'zfill']\n",
      "2657311029312\n"
     ]
    }
   ],
   "source": []
  },
  {
   "cell_type": "code",
   "execution_count": null,
   "metadata": {},
   "outputs": [
    {
     "name": "stdout",
     "output_type": "stream",
     "text": [
      "1209381582912\n",
      "1209381582912\n",
      "1209381582912\n"
     ]
    }
   ],
   "source": []
  },
  {
   "cell_type": "code",
   "execution_count": null,
   "metadata": {},
   "outputs": [
    {
     "name": "stdout",
     "output_type": "stream",
     "text": [
      "1209433602928\n",
      "1209431897584\n",
      "1209433030304\n",
      "1209433019360\n"
     ]
    }
   ],
   "source": []
  },
  {
   "cell_type": "code",
   "execution_count": null,
   "metadata": {},
   "outputs": [
    {
     "name": "stdout",
     "output_type": "stream",
     "text": [
      "1209432800384\n",
      "1209432801152\n"
     ]
    }
   ],
   "source": []
  },
  {
   "cell_type": "code",
   "execution_count": null,
   "metadata": {},
   "outputs": [
    {
     "name": "stdout",
     "output_type": "stream",
     "text": [
      "1209431908528\n",
      "1209431909360\n"
     ]
    }
   ],
   "source": []
  },
  {
   "cell_type": "code",
   "execution_count": null,
   "metadata": {},
   "outputs": [
    {
     "name": "stdout",
     "output_type": "stream",
     "text": [
      "0\n",
      "1\n"
     ]
    }
   ],
   "source": []
  },
  {
   "cell_type": "code",
   "execution_count": null,
   "metadata": {},
   "outputs": [
    {
     "name": "stdout",
     "output_type": "stream",
     "text": [
      "2\n"
     ]
    }
   ],
   "source": []
  },
  {
   "cell_type": "code",
   "execution_count": null,
   "metadata": {},
   "outputs": [
    {
     "name": "stdout",
     "output_type": "stream",
     "text": [
      "3\n"
     ]
    }
   ],
   "source": []
  },
  {
   "cell_type": "code",
   "execution_count": null,
   "metadata": {},
   "outputs": [
    {
     "name": "stdout",
     "output_type": "stream",
     "text": [
      "calculated sum successfully and sum is 15.\n"
     ]
    }
   ],
   "source": []
  },
  {
   "cell_type": "code",
   "execution_count": null,
   "metadata": {},
   "outputs": [
    {
     "name": "stdout",
     "output_type": "stream",
     "text": [
      "Fetching user name... (this may take 2 seconds)\n",
      "Fetching user name... (this may take 2 seconds)\n",
      "Validating user name... (this may take another 2 seconds)\n",
      "Validating user name... (this may take another 2 seconds)\n",
      "User name 'Arman' is valid.\n",
      "User name 'Arman' is valid.\n",
      "Total time taken: 4.02 seconds\n"
     ]
    }
   ],
   "source": []
  },
  {
   "cell_type": "code",
   "execution_count": null,
   "metadata": {},
   "outputs": [
    {
     "name": "stdout",
     "output_type": "stream",
     "text": [
      "Fetching user name... (this may take 2 seconds)\n",
      "User name fetched: Arman\n",
      "Validating user name... (this may take another 2 seconds)\n",
      "User name 0 'Arman' is valid.\n",
      "Fetching user name... (this may take 2 seconds)\n",
      "User name fetched: Arman\n",
      "Validating user name... (this may take another 2 seconds)\n",
      "User name 1 'Arman' is valid.\n",
      "Total time taken: 8.00 seconds\n"
     ]
    }
   ],
   "source": []
  },
  {
   "cell_type": "code",
   "execution_count": null,
   "metadata": {},
   "outputs": [
    {
     "name": "stdout",
     "output_type": "stream",
     "text": [
      "List of1209431889856\n",
      "List of1209447850432 140710431300024\n"
     ]
    }
   ],
   "source": []
  },
  {
   "cell_type": "code",
   "execution_count": null,
   "metadata": {},
   "outputs": [
    {
     "name": "stdout",
     "output_type": "stream",
     "text": [
      "befor the yield we print the 3\n",
      "3\n"
     ]
    }
   ],
   "source": []
  },
  {
   "cell_type": "markdown",
   "metadata": {},
   "source": []
  },
  {
   "cell_type": "code",
   "execution_count": null,
   "metadata": {},
   "outputs": [],
   "source": []
  },
  {
   "cell_type": "code",
   "execution_count": null,
   "metadata": {},
   "outputs": [
    {
     "name": "stdout",
     "output_type": "stream",
     "text": [
      "4\n"
     ]
    }
   ],
   "source": []
  }
 ],
 "metadata": {
  "kernelspec": {
   "display_name": "Python 3",
   "language": "python",
   "name": "python3"
  },
  "language_info": {
   "codemirror_mode": {
    "name": "ipython",
    "version": 3
   },
   "file_extension": ".py",
   "mimetype": "text/x-python",
   "name": "python",
   "nbconvert_exporter": "python",
   "pygments_lexer": "ipython3",
   "version": "3.12.3"
  }
 },
 "nbformat": 4,
 "nbformat_minor": 2
}
