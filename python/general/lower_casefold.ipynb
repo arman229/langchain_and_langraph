{
 "cells": [
  {
   "cell_type": "code",
   "execution_count": 5,
   "metadata": {},
   "outputs": [
    {
     "name": "stdout",
     "output_type": "stream",
     "text": [
      "ße\n",
      "sse\n"
     ]
    }
   ],
   "source": [
    "text1 = \"ße\"  # German word for \"street\"\n",
    "print(text1.lower())    # Output: 'straße'\n",
    "print(text1.casefold())  # Output: 'strasse'\n"
   ]
  },
  {
   "cell_type": "code",
   "execution_count": 4,
   "metadata": {},
   "outputs": [
    {
     "name": "stdout",
     "output_type": "stream",
     "text": [
      "lower() comparison: False\n",
      "casefold() comparison: True\n"
     ]
    }
   ],
   "source": [
    "text4 = \"straße\"\n",
    "text5 = \"strasse\"\n",
    "\n",
    "print(\"lower() comparison:\", text4.lower() == text5.lower())   # Output: False\n",
    "print(\"casefold() comparison:\", text4.casefold() == text5.casefold())  # Output: True\n"
   ]
  }
 ],
 "metadata": {
  "kernelspec": {
   "display_name": "Python 3",
   "language": "python",
   "name": "python3"
  },
  "language_info": {
   "codemirror_mode": {
    "name": "ipython",
    "version": 3
   },
   "file_extension": ".py",
   "mimetype": "text/x-python",
   "name": "python",
   "nbconvert_exporter": "python",
   "pygments_lexer": "ipython3",
   "version": "3.12.3"
  }
 },
 "nbformat": 4,
 "nbformat_minor": 2
}
