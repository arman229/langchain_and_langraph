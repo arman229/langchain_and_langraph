{
 "cells": [
  {
   "cell_type": "code",
   "execution_count": 1,
   "metadata": {},
   "outputs": [
    {
     "name": "stdout",
     "output_type": "stream",
     "text": [
      "hi\n"
     ]
    }
   ],
   "source": [
    "import subprocess\n",
    "\n",
    "# Define the input and output file paths\n",
    "input_file = \"input_video.mpg\"\n",
    "output_file = \"output_video.mp4\"\n",
    "\n",
    "# FFmpeg command to convert .mpg to .mp4\n",
    "ffmpeg_command = [\n",
    "    'ffmpeg', '-i', input_file, '-vcodec', 'libx264', '-acodec', 'aac', output_file\n",
    "]\n",
    "\n",
    "# Run the FFmpeg command\n",
    "subprocess.run(ffmpeg_command)\n",
    "\n",
    "print(f\"Conversion complete: {input_file} to {output_file}\")\n"
   ]
  },
  {
   "cell_type": "code",
   "execution_count": null,
   "metadata": {},
   "outputs": [],
   "source": [
    "from PyPDF2 import PdfReader, PdfWriter\n",
    "\n",
    "def combine_pdfs(pdf1_path, pdf2_path, output_path):\n",
    "    \"\"\"\n",
    "    Combines two PDFs into a single file.\n",
    "\n",
    "    Parameters:\n",
    "    - pdf1_path: Path to the first PDF file.\n",
    "    - pdf2_path: Path to the second PDF file.\n",
    "    - output_path: Path to save the combined PDF.\n",
    "    \"\"\"\n",
    "    # Create a PDF writer\n",
    "    pdf_writer = PdfWriter()\n",
    "\n",
    "    # Read and add pages from the first PDF\n",
    "    pdf1_reader = PdfReader(pdf1_path)\n",
    "    for page in pdf1_reader.pages:\n",
    "        pdf_writer.add_page(page)\n",
    "\n",
    "    # Read and add pages from the second PDF\n",
    "    pdf2_reader = PdfReader(pdf2_path)\n",
    "    for page in pdf2_reader.pages:\n",
    "        pdf_writer.add_page(page)\n",
    "\n",
    "    # Write the combined PDF to the output file\n",
    "    with open(output_path, \"wb\") as output_file:\n",
    "        pdf_writer.write(output_file)\n",
    "\n",
    "# Example usage\n",
    "pdf1_path = \"path/to/first.pdf\"  # Replace with your first PDF file path\n",
    "pdf2_path = \"path/to/second.pdf\"  # Replace with your second PDF file path\n",
    "output_path = \"path/to/combined.pdf\"  # Replace with your desired output path\n",
    "\n",
    "combine_pdfs(pdf1_path, pdf2_path, output_path)\n",
    "\n",
    "print(f\"Combined PDF saved at: {output_path}\")\n"
   ]
  }
 ],
 "metadata": {
  "kernelspec": {
   "display_name": "Python 3",
   "language": "python",
   "name": "python3"
  },
  "language_info": {
   "codemirror_mode": {
    "name": "ipython",
    "version": 3
   },
   "file_extension": ".py",
   "mimetype": "text/x-python",
   "name": "python",
   "nbconvert_exporter": "python",
   "pygments_lexer": "ipython3",
   "version": "3.12.3"
  }
 },
 "nbformat": 4,
 "nbformat_minor": 2
}
