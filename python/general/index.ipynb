{
 "cells": [
  {
   "cell_type": "code",
   "execution_count": 2,
   "metadata": {},
   "outputs": [
    {
     "name": "stdout",
     "output_type": "stream",
     "text": [
      "Hello, ali! Welcome to Python learning\n"
     ]
    }
   ],
   "source": [
    "try:\n",
    "    user_name:str = input('please Enter your name')\n",
    "    if not user_name:\n",
    "        raise ValueError(\"input cannot be empty\")\n",
    "    print(f\"Hello, {user_name}! Welcome to Python learning\")  \n",
    "except ValueError as ve:\n",
    "  print(f\"Error : {ve}\")\n",
    "except Exception as e:\n",
    "  print(f\"General Error: {e}\")"
   ]
  },
  {
   "cell_type": "code",
   "execution_count": null,
   "metadata": {},
   "outputs": [],
   "source": []
  },
  {
   "cell_type": "code",
   "execution_count": 8,
   "metadata": {},
   "outputs": [
    {
     "name": "stdout",
     "output_type": "stream",
     "text": [
      "[2, 3, 4, 44]\n"
     ]
    }
   ],
   "source": [
    "list = [44,2,4,3]\n",
    "list_sort =list.sort()\n",
    "print(list)"
   ]
  },
  {
   "cell_type": "code",
   "execution_count": 10,
   "metadata": {},
   "outputs": [
    {
     "name": "stdout",
     "output_type": "stream",
     "text": [
      "['a', 'a', 'A', 'b', 'B', 'C', 'D', 'E', 'F']\n",
      "['A', 'B', 'C', 'D', 'E', 'F', 'a', 'a', 'b']\n"
     ]
    }
   ],
   "source": [
    "#Note sort method only compare numberts or char not both at the same time \n",
    "# sort method by default compare the Capital letters first if we compare small letter first we can also copare this like\n",
    "\n",
    "list_1 = [\"a\",\"b\",\"a\",\"A\", \"B\", \"C\", \"D\", \"E\", \"F\", ]\n",
    "list_sort =list_1.sort(key=str.lower)\n",
    "print(list_1)\n",
    "\n",
    "list_2 = [\"a\",\"b\",\"a\",\"A\", \"B\", \"C\", \"D\", \"E\", \"F\", ]\n",
    "list_sort =list_2.sort()\n",
    "print(list_2)"
   ]
  },
  {
   "cell_type": "code",
   "execution_count": 12,
   "metadata": {},
   "outputs": [
    {
     "name": "stdout",
     "output_type": "stream",
     "text": [
      "['A', 'B', 'C', 'D', 'E', 'F', 'a', 'a', 'b']\n",
      "['a', 'b', 'a', 'A', 'B', 'C', 'D', 'E', 'F']\n"
     ]
    }
   ],
   "source": [
    "# sort change the original list we can overcome this problem by using the sorted method\n",
    "list_3 = [\"a\",\"b\",\"a\",\"A\", \"B\", \"C\", \"D\", \"E\", \"F\", ]\n",
    "list_sort =sorted(list_3)\n",
    "print(list_sort)\n",
    "print(list_3)"
   ]
  }
 ],
 "metadata": {
  "kernelspec": {
   "display_name": "Python 3",
   "language": "python",
   "name": "python3"
  },
  "language_info": {
   "codemirror_mode": {
    "name": "ipython",
    "version": 3
   },
   "file_extension": ".py",
   "mimetype": "text/x-python",
   "name": "python",
   "nbconvert_exporter": "python",
   "pygments_lexer": "ipython3",
   "version": "3.12.3"
  }
 },
 "nbformat": 4,
 "nbformat_minor": 2
}
