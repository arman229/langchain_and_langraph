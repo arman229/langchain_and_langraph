{
 "cells": [
  {
   "cell_type": "code",
   "execution_count": 2,
   "metadata": {},
   "outputs": [
    {
     "name": "stdout",
     "output_type": "stream",
     "text": [
      "Hello, ali! Welcome to Python learning\n"
     ]
    }
   ],
   "source": [
    "try:\n",
    "    user_name:str = input('please Enter your name')\n",
    "    if not user_name:\n",
    "        raise ValueError(\"input cannot be empty\")\n",
    "    print(f\"Hello, {user_name}! Welcome to Python learning\")  \n",
    "except ValueError as ve:\n",
    "  print(f\"Error : {ve}\")\n",
    "except Exception as e:\n",
    "  print(f\"General Error: {e}\")"
   ]
  },
  {
   "cell_type": "code",
   "execution_count": null,
   "metadata": {},
   "outputs": [],
   "source": []
  },
  {
   "cell_type": "code",
   "execution_count": 8,
   "metadata": {},
   "outputs": [
    {
     "name": "stdout",
     "output_type": "stream",
     "text": [
      "[2, 3, 4, 44]\n"
     ]
    }
   ],
   "source": [
    "list = [44,2,4,3]\n",
    "list_sort =list.sort()\n",
    "print(list)"
   ]
  },
  {
   "cell_type": "code",
   "execution_count": 10,
   "metadata": {},
   "outputs": [
    {
     "name": "stdout",
     "output_type": "stream",
     "text": [
      "['a', 'a', 'A', 'b', 'B', 'C', 'D', 'E', 'F']\n",
      "['A', 'B', 'C', 'D', 'E', 'F', 'a', 'a', 'b']\n"
     ]
    }
   ],
   "source": [
    "#Note sort method only compare numberts or char not both at the same time \n",
    "# sort method by default compare the Capital letters first if we compare small letter first we can also copare this like\n",
    "\n",
    "list_1 = [\"a\",\"b\",\"a\",\"A\", \"B\", \"C\", \"D\", \"E\", \"F\", ]\n",
    "list_sort =list_1.sort(key=str.lower)\n",
    "print(list_1)\n",
    "\n",
    "list_2 = [\"a\",\"b\",\"a\",\"A\", \"B\", \"C\", \"D\", \"E\", \"F\", ]\n",
    "list_sort =list_2.sort()\n",
    "print(list_2)"
   ]
  },
  {
   "cell_type": "code",
   "execution_count": 12,
   "metadata": {},
   "outputs": [
    {
     "name": "stdout",
     "output_type": "stream",
     "text": [
      "['A', 'B', 'C', 'D', 'E', 'F', 'a', 'a', 'b']\n",
      "['a', 'b', 'a', 'A', 'B', 'C', 'D', 'E', 'F']\n"
     ]
    }
   ],
   "source": [
    "# sort change the original list we can overcome this problem by using the sorted method\n",
    "list_3 = [\"a\",\"b\",\"a\",\"A\", \"B\", \"C\", \"D\", \"E\", \"F\", ]\n",
    "list_sort =sorted(list_3)\n",
    "print(list_sort)\n",
    "print(list_3)"
   ]
  },
  {
   "cell_type": "code",
   "execution_count": 6,
   "metadata": {},
   "outputs": [
    {
     "name": "stdout",
     "output_type": "stream",
     "text": [
      "a\n",
      "b\n",
      "c\n",
      "d\n",
      "e\n"
     ]
    }
   ],
   "source": [
    "items = ['a', 'b', 'c', 'd', 'e']\n",
    "for i in items:\n",
    "    if i =='d':\n",
    "        continue\n",
    "    print(i)"
   ]
  },
  {
   "cell_type": "code",
   "execution_count": 7,
   "metadata": {},
   "outputs": [
    {
     "name": "stdout",
     "output_type": "stream",
     "text": [
      "a\n",
      "b\n",
      "c\n"
     ]
    }
   ],
   "source": [
    "items = ['a', 'b', 'c', 'd', 'e']\n",
    "for i in items:\n",
    "    if i =='d':\n",
    "        break\n",
    "    print(i)"
   ]
  },
  {
   "cell_type": "code",
   "execution_count": 6,
   "metadata": {},
   "outputs": [
    {
     "ename": "SyntaxError",
     "evalue": "unterminated string literal (detected at line 2) (2831095830.py, line 2)",
     "output_type": "error",
     "traceback": [
      "\u001b[1;36m  Cell \u001b[1;32mIn[6], line 2\u001b[1;36m\u001b[0m\n\u001b[1;33m    'my name is arman\u001b[0m\n\u001b[1;37m    ^\u001b[0m\n\u001b[1;31mSyntaxError\u001b[0m\u001b[1;31m:\u001b[0m unterminated string literal (detected at line 2)\n"
     ]
    }
   ],
   "source": [
    "you are helpful chatbot assistant your task is to answerthe user queston from the context \n",
    "\n",
    "context: my name is arman, current prime misister of paksitan is imran khan\n",
    " \n",
    " user Question: who won the 2018 election "
   ]
  },
  {
   "cell_type": "code",
   "execution_count": 5,
   "metadata": {},
   "outputs": [
    {
     "ename": "UnboundLocalError",
     "evalue": "cannot access local variable 'count' where it is not associated with a value",
     "output_type": "error",
     "traceback": [
      "\u001b[1;31m---------------------------------------------------------------------------\u001b[0m",
      "\u001b[1;31mUnboundLocalError\u001b[0m                         Traceback (most recent call last)",
      "Cell \u001b[1;32mIn[5], line 8\u001b[0m\n\u001b[0;32m      6\u001b[0m         \u001b[38;5;28mprint\u001b[39m(count) \n\u001b[0;32m      7\u001b[0m     increment() \n\u001b[1;32m----> 8\u001b[0m \u001b[43mcount\u001b[49m\u001b[43m(\u001b[49m\u001b[43m)\u001b[49m\n",
      "Cell \u001b[1;32mIn[5], line 7\u001b[0m, in \u001b[0;36mcount\u001b[1;34m()\u001b[0m\n\u001b[0;32m      5\u001b[0m     count \u001b[38;5;241m=\u001b[39m count \u001b[38;5;241m+\u001b[39m \u001b[38;5;241m1\u001b[39m \n\u001b[0;32m      6\u001b[0m     \u001b[38;5;28mprint\u001b[39m(count) \n\u001b[1;32m----> 7\u001b[0m \u001b[43mincrement\u001b[49m\u001b[43m(\u001b[49m\u001b[43m)\u001b[49m\n",
      "Cell \u001b[1;32mIn[5], line 5\u001b[0m, in \u001b[0;36mcount.<locals>.increment\u001b[1;34m()\u001b[0m\n\u001b[0;32m      3\u001b[0m \u001b[38;5;28;01mdef\u001b[39;00m \u001b[38;5;21mincrement\u001b[39m(): \n\u001b[1;32m----> 5\u001b[0m     count \u001b[38;5;241m=\u001b[39m \u001b[43mcount\u001b[49m \u001b[38;5;241m+\u001b[39m \u001b[38;5;241m1\u001b[39m \n\u001b[0;32m      6\u001b[0m     \u001b[38;5;28mprint\u001b[39m(count)\n",
      "\u001b[1;31mUnboundLocalError\u001b[0m: cannot access local variable 'count' where it is not associated with a value"
     ]
    }
   ],
   "source": [
    "# Nested Function\n",
    "#Note: If you want to access a variable defined in the outer\n",
    "# function from the inner function, you first need to\n",
    "# declare it as nonlocal :\n",
    "def count(): \n",
    "    count = 0 \n",
    "    def increment(): \n",
    "        nonlocal count \n",
    "        count = count + 1 \n",
    "        print(count) \n",
    "    increment() \n",
    "count()"
   ]
  }
 ],
 "metadata": {
  "kernelspec": {
   "display_name": "Python 3",
   "language": "python",
   "name": "python3"
  },
  "language_info": {
   "codemirror_mode": {
    "name": "ipython",
    "version": 3
   },
   "file_extension": ".py",
   "mimetype": "text/x-python",
   "name": "python",
   "nbconvert_exporter": "python",
   "pygments_lexer": "ipython3",
   "version": "3.12.3"
  }
 },
 "nbformat": 4,
 "nbformat_minor": 2
}
