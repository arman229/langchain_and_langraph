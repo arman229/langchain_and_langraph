{
 "cells": [
  {
   "cell_type": "code",
   "execution_count": 2,
   "metadata": {},
   "outputs": [
    {
     "name": "stdout",
     "output_type": "stream",
     "text": [
      "Hello, ali! Welcome to Python learning\n"
     ]
    }
   ],
   "source": [
    "try:\n",
    "    user_name:str = input('please Enter your name')\n",
    "    if not user_name:\n",
    "        raise ValueError(\"input cannot be empty\")\n",
    "    print(f\"Hello, {user_name}! Welcome to Python learning\")  \n",
    "except ValueError as ve:\n",
    "  print(f\"Error : {ve}\")\n",
    "except Exception as e:\n",
    "  print(f\"General Error: {e}\")"
   ]
  },
  {
   "cell_type": "code",
   "execution_count": null,
   "metadata": {},
   "outputs": [],
   "source": []
  },
  {
   "cell_type": "code",
   "execution_count": 8,
   "metadata": {},
   "outputs": [
    {
     "name": "stdout",
     "output_type": "stream",
     "text": [
      "[2, 3, 4, 44]\n"
     ]
    }
   ],
   "source": [
    "list = [44,2,4,3]\n",
    "list_sort =list.sort()\n",
    "print(list)"
   ]
  },
  {
   "cell_type": "code",
   "execution_count": 10,
   "metadata": {},
   "outputs": [
    {
     "name": "stdout",
     "output_type": "stream",
     "text": [
      "['a', 'a', 'A', 'b', 'B', 'C', 'D', 'E', 'F']\n",
      "['A', 'B', 'C', 'D', 'E', 'F', 'a', 'a', 'b']\n"
     ]
    }
   ],
   "source": [
    "#Note sort method only compare numberts or char not both at the same time \n",
    "# sort method by default compare the Capital letters first if we compare small letter first we can also copare this like\n",
    "\n",
    "list_1 = [\"a\",\"b\",\"a\",\"A\", \"B\", \"C\", \"D\", \"E\", \"F\", ]\n",
    "list_sort =list_1.sort(key=str.lower)\n",
    "print(list_1)\n",
    "\n",
    "list_2 = [\"a\",\"b\",\"a\",\"A\", \"B\", \"C\", \"D\", \"E\", \"F\", ]\n",
    "list_sort =list_2.sort()\n",
    "print(list_2)"
   ]
  },
  {
   "cell_type": "code",
   "execution_count": 12,
   "metadata": {},
   "outputs": [
    {
     "name": "stdout",
     "output_type": "stream",
     "text": [
      "['A', 'B', 'C', 'D', 'E', 'F', 'a', 'a', 'b']\n",
      "['a', 'b', 'a', 'A', 'B', 'C', 'D', 'E', 'F']\n"
     ]
    }
   ],
   "source": [
    "# sort change the original list we can overcome this problem by using the sorted method\n",
    "list_3 = [\"a\",\"b\",\"a\",\"A\", \"B\", \"C\", \"D\", \"E\", \"F\", ]\n",
    "list_sort =sorted(list_3)\n",
    "print(list_sort)\n",
    "print(list_3)"
   ]
  },
  {
   "cell_type": "code",
   "execution_count": 1,
   "metadata": {},
   "outputs": [
    {
     "name": "stdout",
     "output_type": "stream",
     "text": [
      "a\n",
      "b\n",
      "c\n",
      "e\n"
     ]
    }
   ],
   "source": [
    "items = ['a', 'b', 'c', 'd', 'e']\n",
    "for i in items:\n",
    "    \n",
    "    if i =='d':\n",
    "        continue\n",
    "        print(\"hello\")\n",
    "    print(i)\n",
    "print(\"Eww\")\n",
    "    "
   ]
  },
  {
   "cell_type": "code",
   "execution_count": 7,
   "metadata": {},
   "outputs": [
    {
     "name": "stdout",
     "output_type": "stream",
     "text": [
      "a\n",
      "b\n",
      "c\n"
     ]
    }
   ],
   "source": [
    "items = ['a', 'b', 'c', 'd', 'e']\n",
    "for i in items:\n",
    "    if i =='d':\n",
    "        break\n",
    "    print(i)"
   ]
  },
  {
   "cell_type": "code",
   "execution_count": 1,
   "metadata": {},
   "outputs": [
    {
     "name": "stdout",
     "output_type": "stream",
     "text": [
      "1\n"
     ]
    }
   ],
   "source": [
    "# Nested Function\n",
    "#Note: If you want to access a variable defined in the outer\n",
    "# function from the inner function, you first need to\n",
    "# declare it as nonlocal :\n",
    "def count(): \n",
    "    count = 0 \n",
    "    def increment(): \n",
    "        nonlocal count \n",
    "        count = count + 1 \n",
    "        print(count) \n",
    "    increment() \n",
    "count()"
   ]
  },
  {
   "cell_type": "code",
   "execution_count": 24,
   "metadata": {},
   "outputs": [
    {
     "name": "stdout",
     "output_type": "stream",
     "text": [
      "20\n"
     ]
    }
   ],
   "source": [
    "counts = 20 \n",
    "def count(): \n",
    " \n",
    "    countss = counts + 1 \n",
    "    def increment(): \n",
    "        print(counts) \n",
    "  \n",
    "    increment() \n",
    "count()"
   ]
  },
  {
   "cell_type": "code",
   "execution_count": 30,
   "metadata": {},
   "outputs": [
    {
     "name": "stdout",
     "output_type": "stream",
     "text": [
      "2\n"
     ]
    }
   ],
   "source": [
    "def countss(): \n",
    "    count = 0 \n",
    "    def increment(): \n",
    " \n",
    "        counts = count +2\n",
    "        print(counts) \n",
    "    increment() \n",
    "countss()"
   ]
  },
  {
   "cell_type": "code",
   "execution_count": 34,
   "metadata": {},
   "outputs": [
    {
     "name": "stdout",
     "output_type": "stream",
     "text": [
      "first 0 and its memory location is 140711565269400\n",
      "second 1 and its memory location is 140711565269432\n",
      "third 1 and its memory location is 140711565269432\n"
     ]
    }
   ],
   "source": [
    "def count(): \n",
    "    count = 0 \n",
    "    print(f\"first {count} and its memory location is {id(count)}\")\n",
    "    def increment(): \n",
    "        nonlocal count \n",
    "        count = count + 1 \n",
    "        print(f\"second {count} and its memory location is {id(count)}\")\n",
    "        \n",
    "  \n",
    "    increment() \n",
    "    print(f\"third {count} and its memory location is {id(count)}\")\n",
    "count() \n",
    "  "
   ]
  },
  {
   "cell_type": "code",
   "execution_count": 8,
   "metadata": {},
   "outputs": [
    {
     "name": "stdout",
     "output_type": "stream",
     "text": [
      "300\n"
     ]
    }
   ],
   "source": [
    "def myfunc():\n",
    "  x = 300\n",
    "  def myinnerfunc():\n",
    "    print(x)\n",
    "  myinnerfunc()\n",
    "\n",
    "myfunc()\n"
   ]
  },
  {
   "cell_type": "code",
   "execution_count": 42,
   "metadata": {},
   "outputs": [
    {
     "name": "stdout",
     "output_type": "stream",
     "text": [
      "<function myfunc1.<locals>.myinnerfunc1 at 0x0000026AB7A5CCC0>\n",
      "myinnerfunc\n"
     ]
    }
   ],
   "source": [
    "def myfunc1(): \n",
    "  def myinnerfunc1():\n",
    "    print(\"myinnerfunc\")\n",
    "  return myinnerfunc1\n",
    "\n",
    "print(myfunc1())\n",
    "def myfunc(): \n",
    "  def myinnerfunc():\n",
    "    print(\"myinnerfunc\")\n",
    "  return myinnerfunc\n",
    "\n",
    "myfunc()()\n"
   ]
  },
  {
   "cell_type": "code",
   "execution_count": 44,
   "metadata": {},
   "outputs": [
    {
     "name": "stdout",
     "output_type": "stream",
     "text": [
      "['__add__', '__class__', '__contains__', '__delattr__', '__dir__', '__doc__', '__eq__', '__format__', '__ge__', '__getattribute__', '__getitem__', '__getnewargs__', '__getstate__', '__gt__', '__hash__', '__init__', '__init_subclass__', '__iter__', '__le__', '__len__', '__lt__', '__mod__', '__mul__', '__ne__', '__new__', '__reduce__', '__reduce_ex__', '__repr__', '__rmod__', '__rmul__', '__setattr__', '__sizeof__', '__str__', '__subclasshook__', 'capitalize', 'casefold', 'center', 'count', 'encode', 'endswith', 'expandtabs', 'find', 'format', 'format_map', 'index', 'isalnum', 'isalpha', 'isascii', 'isdecimal', 'isdigit', 'isidentifier', 'islower', 'isnumeric', 'isprintable', 'isspace', 'istitle', 'isupper', 'join', 'ljust', 'lower', 'lstrip', 'maketrans', 'partition', 'removeprefix', 'removesuffix', 'replace', 'rfind', 'rindex', 'rjust', 'rpartition', 'rsplit', 'rstrip', 'split', 'splitlines', 'startswith', 'strip', 'swapcase', 'title', 'translate', 'upper', 'zfill']\n",
      "2657311029312\n"
     ]
    }
   ],
   "source": [
    "name = 'arman'\n",
    "print(dir(name))\n",
    "print(id(name)) "
   ]
  },
  {
   "cell_type": "code",
   "execution_count": 9,
   "metadata": {},
   "outputs": [
    {
     "name": "stdout",
     "output_type": "stream",
     "text": [
      "1209381582912\n",
      "1209381582912\n",
      "1209381582912\n"
     ]
    }
   ],
   "source": [
    "my_name = 'arman'\n",
    "\n",
    "print(id(my_name))\n",
    "my_names= 'arman'\n",
    "print(id(my_name))\n",
    "print(id(my_names))"
   ]
  },
  {
   "cell_type": "code",
   "execution_count": 38,
   "metadata": {},
   "outputs": [
    {
     "name": "stdout",
     "output_type": "stream",
     "text": [
      "1209433602928\n",
      "1209431897584\n",
      "1209433030304\n",
      "1209433019360\n"
     ]
    }
   ],
   "source": [
    "first_arman = 'first arman' \n",
    "second_arman= 'first arman '\n",
    "third_arman= ' arman'\n",
    "fourth_arman= ' arman'\n",
    "print(id(first_arman))\n",
    "print(id(second_arman))\n",
    "print(id(third_arman))\n",
    "print(id(fourth_arman))"
   ]
  },
  {
   "cell_type": "code",
   "execution_count": 2,
   "metadata": {},
   "outputs": [
    {
     "name": "stdout",
     "output_type": "stream",
     "text": [
      "1209432800384\n",
      "1209432801152\n"
     ]
    }
   ],
   "source": [
    "my_name = ['arman']\n",
    "my_name_new = ['arman']\n",
    "print(id(my_name))\n",
    "print(id(my_name_new))"
   ]
  },
  {
   "cell_type": "code",
   "execution_count": 10,
   "metadata": {},
   "outputs": [
    {
     "name": "stdout",
     "output_type": "stream",
     "text": [
      "1209431908528\n",
      "1209431909360\n"
     ]
    }
   ],
   "source": [
    "a = 'hello world'\n",
    "b = 'hello world'\n",
    "print(id(a))\n",
    "print(id(b))\n",
    "# print(f\"{id(a) == id(b)}{id(a)},{id(b)}\")  # Might output False, depending on string content.\n",
    "# print(333==333)\n",
    "# # Force different objects:\n",
    "# c = str('hello')\n",
    "# d = str('hello')\n",
    "# print(id(c) == id(d))  # False\n"
   ]
  },
  {
   "cell_type": "code",
   "execution_count": 44,
   "metadata": {},
   "outputs": [
    {
     "name": "stdout",
     "output_type": "stream",
     "text": [
      "0\n",
      "1\n"
     ]
    }
   ],
   "source": [
    "def infinite_counter():\n",
    "    num = 0\n",
    "    while True:\n",
    "        yield num\n",
    "        num += 1\n",
    "\n",
    "gen = infinite_counter()\n",
    "\n",
    "print(next(gen))  # Output: 0\n",
    "print(next(gen))  # Output: 1\n"
   ]
  },
  {
   "cell_type": "code",
   "execution_count": 45,
   "metadata": {},
   "outputs": [
    {
     "name": "stdout",
     "output_type": "stream",
     "text": [
      "2\n"
     ]
    }
   ],
   "source": [
    "print(next(gen))  # Output: 2"
   ]
  },
  {
   "cell_type": "code",
   "execution_count": 46,
   "metadata": {},
   "outputs": [
    {
     "name": "stdout",
     "output_type": "stream",
     "text": [
      "3\n"
     ]
    }
   ],
   "source": [
    "print(next(gen))  # Output: 3"
   ]
  },
  {
   "cell_type": "code",
   "execution_count": 57,
   "metadata": {},
   "outputs": [
    {
     "name": "stdout",
     "output_type": "stream",
     "text": [
      "calculated sum successfully and sum is 15.\n"
     ]
    }
   ],
   "source": [
    "def find_sum(num_arrary:list[int]):\n",
    "    sum = 0\n",
    "    for num in num_arrary:\n",
    "        if num > 5:\n",
    "            print(\"loop break\")\n",
    "            break\n",
    "        sum += num\n",
    "   \n",
    "    else:\n",
    "        print(f\"calculated sum successfully and sum is {sum}.\")\n",
    "     \n",
    "        \n",
    "find_sum([1,2,3,4,5])\n",
    "        "
   ]
  },
  {
   "cell_type": "code",
   "execution_count": 81,
   "metadata": {},
   "outputs": [
    {
     "name": "stdout",
     "output_type": "stream",
     "text": [
      "Fetching user name... (this may take 2 seconds)\n",
      "Fetching user name... (this may take 2 seconds)\n",
      "Validating user name... (this may take another 2 seconds)\n",
      "Validating user name... (this may take another 2 seconds)\n",
      "User name 'Arman' is valid.\n",
      "User name 'Arman' is valid.\n",
      "Total time taken: 4.02 seconds\n"
     ]
    }
   ],
   "source": [
    "import asyncio\n",
    "import time \n",
    "async def fetch_user_name():\n",
    "    print(\"Fetching user name... (this may take 2 seconds)\")\n",
    "    await asyncio.sleep(2)  \n",
    "    return \"Arman\"  \n",
    " \n",
    "async def validate_user_name(user_name):\n",
    "    print(f\"Validating user name... (this may take another 2 seconds)\")\n",
    "    await asyncio.sleep(2)  \n",
    "    if user_name == \"Arman\":\n",
    "        return True  \n",
    "    else:\n",
    "        return False   \n",
    "async def main():\n",
    "    start_time = time.time()  \n",
    "    \n",
    "    first_arman,second_arman   =    await asyncio.gather(fetch_user_name(),fetch_user_name())\n",
    "    is_valid_1, is_valid_2 = await asyncio.gather(validate_user_name(first_arman), validate_user_name(second_arman))\n",
    "     \n",
    "    \n",
    "    if is_valid_1:\n",
    "        print(f\"User name '{first_arman}' is valid.\")\n",
    "    else:\n",
    "        print(f\"User name '{first_arman}' is not valid.\")\n",
    "    \n",
    "    if is_valid_2:\n",
    "        print(f\"User name '{second_arman}' is valid.\")\n",
    "    else:\n",
    "        print(f\"User name '{second_arman}' is not valid.\")\n",
    "    \n",
    "    end_time = time.time()    \n",
    "    total_time = end_time - start_time\n",
    "    print(f\"Total time taken: {total_time:.2f} seconds\") \n",
    "await main()\n"
   ]
  },
  {
   "cell_type": "code",
   "execution_count": 82,
   "metadata": {},
   "outputs": [
    {
     "name": "stdout",
     "output_type": "stream",
     "text": [
      "Fetching user name... (this may take 2 seconds)\n",
      "User name fetched: Arman\n",
      "Validating user name... (this may take another 2 seconds)\n",
      "User name 0 'Arman' is valid.\n",
      "Fetching user name... (this may take 2 seconds)\n",
      "User name fetched: Arman\n",
      "Validating user name... (this may take another 2 seconds)\n",
      "User name 1 'Arman' is valid.\n",
      "Total time taken: 8.00 seconds\n"
     ]
    }
   ],
   "source": [
    "import time \n",
    "def fetch_user_name():\n",
    "    print(\"Fetching user name... (this may take 2 seconds)\")\n",
    "    time.sleep(2)   \n",
    "    return \"Arman\"   \n",
    "def validate_user_name(user_name):\n",
    "    print(f\"Validating user name... (this may take another 2 seconds)\")\n",
    "    time.sleep(2)  \n",
    "    if user_name == \"Arman\":\n",
    "        return True  \n",
    "    else:\n",
    "        return False   \n",
    " \n",
    "def main():\n",
    "    start_time = time.time()   \n",
    "    \n",
    "    for i in range(0,2):\n",
    "        user_name = fetch_user_name()\n",
    "        print(f\"User name fetched: {user_name}\")\n",
    "        \n",
    "        is_valid = validate_user_name(user_name) \n",
    "        if is_valid:\n",
    "            print(f\"User name {i} '{user_name}' is valid.\")\n",
    "        else:\n",
    "            print(f\"User name {i} '{user_name}' is not valid.\")\n",
    "\n",
    "    end_time = time.time()   \n",
    "    total_time = end_time - start_time\n",
    "    print(f\"Total time taken: {total_time:.2f} seconds\") \n",
    "main()\n"
   ]
  },
  {
   "cell_type": "code",
   "execution_count": 95,
   "metadata": {},
   "outputs": [
    {
     "name": "stdout",
     "output_type": "stream",
     "text": [
      "List of1209431889856\n",
      "List of1209447850432 140710431300024\n"
     ]
    }
   ],
   "source": [
    "my_list = []\n",
    "my_new_list = [1]\n",
    "print(f\"List of{id(my_list)}\")\n",
    "\n",
    "print(f\"List of{id(my_new_list)} {id(my_new_list[0])}\")\n"
   ]
  },
  {
   "cell_type": "code",
   "execution_count": 101,
   "metadata": {},
   "outputs": [
    {
     "name": "stdout",
     "output_type": "stream",
     "text": [
      "befor the yield we print the 3\n",
      "3\n"
     ]
    }
   ],
   "source": [
    "def yield_fun():\n",
    "    print('befor the yield we print the 3')\n",
    "    yield 3\n",
    "    print('after the yild it dose not print the 3')\n",
    "n=yield_fun()\n",
    "print(next(n)) \n",
    "    "
   ]
  },
  {
   "cell_type": "markdown",
   "metadata": {},
   "source": [
    "What is a context manager?\n",
    "A context manager is a way to manage resources like files, network connections, or database connections. It helps you to automatically clean up after using a resource, even if something goes wrong. This is done with the with statement.\n",
    "\n",
    "When you use a with statement, the context manager will open the resource (e.g., a file) when you enter the block and close it when you exit the block."
   ]
  },
  {
   "cell_type": "code",
   "execution_count": null,
   "metadata": {},
   "outputs": [],
   "source": [
    "from contextlib import contextmanager\n",
    "\n",
    "@contextmanager\n",
    "def open_file(filename, mode):\n",
    "    print(\"Opening file...\")\n",
    "    file = open(filename, mode)  # Open the file\n",
    "    yield file  # This is where the file is used in the 'with' block\n",
    "    print(\"Closing file...\")\n",
    "    file.close()  # Close the file after the 'with' block finishes\n",
    "\n",
    "# Using the context manager to open and close a file\n",
    "with open_file('test.txt', 'w') as file:\n",
    "    file.write(\"Hello, World!\")  # This is the code inside the 'with' block\n"
   ]
  }
 ],
 "metadata": {
  "kernelspec": {
   "display_name": "Python 3",
   "language": "python",
   "name": "python3"
  },
  "language_info": {
   "codemirror_mode": {
    "name": "ipython",
    "version": 3
   },
   "file_extension": ".py",
   "mimetype": "text/x-python",
   "name": "python",
   "nbconvert_exporter": "python",
   "pygments_lexer": "ipython3",
   "version": "3.12.3"
  }
 },
 "nbformat": 4,
 "nbformat_minor": 2
}
