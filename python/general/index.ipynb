{
 "cells": [
  {
   "cell_type": "code",
   "execution_count": 1,
   "metadata": {},
   "outputs": [
    {
     "name": "stdout",
     "output_type": "stream",
     "text": [
      "hi\n"
     ]
    }
   ],
   "source": [
    "import subprocess\n",
    "\n",
    "# Define the input and output file paths\n",
    "input_file = \"input_video.mpg\"\n",
    "output_file = \"output_video.mp4\"\n",
    "\n",
    "# FFmpeg command to convert .mpg to .mp4\n",
    "ffmpeg_command = [\n",
    "    'ffmpeg', '-i', input_file, '-vcodec', 'libx264', '-acodec', 'aac', output_file\n",
    "]\n",
    "\n",
    "# Run the FFmpeg command\n",
    "subprocess.run(ffmpeg_command)\n",
    "\n",
    "print(f\"Conversion complete: {input_file} to {output_file}\")\n"
   ]
  },
  {
   "cell_type": "code",
   "execution_count": 15,
   "metadata": {},
   "outputs": [
    {
     "name": "stdout",
     "output_type": "stream",
     "text": [
      "Combined PDF saved at: combined1.pdf\n"
     ]
    }
   ],
   "source": [
    "from PyPDF2 import PdfReader, PdfWriter\n",
    "\n",
    "def combine_pdfs(pdf1_path, pdf2_path, output_path):\n",
    "    \"\"\"\n",
    "    Combines two PDFs into a single file.\n",
    "\n",
    "    Parameters:\n",
    "    - pdf1_path: Path to the first PDF file.\n",
    "    - pdf2_path: Path to the second PDF file.\n",
    "    - output_path: Path to save the combined PDF.\n",
    "    \"\"\"\n",
    "    # Create a PDF writer\n",
    "    pdf_writer = PdfWriter()\n",
    "\n",
    "    # Read and add pages from the first PDF\n",
    "    pdf1_reader = PdfReader(pdf1_path)\n",
    "    for page in pdf1_reader.pages:\n",
    "        pdf_writer.add_page(page)\n",
    "\n",
    "    # Read and add pages from the second PDF\n",
    "    pdf2_reader = PdfReader(pdf2_path)\n",
    "    for page in pdf2_reader.pages:\n",
    "        pdf_writer.add_page(page)\n",
    "\n",
    "    # Write the combined PDF to the output file\n",
    "    with open(output_path, \"wb\") as output_file:\n",
    "        pdf_writer.write(output_file)\n",
    "\n",
    "# Example usage\n",
    "pdf2_path = \"./Reformatted_FAQ4.pdf\"  # Replace with your first PDF file path\n",
    "pdf1_path = \"./ar1.pdf\"  # Replace with your second PDF file path\n",
    "output_path = \"combined1.pdf\"  # Replace with your desired output path\n",
    "\n",
    "combine_pdfs(pdf1_path, pdf2_path, output_path)\n",
    "\n",
    "print(f\"Combined PDF saved at: {output_path}\")\n"
   ]
  },
  {
   "cell_type": "code",
   "execution_count": 17,
   "metadata": {},
   "outputs": [
    {
     "name": "stdout",
     "output_type": "stream",
     "text": [
      "Requirement already satisfied: PyPDF2 in c:\\users\\arman\\appdata\\local\\programs\\python\\python312\\lib\\site-packages (3.0.1)\n",
      "Note: you may need to restart the kernel to use updated packages.\n"
     ]
    }
   ],
   "source": [
    "pip install PyPDF2"
   ]
  },
  {
   "cell_type": "code",
   "execution_count": 6,
   "metadata": {},
   "outputs": [
    {
     "data": {
      "text/plain": [
       "'./Reformatted_FAQ.pdf'"
      ]
     },
     "execution_count": 6,
     "metadata": {},
     "output_type": "execute_result"
    }
   ],
   "source": [
    "from PyPDF2 import PdfReader\n",
    "from fpdf import FPDF\n",
    "\n",
    "def extract_text_from_pdf(pdf_path):\n",
    "    \"\"\"\n",
    "    Extracts text from a PDF file.\n",
    "    \"\"\"\n",
    "    reader = PdfReader(pdf_path)\n",
    "    text = \"\"\n",
    "    for page in reader.pages:\n",
    "        text += page.extract_text() + \"\\n\"\n",
    "    return text\n",
    "\n",
    "def reformat_faq(content):\n",
    "    \"\"\"\n",
    "    Reformat content from numbered markdown-style FAQs to \"Q:\" and \"Ans:\" format.\n",
    "    Removes numbers and asterisks.\n",
    "    \"\"\"\n",
    "    reformatted_lines = []\n",
    "    for line in content.splitlines():\n",
    "        line = line.strip()\n",
    "        if line.startswith(\"**\"):\n",
    "            # Identify the question\n",
    "            question = line.replace(\"**\", \"\").split(\"**\")[0].strip()\n",
    "            reformatted_lines.append(f\"Q: {question}\")\n",
    "        elif line:\n",
    "            # Identify the answer\n",
    "            reformatted_lines.append(f\"Ans: {line}\")\n",
    "        else:\n",
    "            # Add blank lines for formatting\n",
    "            reformatted_lines.append(\"\")\n",
    "    return \"\\n\".join(reformatted_lines)\n",
    "\n",
    "def create_pdf_from_reformatted_content(content, output_path):\n",
    "    \"\"\"\n",
    "    Convert reformatted content to a PDF.\n",
    "    \"\"\"\n",
    "    pdf = FPDF()\n",
    "    pdf.set_auto_page_break(auto=True, margin=15)\n",
    "    pdf.add_page()\n",
    "    pdf.set_font(\"Arial\", size=12)\n",
    "\n",
    "    for line in content.splitlines():\n",
    "        pdf.multi_cell(0, 10, line)\n",
    "    \n",
    "    pdf.output(output_path)\n",
    "\n",
    "# Paths for input and output\n",
    "input_pdf_path = \"./combined.pdf\"  # Replace with your uploaded PDF file\n",
    "output_pdf_path = \"./Reformatted_FAQ.pdf\"\n",
    "\n",
    "# Step 1: Extract text from the PDF\n",
    "extracted_text = extract_text_from_pdf(input_pdf_path)\n",
    "\n",
    "# Step 2: Reformat the extracted text\n",
    "reformatted_content = reformat_faq(extracted_text)\n",
    "\n",
    "# Step 3: Create a new PDF with the reformatted content\n",
    "create_pdf_from_reformatted_content(reformatted_content, output_pdf_path)\n",
    "\n",
    "output_pdf_path\n"
   ]
  },
  {
   "cell_type": "code",
   "execution_count": 10,
   "metadata": {},
   "outputs": [
    {
     "data": {
      "text/plain": [
       "'./Reformatted_FAQ4.pdf'"
      ]
     },
     "execution_count": 10,
     "metadata": {},
     "output_type": "execute_result"
    }
   ],
   "source": [
    "from PyPDF2 import PdfReader\n",
    "from fpdf import FPDF\n",
    "import re\n",
    "\n",
    "def extract_text_from_pdf(pdf_path):\n",
    "    \"\"\"\n",
    "    Extracts text from a PDF file.\n",
    "    \"\"\"\n",
    "    reader = PdfReader(pdf_path)\n",
    "    text = \"\"\n",
    "    for page in reader.pages:\n",
    "        text += page.extract_text() + \"\\n\"\n",
    "    return text\n",
    "\n",
    "def reformat_faq(content):\n",
    "    \"\"\"\n",
    "    Reformat content: replace numbered lines with \"Q:\", remove **, and properly group multi-line answers.\n",
    "    \"\"\"\n",
    "    reformatted_lines = []\n",
    "    ongoing_answer = False\n",
    "\n",
    "    for line in content.splitlines():\n",
    "        line = line.strip()\n",
    "\n",
    "        if re.match(r\"^\\d+\\.\", line):  # Line starts with a number (indicating a question)\n",
    "            if reformatted_lines and ongoing_answer:\n",
    "                reformatted_lines.append(\"\")\n",
    "            question = re.sub(r\"^\\d+\\.\\s*\\*\\*\", \"Q: \", line)  # Replace number and ** with Q:\n",
    "            question = question.replace(\"**\", \"\").strip()  # Remove remaining **\n",
    "            reformatted_lines.append(question)\n",
    "            ongoing_answer = False  # Reset for the next answer\n",
    "        elif line:  # Non-empty line\n",
    "            if not ongoing_answer:\n",
    "                # Start of a new answer\n",
    "                reformatted_lines.append(f\"Ans: {line.strip()}\")\n",
    "                ongoing_answer = True\n",
    "            else:\n",
    "                # Continuation of the previous answer\n",
    "                reformatted_lines[-1] += f\" {line.strip()}\"  # Append to the last answer\n",
    "        else:\n",
    "            # Empty line resets ongoing answer tracking\n",
    "            ongoing_answer = False\n",
    "\n",
    "    return \"\\n\".join(reformatted_lines)\n",
    "\n",
    "def create_pdf_from_reformatted_content(content, output_path):\n",
    "    \"\"\"\n",
    "    Convert reformatted content to a PDF.\n",
    "    \"\"\"\n",
    "    pdf = FPDF()\n",
    "    pdf.set_auto_page_break(auto=True, margin=15)\n",
    "    pdf.add_page()\n",
    "    pdf.set_font(\"Arial\", size=12)\n",
    "\n",
    "    for line in content.splitlines():\n",
    "        pdf.multi_cell(0, 10, line)\n",
    "    \n",
    "    pdf.output(output_path)\n",
    "\n",
    "# Paths for input and output\n",
    "input_pdf_path = \"./ar2.pdf\"  # Replace with your uploaded PDF file\n",
    "output_pdf_path = \"./Reformatted_FAQ4.pdf\"\n",
    "\n",
    "# Step 1: Extract text from the PDF\n",
    "extracted_text = extract_text_from_pdf(input_pdf_path)\n",
    "\n",
    "# Step 2: Reformat the extracted text\n",
    "reformatted_content = reformat_faq(extracted_text)\n",
    "\n",
    "# Step 3: Create a new PDF with the reformatted content\n",
    "create_pdf_from_reformatted_content(reformatted_content, output_pdf_path)\n",
    "\n",
    "output_pdf_path\n"
   ]
  }
 ],
 "metadata": {
  "kernelspec": {
   "display_name": "Python 3",
   "language": "python",
   "name": "python3"
  },
  "language_info": {
   "codemirror_mode": {
    "name": "ipython",
    "version": 3
   },
   "file_extension": ".py",
   "mimetype": "text/x-python",
   "name": "python",
   "nbconvert_exporter": "python",
   "pygments_lexer": "ipython3",
   "version": "3.12.3"
  }
 },
 "nbformat": 4,
 "nbformat_minor": 2
}
