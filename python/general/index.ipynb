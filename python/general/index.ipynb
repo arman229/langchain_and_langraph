{
 "cells": [
  {
   "cell_type": "code",
   "execution_count": 1,
   "metadata": {},
   "outputs": [
    {
     "name": "stdout",
     "output_type": "stream",
     "text": [
      "hi\n"
     ]
    }
   ],
   "source": [
    "import subprocess\n",
    "\n",
    "# Define the input and output file paths\n",
    "input_file = \"input_video.mpg\"\n",
    "output_file = \"output_video.mp4\"\n",
    "\n",
    "# FFmpeg command to convert .mpg to .mp4\n",
    "ffmpeg_command = [\n",
    "    'ffmpeg', '-i', input_file, '-vcodec', 'libx264', '-acodec', 'aac', output_file\n",
    "]\n",
    "\n",
    "# Run the FFmpeg command\n",
    "subprocess.run(ffmpeg_command)\n",
    "\n",
    "print(f\"Conversion complete: {input_file} to {output_file}\")\n"
   ]
  }
 ],
 "metadata": {
  "kernelspec": {
   "display_name": "Python 3",
   "language": "python",
   "name": "python3"
  },
  "language_info": {
   "codemirror_mode": {
    "name": "ipython",
    "version": 3
   },
   "file_extension": ".py",
   "mimetype": "text/x-python",
   "name": "python",
   "nbconvert_exporter": "python",
   "pygments_lexer": "ipython3",
   "version": "3.12.3"
  }
 },
 "nbformat": 4,
 "nbformat_minor": 2
}
