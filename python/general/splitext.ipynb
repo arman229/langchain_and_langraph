{
 "cells": [
  {
   "cell_type": "code",
   "execution_count": 1,
   "metadata": {},
   "outputs": [
    {
     "name": "stdout",
     "output_type": "stream",
     "text": [
      "('arman', '.pdf')\n"
     ]
    }
   ],
   "source": [
    "import os \n",
    "print(os.path.splitext('arman.pdf')) # Splite the URL or filename into (filename,extension)"
   ]
  },
  {
   "cell_type": "code",
   "execution_count": 4,
   "metadata": {},
   "outputs": [
    {
     "name": "stdout",
     "output_type": "stream",
     "text": [
      "('https://example.com/image', '.png?token=123')\n",
      ".png?token=123\n",
      "['.png', 'token=123']\n",
      ".png\n"
     ]
    }
   ],
   "source": [
    "url = \"https://example.com/image.png?token=123\"\n",
    "print(os.path.splitext(url))            # Returns ('https://example.com/image', '.png?token=123')\n",
    "print(os.path.splitext(url)[-1] )      # '.png?token=123'\n",
    "print(os.path.splitext(url)[-1].split('?') ) # '.png'\n",
    "print(os.path.splitext(url)[-1].split('?')[0] ) # '.png'\n"
   ]
  }
 ],
 "metadata": {
  "kernelspec": {
   "display_name": "Python 3",
   "language": "python",
   "name": "python3"
  },
  "language_info": {
   "codemirror_mode": {
    "name": "ipython",
    "version": 3
   },
   "file_extension": ".py",
   "mimetype": "text/x-python",
   "name": "python",
   "nbconvert_exporter": "python",
   "pygments_lexer": "ipython3",
   "version": "3.12.3"
  }
 },
 "nbformat": 4,
 "nbformat_minor": 2
}
