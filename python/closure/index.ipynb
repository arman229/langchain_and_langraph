{
 "cells": [
  {
   "cell_type": "code",
   "execution_count": null,
   "metadata": {},
   "outputs": [],
   "source": [
    "# Closure:\n",
    "# A closure in Python is a programming construct that allows a nested function to remember the values of its enclosing\n",
    "# scope even after that scope has finished executing. In simpler terms, a closure is a function that captures the local\n",
    "# variables from its enclosing environment when it is defined, allowing it to access those variables even when it\n",
    "# is called outside of that environment."
   ]
  },
  {
   "cell_type": "code",
   "execution_count": 4,
   "metadata": {},
   "outputs": [
    {
     "name": "stdout",
     "output_type": "stream",
     "text": [
      "Hello, arman! You are 23 years old.\n",
      "<function outer_function.<locals>.inner_function at 0x0000018664912FC0>\n",
      "None\n"
     ]
    }
   ],
   "source": [
    "def outer_function(name:str,):\n",
    "    def inner_function(age:int):\n",
    "        print(f\"Hello, {name}! You are {age} years old.\")\n",
    "    return inner_function\n",
    "\n",
    "call_outer_function = outer_function('arman')\n",
    "call_inner_function = call_outer_function(23)\n",
    "print(call_outer_function)\n",
    "print(call_inner_function)    "
   ]
  },
  {
   "cell_type": "code",
   "execution_count": 2,
   "metadata": {},
   "outputs": [],
   "source": [
    "def outer_function(name:str,):\n",
    "    def inner_function(age:int):\n",
    "        print(f\"Hello, {name}! You are {age} years old.\")\n",
    "        return f\"Hello, {name}! You are {age} years old\"\n",
    "    return inner_function\n",
    "\n",
    "call_outer_function = outer_function('arman')\n",
    "    "
   ]
  },
  {
   "cell_type": "code",
   "execution_count": 3,
   "metadata": {},
   "outputs": [
    {
     "name": "stdout",
     "output_type": "stream",
     "text": [
      "Hello, arman! You are 23 years old.\n",
      "<function outer_function.<locals>.inner_function at 0x00000200643EA340>\n",
      "Hello, arman! You are 23 years old\n"
     ]
    }
   ],
   "source": [
    "call_inner_function = call_outer_function(23)\n",
    "print(call_outer_function)\n",
    "print(call_inner_function)"
   ]
  },
  {
   "cell_type": "code",
   "execution_count": 1,
   "metadata": {},
   "outputs": [
    {
     "name": "stdout",
     "output_type": "stream",
     "text": [
      "[1, 4, 6, 7, 8]\n"
     ]
    }
   ],
   "source": [
    "list_number = [1,2,3,4,5,6,7,8]\n",
    "list_number[1:5:1]=[4]\n",
    "print(list_number)"
   ]
  },
  {
   "cell_type": "code",
   "execution_count": 3,
   "metadata": {},
   "outputs": [
    {
     "name": "stdout",
     "output_type": "stream",
     "text": [
      "<class 'tuple'>\n"
     ]
    },
    {
     "data": {
      "text/plain": [
       "18"
      ]
     },
     "execution_count": 3,
     "metadata": {},
     "output_type": "execute_result"
    }
   ],
   "source": [
    "def sum_fun(par1,*num:int)->int:\n",
    "    print(type(num))\n",
    "    return sum(list(num),par1)\n",
    "sum_fun(9,9)"
   ]
  }
 ],
 "metadata": {
  "kernelspec": {
   "display_name": "Python 3",
   "language": "python",
   "name": "python3"
  },
  "language_info": {
   "codemirror_mode": {
    "name": "ipython",
    "version": 3
   },
   "file_extension": ".py",
   "mimetype": "text/x-python",
   "name": "python",
   "nbconvert_exporter": "python",
   "pygments_lexer": "ipython3",
   "version": "3.12.3"
  }
 },
 "nbformat": 4,
 "nbformat_minor": 2
}
