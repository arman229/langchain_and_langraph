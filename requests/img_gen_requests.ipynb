{
 "cells": [
  {
   "cell_type": "code",
   "execution_count": null,
   "id": "b03317de",
   "metadata": {},
   "outputs": [],
   "source": [
    "import requests\n",
    "import json\n",
    "import base64\n",
    "from pathlib import Path\n",
    "\n",
    "url = f\"https://generativelanguage.googleapis.com/v1beta/models/gemini-2.0-flash-exp-image-generation:generateContent?key={os.getenv('GEMINI_API_KEY')}\"\n",
    "\n",
    "\n",
    "def generate_images(prompt):\n",
    "    prompt= {\n",
    "            \"contents\": [                  \n",
    "                {\"parts\": [{\"text\": f'You are an expert in generating **realistic** vertical images (1080x1920)...{prompt}'}]}\n",
    "            ],\n",
    "            \"generationConfig\": {\"responseModalities\": [\"Text\", \"Image\"]},\n",
    "        }\n",
    "    payload = json.dumps(prompt)\n",
    "    headers = {\"Content-Type\": \"application/json\"}\n",
    "    response = requests.request(\"POST\", url, headers=headers, data=payload)\n",
    "    data = response.json()\n",
    "    base64_image = data[\"candidates\"][0][\"content\"][\"parts\"][1][\"inlineData\"][\"data\"]\n",
    "    image_bytes = base64.b64decode(base64_image)\n",
    "    file_path = Path(f\"scene_13235.png\")\n",
    "    file_path.write_bytes(image_bytes)\n",
    "    print(file_path)\n",
    "\n",
    "prompt = \"A boy lived in a jungle with his beautiful cat\"\n",
    "resp = generate_images(prompt)"
   ]
  }
 ],
 "metadata": {
  "language_info": {
   "name": "python"
  }
 },
 "nbformat": 4,
 "nbformat_minor": 5
}
