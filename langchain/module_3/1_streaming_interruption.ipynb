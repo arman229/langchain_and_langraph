{
 "cells": [
  {
   "cell_type": "markdown",
   "metadata": {},
   "source": [
    "# Streaming\n",
    "\n",
    "## Review\n",
    "\n",
    "In module 2, covered a few ways to customize graph state and memory.\n",
    "\n",
    "We built up to a Chatbot with external memory that can sustain long-running conversations.\n",
    "\n",
    "## Goals\n",
    "\n",
    "This module will dive into `human-in-the-loop`, which builds on memory and allows users to interact directly with graphs in various ways.\n",
    "\n",
    "To set the stage for `human-in-the-loop`, we'll first dive into streaming, which provides several ways to visualize graph output (e.g., node state or chat model tokens) over the course of execution."
   ]
  },
  {
   "cell_type": "code",
   "execution_count": null,
   "metadata": {},
   "outputs": [],
   "source": [
    "%%capture --no-stderr\n",
    "%pip install --quiet -U langgraph langchain_google_genai langgraph_sdk"
   ]
  },
  {
   "cell_type": "markdown",
   "metadata": {},
   "source": [
    "## Streaming\n",
    "\n",
    "LangGraph is built with [first class support for streaming](https://langchain-ai.github.io/langgraph/concepts/low_level/#streaming).\n",
    "\n",
    "Let's set up our Chatbot from Module 2, and show various way to stream outputs from the graph during execution."
   ]
  },
  {
   "cell_type": "code",
   "execution_count": 1,
   "metadata": {},
   "outputs": [
    {
     "name": "stdout",
     "output_type": "stream",
     "text": [
      "Gemini api key loaded successfully\n"
     ]
    }
   ],
   "source": [
    "import os\n",
    "from dotenv import load_dotenv\n",
    "load_dotenv()\n",
    "\n",
    "GEMINI_API_KEY = os.getenv(\"GEMINI_API_KEY\")\n",
    "if not GEMINI_API_KEY:\n",
    "    raise ValueError(\"GEMINI_API_KEY is not set in the .env file.\")\n",
    "print(\"Gemini api key loaded successfully\")"
   ]
  },
  {
   "cell_type": "markdown",
   "metadata": {},
   "source": [
    "Note that we use `RunnableConfig` with `call_model` to enable token-wise streaming. This is [only needed with python < 3.11](https://langchain-ai.github.io/langgraph/how-tos/streaming-tokens/). We include in case you are running this notebook in CoLab, which will use python 3.x."
   ]
  },
  {
   "cell_type": "code",
   "execution_count": 5,
   "metadata": {},
   "outputs": [
    {
     "data": {
      "image/png": "[encoded data removed]",
      "text/plain": [
       "<IPython.core.display.Image object>"
      ]
     },
     "metadata": {},
     "output_type": "display_data"
    },
    {
     "name": "stdout",
     "output_type": "stream",
     "text": [
      "summary printing\n",
      "\n",
      "summary printing\n",
      "\n",
      "summary printing\n",
      "\n",
      "summary printing\n",
      "\n",
      "==================================\u001b[1m Ai Message \u001b[0m==================================\n",
      "\n",
      "Your major is mathematics.\n"
     ]
    }
   ],
   "source": [
    "from langgraph.graph import START,END,StateGraph\n",
    "from langgraph.checkpoint.memory import MemorySaver\n",
    "from IPython.display import display,Image\n",
    "from langchain_core.messages import HumanMessage,SystemMessage,RemoveMessage\n",
    "from langgraph.graph import MessagesState\n",
    "from langchain_core.messages import AnyMessage\n",
    "from langgraph.graph import add_messages\n",
    "from typing import Annotated\n",
    "from langchain_google_genai import ChatGoogleGenerativeAI\n",
    "from langchain_core.runnables import RunnableConfig\n",
    "\n",
    "llm = ChatGoogleGenerativeAI(model=\"gemini-1.5-flash\", api_key=GEMINI_API_KEY)\n",
    "\n",
    "class StateClass(MessagesState):\n",
    "    summary: str\n",
    "    messages:Annotated[list[AnyMessage],add_messages]\n",
    "    \n",
    "def start_conversation(state:StateClass,config:RunnableConfig):\n",
    "    summary = state.get('summary','')\n",
    "    print(\"summary printing\")\n",
    "    print(summary)\n",
    "    \n",
    "    if summary:\n",
    "        system_message = f\"Summary of conversation earlier: {summary}\"\n",
    "        messages = [SystemMessage(content = system_message)] + state['messages']\n",
    "    else:\n",
    "        messages = state['messages']\n",
    "    # result =  llm.invoke(messages,config)  #Note that we use `RunnableConfig` with `start_conversation` to enable token-wise streaming.\n",
    "    result =  llm.invoke(messages)\n",
    "    return {'messages':result}     \n",
    "            \n",
    "def call_summary(state:StateClass):\n",
    "    summary = state.get('summary','')\n",
    "    if summary:\n",
    "        human_message = (\n",
    "            f\"This is the summary of the conversation to date: {summary}\\n\\n\"\n",
    "             \"Extend the summary by taking into account the new messages above:\"\n",
    "        )\n",
    "    else:\n",
    "        human_message = \"Create a summary of the conversation above:\"\n",
    "    messages = state['messages'] + [HumanMessage(content = human_message)]\n",
    "    generate_summary = llm.invoke(messages)\n",
    "     \n",
    "        \n",
    "    last_two_messages = [RemoveMessage(id=i.id) for i in state['messages'][:-2]] \n",
    "    return { 'summary':generate_summary.content,'messages':last_two_messages,}   \n",
    "        \n",
    "def decide_node(state:StateClass):\n",
    "    messages = state['messages']\n",
    "    if len(messages) > 10:\n",
    "        return \"summary_node\"\n",
    "    else:\n",
    "        return END\n",
    " \n",
    "memory = MemorySaver()\n",
    "\n",
    "graph_building: StateGraph = StateGraph(StateClass)\n",
    "graph_building.add_node(\"conversation\", start_conversation)\n",
    "graph_building.add_node(\"summary_node\",call_summary)\n",
    "\n",
    "graph_building.add_edge(START, \"conversation\")\n",
    "graph_building.add_conditional_edges(\"conversation\", decide_node)\n",
    "graph_building.add_edge(\"summary_node\", END)\n",
    " \n",
    " \n",
    " \n",
    " \n",
    " \n",
    "final_graph  = graph_building.compile(checkpointer=memory)\n",
    "display(Image(final_graph.get_graph().draw_mermaid_png())) \n",
    "\n",
    "  \n",
    "config = {'configurable': {'thread_id':'1'}}\n",
    "\n",
    "input = HumanMessage(content=\"Hi I am aramn\")\n",
    "final_resp =final_graph.invoke({\"messages\":[input]},config)\n",
    " \n",
    "\n",
    "input = HumanMessage(content=\"I Like Programming\")\n",
    "final_resp =final_graph.invoke({\"messages\":[input]},config)\n",
    " \n",
    "\n",
    "input = HumanMessage(content=\"I am major in math\")\n",
    "final_resp =final_graph.invoke({\"messages\":[input]},config)\n",
    "\n",
    "input = HumanMessage(content=\"what is major i am\")\n",
    "final_resp =final_graph.invoke({\"messages\":[input]},config)\n",
    " \n",
    "for m in final_resp['messages'][-1:]:\n",
    "    m.pretty_print()   \n",
    " "
   ]
  },
  {
   "cell_type": "code",
   "execution_count": 28,
   "metadata": {},
   "outputs": [
    {
     "name": "stdout",
     "output_type": "stream",
     "text": [
      "summary printing\n",
      "Aramn likes programming. Aramn is majoring in math.\n",
      "\n",
      "{'conversation': {'messages': AIMessage(content='Your name is Aramn.\\n', additional_kwargs={}, response_metadata={'prompt_feedback': {'block_reason': 0, 'safety_ratings': []}, 'finish_reason': 'STOP', 'safety_ratings': []}, id='run-cf0ad17e-faa6-4b0b-9107-7ac15b790209-0', usage_metadata={'input_tokens': 38, 'output_tokens': 7, 'total_tokens': 45, 'input_token_details': {'cache_read': 0}})}}\n",
      "{'summary_node': {'summary': 'Aramn likes programming. Aramn is majoring in math.\\n', 'messages': [RemoveMessage(content='', additional_kwargs={}, response_metadata={}, id='a5c84617-bd58-485c-9d8a-5c196932fbd6'), RemoveMessage(content='', additional_kwargs={}, response_metadata={}, id='run-d6c5b20d-7b88-4d49-993f-3bb91153bd40-0')]}}\n"
     ]
    }
   ],
   "source": [
    "input = HumanMessage(content=\"What is my name?\")\n",
    "for chunk in final_graph.stream({'messages':input},config,stream_mode ='updates'):\n",
    "    print(chunk)\n",
    "    "
   ]
  },
  {
   "cell_type": "code",
   "execution_count": 32,
   "metadata": {},
   "outputs": [
    {
     "name": "stdout",
     "output_type": "stream",
     "text": [
      "summary printing\n",
      "The conversation to date includes:  Aramn likes programming. Aramn is majoring in math.  Lance introduced himself.\n",
      "\n"
     ]
    },
    {
     "ename": "KeyError",
     "evalue": "'messages'",
     "output_type": "error",
     "traceback": [
      "\u001b[1;31m---------------------------------------------------------------------------\u001b[0m",
      "\u001b[1;31mKeyError\u001b[0m                                  Traceback (most recent call last)",
      "Cell \u001b[1;32mIn[32], line 2\u001b[0m\n\u001b[0;32m      1\u001b[0m \u001b[38;5;28;01mfor\u001b[39;00m chunk \u001b[38;5;129;01min\u001b[39;00m final_graph\u001b[38;5;241m.\u001b[39mstream({\u001b[38;5;124m\"\u001b[39m\u001b[38;5;124mmessages\u001b[39m\u001b[38;5;124m\"\u001b[39m: [HumanMessage(content\u001b[38;5;241m=\u001b[39m\u001b[38;5;124m\"\u001b[39m\u001b[38;5;124mwhat is my name\u001b[39m\u001b[38;5;124m\"\u001b[39m)]}, config, stream_mode\u001b[38;5;241m=\u001b[39m\u001b[38;5;124m\"\u001b[39m\u001b[38;5;124mupdates\u001b[39m\u001b[38;5;124m\"\u001b[39m):\n\u001b[1;32m----> 2\u001b[0m     \u001b[38;5;28;01mfor\u001b[39;00m i \u001b[38;5;129;01min\u001b[39;00m \u001b[43mchunk\u001b[49m\u001b[43m[\u001b[49m\u001b[38;5;124;43m'\u001b[39;49m\u001b[38;5;124;43mmessages\u001b[39;49m\u001b[38;5;124;43m'\u001b[39;49m\u001b[43m]\u001b[49m:\n\u001b[0;32m      3\u001b[0m         i\u001b[38;5;241m.\u001b[39mpretty_print()\n",
      "\u001b[1;31mKeyError\u001b[0m: 'messages'"
     ]
    }
   ],
   "source": [
    "for chunk in final_graph.stream({\"messages\": [HumanMessage(content=\"what is my name\")]}, config, stream_mode=\"updates\"):\n",
    "    for i in chunk['messages']:\n",
    "        i.pretty_print()"
   ]
  },
  {
   "cell_type": "markdown",
   "metadata": {},
   "source": [
    "### Streaming full state\n",
    "\n",
    "Now, let's talk about ways to [stream our graph state](https://langchain-ai.github.io/langgraph/concepts/low_level/#streaming).\n",
    "\n",
    "`.stream` and `.astream` are sync and async methods for streaming back results.\n",
    "\n",
    "LangGraph supports a few [different streaming modes](https://langchain-ai.github.io/langgraph/how-tos/stream-values/) for [graph state](https://langchain-ai.github.io/langgraph/how-tos/stream-values/):\n",
    "\n",
    "* `values`: This streams the full state of the graph after each node is called.\n",
    "* `updates`: This streams updates to the state of the graph after each node is called.\n",
    "\n",
    "![values_vs_updates.png](https://cdn.prod.website-files.com/65b8cd72835ceeacd4449a53/66dbaf892d24625a201744e5_streaming1.png)\n",
    "\n",
    "Let's look at `stream_mode=\"updates\"`.\n",
    "\n",
    "Because we stream with `updates`, we only see updates to the state after node in the graph is run.\n",
    "\n",
    "Each `chunk` is a dict with `node_name` as the key and the updated state as the value."
   ]
  },
  {
   "cell_type": "code",
   "execution_count": 7,
   "metadata": {},
   "outputs": [
    {
     "data": {
      "image/png": "[encoded data removed]",
      "text/plain": [
       "<IPython.core.display.Image object>"
      ]
     },
     "metadata": {},
     "output_type": "display_data"
    }
   ],
   "source": [
    "from langgraph.graph import START,END,StateGraph\n",
    "from langgraph.checkpoint.memory import MemorySaver\n",
    "from IPython.display import display,Image\n",
    "from langchain_core.messages import HumanMessage,SystemMessage,RemoveMessage\n",
    "from langgraph.graph import MessagesState\n",
    "from langchain_core.messages import AnyMessage\n",
    "from langgraph.graph import add_messages\n",
    "from typing import Annotated\n",
    "from langchain_google_genai import ChatGoogleGenerativeAI\n",
    "from langchain_core.runnables import RunnableConfig\n",
    "\n",
    "llm = ChatGoogleGenerativeAI(model=\"gemini-1.5-flash\", api_key=GEMINI_API_KEY)\n",
    "\n",
    "class StateClass(MessagesState):\n",
    "    summary: str\n",
    "    messages:Annotated[list[AnyMessage],add_messages]\n",
    "    \n",
    "def start_conversation(state:StateClass,config:RunnableConfig):\n",
    "    summary = state.get('summary','')\n",
    " \n",
    "    if summary:\n",
    "        system_message = f\"Summary of conversation earlier: {summary}\"\n",
    "        messages = [SystemMessage(content = system_message)] + state['messages']\n",
    "    else:\n",
    "        messages = state['messages']\n",
    "    # result =  llm.invoke(messages,config)  #Note that we use `RunnableConfig` with `start_conversation` to enable token-wise streaming.\n",
    "    result =  llm.invoke(messages)\n",
    "    return {'messages':result}     \n",
    "            \n",
    "def call_summary(state:StateClass):\n",
    "    summary = state.get('summary','')\n",
    "    if summary:\n",
    "        human_message = (\n",
    "            f\"This is the summary of the conversation to date: {summary}\\n\\n\"\n",
    "             \"Extend the summary by taking into account the new messages above:\"\n",
    "        )\n",
    "    else:\n",
    "        human_message = \"Create a summary of the conversation above:\"\n",
    "    messages = state['messages'] + [HumanMessage(content = human_message)]\n",
    "    generate_summary = llm.invoke(messages)\n",
    "     \n",
    "        \n",
    "    last_two_messages = [RemoveMessage(id=i.id) for i in state['messages'][:-2]] \n",
    "    return { 'summary':generate_summary.content,'messages':last_two_messages,}   \n",
    "        \n",
    "def decide_node(state:StateClass):\n",
    "    messages = state['messages']\n",
    "    if len(messages) > 10:\n",
    "        return \"summary_node\"\n",
    "    else:\n",
    "        return END\n",
    " \n",
    "memory = MemorySaver()\n",
    "\n",
    "graph_building: StateGraph = StateGraph(StateClass)\n",
    "graph_building.add_node(\"conversation\", start_conversation)\n",
    "graph_building.add_node(\"summary_node\",call_summary)\n",
    "\n",
    "graph_building.add_edge(START, \"conversation\")\n",
    "graph_building.add_conditional_edges(\"conversation\", decide_node)\n",
    "graph_building.add_edge(\"summary_node\", END) \n",
    "final_graph  = graph_building.compile(checkpointer=memory)\n",
    "display(Image(final_graph.get_graph().draw_mermaid_png())) "
   ]
  },
  {
   "cell_type": "code",
   "execution_count": 22,
   "metadata": {},
   "outputs": [
    {
     "name": "stdout",
     "output_type": "stream",
     "text": [
      "{'conversation': {'messages': AIMessage(content=\"Pakistan, a nation born from the tumultuous partition of India in 1947, presents a complex and multifaceted tapestry of history, geography, culture, and politics.  Its journey has been marked by both remarkable achievements and persistent challenges, shaping its identity as a nation striving for stability and progress in a volatile region.  Understanding Pakistan requires a nuanced appreciation of its diverse landscapes, its rich cultural heritage, its turbulent political history, and the ongoing economic and security concerns that continue to shape its destiny.\\n\\nGeographically, Pakistan is a land of stark contrasts.  From the snow-capped peaks of the Himalayas and Karakoram ranges, home to K2, the world's second-highest mountain, to the arid deserts of Balochistan and the fertile alluvial plains of the Indus River valley, the country encompasses a wide range of terrains.  The Indus River, the lifeblood of the nation, has nurtured civilizations for millennia, its fertile banks providing the cradle for some of the earliest known urban settlements.  The coastal regions along the Arabian Sea support vibrant fishing communities and provide access to vital sea routes.  This geographical diversity has profoundly influenced the development of distinct regional cultures and economic activities, creating both opportunities and challenges for national integration.\\n\\nHistorically, Pakistan's narrative is deeply interwoven with the broader South Asian context.  The Indus Valley Civilization, one of the world's oldest urban civilizations, flourished in the region thousands of years ago, leaving behind evidence of sophisticated urban planning, irrigation systems, and a complex social structure.  Subsequent waves of migration and conquest, including the arrival of the Aryans, the conquests of Alexander the Great, and the establishment of the Mughal Empire, all left their indelible marks on the region's cultural and linguistic landscape.  The Mughal period, in particular, significantly influenced Pakistani art, architecture, and cuisine, leaving behind a legacy of magnificent monuments and a rich artistic tradition.  The British colonial period, culminating in the partition of India, remains a defining moment in Pakistan's history, shaping its political structures, administrative systems, and social divisions.\\n\\nThe partition of 1947 was a traumatic event, resulting in widespread displacement, violence, and the creation of two independent states – India and Pakistan.  This tumultuous birth profoundly impacted Pakistan's early years, shaping its national identity and leaving a legacy of unresolved issues that continue to affect its relationship with India.  The newly formed nation faced immediate challenges in establishing a stable political system, integrating diverse regional populations, and addressing the enormous humanitarian crisis caused by the mass migration.  The early decades of independence were characterized by political instability, military interventions, and struggles to consolidate national unity.\\n\\nPolitically, Pakistan has experienced a complex interplay between civilian and military rule.  Periods of democratic governance have been interspersed with periods of military dictatorship, often marked by authoritarian rule and suppression of dissent.  The struggle to balance civilian authority and military influence remains a central theme in Pakistani politics, influencing the country's trajectory and its relationship with the international community.  The political landscape is also characterized by a complex interplay of ethnic and sectarian identities, leading to occasional tensions and conflicts.  Despite these challenges, Pakistan has made efforts to strengthen democratic institutions and promote greater political participation, though significant hurdles remain.\\n\\nEconomically, Pakistan faces a multifaceted set of challenges.  Despite possessing a relatively young and growing population, which could be a significant demographic dividend, the country grapples with widespread poverty, inequality, and unemployment.  The agricultural sector, while crucial to the economy, remains vulnerable to climate change, water scarcity, and a lack of modernization.  Industrial development has been uneven, hampered by infrastructure limitations, energy shortages, and inconsistent policy implementation.  The informal economy plays a significant role, hindering efforts to promote sustainable and inclusive growth.  Furthermore, Pakistan's economic performance has been marked by periods of growth interspersed with periods of instability, influenced by both domestic factors and global economic trends.\\n\\nSecurity concerns have deeply impacted Pakistan's development trajectory.  The country has faced numerous internal security challenges, including insurgencies, sectarian violence, and terrorism.  The ongoing conflict in Afghanistan has further complicated the security landscape, posing significant threats to regional stability and diverting resources away from crucial development priorities.  These security concerns have resulted in significant human cost and have hindered progress in areas such as education, healthcare, and infrastructure development.\\n\\nCulturally, Pakistan is a land of remarkable diversity.  Its vibrant traditions, languages, and arts reflect a confluence of influences from various historical periods and geographic regions.  Music, literature, and cuisine vary significantly across the different provinces, reflecting unique regional identities.  The Sufi tradition, with its emphasis on mysticism and tolerance, has played a significant role in shaping Pakistani culture.  However, challenges remain in preserving and promoting this diverse cultural heritage in the face of modernization and globalization.\\n\\nLooking towards the future, Pakistan faces both significant opportunities and challenges.  Addressing its economic disparities, strengthening democratic institutions, and fostering greater social cohesion are crucial for achieving sustainable development.  Investing in education, healthcare, and infrastructure is vital for unlocking the potential of its young population.  Promoting regional peace and stability is essential for attracting foreign investment and fostering economic growth.  Overcoming the legacy of partition and building a national identity that transcends ethnic and sectarian divisions remains a central challenge.  The path towards a prosperous and peaceful future requires a concerted effort to address these complex issues and harness the nation's immense potential.\\n\", additional_kwargs={}, response_metadata={'prompt_feedback': {'block_reason': 0, 'safety_ratings': []}, 'finish_reason': 'STOP', 'safety_ratings': []}, id='run-b053d5cd-95cc-4da8-883f-431b0638ad88-0', usage_metadata={'input_tokens': 1223, 'output_tokens': 1104, 'total_tokens': 2327, 'input_token_details': {'cache_read': 0}})}}\n"
     ]
    }
   ],
   "source": [
    "input = HumanMessage(content=\"please write an essay of pakistan in 1300 words\")\n",
    "for chunk in final_graph.stream({'messages':[input]},config,stream_mode='updates'):\n",
    "    print(chunk)\n",
    "     \n",
    "  "
   ]
  },
  {
   "cell_type": "code",
   "execution_count": 23,
   "metadata": {},
   "outputs": [
    {
     "name": "stdout",
     "output_type": "stream",
     "text": [
      "{'messages': [HumanMessage(content='please write an essay of pakistan in 1300 words', additional_kwargs={}, response_metadata={}, id='a6525396-312a-459f-90e8-f4dc815f27c5'), AIMessage(content=\"Pakistan, a nation forged in the crucible of partition in 1947, stands as a testament to both remarkable resilience and persistent challenges.  Its journey, marked by periods of political instability, economic hardship, and security concerns, is interwoven with a rich tapestry of cultural heritage, geographical diversity, and a burgeoning young population.  Understanding Pakistan requires navigating these complex and often contradictory facets of its identity.\\n\\nGeographically, Pakistan is a land of striking contrasts.  From the towering peaks of the Himalayas and Karakoram ranges, home to some of the world's highest mountains, to the arid deserts of Balochistan and the fertile plains of the Indus River valley, the country presents a breathtaking panorama.  This diverse landscape has shaped its history, influencing agricultural practices, settlement patterns, and the development of distinct regional cultures.  The Indus River, the lifeblood of the nation, has nourished civilizations for millennia, its fertile banks witnessing the rise and fall of empires.  The coastline along the Arabian Sea offers further diversity, supporting fishing communities and providing access to international trade routes.\\n\\nHistorically, Pakistan's narrative is deeply intertwined with the broader South Asian context.  The Indus Valley Civilization, one of the world's oldest urban civilizations, flourished in the region thousands of years ago, leaving behind a legacy of sophisticated urban planning and technological advancements.  Later, waves of migrations and conquests, including the arrival of the Aryans, the Greeks under Alexander the Great, and the establishment of the Mughal Empire, all contributed to the shaping of its cultural and linguistic landscape.  The Mughal period, in particular, left an enduring mark on Pakistani art, architecture, and cuisine.  The legacy of the British Raj, culminating in the partition of India, remains a defining moment in Pakistan's history, shaping its political structures and social fabric.\\n\\nThe creation of Pakistan as an independent state was accompanied by immense upheaval and violence.  The partition resulted in a massive displacement of populations, leading to widespread suffering and communal tensions that continue to resonate today.  The early years of the nation were marked by efforts to establish a stable political system and consolidate its territorial integrity.  However, the path to stability has been far from smooth.  Pakistan has experienced periods of military rule interspersed with periods of democratic governance, often characterized by political instability and internal conflicts.  The struggle to balance civilian and military power has been a recurring theme throughout its history.\\n\\nEconomically, Pakistan faces significant challenges.  Despite possessing a relatively young and growing population, which could be a significant demographic dividend, the nation grapples with widespread poverty, inequality, and unemployment.  The agricultural sector, while crucial to the economy, remains vulnerable to climate change and lacks modernization.  Industrial development has been uneven, hampered by infrastructure limitations and a lack of consistent policy.  Furthermore, dependence on foreign aid and fluctuating global markets has added to economic volatility.  The informal economy plays a significant role, hindering efforts to promote sustainable and inclusive growth.\\n\\nSecurity concerns have also deeply impacted Pakistan's development trajectory.  The country has faced numerous internal security challenges, including insurgencies, sectarian violence, and terrorism.  The ongoing conflict in Afghanistan has further complicated the security landscape, posing significant threats to regional stability.  These security concerns have diverted substantial resources away from development priorities, hindering progress in areas such as education, healthcare, and infrastructure.\\n\\nCulturally, Pakistan boasts a remarkable richness and diversity.  Its vibrant traditions, languages, and arts reflect a confluence of influences from various historical periods and geographic regions.  Music, literature, and cuisine vary significantly across the different provinces, reflecting unique regional identities.  The Sufi tradition, with its emphasis on mysticism and tolerance, has played a significant role in shaping Pakistani culture.  However, challenges remain in preserving and promoting this diverse cultural heritage in the face of modernization and globalization.\\n\\nLooking towards the future, Pakistan faces significant opportunities and challenges.  Addressing its economic disparities, strengthening democratic institutions, and fostering greater social cohesion are crucial for achieving sustainable development.  Investing in education, healthcare, and infrastructure is vital for unlocking the potential of its young population.  Promoting peace and stability within the region is essential for attracting foreign investment and fostering economic growth.  Overcoming the legacy of partition and building a national identity that transcends ethnic and sectarian divisions remains a central challenge.\\n\\nIn conclusion, Pakistan is a nation of profound complexities.  Its history, geography, and culture have shaped its present, while its current challenges and opportunities will define its future.  The path forward demands a commitment to good governance, inclusive economic growth, and the fostering of a more just and equitable society.  The journey is undoubtedly challenging, but the potential for a prosperous and peaceful Pakistan remains a powerful and compelling aspiration.\\n\", additional_kwargs={}, response_metadata={'prompt_feedback': {'block_reason': 0, 'safety_ratings': []}, 'finish_reason': 'STOP', 'safety_ratings': []}, id='run-498f4637-8382-4851-9226-a0c391587c57-0', usage_metadata={'input_tokens': 937, 'output_tokens': 960, 'total_tokens': 1897, 'input_token_details': {'cache_read': 0}}), HumanMessage(content='please write an essay of pakistan in 1300 words', additional_kwargs={}, response_metadata={}, id='26e8f3c9-21cc-4748-a681-8d662e9fb1de'), AIMessage(content=\"Pakistan, a nation born from the tumultuous partition of India in 1947, presents a complex and multifaceted tapestry of history, geography, culture, and politics.  Its journey has been marked by both remarkable achievements and persistent challenges, shaping its identity as a nation striving for stability and progress in a volatile region.  Understanding Pakistan requires a nuanced appreciation of its diverse landscapes, its rich cultural heritage, its turbulent political history, and the ongoing economic and security concerns that continue to shape its destiny.\\n\\nGeographically, Pakistan is a land of stark contrasts.  From the snow-capped peaks of the Himalayas and Karakoram ranges, home to K2, the world's second-highest mountain, to the arid deserts of Balochistan and the fertile alluvial plains of the Indus River valley, the country encompasses a wide range of terrains.  The Indus River, the lifeblood of the nation, has nurtured civilizations for millennia, its fertile banks providing the cradle for some of the earliest known urban settlements.  The coastal regions along the Arabian Sea support vibrant fishing communities and provide access to vital sea routes.  This geographical diversity has profoundly influenced the development of distinct regional cultures and economic activities, creating both opportunities and challenges for national integration.\\n\\nHistorically, Pakistan's narrative is deeply interwoven with the broader South Asian context.  The Indus Valley Civilization, one of the world's oldest urban civilizations, flourished in the region thousands of years ago, leaving behind evidence of sophisticated urban planning, irrigation systems, and a complex social structure.  Subsequent waves of migration and conquest, including the arrival of the Aryans, the conquests of Alexander the Great, and the establishment of the Mughal Empire, all left their indelible marks on the region's cultural and linguistic landscape.  The Mughal period, in particular, significantly influenced Pakistani art, architecture, and cuisine, leaving behind a legacy of magnificent monuments and a rich artistic tradition.  The British colonial period, culminating in the partition of India, remains a defining moment in Pakistan's history, shaping its political structures, administrative systems, and social divisions.\\n\\nThe partition of 1947 was a traumatic event, resulting in widespread displacement, violence, and the creation of two independent states – India and Pakistan.  This tumultuous birth profoundly impacted Pakistan's early years, shaping its national identity and leaving a legacy of unresolved issues that continue to affect its relationship with India.  The newly formed nation faced immediate challenges in establishing a stable political system, integrating diverse regional populations, and addressing the enormous humanitarian crisis caused by the mass migration.  The early decades of independence were characterized by political instability, military interventions, and struggles to consolidate national unity.\\n\\nPolitically, Pakistan has experienced a complex interplay between civilian and military rule.  Periods of democratic governance have been interspersed with periods of military dictatorship, often marked by authoritarian rule and suppression of dissent.  The struggle to balance civilian authority and military influence remains a central theme in Pakistani politics, influencing the country's trajectory and its relationship with the international community.  The political landscape is also characterized by a complex interplay of ethnic and sectarian identities, leading to occasional tensions and conflicts.  Despite these challenges, Pakistan has made efforts to strengthen democratic institutions and promote greater political participation, though significant hurdles remain.\\n\\nEconomically, Pakistan faces a multifaceted set of challenges.  Despite possessing a relatively young and growing population, which could be a significant demographic dividend, the country grapples with widespread poverty, inequality, and unemployment.  The agricultural sector, while crucial to the economy, remains vulnerable to climate change, water scarcity, and a lack of modernization.  Industrial development has been uneven, hampered by infrastructure limitations, energy shortages, and inconsistent policy implementation.  The informal economy plays a significant role, hindering efforts to promote sustainable and inclusive growth.  Furthermore, Pakistan's economic performance has been marked by periods of growth interspersed with periods of instability, influenced by both domestic factors and global economic trends.\\n\\nSecurity concerns have deeply impacted Pakistan's development trajectory.  The country has faced numerous internal security challenges, including insurgencies, sectarian violence, and terrorism.  The ongoing conflict in Afghanistan has further complicated the security landscape, posing significant threats to regional stability and diverting resources away from crucial development priorities.  These security concerns have resulted in significant human cost and have hindered progress in areas such as education, healthcare, and infrastructure development.\\n\\nCulturally, Pakistan is a land of remarkable diversity.  Its vibrant traditions, languages, and arts reflect a confluence of influences from various historical periods and geographic regions.  Music, literature, and cuisine vary significantly across the different provinces, reflecting unique regional identities.  The Sufi tradition, with its emphasis on mysticism and tolerance, has played a significant role in shaping Pakistani culture.  However, challenges remain in preserving and promoting this diverse cultural heritage in the face of modernization and globalization.\\n\\nLooking towards the future, Pakistan faces both significant opportunities and challenges.  Addressing its economic disparities, strengthening democratic institutions, and fostering greater social cohesion are crucial for achieving sustainable development.  Investing in education, healthcare, and infrastructure is vital for unlocking the potential of its young population.  Promoting regional peace and stability is essential for attracting foreign investment and fostering economic growth.  Overcoming the legacy of partition and building a national identity that transcends ethnic and sectarian divisions remains a central challenge.  The path towards a prosperous and peaceful future requires a concerted effort to address these complex issues and harness the nation's immense potential.\\n\", additional_kwargs={}, response_metadata={'prompt_feedback': {'block_reason': 0, 'safety_ratings': []}, 'finish_reason': 'STOP', 'safety_ratings': []}, id='run-b053d5cd-95cc-4da8-883f-431b0638ad88-0', usage_metadata={'input_tokens': 1223, 'output_tokens': 1104, 'total_tokens': 2327, 'input_token_details': {'cache_read': 0}}), HumanMessage(content='please write an essay of pakistan in 1300 words', additional_kwargs={}, response_metadata={}, id='141a50c4-2bcc-4e59-b85e-ace62ff7b2c8')], 'summary': \"The conversation began with the user requesting several essays about Pakistan, each limited to approximately 300 words.  These essays explored various facets of the country, including its diverse geography, rich history encompassing ancient civilizations and the Mughal Empire, its vibrant cultural heritage, and the significant political and economic challenges it faces.  These challenges included political instability, security concerns, economic disparities, and the uneven distribution of resources.  The essays also touched upon Pakistan's potential for future growth and the need for sustainable development.  The user requested multiple versions of the essay to explore different perspectives and nuances of the subject.  Following the initial requests, the conversation briefly shifted to a personal interaction where the user revealed their name, Arman, before returning to the primary topic of Pakistan.  Finally, the user requested a significantly longer essay, exceeding 1300 words, providing a more comprehensive and in-depth analysis of Pakistan's history, geography, culture, politics, economy, and future prospects.  This longer essay built upon the themes established in the shorter pieces, providing a more detailed and nuanced exploration of the country's complexities.\\n\"}\n",
      "{'messages': [HumanMessage(content='please write an essay of pakistan in 1300 words', additional_kwargs={}, response_metadata={}, id='a6525396-312a-459f-90e8-f4dc815f27c5'), AIMessage(content=\"Pakistan, a nation forged in the crucible of partition in 1947, stands as a testament to both remarkable resilience and persistent challenges.  Its journey, marked by periods of political instability, economic hardship, and security concerns, is interwoven with a rich tapestry of cultural heritage, geographical diversity, and a burgeoning young population.  Understanding Pakistan requires navigating these complex and often contradictory facets of its identity.\\n\\nGeographically, Pakistan is a land of striking contrasts.  From the towering peaks of the Himalayas and Karakoram ranges, home to some of the world's highest mountains, to the arid deserts of Balochistan and the fertile plains of the Indus River valley, the country presents a breathtaking panorama.  This diverse landscape has shaped its history, influencing agricultural practices, settlement patterns, and the development of distinct regional cultures.  The Indus River, the lifeblood of the nation, has nourished civilizations for millennia, its fertile banks witnessing the rise and fall of empires.  The coastline along the Arabian Sea offers further diversity, supporting fishing communities and providing access to international trade routes.\\n\\nHistorically, Pakistan's narrative is deeply intertwined with the broader South Asian context.  The Indus Valley Civilization, one of the world's oldest urban civilizations, flourished in the region thousands of years ago, leaving behind a legacy of sophisticated urban planning and technological advancements.  Later, waves of migrations and conquests, including the arrival of the Aryans, the Greeks under Alexander the Great, and the establishment of the Mughal Empire, all contributed to the shaping of its cultural and linguistic landscape.  The Mughal period, in particular, left an enduring mark on Pakistani art, architecture, and cuisine.  The legacy of the British Raj, culminating in the partition of India, remains a defining moment in Pakistan's history, shaping its political structures and social fabric.\\n\\nThe creation of Pakistan as an independent state was accompanied by immense upheaval and violence.  The partition resulted in a massive displacement of populations, leading to widespread suffering and communal tensions that continue to resonate today.  The early years of the nation were marked by efforts to establish a stable political system and consolidate its territorial integrity.  However, the path to stability has been far from smooth.  Pakistan has experienced periods of military rule interspersed with periods of democratic governance, often characterized by political instability and internal conflicts.  The struggle to balance civilian and military power has been a recurring theme throughout its history.\\n\\nEconomically, Pakistan faces significant challenges.  Despite possessing a relatively young and growing population, which could be a significant demographic dividend, the nation grapples with widespread poverty, inequality, and unemployment.  The agricultural sector, while crucial to the economy, remains vulnerable to climate change and lacks modernization.  Industrial development has been uneven, hampered by infrastructure limitations and a lack of consistent policy.  Furthermore, dependence on foreign aid and fluctuating global markets has added to economic volatility.  The informal economy plays a significant role, hindering efforts to promote sustainable and inclusive growth.\\n\\nSecurity concerns have also deeply impacted Pakistan's development trajectory.  The country has faced numerous internal security challenges, including insurgencies, sectarian violence, and terrorism.  The ongoing conflict in Afghanistan has further complicated the security landscape, posing significant threats to regional stability.  These security concerns have diverted substantial resources away from development priorities, hindering progress in areas such as education, healthcare, and infrastructure.\\n\\nCulturally, Pakistan boasts a remarkable richness and diversity.  Its vibrant traditions, languages, and arts reflect a confluence of influences from various historical periods and geographic regions.  Music, literature, and cuisine vary significantly across the different provinces, reflecting unique regional identities.  The Sufi tradition, with its emphasis on mysticism and tolerance, has played a significant role in shaping Pakistani culture.  However, challenges remain in preserving and promoting this diverse cultural heritage in the face of modernization and globalization.\\n\\nLooking towards the future, Pakistan faces significant opportunities and challenges.  Addressing its economic disparities, strengthening democratic institutions, and fostering greater social cohesion are crucial for achieving sustainable development.  Investing in education, healthcare, and infrastructure is vital for unlocking the potential of its young population.  Promoting peace and stability within the region is essential for attracting foreign investment and fostering economic growth.  Overcoming the legacy of partition and building a national identity that transcends ethnic and sectarian divisions remains a central challenge.\\n\\nIn conclusion, Pakistan is a nation of profound complexities.  Its history, geography, and culture have shaped its present, while its current challenges and opportunities will define its future.  The path forward demands a commitment to good governance, inclusive economic growth, and the fostering of a more just and equitable society.  The journey is undoubtedly challenging, but the potential for a prosperous and peaceful Pakistan remains a powerful and compelling aspiration.\\n\", additional_kwargs={}, response_metadata={'prompt_feedback': {'block_reason': 0, 'safety_ratings': []}, 'finish_reason': 'STOP', 'safety_ratings': []}, id='run-498f4637-8382-4851-9226-a0c391587c57-0', usage_metadata={'input_tokens': 937, 'output_tokens': 960, 'total_tokens': 1897, 'input_token_details': {'cache_read': 0}}), HumanMessage(content='please write an essay of pakistan in 1300 words', additional_kwargs={}, response_metadata={}, id='26e8f3c9-21cc-4748-a681-8d662e9fb1de'), AIMessage(content=\"Pakistan, a nation born from the tumultuous partition of India in 1947, presents a complex and multifaceted tapestry of history, geography, culture, and politics.  Its journey has been marked by both remarkable achievements and persistent challenges, shaping its identity as a nation striving for stability and progress in a volatile region.  Understanding Pakistan requires a nuanced appreciation of its diverse landscapes, its rich cultural heritage, its turbulent political history, and the ongoing economic and security concerns that continue to shape its destiny.\\n\\nGeographically, Pakistan is a land of stark contrasts.  From the snow-capped peaks of the Himalayas and Karakoram ranges, home to K2, the world's second-highest mountain, to the arid deserts of Balochistan and the fertile alluvial plains of the Indus River valley, the country encompasses a wide range of terrains.  The Indus River, the lifeblood of the nation, has nurtured civilizations for millennia, its fertile banks providing the cradle for some of the earliest known urban settlements.  The coastal regions along the Arabian Sea support vibrant fishing communities and provide access to vital sea routes.  This geographical diversity has profoundly influenced the development of distinct regional cultures and economic activities, creating both opportunities and challenges for national integration.\\n\\nHistorically, Pakistan's narrative is deeply interwoven with the broader South Asian context.  The Indus Valley Civilization, one of the world's oldest urban civilizations, flourished in the region thousands of years ago, leaving behind evidence of sophisticated urban planning, irrigation systems, and a complex social structure.  Subsequent waves of migration and conquest, including the arrival of the Aryans, the conquests of Alexander the Great, and the establishment of the Mughal Empire, all left their indelible marks on the region's cultural and linguistic landscape.  The Mughal period, in particular, significantly influenced Pakistani art, architecture, and cuisine, leaving behind a legacy of magnificent monuments and a rich artistic tradition.  The British colonial period, culminating in the partition of India, remains a defining moment in Pakistan's history, shaping its political structures, administrative systems, and social divisions.\\n\\nThe partition of 1947 was a traumatic event, resulting in widespread displacement, violence, and the creation of two independent states – India and Pakistan.  This tumultuous birth profoundly impacted Pakistan's early years, shaping its national identity and leaving a legacy of unresolved issues that continue to affect its relationship with India.  The newly formed nation faced immediate challenges in establishing a stable political system, integrating diverse regional populations, and addressing the enormous humanitarian crisis caused by the mass migration.  The early decades of independence were characterized by political instability, military interventions, and struggles to consolidate national unity.\\n\\nPolitically, Pakistan has experienced a complex interplay between civilian and military rule.  Periods of democratic governance have been interspersed with periods of military dictatorship, often marked by authoritarian rule and suppression of dissent.  The struggle to balance civilian authority and military influence remains a central theme in Pakistani politics, influencing the country's trajectory and its relationship with the international community.  The political landscape is also characterized by a complex interplay of ethnic and sectarian identities, leading to occasional tensions and conflicts.  Despite these challenges, Pakistan has made efforts to strengthen democratic institutions and promote greater political participation, though significant hurdles remain.\\n\\nEconomically, Pakistan faces a multifaceted set of challenges.  Despite possessing a relatively young and growing population, which could be a significant demographic dividend, the country grapples with widespread poverty, inequality, and unemployment.  The agricultural sector, while crucial to the economy, remains vulnerable to climate change, water scarcity, and a lack of modernization.  Industrial development has been uneven, hampered by infrastructure limitations, energy shortages, and inconsistent policy implementation.  The informal economy plays a significant role, hindering efforts to promote sustainable and inclusive growth.  Furthermore, Pakistan's economic performance has been marked by periods of growth interspersed with periods of instability, influenced by both domestic factors and global economic trends.\\n\\nSecurity concerns have deeply impacted Pakistan's development trajectory.  The country has faced numerous internal security challenges, including insurgencies, sectarian violence, and terrorism.  The ongoing conflict in Afghanistan has further complicated the security landscape, posing significant threats to regional stability and diverting resources away from crucial development priorities.  These security concerns have resulted in significant human cost and have hindered progress in areas such as education, healthcare, and infrastructure development.\\n\\nCulturally, Pakistan is a land of remarkable diversity.  Its vibrant traditions, languages, and arts reflect a confluence of influences from various historical periods and geographic regions.  Music, literature, and cuisine vary significantly across the different provinces, reflecting unique regional identities.  The Sufi tradition, with its emphasis on mysticism and tolerance, has played a significant role in shaping Pakistani culture.  However, challenges remain in preserving and promoting this diverse cultural heritage in the face of modernization and globalization.\\n\\nLooking towards the future, Pakistan faces both significant opportunities and challenges.  Addressing its economic disparities, strengthening democratic institutions, and fostering greater social cohesion are crucial for achieving sustainable development.  Investing in education, healthcare, and infrastructure is vital for unlocking the potential of its young population.  Promoting regional peace and stability is essential for attracting foreign investment and fostering economic growth.  Overcoming the legacy of partition and building a national identity that transcends ethnic and sectarian divisions remains a central challenge.  The path towards a prosperous and peaceful future requires a concerted effort to address these complex issues and harness the nation's immense potential.\\n\", additional_kwargs={}, response_metadata={'prompt_feedback': {'block_reason': 0, 'safety_ratings': []}, 'finish_reason': 'STOP', 'safety_ratings': []}, id='run-b053d5cd-95cc-4da8-883f-431b0638ad88-0', usage_metadata={'input_tokens': 1223, 'output_tokens': 1104, 'total_tokens': 2327, 'input_token_details': {'cache_read': 0}}), HumanMessage(content='please write an essay of pakistan in 1300 words', additional_kwargs={}, response_metadata={}, id='141a50c4-2bcc-4e59-b85e-ace62ff7b2c8'), AIMessage(content=\"Pakistan, a nation carved from the tumultuous partition of British India in 1947, stands as a complex and compelling case study in nation-building.  Its history is a tapestry woven with threads of immense achievement and enduring challenge, a narrative shaped by its unique geography, its diverse cultural heritage, its volatile political landscape, and its persistent struggle for economic stability and security.  Understanding Pakistan requires navigating this intricate web of influences, acknowledging both its remarkable resilience and its ongoing vulnerabilities.\\n\\nGeographically, Pakistan is a land of dramatic contrasts, a mosaic of landscapes that range from the towering peaks of the Himalayas and the Karakoram range – home to K2, the world's second-highest mountain – to the arid deserts of Balochistan and the fertile alluvial plains of the Indus River valley.  This geographical diversity has profoundly shaped the country's history, influencing settlement patterns, agricultural practices, and the development of distinct regional identities.  The Indus River, the lifeblood of the nation, has sustained civilizations for millennia, its fertile banks witnessing the rise and fall of empires and the flourishing of vibrant cultures.  The coastal regions along the Arabian Sea provide access to vital sea routes and support significant fishing communities, further enriching the country's economic and cultural tapestry.\\n\\nHistorically, Pakistan's story is deeply rooted in the broader context of South Asia.  The Indus Valley Civilization, one of the world's oldest urban civilizations, thrived in the region thousands of years ago, leaving behind a legacy of sophisticated urban planning, irrigation systems, and a complex social structure.  Subsequent waves of migration and conquest, including the arrival of the Aryans, the invasion of Alexander the Great, and the establishment of the Mughal Empire, have all left their indelible marks on the region's cultural and linguistic landscape.  The Mughal period, particularly, left a lasting imprint on Pakistani art, architecture, and cuisine, contributing to a rich cultural heritage that continues to shape the nation's identity.  The British colonial period, however, ultimately led to the partition, a traumatic event that irrevocably altered the course of history, creating both Pakistan and India.\\n\\nThe partition of 1947 was a watershed moment, marked by widespread displacement, violence, and communal tensions.  The hastily drawn borders resulted in massive population transfers, causing immense human suffering and leaving a legacy of unresolved issues that continue to impact relations between Pakistan and India.  The newly independent nation faced immediate challenges in establishing a stable political system, integrating diverse regional populations, and addressing the urgent humanitarian needs of millions of displaced people.  The early decades of independence were characterized by political instability, military interventions, and ongoing struggles to consolidate national unity.\\n\\nPolitically, Pakistan has experienced a complex interplay between civilian and military rule.  Periods of democratic governance have been punctuated by periods of military dictatorship, often marked by authoritarian rule and the suppression of dissent.  This struggle for democratic consolidation has been a defining feature of Pakistan's political history, shaping its relationship with the international community and influencing its domestic policies.  The political landscape is further complicated by a complex interplay of ethnic and sectarian identities, leading to occasional tensions and conflicts.  Despite these challenges, Pakistan has made significant strides in strengthening its democratic institutions and promoting greater political participation, though significant hurdles remain.\\n\\nEconomically, Pakistan faces a range of significant challenges.  Despite possessing a relatively young and growing population, which could be a significant demographic dividend, the country grapples with widespread poverty, inequality, and unemployment.  The agricultural sector, while crucial to the economy, remains vulnerable to climate change, water scarcity, and a lack of modernization.  Industrial development has been uneven, hampered by infrastructure limitations, energy shortages, and inconsistent policy implementation.  The informal economy plays a significant role, hindering efforts to promote sustainable and inclusive growth.  Furthermore, Pakistan's economic performance has been characterized by periods of growth interspersed with periods of instability, influenced by both domestic factors and global economic trends.\\n\\nSecurity concerns have profoundly impacted Pakistan's development trajectory.  The country has faced numerous internal security challenges, including insurgencies, sectarian violence, and terrorism.  The ongoing conflict in Afghanistan has further complicated the security landscape, posing significant threats to regional stability and diverting resources away from crucial development priorities.  These security concerns have resulted in significant human costs and have hindered progress in areas such as education, healthcare, and infrastructure development.\\n\\nCulturally, Pakistan is a vibrant and diverse nation.  Its rich traditions, languages, and arts reflect a confluence of influences from various historical periods and geographic regions.  Music, literature, and cuisine vary significantly across the different provinces, reflecting unique regional identities.  The Sufi tradition, with its emphasis on mysticism and tolerance, has played a significant role in shaping Pakistani culture.  However, challenges remain in preserving and promoting this diverse cultural heritage in the face of modernization and globalization.\\n\\nLooking towards the future, Pakistan faces both significant opportunities and challenges.  Addressing its economic disparities, strengthening democratic institutions, and fostering greater social cohesion are crucial for achieving sustainable development.  Investing in education, healthcare, and infrastructure is vital for unlocking the potential of its young population.  Promoting regional peace and stability is essential for attracting foreign investment and fostering economic growth.  Overcoming the legacy of partition and building a national identity that transcends ethnic and sectarian divisions remains a central challenge.  The path towards a prosperous and peaceful future requires a concerted effort to address these complex issues and harness the nation's immense potential.\\n\", additional_kwargs={}, response_metadata={'prompt_feedback': {'block_reason': 0, 'safety_ratings': []}, 'finish_reason': 'STOP', 'safety_ratings': []}, id='run-25271aab-efe8-47c9-87a0-21c686410fba-0', usage_metadata={'input_tokens': 2342, 'output_tokens': 1112, 'total_tokens': 3454, 'input_token_details': {'cache_read': 0}})], 'summary': \"The conversation began with the user requesting several essays about Pakistan, each limited to approximately 300 words.  These essays explored various facets of the country, including its diverse geography, rich history encompassing ancient civilizations and the Mughal Empire, its vibrant cultural heritage, and the significant political and economic challenges it faces.  These challenges included political instability, security concerns, economic disparities, and the uneven distribution of resources.  The essays also touched upon Pakistan's potential for future growth and the need for sustainable development.  The user requested multiple versions of the essay to explore different perspectives and nuances of the subject.  Following the initial requests, the conversation briefly shifted to a personal interaction where the user revealed their name, Arman, before returning to the primary topic of Pakistan.  Finally, the user requested a significantly longer essay, exceeding 1300 words, providing a more comprehensive and in-depth analysis of Pakistan's history, geography, culture, politics, economy, and future prospects.  This longer essay built upon the themes established in the shorter pieces, providing a more detailed and nuanced exploration of the country's complexities.\\n\"}\n"
     ]
    }
   ],
   "source": [
    "input = HumanMessage(content=\"please write an essay of pakistan in 1300 words\")\n",
    "for chunk in final_graph.stream({'messages':[input]},config,stream_mode='values'):\n",
    "    print(chunk)\n",
    "     \n",
    "  "
   ]
  },
  {
   "cell_type": "code",
   "execution_count": 15,
   "metadata": {},
   "outputs": [
    {
     "name": "stdout",
     "output_type": "stream",
     "text": [
      "+++++++++++++++++++++++++++++++++++++++\n",
      "<bound method BaseMessage.pretty_print of HumanMessage(content='please write an essay of pakistan in 300 words', additional_kwargs={}, response_metadata={}, id='279d1851-f339-498f-b43f-f5d68a623023')>\n",
      "+++++++++++++++++++++++++++++++++++++++\n",
      "<bound method BaseMessage.pretty_print of HumanMessage(content='please write an essay of pakistan in 300 words', additional_kwargs={}, response_metadata={}, id='279d1851-f339-498f-b43f-f5d68a623023')>\n",
      "+++++++++++++++++++++++++++++++++++++++\n",
      "<bound method BaseMessage.pretty_print of AIMessage(content=\"Pakistan, a nation forged in the crucible of partition in 1947, is a land of vibrant contrasts.  From the towering Karakoram Range in the north to the Arabian Sea in the south, its geography is breathtakingly diverse, encompassing fertile plains, arid deserts, and snow-capped mountains. This geographical diversity is mirrored in its cultural tapestry, a rich blend of ethnicities, languages, and traditions.  Punjabi, Sindhi, Pashto, and Balochi are just a few of the languages spoken across its provinces.\\n\\nPakistan's history is complex and often turbulent.  Its early years were marked by political instability and economic challenges.  Despite facing numerous hurdles, including periods of military rule and internal conflicts, the country has demonstrated resilience.  Its contributions to the arts, particularly literature and music, are internationally recognized, showcasing a deep-rooted cultural heritage.  The nation boasts a rich literary tradition, with renowned poets and writers shaping its national identity.\\n\\nHowever, Pakistan also grapples with significant challenges.  Poverty remains a pervasive issue, affecting a large segment of the population.  Furthermore, the country faces persistent security threats and struggles with issues of governance and corruption.  Addressing these challenges requires comprehensive and sustainable solutions, focusing on education, economic development, and strengthening democratic institutions.\\n\\nLooking towards the future, Pakistan's potential is immense.  Its young and growing population represents a significant asset, capable of driving economic growth and innovation.  With strategic investments in education, infrastructure, and good governance, Pakistan can overcome its hurdles and unlock its vast potential, securing a brighter future for its citizens.  The path ahead is not without its difficulties, but the spirit of its people and the richness of its heritage offer a strong foundation for progress.\\n\", additional_kwargs={}, response_metadata={'prompt_feedback': {'block_reason': 0, 'safety_ratings': []}, 'finish_reason': 'STOP', 'safety_ratings': []}, id='run-a92b2563-de23-4e6a-808a-f7f17aa786b8-0', usage_metadata={'input_tokens': 13, 'output_tokens': 358, 'total_tokens': 371, 'input_token_details': {'cache_read': 0}})>\n"
     ]
    }
   ],
   "source": [
    "config = {\"configurable\": {\"thread_id\": \"12\"}}\n",
    "input = HumanMessage(content=\"please write an essay of pakistan in 300 words\")\n",
    "for event in final_graph.stream({'messages':[input]},config,stream_mode='values'):\n",
    "    for chunk in event['messages']:\n",
    "       \n",
    "        print('+++++++++++++++++++++++++++++++++++++++') \n",
    "        print(chunk.pretty_print) "
   ]
  },
  {
   "cell_type": "markdown",
   "metadata": {},
   "source": [
    "### Streaming tokens\n",
    "\n",
    "We often want to stream more than graph state.\n",
    "\n",
    "In particular, with chat model calls it is common to stream the tokens as they are generated.\n",
    "\n",
    "We can do this [using the `.astream_events` method](https://langchain-ai.github.io/langgraph/how-tos/streaming-from-final-node/#stream-outputs-from-the-final-node), which streams back events as they happen inside nodes!\n",
    "\n",
    "Each event is a dict with a few keys:\n",
    "\n",
    "* `event`: This is the type of event that is being emitted.\n",
    "* `name`: This is the name of event.\n",
    "* `data`: This is the data associated with the event.\n",
    "* `metadata`: Contains`langgraph_node`, the node emitting the event.\n",
    "\n",
    "Let's have a look."
   ]
  },
  {
   "cell_type": "code",
   "execution_count": 20,
   "metadata": {},
   "outputs": [
    {
     "name": "stdout",
     "output_type": "stream",
     "text": [
      "Your| name is Arman.\n",
      "|"
     ]
    }
   ],
   "source": [
    "node_to_stream = 'conversation'\n",
    "config = {\"configurable\": {\"thread_id\": \"1\"}}\n",
    "input_message = HumanMessage(content=\"what is my name\")\n",
    "async for event in final_graph.astream_events({\"messages\": [input_message]}, config, version=\"v2\"):\n",
    "    # Get chat model tokens from a particular node\n",
    "    if event[\"event\"] == \"on_chat_model_stream\" and event['metadata'].get('langgraph_node','') == node_to_stream:\n",
    "        data = event[\"data\"]\n",
    "        print(data[\"chunk\"].content, end=\"|\")"
   ]
  },
  {
   "cell_type": "code",
   "execution_count": null,
   "metadata": {},
   "outputs": [],
   "source": []
  }
 ],
 "metadata": {
  "kernelspec": {
   "display_name": "Python 3",
   "language": "python",
   "name": "python3"
  },
  "language_info": {
   "codemirror_mode": {
    "name": "ipython",
    "version": 3
   },
   "file_extension": ".py",
   "mimetype": "text/x-python",
   "name": "python",
   "nbconvert_exporter": "python",
   "pygments_lexer": "ipython3",
   "version": "3.12.3"
  }
 },
 "nbformat": 4,
 "nbformat_minor": 2
}
