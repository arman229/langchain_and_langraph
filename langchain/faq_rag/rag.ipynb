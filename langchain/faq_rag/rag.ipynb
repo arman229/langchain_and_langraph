{
  "nbformat": 4,
  "nbformat_minor": 0,
  "metadata": {
    "colab": {
      "provenance": [],
      "toc_visible": true
    },
    "kernelspec": {
      "name": "python3",
      "display_name": "Python 3"
    },
    "language_info": {
      "name": "python"
    }
  },
  "cells": [
    {
      "cell_type": "code",
      "execution_count": 1,
      "metadata": {
        "colab": {
          "base_uri": "https://localhost:8080/"
        },
        "id": "Px_uoMvEA70D",
        "outputId": "197737f6-9c98-4bd2-87b6-e5c85a519f18"
      },
      "outputs": [
        {
          "output_type": "stream",
          "name": "stdout",
          "text": [
            "\u001b[2K   \u001b[90m━━━━━━━━━━━━━━━━━━━━━━━━━━━━━━━━━━━━━━━━\u001b[0m \u001b[32m41.3/41.3 kB\u001b[0m \u001b[31m3.5 MB/s\u001b[0m eta \u001b[36m0:00:00\u001b[0m\n",
            "\u001b[2K   \u001b[90m━━━━━━━━━━━━━━━━━━━━━━━━━━━━━━━━━━━━━━━━\u001b[0m \u001b[32m1.2/1.2 MB\u001b[0m \u001b[31m19.4 MB/s\u001b[0m eta \u001b[36m0:00:00\u001b[0m\n",
            "\u001b[2K   \u001b[90m━━━━━━━━━━━━━━━━━━━━━━━━━━━━━━━━━━━━━━━━\u001b[0m \u001b[32m244.8/244.8 kB\u001b[0m \u001b[31m10.6 MB/s\u001b[0m eta \u001b[36m0:00:00\u001b[0m\n",
            "\u001b[2K   \u001b[90m━━━━━━━━━━━━━━━━━━━━━━━━━━━━━━━━━━━━━━━━\u001b[0m \u001b[32m58.4/58.4 kB\u001b[0m \u001b[31m4.9 MB/s\u001b[0m eta \u001b[36m0:00:00\u001b[0m\n",
            "\u001b[2K   \u001b[90m━━━━━━━━━━━━━━━━━━━━━━━━━━━━━━━━━━━━━━━━\u001b[0m \u001b[32m85.4/85.4 kB\u001b[0m \u001b[31m6.5 MB/s\u001b[0m eta \u001b[36m0:00:00\u001b[0m\n",
            "\u001b[?25h"
          ]
        }
      ],
      "source": [
        "!pip install -q U langchain-pinecone langchain-google-genai"
      ]
    },
    {
      "cell_type": "code",
      "source": [
        "from google.colab import userdata\n",
        "import os\n",
        "os.environ['GOOGLE_API_KEY'] = userdata.get('GEMINI_API_KEY')\n",
        "PINECONE_API_KEY = userdata.get('PINECONE_API_KEY')\n",
        "from pinecone import Pinecone, ServerlessSpec\n",
        "pinecone_object = Pinecone(api_key=PINECONE_API_KEY)\n"
      ],
      "metadata": {
        "id": "jhkgdN2ZBTtu"
      },
      "execution_count": 2,
      "outputs": []
    },
    {
      "cell_type": "code",
      "source": [
        "\n",
        "from langchain_google_genai import GoogleGenerativeAIEmbeddings\n",
        "embedding = GoogleGenerativeAIEmbeddings(model=\"models/embedding-001\")"
      ],
      "metadata": {
        "id": "DGuasrZoEvVC"
      },
      "execution_count": 3,
      "outputs": []
    },
    {
      "cell_type": "code",
      "source": [
        "index_name = 'hair-rag-project-new'\n",
        "pinecone_object.create_index(\n",
        "                name=index_name,\n",
        "                dimension=768,\n",
        "                metric='cosine',\n",
        "                spec=ServerlessSpec(cloud='aws',region='us-east-1')\n",
        ")\n",
        "index= pinecone_object.Index(index_name)"
      ],
      "metadata": {
        "id": "22AqXUbXDcy0"
      },
      "execution_count": 55,
      "outputs": []
    },
    {
      "cell_type": "code",
      "source": [
        "from langchain_pinecone import PineconeVectorStore\n",
        "vector_store = PineconeVectorStore(index=index,embedding=embedding)"
      ],
      "metadata": {
        "id": "AP6_Pd1FFGUR"
      },
      "execution_count": 23,
      "outputs": []
    },
    {
      "cell_type": "code",
      "source": [
        "from langchain_core.documents import Document\n",
        "document_1=Document(page_content=\"How do I track my order? You can track your order by logging into your account and going to the 'Order History' section.\")\n",
        "document_2=    Document(page_content=\"What is your return policy? Our return policy allows returns within 30 days of purchase.\")\n",
        "document_3 = Document(page_content=\"Can I cancel or modify my order after placing it? Yes, you can cancel or modify your order within 24 hours of placing it by contacting our customer support team.\")\n",
        "document_4 = Document(page_content=\"What should I do if I receive a damaged or incorrect item? If you receive a damaged or incorrect item, please contact our support team immediately with your order details and a photo of the item.\")\n",
        "document_5 = Document(page_content=\"Do you offer discounts or promotional codes? Yes, we regularly offer discounts and promotional codes. Sign up for our newsletter or follow us on social media to stay updated.\")\n",
        "document_6 = Document(page_content=\"How long does delivery take? Delivery typically takes 3-7 business days for domestic orders and 7-14 business days for international orders.\")\n",
        "documents =[document_1,document_2,document_3,document_4,document_6,document_5]"
      ],
      "metadata": {
        "id": "gwFr5-CYFetV"
      },
      "execution_count": 56,
      "outputs": []
    },
    {
      "cell_type": "markdown",
      "source": [],
      "metadata": {
        "id": "o-ESu8bBLdrL"
      }
    },
    {
      "cell_type": "code",
      "source": [
        "random_ids = [str(index) for index, _ in enumerate(documents)]\n",
        "\n",
        "response = vector_store.add_documents(documents=documents, ids=random_ids)\n",
        "print(response)"
      ],
      "metadata": {
        "colab": {
          "base_uri": "https://localhost:8080/"
        },
        "id": "9446awcdGJDz",
        "outputId": "0b683e1f-0f46-4f6c-cedd-d05cb82151f2"
      },
      "execution_count": 60,
      "outputs": [
        {
          "output_type": "stream",
          "name": "stdout",
          "text": [
            "['0', '1', '2', '3', '4', '5']\n"
          ]
        }
      ]
    },
    {
      "cell_type": "code",
      "source": [],
      "metadata": {
        "colab": {
          "base_uri": "https://localhost:8080/"
        },
        "id": "0Q77dTprID6i",
        "outputId": "faf6e602-a051-41f0-defa-5a493c8f6c9b"
      },
      "execution_count": 62,
      "outputs": [
        {
          "output_type": "stream",
          "name": "stdout",
          "text": [
            "6\n"
          ]
        }
      ]
    },
    {
      "cell_type": "code",
      "source": [
        "\n",
        "results2 = vector_store.similarity_search_with_score(\n",
        "\"What is the procedure for returning items?\")\n",
        "for res,score in results2:\n",
        "    if score > 0.65:\n",
        "        print(f\"score:{score}, page_content:{res.page_content}, metadata:{res.metadata}\")\n",
        "    print(\"IN general\")\n",
        "    print(f\"score:{score},page_content:{res.page_content},metadata:{res.metadata}\")"
      ],
      "metadata": {
        "colab": {
          "base_uri": "https://localhost:8080/"
        },
        "id": "BbmE1ME2I1B5",
        "outputId": "96517c47-a040-4bc5-a01e-9e7c0b3658c5"
      },
      "execution_count": 71,
      "outputs": [
        {
          "output_type": "stream",
          "name": "stdout",
          "text": [
            "score:0.687536061, page_content:What is your return policy? Our return policy allows returns within 30 days of purchase., metadata:{}\n",
            "IN general\n",
            "score:0.687536061,page_content:What is your return policy? Our return policy allows returns within 30 days of purchase.,metadata:{}\n",
            "IN general\n",
            "score:0.64762485,page_content:What should I do if I receive a damaged or incorrect item? If you receive a damaged or incorrect item, please contact our support team immediately with your order details and a photo of the item.,metadata:{}\n",
            "IN general\n",
            "score:0.606274903,page_content:How do I track my order? You can track your order by logging into your account and going to the 'Order History' section.,metadata:{}\n",
            "IN general\n",
            "score:0.603907764,page_content:Can I cancel or modify my order after placing it? Yes, you can cancel or modify your order within 24 hours of placing it by contacting our customer support team.,metadata:{}\n"
          ]
        }
      ]
    },
    {
      "cell_type": "code",
      "source": [
        "from langchain_google_genai import ChatGoogleGenerativeAI\n",
        "llm = ChatGoogleGenerativeAI(model='gemini-1.5-flash')"
      ],
      "metadata": {
        "id": "t8iD-rycsLlE"
      },
      "execution_count": 81,
      "outputs": []
    },
    {
      "cell_type": "code",
      "source": [
        "\n",
        "from langchain.prompts import PromptTemplate\n",
        "def answer_to_user(query:str):\n",
        "  context_with_scores =vector_store.similarity_search_with_score(query)\n",
        "  filtered_context = [res.page_content for res, score in context_with_scores if score > 0.65]\n",
        "  # if not filtered_context:\n",
        "  #       filtered_context = [\"I’m sorry, I don’t know the answer to that right now.\"]\n",
        "\n",
        "  prompt_template = PromptTemplate(\n",
        "            input_variables=[\"filtered_context\", \"user_query\"],\n",
        "            template=\"\"\"\n",
        "                You are a helpful and knowledgeable chatbot for an e-commerce website. Your job is to answer customer questions based on the provided context. If the answer cannot be found in the context, respond politely with: \"I’m sorry, I don’t know the answer to that right now.\"\n",
        "\n",
        "                ### Context:\n",
        "                {filtered_context}\n",
        "\n",
        "                ### User Question:\n",
        "                {user_query}\n",
        "\n",
        "                ### Guidelines for Responses:\n",
        "                1. Answer based on the provided context.\n",
        "                2. Be concise, friendly, and professional.\n",
        "                3. If unsure, say: \"I’m sorry, I don’t know the answer to that right now.\"\n",
        "                4. Offer help where possible, like checking stock, suggesting products, or explaining policies.\n",
        "\n",
        "                ### Response:\n",
        "            \"\"\"\n",
        "        )\n",
        "\n",
        "  formatted_prompt = prompt_template.format(filtered_context=filtered_context, user_query=query)\n",
        "  final_result = llm.invoke(formatted_prompt)\n",
        "  return final_result\n"
      ],
      "metadata": {
        "id": "xXAZBREIJwyY"
      },
      "execution_count": 79,
      "outputs": []
    },
    {
      "cell_type": "code",
      "source": [
        "final_answer=answer_to_user('what is your return policy')\n",
        "print(final_answer.content)"
      ],
      "metadata": {
        "colab": {
          "base_uri": "https://localhost:8080/"
        },
        "id": "3rRQI1i6tS9f",
        "outputId": "fadfea5b-d385-4b2d-d212-290fc8c9450c"
      },
      "execution_count": 83,
      "outputs": [
        {
          "output_type": "stream",
          "name": "stdout",
          "text": [
            "Our return policy allows returns within 30 days of purchase.\n",
            "\n"
          ]
        }
      ]
    },
    {
      "cell_type": "code",
      "source": [
        "final_answer=answer_to_user('my order is broken how we can register the complain ')\n",
        "print(final_answer.content)"
      ],
      "metadata": {
        "colab": {
          "base_uri": "https://localhost:8080/"
        },
        "id": "0Tye6IVqOE1Q",
        "outputId": "638fa17a-a4bf-45cb-bbb5-f62ead225db4"
      },
      "execution_count": 85,
      "outputs": [
        {
          "output_type": "stream",
          "name": "stdout",
          "text": [
            "Please contact our support team immediately with your order details and a photo of the damaged item.\n",
            "\n"
          ]
        }
      ]
    },
    {
      "cell_type": "code",
      "source": [
        "final_answer=answer_to_user('wrannty ')\n",
        "print(final_answer.content)"
      ],
      "metadata": {
        "colab": {
          "base_uri": "https://localhost:8080/"
        },
        "id": "V0jnEDoROh2T",
        "outputId": "96eee045-f05c-48b1-afa9-94eccf2ca171"
      },
      "execution_count": 86,
      "outputs": [
        {
          "output_type": "stream",
          "name": "stdout",
          "text": [
            "I’m sorry, I don’t know the answer to that right now.\n",
            "\n"
          ]
        }
      ]
    },
    {
      "cell_type": "code",
      "source": [
        "# Get the index statistics\n",
        "index_stats = index.describe_index_stats()\n",
        "\n",
        "# Print the stats\n",
        "print(index_stats)\n"
      ],
      "metadata": {
        "id": "KPWGjL4-JXUW"
      },
      "execution_count": null,
      "outputs": []
    },
    {
      "cell_type": "code",
      "source": [
        "fetched_vector = index.fetch(ids=random_ids)\n",
        "print(len(fetched_vector['vectors']))  # Count the number of fetched vectors\n"
      ],
      "metadata": {
        "id": "5EFZvFV_Kb8c"
      },
      "execution_count": null,
      "outputs": []
    }
  ]
}