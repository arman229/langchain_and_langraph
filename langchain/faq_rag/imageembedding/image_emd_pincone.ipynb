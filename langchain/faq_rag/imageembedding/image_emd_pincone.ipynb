{
 "cells": [
  {
   "cell_type": "code",
   "execution_count": null,
   "metadata": {},
   "outputs": [],
   "source": [
    "!pip install git+https://github.com/openai/CLIP.git\n"
   ]
  },
  {
   "cell_type": "code",
   "execution_count": null,
   "metadata": {},
   "outputs": [],
   "source": [
    "\n",
    "!pip install numpy==1.26.4"
   ]
  },
  {
   "cell_type": "code",
   "execution_count": null,
   "metadata": {},
   "outputs": [],
   "source": [
    "!pip install torch==2.3.1 torchvision==0.18.1 torchaudio==2.3.1\n",
    "\n"
   ]
  },
  {
   "cell_type": "code",
   "execution_count": null,
   "metadata": {},
   "outputs": [],
   "source": [
    "!pip install matplotlib"
   ]
  },
  {
   "cell_type": "code",
   "execution_count": null,
   "metadata": {},
   "outputs": [],
   "source": [
    "import numpy as np\n",
    "import torch\n",
    "import torch.nn.functional as F\n",
    "from PIL import Image\n",
    "import matplotlib.pyplot as plt\n",
    "import torchvision.transforms as transforms\n",
    "import clip\n",
    "\n",
    "device = \"cuda\" if torch.cuda.is_available() else \"cpu\"\n",
    "model, preprocess = clip.load(\"ViT-B/32\", device=device)"
   ]
  },
  {
   "cell_type": "code",
   "execution_count": null,
   "metadata": {},
   "outputs": [],
   "source": [
    "!pip install pinecone\n"
   ]
  },
  {
   "cell_type": "code",
   "execution_count": null,
   "metadata": {},
   "outputs": [],
   "source": [
    "from dotenv import load_dotenv\n",
    "import os\n",
    "from pinecone import Pinecone, ServerlessSpec \n",
    "load_dotenv()\n",
    "\n",
    "\n",
    "\n",
    "import uuid\n",
    "\n",
    "image_paths = ['./image_downloads/image_1.png','./image_downloads/image_16.png','./image_downloads/image_31.png','./image_downloads/image_46.png']\n",
    "new_image_path = './image_downloads/image_46.png'  \n",
    " \n",
    "def get_feature_for_new_image(new_image_path):\n",
    "    image = preprocess(Image.open(new_image_path).convert(\"RGB\"))\n",
    "    image = image.unsqueeze(0).to(device)\n",
    "    with torch.no_grad():\n",
    "        image_feature = model.encode_image(image).float()\n",
    "    print(f\"single_image : {image_feature.squeeze(0).shape}\")     \n",
    "    return image_feature.squeeze(0)\n",
    "\n",
    "def cosine_similarity(v1, v2):\n",
    "    return F.cosine_similarity(v1.unsqueeze(0), v2.unsqueeze(0)).item()\n",
    " \n",
    "new_image_feature = get_feature_for_new_image(new_image_path)\n",
    "\n",
    "\n",
    "GEMINI_API_KEY = os.getenv(\"GEMINI_API_KEY\")\n",
    "PINECONE_API_KEY = os.getenv(\"PINE_CONE_API_KEY\")\n",
    "\n",
    "index_name = \"image-clip-index\"\n",
    "pinecone = Pinecone(api_key=PINECONE_API_KEY)\n",
    "\n",
    "existing_indexes = [i[\"name\"] for i in pinecone.list_indexes()]\n",
    "if index_name not in  existing_indexes:\n",
    "    pinecone.create_index(\n",
    "        name=index_name,\n",
    "        dimension=512,   \n",
    "        metric=\"cosine\",\n",
    "        spec=ServerlessSpec(cloud=\"aws\", region=\"us-east-1\"),\n",
    "    )\n",
    "    print(f\"Index '{index_name}' created.\")\n",
    "else:\n",
    "    print(f\"Index '{index_name}'aleardy exist.\")   \n",
    "    \n",
    "     \n",
    "index = pinecone.Index(index_name) \n",
    "\n",
    "\n",
    "\n",
    "def image_embed_store(image_paths):\n",
    "     \n",
    "    vectors_to_upsert = []\n",
    "    images = [preprocess(Image.open(image_path).convert(\"RGB\")) for image_path in image_paths]\n",
    "    image_input = torch.stack(images).to(device)\n",
    "    with torch.no_grad():\n",
    "        image_features = model.encode_image(image_input).float()  \n",
    "    for idx, feature in enumerate(image_features): \n",
    "        image_filename = os.path.basename(image_paths[idx])          \n",
    "        vector_id = os.path.splitext(image_filename)[0]      \n",
    "        numeric_id = vector_id.split(\"_\")[-1] \n",
    "        vector_data = feature.cpu().tolist() \n",
    "        metadata={\"source\": \"armanstore.com\"}\n",
    "        vectors_to_upsert.append((numeric_id, vector_data, metadata))\n",
    "\n",
    "    index.upsert(vectors=vectors_to_upsert)\n",
    "    print(\"Image features stored in Pinecone.\")\n",
    "\n",
    "    \n",
    "if index_name not in existing_indexes:\n",
    "    image_embed_store(image_paths)\n",
    "    \n",
    "query_vector = new_image_feature.cpu().tolist()\n",
    "\n",
    "results = index.query(vector=query_vector, top_k=5)\n",
    "print(results)\n",
    "for match in results['matches']:\n",
    "    print(f\"Matched ID: {match['id']}, with score: {match['score']:.8f}\")\n",
    "\n",
    "\n"
   ]
  }
 ],
 "metadata": {
  "language_info": {
   "name": "python"
  }
 },
 "nbformat": 4,
 "nbformat_minor": 2
}
