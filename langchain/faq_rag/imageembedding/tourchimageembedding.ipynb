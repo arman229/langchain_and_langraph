{
 "cells": [
  {
   "cell_type": "code",
   "execution_count": null,
   "metadata": {},
   "outputs": [],
   "source": [
    "%pip install git+https://github.com/openai/CLIP.git"
   ]
  },
  {
   "cell_type": "code",
   "execution_count": null,
   "metadata": {},
   "outputs": [],
   "source": [
    "import numpy as np\n",
    "import torch\n",
    "import torch.nn.functional as F\n",
    "from PIL import Image\n",
    "import matplotlib.pyplot as plt\n",
    "import torchvision.transforms as transforms\n",
    "import clip\n",
    "\n",
    "device = \"cuda\" if torch.cuda.is_available() else \"cpu\"\n",
    "model, preprocess = clip.load(\"ViT-B/32\", device=device)\n",
    "\n",
    "image_paths = ['./sample_data/mix.png' ,'./sample_data/whiteshoes.png','./sample_data/whiteshoesdouble.png','./sample_data/newwhite.png', './sample_data/whiteshoesopposite.png' ,'./sample_data/image1.png', './sample_data/image2.png', './sample_data/image3.png', './sample_data/image4.png', './sample_data/image5.png']\n",
    "new_image_path = './sample_data/image5.png'  \n",
    "\n",
    "def get_features_from_image_path(image_paths):\n",
    "    images = [preprocess(Image.open(image_path).convert(\"RGB\")) for image_path in image_paths]\n",
    "    image_input = torch.stack(images).to(device)\n",
    "    with torch.no_grad():\n",
    "        image_features = model.encode_image(image_input).float()\n",
    "    return image_features\n",
    "def get_feature_for_new_image(new_image_path):\n",
    "    image = preprocess(Image.open(new_image_path).convert(\"RGB\"))\n",
    "    image = image.unsqueeze(0).to(device)\n",
    "    with torch.no_grad():\n",
    "        image_feature = model.encode_image(image).float()\n",
    "    return image_feature.squeeze(0)\n",
    "\n",
    "def cosine_similarity(v1, v2):\n",
    "    return F.cosine_similarity(v1.unsqueeze(0), v2.unsqueeze(0)).item()\n",
    "\n",
    "image_features = get_features_from_image_path(image_paths)\n",
    "new_image_feature = get_feature_for_new_image(new_image_path)\n",
    "\n",
    "similarities = []\n",
    "for idx, feature in enumerate(image_features):\n",
    "    sim = cosine_similarity(feature, new_image_feature)\n",
    "    similarities.append((idx, sim))\n",
    "\n",
    "for idx, sim in similarities:\n",
    "    print(f\"Similarity with image {image_paths[idx]}: {sim:.4f}\")\n",
    "\n",
    "threshold = 0.63\n",
    "matching_images = [(idx, sim) for idx, sim in similarities if sim > threshold]\n",
    "\n",
    "if matching_images:\n",
    "    new_image = Image.open(new_image_path).convert(\"RGB\")\n",
    "    fig, axes = plt.subplots(1, len(matching_images) + 1, figsize=(5 * (len(matching_images) + 1), 5))\n",
    "    axes[0].imshow(new_image)\n",
    "    axes[0].axis('off')\n",
    "    axes[0].set_title(\"New Image\")\n",
    "    for i, (idx, sim) in enumerate(matching_images):\n",
    "        matched_image = Image.open(image_paths[idx]).convert(\"RGB\")\n",
    "        axes[i + 1].imshow(matched_image)\n",
    "        axes[i + 1].axis('off')\n",
    "        axes[i + 1].set_title(f\"Sim: {sim:.2f}\")\n",
    "\n",
    "    plt.tight_layout()\n",
    "    plt.show()\n",
    "else:\n",
    "    print(\"No images found with similarity greater than 0.90.\")\n"
   ]
  }
 ],
 "metadata": {
  "language_info": {
   "name": "python"
  }
 },
 "nbformat": 4,
 "nbformat_minor": 2
}
