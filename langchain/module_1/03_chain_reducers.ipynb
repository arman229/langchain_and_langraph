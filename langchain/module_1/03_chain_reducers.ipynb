{
 "cells": [
  {
   "cell_type": "markdown",
   "metadata": {},
   "source": [
    "# What is Chat model\n",
    "A chat model is a language model(LLM) that uses chat messages as input and return chat messages as output.\n",
    "This is a specialized type of LLM designed for converstational interaction. It is trained on conversational data and is able to understand and respond to prompts in a way that simalates human converstion.\n",
    "Note: All chat models are LLM not all LLM are chat models."
   ]
  },
  {
   "cell_type": "markdown",
   "metadata": {},
   "source": [
    "# Messages\n",
    "Definition: Messages are pieces of information or data objects exchanged between nodes in the graph. \n",
    "# State\n",
    "Definition: State is the shared context or memory that persists across the execution of the graph. It stores information that nodes in the graph can read from or write to.\n"
   ]
  },
  {
   "cell_type": "markdown",
   "metadata": {},
   "source": [
    "# Reducer Function\n",
    "A **reducer function** is a function that defines how to update a state value when new data is added. For example, instead of replacing the entire value, it can append new data to the existing state.\n",
    "\n",
    "### Simplest Example\n",
    "Suppose we have a list of messages:\n",
    "\n",
    "#### Initial State:\n",
    "```python\n",
    "messages = [\"Hello!\", \"How are you?\"]\n",
    "```\n",
    "\n",
    "#### New Message:\n",
    "```python\n",
    "new_message = \"I'm fine, thank you!\"\n",
    "```\n",
    "\n",
    "#### Reducer Function:\n",
    "A reducer function appends the new message instead of overwriting the list:\n",
    "\n",
    "```python\n",
    "def add_messages(current_messages, new_message):\n",
    "    return current_messages + [new_message]\n",
    "\n",
    "# Update state\n",
    "messages = add_messages(messages, new_message)\n",
    "\n",
    "print(messages)\n",
    "```\n",
    "\n",
    "#### Output:\n",
    "```plaintext\n",
    "[\"Hello!\", \"How are you?\", \"I'm fine, thank you!\"]\n",
    "```\n",
    "\n",
    "This ensures the new message is added to the existing list, not replacing it."
   ]
  },
  {
   "cell_type": "markdown",
   "metadata": {},
   "source": [
    "## Reducers\n",
    "\n",
    "Now, we have a minor problem!\n",
    "\n",
    "As we discussed, each node will return a new value for our state key `messages`.\n",
    "\n",
    "But, this new value will [will override](https://langchain-ai.github.io/langgraph/concepts/low_level/#reducers) the prior `messages` value.\n",
    "\n",
    "As our graph runs, we want to **append** messages to to our `messages` state key.\n",
    "\n",
    "We can use [reducer functions](https://langchain-ai.github.io/langgraph/concepts/low_level/#reducers) address this.\n",
    "\n",
    "Reducers allow us to specify how state updates are performed.\n",
    "\n",
    "If no reducer function is specified, then it is assumed that updates to the key should *override it* as we saw before.\n",
    "\n",
    "But, to append messages, we can use the pre-built `add_messages` reducer.\n",
    "\n",
    "This ensures that any messages are appended to the existing list of messages.\n",
    "\n",
    "We annotate simply need to annotate our `messages` key with the `add_messages` reducer function as metadata."
   ]
  },
  {
   "cell_type": "markdown",
   "metadata": {},
   "source": [
    "Since having a list of messages in graph state is so common, LangGraph has a pre-built [`MessagesState`](https://langchain-ai.github.io/langgraph/concepts/low_level/#messagesstate)!\n",
    "\n",
    "`MessagesState` is defined:\n",
    "\n",
    "* With a pre-build single `messages` key\n",
    "* This is a list of `AnyMessage` objects\n",
    "* It uses the `add_messages` reducer\n",
    "\n",
    "We'll usually use `MessagesState` because it is less verbose than defining a custom `TypedDict`, as shown above."
   ]
  },
  {
   "cell_type": "code",
   "execution_count": null,
   "metadata": {},
   "outputs": [],
   "source": [
    "from typing import Annotated\n",
    "from typing_extensions import TypedDict\n",
    "from langgraph.graph.message import add_messages\n",
    "from langchain_core.messages import AnyMessage\n",
    "class MessageState(TypedDict):\n",
    "    messages: Annotated[list[AnyMessages,add_messages]]  # Add any keys needed beyond messages, which is pre-built"
   ]
  },
  {
   "cell_type": "code",
   "execution_count": 6,
   "metadata": {},
   "outputs": [],
   "source": [
    "from langchain_core.messages import AIMessage,HumanMessage\n",
    "from langgraph.graph.message import add_messages\n",
    "our_messages = [HumanMessage(content=\"What is AI stand for ?\", name=\"arman\"),\n",
    "    AIMessage(content=\"AI stand for Artificial Inteligince\",name = \"model\")]\n",
    "new_message = HumanMessage(content =\"AI is easy or hard ?\")\n",
    "final_result = add_messages(our_messages,new_message)"
   ]
  },
  {
   "cell_type": "code",
   "execution_count": 7,
   "metadata": {},
   "outputs": [
    {
     "data": {
      "text/plain": [
       "[HumanMessage(content='What is AI stand for ?', additional_kwargs={}, response_metadata={}, name='arman', id='e530c7c0-1f89-499e-9dcb-0cb2d0b72c47'),\n",
       " AIMessage(content='AI stand for Artificial Inteligince', additional_kwargs={}, response_metadata={}, name='model', id='d4142a2d-5341-4450-8a4a-deedeafa8d9c'),\n",
       " HumanMessage(content='AI is easy or hard ?', additional_kwargs={}, response_metadata={}, id='060f69ac-08e0-4aa6-a86f-13f413efef48')]"
      ]
     },
     "execution_count": 7,
     "metadata": {},
     "output_type": "execute_result"
    }
   ],
   "source": [
    "final_result"
   ]
  },
  {
   "cell_type": "code",
   "execution_count": 11,
   "metadata": {},
   "outputs": [],
   "source": [
    "def multiply(num1:float,num2:float)->int:\n",
    "    \"\"\"\n",
    "    Multiply of two numbers like num1 and num2\n",
    "    Args:\n",
    "    num1:first float,\n",
    "    num2:second float\n",
    "\"\"\"\n",
    "    return num1 * num2\n",
    "\n",
    "def add(num1:float,num2:float)->int:\n",
    "    \"\"\"\n",
    "    Add two numbers like num1 and num2 \n",
    "    Args:\n",
    "    num1:first float,\n",
    "    num2:second float\n",
    "    \"\"\"\n",
    "    return num1 + num2"
   ]
  },
  {
   "cell_type": "code",
   "execution_count": 13,
   "metadata": {},
   "outputs": [
    {
     "name": "stdout",
     "output_type": "stream",
     "text": [
      "GEMINI_API_KEY is loaded successfully\n"
     ]
    }
   ],
   "source": [
    "import os\n",
    "from dotenv import load_dotenv\n",
    "load_dotenv()\n",
    "\n",
    "GEMINI_API_KEY = os.getenv( \"GEMINI_API_KEY\")\n",
    "if not GEMINI_API_KEY:\n",
    "    raise valueError(\"GEMINI_API_KEY is not set in the .env file please write api key and proceed further\")\n",
    "print(\"GEMINI_API_KEY is loaded successfully\")\n",
    "    "
   ]
  },
  {
   "cell_type": "code",
   "execution_count": 14,
   "metadata": {},
   "outputs": [
    {
     "name": "stdout",
     "output_type": "stream",
     "text": [
      "content='Hi there! How can I help you today?\\n' additional_kwargs={} response_metadata={'prompt_feedback': {'block_reason': 0, 'safety_ratings': []}, 'finish_reason': 'STOP', 'safety_ratings': []} id='run-051cb572-6224-4ca4-9ff6-0ed440de6fdc-0' usage_metadata={'input_tokens': 2, 'output_tokens': 11, 'total_tokens': 13, 'input_token_details': {'cache_read': 0}}\n"
     ]
    }
   ],
   "source": [
    "from langchain_google_genai import ChatGoogleGenerativeAI\n",
    "llm = ChatGoogleGenerativeAI(api_key = GEMINI_API_KEY,model='gemini-1.5-flash',temperature=0.2)\n",
    "llm_invoke=llm.invoke(\"hi\")\n",
    "print(llm_invoke)"
   ]
  },
  {
   "cell_type": "code",
   "execution_count": 22,
   "metadata": {},
   "outputs": [
    {
     "name": "stdout",
     "output_type": "stream",
     "text": [
      "content='' additional_kwargs={'function_call': {'name': 'add', 'arguments': '{\"num2\": 3.0, \"num1\": 1332.0}'}} response_metadata={'prompt_feedback': {'block_reason': 0, 'safety_ratings': []}, 'finish_reason': 'STOP', 'safety_ratings': []} id='run-fe4f840c-5a04-4e56-9146-2ef8b118e768-0' tool_calls=[{'name': 'multiply', 'args': {'num2': 4.0, 'num1': 333.0}, 'id': '3f11d508-1d95-4266-a646-ecbcc34ace88', 'type': 'tool_call'}, {'name': 'add', 'args': {'num2': 3.0, 'num1': 1332.0}, 'id': 'f3e22569-a8ba-4b45-a2ae-2ca42df263af', 'type': 'tool_call'}] usage_metadata={'input_tokens': 157, 'output_tokens': 10, 'total_tokens': 167, 'input_token_details': {'cache_read': 0}}\n"
     ]
    }
   ],
   "source": [
    "llm_with_tools = llm.bind_tools([multiply,add])\n",
    "calling_llm_with_tools = llm_with_tools.invoke(\"multiply 333 with 4 and then add  3 \")\n",
    "print(calling_llm_with_tools)"
   ]
  },
  {
   "cell_type": "code",
   "execution_count": 55,
   "metadata": {},
   "outputs": [],
   "source": [
    "from langgraph.graph import StateGraph, START,END,MessagesState \n",
    "\n",
    "def fun_llm_calls(msg:MessagesState):\n",
    "    return {\"messages\":[llm_with_tools.invoke(msg[\"messages\"])]}\n",
    "   \n",
    "\n",
    "starting_graph:StateGraph = StateGraph(MessagesState)\n",
    "starting_graph.add_node(\"Node_1\",fun_llm_calls)\n",
    "starting_graph.add_edge(START, 'Node_1')\n",
    "starting_graph.add_edge('Node_1' ,END)\n",
    "graph_compling = starting_graph.compile()"
   ]
  },
  {
   "cell_type": "code",
   "execution_count": 56,
   "metadata": {},
   "outputs": [
    {
     "data": {
      "image/png": "[encoded data removed]",
      "text/plain": [
       "<IPython.core.display.Image object>"
      ]
     },
     "metadata": {},
     "output_type": "display_data"
    }
   ],
   "source": [
    "from IPython.display import display,Image\n",
    "display(Image(graph_compling.get_graph().draw_mermaid_png()))\n",
    " "
   ]
  },
  {
   "cell_type": "code",
   "execution_count": null,
   "metadata": {},
   "outputs": [
    {
     "name": "stdout",
     "output_type": "stream",
     "text": [
      "================================\u001b[1m Human Message \u001b[0m=================================\n",
      "\n",
      "Hello!\n",
      "==================================\u001b[1m Ai Message \u001b[0m==================================\n",
      "\n",
      "Hello! How can I help you today?\n"
     ]
    }
   ],
   "source": [
    "result = graph_compling.invoke({\"messages\": HumanMessage(content=\"Hello! how are you\")})\n",
    "for m in result[\"messages\"]:\n",
    "    m.pretty_print()"
   ]
  },
  {
   "cell_type": "code",
   "execution_count": 62,
   "metadata": {},
   "outputs": [
    {
     "name": "stdout",
     "output_type": "stream",
     "text": [
      "================================\u001b[1m Human Message \u001b[0m=================================\n",
      "\n",
      "multiply 333 with 4 and then add  3\n",
      "==================================\u001b[1m Ai Message \u001b[0m==================================\n",
      "Tool Calls:\n",
      "  multiply (e4fe8658-2447-4462-b595-1f5794a6e3b5)\n",
      " Call ID: e4fe8658-2447-4462-b595-1f5794a6e3b5\n",
      "  Args:\n",
      "    num2: 4.0\n",
      "    num1: 333.0\n",
      "  add (506c77f2-821b-4adf-9452-248ae2ff3211)\n",
      " Call ID: 506c77f2-821b-4adf-9452-248ae2ff3211\n",
      "  Args:\n",
      "    num2: 3.0\n",
      "    num1: 1332.0\n"
     ]
    }
   ],
   "source": [
    "messages = graph_compling.invoke({\"messages\": HumanMessage(content=\"multiply 333 with 4 and then add  3\")})\n",
    "for m in messages['messages']:\n",
    "    m.pretty_print()"
   ]
  }
 ],
 "metadata": {
  "kernelspec": {
   "display_name": "Python 3",
   "language": "python",
   "name": "python3"
  },
  "language_info": {
   "codemirror_mode": {
    "name": "ipython",
    "version": 3
   },
   "file_extension": ".py",
   "mimetype": "text/x-python",
   "name": "python",
   "nbconvert_exporter": "python",
   "pygments_lexer": "ipython3",
   "version": "3.12.3"
  }
 },
 "nbformat": 4,
 "nbformat_minor": 2
}
