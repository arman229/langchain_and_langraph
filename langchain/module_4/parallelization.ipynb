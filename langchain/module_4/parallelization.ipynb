{
  "cells": [
    {
      "cell_type": "markdown",
      "source": [
        "# Command: A new tool for building multi-agent architectures in LangGraph\n",
        "\n",
        "\n",
        "Building agentic and multi-agent systems is all about communication.\n",
        "\n",
        "Now, nodes can dynamically decide which node to execute next, improving flexibility and simplifying complex workflows.\n",
        "\n",
        "#### **What's New:**\n",
        "- **Edgeless graphs:** Nodes no longer need edges to connect. Instead, they can directly specify which node to go to next, making your agent flows more intuitive and adaptable.\n",
        "\n",
        "- **Enhanced control:** Control the flow after the state update by returning a Command that points to the next node, enabling dynamic, real-time decision-making."
      ],
      "metadata": {
        "id": "bDEGVWarlKXO"
      }
    },
    {
      "cell_type": "markdown",
      "source": [
        "- **Edgeless graphs:** Nodes no longer need edges to connect. Instead, they can directly specify which node to go to next, making your agent flows more intuitive and adaptable.\n"
      ],
      "metadata": {
        "id": "F9dA2jREk_n2"
      }
    },
    {
      "cell_type": "code",
      "execution_count": 2,
      "metadata": {
        "id": "0WR53TsHHPKi"
      },
      "outputs": [],
      "source": [
        "%%capture --no-stderr\n",
        "%pip install -U langgraph wikipedia langchain-community langchain-google-genai"
      ]
    },
    {
      "cell_type": "markdown",
      "source": [
        "Let's learn it with a simple example - An\n",
        "AI-powered home search engine like: https://flyhomes.com/.\n"
      ],
      "metadata": {
        "id": "rkFbyWrwlSNW"
      }
    },
    {
      "cell_type": "markdown",
      "source": [
        "## S1: Understand Command Basic Usage"
      ],
      "metadata": {
        "id": "Pnj8p_-3lW5l"
      }
    },
    {
      "cell_type": "code",
      "source": [
        "from typing_extensions import TypedDict\n",
        "from langgraph.graph import StateGraph,START,END\n",
        "from langgraph.graph.state import CompiledStateGraph\n",
        "from IPython.display import Image,display\n",
        "class State(TypedDict):\n",
        "  value:str\n",
        "\n",
        "class ReturnedNodeValue:\n",
        "  def __init__(self,value):\n",
        "    self.value = value\n",
        "  def __call__(self,state:State):\n",
        "    print(f\"Adding this value {state['value']}\")\n",
        "    return {\"value\": self.value}\n",
        "\n",
        "\n",
        "builder = StateGraph(State)\n",
        "builder.add_node('a',ReturnedNodeValue(\"A\"))\n",
        "builder.add_node('b',ReturnedNodeValue(\"B\"))\n",
        "builder.add_node('c',ReturnedNodeValue(\"C\"))\n",
        "builder.add_node('d',ReturnedNodeValue(\"D\"))\n",
        "builder.add_node('e',ReturnedNodeValue(\"E\"))\n",
        "builder.add_node('f',ReturnedNodeValue(\"F\"))\n",
        "\n",
        "builder.add_edge(START,'a')\n",
        "builder.add_edge('a','b')\n",
        "builder.add_edge('b','c')\n",
        "builder.add_edge('c','d')\n",
        "builder.add_edge('d','e')\n",
        "builder.add_edge('e','f')\n",
        "builder.add_edge('f',END)\n",
        "graph = builder.compile()\n",
        "display(Image(graph.get_graph().draw_mermaid_png()))"
      ],
      "metadata": {
        "id": "NOglAEPz1pTw",
        "outputId": "3c38a672-a23e-4715-b4db-610374fd05b1",
        "colab": {
          "base_uri": "https://localhost:8080/",
          "height": 747
        }
      },
      "execution_count": 3,
      "outputs": [
        {
          "output_type": "display_data",
          "data": {
            "image/png": "[encoded data removed]",
            "text/plain": [
              "<IPython.core.display.Image object>"
            ]
          },
          "metadata": {}
        }
      ]
    },
    {
      "cell_type": "markdown",
      "source": [
        "We over-write state, as expected."
      ],
      "metadata": {
        "id": "Lciza4lsdec3"
      }
    },
    {
      "cell_type": "code",
      "execution_count": 4,
      "metadata": {
        "colab": {
          "base_uri": "https://localhost:8080/"
        },
        "id": "sFZfTRfwHR1S",
        "outputId": "11efc36f-3a2a-46a8-d632-086254089d4d"
      },
      "outputs": [
        {
          "output_type": "stream",
          "name": "stdout",
          "text": [
            "Adding this value \n",
            "Adding this value A\n",
            "Adding this value B\n",
            "Adding this value C\n",
            "Adding this value D\n",
            "Adding this value E\n"
          ]
        }
      ],
      "source": [
        " resp = graph.invoke({\"value\":\"\"})"
      ]
    },
    {
      "cell_type": "markdown",
      "source": [
        "Now, let's run `b` and `c` in parallel.\n",
        "\n",
        "And then run `d`.\n",
        "\n",
        "We can do this easily with fan-out from `a` to `b` and `c`, and then fan-in to `d`.\n",
        "\n",
        "The the state updates are applied at the end of each step.\n",
        "\n",
        "Let's run it."
      ],
      "metadata": {
        "id": "r__6GLp9dhb2"
      }
    },
    {
      "cell_type": "code",
      "source": [
        "from typing_extensions import TypedDict\n",
        "from langgraph.graph import StateGraph,START,END\n",
        "from langgraph.graph.state import CompiledStateGraph\n",
        "from IPython.display import Image,display\n",
        "class State(TypedDict):\n",
        "  value:str\n",
        "\n",
        "class ReturnedNodeValue:\n",
        "  def __init__(self,value):\n",
        "    self.value = value\n",
        "  def __call__(self,state:State):\n",
        "    print(f\"Adding this value {state['value']}\")\n",
        "    return {\"value\": self.value}\n",
        "\n",
        "\n",
        "builder = StateGraph(State)\n",
        "builder.add_node('a',ReturnedNodeValue(\"A\"))\n",
        "builder.add_node('b',ReturnedNodeValue(\"B\"))\n",
        "builder.add_node('c',ReturnedNodeValue(\"C\"))\n",
        "builder.add_node('d',ReturnedNodeValue(\"D\"))\n",
        "\n",
        "builder.add_edge(START,'a')\n",
        "builder.add_edge('c','d')\n",
        "builder.add_edge('b','d')\n",
        "builder.add_edge('a','c')\n",
        "builder.add_edge('a','b')\n",
        "builder.add_edge('d',END)\n",
        "graph = builder.compile()\n",
        "display(Image(graph.get_graph().draw_mermaid_png()))"
      ],
      "metadata": {
        "id": "UoWxvFUbdwUT",
        "outputId": "2ac75c11-dc9e-45e0-e10c-27f92e915c9f",
        "colab": {
          "base_uri": "https://localhost:8080/",
          "height": 449
        }
      },
      "execution_count": 5,
      "outputs": [
        {
          "output_type": "display_data",
          "data": {
            "image/png": "[encoded data removed]",
            "text/plain": [
              "<IPython.core.display.Image object>"
            ]
          },
          "metadata": {}
        }
      ]
    },
    {
      "cell_type": "code",
      "source": [
        "from langgraph.errors import InvalidUpdateError\n",
        "try:\n",
        "    graph.invoke({\"value\":\"\"})\n",
        "except InvalidUpdateError as e:\n",
        "    print(f\"An error occurred: {e}\")"
      ],
      "metadata": {
        "id": "xpmKmtwrdniP",
        "outputId": "743c091c-e526-4110-831e-cd4b88e964c7",
        "colab": {
          "base_uri": "https://localhost:8080/"
        }
      },
      "execution_count": 6,
      "outputs": [
        {
          "output_type": "stream",
          "name": "stdout",
          "text": [
            "Adding this value \n",
            "Adding this value A\n",
            "Adding this value A\n",
            "An error occurred: At key 'value': Can receive only one value per step. Use an Annotated key to handle multiple values.\n",
            "For troubleshooting, visit: https://python.langchain.com/docs/troubleshooting/errors/INVALID_CONCURRENT_GRAPH_UPDATE\n"
          ]
        }
      ]
    },
    {
      "cell_type": "markdown",
      "source": [
        "When using fan out, we need to be sure that we are using a reducer if steps are writing to the same the channel / key.\n",
        "\n",
        "As we touched on in Module 2, `operator.add` is a function from Python's built-in operator module.\n",
        "\n",
        "When `operator.add` is applied to lists, it performs list concatenation."
      ],
      "metadata": {
        "id": "PbJBuu0bfMip"
      }
    },
    {
      "cell_type": "code",
      "source": [
        "from typing_extensions import TypedDict\n",
        "from typing import Annotated\n",
        "import operator\n",
        "from langgraph.graph import StateGraph,START,END\n",
        "from langgraph.graph.state import CompiledStateGraph\n",
        "from IPython.display import Image,display\n",
        "class State(TypedDict):\n",
        "  value:Annotated[list,operator.add]\n",
        "\n",
        "class ReturnedNodeValue:\n",
        "  def __init__(self,value):\n",
        "    self.value = value\n",
        "  def __call__(self,state:State):\n",
        "    print(f\"Adding this value {state['value']}\")\n",
        "    return {\"value\": [self.value]}\n",
        "\n",
        "\n",
        "builder = StateGraph(State)\n",
        "builder.add_node('a',ReturnedNodeValue(\"A\"))\n",
        "builder.add_node('b',ReturnedNodeValue(\"B\"))\n",
        "builder.add_node('c',ReturnedNodeValue(\"C\"))\n",
        "builder.add_node('d',ReturnedNodeValue(\"D\"))\n",
        "\n",
        "builder.add_edge(START,'a')\n",
        "builder.add_edge('c','d')\n",
        "builder.add_edge('b','d')\n",
        "builder.add_edge('a','c')\n",
        "builder.add_edge('a','b')\n",
        "builder.add_edge('d',END)\n",
        "graph = builder.compile()\n",
        "display(Image(graph.get_graph().draw_mermaid_png()))"
      ],
      "metadata": {
        "id": "B3ZeujjVeN9f",
        "outputId": "bd3eb498-d194-4e9d-8a20-faaec20f8126",
        "colab": {
          "base_uri": "https://localhost:8080/",
          "height": 449
        }
      },
      "execution_count": 7,
      "outputs": [
        {
          "output_type": "display_data",
          "data": {
            "image/png": "[encoded data removed]",
            "text/plain": [
              "<IPython.core.display.Image object>"
            ]
          },
          "metadata": {}
        }
      ]
    },
    {
      "cell_type": "code",
      "source": [
        "from langgraph.errors import InvalidUpdateError\n",
        "try:\n",
        "    graph.invoke({\"value\":[]})\n",
        "except InvalidUpdateError as e:\n",
        "    print(f\"An error occurred: {e}\")"
      ],
      "metadata": {
        "id": "ttACiQekedMq",
        "outputId": "f5cf3c32-3d58-4eb5-8a0b-b7a645cb8da0",
        "colab": {
          "base_uri": "https://localhost:8080/"
        }
      },
      "execution_count": 8,
      "outputs": [
        {
          "output_type": "stream",
          "name": "stdout",
          "text": [
            "Adding this value []\n",
            "Adding this value ['A']\n",
            "Adding this value ['A']\n",
            "Adding this value ['A', 'B', 'C']\n"
          ]
        }
      ]
    },
    {
      "cell_type": "markdown",
      "source": [
        "## Waiting for nodes to finish\n",
        "\n",
        "Now, lets consider a case where one parallel path has more steps than the other one."
      ],
      "metadata": {
        "id": "x2WO3xJJe3eZ"
      }
    },
    {
      "cell_type": "markdown",
      "source": [
        "## Waiting for nodes to finish\n",
        "\n",
        "Now, lets consider a case where one parallel path has more steps than the other one."
      ],
      "metadata": {
        "id": "F3vEGhoffRgi"
      }
    },
    {
      "cell_type": "code",
      "source": [
        "from typing_extensions import TypedDict\n",
        "from typing import Annotated\n",
        "import operator\n",
        "from langgraph.graph import StateGraph,START,END\n",
        "from langgraph.graph.state import CompiledStateGraph\n",
        "from IPython.display import Image,display\n",
        "class State(TypedDict):\n",
        "  value:Annotated[list,operator.add]\n",
        "\n",
        "class ReturnedNodeValue:\n",
        "  def __init__(self,value):\n",
        "    self.value = value\n",
        "  def __call__(self,state:State):\n",
        "    print(f\"Adding {self.value} to {state['value']}\")\n",
        "    return {\"value\": [self.value]}\n",
        "\n",
        "\n",
        "builder = StateGraph(State)\n",
        "builder.add_node('a',ReturnedNodeValue(\"A\"))\n",
        "builder.add_node('b',ReturnedNodeValue(\"B\"))\n",
        "builder.add_node('b1',ReturnedNodeValue('B1'))\n",
        "builder.add_node('c',ReturnedNodeValue(\"C\"))\n",
        "builder.add_node('d',ReturnedNodeValue(\"D\"))\n",
        "\n",
        "builder.add_edge(START,'a')\n",
        "builder.add_edge('a','b')\n",
        "builder.add_edge('a','c')\n",
        "builder.add_edge('b','b1')\n",
        "builder.add_edge(['b1','c'],'d')\n",
        "\n",
        "\n",
        "\n",
        "builder.add_edge('d',END)\n",
        "graph = builder.compile()\n",
        "display(Image(graph.get_graph().draw_mermaid_png()))"
      ],
      "metadata": {
        "id": "FnyEY3JXsJwY",
        "outputId": "12af682e-dac8-40a7-8eff-b9672f167f13",
        "colab": {
          "base_uri": "https://localhost:8080/",
          "height": 548
        }
      },
      "execution_count": 9,
      "outputs": [
        {
          "output_type": "display_data",
          "data": {
            "image/png": "[encoded data removed]",
            "text/plain": [
              "<IPython.core.display.Image object>"
            ]
          },
          "metadata": {}
        }
      ]
    },
    {
      "cell_type": "code",
      "source": [
        "from langgraph.errors import InvalidUpdateError\n",
        "try:\n",
        "    resp=graph.invoke({\"value\":[]})\n",
        "    print(resp)\n",
        "except InvalidUpdateError as e:\n",
        "    print(f\"An error occurred: {e}\")"
      ],
      "metadata": {
        "id": "pBd0ysCSfyUi",
        "outputId": "dac806cc-1316-4d09-89ea-f241500fad7d",
        "colab": {
          "base_uri": "https://localhost:8080/"
        }
      },
      "execution_count": 10,
      "outputs": [
        {
          "output_type": "stream",
          "name": "stdout",
          "text": [
            "Adding A to []\n",
            "Adding B to ['A']\n",
            "Adding C to ['A']\n",
            "Adding B1 to ['A', 'B', 'C']\n",
            "Adding D to ['A', 'B', 'C', 'B1']\n",
            "{'value': ['A', 'B', 'C', 'B1', 'D']}\n"
          ]
        }
      ]
    },
    {
      "cell_type": "markdown",
      "source": [
        "## Setting the order of state updates\n",
        "\n",
        "However, within each step we don't have specific control over the order of the state updates!\n",
        "\n",
        "In simple terms, it is a deterministic order determined by LangGraph based upon graph topology that **we do not control**.\n",
        "\n",
        "Above, we see that `c` is added before `b2`.\n",
        "\n",
        "However, we can use a custom reducer to customize this e.g., sort state updates."
      ],
      "metadata": {
        "id": "JukXXGYrCT4c"
      }
    },
    {
      "cell_type": "code",
      "source": [
        "from typing_extensions import TypedDict\n",
        "from typing import Annotated\n",
        "import operator\n",
        "from langgraph.graph import StateGraph,START,END\n",
        "from langgraph.graph.state import CompiledStateGraph\n",
        "from IPython.display import Image,display\n",
        "def sorting_reducer(left,right):\n",
        "  if not isinstance(left,list):\n",
        "    left = [left]\n",
        "  if not isinstance(right,list):\n",
        "    right = [right]\n",
        "  return sorted(left + right, reverse=False)\n",
        "\n",
        "class State(TypedDict):\n",
        "  value:Annotated[list,sorting_reducer]\n",
        "\n",
        "class ReturnedNodeValue:\n",
        "  def __init__(self,value):\n",
        "    self.value = value\n",
        "  def __call__(self,state:State):\n",
        "    print(f\"Adding {self.value} to {state['value']}\")\n",
        "    return {\"value\": [self.value]}\n",
        "\n",
        "\n",
        "builder = StateGraph(State)\n",
        "builder.add_node('a',ReturnedNodeValue(\"A\"))\n",
        "builder.add_node('b',ReturnedNodeValue(\"B\"))\n",
        "builder.add_node('b1',ReturnedNodeValue('B1'))\n",
        "builder.add_node('c',ReturnedNodeValue(\"C\"))\n",
        "builder.add_node('d',ReturnedNodeValue(\"D\"))\n",
        "\n",
        "builder.add_edge(START,'a')\n",
        "builder.add_edge('a','b')\n",
        "builder.add_edge('a','c')\n",
        "builder.add_edge('b','b1')\n",
        "builder.add_edge(['b1','c'],'d')\n",
        "\n",
        "\n",
        "\n",
        "builder.add_edge('d',END)\n",
        "graph = builder.compile()\n",
        "display(Image(graph.get_graph().draw_mermaid_png()))"
      ],
      "metadata": {
        "id": "R5yw8iHyCOSc",
        "outputId": "10f0e85a-ac42-4dc1-86d1-e545e0a7666f",
        "colab": {
          "base_uri": "https://localhost:8080/",
          "height": 548
        }
      },
      "execution_count": 13,
      "outputs": [
        {
          "output_type": "display_data",
          "data": {
            "image/png": "[encoded data removed]",
            "text/plain": [
              "<IPython.core.display.Image object>"
            ]
          },
          "metadata": {}
        }
      ]
    },
    {
      "cell_type": "code",
      "source": [
        "from langgraph.errors import InvalidUpdateError\n",
        "try:\n",
        "    resp=graph.invoke({\"value\":[]})\n",
        "    print(resp)\n",
        "except InvalidUpdateError as e:\n",
        "    print(f\"An error occurred: {e}\")"
      ],
      "metadata": {
        "id": "Yg0vVYNwC9qp",
        "outputId": "63a80c80-adf3-4241-c4ae-8eb082fa5f62",
        "colab": {
          "base_uri": "https://localhost:8080/"
        }
      },
      "execution_count": 15,
      "outputs": [
        {
          "output_type": "stream",
          "name": "stdout",
          "text": [
            "Adding A to []\n",
            "Adding B to ['A']\n",
            "Adding C to ['A']\n",
            "Adding B1 to ['A', 'B', 'C']\n",
            "Adding D to ['A', 'B', 'B1', 'C']\n",
            "{'value': ['A', 'B', 'B1', 'C', 'D']}\n"
          ]
        }
      ]
    },
    {
      "cell_type": "markdown",
      "source": [
        "## Working with LLMs\n",
        "\n",
        "Now, lets add a realistic example!\n",
        "\n",
        "We want to gather context from two external sources (Wikipedia and Web-Seach) and have an LLM answer a question."
      ],
      "metadata": {
        "id": "lbP3WPgP9Udy"
      }
    },
    {
      "cell_type": "code",
      "source": [
        "from google.colab import userdata\n",
        "GOOGLE_API_KEY = userdata.get('GEMINI_API_KEY')  # Get the API key from userdata\n",
        "%env GOOGLE_API_KEY = {GOOGLE_API_KEY} # Set as env variable if needed.\n",
        "if not GOOGLE_API_KEY:\n",
        "    raise ValueError('GEMINI_API_KEY is not set in Colab secrets.')\n",
        "print('GOOGLE_GEMINI_API_KEY is loaded successfully.')"
      ],
      "metadata": {
        "id": "Rt8EizwMnOnS"
      },
      "execution_count": null,
      "outputs": []
    },
    {
      "cell_type": "code",
      "source": [
        "from google.colab import userdata\n",
        "from IPython import get_ipython\n",
        "\n",
        "GOOGLE_API_KEY = userdata.get('GEMINI_API_KEY')\n",
        "TAVILY_API_KEY = userdata.get('TAVILY_API_KEY')\n",
        "\n",
        "if GOOGLE_API_KEY and TAVILY_API_KEY:\n",
        "    get_ipython().run_cell_magic('capture', '', '%env GOOGLE_API_KEY = {GOOGLE_API_KEY}')\n",
        "    get_ipython().run_cell_magic('capture', '', '%env TAVILY_API_KEY = {TAVILY_API_KEY}')\n",
        "    print('GOOGLE_GEMINI_API_KEY and TAVILY_API_KEY is loaded successfully.')\n",
        "else:\n",
        "    raise ValueError('GEMINI_API_KEY or TAVILY_API_KEY is not set in Colab secrets.')"
      ],
      "metadata": {
        "id": "PUwKHr4HE3os",
        "outputId": "34eae894-f808-4c87-a9bc-9eab4e53cf1b",
        "colab": {
          "base_uri": "https://localhost:8080/"
        }
      },
      "execution_count": 35,
      "outputs": [
        {
          "output_type": "stream",
          "name": "stdout",
          "text": [
            "GOOGLE_GEMINI_API_KEY and TAVILY_API_KEY is loaded successfully.\n"
          ]
        }
      ]
    },
    {
      "cell_type": "code",
      "source": [
        "from langchain_google_genai import ChatGoogleGenerativeAI\n",
        "llm: ChatGoogleGenerativeAI = ChatGoogleGenerativeAI(model = \"gemini-1.5-flash\")\n"
      ],
      "metadata": {
        "id": "rDvP8oxkE4Nb"
      },
      "execution_count": 27,
      "outputs": []
    },
    {
      "cell_type": "code",
      "source": [
        "llm.invoke(\"hi\")"
      ],
      "metadata": {
        "id": "xTXXOnG2Fu6_",
        "outputId": "25ce788c-17a5-4282-e5d6-c2658f0369a6",
        "colab": {
          "base_uri": "https://localhost:8080/"
        }
      },
      "execution_count": 33,
      "outputs": [
        {
          "output_type": "execute_result",
          "data": {
            "text/plain": [
              "AIMessage(content='Hi there! How can I help you today?', additional_kwargs={}, response_metadata={'prompt_feedback': {'block_reason': 0, 'safety_ratings': []}, 'finish_reason': 'STOP', 'safety_ratings': []}, id='run-686d3438-bd81-42bd-8974-4a7dadfe3c61-0', usage_metadata={'input_tokens': 2, 'output_tokens': 11, 'total_tokens': 13, 'input_token_details': {'cache_read': 0}})"
            ]
          },
          "metadata": {},
          "execution_count": 33
        }
      ]
    },
    {
      "cell_type": "code",
      "source": [
        "from typing_extensions import TypedDict\n",
        "from typing import Annotated\n",
        "from langchain_core.messages import HumanMessage, SystemMessage\n",
        "from langchain_community.document_loaders import WikipediaLoader\n",
        "from langchain_community.tools.tavily_search import TavilySearchResults\n",
        "import operator\n",
        "from langgraph.graph import StateGraph,START,END\n",
        "from langgraph.graph.state import CompiledStateGraph\n",
        "from IPython.display import Image,display\n",
        "class State(TypedDict):\n",
        "  current_context:Annotated[list,operator.add]\n",
        "  question:str\n",
        "  answer:str\n",
        "\n",
        "def search_web(state:State):\n",
        "     \"\"\"Retrieve docs from web search\"\"\"\n",
        "     tavily_search = TavilySearchResults(max_results=3)\n",
        "\n",
        "     tavily_resp = tavily_search.invoke(state[\"question\"])\n",
        "     formatted_search_docs = \"\\n\\n---\\n\\n\".join(\n",
        "        [\n",
        "            f'<Document href=\"{doc[\"url\"]}\"/>\\n{doc[\"content\"]}\\n</Document>'\n",
        "            for doc in tavily_resp\n",
        "        ]\n",
        "     )\n",
        "\n",
        "     return {\"current_context\": [formatted_search_docs]}\n",
        "def search_wikipedia(state:State):\n",
        "     \"\"\" Retrieve docs from wikipedia \"\"\"\n",
        "     search_docs = WikipediaLoader(query=state['question'],load_max_docs=2).load()\n",
        "     formatted_search_docs = \"\\n\\n---\\n\\n\".join(\n",
        "        [\n",
        "            f'<Document source=\"{doc.metadata[\"source\"]}\" page=\"{doc.metadata.get(\"page\", \"\")}\"/>\\n{doc.page_content}\\n</Document>'\n",
        "            for doc in search_docs\n",
        "        ]\n",
        "    )\n",
        "\n",
        "     return {\"current_context\": [formatted_search_docs]}\n",
        "def final_response(state:State):\n",
        "    \"\"\" Node to answer a question \"\"\"\n",
        "    current_context = state[\"current_context\"]\n",
        "    question = state[\"question\"]\n",
        "    answer_template = \"\"\"Answer the question {question} using this context: {current_context}\"\"\"\n",
        "    answer_instructions = answer_template.format(question=question,current_context=current_context)\n",
        "    answer = llm.invoke([SystemMessage(content=answer_instructions)]+[HumanMessage(content=f\"Answer the question.\")])\n",
        "    return {\"answer\": answer}\n",
        "\n",
        "workflow = StateGraph(State)\n",
        "workflow.add_node(\"search_web\",search_web)\n",
        "workflow.add_node(\"search_wikipedia\",search_wikipedia)\n",
        "workflow.add_node(\"final_response\",final_response)\n",
        "\n",
        "\n",
        "workflow.add_edge(START,\"search_web\")\n",
        "workflow.add_edge(START,\"search_wikipedia\")\n",
        "workflow.add_edge(\"search_web\",\"final_response\")\n",
        "workflow.add_edge(\"search_wikipedia\",\"final_response\")\n",
        "workflow.add_edge(\"final_response\",END)\n",
        "graph = workflow.compile()\n",
        "\n",
        "\n",
        "display(Image(graph.get_graph().draw_mermaid_png()))"
      ],
      "metadata": {
        "id": "eFIjXN96Gbuh",
        "outputId": "eccacfa2-ca77-4401-ab28-8c0337c1772b",
        "colab": {
          "base_uri": "https://localhost:8080/",
          "height": 350
        }
      },
      "execution_count": 61,
      "outputs": [
        {
          "output_type": "display_data",
          "data": {
            "image/png": "[encoded data removed]",
            "text/plain": [
              "<IPython.core.display.Image object>"
            ]
          },
          "metadata": {}
        }
      ]
    },
    {
      "cell_type": "code",
      "source": [
        "resp = graph.invoke({\"question\":\"Current prime minister of pakistan and give me complete \"})\n",
        "print(resp['answer'].content)"
      ],
      "metadata": {
        "id": "E4Yo67KlJYTr",
        "outputId": "919a0ebb-fc1e-4427-f14f-61958e6a7fb7",
        "colab": {
          "base_uri": "https://localhost:8080/"
        }
      },
      "execution_count": 65,
      "outputs": [
        {
          "output_type": "stream",
          "name": "stdout",
          "text": [
            "Based on the provided text, the current Prime Minister of Pakistan is **Shehbaz Sharif**.\n"
          ]
        }
      ]
    },
    {
      "cell_type": "code",
      "source": [
        "resp['answer'].content"
      ],
      "metadata": {
        "id": "rLz3MQCON0cJ",
        "outputId": "0f998c34-08fe-4bfb-885f-ab21121704d0",
        "colab": {
          "base_uri": "https://localhost:8080/",
          "height": 70
        }
      },
      "execution_count": 64,
      "outputs": [
        {
          "output_type": "execute_result",
          "data": {
            "text/plain": [
              "\"The provided text does not state that Pakistan is at the top of Agentic AI.  While one document mentions Pakistan's awakening in the field of AI generally, and another discusses Agentic AI, there's no information connecting the two to suggest Pakistan's leading role in Agentic AI development.\""
            ],
            "application/vnd.google.colaboratory.intrinsic+json": {
              "type": "string"
            }
          },
          "metadata": {},
          "execution_count": 64
        }
      ]
    },
    {
      "cell_type": "code",
      "source": [],
      "metadata": {
        "id": "mj8DOyXMN6qP"
      },
      "execution_count": null,
      "outputs": []
    }
  ],
  "metadata": {
    "colab": {
      "provenance": []
    },
    "kernelspec": {
      "display_name": "Python 3",
      "name": "python3"
    },
    "language_info": {
      "name": "python"
    }
  },
  "nbformat": 4,
  "nbformat_minor": 0
}