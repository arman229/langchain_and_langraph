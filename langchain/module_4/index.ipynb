{
 "cells": [
  {
   "cell_type": "code",
   "execution_count": 10,
   "metadata": {},
   "outputs": [],
   "source": [
    "from langchain_core.messages import AIMessage\n",
    "from langgraph.types import Command\n",
    "import random\n",
    "from typing import Literal\n",
    "\n",
    "def node_a(state) -> Command[Literal[\"search_nearby_homes\", \"answer_question\"]]:\n",
    "    print(\"Called A\")\n",
    "\n",
    "    # THis is where llm decides which node shall I go next\n",
    "    value = random.choice([\"search_nearby_homes\", \"answer_question\"])\n",
    "\n",
    "    # This is a replacement for a conditional edge function\n",
    "    if value == \"search_nearby_homes\":\n",
    "        next_step = \"search_nearby_homes\"\n",
    "    else:\n",
    "        next_step = \"answer_question\"\n",
    "\n",
    "    # note how Command allows you to BOTH update the graph state AND route to the next node\n",
    "    return Command(\n",
    "        # this is a replacement for an edge\n",
    "        next_step=next_step,\n",
    "    )\n"
   ]
  },
  {
   "cell_type": "code",
   "execution_count": 11,
   "metadata": {},
   "outputs": [
    {
     "name": "stdout",
     "output_type": "stream",
     "text": [
      "Called A\n"
     ]
    },
    {
     "ename": "TypeError",
     "evalue": "Command.__init__() got an unexpected keyword argument 'next_step'",
     "output_type": "error",
     "traceback": [
      "\u001b[1;31m---------------------------------------------------------------------------\u001b[0m",
      "\u001b[1;31mTypeError\u001b[0m                                 Traceback (most recent call last)",
      "Cell \u001b[1;32mIn[11], line 1\u001b[0m\n\u001b[1;32m----> 1\u001b[0m \u001b[38;5;28mprint\u001b[39m(\u001b[43mnode_a\u001b[49m\u001b[43m(\u001b[49m\u001b[38;5;124;43m\"\u001b[39;49m\u001b[38;5;124;43msearch_nearby_homes\u001b[39;49m\u001b[38;5;124;43m\"\u001b[39;49m\u001b[43m)\u001b[49m)\n",
      "Cell \u001b[1;32mIn[10], line 19\u001b[0m, in \u001b[0;36mnode_a\u001b[1;34m(state)\u001b[0m\n\u001b[0;32m     16\u001b[0m     next_step \u001b[38;5;241m=\u001b[39m \u001b[38;5;124m\"\u001b[39m\u001b[38;5;124manswer_question\u001b[39m\u001b[38;5;124m\"\u001b[39m\n\u001b[0;32m     18\u001b[0m \u001b[38;5;66;03m# note how Command allows you to BOTH update the graph state AND route to the next node\u001b[39;00m\n\u001b[1;32m---> 19\u001b[0m \u001b[38;5;28;01mreturn\u001b[39;00m \u001b[43mCommand\u001b[49m\u001b[43m(\u001b[49m\n\u001b[0;32m     20\u001b[0m \u001b[43m    \u001b[49m\u001b[38;5;66;43;03m# this is a replacement for an edge\u001b[39;49;00m\n\u001b[0;32m     21\u001b[0m \u001b[43m    \u001b[49m\u001b[43mnext_step\u001b[49m\u001b[38;5;241;43m=\u001b[39;49m\u001b[43mnext_step\u001b[49m\u001b[43m,\u001b[49m\n\u001b[0;32m     22\u001b[0m \u001b[43m\u001b[49m\u001b[43m)\u001b[49m\n",
      "\u001b[1;31mTypeError\u001b[0m: Command.__init__() got an unexpected keyword argument 'next_step'"
     ]
    }
   ],
   "source": [
    "print(node_a(\"search_nearby_homes\"))"
   ]
  }
 ],
 "metadata": {
  "kernelspec": {
   "display_name": "Python 3",
   "language": "python",
   "name": "python3"
  },
  "language_info": {
   "codemirror_mode": {
    "name": "ipython",
    "version": 3
   },
   "file_extension": ".py",
   "mimetype": "text/x-python",
   "name": "python",
   "nbconvert_exporter": "python",
   "pygments_lexer": "ipython3",
   "version": "3.12.3"
  }
 },
 "nbformat": 4,
 "nbformat_minor": 2
}
