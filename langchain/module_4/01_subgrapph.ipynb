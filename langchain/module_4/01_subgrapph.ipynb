{
  "cells": [
    {
      "cell_type": "markdown",
      "metadata": {
        "id": "bDEGVWarlKXO"
      },
      "source": [
        "# How to add and use subgraphs\n",
        "**Subgraphs** allow you to build complex systems with multiple components that are themselves graphs. A common use case for using subgraphs is building multi-agent systems.\n",
        "\n",
        "The main question when adding subgraphs is how the parent graph and subgraph communicate, i.e. how they pass the state between each other during the graph execution. There are two scenarios:\n",
        "\n",
        "- parent graph and subgraph share schema keys. In this case, you can add a node with the compiled subgraph\n",
        "- parent graph and subgraph have different schemas. In this case, you have to add a node function that invokes the subgraph: this is useful when the parent graph and the subgraph have different state schemas and you need to transform state before or after calling the subgraph"
      ]
    },
    {
      "cell_type": "code",
      "execution_count": 2,
      "metadata": {
        "id": "0WR53TsHHPKi"
      },
      "outputs": [],
      "source": [
        "%%capture --no-stderr\n",
        "%pip install -U langgraph"
      ]
    },
    {
      "cell_type": "markdown",
      "metadata": {
        "id": "Pnj8p_-3lW5l"
      },
      "source": [
        "## Add a node with the compiled subgraph"
      ]
    },
    {
      "cell_type": "code",
      "execution_count": 1,
      "metadata": {
        "colab": {
          "base_uri": "https://localhost:8080/",
          "height": 251
        },
        "id": "NOglAEPz1pTw",
        "outputId": "20044f0c-fe8d-4add-9928-ee60c65dbb85"
      },
      "outputs": [
        {
          "data": {
            "image/png": "[encoded data removed]",
            "text/plain": [
              "<IPython.core.display.Image object>"
            ]
          },
          "metadata": {},
          "output_type": "display_data"
        }
      ],
      "source": [
        "from langgraph.graph import START, StateGraph\n",
        "from typing import TypedDict\n",
        "from IPython.display import Image,display\n",
        "\n",
        "\n",
        "class SubgraphState(TypedDict):\n",
        "    foo: str\n",
        "    bar: str\n",
        "\n",
        "\n",
        "def subgraph_node_1(state: SubgraphState):\n",
        "    return {\"bar\": \"bar\"}\n",
        "\n",
        "\n",
        "def subgraph_node_2(state: SubgraphState):\n",
        "    return {\"foo\": state[\"foo\"] + state[\"bar\"]}\n",
        "\n",
        "\n",
        "subgraph_builder = StateGraph(SubgraphState)\n",
        "subgraph_builder.add_node(subgraph_node_1)\n",
        "subgraph_builder.add_node(subgraph_node_2)\n",
        "subgraph_builder.add_edge(START, \"subgraph_node_1\")\n",
        "subgraph_builder.add_edge(\"subgraph_node_1\", \"subgraph_node_2\")\n",
        "subgraph = subgraph_builder.compile()\n",
        "\n",
        "\n",
        "class ParentState(TypedDict):\n",
        "    foo: str\n",
        "\n",
        "\n",
        "def node_1(state: ParentState):\n",
        "    return {\"foo\": \"hi! \" + state[\"foo\"]}\n",
        "\n",
        "\n",
        "builder = StateGraph(ParentState)\n",
        "builder.add_node(\"node_1\", node_1)\n",
        "builder.add_node(\"node_2\", subgraph)\n",
        "builder.add_edge(START, \"node_1\")\n",
        "builder.add_edge(\"node_1\", \"node_2\")\n",
        "graph = builder.compile()\n",
        "display(Image(graph.get_graph().draw_mermaid_png()))"
      ]
    },
    {
      "cell_type": "code",
      "execution_count": 2,
      "metadata": {
        "colab": {
          "base_uri": "https://localhost:8080/"
        },
        "id": "mFsknyYl2qea",
        "outputId": "67601068-9966-4bbb-b76c-a021e5f2cebb"
      },
      "outputs": [
        {
          "name": "stdout",
          "output_type": "stream",
          "text": [
            "{'node_1': {'foo': 'hi! foo'}}\n",
            "{'node_2': {'foo': 'hi! foobar'}}\n"
          ]
        }
      ],
      "source": [
        "for chunk in graph.stream({\"foo\": \"foo\"}):\n",
        "    print(chunk)"
      ]
    },
    {
      "cell_type": "markdown",
      "metadata": {
        "id": "Lciza4lsdec3"
      },
      "source": [
        "We over-write state, as expected."
      ]
    },
    {
      "cell_type": "code",
      "execution_count": 3,
      "metadata": {
        "colab": {
          "base_uri": "https://localhost:8080/"
        },
        "id": "sFZfTRfwHR1S",
        "outputId": "0cf69545-af05-4cb2-b086-fc2e3a13fc3f"
      },
      "outputs": [
        {
          "name": "stdout",
          "output_type": "stream",
          "text": [
            "((), {'node_1': {'foo': 'hi! foo'}})\n",
            "(('node_2:e1d49c71-4b00-68c4-f059-e361af21e82c',), {'subgraph_node_1': {'bar': 'bar'}})\n",
            "(('node_2:e1d49c71-4b00-68c4-f059-e361af21e82c',), {'subgraph_node_2': {'foo': 'hi! foobar'}})\n",
            "((), {'node_2': {'foo': 'hi! foobar'}})\n"
          ]
        }
      ],
      "source": [
        "for chunk in graph.stream({\"foo\": \"foo\"},subgraphs=True):\n",
        "    print(chunk)"
      ]
    },
    {
      "cell_type": "markdown",
      "metadata": {
        "id": "r__6GLp9dhb2"
      },
      "source": [
        "## Add a node function that invokes the subgraph"
      ]
    },
    {
      "cell_type": "code",
      "execution_count": 4,
      "metadata": {
        "id": "UoWxvFUbdwUT"
      },
      "outputs": [],
      "source": [
        "\n",
        "class SubgraphState(TypedDict):\n",
        "    bar: str\n",
        "    baz: str\n",
        "\n",
        "\n",
        "def subgraph_node_1(state: SubgraphState):\n",
        "    return {\"baz\": \"baz\"}\n",
        "\n",
        "\n",
        "def subgraph_node_2(state: SubgraphState):\n",
        "    return {\"bar\": state[\"bar\"] + state[\"baz\"]}\n",
        "\n",
        "\n",
        "subgraph_builder = StateGraph(SubgraphState)\n",
        "subgraph_builder.add_node(subgraph_node_1)\n",
        "subgraph_builder.add_node(subgraph_node_2)\n",
        "subgraph_builder.add_edge(START, \"subgraph_node_1\")\n",
        "subgraph_builder.add_edge(\"subgraph_node_1\", \"subgraph_node_2\")\n",
        "subgraph = subgraph_builder.compile()\n",
        "\n",
        "\n",
        "class ParentState(TypedDict):\n",
        "    foo: str\n",
        "\n",
        "\n",
        "def node_1(state: ParentState):\n",
        "    return {\"foo\": \"hi! \" + state[\"foo\"]}\n",
        "\n",
        "\n",
        "def node_2(state: ParentState):\n",
        "    response = subgraph.invoke({\"bar\": state[\"foo\"]})\n",
        "    return {\"foo\": response[\"bar\"]}\n",
        "\n",
        "\n",
        "builder = StateGraph(ParentState)\n",
        "builder.add_node(\"node_1\", node_1)\n",
        "builder.add_node(\"node_2\", node_2)\n",
        "builder.add_edge(START, \"node_1\")\n",
        "builder.add_edge(\"node_1\", \"node_2\")\n",
        "graph = builder.compile()"
      ]
    },
    {
      "cell_type": "code",
      "execution_count": 5,
      "metadata": {
        "colab": {
          "base_uri": "https://localhost:8080/"
        },
        "id": "xpmKmtwrdniP",
        "outputId": "fb58b0a5-8aeb-49c6-a641-aec52b13f89a"
      },
      "outputs": [
        {
          "name": "stdout",
          "output_type": "stream",
          "text": [
            "((), {'node_1': {'foo': 'hi! foo'}})\n",
            "(('node_2:df31ed6b-9d58-5d2f-b502-fec8b6aa2340',), {'subgraph_node_1': {'baz': 'baz'}})\n",
            "(('node_2:df31ed6b-9d58-5d2f-b502-fec8b6aa2340',), {'subgraph_node_2': {'bar': 'hi! foobaz'}})\n",
            "((), {'node_2': {'foo': 'hi! foobaz'}})\n"
          ]
        }
      ],
      "source": [
        "for chunk in graph.stream({\"foo\": \"foo\"}, subgraphs=True):\n",
        "    print(chunk)"
      ]
    }
  ],
  "metadata": {
    "colab": {
      "provenance": []
    },
    "kernelspec": {
      "display_name": "Python 3",
      "name": "python3"
    },
    "language_info": {
      "codemirror_mode": {
        "name": "ipython",
        "version": 3
      },
      "file_extension": ".py",
      "mimetype": "text/x-python",
      "name": "python",
      "nbconvert_exporter": "python",
      "pygments_lexer": "ipython3",
      "version": "3.12.3"
    }
  },
  "nbformat": 4,
  "nbformat_minor": 0
}
