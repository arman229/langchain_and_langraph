{
  "cells": [
    {
      "cell_type": "markdown",
      "source": [
        "# Command: A new tool for building multi-agent architectures in LangGraph\n",
        "\n",
        "\n",
        "Building agentic and multi-agent systems is all about communication.\n",
        "\n",
        "Now, nodes can dynamically decide which node to execute next, improving flexibility and simplifying complex workflows.\n",
        "\n",
        "#### **What's New:**\n",
        "- **Edgeless graphs:** Nodes no longer need edges to connect. Instead, they can directly specify which node to go to next, making your agent flows more intuitive and adaptable.\n",
        "\n",
        "- **Enhanced control:** Control the flow after the state update by returning a Command that points to the next node, enabling dynamic, real-time decision-making."
      ],
      "metadata": {
        "id": "bDEGVWarlKXO"
      }
    },
    {
      "cell_type": "markdown",
      "source": [
        "- **Edgeless graphs:** Nodes no longer need edges to connect. Instead, they can directly specify which node to go to next, making your agent flows more intuitive and adaptable.\n"
      ],
      "metadata": {
        "id": "F9dA2jREk_n2"
      }
    },
    {
      "cell_type": "code",
      "execution_count": 1,
      "metadata": {
        "id": "0WR53TsHHPKi"
      },
      "outputs": [],
      "source": [
        "%%capture --no-stderr\n",
        "%pip install -U langgraph"
      ]
    },
    {
      "cell_type": "markdown",
      "source": [
        "Let's learn it with a simple example - An\n",
        "AI-powered home search engine like: https://flyhomes.com/.\n"
      ],
      "metadata": {
        "id": "rkFbyWrwlSNW"
      }
    },
    {
      "cell_type": "markdown",
      "source": [
        "## S1: Understand Command Basic Usage"
      ],
      "metadata": {
        "id": "Pnj8p_-3lW5l"
      }
    },
    {
      "cell_type": "code",
      "execution_count": 40,
      "metadata": {
        "colab": {
          "base_uri": "https://localhost:8080/",
          "height": 385
        },
        "id": "sFZfTRfwHR1S",
        "outputId": "e36dd761-e934-4d12-8982-6493b1fbe961"
      },
      "outputs": [
        {
          "output_type": "display_data",
          "data": {
            "image/png": "[encoded data removed]",
            "text/plain": [
              "<IPython.core.display.Image object>"
            ]
          },
          "metadata": {}
        },
        {
          "output_type": "stream",
          "name": "stdout",
          "text": [
            "search_nearby_homes\n",
            "resp{'messages': [], 'address': 'Sialkot,Pakistan'}\n"
          ]
        }
      ],
      "source": [
        "from typing import Literal,Dict\n",
        "from langchain_core.messages import AIMessage\n",
        "from langgraph.graph import StateGraph,START,END\n",
        "from langgraph.types import Command\n",
        "import random\n",
        "from typing import Annotated,Dict,Optional,TypedDict\n",
        "from langgraph.graph.message import add_messages\n",
        "\n",
        "class State(TypedDict):\n",
        "    messages:Annotated[list,add_messages]\n",
        "    address:str\n",
        "    nearby_homes:Optional[list[Dict]]\n",
        "\n",
        "def fun_a(state:State)->Command[Literal[\"search_nearby_homes\",\"answer_user_question\"]]:\n",
        "    current_value = random.choice([\"search_nearby_homes\",\"answer_user_question\"])\n",
        "    print(current_value)\n",
        "    if current_value == \"answer_user_question\":\n",
        "        goto = \"answer_user_question\"\n",
        "    else:\n",
        "        goto = \"search_nearby_homes\"\n",
        "    return Command(goto=goto,\n",
        "                   )\n",
        "def search_nearby_homes(state:State):\n",
        "    return {'search_nearby':[{\"home_1\":\"arman\", \"home_2\":\"usman\",}]}\n",
        "def answer_user_question(state:State):\n",
        "    return {\"messages\":[AIMessage(content=\"please try again later\")]}\n",
        "builder = StateGraph(State)\n",
        "builder.add_node(fun_a)\n",
        "builder.add_node( search_nearby_homes)\n",
        "builder.add_node( answer_user_question)\n",
        "builder.add_edge(START,\"fun_a\")\n",
        "builder.add_edge(\"search_nearby_homes\",END)\n",
        "builder.add_edge(\"answer_user_question\",END)\n",
        "from IPython.display import display,Image\n",
        "graph = builder.compile()\n",
        "display(Image(graph.get_graph().draw_mermaid_png()))\n",
        "resp = graph.invoke({\"address\": \"Sialkot,Pakistan\"})\n",
        "print(f\"resp{resp}\")\n"
      ]
    },
    {
      "cell_type": "markdown",
      "source": [
        "## S2: Update State using Command\n",
        "\n",
        "After node_1 we can update our state as well. So if user is already in our system we can add it's user data in the stage to personalize user experience."
      ],
      "metadata": {
        "id": "DBg-Xbi_law9"
      }
    },
    {
      "cell_type": "code",
      "source": [
        "from typing import Literal,Dict\n",
        "from langchain_core.messages import AIMessage\n",
        "from langgraph.graph import StateGraph,START,END\n",
        "from langgraph.types import Command\n",
        "import random\n",
        "from typing import Annotated,Dict,Optional,TypedDict\n",
        "from langgraph.graph.message import add_messages\n",
        "\n",
        "class State(TypedDict):\n",
        "    messages:Annotated[list,add_messages]\n",
        "    address:str\n",
        "    nearby_homes:Optional[list[Dict]]\n",
        "    user_data:Optional[Dict]\n",
        "\n",
        "def fun_a(state:State)->Command[Literal[\"search_nearby_homes\",\"answer_user_question\"]]:\n",
        "    current_value = random.choice([\"search_nearby_homes\",\"answer_user_question\"])\n",
        "    mock_user_info = {\"name\":\"Arman Muhammad Ashraf\"}\n",
        "\n",
        "    if current_value == \"search_nearby_homes\":\n",
        "        goto = \"search_nearby_homes\"\n",
        "    else:\n",
        "        goto = \"answer_user_question\"\n",
        "    return Command(goto=goto,\n",
        "                   update={\"user_data\":mock_user_info}\n",
        "                   )\n",
        "def search_nearby_homes(state:State):\n",
        "    print(state[\"user_data\"]['name'])\n",
        "    return {'nearby_homes':[{\"home_1\":\"arman\", \"home_2\":\"usman\"}]}\n",
        "def answer_user_question(state:State):\n",
        "    print(state[\"user_data\"]['name'])\n",
        "    user_name = state[\"user_data\"].get(\"name\", \"Guest\")\n",
        "    return {\"messages\": [AIMessage(content=f\"Hi, {user_name} Welcome to Homes AI Search Engine\")]}\n",
        "builder = StateGraph(State)\n",
        "builder.add_node(fun_a)\n",
        "builder.add_node( search_nearby_homes)\n",
        "builder.add_node( answer_user_question)\n",
        "builder.add_edge(START,\"fun_a\")\n",
        "builder.add_edge(\"search_nearby_homes\",END)\n",
        "builder.add_edge(\"answer_user_question\",END)\n",
        "from IPython.display import display,Image\n",
        "graph1 = builder.compile()\n",
        "display(Image(graph.get_graph().draw_mermaid_png()))"
      ],
      "metadata": {
        "colab": {
          "base_uri": "https://localhost:8080/",
          "height": 350
        },
        "id": "WpZSpwPydC50",
        "outputId": "1cdf4f1c-ff47-4305-afa3-cbf26fd175b1"
      },
      "execution_count": 61,
      "outputs": [
        {
          "output_type": "display_data",
          "data": {
            "image/png": "[encoded data removed]",
            "text/plain": [
              "<IPython.core.display.Image object>"
            ]
          },
          "metadata": {}
        }
      ]
    },
    {
      "cell_type": "code",
      "execution_count": 62,
      "metadata": {
        "colab": {
          "base_uri": "https://localhost:8080/"
        },
        "id": "dlRRsYD5Eb72",
        "outputId": "0ff0aa03-e917-46cf-b263-c14a1939547a"
      },
      "outputs": [
        {
          "output_type": "stream",
          "name": "stdout",
          "text": [
            "Arman Muhammad Ashraf\n",
            "resp{'messages': [AIMessage(content='Hi, Arman Muhammad Ashraf Welcome to Homes AI Search Engine', additional_kwargs={}, response_metadata={}, id='7452a34a-48e7-4f2e-ace1-1f87f7264d53')], 'address': 'Sialkot,Pakistan', 'user_data': {'name': 'Arman Muhammad Ashraf'}}\n"
          ]
        }
      ],
      "source": [
        "resp = graph1.invoke({\"address\": \"Sialkot,Pakistan\"})\n",
        "print(f\"resp{resp}\")"
      ]
    },
    {
      "cell_type": "code",
      "execution_count": 63,
      "metadata": {
        "id": "W9QQiTx9Jk0W",
        "colab": {
          "base_uri": "https://localhost:8080/"
        },
        "outputId": "f64c3931-175b-4d60-dec0-6db9f059e4db"
      },
      "outputs": [
        {
          "output_type": "stream",
          "name": "stdout",
          "text": [
            "Arman Muhammad Ashraf\n",
            "resp{'messages': [], 'address': 'Sialkot,Pakistan', 'nearby_homes': [{'home_1': 'arman', 'home_2': 'usman'}], 'user_data': {'name': 'Arman Muhammad Ashraf'}}\n"
          ]
        }
      ],
      "source": [
        "resp = graph1.invoke({\"address\": \"Sialkot,Pakistan\"})\n",
        "print(f\"resp{resp}\")"
      ]
    },
    {
      "cell_type": "markdown",
      "source": [
        "# S3: Run Nodes(Agents) in Parallel\n",
        "Now our user requirement is to both find homes and have conversation with user.\n",
        "For this:\n",
        "\n",
        "- We shall call Both Nodes in Parrallel"
      ],
      "metadata": {
        "id": "qlORUmuIlgB3"
      }
    },
    {
      "cell_type": "code",
      "execution_count": 68,
      "metadata": {
        "colab": {
          "base_uri": "https://localhost:8080/",
          "height": 350
        },
        "id": "oppBnEvJJpSO",
        "outputId": "65f46beb-9d54-4d7f-9a01-8bfb34289b18"
      },
      "outputs": [
        {
          "output_type": "display_data",
          "data": {
            "image/png": "[encoded data removed]",
            "text/plain": [
              "<IPython.core.display.Image object>"
            ]
          },
          "metadata": {}
        }
      ],
      "source": [
        "from typing import Literal,Dict\n",
        "from langchain_core.messages import AIMessage\n",
        "from langgraph.graph import StateGraph,START,END\n",
        "from langgraph.types import Command\n",
        "import random\n",
        "from typing import Annotated,Dict,Optional,TypedDict\n",
        "from langgraph.graph.message import add_messages\n",
        "\n",
        "class State(TypedDict):\n",
        "    messages:Annotated[list,add_messages]\n",
        "    address:str\n",
        "    nearby_homes:Optional[list[Dict]]\n",
        "    user_data:Optional[Dict]\n",
        "\n",
        "def fun_a(state:State)->Command[Literal[\"search_nearby_homes\",\"answer_user_question\"]]:\n",
        "    mock_user_info = {\"name\":\"Arman Muhammad Ashraf\"}\n",
        "    return Command(goto=['search_nearby_homes','answer_user_question'],\n",
        "                   update={\"user_data\":mock_user_info}\n",
        "                   )\n",
        "def search_nearby_homes(state:State):\n",
        "    print(state[\"user_data\"]['name'])\n",
        "    return {'nearby_homes':[{\"home_1\":\"arman\", \"home_2\":\"usman\"}]}\n",
        "def answer_user_question(state:State):\n",
        "    print(state[\"user_data\"]['name'])\n",
        "    user_name = state[\"user_data\"].get(\"name\", \"Guest\")\n",
        "    return {\"messages\": [AIMessage(content=f\"Hi, {user_name} Welcome to Homes AI Search Engine\")]}\n",
        "builder = StateGraph(State)\n",
        "builder.add_node(fun_a)\n",
        "builder.add_node( search_nearby_homes)\n",
        "builder.add_node( answer_user_question)\n",
        "builder.add_edge(START,\"fun_a\")\n",
        "builder.add_edge(\"search_nearby_homes\",END)\n",
        "builder.add_edge(\"answer_user_question\",END)\n",
        "from IPython.display import display,Image\n",
        "graph1 = builder.compile()\n",
        "display(Image(graph.get_graph().draw_mermaid_png()))"
      ]
    },
    {
      "cell_type": "code",
      "execution_count": 69,
      "metadata": {
        "id": "whwsGjFSzGAl",
        "colab": {
          "base_uri": "https://localhost:8080/"
        },
        "outputId": "77a28efb-4d7a-47b3-b57c-b9175ec88d9b"
      },
      "outputs": [
        {
          "output_type": "stream",
          "name": "stdout",
          "text": [
            "Arman Muhammad Ashraf\n",
            "Arman Muhammad Ashraf\n",
            "resp{'messages': [AIMessage(content='Hi, Arman Muhammad Ashraf Welcome to Homes AI Search Engine', additional_kwargs={}, response_metadata={}, id='ae05c07e-6c4f-40fd-a6c8-5a78baaef0d1')], 'address': 'Sialkot,Pakistan', 'nearby_homes': [{'home_1': 'arman', 'home_2': 'usman'}], 'user_data': {'name': 'Arman Muhammad Ashraf'}}\n"
          ]
        }
      ],
      "source": [
        "resp = graph1.invoke({\"address\": \"Sialkot,Pakistan\"})\n",
        "print(f\"resp{resp}\")"
      ]
    },
    {
      "cell_type": "code",
      "source": [
        "resp = graph1.invoke({\"address\": \"lahore,Pakistan\"})\n",
        "print(f\"resp{resp}\")"
      ],
      "metadata": {
        "id": "UKqtHVQgmhyB",
        "outputId": "13622be5-a595-4cda-ebf8-f377a5bea7d5",
        "colab": {
          "base_uri": "https://localhost:8080/"
        }
      },
      "execution_count": 70,
      "outputs": [
        {
          "output_type": "stream",
          "name": "stdout",
          "text": [
            "Arman Muhammad Ashraf\n",
            "Arman Muhammad Ashraf\n",
            "resp{'messages': [AIMessage(content='Hi, Arman Muhammad Ashraf Welcome to Homes AI Search Engine', additional_kwargs={}, response_metadata={}, id='536d44cf-7cb5-4b37-88bd-914b9098f401')], 'address': 'lahore,Pakistan', 'nearby_homes': [{'home_1': 'arman', 'home_2': 'usman'}], 'user_data': {'name': 'Arman Muhammad Ashraf'}}\n"
          ]
        }
      ]
    },
    {
      "cell_type": "code",
      "source": [
        "resp = graph1.invoke({\"address\": \"Sialkot,Pakistan\"})\n",
        "print(f\"resp{resp}\")"
      ],
      "metadata": {
        "id": "x5MHOVotmij-",
        "outputId": "6e48ded3-75d1-49bc-cb75-081101b9a189",
        "colab": {
          "base_uri": "https://localhost:8080/"
        }
      },
      "execution_count": 67,
      "outputs": [
        {
          "output_type": "stream",
          "name": "stdout",
          "text": [
            "Arman Muhammad Ashraf\n",
            "resp{'messages': [], 'address': 'Sialkot,Pakistan', 'nearby_homes': [{'home_1': 'arman', 'home_2': 'usman'}], 'user_data': {'name': 'Arman Muhammad Ashraf'}}\n"
          ]
        }
      ]
    },
    {
      "cell_type": "code",
      "source": [],
      "metadata": {
        "id": "gxj6zMhLogk8"
      },
      "execution_count": null,
      "outputs": []
    }
  ],
  "metadata": {
    "colab": {
      "provenance": []
    },
    "kernelspec": {
      "display_name": "Python 3",
      "name": "python3"
    },
    "language_info": {
      "name": "python"
    }
  },
  "nbformat": 4,
  "nbformat_minor": 0
}