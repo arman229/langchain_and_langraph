{
 "cells": [
  {
   "cell_type": "code",
   "execution_count": null,
   "metadata": {},
   "outputs": [],
   "source": [
    "pip install -q langchain_google_genai langchain_core langchain_community langgraph"
   ]
  },
  {
   "cell_type": "code",
   "execution_count": 1,
   "metadata": {},
   "outputs": [
    {
     "name": "stdout",
     "output_type": "stream",
     "text": [
      "API key loaded from.env file.\n"
     ]
    }
   ],
   "source": [
    "import os \n",
    "from dotenv import load_dotenv\n",
    "load_dotenv()\n",
    "\n",
    "GEMINI_API_KEY = os.getenv(\"GEMINI_API_KEY\")\n",
    "\n",
    "if not GEMINI_API_KEY:\n",
    "    raise ValueError(\"GEMINI_API_KEY is not set in the.env file.\")\n",
    "\n",
    "print(\"API key loaded from.env file.\")"
   ]
  },
  {
   "cell_type": "code",
   "execution_count": 2,
   "metadata": {},
   "outputs": [],
   "source": [
    "from langchain_google_genai import ChatGoogleGenerativeAI \n",
    "llm:ChatGoogleGenerativeAI = ChatGoogleGenerativeAI(api_key= GEMINI_API_KEY,model='gemini-1.5-flash',temperature=0.3)\n"
   ]
  },
  {
   "cell_type": "code",
   "execution_count": 12,
   "metadata": {},
   "outputs": [],
   "source": [
    "from langchain.prompts import PromptTemplate\n",
    "def generate_quiz_questions(content):\n",
    "\n",
    "    MIN_CONTENT_LENGTH = 500\n",
    "    if len(content.strip()) < MIN_CONTENT_LENGTH:\n",
    "        return f\"Content provided is too short. Please provide more content with at least {MIN_CONTENT_LENGTH} characters.\"\n",
    " \n",
    "    MAX_CONTENT_LENGTH = 2000   \n",
    "    content = content.strip()[:MAX_CONTENT_LENGTH]   \n",
    " \n",
    "    prompttemplate = PromptTemplate(\n",
    "      input_variables= ['context'],\n",
    "      template = \"\"\"\n",
    "      You are a professional quiz creator. Your task is to generate 10 short, clear, and concise questions from the following content. \n",
    "      1. Focus only on direct, factual, or conceptual questions that require short answers.\n",
    "      2. Ensure the questions cover the most important topics and ideas in the content.\n",
    "      3. Format the output exactly as follows (with no extra spaces or blank lines):\n",
    "          Q1. [Short question here]\n",
    "          Q2. [Short question here]\n",
    "          ...\n",
    "          Q10. [Short question here]\n",
    "\n",
    "      Here is the content:\n",
    "\n",
    "      {context}\n",
    "\n",
    "      Generate exactly 10 short questions based on the above content.\n",
    " \n",
    "      \n",
    "      \n",
    "      \"\"\"\n",
    "    )\n",
    "    \n",
    "    formatted_prompt = prompttemplate.format(context=content)\n",
    "    try:\n",
    "      final_result = llm.invoke(formatted_prompt)\n",
    "      return final_result\n",
    "    except Exception as e:\n",
    "      return f\"Error: {e}\"\n",
    "     "
   ]
  },
  {
   "cell_type": "code",
   "execution_count": null,
   "metadata": {},
   "outputs": [],
   "source": []
  },
  {
   "cell_type": "code",
   "execution_count": 13,
   "metadata": {},
   "outputs": [],
   "source": [
    "content = \"\"\" \n",
    "Pakistan: A Land of Diversity and Resilience\n",
    "\n",
    "Pakistan, officially known as the Islamic Republic of Pakistan, is a country located in South Asia. With a rich history, diverse culture, and strategic geopolitical importance, Pakistan is home to over 240 million people, making it the fifth most populous country in the world. Covering an area of 881,913 square kilometers, it is bordered by India to the east, Afghanistan and Iran to the west, China to the north, and the Arabian Sea to the south. Pakistan’s unique blend of ancient heritage and modern aspirations defines its national character.\n",
    "\n",
    "Historical Background\n",
    "The region that constitutes modern-day Pakistan has been a cradle of ancient civilizations. The Indus Valley Civilization, which thrived around 2500 BCE, was one of the world’s earliest urban cultures, with advanced city planning, trade, and agriculture. Cities like Mohenjo-Daro and Harappa are remnants of this great civilization.\n",
    "\n",
    "Over centuries, the region saw the influence of various empires and cultures, including the Achaemenid Empire, Alexander the Great’s conquests, the Mauryan Empire, and the arrival of Islam in the 7th century. Islam became deeply rooted during the Delhi Sultanate and the Mughal Empire, which ruled much of South Asia from the 16th to the 18th centuries. The Mughal legacy remains evident in the architecture, cuisine, and traditions of Pakistan.\n",
    "\n",
    "The British colonial era began in the mid-19th century when the British East India Company established control over the Indian subcontinent. After nearly two centuries of colonial rule, the struggle for independence gained momentum. Under the leadership of Muhammad Ali Jinnah, known as the \"Quaid-e-Azam\" (Great Leader), the demand for a separate Muslim state led to the creation of Pakistan on August 14, 1947. This partition marked the end of British rule and the birth of two nations: India and Pakistan.\n",
    "\n",
    "Geography and Natural Beauty\n",
    "Pakistan’s diverse geography ranges from towering mountains in the north to vast deserts in the south. The northern region is home to the Karakoram, Hindu Kush, and Himalayan mountain ranges. K2, the second-highest peak in the world, stands majestically at 8,611 meters above sea level.\n",
    "\n",
    "The fertile plains of Punjab, the arid deserts of Sindh and Balochistan, and the rugged terrain of Khyber Pakhtunkhwa showcase Pakistan’s geographical diversity. The Indus River, flowing through the heart of the country, has been a lifeline for civilizations for millennia.\n",
    "\n",
    "Tourist destinations like Hunza Valley, Swat Valley, Skardu, and Naran-Kaghan offer breathtaking natural beauty. Pakistan also boasts ancient archaeological sites, such as Taxila, Takht-i-Bahi, and Mohenjo-Daro, which attract historians and travelers from around the world.\n",
    "\n",
    "Culture and Heritage\n",
    "Pakistan is a mosaic of cultures, languages, and traditions. With over 70 languages spoken across the country, including Urdu (the national language), Punjabi, Sindhi, Pashto, and Balochi, Pakistan’s linguistic diversity is remarkable.\n",
    "\n",
    "The cultural fabric is enriched by music, art, and festivals. Classical music traditions, such as Qawwali and Ghazal, have been preserved for centuries. Sufi poetry, particularly by poets like Allama Iqbal, Shah Abdul Latif Bhittai, and Bulleh Shah, continues to inspire people. Pakistani truck art, with its vibrant and intricate designs, is internationally recognized as a unique art form.\n",
    "\n",
    "Traditional clothing varies by region but often includes shalwar kameez, which is the national dress. Food is an integral part of the culture, with dishes like biryani, nihari, seekh kebabs, and haleem offering a rich culinary experience.\n",
    "\n",
    "Politics and Governance\n",
    "Pakistan is a federal parliamentary republic. The Constitution, adopted in 1973, provides for a bicameral legislature consisting of the Senate (upper house) and the National Assembly (lower house). The President serves as the ceremonial head of state, while the Prime Minister holds executive powers.\n",
    "\n",
    "Since independence, Pakistan has faced political challenges, including periods of military rule, constitutional crises, and political instability. However, the country has made strides in democratic governance in recent years.\n",
    "\n",
    "Economy and Development\n",
    "Pakistan’s economy is diverse, with agriculture, manufacturing, and services playing significant roles. Key crops include wheat, rice, cotton, and sugarcane, making Pakistan one of the world's leading agricultural producers.\n",
    "\n",
    "The country is rich in natural resources, including coal, natural gas, and minerals. Textile manufacturing is the backbone of Pakistan’s industrial sector, contributing significantly to exports. In recent years, the China-Pakistan Economic Corridor (CPEC), part of China’s Belt and Road Initiative, has brought investment in infrastructure, energy, and trade.\n",
    "\n",
    "Despite economic potential, Pakistan faces challenges such as inflation, poverty, and a growing population. However, efforts to improve technology adoption, trade policies, and education are aimed at fostering growth.\n",
    "\n",
    "Education and Innovation\n",
    "Education is a priority for Pakistan, with numerous institutions offering quality education. Prominent universities include the National University of Sciences and Technology (NUST), Lahore University of Management Sciences (LUMS), and Aga Khan University.\n",
    "\n",
    "Pakistan is also making advancements in technology and innovation. The tech industry has seen a surge in startups, particularly in e-commerce, fintech, and software development. Programs encouraging digital literacy and entrepreneurship are empowering young Pakistanis.\n",
    "\n",
    "Challenges\n",
    "While Pakistan has much to celebrate, it faces significant challenges. Political instability, corruption, and regional conflicts have hindered progress. Poverty, unemployment, and access to quality education and healthcare remain pressing concerns.\n",
    "\n",
    "Climate change poses a severe threat, with rising temperatures, floods, and water scarcity impacting agriculture and livelihoods. Efforts are being made to address these issues through policy reforms and international collaborations.\n",
    "\n",
    "Sports and Entertainment\n",
    "Cricket is more than a sport in Pakistan; it is a national passion. Legendary players like Imran Khan, Wasim Akram, and Babar Azam have brought pride to the nation. Hockey, squash, and football also have dedicated followings.\n",
    "\n",
    "The entertainment industry, including Lollywood (Pakistan’s film industry), has experienced a revival with critically acclaimed movies and drama serials. Internationally recognized dramas like \"Humsafar\" and \"Zindagi Gulzar Hai\" have put Pakistan’s entertainment on the global map.\n",
    "\n",
    "Global Relations\n",
    "Pakistan occupies a strategic position in South Asia and plays a vital role in regional and global politics. Relations with neighboring countries, especially India, have been tense due to unresolved issues like Kashmir. However, Pakistan has been active in promoting peace efforts in Afghanistan and combating terrorism.\n",
    "\n",
    "Pakistan’s membership in organizations like the United Nations, the Organization of Islamic Cooperation (OIC), and the Shanghai Cooperation Organization (SCO) underscores its global engagement.\n",
    "\n",
    "Conclusion\n",
    "Pakistan is a nation of contrasts, where ancient traditions coexist with modern aspirations. Its rich cultural heritage, resilient people, and natural beauty make it a land of immense potential. Despite challenges, Pakistan continues to strive for progress and unity, fostering hope for a brighter future.\n",
    "\n",
    "As a country with a vibrant past and a promising future, Pakistan’s journey is a testament to its strength, resilience, and determination.\n",
    " \n",
    "\n",
    "\"\"\"\n",
    "  "
   ]
  },
  {
   "cell_type": "code",
   "execution_count": 14,
   "metadata": {},
   "outputs": [],
   "source": [
    "\n",
    "questions = generate_quiz_questions(content)\n"
   ]
  },
  {
   "cell_type": "code",
   "execution_count": 15,
   "metadata": {},
   "outputs": [
    {
     "name": "stdout",
     "output_type": "stream",
     "text": [
      "Q1.What is the official name of Pakistan?\n",
      "Q2.What is Pakistan's rank in terms of global population?\n",
      "Q3.Which ancient civilization thrived in the region of present-day Pakistan?\n",
      "Q4.Name two major cities of the Indus Valley Civilization.\n",
      "Q5.Which empire ruled much of South Asia from the 16th to 18th centuries?\n",
      "Q6.Who is considered the founder of Pakistan?\n",
      "Q7.When did Pakistan gain independence?\n",
      "Q8.Which country borders Pakistan to the east?\n",
      "Q9.Which body initially established British control over the Indian subcontinent?\n",
      "Q10.What is the title given to Muhammad Ali Jinnah?\n"
     ]
    }
   ],
   "source": [
    "print(questions.content.strip())"
   ]
  },
  {
   "cell_type": "code",
   "execution_count": null,
   "metadata": {},
   "outputs": [],
   "source": []
  }
 ],
 "metadata": {
  "kernelspec": {
   "display_name": "Python 3",
   "language": "python",
   "name": "python3"
  },
  "language_info": {
   "codemirror_mode": {
    "name": "ipython",
    "version": 3
   },
   "file_extension": ".py",
   "mimetype": "text/x-python",
   "name": "python",
   "nbconvert_exporter": "python",
   "pygments_lexer": "ipython3",
   "version": "3.12.3"
  }
 },
 "nbformat": 4,
 "nbformat_minor": 2
}
