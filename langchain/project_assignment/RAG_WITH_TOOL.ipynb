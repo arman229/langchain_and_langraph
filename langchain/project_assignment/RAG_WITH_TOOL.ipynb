{
  "nbformat": 4,
  "nbformat_minor": 0,
  "metadata": {
    "colab": {
      "provenance": [],
      "toc_visible": true
    },
    "kernelspec": {
      "name": "python3",
      "display_name": "Python 3"
    },
    "language_info": {
      "name": "python"
    }
  },
  "cells": [
    {
      "cell_type": "code",
      "execution_count": 203,
      "metadata": {
        "id": "Px_uoMvEA70D"
      },
      "outputs": [],
      "source": [
        "\n",
        "%pip install --quiet --upgrade langchain-text-splitters langchain-community langgraph langchain-pinecone langchain-google-genai"
      ]
    },
    {
      "cell_type": "code",
      "source": [
        "from google.colab import userdata\n",
        "import os\n",
        "os.environ['GOOGLE_API_KEY'] = userdata.get('GEMINI_API_KEY')\n",
        "PINECONE_API_KEY = userdata.get('PINECONE_API_KEY')\n",
        "from pinecone import Pinecone, ServerlessSpec\n",
        "pinecone_object = Pinecone(api_key=PINECONE_API_KEY)\n"
      ],
      "metadata": {
        "id": "jhkgdN2ZBTtu"
      },
      "execution_count": 204,
      "outputs": []
    },
    {
      "cell_type": "code",
      "source": [
        "\n",
        "from langchain_google_genai import GoogleGenerativeAIEmbeddings\n",
        "embedding = GoogleGenerativeAIEmbeddings(model=\"models/embedding-001\")"
      ],
      "metadata": {
        "id": "DGuasrZoEvVC"
      },
      "execution_count": 205,
      "outputs": []
    },
    {
      "cell_type": "code",
      "source": [
        "index_name = 'arman-shoe-store'\n",
        "pinecone_object.create_index(\n",
        "                name=index_name,\n",
        "                dimension=768,\n",
        "                metric='cosine',\n",
        "                spec=ServerlessSpec(cloud='aws',region='us-east-1')\n",
        ")\n"
      ],
      "metadata": {
        "colab": {
          "base_uri": "https://localhost:8080/",
          "height": 564
        },
        "id": "22AqXUbXDcy0",
        "outputId": "8c1f8e8b-d874-4fa9-8d0e-071d57ce2439"
      },
      "execution_count": 206,
      "outputs": [
        {
          "output_type": "error",
          "ename": "PineconeApiException",
          "evalue": "(409)\nReason: Conflict\nHTTP response headers: HTTPHeaderDict({'content-type': 'text/plain; charset=utf-8', 'access-control-allow-origin': '*', 'vary': 'origin,access-control-request-method,access-control-request-headers', 'access-control-expose-headers': '*', 'x-pinecone-api-version': '2024-07', 'X-Cloud-Trace-Context': '6c11ecb7f02104d0f10b85e27188fd10', 'Date': 'Sat, 04 Jan 2025 19:10:37 GMT', 'Server': 'Google Frontend', 'Content-Length': '85', 'Via': '1.1 google', 'Alt-Svc': 'h3=\":443\"; ma=2592000,h3-29=\":443\"; ma=2592000'})\nHTTP response body: {\"error\":{\"code\":\"ALREADY_EXISTS\",\"message\":\"Resource  already exists\"},\"status\":409}\n",
          "traceback": [
            "\u001b[0;31m---------------------------------------------------------------------------\u001b[0m",
            "\u001b[0;31mPineconeApiException\u001b[0m                      Traceback (most recent call last)",
            "\u001b[0;32m<ipython-input-206-654dbedff9fa>\u001b[0m in \u001b[0;36m<cell line: 2>\u001b[0;34m()\u001b[0m\n\u001b[1;32m      1\u001b[0m \u001b[0mindex_name\u001b[0m \u001b[0;34m=\u001b[0m \u001b[0;34m'arman-shoe-store'\u001b[0m\u001b[0;34m\u001b[0m\u001b[0;34m\u001b[0m\u001b[0m\n\u001b[0;32m----> 2\u001b[0;31m pinecone_object.create_index(\n\u001b[0m\u001b[1;32m      3\u001b[0m                 \u001b[0mname\u001b[0m\u001b[0;34m=\u001b[0m\u001b[0mindex_name\u001b[0m\u001b[0;34m,\u001b[0m\u001b[0;34m\u001b[0m\u001b[0;34m\u001b[0m\u001b[0m\n\u001b[1;32m      4\u001b[0m                 \u001b[0mdimension\u001b[0m\u001b[0;34m=\u001b[0m\u001b[0;36m768\u001b[0m\u001b[0;34m,\u001b[0m\u001b[0;34m\u001b[0m\u001b[0;34m\u001b[0m\u001b[0m\n\u001b[1;32m      5\u001b[0m                 \u001b[0mmetric\u001b[0m\u001b[0;34m=\u001b[0m\u001b[0;34m'cosine'\u001b[0m\u001b[0;34m,\u001b[0m\u001b[0;34m\u001b[0m\u001b[0;34m\u001b[0m\u001b[0m\n",
            "\u001b[0;32m/usr/local/lib/python3.10/dist-packages/pinecone/control/pinecone.py\u001b[0m in \u001b[0;36mcreate_index\u001b[0;34m(self, name, dimension, spec, metric, timeout, deletion_protection)\u001b[0m\n\u001b[1;32m    382\u001b[0m             \u001b[0;32mraise\u001b[0m \u001b[0mTypeError\u001b[0m\u001b[0;34m(\u001b[0m\u001b[0;34m\"spec must be of type dict, ServerlessSpec, or PodSpec\"\u001b[0m\u001b[0;34m)\u001b[0m\u001b[0;34m\u001b[0m\u001b[0;34m\u001b[0m\u001b[0m\n\u001b[1;32m    383\u001b[0m \u001b[0;34m\u001b[0m\u001b[0m\n\u001b[0;32m--> 384\u001b[0;31m         api_instance.create_index(\n\u001b[0m\u001b[1;32m    385\u001b[0m             create_index_request=CreateIndexRequest(\n\u001b[1;32m    386\u001b[0m                 \u001b[0mname\u001b[0m\u001b[0;34m=\u001b[0m\u001b[0mname\u001b[0m\u001b[0;34m,\u001b[0m\u001b[0;34m\u001b[0m\u001b[0;34m\u001b[0m\u001b[0m\n",
            "\u001b[0;32m/usr/local/lib/python3.10/dist-packages/pinecone/core/openapi/shared/api_client.py\u001b[0m in \u001b[0;36m__call__\u001b[0;34m(self, *args, **kwargs)\u001b[0m\n\u001b[1;32m    759\u001b[0m \u001b[0;34m\u001b[0m\u001b[0m\n\u001b[1;32m    760\u001b[0m         \"\"\"\n\u001b[0;32m--> 761\u001b[0;31m         \u001b[0;32mreturn\u001b[0m \u001b[0mself\u001b[0m\u001b[0;34m.\u001b[0m\u001b[0mcallable\u001b[0m\u001b[0;34m(\u001b[0m\u001b[0mself\u001b[0m\u001b[0;34m,\u001b[0m \u001b[0;34m*\u001b[0m\u001b[0margs\u001b[0m\u001b[0;34m,\u001b[0m \u001b[0;34m**\u001b[0m\u001b[0mkwargs\u001b[0m\u001b[0;34m)\u001b[0m\u001b[0;34m\u001b[0m\u001b[0;34m\u001b[0m\u001b[0m\n\u001b[0m\u001b[1;32m    762\u001b[0m \u001b[0;34m\u001b[0m\u001b[0m\n\u001b[1;32m    763\u001b[0m     \u001b[0;32mdef\u001b[0m \u001b[0mcall_with_http_info\u001b[0m\u001b[0;34m(\u001b[0m\u001b[0mself\u001b[0m\u001b[0;34m,\u001b[0m \u001b[0;34m**\u001b[0m\u001b[0mkwargs\u001b[0m\u001b[0;34m)\u001b[0m\u001b[0;34m:\u001b[0m\u001b[0;34m\u001b[0m\u001b[0;34m\u001b[0m\u001b[0m\n",
            "\u001b[0;32m/usr/local/lib/python3.10/dist-packages/pinecone/core/openapi/control/api/manage_indexes_api.py\u001b[0m in \u001b[0;36m__create_index\u001b[0;34m(self, create_index_request, **kwargs)\u001b[0m\n\u001b[1;32m    271\u001b[0m             \u001b[0mkwargs\u001b[0m\u001b[0;34m[\u001b[0m\u001b[0;34m\"_host_index\"\u001b[0m\u001b[0;34m]\u001b[0m \u001b[0;34m=\u001b[0m \u001b[0mkwargs\u001b[0m\u001b[0;34m.\u001b[0m\u001b[0mget\u001b[0m\u001b[0;34m(\u001b[0m\u001b[0;34m\"_host_index\"\u001b[0m\u001b[0;34m)\u001b[0m\u001b[0;34m\u001b[0m\u001b[0;34m\u001b[0m\u001b[0m\n\u001b[1;32m    272\u001b[0m             \u001b[0mkwargs\u001b[0m\u001b[0;34m[\u001b[0m\u001b[0;34m\"create_index_request\"\u001b[0m\u001b[0;34m]\u001b[0m \u001b[0;34m=\u001b[0m \u001b[0mcreate_index_request\u001b[0m\u001b[0;34m\u001b[0m\u001b[0;34m\u001b[0m\u001b[0m\n\u001b[0;32m--> 273\u001b[0;31m             \u001b[0;32mreturn\u001b[0m \u001b[0mself\u001b[0m\u001b[0;34m.\u001b[0m\u001b[0mcall_with_http_info\u001b[0m\u001b[0;34m(\u001b[0m\u001b[0;34m**\u001b[0m\u001b[0mkwargs\u001b[0m\u001b[0;34m)\u001b[0m\u001b[0;34m\u001b[0m\u001b[0;34m\u001b[0m\u001b[0m\n\u001b[0m\u001b[1;32m    274\u001b[0m \u001b[0;34m\u001b[0m\u001b[0m\n\u001b[1;32m    275\u001b[0m         self.create_index = _Endpoint(\n",
            "\u001b[0;32m/usr/local/lib/python3.10/dist-packages/pinecone/core/openapi/shared/api_client.py\u001b[0m in \u001b[0;36mcall_with_http_info\u001b[0;34m(self, **kwargs)\u001b[0m\n\u001b[1;32m    817\u001b[0m             \u001b[0mparams\u001b[0m\u001b[0;34m[\u001b[0m\u001b[0;34m\"header\"\u001b[0m\u001b[0;34m]\u001b[0m\u001b[0;34m[\u001b[0m\u001b[0;34m\"Content-Type\"\u001b[0m\u001b[0;34m]\u001b[0m \u001b[0;34m=\u001b[0m \u001b[0mheader_list\u001b[0m\u001b[0;34m\u001b[0m\u001b[0;34m\u001b[0m\u001b[0m\n\u001b[1;32m    818\u001b[0m \u001b[0;34m\u001b[0m\u001b[0m\n\u001b[0;32m--> 819\u001b[0;31m         return self.api_client.call_api(\n\u001b[0m\u001b[1;32m    820\u001b[0m             \u001b[0mself\u001b[0m\u001b[0;34m.\u001b[0m\u001b[0msettings\u001b[0m\u001b[0;34m[\u001b[0m\u001b[0;34m\"endpoint_path\"\u001b[0m\u001b[0;34m]\u001b[0m\u001b[0;34m,\u001b[0m\u001b[0;34m\u001b[0m\u001b[0;34m\u001b[0m\u001b[0m\n\u001b[1;32m    821\u001b[0m             \u001b[0mself\u001b[0m\u001b[0;34m.\u001b[0m\u001b[0msettings\u001b[0m\u001b[0;34m[\u001b[0m\u001b[0;34m\"http_method\"\u001b[0m\u001b[0;34m]\u001b[0m\u001b[0;34m,\u001b[0m\u001b[0;34m\u001b[0m\u001b[0;34m\u001b[0m\u001b[0m\n",
            "\u001b[0;32m/usr/local/lib/python3.10/dist-packages/pinecone/core/openapi/shared/api_client.py\u001b[0m in \u001b[0;36mcall_api\u001b[0;34m(self, resource_path, method, path_params, query_params, header_params, body, post_params, files, response_type, auth_settings, async_req, _return_http_data_only, collection_formats, _preload_content, _request_timeout, _host, _check_type)\u001b[0m\n\u001b[1;32m    378\u001b[0m         \"\"\"\n\u001b[1;32m    379\u001b[0m         \u001b[0;32mif\u001b[0m \u001b[0;32mnot\u001b[0m \u001b[0masync_req\u001b[0m\u001b[0;34m:\u001b[0m\u001b[0;34m\u001b[0m\u001b[0;34m\u001b[0m\u001b[0m\n\u001b[0;32m--> 380\u001b[0;31m             return self.__call_api(\n\u001b[0m\u001b[1;32m    381\u001b[0m                 \u001b[0mresource_path\u001b[0m\u001b[0;34m,\u001b[0m\u001b[0;34m\u001b[0m\u001b[0;34m\u001b[0m\u001b[0m\n\u001b[1;32m    382\u001b[0m                 \u001b[0mmethod\u001b[0m\u001b[0;34m,\u001b[0m\u001b[0;34m\u001b[0m\u001b[0;34m\u001b[0m\u001b[0m\n",
            "\u001b[0;32m/usr/local/lib/python3.10/dist-packages/pinecone/core/openapi/shared/api_client.py\u001b[0m in \u001b[0;36m__call_api\u001b[0;34m(self, resource_path, method, path_params, query_params, header_params, body, post_params, files, response_type, auth_settings, _return_http_data_only, collection_formats, _preload_content, _request_timeout, _host, _check_type)\u001b[0m\n\u001b[1;32m    185\u001b[0m         \u001b[0;32mexcept\u001b[0m \u001b[0mPineconeApiException\u001b[0m \u001b[0;32mas\u001b[0m \u001b[0me\u001b[0m\u001b[0;34m:\u001b[0m\u001b[0;34m\u001b[0m\u001b[0;34m\u001b[0m\u001b[0m\n\u001b[1;32m    186\u001b[0m             \u001b[0me\u001b[0m\u001b[0;34m.\u001b[0m\u001b[0mbody\u001b[0m \u001b[0;34m=\u001b[0m \u001b[0me\u001b[0m\u001b[0;34m.\u001b[0m\u001b[0mbody\u001b[0m\u001b[0;34m.\u001b[0m\u001b[0mdecode\u001b[0m\u001b[0;34m(\u001b[0m\u001b[0;34m\"utf-8\"\u001b[0m\u001b[0;34m)\u001b[0m\u001b[0;34m\u001b[0m\u001b[0;34m\u001b[0m\u001b[0m\n\u001b[0;32m--> 187\u001b[0;31m             \u001b[0;32mraise\u001b[0m \u001b[0me\u001b[0m\u001b[0;34m\u001b[0m\u001b[0;34m\u001b[0m\u001b[0m\n\u001b[0m\u001b[1;32m    188\u001b[0m \u001b[0;34m\u001b[0m\u001b[0m\n\u001b[1;32m    189\u001b[0m         \u001b[0mself\u001b[0m\u001b[0;34m.\u001b[0m\u001b[0mlast_response\u001b[0m \u001b[0;34m=\u001b[0m \u001b[0mresponse_data\u001b[0m\u001b[0;34m\u001b[0m\u001b[0;34m\u001b[0m\u001b[0m\n",
            "\u001b[0;32m/usr/local/lib/python3.10/dist-packages/pinecone/core/openapi/shared/api_client.py\u001b[0m in \u001b[0;36m__call_api\u001b[0;34m(self, resource_path, method, path_params, query_params, header_params, body, post_params, files, response_type, auth_settings, _return_http_data_only, collection_formats, _preload_content, _request_timeout, _host, _check_type)\u001b[0m\n\u001b[1;32m    173\u001b[0m         \u001b[0;32mtry\u001b[0m\u001b[0;34m:\u001b[0m\u001b[0;34m\u001b[0m\u001b[0;34m\u001b[0m\u001b[0m\n\u001b[1;32m    174\u001b[0m             \u001b[0;31m# perform request and return response\u001b[0m\u001b[0;34m\u001b[0m\u001b[0;34m\u001b[0m\u001b[0m\n\u001b[0;32m--> 175\u001b[0;31m             response_data = self.request(\n\u001b[0m\u001b[1;32m    176\u001b[0m                 \u001b[0mmethod\u001b[0m\u001b[0;34m,\u001b[0m\u001b[0;34m\u001b[0m\u001b[0;34m\u001b[0m\u001b[0m\n\u001b[1;32m    177\u001b[0m                 \u001b[0murl\u001b[0m\u001b[0;34m,\u001b[0m\u001b[0;34m\u001b[0m\u001b[0;34m\u001b[0m\u001b[0m\n",
            "\u001b[0;32m/usr/local/lib/python3.10/dist-packages/pinecone/core/openapi/shared/api_client.py\u001b[0m in \u001b[0;36mrequest\u001b[0;34m(self, method, url, query_params, headers, post_params, body, _preload_content, _request_timeout)\u001b[0m\n\u001b[1;32m    458\u001b[0m             )\n\u001b[1;32m    459\u001b[0m         \u001b[0;32melif\u001b[0m \u001b[0mmethod\u001b[0m \u001b[0;34m==\u001b[0m \u001b[0;34m\"POST\"\u001b[0m\u001b[0;34m:\u001b[0m\u001b[0;34m\u001b[0m\u001b[0;34m\u001b[0m\u001b[0m\n\u001b[0;32m--> 460\u001b[0;31m             return self.rest_client.POST(\n\u001b[0m\u001b[1;32m    461\u001b[0m                 \u001b[0murl\u001b[0m\u001b[0;34m,\u001b[0m\u001b[0;34m\u001b[0m\u001b[0;34m\u001b[0m\u001b[0m\n\u001b[1;32m    462\u001b[0m                 \u001b[0mquery_params\u001b[0m\u001b[0;34m=\u001b[0m\u001b[0mquery_params\u001b[0m\u001b[0;34m,\u001b[0m\u001b[0;34m\u001b[0m\u001b[0;34m\u001b[0m\u001b[0m\n",
            "\u001b[0;32m/usr/local/lib/python3.10/dist-packages/pinecone/core/openapi/shared/rest.py\u001b[0m in \u001b[0;36mPOST\u001b[0;34m(self, url, headers, query_params, post_params, body, _preload_content, _request_timeout)\u001b[0m\n\u001b[1;32m    343\u001b[0m         \u001b[0m_request_timeout\u001b[0m\u001b[0;34m=\u001b[0m\u001b[0;32mNone\u001b[0m\u001b[0;34m,\u001b[0m\u001b[0;34m\u001b[0m\u001b[0;34m\u001b[0m\u001b[0m\n\u001b[1;32m    344\u001b[0m     ):\n\u001b[0;32m--> 345\u001b[0;31m         return self.request(\n\u001b[0m\u001b[1;32m    346\u001b[0m             \u001b[0;34m\"POST\"\u001b[0m\u001b[0;34m,\u001b[0m\u001b[0;34m\u001b[0m\u001b[0;34m\u001b[0m\u001b[0m\n\u001b[1;32m    347\u001b[0m             \u001b[0murl\u001b[0m\u001b[0;34m,\u001b[0m\u001b[0;34m\u001b[0m\u001b[0;34m\u001b[0m\u001b[0m\n",
            "\u001b[0;32m/usr/local/lib/python3.10/dist-packages/pinecone/core/openapi/shared/rest.py\u001b[0m in \u001b[0;36mrequest\u001b[0;34m(self, method, url, query_params, headers, body, post_params, _preload_content, _request_timeout)\u001b[0m\n\u001b[1;32m    277\u001b[0m                 \u001b[0;32mraise\u001b[0m \u001b[0mServiceException\u001b[0m\u001b[0;34m(\u001b[0m\u001b[0mhttp_resp\u001b[0m\u001b[0;34m=\u001b[0m\u001b[0mr\u001b[0m\u001b[0;34m)\u001b[0m\u001b[0;34m\u001b[0m\u001b[0;34m\u001b[0m\u001b[0m\n\u001b[1;32m    278\u001b[0m \u001b[0;34m\u001b[0m\u001b[0m\n\u001b[0;32m--> 279\u001b[0;31m             \u001b[0;32mraise\u001b[0m \u001b[0mPineconeApiException\u001b[0m\u001b[0;34m(\u001b[0m\u001b[0mhttp_resp\u001b[0m\u001b[0;34m=\u001b[0m\u001b[0mr\u001b[0m\u001b[0;34m)\u001b[0m\u001b[0;34m\u001b[0m\u001b[0;34m\u001b[0m\u001b[0m\n\u001b[0m\u001b[1;32m    280\u001b[0m \u001b[0;34m\u001b[0m\u001b[0m\n\u001b[1;32m    281\u001b[0m         \u001b[0;32mreturn\u001b[0m \u001b[0mr\u001b[0m\u001b[0;34m\u001b[0m\u001b[0;34m\u001b[0m\u001b[0m\n",
            "\u001b[0;31mPineconeApiException\u001b[0m: (409)\nReason: Conflict\nHTTP response headers: HTTPHeaderDict({'content-type': 'text/plain; charset=utf-8', 'access-control-allow-origin': '*', 'vary': 'origin,access-control-request-method,access-control-request-headers', 'access-control-expose-headers': '*', 'x-pinecone-api-version': '2024-07', 'X-Cloud-Trace-Context': '6c11ecb7f02104d0f10b85e27188fd10', 'Date': 'Sat, 04 Jan 2025 19:10:37 GMT', 'Server': 'Google Frontend', 'Content-Length': '85', 'Via': '1.1 google', 'Alt-Svc': 'h3=\":443\"; ma=2592000,h3-29=\":443\"; ma=2592000'})\nHTTP response body: {\"error\":{\"code\":\"ALREADY_EXISTS\",\"message\":\"Resource  already exists\"},\"status\":409}\n"
          ]
        }
      ]
    },
    {
      "cell_type": "code",
      "source": [
        "\n",
        "index= pinecone_object.Index(index_name)"
      ],
      "metadata": {
        "id": "s5ASyGC0Znfu"
      },
      "execution_count": 207,
      "outputs": []
    },
    {
      "cell_type": "code",
      "source": [
        "from langchain_pinecone import PineconeVectorStore\n",
        "vector_store = PineconeVectorStore(index=index,embedding=embedding)"
      ],
      "metadata": {
        "id": "AP6_Pd1FFGUR"
      },
      "execution_count": 208,
      "outputs": []
    },
    {
      "cell_type": "code",
      "source": [
        "\n",
        "import fitz\n",
        "from langchain_text_splitters import RecursiveCharacterTextSplitter\n",
        "from langchain_core.documents import Document\n",
        "\n",
        "def extract_text_from_pdf(pdf_path):\n",
        "    doc = fitz.open(pdf_path)\n",
        "    text = \"\"\n",
        "    for page_num in range(doc.page_count):\n",
        "        page = doc.load_page(page_num)\n",
        "        text += page.get_text(\"text\")\n",
        "    return text\n",
        "pdf_path = \"/content/sample_data/combined1.pdf\"\n",
        "\n",
        "\n",
        "pdf_text = extract_text_from_pdf(pdf_path)\n",
        "\n",
        "text_splitter = RecursiveCharacterTextSplitter(\n",
        "    chunk_size=1000,\n",
        "    chunk_overlap=100,\n",
        "    add_start_index=True,\n",
        ")\n",
        "\n",
        "docs = [Document(page_content=pdf_text)]\n",
        "\n",
        "documents = text_splitter.split_documents(docs)\n"
      ],
      "metadata": {
        "id": "K8nsJQs9fm3W"
      },
      "execution_count": null,
      "outputs": []
    },
    {
      "cell_type": "markdown",
      "source": [],
      "metadata": {
        "id": "o-ESu8bBLdrL"
      }
    },
    {
      "cell_type": "code",
      "source": [
        "random_ids = [str(index) for index, _ in enumerate(documents)]\n",
        "\n",
        "response = vector_store.add_documents(documents=documents, ids=random_ids)\n",
        "print(response)"
      ],
      "metadata": {
        "id": "9446awcdGJDz"
      },
      "execution_count": null,
      "outputs": []
    },
    {
      "cell_type": "code",
      "source": [
        "from langchain_google_genai import ChatGoogleGenerativeAI\n",
        "llm = ChatGoogleGenerativeAI(model='gemini-1.5-flash')"
      ],
      "metadata": {
        "id": "t8iD-rycsLlE"
      },
      "execution_count": 209,
      "outputs": []
    },
    {
      "cell_type": "code",
      "source": [
        "from langgraph.graph import MessagesState\n",
        "from langchain.prompts import PromptTemplate\n",
        "def answer_to_user(query: str):\n",
        "  context_with_scores =vector_store.similarity_search_with_score(query)\n",
        "  filtered_context = [res.page_content for res, score in context_with_scores if score > 0.65]\n",
        "  return filtered_context\n",
        "  prompt_template = PromptTemplate(\n",
        "            input_variables=[\"filtered_context\", \"user_query\"],\n",
        "            template=\"\"\"\n",
        "                You are an assistant for question-answering tasks. Use the following pieces of retrieved context to answer the question.\n",
        "                 If you don't know the answer.\n",
        "\n",
        "\n",
        "                ### Question:\n",
        "                {user_query}\n",
        "\n",
        "                ### Context:\n",
        "                {filtered_context}\n",
        "\n",
        "\n",
        "\n",
        "                ### Guidelines for Responses:\n",
        "                1. Answer based on the provided context.\n",
        "                2. Be concise, friendly, and professional.\n",
        "\n",
        "\n",
        "                ## Response:\n",
        "\n",
        "            \"\"\"\n",
        "        )\n",
        "\n",
        "  formatted_prompt = prompt_template.format(filtered_context=filtered_context, user_query=query)\n",
        "  final_result = llm.invoke(formatted_prompt)\n",
        "  return final_result\n"
      ],
      "metadata": {
        "id": "2UajT3syDPFe"
      },
      "execution_count": 210,
      "outputs": []
    },
    {
      "cell_type": "code",
      "source": [
        "final_answer=answer_to_user('how we can check my order status')\n",
        "print(final_answer)"
      ],
      "metadata": {
        "colab": {
          "base_uri": "https://localhost:8080/"
        },
        "id": "YwYUt8z4OwaC",
        "outputId": "3c56df23-4607-47b4-c62b-6fc1fab12b79"
      },
      "execution_count": 211,
      "outputs": [
        {
          "output_type": "stream",
          "name": "stdout",
          "text": [
            "['Q: What should I do if my order is not confirmed?\\nAns: Check your email for confirmation or contact customer support with your order details.\\nQ: How do I cancel an order?\\nAns: Go to \"My Orders,\" select the order, and click \"Cancel\" before it is shipped.\\nQ: Can I place an order over the phone?\\nAns: Yes, contact customer support for assistance.\\nQ: Can I make changes to an order after it has been placed?\\nAns: Changes are possible only before the order is shipped. Contact support for help.\\nQ: How do I apply a discount code?\\nAns: Enter the code at checkout in the \"Promo Code\" field and click \"Apply.\"\\nQ: Can I save items for later?\\nAns: Use the \"Wishlist\" feature to save items for future purchases.\\nQ: Is there a minimum order value?\\nAns: Some promotions may require a minimum purchase amount. Check specific terms during\\ncheckout.\\nQ: Can I schedule a delivery for a specific date?\\nAns: Yes, choose a preferred delivery date at checkout if the option is available.', 'Ans: Contact customer support with your return tracking details for assistance.\\nQ: How do I choose the right size?\\nAns: Refer to the size chart available on each product page.\\nQ: Are the product images accurate?\\nAns: Yes, the images reflect the actual product, though slight color variations may occur due to\\nlighting.\\nQ: How do I find product reviews?\\nAns: Reviews are available on each product page under the \"Reviews\" section.\\nQ: Can I request more information about a product?\\nAns: Yes, contact our customer support team for detailed product queries.\\nQ: Are the products authentic?\\nAns: Absolutely. We source products directly from manufacturers and authorized distributors.\\nQ: How do I know if a product is in stock?\\nAns: The stock status is displayed on each product page.\\nQ: Do you offer custom products?\\nAns: Customization options are available for select products. Check product descriptions for details.\\nQ: Can I pre-order items?', 'Q: Is my personal information safe?\\nAns: Yes, we use encryption and secure servers to protect your personal data.\\nQ: How do I change my email address?\\nAns: Log in, go to \"Profile,\" and update your email address under account settings.\\nQ: How do I change my phone number?\\nAns: Visit your account settings and update the phone number in the \"Contact Information\" section.\\nQ: How do I subscribe to the newsletter?\\nAns: Opt-in during registration or subscribe via the \"Newsletter\" section in your account.\\nQ: How do I unsubscribe from the newsletter?\\nAns: Click \"Unsubscribe\" at the bottom of any newsletter email or adjust your preferences in your\\naccount.\\nQ: How do I place an order?\\nAns: Browse products, add them to your cart, and proceed to checkout by following the on-screen\\ninstructions.\\nQ: Can I edit my cart before checkout?\\nAns: Yes, you can add or remove items and adjust quantities in your cart before placing an order.\\nQ: What should I do if my order is not confirmed?', 'Q: Can I pre-order items?\\nAns: Yes, pre-orders are available for upcoming launches. Delivery timelines are mentioned on the\\nproduct page.\\nQ: What materials are used in your products?\\nAns: Detailed material information is provided in the product description.\\nQ: Are your products eco-friendly?\\nAns: Many of our products use sustainable materials and processes. Look for the \"Eco-Friendly\" tag.\\nQ: How do I contact customer service?\\nAns: Use the \"Contact Us\" page or email us at support@example.com.\\nQ: What are your customer service hours?\\nAns: Our support team is available Monday-Friday, 9 AM to 6 PM (local time).\\nQ: Can I request a callback?\\nAns: Yes, submit a callback request on our \"Contact Us\" page.\\nQ: How do I submit feedback?\\nAns: Use the feedback form on our website or email us your suggestions.\\nQ: How do I report a problem with my order?\\nAns: Log in to your account, select the order, and click \"Report an Issue.\"\\nQ: Can I chat with customer service online?']\n"
          ]
        }
      ]
    },
    {
      "cell_type": "code",
      "source": [
        "orders_db = {\n",
        "    \"ORD12345\": {\"status\": \"Shipped\", \"estimated_delivery\": \"2025-01-10\"},\n",
        "    \"ORD67890\": {\"status\": \"Processing\", \"estimated_delivery\": \"2025-01-15\"},\n",
        "    \"111\": {\"status\": \"Delivered\", \"delivery_date\": \"2024-12-30\"},\n",
        "}\n",
        "\n",
        "def check_order_status(order_id: str) -> str:\n",
        "    \"\"\"\n",
        "    Function to check the status of an order based on its ID.\n",
        "\n",
        "    Parameters:\n",
        "    - order_id (str): The order ID to check.\n",
        "\n",
        "    Returns:\n",
        "    - str: The status of the order or an error message if the order is not found.\n",
        "    \"\"\"\n",
        "    order = orders_db.get(order_id)\n",
        "    if order:\n",
        "        status = order[\"status\"]\n",
        "        if status == \"Delivered\":\n",
        "            return f\"Order {order_id} has been delivered on {order['delivery_date']}.\"\n",
        "        elif status == \"Shipped\":\n",
        "            return f\"Order {order_id} has been shipped and is expected to arrive by {order['estimated_delivery']}.\"\n",
        "        elif status == \"Processing\":\n",
        "            return f\"Order {order_id} is currently being processed. Estimated delivery is {order['estimated_delivery']}.\"\n",
        "    return f\"Order {order_id} not found. Please check the order ID and try again.\"\n",
        "\n",
        "# Database to store complaints\n",
        "complaints_db = {}\n",
        "\n",
        "def submit_complaint(order_id: str, complaint: str, email: str = None) -> str:\n",
        "    \"\"\"\n",
        "    Function to submit a complaint for a specific order.\n",
        "\n",
        "    Parameters:\n",
        "    - order_id (str): The order ID associated with the complaint.\n",
        "    - complaint (str): The details of the complaint.\n",
        "    - email (str, optional): The email address of the complainant for follow-up.\n",
        "\n",
        "    Returns:\n",
        "    - str: A confirmation message or an error message if the order is not found.\n",
        "    \"\"\"\n",
        "    if order_id not in orders_db:\n",
        "        return f\"Order {order_id} not found. Please check the order ID and try again.\"\n",
        "\n",
        "    complaint_id = f\"COMP{len(complaints_db) + 1:05d}\"\n",
        "\n",
        "    complaints_db[complaint_id] = {\n",
        "        \"order_id\": order_id,\n",
        "        \"complaint\": complaint,\n",
        "        \"email\": email,\n",
        "        \"status\": \"Open\",\n",
        "    }\n",
        "\n",
        "    return f\"Complaint submitted successfully! Your complaint ID is {complaint_id}. We will contact you at {email if email else 'your provided contact details'} for follow-up.\"\n",
        "llm_with_tools = llm.bind_tools([check_order_status,submit_complaint])\n"
      ],
      "metadata": {
        "id": "dpwYC28wTdhp"
      },
      "execution_count": 212,
      "outputs": []
    },
    {
      "cell_type": "code",
      "source": [
        "from IPython.display import Image, display\n",
        "from langchain_core.messages import HumanMessage, AIMessage, SystemMessage\n",
        "from langchain_core.tools import tool\n",
        "from langgraph.prebuilt import ToolNode, tools_condition\n",
        "from langgraph.graph import StateGraph, END, START\n",
        "from langgraph.graph import MessagesState\n",
        "\n",
        "\n",
        "def classify_condition(state: MessagesState) -> dict:\n",
        "    user_query = state[\"messages\"][-1].content\n",
        "\n",
        "    if not isinstance(user_query, str):\n",
        "        raise TypeError(f\"Expected user_query to be a string, got {type(user_query)}\")\n",
        "\n",
        "    context_with_scores = vector_store.similarity_search_with_score(user_query)\n",
        "    filtered_context = [res.page_content for res, score in context_with_scores if score > 0.65]\n",
        "\n",
        "    if filtered_context:\n",
        "        return {\"next_node\": \"search_from_rag\"}\n",
        "    else:\n",
        "        return {\"next_node\": \"tool_calling_llm\"}\n",
        "\n",
        "def answer_to_user(state: MessagesState) -> dict:\n",
        "\n",
        "    user_query = state[\"messages\"][-1].content\n",
        "\n",
        "    if not isinstance(user_query, str):\n",
        "        raise TypeError(f\"Expected user_query to be a string, got {type(user_query)}\")\n",
        "\n",
        "    context_with_scores = vector_store.similarity_search_with_score(user_query)\n",
        "    filtered_context = [res.page_content for res, score in context_with_scores if score > 0.65]\n",
        "\n",
        "    rag_answer = f\"Based on the context: {filtered_context[0]}\" if filtered_context else \"No relevant context found.\"\n",
        "    state[\"messages\"].append(AIMessage(content=filtered_context[0]))\n",
        "    return {\"messages\": state[\"messages\"]}\n",
        "\n",
        "def tool_calling_llm(state: MessagesState) -> dict:\n",
        "    user_query = state[\"messages\"][-1].content\n",
        "\n",
        "    if not isinstance(user_query, str):\n",
        "        raise TypeError(f\"Expected user_query to be a string, got {type(user_query)}\")\n",
        "\n",
        "    response = llm_with_tools.invoke([HumanMessage(content=user_query)])\n",
        "    state[\"messages\"].append(response)\n",
        "    return {\"messages\": state[\"messages\"]}\n",
        "\n",
        "builder = StateGraph(MessagesState)\n",
        "\n",
        "builder.add_node(\"classifier\", classify_condition)\n",
        "builder.add_node(\"search_from_rag\", answer_to_user)\n",
        "builder.add_node(\"tool_calling_llm\", tool_calling_llm)\n",
        "builder.add_node(\"tools\", ToolNode([check_order_status,submit_complaint]))\n",
        "\n",
        "builder.add_edge(START, \"classifier\")\n",
        "builder.add_conditional_edges(\n",
        "    \"classifier\",\n",
        "    lambda state: state.get(\"next_node\"),\n",
        "    {\n",
        "        \"search_from_rag\": \"search_from_rag\",\n",
        "        \"tool_calling_llm\": \"tool_calling_llm\",\n",
        "    },\n",
        ")\n",
        "builder.add_edge(\"tool_calling_llm\", \"tools\")\n",
        "builder.add_conditional_edges(\n",
        "     \"tools\",\n",
        "    tools_condition,\n",
        "    {\n",
        "        END: END,\n",
        "    },\n",
        ")\n",
        "builder.add_edge(\"search_from_rag\", END)\n",
        "graph = builder.compile()\n",
        "\n",
        "display(Image(graph.get_graph().draw_mermaid_png()))\n",
        ""
      ],
      "metadata": {
        "id": "w5K6UwZhAH1m",
        "outputId": "ea4a7185-77cf-4f70-ed77-49042a9cb019",
        "colab": {
          "base_uri": "https://localhost:8080/",
          "height": 449
        }
      },
      "execution_count": 219,
      "outputs": [
        {
          "output_type": "display_data",
          "data": {
            "image/png": "[encoded data removed]",
            "text/plain": [
              "<IPython.core.display.Image object>"
            ]
          },
          "metadata": {}
        }
      ]
    },
    {
      "cell_type": "code",
      "source": [
        "from IPython.display import Image, display\n",
        "from langchain_core.messages import HumanMessage, AIMessage, SystemMessage\n",
        "from langchain_core.tools import tool\n",
        "from langgraph.prebuilt import ToolNode, tools_condition\n",
        "from langgraph.graph import StateGraph, END, START\n",
        "from langgraph.graph import MessagesState\n",
        "from typing_extensions import TypedDict\n",
        "from langchain.prompts import PromptTemplate\n",
        "\n",
        "# Define the state class\n",
        "class State(MessagesState):\n",
        "    user_query: str\n",
        "\n",
        "# Define the final_response function\n",
        "def final_response(state: MessagesState) -> dict:\n",
        "    \"\"\"\n",
        "    Prepares the final response for the user by consolidating messages from previous nodes.\n",
        "    Uses a prompt template to format the response based on the context and user query.\n",
        "    \"\"\"\n",
        "    filtered_context = state[\"messages\"]\n",
        "    user_query = state[\"user_query\"]\n",
        "\n",
        "\n",
        "\n",
        "    for msg in reversed(messages):\n",
        "        if isinstance(msg, HumanMessage):\n",
        "            user_query = msg.content\n",
        "        elif isinstance(msg, AIMessage) and \"filtered_context\" in msg.content:\n",
        "            filtered_context = msg.content[\"filtered_context\"]\n",
        "        if user_query and filtered_context:\n",
        "            break\n",
        "\n",
        "    # If no user query or filtered context is found, return a default response\n",
        "    if not user_query or not filtered_context:\n",
        "        state[\"messages\"].append(AIMessage(content=\"No response generated. Missing user query or context.\"))\n",
        "        return {\"messages\": state[\"messages\"]}\n",
        "\n",
        "    # Define the prompt template\n",
        "    prompt_template = PromptTemplate(\n",
        "        input_variables=[\"filtered_context\", \"user_query\"],\n",
        "        template=\"\"\"\n",
        "            You are an assistant for question-answering tasks. Use the following pieces of retrieved context to answer the question.\n",
        "            If you don't know the answer, just say that you don't know.\n",
        "\n",
        "            ### Question:\n",
        "            {user_query}\n",
        "\n",
        "            ### Context:\n",
        "            {filtered_context}\n",
        "\n",
        "            ### Guidelines for Responses:\n",
        "            1. Answer based on the provided context.\n",
        "            2. Be concise, friendly, and professional.\n",
        "\n",
        "            ## Response:\n",
        "        \"\"\"\n",
        "    )\n",
        "\n",
        "    # Format the prompt with the user query and filtered context\n",
        "    formatted_prompt = prompt_template.format(filtered_context=filtered_context, user_query=user_query)\n",
        "\n",
        "    # Invoke the LLM to generate the final response\n",
        "    final_result = llm.invoke(formatted_prompt)\n",
        "\n",
        "    # Append the final response to the messages\n",
        "    state[\"messages\"].append(AIMessage(content=final_result))\n",
        "    return {\"messages\": state[\"messages\"]}\n",
        "\n",
        "# Define the classify_condition function\n",
        "def classify_condition(state: MessagesState) :\n",
        "    # Extract the last user query from the messages\n",
        "    if not state[\"messages\"]:\n",
        "        raise ValueError(\"No messages found in the state.\")\n",
        "\n",
        "    last_message = state[\"messages\"][-1]\n",
        "    if not isinstance(last_message, HumanMessage):\n",
        "        raise TypeError(f\"Expected the last message to be a HumanMessage, got {type(last_message)}\")\n",
        "\n",
        "    user_query = last_message.content\n",
        "\n",
        "    if not isinstance(user_query, str):\n",
        "        raise TypeError(f\"Expected user_query to be a string, got {type(user_query)}\")\n",
        "\n",
        "    context_with_scores = vector_store.similarity_search_with_score(user_query)\n",
        "    filtered_context = [res.page_content for res, score in context_with_scores if score > 0.65]\n",
        "\n",
        "    if filtered_context:\n",
        "        return {\"next_node\": \"search_from_rag\"}\n",
        "    else:\n",
        "        return {\"next_node\": \"tool_calling_llm\"}\n",
        "\n",
        "# Define the answer_to_user function\n",
        "def answer_to_user(state: MessagesState)  :\n",
        "    user_query = state[\"messages\"][-1].content\n",
        "\n",
        "    if not isinstance(user_query, str):\n",
        "        raise TypeError(f\"Expected user_query to be a string, got {type(user_query)}\")\n",
        "\n",
        "    context_with_scores = vector_store.similarity_search_with_score(user_query)\n",
        "    filtered_context = [res.page_content for res, score in context_with_scores if score > 0.65]\n",
        "\n",
        "    rag_answer = f\"Based on the context: {filtered_context[0]}\" if filtered_context else \"No relevant context found.\"\n",
        "    state[\"messages\"].append(AIMessage(content={\"filtered_context\": filtered_context[0]}))\n",
        "    return {\"messages\": state[\"messages\"]}\n",
        "\n",
        "# Define the tool_calling_llm function\n",
        "def tool_calling_llm(state: MessagesState) :\n",
        "    user_query = state[\"messages\"][-1].content\n",
        "\n",
        "    if not isinstance(user_query, str):\n",
        "        raise TypeError(f\"Expected user_query to be a string, got {type(user_query)}\")\n",
        "\n",
        "    response = llm_with_tools.invoke([HumanMessage(content=user_query)])\n",
        "    state[\"messages\"].append(response)\n",
        "    return {\"messages\": state[\"messages\"]}\n",
        "\n",
        "# Build the graph\n",
        "builder = StateGraph(MessagesState)\n",
        "\n",
        "# Add nodes\n",
        "builder.add_node(\"classifier\", classify_condition)\n",
        "builder.add_node(\"search_from_rag\", answer_to_user)\n",
        "builder.add_node(\"tool_calling_llm\", tool_calling_llm)\n",
        "builder.add_node(\"tools\", ToolNode([check_order_status, submit_complaint]))\n",
        "builder.add_node(\"final_response\", final_response)\n",
        "\n",
        "# Add edges\n",
        "builder.add_edge(START, \"classifier\")\n",
        "builder.add_conditional_edges(\n",
        "    \"classifier\",\n",
        "    lambda state: state.get(\"next_node\"),\n",
        "    {\n",
        "        \"search_from_rag\": \"search_from_rag\",\n",
        "        \"tool_calling_llm\": \"tool_calling_llm\",\n",
        "    },\n",
        ")\n",
        "builder.add_edge(\"tool_calling_llm\", \"tools\")\n",
        "builder.add_conditional_edges(\n",
        "    \"tools\",\n",
        "    tools_condition,\n",
        "    {\n",
        "        \"final_response\": \"final_response\",\n",
        "    },\n",
        ")\n",
        "builder.add_edge(\"search_from_rag\", \"final_response\")\n",
        "builder.add_edge(\"final_response\", END)\n",
        "\n",
        "# Compile the graph\n",
        "graph = builder.compile()\n",
        "\n",
        "# Display the graph\n",
        "display(Image(graph.get_graph().draw_mermaid_png()))\n",
        "\n",
        "# Invoke the graph\n",
        "from langchain_core.messages import HumanMessage\n",
        "\n",
        "# Initialize the state with the user query\n",
        "messages = [HumanMessage(content=\"What is the return policy?\")]\n",
        "state = {\"messages\": messages}\n",
        "\n",
        "# Invoke the graph\n",
        "result = graph.invoke(state)\n",
        "\n",
        "# Print the result\n",
        "print(result)\n",
        "for m in result['messages']:\n",
        "    m.pretty_print()"
      ],
      "metadata": {
        "id": "zHYkCb6Huuy7",
        "outputId": "e5e75bd4-51a9-4873-9f7b-0597b6cf6a8c",
        "colab": {
          "base_uri": "https://localhost:8080/",
          "height": 887
        }
      },
      "execution_count": 218,
      "outputs": [
        {
          "output_type": "display_data",
          "data": {
            "image/png": "[encoded data removed]",
            "text/plain": [
              "<IPython.core.display.Image object>"
            ]
          },
          "metadata": {}
        },
        {
          "output_type": "error",
          "ename": "KeyError",
          "evalue": "'__end__'",
          "traceback": [
            "\u001b[0;31m---------------------------------------------------------------------------\u001b[0m",
            "\u001b[0;31mKeyError\u001b[0m                                  Traceback (most recent call last)",
            "\u001b[0;32m<ipython-input-218-65496f2c3f2a>\u001b[0m in \u001b[0;36m<cell line: 162>\u001b[0;34m()\u001b[0m\n\u001b[1;32m    160\u001b[0m \u001b[0;34m\u001b[0m\u001b[0m\n\u001b[1;32m    161\u001b[0m \u001b[0;31m# Invoke the graph\u001b[0m\u001b[0;34m\u001b[0m\u001b[0;34m\u001b[0m\u001b[0m\n\u001b[0;32m--> 162\u001b[0;31m \u001b[0mresult\u001b[0m \u001b[0;34m=\u001b[0m \u001b[0mgraph\u001b[0m\u001b[0;34m.\u001b[0m\u001b[0minvoke\u001b[0m\u001b[0;34m(\u001b[0m\u001b[0mstate\u001b[0m\u001b[0;34m)\u001b[0m\u001b[0;34m\u001b[0m\u001b[0;34m\u001b[0m\u001b[0m\n\u001b[0m\u001b[1;32m    163\u001b[0m \u001b[0;34m\u001b[0m\u001b[0m\n\u001b[1;32m    164\u001b[0m \u001b[0;31m# Print the result\u001b[0m\u001b[0;34m\u001b[0m\u001b[0;34m\u001b[0m\u001b[0m\n",
            "\u001b[0;32m/usr/local/lib/python3.10/dist-packages/langgraph/pregel/__init__.py\u001b[0m in \u001b[0;36minvoke\u001b[0;34m(self, input, config, stream_mode, output_keys, interrupt_before, interrupt_after, debug, **kwargs)\u001b[0m\n\u001b[1;32m   1934\u001b[0m         \u001b[0;32melse\u001b[0m\u001b[0;34m:\u001b[0m\u001b[0;34m\u001b[0m\u001b[0;34m\u001b[0m\u001b[0m\n\u001b[1;32m   1935\u001b[0m             \u001b[0mchunks\u001b[0m \u001b[0;34m=\u001b[0m \u001b[0;34m[\u001b[0m\u001b[0;34m]\u001b[0m\u001b[0;34m\u001b[0m\u001b[0;34m\u001b[0m\u001b[0m\n\u001b[0;32m-> 1936\u001b[0;31m         for chunk in self.stream(\n\u001b[0m\u001b[1;32m   1937\u001b[0m             \u001b[0minput\u001b[0m\u001b[0;34m,\u001b[0m\u001b[0;34m\u001b[0m\u001b[0;34m\u001b[0m\u001b[0m\n\u001b[1;32m   1938\u001b[0m             \u001b[0mconfig\u001b[0m\u001b[0;34m,\u001b[0m\u001b[0;34m\u001b[0m\u001b[0;34m\u001b[0m\u001b[0m\n",
            "\u001b[0;32m/usr/local/lib/python3.10/dist-packages/langgraph/pregel/__init__.py\u001b[0m in \u001b[0;36mstream\u001b[0;34m(self, input, config, stream_mode, output_keys, interrupt_before, interrupt_after, debug, subgraphs)\u001b[0m\n\u001b[1;32m   1654\u001b[0m                 \u001b[0;31m# with channel updates applied only at the transition between steps\u001b[0m\u001b[0;34m\u001b[0m\u001b[0;34m\u001b[0m\u001b[0m\n\u001b[1;32m   1655\u001b[0m                 \u001b[0;32mwhile\u001b[0m \u001b[0mloop\u001b[0m\u001b[0;34m.\u001b[0m\u001b[0mtick\u001b[0m\u001b[0;34m(\u001b[0m\u001b[0minput_keys\u001b[0m\u001b[0;34m=\u001b[0m\u001b[0mself\u001b[0m\u001b[0;34m.\u001b[0m\u001b[0minput_channels\u001b[0m\u001b[0;34m)\u001b[0m\u001b[0;34m:\u001b[0m\u001b[0;34m\u001b[0m\u001b[0;34m\u001b[0m\u001b[0m\n\u001b[0;32m-> 1656\u001b[0;31m                     for _ in runner.tick(\n\u001b[0m\u001b[1;32m   1657\u001b[0m                         \u001b[0mloop\u001b[0m\u001b[0;34m.\u001b[0m\u001b[0mtasks\u001b[0m\u001b[0;34m.\u001b[0m\u001b[0mvalues\u001b[0m\u001b[0;34m(\u001b[0m\u001b[0;34m)\u001b[0m\u001b[0;34m,\u001b[0m\u001b[0;34m\u001b[0m\u001b[0;34m\u001b[0m\u001b[0m\n\u001b[1;32m   1658\u001b[0m                         \u001b[0mtimeout\u001b[0m\u001b[0;34m=\u001b[0m\u001b[0mself\u001b[0m\u001b[0;34m.\u001b[0m\u001b[0mstep_timeout\u001b[0m\u001b[0;34m,\u001b[0m\u001b[0;34m\u001b[0m\u001b[0;34m\u001b[0m\u001b[0m\n",
            "\u001b[0;32m/usr/local/lib/python3.10/dist-packages/langgraph/pregel/runner.py\u001b[0m in \u001b[0;36mtick\u001b[0;34m(self, tasks, reraise, timeout, retry_policy, get_waiter)\u001b[0m\n\u001b[1;32m    165\u001b[0m             \u001b[0mt\u001b[0m \u001b[0;34m=\u001b[0m \u001b[0mtasks\u001b[0m\u001b[0;34m[\u001b[0m\u001b[0;36m0\u001b[0m\u001b[0;34m]\u001b[0m\u001b[0;34m\u001b[0m\u001b[0;34m\u001b[0m\u001b[0m\n\u001b[1;32m    166\u001b[0m             \u001b[0;32mtry\u001b[0m\u001b[0;34m:\u001b[0m\u001b[0;34m\u001b[0m\u001b[0;34m\u001b[0m\u001b[0m\n\u001b[0;32m--> 167\u001b[0;31m                 run_with_retry(\n\u001b[0m\u001b[1;32m    168\u001b[0m                     \u001b[0mt\u001b[0m\u001b[0;34m,\u001b[0m\u001b[0;34m\u001b[0m\u001b[0;34m\u001b[0m\u001b[0m\n\u001b[1;32m    169\u001b[0m                     \u001b[0mretry_policy\u001b[0m\u001b[0;34m,\u001b[0m\u001b[0;34m\u001b[0m\u001b[0;34m\u001b[0m\u001b[0m\n",
            "\u001b[0;32m/usr/local/lib/python3.10/dist-packages/langgraph/pregel/retry.py\u001b[0m in \u001b[0;36mrun_with_retry\u001b[0;34m(task, retry_policy, configurable)\u001b[0m\n\u001b[1;32m     38\u001b[0m             \u001b[0mtask\u001b[0m\u001b[0;34m.\u001b[0m\u001b[0mwrites\u001b[0m\u001b[0;34m.\u001b[0m\u001b[0mclear\u001b[0m\u001b[0;34m(\u001b[0m\u001b[0;34m)\u001b[0m\u001b[0;34m\u001b[0m\u001b[0;34m\u001b[0m\u001b[0m\n\u001b[1;32m     39\u001b[0m             \u001b[0;31m# run the task\u001b[0m\u001b[0;34m\u001b[0m\u001b[0;34m\u001b[0m\u001b[0m\n\u001b[0;32m---> 40\u001b[0;31m             \u001b[0;32mreturn\u001b[0m \u001b[0mtask\u001b[0m\u001b[0;34m.\u001b[0m\u001b[0mproc\u001b[0m\u001b[0;34m.\u001b[0m\u001b[0minvoke\u001b[0m\u001b[0;34m(\u001b[0m\u001b[0mtask\u001b[0m\u001b[0;34m.\u001b[0m\u001b[0minput\u001b[0m\u001b[0;34m,\u001b[0m \u001b[0mconfig\u001b[0m\u001b[0;34m)\u001b[0m\u001b[0;34m\u001b[0m\u001b[0;34m\u001b[0m\u001b[0m\n\u001b[0m\u001b[1;32m     41\u001b[0m         \u001b[0;32mexcept\u001b[0m \u001b[0mParentCommand\u001b[0m \u001b[0;32mas\u001b[0m \u001b[0mexc\u001b[0m\u001b[0;34m:\u001b[0m\u001b[0;34m\u001b[0m\u001b[0;34m\u001b[0m\u001b[0m\n\u001b[1;32m     42\u001b[0m             \u001b[0mns\u001b[0m\u001b[0;34m:\u001b[0m \u001b[0mstr\u001b[0m \u001b[0;34m=\u001b[0m \u001b[0mconfig\u001b[0m\u001b[0;34m[\u001b[0m\u001b[0mCONF\u001b[0m\u001b[0;34m]\u001b[0m\u001b[0;34m[\u001b[0m\u001b[0mCONFIG_KEY_CHECKPOINT_NS\u001b[0m\u001b[0;34m]\u001b[0m\u001b[0;34m\u001b[0m\u001b[0;34m\u001b[0m\u001b[0m\n",
            "\u001b[0;32m/usr/local/lib/python3.10/dist-packages/langgraph/utils/runnable.py\u001b[0m in \u001b[0;36minvoke\u001b[0;34m(self, input, config, **kwargs)\u001b[0m\n\u001b[1;32m    408\u001b[0m                     \u001b[0minput\u001b[0m \u001b[0;34m=\u001b[0m \u001b[0mstep\u001b[0m\u001b[0;34m.\u001b[0m\u001b[0minvoke\u001b[0m\u001b[0;34m(\u001b[0m\u001b[0minput\u001b[0m\u001b[0;34m,\u001b[0m \u001b[0mconfig\u001b[0m\u001b[0;34m,\u001b[0m \u001b[0;34m**\u001b[0m\u001b[0mkwargs\u001b[0m\u001b[0;34m)\u001b[0m\u001b[0;34m\u001b[0m\u001b[0;34m\u001b[0m\u001b[0m\n\u001b[1;32m    409\u001b[0m                 \u001b[0;32melse\u001b[0m\u001b[0;34m:\u001b[0m\u001b[0;34m\u001b[0m\u001b[0;34m\u001b[0m\u001b[0m\n\u001b[0;32m--> 410\u001b[0;31m                     \u001b[0minput\u001b[0m \u001b[0;34m=\u001b[0m \u001b[0mstep\u001b[0m\u001b[0;34m.\u001b[0m\u001b[0minvoke\u001b[0m\u001b[0;34m(\u001b[0m\u001b[0minput\u001b[0m\u001b[0;34m,\u001b[0m \u001b[0mconfig\u001b[0m\u001b[0;34m)\u001b[0m\u001b[0;34m\u001b[0m\u001b[0;34m\u001b[0m\u001b[0m\n\u001b[0m\u001b[1;32m    411\u001b[0m         \u001b[0;31m# finish the root run\u001b[0m\u001b[0;34m\u001b[0m\u001b[0;34m\u001b[0m\u001b[0m\n\u001b[1;32m    412\u001b[0m         \u001b[0;32mexcept\u001b[0m \u001b[0mBaseException\u001b[0m \u001b[0;32mas\u001b[0m \u001b[0me\u001b[0m\u001b[0;34m:\u001b[0m\u001b[0;34m\u001b[0m\u001b[0;34m\u001b[0m\u001b[0m\n",
            "\u001b[0;32m/usr/local/lib/python3.10/dist-packages/langgraph/utils/runnable.py\u001b[0m in \u001b[0;36minvoke\u001b[0;34m(self, input, config, **kwargs)\u001b[0m\n\u001b[1;32m    182\u001b[0m         \u001b[0;32melse\u001b[0m\u001b[0;34m:\u001b[0m\u001b[0;34m\u001b[0m\u001b[0;34m\u001b[0m\u001b[0m\n\u001b[1;32m    183\u001b[0m             \u001b[0mcontext\u001b[0m\u001b[0;34m.\u001b[0m\u001b[0mrun\u001b[0m\u001b[0;34m(\u001b[0m\u001b[0m_set_config_context\u001b[0m\u001b[0;34m,\u001b[0m \u001b[0mconfig\u001b[0m\u001b[0;34m)\u001b[0m\u001b[0;34m\u001b[0m\u001b[0;34m\u001b[0m\u001b[0m\n\u001b[0;32m--> 184\u001b[0;31m             \u001b[0mret\u001b[0m \u001b[0;34m=\u001b[0m \u001b[0mcontext\u001b[0m\u001b[0;34m.\u001b[0m\u001b[0mrun\u001b[0m\u001b[0;34m(\u001b[0m\u001b[0mself\u001b[0m\u001b[0;34m.\u001b[0m\u001b[0mfunc\u001b[0m\u001b[0;34m,\u001b[0m \u001b[0minput\u001b[0m\u001b[0;34m,\u001b[0m \u001b[0;34m**\u001b[0m\u001b[0mkwargs\u001b[0m\u001b[0;34m)\u001b[0m\u001b[0;34m\u001b[0m\u001b[0;34m\u001b[0m\u001b[0m\n\u001b[0m\u001b[1;32m    185\u001b[0m         \u001b[0;32mif\u001b[0m \u001b[0misinstance\u001b[0m\u001b[0;34m(\u001b[0m\u001b[0mret\u001b[0m\u001b[0;34m,\u001b[0m \u001b[0mRunnable\u001b[0m\u001b[0;34m)\u001b[0m \u001b[0;32mand\u001b[0m \u001b[0mself\u001b[0m\u001b[0;34m.\u001b[0m\u001b[0mrecurse\u001b[0m\u001b[0;34m:\u001b[0m\u001b[0;34m\u001b[0m\u001b[0;34m\u001b[0m\u001b[0m\n\u001b[1;32m    186\u001b[0m             \u001b[0;32mreturn\u001b[0m \u001b[0mret\u001b[0m\u001b[0;34m.\u001b[0m\u001b[0minvoke\u001b[0m\u001b[0;34m(\u001b[0m\u001b[0minput\u001b[0m\u001b[0;34m,\u001b[0m \u001b[0mconfig\u001b[0m\u001b[0;34m)\u001b[0m\u001b[0;34m\u001b[0m\u001b[0;34m\u001b[0m\u001b[0m\n",
            "\u001b[0;32m/usr/local/lib/python3.10/dist-packages/langgraph/graph/graph.py\u001b[0m in \u001b[0;36m_route\u001b[0;34m(self, input, config, reader, writer)\u001b[0m\n\u001b[1;32m     94\u001b[0m             \u001b[0mvalue\u001b[0m \u001b[0;34m=\u001b[0m \u001b[0minput\u001b[0m\u001b[0;34m\u001b[0m\u001b[0;34m\u001b[0m\u001b[0m\n\u001b[1;32m     95\u001b[0m         \u001b[0mresult\u001b[0m \u001b[0;34m=\u001b[0m \u001b[0mself\u001b[0m\u001b[0;34m.\u001b[0m\u001b[0mpath\u001b[0m\u001b[0;34m.\u001b[0m\u001b[0minvoke\u001b[0m\u001b[0;34m(\u001b[0m\u001b[0mvalue\u001b[0m\u001b[0;34m,\u001b[0m \u001b[0mconfig\u001b[0m\u001b[0;34m)\u001b[0m\u001b[0;34m\u001b[0m\u001b[0;34m\u001b[0m\u001b[0m\n\u001b[0;32m---> 96\u001b[0;31m         \u001b[0;32mreturn\u001b[0m \u001b[0mself\u001b[0m\u001b[0;34m.\u001b[0m\u001b[0m_finish\u001b[0m\u001b[0;34m(\u001b[0m\u001b[0mwriter\u001b[0m\u001b[0;34m,\u001b[0m \u001b[0minput\u001b[0m\u001b[0;34m,\u001b[0m \u001b[0mresult\u001b[0m\u001b[0;34m,\u001b[0m \u001b[0mconfig\u001b[0m\u001b[0;34m)\u001b[0m\u001b[0;34m\u001b[0m\u001b[0;34m\u001b[0m\u001b[0m\n\u001b[0m\u001b[1;32m     97\u001b[0m \u001b[0;34m\u001b[0m\u001b[0m\n\u001b[1;32m     98\u001b[0m     async def _aroute(\n",
            "\u001b[0;32m/usr/local/lib/python3.10/dist-packages/langgraph/graph/graph.py\u001b[0m in \u001b[0;36m_finish\u001b[0;34m(self, writer, input, result, config)\u001b[0m\n\u001b[1;32m    129\u001b[0m             \u001b[0mresult\u001b[0m \u001b[0;34m=\u001b[0m \u001b[0;34m[\u001b[0m\u001b[0mresult\u001b[0m\u001b[0;34m]\u001b[0m\u001b[0;34m\u001b[0m\u001b[0;34m\u001b[0m\u001b[0m\n\u001b[1;32m    130\u001b[0m         \u001b[0;32mif\u001b[0m \u001b[0mself\u001b[0m\u001b[0;34m.\u001b[0m\u001b[0mends\u001b[0m\u001b[0;34m:\u001b[0m\u001b[0;34m\u001b[0m\u001b[0;34m\u001b[0m\u001b[0m\n\u001b[0;32m--> 131\u001b[0;31m             destinations: Sequence[Union[Send, str]] = [\n\u001b[0m\u001b[1;32m    132\u001b[0m                 \u001b[0mr\u001b[0m \u001b[0;32mif\u001b[0m \u001b[0misinstance\u001b[0m\u001b[0;34m(\u001b[0m\u001b[0mr\u001b[0m\u001b[0;34m,\u001b[0m \u001b[0mSend\u001b[0m\u001b[0;34m)\u001b[0m \u001b[0;32melse\u001b[0m \u001b[0mself\u001b[0m\u001b[0;34m.\u001b[0m\u001b[0mends\u001b[0m\u001b[0;34m[\u001b[0m\u001b[0mr\u001b[0m\u001b[0;34m]\u001b[0m \u001b[0;32mfor\u001b[0m \u001b[0mr\u001b[0m \u001b[0;32min\u001b[0m \u001b[0mresult\u001b[0m\u001b[0;34m\u001b[0m\u001b[0;34m\u001b[0m\u001b[0m\n\u001b[1;32m    133\u001b[0m             ]\n",
            "\u001b[0;32m/usr/local/lib/python3.10/dist-packages/langgraph/graph/graph.py\u001b[0m in \u001b[0;36m<listcomp>\u001b[0;34m(.0)\u001b[0m\n\u001b[1;32m    130\u001b[0m         \u001b[0;32mif\u001b[0m \u001b[0mself\u001b[0m\u001b[0;34m.\u001b[0m\u001b[0mends\u001b[0m\u001b[0;34m:\u001b[0m\u001b[0;34m\u001b[0m\u001b[0;34m\u001b[0m\u001b[0m\n\u001b[1;32m    131\u001b[0m             destinations: Sequence[Union[Send, str]] = [\n\u001b[0;32m--> 132\u001b[0;31m                 \u001b[0mr\u001b[0m \u001b[0;32mif\u001b[0m \u001b[0misinstance\u001b[0m\u001b[0;34m(\u001b[0m\u001b[0mr\u001b[0m\u001b[0;34m,\u001b[0m \u001b[0mSend\u001b[0m\u001b[0;34m)\u001b[0m \u001b[0;32melse\u001b[0m \u001b[0mself\u001b[0m\u001b[0;34m.\u001b[0m\u001b[0mends\u001b[0m\u001b[0;34m[\u001b[0m\u001b[0mr\u001b[0m\u001b[0;34m]\u001b[0m \u001b[0;32mfor\u001b[0m \u001b[0mr\u001b[0m \u001b[0;32min\u001b[0m \u001b[0mresult\u001b[0m\u001b[0;34m\u001b[0m\u001b[0;34m\u001b[0m\u001b[0m\n\u001b[0m\u001b[1;32m    133\u001b[0m             ]\n\u001b[1;32m    134\u001b[0m         \u001b[0;32melse\u001b[0m\u001b[0;34m:\u001b[0m\u001b[0;34m\u001b[0m\u001b[0;34m\u001b[0m\u001b[0m\n",
            "\u001b[0;31mKeyError\u001b[0m: '__end__'"
          ]
        }
      ]
    },
    {
      "cell_type": "code",
      "source": [
        "from langchain_core.messages import HumanMessage\n",
        "messages = [HumanMessage(content=\"how we can register a complaint my order_id is 111 and email is ali@gmail.com and complaint is due to open the box\")]\n",
        "messages = graph.invoke({\"messages\": messages})\n",
        "print(messages)\n",
        "for m in messages['messages']:\n",
        "    m.pretty_print()"
      ],
      "metadata": {
        "id": "0hbXlecYaKwJ",
        "outputId": "35fd37a0-d8a6-47b9-b682-8ca0c3902f1a",
        "colab": {
          "base_uri": "https://localhost:8080/"
        }
      },
      "execution_count": 220,
      "outputs": [
        {
          "output_type": "stream",
          "name": "stdout",
          "text": [
            "{'messages': [HumanMessage(content='how we can register a complaint my order_id is 111 and email is ali@gmail.com and complaint is due to open the box', additional_kwargs={}, response_metadata={}, id='f628a0a2-303b-4d7a-8c03-409166f1b7f6'), AIMessage(content='', additional_kwargs={'function_call': {'name': 'submit_complaint', 'arguments': '{\"order_id\": \"111\", \"email\": \"ali@gmail.com\", \"complaint\": \"due to open the box\"}'}}, response_metadata={'prompt_feedback': {'block_reason': 0, 'safety_ratings': []}, 'finish_reason': 'STOP', 'safety_ratings': []}, id='run-3723b0b0-671b-4c58-81f2-6350e60c3435-0', tool_calls=[{'name': 'submit_complaint', 'args': {'order_id': '111', 'email': 'ali@gmail.com', 'complaint': 'due to open the box'}, 'id': '68cddd3c-31fb-4f99-a136-4a79b8b2d693', 'type': 'tool_call'}], usage_metadata={'input_tokens': 220, 'output_tokens': 21, 'total_tokens': 241, 'input_token_details': {'cache_read': 0}}), ToolMessage(content='Complaint submitted successfully! Your complaint ID is COMP00001. We will contact you at ali@gmail.com for follow-up.', name='submit_complaint', id='a25b17c5-ef87-4ada-bf20-322b2574dc07', tool_call_id='68cddd3c-31fb-4f99-a136-4a79b8b2d693')]}\n",
            "================================\u001b[1m Human Message \u001b[0m=================================\n",
            "\n",
            "how we can register a complaint my order_id is 111 and email is ali@gmail.com and complaint is due to open the box\n",
            "==================================\u001b[1m Ai Message \u001b[0m==================================\n",
            "Tool Calls:\n",
            "  submit_complaint (68cddd3c-31fb-4f99-a136-4a79b8b2d693)\n",
            " Call ID: 68cddd3c-31fb-4f99-a136-4a79b8b2d693\n",
            "  Args:\n",
            "    order_id: 111\n",
            "    email: ali@gmail.com\n",
            "    complaint: due to open the box\n",
            "=================================\u001b[1m Tool Message \u001b[0m=================================\n",
            "Name: submit_complaint\n",
            "\n",
            "Complaint submitted successfully! Your complaint ID is COMP00001. We will contact you at ali@gmail.com for follow-up.\n"
          ]
        }
      ]
    },
    {
      "cell_type": "code",
      "source": [
        "from langchain_core.messages import HumanMessage\n",
        "messages = [HumanMessage(content=\"what is company shoes name\")]\n",
        "messages = graph.invoke({\"messages\": messages})\n",
        "print(messages)\n",
        "for m in messages['messages']:\n",
        "    m.pretty_print()\n",
        "print(messages)"
      ],
      "metadata": {
        "colab": {
          "base_uri": "https://localhost:8080/"
        },
        "id": "jgiMZUn0BVJR",
        "outputId": "50db11c6-4586-4784-d3f6-61573848bb02"
      },
      "execution_count": 222,
      "outputs": [
        {
          "output_type": "stream",
          "name": "stdout",
          "text": [
            "{'messages': [HumanMessage(content='what is company shoes name', additional_kwargs={}, response_metadata={}, id='69affcd3-c23c-4992-ac76-088a2b0d0ee0'), AIMessage(content=\"This question cannot be answered from the given context.  The available code only provides functions for checking order status and submitting complaints; there is no information about the company's name.\\n\", additional_kwargs={}, response_metadata={'prompt_feedback': {'block_reason': 0, 'safety_ratings': []}, 'finish_reason': 'STOP', 'safety_ratings': []}, id='run-e62a942f-e56e-4956-8286-9d6c7fcfbb02-0', usage_metadata={'input_tokens': 194, 'output_tokens': 37, 'total_tokens': 231, 'input_token_details': {'cache_read': 0}})]}\n",
            "================================\u001b[1m Human Message \u001b[0m=================================\n",
            "\n",
            "what is company shoes name\n",
            "==================================\u001b[1m Ai Message \u001b[0m==================================\n",
            "\n",
            "This question cannot be answered from the given context.  The available code only provides functions for checking order status and submitting complaints; there is no information about the company's name.\n",
            "{'messages': [HumanMessage(content='what is company shoes name', additional_kwargs={}, response_metadata={}, id='69affcd3-c23c-4992-ac76-088a2b0d0ee0'), AIMessage(content=\"This question cannot be answered from the given context.  The available code only provides functions for checking order status and submitting complaints; there is no information about the company's name.\\n\", additional_kwargs={}, response_metadata={'prompt_feedback': {'block_reason': 0, 'safety_ratings': []}, 'finish_reason': 'STOP', 'safety_ratings': []}, id='run-e62a942f-e56e-4956-8286-9d6c7fcfbb02-0', usage_metadata={'input_tokens': 194, 'output_tokens': 37, 'total_tokens': 231, 'input_token_details': {'cache_read': 0}})]}\n"
          ]
        }
      ]
    },
    {
      "cell_type": "code",
      "source": [
        "\n",
        "from langchain_core.messages import HumanMessage\n",
        "messages = [HumanMessage(content=\"how we can check my order status\")]\n",
        "messages = graph.invoke({\"messages\": messages})\n",
        "for m in messages['messages']:\n",
        "    m.pretty_print()"
      ],
      "metadata": {
        "colab": {
          "base_uri": "https://localhost:8080/"
        },
        "id": "i3ikcjWZCL8i",
        "outputId": "f3ec3e42-0cf9-438a-edf5-fe8aecc00d4a"
      },
      "execution_count": 223,
      "outputs": [
        {
          "output_type": "stream",
          "name": "stdout",
          "text": [
            "================================\u001b[1m Human Message \u001b[0m=================================\n",
            "\n",
            "how we can check my order status\n",
            "==================================\u001b[1m Ai Message \u001b[0m==================================\n",
            "\n",
            "Q: What should I do if my order is not confirmed?\n",
            "Ans: Check your email for confirmation or contact customer support with your order details.\n",
            "Q: How do I cancel an order?\n",
            "Ans: Go to \"My Orders,\" select the order, and click \"Cancel\" before it is shipped.\n",
            "Q: Can I place an order over the phone?\n",
            "Ans: Yes, contact customer support for assistance.\n",
            "Q: Can I make changes to an order after it has been placed?\n",
            "Ans: Changes are possible only before the order is shipped. Contact support for help.\n",
            "Q: How do I apply a discount code?\n",
            "Ans: Enter the code at checkout in the \"Promo Code\" field and click \"Apply.\"\n",
            "Q: Can I save items for later?\n",
            "Ans: Use the \"Wishlist\" feature to save items for future purchases.\n",
            "Q: Is there a minimum order value?\n",
            "Ans: Some promotions may require a minimum purchase amount. Check specific terms during\n",
            "checkout.\n",
            "Q: Can I schedule a delivery for a specific date?\n",
            "Ans: Yes, choose a preferred delivery date at checkout if the option is available.\n"
          ]
        }
      ]
    },
    {
      "cell_type": "code",
      "source": [
        "from langchain_core.messages import HumanMessage\n",
        "messages = [HumanMessage(content=\"What is  return policy?\")]\n",
        "messages = graph.invoke({\"messages\":messages})\n",
        "print(messages)\n",
        "for m in messages['messages']:\n",
        "    m.pretty_print()"
      ],
      "metadata": {
        "id": "5OgQD831J0dK",
        "outputId": "81b35ce1-8d58-4397-84fd-20e6a59f5862",
        "colab": {
          "base_uri": "https://localhost:8080/"
        }
      },
      "execution_count": 224,
      "outputs": [
        {
          "output_type": "stream",
          "name": "stdout",
          "text": [
            "{'messages': [HumanMessage(content='What is  return policy?', additional_kwargs={}, response_metadata={}, id='88e7dfbb-fdd9-4ccf-ad55-4d67acfd2164'), AIMessage(content=\"Q: What happens if I'm not home during delivery?\\nAns: The carrier may attempt redelivery or leave the package at a secure location.\\nQ: Can I change my shipping address after placing an order?\\nAns: Address changes are possible only before the order is shipped.\\nQ: What carriers do you use for shipping?\\nAns: We partner with leading carriers like FedEx, UPS, and DHL.\\nQ: Can I choose my preferred carrier?\\nAns: Carrier selection may not be available, but you can contact support for assistance.\\nQ: What do I do if my package is lost?\\nAns: Contact customer support to initiate an investigation and resolve the issue.\\nQ: What is your return policy?\\nAns: We offer a 30-day return policy for unused and undamaged items in their original packaging.\\nQ: Can I exchange an item instead of returning it?\\nAns: Yes, exchanges are possible for items of equal or lesser value, subject to availability.\\nQ: How long do I have to return an item?\\nAns: You have 30 days from the date of delivery to initiate a return.\", additional_kwargs={}, response_metadata={}, id='b6e91a2f-ca31-4673-ad84-685a6660e7c1')]}\n",
            "================================\u001b[1m Human Message \u001b[0m=================================\n",
            "\n",
            "What is  return policy?\n",
            "==================================\u001b[1m Ai Message \u001b[0m==================================\n",
            "\n",
            "Q: What happens if I'm not home during delivery?\n",
            "Ans: The carrier may attempt redelivery or leave the package at a secure location.\n",
            "Q: Can I change my shipping address after placing an order?\n",
            "Ans: Address changes are possible only before the order is shipped.\n",
            "Q: What carriers do you use for shipping?\n",
            "Ans: We partner with leading carriers like FedEx, UPS, and DHL.\n",
            "Q: Can I choose my preferred carrier?\n",
            "Ans: Carrier selection may not be available, but you can contact support for assistance.\n",
            "Q: What do I do if my package is lost?\n",
            "Ans: Contact customer support to initiate an investigation and resolve the issue.\n",
            "Q: What is your return policy?\n",
            "Ans: We offer a 30-day return policy for unused and undamaged items in their original packaging.\n",
            "Q: Can I exchange an item instead of returning it?\n",
            "Ans: Yes, exchanges are possible for items of equal or lesser value, subject to availability.\n",
            "Q: How long do I have to return an item?\n",
            "Ans: You have 30 days from the date of delivery to initiate a return.\n"
          ]
        }
      ]
    },
    {
      "cell_type": "code",
      "source": [
        "from langchain_core.messages import HumanMessage\n",
        "messages = [HumanMessage(content=\" What do I do if my package is lost?\")]\n",
        "messages = graph.invoke({\"messages\": messages})\n",
        "print(messages)\n",
        "for m in messages['messages']:\n",
        "    m.pretty_print()"
      ],
      "metadata": {
        "id": "bT0vSoZuLF8F",
        "outputId": "16c60891-c1b1-4d21-f466-916f206732d4",
        "colab": {
          "base_uri": "https://localhost:8080/"
        }
      },
      "execution_count": 225,
      "outputs": [
        {
          "output_type": "stream",
          "name": "stdout",
          "text": [
            "{'messages': [HumanMessage(content=' What do I do if my package is lost?', additional_kwargs={}, response_metadata={}, id='f41013f5-4512-43f2-af01-0c5459bda272'), AIMessage(content=\"Q: What happens if I'm not home during delivery?\\nAns: The carrier may attempt redelivery or leave the package at a secure location.\\nQ: Can I change my shipping address after placing an order?\\nAns: Address changes are possible only before the order is shipped.\\nQ: What carriers do you use for shipping?\\nAns: We partner with leading carriers like FedEx, UPS, and DHL.\\nQ: Can I choose my preferred carrier?\\nAns: Carrier selection may not be available, but you can contact support for assistance.\\nQ: What do I do if my package is lost?\\nAns: Contact customer support to initiate an investigation and resolve the issue.\\nQ: What is your return policy?\\nAns: We offer a 30-day return policy for unused and undamaged items in their original packaging.\\nQ: Can I exchange an item instead of returning it?\\nAns: Yes, exchanges are possible for items of equal or lesser value, subject to availability.\\nQ: How long do I have to return an item?\\nAns: You have 30 days from the date of delivery to initiate a return.\", additional_kwargs={}, response_metadata={}, id='262dbc90-4965-418d-9e06-9c7a7cf09abe')]}\n",
            "================================\u001b[1m Human Message \u001b[0m=================================\n",
            "\n",
            " What do I do if my package is lost?\n",
            "==================================\u001b[1m Ai Message \u001b[0m==================================\n",
            "\n",
            "Q: What happens if I'm not home during delivery?\n",
            "Ans: The carrier may attempt redelivery or leave the package at a secure location.\n",
            "Q: Can I change my shipping address after placing an order?\n",
            "Ans: Address changes are possible only before the order is shipped.\n",
            "Q: What carriers do you use for shipping?\n",
            "Ans: We partner with leading carriers like FedEx, UPS, and DHL.\n",
            "Q: Can I choose my preferred carrier?\n",
            "Ans: Carrier selection may not be available, but you can contact support for assistance.\n",
            "Q: What do I do if my package is lost?\n",
            "Ans: Contact customer support to initiate an investigation and resolve the issue.\n",
            "Q: What is your return policy?\n",
            "Ans: We offer a 30-day return policy for unused and undamaged items in their original packaging.\n",
            "Q: Can I exchange an item instead of returning it?\n",
            "Ans: Yes, exchanges are possible for items of equal or lesser value, subject to availability.\n",
            "Q: How long do I have to return an item?\n",
            "Ans: You have 30 days from the date of delivery to initiate a return.\n"
          ]
        }
      ]
    }
  ]
}