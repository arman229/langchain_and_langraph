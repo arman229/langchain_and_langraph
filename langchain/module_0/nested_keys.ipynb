{
 "cells": [
  {
   "cell_type": "code",
   "execution_count": null,
   "metadata": {},
   "outputs": [],
   "source": [
    "from langgraph.graph import StateGraph, START, END\n",
    "from typing_extensions import TypedDict\n",
    "from IPython.display import display, Image \n",
    "\n",
    "class NestedState(TypedDict):\n",
    "    name: str \n",
    "    father_name: str\n",
    "    full_name: str\n",
    "\n",
    "class TestState(TypedDict):\n",
    "    nested_key: NestedState\n",
    "\n",
    "def test_node(state: TestState): \n",
    "    current_value = state['nested_key']\n",
    "    name = current_value.get('name','')\n",
    "    father_name = current_value.get('father_name', '')   \n",
    "    current_value['full_name'] = f\"{name}, {father_name}\".strip() \n",
    "    \n",
    "    return {\"nested_key\": current_value}   \n",
    "\n",
    "workflow = StateGraph(TestState)\n",
    "workflow.add_node(\"test_node\", test_node)    \n",
    "workflow.add_edge(START, \"test_node\")\n",
    "workflow.add_edge(\"test_node\", END)\n",
    "app = workflow.compile()\n",
    "\n",
    "display(Image(app.get_graph().draw_mermaid_png()))\n",
    "  \n",
    "response2 = app.invoke({\"nested_key\": {\"name\": \"Arman\"}})\n",
    "print(response2)\n"
   ]
  }
 ],
 "metadata": {
  "language_info": {
   "name": "python"
  }
 },
 "nbformat": 4,
 "nbformat_minor": 2
}
