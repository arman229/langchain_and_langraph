{
 "cells": [
  {
   "cell_type": "markdown",
   "metadata": {},
   "source": [
    "# Chatbot with Profile Schema \n",
    "\n",
    "## Review\n",
    "\n",
    "We introduced the [LangGraph Memory Store](https://langchain-ai.github.io/langgraph/reference/store/#langgraph.store.base.BaseStore) as a way to save and retrieve long-term memories.\n",
    "\n",
    "We built a simple chatbot that uses both `short-term (within-thread)` and `long-term (across-thread)` memory.\n",
    "\n",
    "It saved long-term [semantic memory](https://langchain-ai.github.io/langgraph/concepts/memory/#semantic-memory) (facts about the user) [\"in the hot path\"](https://langchain-ai.github.io/langgraph/concepts/memory/#writing-memories), as the user is chatting with it.\n",
    "\n",
    "## Goals\n",
    "\n",
    "Our chatbot saved memories as a string. In practice, we often want memories to have a structure. \n",
    " \n",
    "For example, memories can be a [single, continuously updated schema]((https://langchain-ai.github.io/langgraph/concepts/memory/#profile)). \n",
    " \n",
    "In our case, we want this to be a single user profile.\n",
    " \n",
    "We'll extend our chatbot to save semantic memories to a single [user profile](https://langchain-ai.github.io/langgraph/concepts/memory/#profile). \n",
    "\n",
    "We'll also introduce a library, [Trustcall](https://github.com/hinthornw/trustcall), to update this schema with new information. "
   ]
  },
  {
   "cell_type": "code",
   "execution_count": null,
   "metadata": {},
   "outputs": [],
   "source": [
    " \n",
    "%%capture --no-stderr\n",
    "%pip install -U langchain_google_genai langgraph langchain_core"
   ]
  },
  {
   "cell_type": "markdown",
   "metadata": {},
   "source": [
    "## Defining a user profile schema\n",
    "\n",
    "Python has many different types for [structured data](https://python.langchain.com/docs/concepts/structured_outputs/#schema-definition), such as TypedDict, Dictionaries, JSON, and [Pydantic](https://docs.pydantic.dev/latest/). \n",
    "\n",
    "Let's start by using TypedDict to define a user profile schema."
   ]
  },
  {
   "cell_type": "code",
   "execution_count": 1,
   "metadata": {},
   "outputs": [],
   "source": [
    "from typing import TypedDict, List\n",
    "from pydantic import BaseModel, Field\n",
    "class UserProfile(BaseModel): \n",
    "    user_name: str \n",
    "    interests: List[str]  "
   ]
  },
  {
   "cell_type": "code",
   "execution_count": 2,
   "metadata": {},
   "outputs": [
    {
     "data": {
      "text/plain": [
       "{'user_name': 'arman', 'interests': ['learning', 'technology', 'programming']}"
      ]
     },
     "execution_count": 2,
     "metadata": {},
     "output_type": "execute_result"
    }
   ],
   "source": [
    " \n",
    "user_profile: UserProfile = {\n",
    "    \"user_name\": \"arman\",\n",
    "    \"interests\": [\"learning\", \"technology\", \"programming\"]\n",
    "}\n",
    "user_profile"
   ]
  },
  {
   "cell_type": "markdown",
   "metadata": {},
   "source": [
    "We use the [put](https://langchain-ai.github.io/langgraph/reference/store/#langgraph.store.base.BaseStore.put) method to save the TypedDict to the store."
   ]
  },
  {
   "cell_type": "code",
   "execution_count": 5,
   "metadata": {},
   "outputs": [],
   "source": [
    "import uuid\n",
    "from langgraph.store.memory import InMemoryStore\n",
    "in_memory_store = InMemoryStore()\n",
    "user_id = \"1\"\n",
    "namespace_for_memory = (user_id, \"memory\")\n",
    "key = \"user_profile\"\n",
    "value = user_profile\n",
    "in_memory_store.put(namespace_for_memory, key, value)"
   ]
  },
  {
   "cell_type": "markdown",
   "metadata": {},
   "source": [
    "We use [search](https://langchain-ai.github.io/langgraph/reference/store/#langgraph.store.base.BaseStore.search) to retrieve objects from the store by namespace."
   ]
  },
  {
   "cell_type": "code",
   "execution_count": 6,
   "metadata": {},
   "outputs": [
    {
     "name": "stdout",
     "output_type": "stream",
     "text": [
      "[Item(namespace=['1', 'memory'], key='user_profile', value={'user_name': 'arman', 'interests': ['learning', 'technology', 'programming']}, created_at='2025-02-17T13:49:50.129490+00:00', updated_at='2025-02-17T13:49:50.129490+00:00', score=None)]\n"
     ]
    }
   ],
   "source": [
    "print(in_memory_store.search(namespace_for_memory))"
   ]
  },
  {
   "cell_type": "code",
   "execution_count": 7,
   "metadata": {},
   "outputs": [
    {
     "name": "stdout",
     "output_type": "stream",
     "text": [
      "{'namespace': ['1', 'memory'], 'key': 'user_profile', 'value': {'user_name': 'arman', 'interests': ['learning', 'technology', 'programming']}, 'created_at': '2025-02-17T13:49:50.129490+00:00', 'updated_at': '2025-02-17T13:49:50.129490+00:00', 'score': None}\n"
     ]
    }
   ],
   "source": [
    "for m in in_memory_store.search(namespace_for_memory):\n",
    "    print(m.dict())"
   ]
  },
  {
   "cell_type": "markdown",
   "metadata": {},
   "source": [
    "We can also use [get](https://langchain-ai.github.io/langgraph/reference/store/#langgraph.store.base.BaseStore.get) to retrieve a specific object by namespace and key."
   ]
  },
  {
   "cell_type": "code",
   "execution_count": 8,
   "metadata": {},
   "outputs": [
    {
     "data": {
      "text/plain": [
       "{'user_name': 'arman', 'interests': ['learning', 'technology', 'programming']}"
      ]
     },
     "execution_count": 8,
     "metadata": {},
     "output_type": "execute_result"
    }
   ],
   "source": [
    "profile = in_memory_store.get(namespace_for_memory, \"user_profile\")\n",
    "profile.value"
   ]
  },
  {
   "cell_type": "markdown",
   "metadata": {},
   "source": [
    "## Chatbot with profile schema\n",
    "\n",
    "Now we know how to specify a schema for the memories and save it to the store.\n",
    "\n",
    "Now, how do we actually *create* memories with this particular schema?\n",
    "\n",
    "In our chatbot, we [want to create memories from a user chat](https://langchain-ai.github.io/langgraph/concepts/memory/#profile). \n",
    "\n",
    "This is where the concept of [structured outputs](https://python.langchain.com/docs/concepts/structured_outputs/#recommended-usage) is useful. \n",
    "\n",
    "LangChain's [chat model](https://python.langchain.com/docs/concepts/chat_models/) interface has a [`with_structured_output`](https://python.langchain.com/docs/concepts/structured_outputs/#recommended-usage) method to enforce structured output.\n",
    "\n",
    "This is useful when we want to enforce that the output conforms to a schema, and it parses the output for us."
   ]
  },
  {
   "cell_type": "markdown",
   "metadata": {},
   "source": [
    "Let's pass the `UserProfile` schema we created to the `with_structured_output` method.\n",
    "\n",
    "We can then invoke the chat model with a list of [messages](https://python.langchain.com/docs/concepts/messages/) and get a structured output that conforms to our schema."
   ]
  },
  {
   "cell_type": "code",
   "execution_count": 10,
   "metadata": {},
   "outputs": [
    {
     "name": "stdout",
     "output_type": "stream",
     "text": [
      "API key loaded from .env file.\n"
     ]
    }
   ],
   "source": [
    "from dotenv import load_dotenv\n",
    "import os\n",
    "\n",
    "load_dotenv()\n",
    "\n",
    "GEMINI_API_KEY = os.getenv(\"GEMINI_API_KEY\")\n",
    "if not GEMINI_API_KEY:\n",
    "    raise ValueError(\"GEMINI_API_KEY is not set in the .env file.\")\n",
    "\n",
    "print(\"API key loaded from .env file.\")"
   ]
  },
  {
   "cell_type": "code",
   "execution_count": 11,
   "metadata": {},
   "outputs": [
    {
     "data": {
      "text/plain": [
       "UserProfile(user_name='Lance', interests=['bike'])"
      ]
     },
     "execution_count": 11,
     "metadata": {},
     "output_type": "execute_result"
    }
   ],
   "source": [
    "from langchain_google_genai import ChatGoogleGenerativeAI\n",
    "from pydantic import BaseModel, Field \n",
    "\n",
    "class UserProfile(BaseModel): \n",
    "    user_name: str \n",
    "    interests: List[str]  \n",
    "    \n",
    "from langchain_core.messages import HumanMessage  \n",
    "model = ChatGoogleGenerativeAI(model='gemini-1.5-flash',api_key=GEMINI_API_KEY) \n",
    "model_with_structure = model.with_structured_output(UserProfile) \n",
    "structured_output = model_with_structure.invoke([HumanMessage(\"My name is Lance, I like to bike.\")])\n",
    "structured_output\n",
    " "
   ]
  },
  {
   "cell_type": "markdown",
   "metadata": {},
   "source": [
    "Now, let's use this with our chatbot.\n",
    "\n",
    "This only requires minor changes to the `write_memory` function. \n",
    "\n",
    "We use `model_with_structure`, as defined above, to produce a profile that matches our schema. "
   ]
  },
  {
   "cell_type": "code",
   "execution_count": 12,
   "metadata": {},
   "outputs": [
    {
     "data": {
      "image/png": "[encoded data removed]",
      "text/plain": [
       "<IPython.core.display.Image object>"
      ]
     },
     "metadata": {},
     "output_type": "display_data"
    }
   ],
   "source": [
    "from IPython.display import Image, display\n",
    "from langgraph.checkpoint.memory import MemorySaver\n",
    "from langgraph.graph import StateGraph, MessagesState, START, END\n",
    "from langgraph.store.base import BaseStore\n",
    "from langchain_core.messages import HumanMessage, SystemMessage\n",
    "from langchain_core.runnables.config import RunnableConfig\n",
    "from pydantic import BaseModel, Field \n",
    "\n",
    "class UserProfile(BaseModel): \n",
    "    user_name: str \n",
    "    interests: List[str]  \n",
    "\n",
    "MODEL_SYSTEM_MESSAGE = \"\"\"You are a helpful assistant with memory that provides information about the user.\n",
    "If you have memory for this user, use it to personalize your responses.\n",
    "Here is the memory (it may be empty): {memory}\"\"\"\n",
    "def call_model(state:MessagesState,config:RunnableConfig,store:BaseStore):\n",
    "  user_id = config[\"configurable\"][\"user_id\"]\n",
    "  namespace = (\"memory\", user_id) \n",
    "  existing_memory = store.get(namespace, 'user_memory') \n",
    "  if existing_memory and existing_memory.value:\n",
    "     memory_dict = existing_memory.value\n",
    "     formatted_memory = (\n",
    "            f\"Name: {memory_dict.user_name if memory_dict.user_name else 'Unknown'}\\n\"   \n",
    "            f\"Interests: {', '.join(memory_dict.interests)}\" \n",
    "        )\n",
    "  else:\n",
    "    formatted_memory = None \n",
    "  sys_msg = MODEL_SYSTEM_MESSAGE.format(memory=formatted_memory)\n",
    " \n",
    "  messages = [SystemMessage(content=sys_msg)] + state[\"messages\"]\n",
    "\n",
    "  resp = model.invoke(messages)\n",
    "  return {\"messages\":resp}\n",
    "\n",
    "\n",
    "\n",
    "CREATE_MEMORY_INSTRUCTION = \"\"\"\"You are collecting information about\n",
    "the user to personalize your responses.\n",
    "\n",
    "CURRENT USER INFORMATION:\n",
    "{memory}\n",
    "\n",
    "INSTRUCTIONS:\n",
    "1. Review the chat history below carefully\n",
    "2. Identify new information about the user, such as:\n",
    "   - Personal details (name, location)\n",
    "   - Preferences (likes, dislikes)\n",
    "   - Interests and hobbies\n",
    "   - Past experiences\n",
    "   - Goals or future plans\n",
    "3. Merge any new information with existing memory\n",
    "4. Format the memory as a clear, bulleted list\n",
    "5. If new information conflicts with existing memory, keep the most recent version\n",
    "\n",
    "Remember: Only include factual information directly stated by the user. Do not make assumptions or inferences.\n",
    "\n",
    "Based on the chat history below, please update the user information:\"\"\"\n",
    "def call_summary(state:MessagesState,config:RunnableConfig,store:BaseStore):\n",
    "  user_id = config[\"configurable\"][\"user_id\"]\n",
    "  namespace = (\"memory\", user_id) \n",
    "  existing_memory = store.get(namespace, 'user_memory') \n",
    "  if existing_memory and existing_memory.value:\n",
    "     memory_dict = existing_memory.value\n",
    "     formatted_memory = (\n",
    "            f\"Name: {memory_dict.user_name if memory_dict.user_name else 'Unknown'}\\n\"  \n",
    "            f\"Interests: {', '.join(memory_dict.interests)}\"  \n",
    "        )\n",
    "  else:\n",
    "    formatted_memory = None \n",
    "  \n",
    "  sys_msg = CREATE_MEMORY_INSTRUCTION.format(memory=formatted_memory)\n",
    "  messages = [SystemMessage(content=sys_msg) ]+ state[\"messages\"]\n",
    "  model_with_structure = model.with_structured_output(UserProfile)\n",
    "  resp = model_with_structure.invoke(messages)  \n",
    "  store.put(namespace, 'user_memory', resp)\n",
    "\n",
    "\n",
    "\n",
    "graph = StateGraph(MessagesState)\n",
    "graph.add_node('call_model',call_model)\n",
    "graph.add_node('call_summary',call_summary)\n",
    "\n",
    "graph.add_edge(START,'call_model') \n",
    "graph.add_edge('call_model','call_summary')\n",
    "graph.add_edge('call_summary',END)\n",
    "\n",
    "short_term_memory = MemorySaver()\n",
    "long_term_memory = InMemoryStore()\n",
    "compiled_graph = graph.compile(checkpointer=short_term_memory,store=long_term_memory) \n",
    "\n",
    "display(Image(compiled_graph.get_graph().draw_mermaid_png()))\n"
   ]
  },
  {
   "cell_type": "code",
   "execution_count": 13,
   "metadata": {},
   "outputs": [
    {
     "name": "stdout",
     "output_type": "stream",
     "text": [
      "================================\u001b[1m Human Message \u001b[0m=================================\n",
      "\n",
      "Hi, my name is Arman and i like programming and solve math puzzles\n",
      "==================================\u001b[1m Ai Message \u001b[0m==================================\n",
      "\n",
      "Hello Arman!  It's nice to meet you.  I've noted that you like programming and solving math puzzles.  Is there anything specific you'd like to talk about today, perhaps a particular programming language you enjoy, or a type of math puzzle you find challenging/rewarding?\n"
     ]
    }
   ],
   "source": [
    "config = {\"configurable\": {\"thread_id\": \"1\", \"user_id\": \"1\"}} \n",
    "input_messages =  {\"messages\": [HumanMessage(content=\"Hi, my name is Arman and i like programming and solve math puzzles\")]}\n",
    "for chunk in compiled_graph.stream(input_messages, config, stream_mode=\"values\"):\n",
    "    chunk[\"messages\"][-1].pretty_print()\n"
   ]
  },
  {
   "cell_type": "code",
   "execution_count": 14,
   "metadata": {},
   "outputs": [
    {
     "name": "stdout",
     "output_type": "stream",
     "text": [
      "================================\u001b[1m Human Message \u001b[0m=================================\n",
      "\n",
      "Hi, my name is Arman and i like programming and solve math puzzles\n",
      "==================================\u001b[1m Ai Message \u001b[0m==================================\n",
      "\n",
      "Hello Arman!  It's nice to meet you.  I've noted that you like programming and solving math puzzles.  Is there anything specific you'd like to talk about today, perhaps a particular programming language you enjoy, or a type of math puzzle you find challenging/rewarding?\n"
     ]
    }
   ],
   "source": [
    "thread = {\"configurable\": {\"thread_id\": \"1\"}}\n",
    "state = compiled_graph.get_state(thread).values\n",
    "for m in state[\"messages\"]:\n",
    "    m.pretty_print()"
   ]
  },
  {
   "cell_type": "markdown",
   "metadata": {},
   "source": [
    "Let's check the memory in the store. \n",
    "\n",
    "We can see that the memory is a dictionary that matches our schema."
   ]
  },
  {
   "cell_type": "code",
   "execution_count": 15,
   "metadata": {},
   "outputs": [
    {
     "name": "stdout",
     "output_type": "stream",
     "text": [
      "user_name='Arman' interests=['programming', 'math puzzles']\n"
     ]
    }
   ],
   "source": [
    "user_id = \"1\"\n",
    "namespace = (\"memory\", user_id)\n",
    "get_memory = long_term_memory.get(namespace,'user_memory')\n",
    "if get_memory is not None:\n",
    "    print(get_memory.value)   \n",
    "else:\n",
    "    print(\"No memory found for this user.\")"
   ]
  },
  {
   "cell_type": "code",
   "execution_count": 16,
   "metadata": {},
   "outputs": [
    {
     "name": "stdout",
     "output_type": "stream",
     "text": [
      "================================\u001b[1m Human Message \u001b[0m=================================\n",
      "\n",
      "Hi! What do you know about me?\n",
      "==================================\u001b[1m Ai Message \u001b[0m==================================\n",
      "\n",
      "Hi!  I know your name is Arman, and you're interested in programming and solving math puzzles.  Is there anything else you'd like to share?\n"
     ]
    }
   ],
   "source": [
    "config = {\"configurable\": {\"thread_id\": \"1\", \"user_id\": \"1\"}} \n",
    "input_messages = [HumanMessage(content=\"Hi! What do you know about me?\")] \n",
    "for chunk in compiled_graph.stream({\"messages\": input_messages}, config, stream_mode=\"values\"):\n",
    "    chunk[\"messages\"][-1].pretty_print()"
   ]
  },
  {
   "cell_type": "code",
   "execution_count": 17,
   "metadata": {},
   "outputs": [
    {
     "name": "stdout",
     "output_type": "stream",
     "text": [
      "================================\u001b[1m Human Message \u001b[0m=================================\n",
      "\n",
      "Hi! What do you know about me?\n",
      "==================================\u001b[1m Ai Message \u001b[0m==================================\n",
      "\n",
      "Hi Arman!  I know that you're interested in programming and math puzzles.  Is there anything else I should know about you?\n"
     ]
    }
   ],
   "source": [
    "config = {\"configurable\": {\"thread_id\": \"2\", \"user_id\": \"1\"}} \n",
    "input_messages = [HumanMessage(content=\"Hi! What do you know about me?\")] \n",
    "for chunk in compiled_graph.stream({\"messages\": input_messages}, config, stream_mode=\"values\"):\n",
    "    chunk[\"messages\"][-1].pretty_print()"
   ]
  },
  {
   "cell_type": "markdown",
   "metadata": {},
   "source": [
    "## When can this fail?\n",
    "\n",
    "[`with_structured_output`](https://python.langchain.com/docs/concepts/structured_outputs/#recommended-usage) is very useful, but what happens if we're working with a more complex schema? \n",
    "\n",
    "[Here's](https://github.com/hinthornw/trustcall?tab=readme-ov-file#complex-schema) an example of a more complex schema, which we'll test below. \n",
    "\n",
    "This is a [Pydantic](https://docs.pydantic.dev/latest/) model that describes a user's preferences for communication and trust fall."
   ]
  },
  {
   "cell_type": "code",
   "execution_count": 18,
   "metadata": {},
   "outputs": [],
   "source": [
    "from typing import List, Optional\n",
    "\n",
    "class OutputFormat(BaseModel):\n",
    "    preference: str\n",
    "    sentence_preference_revealed: str\n",
    "\n",
    "class TelegramPreferences(BaseModel):\n",
    "    preferred_encoding: Optional[List[OutputFormat]] = None\n",
    "    favorite_telegram_operators: Optional[List[OutputFormat]] = None\n",
    "    preferred_telegram_paper: Optional[List[OutputFormat]] = None\n",
    "\n",
    "class MorseCode(BaseModel):\n",
    "    preferred_key_type: Optional[List[OutputFormat]] = None\n",
    "    favorite_morse_abbreviations: Optional[List[OutputFormat]] = None\n",
    "\n",
    "class Semaphore(BaseModel):\n",
    "    preferred_flag_color: Optional[List[OutputFormat]] = None\n",
    "    semaphore_skill_level: Optional[List[OutputFormat]] = None\n",
    "\n",
    "class TrustFallPreferences(BaseModel):\n",
    "    preferred_fall_height: Optional[List[OutputFormat]] = None\n",
    "    trust_level: Optional[List[OutputFormat]] = None\n",
    "    preferred_catching_technique: Optional[List[OutputFormat]] = None\n",
    "\n",
    "class CommunicationPreferences(BaseModel):\n",
    "    telegram: TelegramPreferences\n",
    "    morse_code: MorseCode\n",
    "    semaphore: Semaphore\n",
    "\n",
    "class UserPreferences(BaseModel):\n",
    "    communication_preferences: CommunicationPreferences\n",
    "    trust_fall_preferences: TrustFallPreferences\n",
    "\n",
    "class TelegramAndTrustFallPreferences(BaseModel):\n",
    "    pertinent_user_preferences: UserPreferences"
   ]
  },
  {
   "cell_type": "markdown",
   "metadata": {},
   "source": [
    "Now, let's try extraction of this schema using the `with_structured_output` method."
   ]
  },
  {
   "cell_type": "code",
   "execution_count": null,
   "metadata": {},
   "outputs": [],
   "source": [
    "from pydantic import ValidationError\n",
    "\n",
    "# Bind schema to model\n",
    "model_with_structure = model.with_structured_output(TelegramAndTrustFallPreferences)\n",
    "\n",
    "# Conversation\n",
    "conversation = \"\"\"Operator: How may I assist with your telegram, sir?\n",
    "Customer: I need to send a message about our trust fall exercise.\n",
    "Operator: Certainly. Morse code or standard encoding?\n",
    "Customer: Morse, please. I love using a straight key.\n",
    "Operator: Excellent. What's your message?\n",
    "Customer: Tell him I'm ready for a higher fall, and I prefer the diamond formation for catching.\n",
    "Operator: Done. Shall I use our \"Daredevil\" paper for this daring message?\n",
    "Customer: Perfect! Send it by your fastest carrier pigeon.\n",
    "Operator: It'll be there within the hour, sir.\"\"\"\n",
    "\n",
    "# Invoke the model\n",
    "try:\n",
    "    model_with_structure.invoke(f\"\"\"Extract the preferences from the following conversation:\n",
    "    <convo>\n",
    "    {conversation}\n",
    "    </convo>\"\"\")\n",
    "except ValidationError as e:\n",
    "    print(e)"
   ]
  },
  {
   "cell_type": "code",
   "execution_count": null,
   "metadata": {},
   "outputs": [],
   "source": [
    "!pip install trustcall"
   ]
  },
  {
   "cell_type": "markdown",
   "metadata": {},
   "source": [
    "## Trustcall for creating and updating profile schemas\n",
    "\n",
    "As we can see, working with schemas can be tricky.\n",
    "\n",
    "Complex schemas can be difficult to extract. \n",
    "\n",
    "In addition, updating even simple schemas can pose challenges.\n",
    "\n",
    "Consider our above chatbot. \n",
    "\n",
    "We regenerated the profile schema *from scratch* each time we chose to save a new memory.\n",
    "\n",
    "This is inefficient, potentially wasting model tokens if the schema contains a lot of information to re-generate each time.\n",
    "\n",
    "Worse, we may loose information when regenerating the profile from scratch.\n",
    "\n",
    "Addressing these problems is the motivation for [TrustCall](https://github.com/hinthornw/trustcall)!\n",
    "\n",
    "This is an open-source library for updating JSON schemas developed by one [Will Fu-Hinthorn](https://github.com/hinthornw) on the LangChain team.\n",
    "\n",
    "It's motivated by exactly these challenges while working on memory.\n",
    "\n",
    "Let's first show simple usage of extraction with TrustCall on this list of [messages](https://python.langchain.com/docs/concepts/messages/).\n"
   ]
  },
  {
   "cell_type": "markdown",
   "metadata": {},
   "source": [
    "We use `create_extractor`, passing in the model as well as our schema as a [tool](https://python.langchain.com/docs/concepts/tools/).\n",
    "\n",
    "With TrustCall, can supply supply the schema in various ways. \n",
    "\n",
    "For example, we can pass a JSON object / Python dictionary or Pydantic model.\n",
    "\n",
    "Under the hood, TrustCall uses [tool calling](https://python.langchain.com/docs/concepts/tool_calling/) to produce [structured output](https://python.langchain.com/docs/concepts/structured_outputs/) from an input list of [messages](https://python.langchain.com/docs/concepts/messages/).\n",
    "\n",
    "To force Trustcall to produce [structured output](https://python.langchain.com/docs/concepts/structured_outputs/), we can include the schema name in the `tool_choice` argument.\n",
    "\n",
    "We can invoke the extractor with  the above conversation."
   ]
  },
  {
   "cell_type": "code",
   "execution_count": 20,
   "metadata": {},
   "outputs": [
    {
     "name": "stderr",
     "output_type": "stream",
     "text": [
      "Key 'title' is not supported in schema, ignoring\n"
     ]
    },
    {
     "name": "stdout",
     "output_type": "stream",
     "text": [
      "{'messages': [AIMessage(content='', additional_kwargs={'function_call': {'name': 'UserProfile', 'arguments': '{\"interests\": [\"biking\", \"San Francisco\"], \"user_name\": \"Lance\"}'}}, response_metadata={'prompt_feedback': {'block_reason': 0, 'safety_ratings': []}, 'finish_reason': 'STOP', 'safety_ratings': []}, id='run-e2999f58-a236-4ab6-9427-781b9e9ac857-0', tool_calls=[{'name': 'UserProfile', 'args': {'interests': ['biking', 'San Francisco'], 'user_name': 'Lance'}, 'id': '264a6047-0b3e-4356-b7af-d15deef47297', 'type': 'tool_call'}], usage_metadata={'input_tokens': 65, 'output_tokens': 10, 'total_tokens': 75, 'input_token_details': {'cache_read': 0}})], 'responses': [UserProfile(user_name='Lance', interests=['biking', 'San Francisco'])], 'response_metadata': [{'id': '264a6047-0b3e-4356-b7af-d15deef47297'}], 'attempts': 1}\n"
     ]
    }
   ],
   "source": [
    "from langchain_core.messages import HumanMessage, SystemMessage,AIMessage\n",
    "from trustcall import create_extractor\n",
    "\n",
    "conversation = [HumanMessage(content=\"Hi, I'm Lance.\"), \n",
    "                AIMessage(content=\"Nice to meet you, Lance.\"), \n",
    "                HumanMessage(content=\"I really like biking around San Francisco.\")]\n",
    "\n",
    "class UserProfile(BaseModel):\n",
    "    \"\"\"User profile schema with typed fields\"\"\"\n",
    "    user_name: str = Field(description=\"The user's preferred name\")\n",
    "    interests: List[str] = Field(description=\"A list of the user's interests\")  \n",
    "\n",
    "trustcall_extractor = create_extractor(\n",
    "    model,\n",
    "    tools=[UserProfile],\n",
    "    tool_choice=\"UserProfile\"\n",
    ")\n",
    " \n",
    "system_msg = \"Extract the user profile from the following conversation\" \n",
    "result = trustcall_extractor.invoke({\"messages\": [SystemMessage(content=system_msg)]+conversation})  \n",
    "print(result)               \n"
   ]
  },
  {
   "cell_type": "markdown",
   "metadata": {},
   "source": [
    "When we invoke the extractor, we get a few things:\n",
    "\n",
    "* `messages`: The list of `AIMessages` that contain the tool calls. \n",
    "* `responses`: The resulting parsed tool calls that match our schema.\n",
    "* `response_metadata`: Applicable if updating existing tool calls. It says which of the responses correspond to which of the existing objects.\n"
   ]
  },
  {
   "cell_type": "code",
   "execution_count": 21,
   "metadata": {},
   "outputs": [
    {
     "name": "stdout",
     "output_type": "stream",
     "text": [
      "==================================\u001b[1m Ai Message \u001b[0m==================================\n",
      "Tool Calls:\n",
      "  UserProfile (264a6047-0b3e-4356-b7af-d15deef47297)\n",
      " Call ID: 264a6047-0b3e-4356-b7af-d15deef47297\n",
      "  Args:\n",
      "    interests: ['biking', 'San Francisco']\n",
      "    user_name: Lance\n"
     ]
    }
   ],
   "source": [
    "for m in result[\"messages\"]: \n",
    "    m.pretty_print()"
   ]
  },
  {
   "cell_type": "code",
   "execution_count": 22,
   "metadata": {},
   "outputs": [
    {
     "data": {
      "text/plain": [
       "[UserProfile(user_name='Lance', interests=['biking', 'San Francisco'])]"
      ]
     },
     "execution_count": 22,
     "metadata": {},
     "output_type": "execute_result"
    }
   ],
   "source": [
    "schema = result[\"responses\"]\n",
    "schema"
   ]
  },
  {
   "cell_type": "code",
   "execution_count": 23,
   "metadata": {},
   "outputs": [
    {
     "data": {
      "text/plain": [
       "{'user_name': 'Lance', 'interests': ['biking', 'San Francisco']}"
      ]
     },
     "execution_count": 23,
     "metadata": {},
     "output_type": "execute_result"
    }
   ],
   "source": [
    "schema[0].model_dump()"
   ]
  },
  {
   "cell_type": "markdown",
   "metadata": {},
   "source": [
    "Let's see how we can use it to *update* the profile.\n",
    "\n",
    "For updating, TrustCall takes a set of messages as well as the existing schema. \n",
    "\n",
    "The central idea is that it prompts the model to produce a [JSON Patch](https://jsonpatch.com/) to update only the relevant parts of the schema.\n",
    "\n",
    "This is less error-prone than naively overwriting the entire schema.\n",
    "\n",
    "It's also more efficient since the model only needs to generate the parts of the schema that have changed.\n",
    "\n",
    "We can save the existing schema as a dict.\n",
    "\n",
    "We can use `model_dump()` to serialize a Pydantic model instance into a dict. \n",
    "\n",
    "We pass it to the `\"existing\"` argument along with the schema name, `UserProfile`. "
   ]
  },
  {
   "cell_type": "code",
   "execution_count": 24,
   "metadata": {},
   "outputs": [
    {
     "name": "stderr",
     "output_type": "stream",
     "text": [
      "Key 'title' is not supported in schema, ignoring\n"
     ]
    },
    {
     "name": "stdout",
     "output_type": "stream",
     "text": [
      "{'messages': [AIMessage(content='', additional_kwargs={'function_call': {'name': 'UserProfile', 'arguments': '{\"interests\": [\"biking\", \"bakeries\"], \"user_name\": \"Lance\"}'}}, response_metadata={'prompt_feedback': {'block_reason': 0, 'safety_ratings': []}, 'finish_reason': 'STOP', 'safety_ratings': []}, id='run-5b7618f8-954d-4500-9bed-680f06cf26dc-0', tool_calls=[{'name': 'UserProfile', 'args': {'interests': ['biking', 'bakeries'], 'user_name': 'Lance'}, 'id': '3f71d0e4-ab1f-4011-bd45-02917923c6cf', 'type': 'tool_call'}], usage_metadata={'input_tokens': 97, 'output_tokens': 10, 'total_tokens': 107, 'input_token_details': {'cache_read': 0}})], 'responses': [UserProfile(user_name='Lance', interests=['biking', 'bakeries'])], 'response_metadata': [{'id': '3f71d0e4-ab1f-4011-bd45-02917923c6cf'}], 'attempts': 1}\n"
     ]
    }
   ],
   "source": [
    " \n",
    "updated_conversation = [HumanMessage(content=\"Hi, I'm Lance.\"), \n",
    "                        AIMessage(content=\"Nice to meet you, Lance.\"), \n",
    "                        HumanMessage(content=\"I really like biking around San Francisco.\"),\n",
    "                        AIMessage(content=\"San Francisco is a great city! Where do you go after biking?\"),\n",
    "                        HumanMessage(content=\"I really like to go to a bakery after biking.\"),]\n",
    " \n",
    "system_msg = f\"\"\"Update the memory (JSON doc) to incorporate new information from the following conversation\"\"\"\n",
    " \n",
    "result = trustcall_extractor.invoke({\"messages\": [SystemMessage(content=system_msg)]+updated_conversation}, \n",
    "                                    {\"existing\": {\"UserProfile\": schema[0].model_dump()}})\n",
    "print(result)"
   ]
  },
  {
   "cell_type": "code",
   "execution_count": 25,
   "metadata": {},
   "outputs": [
    {
     "name": "stdout",
     "output_type": "stream",
     "text": [
      "[UserProfile(user_name='Lance', interests=['biking', 'bakeries'])]\n"
     ]
    }
   ],
   "source": [
    "updated_schema = result[\"responses\"]\n",
    "print(updated_schema)"
   ]
  },
  {
   "cell_type": "code",
   "execution_count": 26,
   "metadata": {},
   "outputs": [
    {
     "data": {
      "text/plain": [
       "UserProfile(user_name='Lance', interests=['biking', 'bakeries'])"
      ]
     },
     "execution_count": 26,
     "metadata": {},
     "output_type": "execute_result"
    }
   ],
   "source": [
    "updated_schema = result[\"responses\"][0]\n",
    "updated_schema "
   ]
  },
  {
   "cell_type": "markdown",
   "metadata": {},
   "source": [
    " \n",
    "\n",
    "Now, let's also test Trustcall on the [challenging schema](https://github.com/hinthornw/trustcall?tab=readme-ov-file#complex-schema) that we saw earlier."
   ]
  },
  {
   "cell_type": "code",
   "execution_count": null,
   "metadata": {},
   "outputs": [],
   "source": [
    "from typing import List\n",
    "from pydantic import BaseModel, Field\n",
    "\n",
    "class OutputFormat(BaseModel):\n",
    "    preference: str\n",
    "    sentence_preference_revealed: str\n",
    "\n",
    "class TelegramPreferences(BaseModel):\n",
    "    preferred_encoding: List[OutputFormat] = Field(default_factory=list)\n",
    "    favorite_telegram_operators: List[OutputFormat] = Field(default_factory=list)\n",
    "    preferred_telegram_paper: List[OutputFormat] = Field(default_factory=list)\n",
    "\n",
    "class MorseCode(BaseModel):\n",
    "    preferred_key_type: List[OutputFormat] = Field(default_factory=list)\n",
    "    favorite_morse_abbreviations: List[OutputFormat] = Field(default_factory=list)\n",
    "\n",
    "class Semaphore(BaseModel):\n",
    "    preferred_flag_color: List[OutputFormat] = Field(default_factory=list)\n",
    "    semaphore_skill_level: List[OutputFormat] = Field(default_factory=list)\n",
    "\n",
    "class TrustFallPreferences(BaseModel):\n",
    "    preferred_fall_height: List[OutputFormat] = Field(default_factory=list)\n",
    "    trust_level: List[OutputFormat] = Field(default_factory=list)\n",
    "    preferred_catching_technique: List[OutputFormat] = Field(default_factory=list)\n",
    "\n",
    "class CommunicationPreferences(BaseModel):\n",
    "    telegram: TelegramPreferences\n",
    "    morse_code: MorseCode\n",
    "    semaphore: Semaphore\n",
    "\n",
    "class UserPreferences(BaseModel):\n",
    "    communication_preferences: CommunicationPreferences\n",
    "    trust_fall_preferences: TrustFallPreferences\n",
    "\n",
    "class TelegramAndTrustFallPreferences(BaseModel):\n",
    "    pertinent_user_preferences: UserPreferences\n",
    "\n",
    "bound = create_extractor(\n",
    "    model,\n",
    "    tools=[TelegramAndTrustFallPreferences],\n",
    "    tool_choice=\"TelegramAndTrustFallPreferences\",\n",
    ")\n",
    "\n",
    "# Conversation\n",
    "conversation = \"\"\"Operator: How may I assist with your telegram, sir?\n",
    "Customer: I need to send a message about our trust fall exercise.\n",
    "Operator: Certainly. Morse code or standard encoding?\n",
    "Customer: Morse, please. I love using a straight key.\n",
    "Operator: Excellent. What's your message?\n",
    "Customer: Tell him I'm ready for a higher fall, and I prefer the diamond formation for catching.\n",
    "Operator: Done. Shall I use our \"Daredevil\" paper for this daring message?\n",
    "Customer: Perfect! Send it by your fastest carrier pigeon.\n",
    "Operator: It'll be there within the hour, sir.\"\"\"\n",
    "\n",
    "result = bound.invoke(\n",
    "    f\"\"\"Extract the preferences from the following conversation:\n",
    "<convo>\n",
    "{conversation}\n",
    "</convo>\"\"\"\n",
    ")\n",
    " \n",
    "result[\"responses\"][0]"
   ]
  },
  {
   "cell_type": "markdown",
   "metadata": {},
   "source": [
    "## Chatbot with profile schema updating\n",
    "\n",
    "Now, let's bring Trustcall into our chatbot to create *and update* a memory profile."
   ]
  },
  {
   "cell_type": "code",
   "execution_count": 28,
   "metadata": {},
   "outputs": [
    {
     "data": {
      "image/png": "[encoded data removed]",
      "text/plain": [
       "<IPython.core.display.Image object>"
      ]
     },
     "metadata": {},
     "output_type": "display_data"
    }
   ],
   "source": [
    "from IPython.display import Image, display\n",
    "from langgraph.checkpoint.memory import MemorySaver\n",
    "from langgraph.graph import StateGraph, MessagesState, START, END\n",
    "from langgraph.store.base import BaseStore\n",
    "from langchain_core.messages import HumanMessage, SystemMessage\n",
    "from langchain_core.runnables.config import RunnableConfig\n",
    "from pydantic import BaseModel, Field \n",
    "from typing import List\n",
    "\n",
    "class UserProfile(BaseModel):\n",
    "    \"\"\" Profile of a user \"\"\" \n",
    "    user_name: str = Field(description=\"The user's preferred name\")\n",
    "    user_location: str = Field(description=\"The user's location\")\n",
    "    interests: List[str]  = Field(description=\"A list of the user's interests\")\n",
    "\n",
    "MODEL_SYSTEM_MESSAGE = \"\"\"You are a helpful assistant with memory that provides information about the user.\n",
    "If you have memory for this user, use it to personalize your responses.\n",
    "Here is the memory (it may be empty): {memory}\"\"\"\n",
    "\n",
    "trustcall_extractor = create_extractor(\n",
    "    model,\n",
    "    tools=[UserProfile],\n",
    "    tool_choice=\"UserProfile\", \n",
    ")\n",
    "TRUSTCALL_INSTRUCTION = \"\"\"Create or update the memory (JSON doc) to incorporate information from the following conversation:\"\"\"\n",
    "\n",
    "def call_model(state:MessagesState,config:RunnableConfig,store:BaseStore):\n",
    "  user_id = config[\"configurable\"][\"user_id\"]\n",
    "  namespace = (\"memory\", user_id) \n",
    "  existing_memory = store.get(namespace, 'user_memory') \n",
    "  if existing_memory and existing_memory.value:\n",
    "     memory_dict = existing_memory.value\n",
    "     formatted_memory = (\n",
    "            f\"Name: {memory_dict.get('user_name', 'Unknown')}\\n\"\n",
    "            f\"Location: {memory_dict.get('user_location', 'Unknown')}\\n\"\n",
    "            f\"Interests: {', '.join(memory_dict.get('interests', []))}\"      \n",
    "        )\n",
    "  else:\n",
    "    formatted_memory = None \n",
    "  sys_msg = MODEL_SYSTEM_MESSAGE.format(memory=formatted_memory)\n",
    " \n",
    "  messages = [SystemMessage(content=sys_msg)] + state[\"messages\"]\n",
    "\n",
    "  resp = model.invoke(messages)\n",
    "  return {\"messages\":resp}\n",
    "\n",
    "\n",
    "\n",
    "CREATE_MEMORY_INSTRUCTION = \"\"\"\"You are collecting information about\n",
    "the user to personalize your responses.\n",
    "\n",
    "CURRENT USER INFORMATION:\n",
    "{memory}\n",
    "\n",
    "INSTRUCTIONS:\n",
    "1. Review the chat history below carefully\n",
    "2. Identify new information about the user, such as:\n",
    "   - Personal details (name, location)\n",
    "   - Preferences (likes, dislikes)\n",
    "   - Interests and hobbies\n",
    "   - Past experiences\n",
    "   - Goals or future plans\n",
    "3. Merge any new information with existing memory\n",
    "4. Format the memory as a clear, bulleted list\n",
    "5. If new information conflicts with existing memory, keep the most recent version\n",
    "\n",
    "Remember: Only include factual information directly stated by the user. Do not make assumptions or inferences.\n",
    "\n",
    "Based on the chat history below, please update the user information:\"\"\"\n",
    "def call_summary(state:MessagesState,config:RunnableConfig,store:BaseStore):\n",
    "  user_id = config[\"configurable\"][\"user_id\"]\n",
    "  namespace = (\"memory\", user_id) \n",
    "  existing_memory = store.get(namespace, 'user_memory') \n",
    "  existing_profile = {\"UserProfile\": existing_memory.value} if existing_memory else None\n",
    "  result = trustcall_extractor.invoke({\"messages\": [SystemMessage(content=TRUSTCALL_INSTRUCTION)]+state[\"messages\"], \"existing\": existing_profile})\n",
    "  updated_profile = result[\"responses\"][0].model_dump()\n",
    "  \n",
    "  store.put(namespace, 'user_memory', updated_profile)\n",
    "\n",
    "\n",
    "\n",
    "graph = StateGraph(MessagesState)\n",
    "graph.add_node('call_model',call_model)\n",
    "graph.add_node('call_summary',call_summary)\n",
    "\n",
    "graph.add_edge(START,'call_model') \n",
    "graph.add_edge('call_model','call_summary')\n",
    "graph.add_edge('call_summary',END)\n",
    "\n",
    "short_term_memory = MemorySaver()\n",
    "long_term_memory = InMemoryStore()\n",
    "compiled_graph = graph.compile(checkpointer=short_term_memory,store=long_term_memory) \n",
    "\n",
    "display(Image(compiled_graph.get_graph().draw_mermaid_png()))\n",
    "\n"
   ]
  },
  {
   "cell_type": "code",
   "execution_count": 29,
   "metadata": {},
   "outputs": [
    {
     "name": "stdout",
     "output_type": "stream",
     "text": [
      "================================\u001b[1m Human Message \u001b[0m=================================\n",
      "\n",
      "Hi, my name is Arman, and I am from Sialkot. I am 23 years old.\n"
     ]
    },
    {
     "name": "stderr",
     "output_type": "stream",
     "text": [
      "Key 'title' is not supported in schema, ignoring\n"
     ]
    },
    {
     "name": "stdout",
     "output_type": "stream",
     "text": [
      "==================================\u001b[1m Ai Message \u001b[0m==================================\n",
      "\n",
      "Hi Arman! It's nice to meet you.  I'll remember that you're 23 years old and from Sialkot.  Is there anything I can help you with today?\n"
     ]
    }
   ],
   "source": [
    "config = {\"configurable\": {\"thread_id\": \"1\", \"user_id\": \"1\"}} \n",
    "input_messages = [HumanMessage(content=\"Hi, my name is Arman, and I am from Sialkot. I am 23 years old.\")] \n",
    "for chunk in compiled_graph.stream({\"messages\": input_messages}, config, stream_mode=\"values\"):\n",
    "    chunk[\"messages\"][-1].pretty_print()\n"
   ]
  },
  {
   "cell_type": "code",
   "execution_count": null,
   "metadata": {},
   "outputs": [],
   "source": [
    "config = {\"configurable\": {\"thread_id\": \"1\", \"user_id\": \"1\"}} \n",
    "input_messages = [HumanMessage(content=\"I like programming\")] \n",
    "for chunk in compiled_graph.stream({\"messages\": input_messages}, config, stream_mode=\"values\"):\n",
    "    chunk[\"messages\"][-1].pretty_print()"
   ]
  },
  {
   "cell_type": "code",
   "execution_count": 32,
   "metadata": {},
   "outputs": [
    {
     "data": {
      "text/plain": [
       "{'namespace': ['memory', '1'],\n",
       " 'key': 'user_memory',\n",
       " 'value': {'user_name': 'Arman', 'user_location': 'Sialkot', 'interests': []},\n",
       " 'created_at': '2025-02-17T13:51:54.317032+00:00',\n",
       " 'updated_at': '2025-02-17T13:51:54.317032+00:00'}"
      ]
     },
     "execution_count": 32,
     "metadata": {},
     "output_type": "execute_result"
    }
   ],
   "source": [
    "user_id = \"1\"\n",
    "namespace = (\"memory\", user_id)\n",
    "existing_memory = long_term_memory.get(namespace, \"user_memory\")\n",
    "existing_memory.dict()"
   ]
  },
  {
   "cell_type": "code",
   "execution_count": null,
   "metadata": {},
   "outputs": [],
   "source": [
    "\n",
    "input_messages = [HumanMessage(content=\"I want to buy shoes and a dress.\")] \n",
    "for chunk in compiled_graph.stream({\"messages\": input_messages}, config, stream_mode=\"values\"):\n",
    "    chunk[\"messages\"][-1].pretty_print()"
   ]
  },
  {
   "cell_type": "code",
   "execution_count": null,
   "metadata": {},
   "outputs": [],
   "source": [
    "config = {\"configurable\": {\"thread_id\": \"1\", \"user_id\": \"1\"}} \n",
    "input_messages = [HumanMessage(content=\"I'm looking for black sneakers with a budget of $300 and a casual dress in white, with a budget of $400 and a waist size of 36 \")] \n",
    "for chunk in compiled_graph.stream({\"messages\": input_messages}, config, stream_mode=\"values\"):\n",
    "    chunk[\"messages\"][-1].pretty_print()"
   ]
  },
  {
   "cell_type": "code",
   "execution_count": null,
   "metadata": {},
   "outputs": [],
   "source": [
    "config = {\"configurable\": {\"thread_id\": \"1\", \"user_id\": \"1\"}} \n",
    "input_messages = [HumanMessage(content=\"what do you know about me\")] \n",
    "for chunk in compiled_graph.stream({\"messages\": input_messages}, config, stream_mode=\"values\"):\n",
    "    chunk[\"messages\"][-1].pretty_print()"
   ]
  },
  {
   "cell_type": "markdown",
   "metadata": {},
   "source": [
    "Continue the conversation in a new thread."
   ]
  },
  {
   "cell_type": "code",
   "execution_count": null,
   "metadata": {},
   "outputs": [],
   "source": [
    "config = {\"configurable\": {\"thread_id\": \"2\", \"user_id\": \"1\"}} \n",
    "input_messages = [HumanMessage(content=\"what do you know about me\")] \n",
    "for chunk in compiled_graph.stream({\"messages\": input_messages}, config, stream_mode=\"values\"):\n",
    "    chunk[\"messages\"][-1].pretty_print()"
   ]
  },
  {
   "cell_type": "markdown",
   "metadata": {},
   "source": [
    "Trace:\n",
    "\n",
    "https://smith.langchain.com/public/f45bdaf0-6963-4c19-8ec9-f4b7fe0f68ad/r\n",
    "\n",
    "## Studio\n",
    "\n",
    "![Screenshot 2024-10-30 at 11.26.31 AM.png](https://cdn.prod.website-files.com/65b8cd72835ceeacd4449a53/6732d0437060f1754ea79908_Screenshot%202024-11-11%20at%207.48.53%E2%80%AFPM.png)"
   ]
  },
  {
   "cell_type": "markdown",
   "metadata": {},
   "source": []
  }
 ],
 "metadata": {
  "kernelspec": {
   "display_name": "Python 3",
   "language": "python",
   "name": "python3"
  },
  "language_info": {
   "codemirror_mode": {
    "name": "ipython",
    "version": 3
   },
   "file_extension": ".py",
   "mimetype": "text/x-python",
   "name": "python",
   "nbconvert_exporter": "python",
   "pygments_lexer": "ipython3",
   "version": "3.12.3"
  }
 },
 "nbformat": 4,
 "nbformat_minor": 2
}
