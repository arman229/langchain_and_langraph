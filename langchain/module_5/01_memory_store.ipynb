{
 "cells": [
  {
   "cell_type": "markdown",
   "metadata": {},
   "source": [
    "# Chatbot with Memory\n",
    "\n",
    "## Review\n",
    "\n",
    "[Memory](https://pmc.ncbi.nlm.nih.gov/articles/PMC10410470/) is a cognitive function that allows people to store, retrieve, and use information to understand their present and future.\n",
    "\n",
    "There are [various long-term memory types](https://langchain-ai.github.io/langgraph/concepts/memory/#memory) that can be used in AI applications.\n",
    "\n",
    "## Goals\n",
    "\n",
    "Here, we'll introduce the [LangGraph Memory Store](https://langchain-ai.github.io/langgraph/reference/store/#langgraph.store.base.BaseStore) as a way to save and retrieve long-term memories.\n",
    "\n",
    "We'll build a chatbot that uses both `short-term (within-thread)` and `long-term (across-thread)` memory.\n",
    "\n",
    "We'll focus on long-term [semantic memory](https://langchain-ai.github.io/langgraph/concepts/memory/#semantic-memory), which will be facts about the user.\n",
    "\n",
    "These long-term memories will be used to create a personalized chatbot that can remember facts about the user.\n",
    "\n",
    "It will save memory [\"in the hot path\"](https://langchain-ai.github.io/langgraph/concepts/memory/#writing-memories), as the user is chatting with it."
   ]
  },
  {
   "cell_type": "markdown",
   "metadata": {},
   "source": [
    "%%capture --no-stderr\n",
    "%pip install -U langchain_google_genai langgraph langchain_core"
   ]
  },
  {
   "cell_type": "markdown",
   "metadata": {},
   "source": [
    "## Introduction to the LangGraph Store\n",
    "\n",
    "The [LangGraph Memory Store](https://langchain-ai.github.io/langgraph/reference/store/#langgraph.store.base.BaseStore) provides a way to store and retrieve information *across threads* in LangGraph.\n",
    "\n",
    "This is an  [open source base class](https://blog.langchain.dev/launching-long-term-memory-support-in-langgraph/) for persistent `key-value` stores."
   ]
  },
  {
   "cell_type": "markdown",
   "metadata": {},
   "source": [
    "When storing objects (e.g., memories) in the [Store](https://langchain-ai.github.io/langgraph/reference/store/#langgraph.store.base.BaseStore), we provide:\n",
    "\n",
    "- The `namespace` for the object, a tuple (similar to directories)\n",
    "- the object `key` (similar to filenames)\n",
    "- the object `value` (similar to file contents)\n",
    "\n",
    "We use the [put](https://langchain-ai.github.io/langgraph/reference/store/#langgraph.store.base.BaseStore.put) method to save an object to the store by `namespace` and `key`."
   ]
  },
  {
   "cell_type": "code",
   "execution_count": 4,
   "metadata": {},
   "outputs": [],
   "source": [
    "import uuid\n",
    "from langgraph.store.memory import InMemoryStore\n",
    "memory_store = InMemoryStore()\n",
    "user_id = '1'\n",
    "session_id = str(uuid.uuid4())\n",
    "name_space = (user_id,'memory_agent')"
   ]
  },
  {
   "cell_type": "code",
   "execution_count": 6,
   "metadata": {},
   "outputs": [
    {
     "name": "stdout",
     "output_type": "stream",
     "text": [
      "user_id: 1\n",
      "session_id: 871b94ae-09f4-4e74-b2c8-14d3286e80e9\n",
      "name_space:('1', 'memory_agent')\n"
     ]
    }
   ],
   "source": [
    "print(f'user_id: {user_id}')\n",
    "print(f'session_id: {session_id}')\n",
    "print(f'name_space:{name_space}')"
   ]
  },
  {
   "cell_type": "code",
   "execution_count": 7,
   "metadata": {},
   "outputs": [],
   "source": [
    "value = {'name':'Arman','age':23,'profile':'I have completed Bachelor\\'s degree in Mathematics. Now i want to learn Agentic AI'}\n",
    "memory_store.put(name_space,session_id,value)"
   ]
  },
  {
   "cell_type": "code",
   "execution_count": 8,
   "metadata": {},
   "outputs": [],
   "source": [
    "session_id = str(uuid.uuid4())\n",
    "value = {'name':'Arman','age':23,'profile':'I have completed Bachelor\\'s degree in Mathematics. Now i want to learn Agentic AI','teacher':'My best teacher is Sir Zia Khan'}\n",
    "memory_store.put(name_space,session_id,value)"
   ]
  },
  {
   "cell_type": "markdown",
   "metadata": {},
   "source": [
    "We use [search](https://langchain-ai.github.io/langgraph/reference/store/#langgraph.store.base.BaseStore.search) to retrieve objects from the store by `namespace`.\n",
    "\n",
    "This returns a list."
   ]
  },
  {
   "cell_type": "code",
   "execution_count": 9,
   "metadata": {},
   "outputs": [
    {
     "name": "stdout",
     "output_type": "stream",
     "text": [
      "[Item(namespace=['1', 'memory_agent'], key='871b94ae-09f4-4e74-b2c8-14d3286e80e9', value={'name': 'Arman', 'age': 23, 'profile': \"I have completed Bachelor's degree in Mathematics. Now i want to learn Agentic AI\"}, created_at='2025-02-17T07:37:48.179092+00:00', updated_at='2025-02-17T07:37:48.179092+00:00', score=None), Item(namespace=['1', 'memory_agent'], key='945e94b4-9684-4161-967b-1d3521dd726d', value={'name': 'Arman', 'age': 23, 'profile': \"I have completed Bachelor's degree in Mathematics. Now i want to learn Agentic AI\", 'teacher': 'My best teacher is Sir Zia Khan'}, created_at='2025-02-17T07:37:49.328436+00:00', updated_at='2025-02-17T07:37:49.328436+00:00', score=None)]\n"
     ]
    }
   ],
   "source": [
    "search_memory = memory_store.search(name_space)\n",
    "print(search_memory)"
   ]
  },
  {
   "cell_type": "markdown",
   "metadata": {},
   "source": [
    "We can also use [get](https://langchain-ai.github.io/langgraph/reference/store/#langgraph.store.base.BaseStore.get) to retrieve an object by `namespace` and `key`."
   ]
  },
  {
   "cell_type": "code",
   "execution_count": 10,
   "metadata": {},
   "outputs": [
    {
     "name": "stdout",
     "output_type": "stream",
     "text": [
      "None\n"
     ]
    }
   ],
   "source": [
    "get_memory = memory_store.get(name_space,'9697e0cd-92b3-47f6-9159-7a63019952a1')\n",
    "print(get_memory)"
   ]
  },
  {
   "cell_type": "markdown",
   "metadata": {},
   "source": [
    "## Chatbot with long-term memory\n",
    "\n",
    "We want a chatbot that [has two types of memory](https://docs.google.com/presentation/d/181mvjlgsnxudQI6S3ritg9sooNyu4AcLLFH1UK0kIuk/edit#slide=id.g30eb3c8cf10_0_156):\n",
    "\n",
    "1. `Short-term (within-thread) memory`: Chatbot can persist conversational history and / or allow interruptions in a chat session.\n",
    "2. `Long-term (cross-thread) memory`: Chatbot can remember information about a specific user *across all chat sessions*."
   ]
  },
  {
   "cell_type": "code",
   "execution_count": 11,
   "metadata": {},
   "outputs": [
    {
     "name": "stdout",
     "output_type": "stream",
     "text": [
      "API key loaded from .env file.\n"
     ]
    }
   ],
   "source": [
    "from dotenv import load_dotenv\n",
    "import os\n",
    "\n",
    "load_dotenv()\n",
    "\n",
    "GEMINI_API_KEY = os.getenv(\"GEMINI_API_KEY\")\n",
    "if not GEMINI_API_KEY:\n",
    "    raise ValueError(\"GEMINI_API_KEY is not set in the .env file.\")\n",
    "\n",
    "print(\"API key loaded from .env file.\")"
   ]
  },
  {
   "cell_type": "markdown",
   "metadata": {},
   "source": [
    "For `short-term memory`, we'll use a [checkpointer](https://langchain-ai.github.io/langgraph/concepts/persistence/#checkpointer-libraries).\n",
    "\n",
    "See Module 2 and our [conceptual docs](https://langchain-ai.github.io/langgraph/concepts/persistence/) for more on checkpointers, but in summary:\n",
    "\n",
    "* They write the graph state at each step to a thread.\n",
    "* They persist the chat history in the thread.\n",
    "* They allow the graph to be interrupted and / or resumed from any step in the thread.\n",
    "\n",
    "And, for `long-term memory`, we'll use the [LangGraph Store](https://langchain-ai.github.io/langgraph/reference/store/#langgraph.store.base.BaseStore) as introduced above."
   ]
  },
  {
   "cell_type": "code",
   "execution_count": 22,
   "metadata": {},
   "outputs": [],
   "source": [
    "from langchain_google_genai import ChatGoogleGenerativeAI\n",
    "model = ChatGoogleGenerativeAI(model='gemini-1.5-flash',api_key=GEMINI_API_KEY)"
   ]
  },
  {
   "cell_type": "markdown",
   "metadata": {},
   "source": [
    "The chat history will be saved to short-term memory using the checkpointer.\n",
    "\n",
    "The chatbot will reflect on the chat history.\n",
    "\n",
    "It will then create and save a memory to the [LangGraph Store](https://langchain-ai.github.io/langgraph/reference/store/#langgraph.store.base.BaseStore).\n",
    "\n",
    "This memory is accessible in future chat sessions to personalize the chatbot's responses."
   ]
  },
  {
   "cell_type": "code",
   "execution_count": 13,
   "metadata": {},
   "outputs": [
    {
     "data": {
      "image/png": "[encoded data removed]",
      "text/plain": [
       "<IPython.core.display.Image object>"
      ]
     },
     "metadata": {},
     "output_type": "display_data"
    }
   ],
   "source": [
    "from IPython.display import Image, display\n",
    "\n",
    "from langgraph.checkpoint.memory import MemorySaver\n",
    "from langgraph.graph import StateGraph, MessagesState, START, END\n",
    "from langgraph.store.base import BaseStore\n",
    "\n",
    "from langchain_core.messages import HumanMessage, SystemMessage\n",
    "from langchain_core.runnables.config import RunnableConfig\n",
    "\n",
    "MODEL_SYSTEM_MESSAGE = \"\"\"You are a helpful assistant with memory that provides information about the user.\n",
    "If you have memory for this user, use it to personalize your responses.\n",
    "Here is the memory (it may be empty): {memory}\"\"\"\n",
    "def call_model(state:MessagesState,config:RunnableConfig,store:BaseStore):\n",
    "  user_id = config[\"configurable\"][\"user_id\"]\n",
    "  namespace = (\"memory\", user_id) \n",
    "  existing_memory = store.get(namespace, 'user_memory')\n",
    "  if existing_memory:\n",
    "     existing_memory_content = existing_memory.value.get('memory')\n",
    "  else:\n",
    "    existing_memory_content = \"No existing memory found.\"\n",
    "  sys_msg = MODEL_SYSTEM_MESSAGE.format(memory=existing_memory_content)\n",
    " \n",
    "  messages = [SystemMessage(content=sys_msg)] + state[\"messages\"]\n",
    "\n",
    "  resp = model.invoke(messages)\n",
    "  return {\"messages\":resp}\n",
    "\n",
    "\n",
    "\n",
    "CREATE_MEMORY_INSTRUCTION = \"\"\"\"You are collecting information about\n",
    "the user to personalize your responses.\n",
    "\n",
    "CURRENT USER INFORMATION:\n",
    "{memory}\n",
    "\n",
    "INSTRUCTIONS:\n",
    "1. Review the chat history below carefully\n",
    "2. Identify new information about the user, such as:\n",
    "   - Personal details (name, location)\n",
    "   - Preferences (likes, dislikes)\n",
    "   - Interests and hobbies\n",
    "   - Past experiences\n",
    "   - Goals or future plans\n",
    "3. Merge any new information with existing memory\n",
    "4. Format the memory as a clear, bulleted list\n",
    "5. If new information conflicts with existing memory, keep the most recent version\n",
    "\n",
    "Remember: Only include factual information directly stated by the user. Do not make assumptions or inferences.\n",
    "\n",
    "Based on the chat history below, please update the user information:\"\"\"\n",
    "def call_summary(state:MessagesState,config:RunnableConfig,store:BaseStore):\n",
    "  user_id = config[\"configurable\"][\"user_id\"]\n",
    "  namespace = (\"memory\", user_id) \n",
    "  existing_memory = store.get(namespace, 'user_memory')\n",
    "  if existing_memory:\n",
    "     existing_memory_content = existing_memory.value.get('memory')\n",
    "  else:\n",
    "    existing_memory_content = \"No existing memory found.\"\n",
    "  sys_msg = CREATE_MEMORY_INSTRUCTION.format(memory=existing_memory_content)\n",
    "  messages = [SystemMessage(content=sys_msg) ]+ state[\"messages\"]\n",
    "  resp = model.invoke(messages)  \n",
    "  store.put(namespace, 'user_memory', {\"memory\": resp.content})\n",
    "\n",
    "\n",
    "\n",
    "graph = StateGraph(MessagesState)\n",
    "graph.add_node('call_model',call_model)\n",
    "graph.add_node('call_summary',call_summary)\n",
    "\n",
    "graph.add_edge(START,'call_model') \n",
    "graph.add_edge('call_model','call_summary')\n",
    "graph.add_edge('call_summary',END)\n",
    "\n",
    "short_term_memory = MemorySaver()\n",
    "long_term_memory = InMemoryStore()\n",
    "compiled_graph = graph.compile(checkpointer=short_term_memory,store=long_term_memory) \n",
    "\n",
    "display(Image(compiled_graph.get_graph().draw_mermaid_png()))\n"
   ]
  },
  {
   "cell_type": "markdown",
   "metadata": {},
   "source": [
    "When we interact with the chatbot, we supply two things:\n",
    "\n",
    "1. `Short-term (within-thread) memory`: A `thread ID` for persisting the chat history.\n",
    "2. `Long-term (cross-thread) memory`: A `user ID` to namespace long-term memories to the user.\n",
    "\n",
    "Let's see how these work together in practice."
   ]
  },
  {
   "cell_type": "code",
   "execution_count": 14,
   "metadata": {},
   "outputs": [
    {
     "name": "stdout",
     "output_type": "stream",
     "text": [
      "================================\u001b[1m Human Message \u001b[0m=================================\n",
      "\n",
      "Hi, my name is arman\n",
      "==================================\u001b[1m Ai Message \u001b[0m==================================\n",
      "\n",
      "Hello Arman, it's nice to meet you!  I'll remember that for our future conversations.\n"
     ]
    }
   ],
   "source": [
    "config = {\"configurable\": {\"thread_id\": \"1\", \"user_id\": \"1\"}} \n",
    "input_messages = [HumanMessage(content=\"Hi, my name is arman\")] \n",
    "for chunk in compiled_graph.stream({\"messages\": input_messages}, config, stream_mode=\"values\"):\n",
    "    chunk[\"messages\"][-1].pretty_print()\n"
   ]
  },
  {
   "cell_type": "code",
   "execution_count": 15,
   "metadata": {},
   "outputs": [
    {
     "name": "stdout",
     "output_type": "stream",
     "text": [
      "================================\u001b[1m Human Message \u001b[0m=================================\n",
      "\n",
      "I like programming\n",
      "==================================\u001b[1m Ai Message \u001b[0m==================================\n",
      "\n",
      "That's great, Arman!  Programming is a fascinating and rewarding field. What kind of programming are you interested in?  Do you have a favorite language or area of focus (e.g., web development, game development, data science)?\n"
     ]
    }
   ],
   "source": [
    "config = {\"configurable\": {\"thread_id\": \"1\", \"user_id\": \"1\"}} \n",
    "input_messages = [HumanMessage(content=\"I like programming\")] \n",
    "for chunk in compiled_graph.stream({\"messages\": input_messages}, config, stream_mode=\"values\"):\n",
    "    chunk[\"messages\"][-1].pretty_print()"
   ]
  },
  {
   "cell_type": "markdown",
   "metadata": {},
   "source": [
    "We're using the `MemorySaver` checkpointer for within-thread memory.\n",
    "\n",
    "This saves the chat history to the thread.\n",
    "\n",
    "We can look at the chat history saved to the thread."
   ]
  },
  {
   "cell_type": "code",
   "execution_count": 16,
   "metadata": {},
   "outputs": [
    {
     "name": "stdout",
     "output_type": "stream",
     "text": [
      "================================\u001b[1m Human Message \u001b[0m=================================\n",
      "\n",
      "Hi, my name is arman\n",
      "==================================\u001b[1m Ai Message \u001b[0m==================================\n",
      "\n",
      "Hello Arman, it's nice to meet you!  I'll remember that for our future conversations.\n",
      "================================\u001b[1m Human Message \u001b[0m=================================\n",
      "\n",
      "I like programming\n",
      "==================================\u001b[1m Ai Message \u001b[0m==================================\n",
      "\n",
      "That's great, Arman!  Programming is a fascinating and rewarding field. What kind of programming are you interested in?  Do you have a favorite language or area of focus (e.g., web development, game development, data science)?\n"
     ]
    }
   ],
   "source": [
    "\n",
    "thread = {\"configurable\": {\"thread_id\": \"1\"}}\n",
    "state = compiled_graph.get_state(thread).values\n",
    "for m in state[\"messages\"]:\n",
    "    m.pretty_print()"
   ]
  },
  {
   "cell_type": "markdown",
   "metadata": {},
   "source": [
    "Recall that we compiled the graph with our the store:\n",
    "\n",
    "```python\n",
    "across_thread_memory = InMemoryStore()\n",
    "```\n",
    "\n",
    "And, we added a node to the graph (`write_memory`) that reflects on the chat history and saves a memory to the store.\n",
    "\n",
    "We can to see if the memory was saved to the store."
   ]
  },
  {
   "cell_type": "code",
   "execution_count": 17,
   "metadata": {},
   "outputs": [
    {
     "name": "stdout",
     "output_type": "stream",
     "text": [
      "{'namespace': ['memory', '1'], 'key': 'user_memory', 'value': {'memory': \"Here's an updated summary of what I know about you:\\n\\n* Name: Arman\\n* Likes: Programming\\n\\n\"}, 'created_at': '2025-02-17T07:38:05.931736+00:00', 'updated_at': '2025-02-17T07:38:05.931736+00:00'}\n"
     ]
    }
   ],
   "source": [
    "user_id = \"1\"\n",
    "namespace = (\"memory\", user_id)\n",
    "get_memory = long_term_memory.get(namespace,'user_memory')\n",
    "if get_memory is not None:\n",
    "    print(get_memory.dict())   \n",
    "else:\n",
    "    print(\"No memory found for this user.\")"
   ]
  },
  {
   "cell_type": "code",
   "execution_count": 18,
   "metadata": {},
   "outputs": [
    {
     "name": "stdout",
     "output_type": "stream",
     "text": [
      "No memory found for this user.\n"
     ]
    }
   ],
   "source": [
    "\n",
    "user_id = \"12\"\n",
    "namespace = (\"memory\", user_id)\n",
    "get_memory = long_term_memory.get(namespace,'user_memory')\n",
    "if get_memory is not None:\n",
    "    print(get_memory.dict())   \n",
    "else:\n",
    "    print(\"No memory found for this user.\")"
   ]
  },
  {
   "cell_type": "markdown",
   "metadata": {},
   "source": [
    "Now, let's kick off a *new thread* with the *same user ID*.\n",
    "\n",
    "We should see that the chatbot remembered the user's profile and used it to personalize the response."
   ]
  },
  {
   "cell_type": "code",
   "execution_count": 19,
   "metadata": {},
   "outputs": [
    {
     "name": "stdout",
     "output_type": "stream",
     "text": [
      "================================\u001b[1m Human Message \u001b[0m=================================\n",
      "\n",
      "Hi! What do you know about me?\n",
      "==================================\u001b[1m Ai Message \u001b[0m==================================\n",
      "\n",
      "Hi Arman!  I know that you like programming.  Is there anything else I should know about you?\n"
     ]
    }
   ],
   "source": [
    "config = {\"configurable\": {\"thread_id\": \"12\", \"user_id\": \"1\"}} \n",
    "input_messages = [HumanMessage(content=\"Hi! What do you know about me?\")] \n",
    "for chunk in compiled_graph.stream({\"messages\": input_messages}, config, stream_mode=\"values\"):\n",
    "    chunk[\"messages\"][-1].pretty_print()"
   ]
  },
  {
   "cell_type": "code",
   "execution_count": 20,
   "metadata": {},
   "outputs": [
    {
     "name": "stdout",
     "output_type": "stream",
     "text": [
      "================================\u001b[1m Human Message \u001b[0m=================================\n",
      "\n",
      "I am from pakistan\n",
      "==================================\u001b[1m Ai Message \u001b[0m==================================\n",
      "\n",
      "That's great to know, Arman!  So you're a programmer from Pakistan.  Is there anything else you'd like to share, or any questions you have for me?\n"
     ]
    }
   ],
   "source": [
    " \n",
    "input_messages = [HumanMessage(content=\"I am from pakistan\")] \n",
    "for chunk in compiled_graph.stream({\"messages\": input_messages}, config, stream_mode=\"values\"):\n",
    "    chunk[\"messages\"][-1].pretty_print()"
   ]
  },
  {
   "cell_type": "code",
   "execution_count": 21,
   "metadata": {},
   "outputs": [
    {
     "name": "stdout",
     "output_type": "stream",
     "text": [
      "{'namespace': ['memory', '1'], 'key': 'user_memory', 'value': {'memory': \"Here's my updated information about you:\\n\\n* Name: Arman\\n* Likes: Programming\\n* Location: Pakistan\\n\"}, 'created_at': '2025-02-17T07:38:27.245643+00:00', 'updated_at': '2025-02-17T07:38:27.245643+00:00'}\n"
     ]
    }
   ],
   "source": [
    "user_id = \"1\"\n",
    "namespace = (\"memory\", user_id)\n",
    "get_memory = long_term_memory.get(namespace,'user_memory')\n",
    "if get_memory is not None:\n",
    "    print(get_memory.dict())   \n",
    "else:\n",
    "    print(\"No memory found for this user.\")"
   ]
  },
  {
   "cell_type": "markdown",
   "metadata": {},
   "source": [
    "## Viewing traces in LangSmith\n",
    "\n",
    "We can see that the memories are retrieved from the store and supplied as part of the system prompt, as expected:\n",
    "\n",
    "https://smith.langchain.com/public/10268d64-82ff-434e-ac02-4afa5cc15432/r"
   ]
  }
 ],
 "metadata": {
  "kernelspec": {
   "display_name": "Python 3",
   "language": "python",
   "name": "python3"
  },
  "language_info": {
   "codemirror_mode": {
    "name": "ipython",
    "version": 3
   },
   "file_extension": ".py",
   "mimetype": "text/x-python",
   "name": "python",
   "nbconvert_exporter": "python",
   "pygments_lexer": "ipython3",
   "version": "3.12.3"
  }
 },
 "nbformat": 4,
 "nbformat_minor": 2
}
