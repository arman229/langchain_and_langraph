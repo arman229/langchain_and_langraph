{
 "cells": [
  {
   "cell_type": "markdown",
   "metadata": {},
   "source": [
    "## **Documentation: Setting Up and Checking Logs in LangSmith**\n",
    "\n",
    "LangSmith is a powerful tool for logging, monitoring, and debugging LangChain workflows. This guide will walk you through the setup process and provide an example of how to use LangSmith for logging.\n",
    "\n",
    "---"
   ]
  },
  {
   "cell_type": "markdown",
   "metadata": {},
   "source": [
    "---\n",
    "\n",
    "\n",
    "\n",
    "### **1. Installation**\n",
    "\n",
    "First, install the required libraries. Run the following command in your Python environment:\n",
    "\n",
    "\n",
    "\n",
    "---"
   ]
  },
  {
   "cell_type": "code",
   "execution_count": null,
   "metadata": {},
   "outputs": [],
   "source": [
    "%%capture --no-stderr\n",
    "%pip install --quiet -U langchain_core langchain langsmith langgraph langchain_google_genai\n",
    " "
   ]
  },
  {
   "cell_type": "code",
   "execution_count": 1,
   "metadata": {},
   "outputs": [
    {
     "name": "stdout",
     "output_type": "stream",
     "text": [
      "Gemini api key loaded successfully\n",
      "LANGSMITH_API_KEY loaded successfully\n"
     ]
    }
   ],
   "source": [
    "import os\n",
    "from dotenv import load_dotenv\n",
    "load_dotenv()\n",
    "\n",
    "GEMINI_API_KEY = os.getenv(\"GEMINI_API_KEY\")\n",
    "LANGSMITH_API_KEY = os.getenv(\"LANGSMITH_API_KEY\")\n",
    "if not GEMINI_API_KEY:\n",
    "    raise ValueError(\"GEMINI_API_KEY is not set in the .env file.\")\n",
    "print(\"Gemini api key loaded successfully\")\n",
    "\n",
    "if not LANGSMITH_API_KEY:\n",
    "    raise ValueError(\"LANGSMITH_API_KEY is not set in the .env file.\")\n",
    "print(\"LANGSMITH_API_KEY loaded successfully\")"
   ]
  },
  {
   "cell_type": "markdown",
   "metadata": {},
   "source": [
    "### **2. Set Up Environment Variables**\n",
    "\n",
    "LangSmith requires certain environment variables to be set for logging and tracing. Define these variables in your environment:\n"
   ]
  },
  {
   "cell_type": "code",
   "execution_count": 2,
   "metadata": {},
   "outputs": [],
   "source": [
    "LANGSMITH_TRACING=\"true\"\n",
    "LANGSMITH_ENDPOINT=\"https://api.smith.langchain.com\"\n",
    "LANGSMITH_API_KEY=LANGSMITH_API_KEY\n",
    "LANGSMITH_PROJECT=\"local_summary_demo\" "
   ]
  },
  {
   "cell_type": "markdown",
   "metadata": {},
   "source": [
    "### **3. Set Environment Variables in Python**\n",
    "\n",
    "Use the `os` module to set the environment variables in your Python script:"
   ]
  },
  {
   "cell_type": "code",
   "execution_count": 3,
   "metadata": {},
   "outputs": [],
   "source": [
    "import os\n",
    " \n",
    "os.environ[\"LANGCHAIN_TRACING_V2\"] = LANGSMITH_TRACING\n",
    "os.environ[\"LANGCHAIN_PROJECT\"] = LANGSMITH_PROJECT\n",
    "os.environ[\"LANGCHAIN_API_KEY\"] = LANGSMITH_API_KEY"
   ]
  },
  {
   "cell_type": "markdown",
   "metadata": {},
   "source": [
    "### **4. Example Code**\n",
    "\n",
    "Here’s an example of a LangChain workflow with LangSmith logging enabled:"
   ]
  },
  {
   "cell_type": "code",
   "execution_count": 5,
   "metadata": {},
   "outputs": [
    {
     "data": {
      "image/png": "[encoded data removed]",
      "text/plain": [
       "<IPython.core.display.Image object>"
      ]
     },
     "metadata": {},
     "output_type": "display_data"
    },
    {
     "name": "stdout",
     "output_type": "stream",
     "text": [
      "summary printing\n",
      "\n",
      "summary printing\n",
      "\n",
      "summary printing\n",
      "\n",
      "summary printing\n",
      "\n",
      "==================================\u001b[1m Ai Message \u001b[0m==================================\n",
      "\n",
      "You said you are majoring in math.\n"
     ]
    }
   ],
   "source": [
    "from langgraph.graph import START,END,StateGraph\n",
    "from langgraph.checkpoint.memory import MemorySaver\n",
    "from IPython.display import display,Image\n",
    "from langchain_core.messages import HumanMessage,SystemMessage,RemoveMessage\n",
    "from langgraph.graph import MessagesState\n",
    "from langchain_core.messages import AnyMessage\n",
    "from langgraph.graph import add_messages\n",
    "from typing import Annotated\n",
    "from langchain_google_genai import ChatGoogleGenerativeAI\n",
    "\n",
    "llm = ChatGoogleGenerativeAI(model=\"gemini-1.5-flash\",api_key=GEMINI_API_KEY  )\n",
    "\n",
    "class StateClass(MessagesState):\n",
    "    summary: str\n",
    "    messages:Annotated[list[AnyMessage],add_messages]\n",
    "    \n",
    "def start_conversation(state:StateClass):\n",
    "    summary = state.get('summary','')\n",
    "    print(\"summary printing\")\n",
    "    print(summary)\n",
    "    \n",
    "    if summary:\n",
    "        system_message = f\"Summary of conversation earlier: {summary}\"\n",
    "        messages = [SystemMessage(content = system_message)] +state['messages']\n",
    "    else:\n",
    "        messages = state['messages']\n",
    "    result =  llm.invoke(messages)\n",
    "    return {'messages':result}     \n",
    "            \n",
    "def call_summary(state:StateClass):\n",
    "    summary = state.get('summary','')\n",
    "    if summary:\n",
    "         \n",
    "        human_message = (\n",
    "            f\"This is summary of the conversation to date: {summary}\\n\\n\"\n",
    "            \"Extend the summary by taking into account the new messages above:\"\n",
    "        )\n",
    "    else:\n",
    "        human_message = \"Create a summary of the conversation above:\"\n",
    "            \n",
    "    messages = state['messages'] + [HumanMessage(content = human_message)]\n",
    "    generate_summary = llm.invoke(messages)\n",
    "     \n",
    "        \n",
    "    last_two_messages = [RemoveMessage(id=i.id) for i in state['messages'][:-2]] \n",
    "    return { 'summary':generate_summary.content,'messages':last_two_messages,}   \n",
    "        \n",
    "def decide_node(state:StateClass):\n",
    "    messages = state['messages']\n",
    "    if len(messages) > 6:\n",
    "        return \"summary_node\"\n",
    "    else:\n",
    "        return END\n",
    " \n",
    "memory = MemorySaver()\n",
    "\n",
    "graph_building: StateGraph = StateGraph(StateClass)\n",
    "graph_building.add_node(\"conversation\", start_conversation)\n",
    "graph_building.add_node(\"summary_node\",call_summary)\n",
    "\n",
    "graph_building.add_edge(START, \"conversation\")\n",
    "graph_building.add_conditional_edges(\"conversation\", decide_node)\n",
    "graph_building.add_edge(\"summary_node\", END)\n",
    " \n",
    " \n",
    " \n",
    " \n",
    " \n",
    "final_graph  = graph_building.compile(checkpointer=memory)\n",
    "display(Image(final_graph.get_graph().draw_mermaid_png())) \n",
    "\n",
    "  \n",
    "config = {'configurable': {'thread_id':'1'}}\n",
    "\n",
    "input = HumanMessage(content=\"Hi I am aramn\")\n",
    "final_resp =final_graph.invoke({\"messages\":[input]},config)\n",
    " \n",
    "\n",
    "input = HumanMessage(content=\"I Like Programming\")\n",
    "final_resp =final_graph.invoke({\"messages\":[input]},config)\n",
    " \n",
    "\n",
    "input = HumanMessage(content=\"I am major in math\")\n",
    "final_resp =final_graph.invoke({\"messages\":[input]},config)\n",
    "\n",
    "input = HumanMessage(content=\"what is major i am\")\n",
    "final_resp =final_graph.invoke({\"messages\":[input]},config)\n",
    " \n",
    "for m in final_resp['messages'][-1:]:\n",
    "    m.pretty_print()   \n",
    " "
   ]
  },
  {
   "cell_type": "markdown",
   "metadata": {},
   "source": [
    "---\n",
    "\n",
    "### **5. Checking Logs in LangSmith**\n",
    "\n",
    "Once your code runs, you can check the logs in the LangSmith dashboard:\n",
    "\n",
    "1. **Log in to LangSmith:**\n",
    "   - Go to [LangSmith Dashboard](https://smith.langchain.com/).\n",
    "\n",
    "2. **Navigate to Your Project:**\n",
    "   - Select the project name you specified in `LANGSMITH_PROJECT` (e.g., `summary_demo`).\n",
    "\n",
    "3. **View Traces:**\n",
    "   - You will see a list of traces for each run of your workflow.\n",
    "   - Click on a trace to view detailed logs, including inputs, outputs, and intermediate steps.\n",
    "\n",
    "4. **Filter and Search:**\n",
    "   - Use filters to search for specific runs, tags, or metadata.\n",
    "\n",
    "\n",
    "---\n",
    "\n",
    " \n",
    "### Summary\n",
    "\n",
    "1. Install the required libraries.\n",
    "2. Set up LangSmith environment variables.\n",
    "3. Use `os.environ` to configure LangSmith in your Python script.\n",
    "4. Run your LangChain workflow and check logs in the LangSmith dashboard.\n",
    "5. Use LangSmith for debugging, monitoring, and performance analysis.\n",
    "---"
   ]
  }
 ],
 "metadata": {
  "kernelspec": {
   "display_name": "Python 3",
   "language": "python",
   "name": "python3"
  },
  "language_info": {
   "codemirror_mode": {
    "name": "ipython",
    "version": 3
   },
   "file_extension": ".py",
   "mimetype": "text/x-python",
   "name": "python",
   "nbconvert_exporter": "python",
   "pygments_lexer": "ipython3",
   "version": "3.12.3"
  }
 },
 "nbformat": 4,
 "nbformat_minor": 2
}
