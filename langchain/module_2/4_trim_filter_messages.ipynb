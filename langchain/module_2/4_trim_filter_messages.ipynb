{
 "cells": [
  {
   "cell_type": "markdown",
   "metadata": {},
   "source": [
    "# Filtering and trimming messages\n",
    "\n",
    "## Review\n",
    "\n",
    "Now, we have a deeper understanding of a few things:\n",
    "\n",
    "* How to customize the graph state schema\n",
    "* How to define custom state reducers\n",
    "* How to use multiple graph state schemas\n",
    "\n",
    "## Goals\n",
    "\n",
    "Now, we can start using these concepts with models in LangGraph!\n",
    "\n",
    "In the next few sessions, we'll build towards a chatbot that has long-term memory.\n",
    "\n",
    "Because our chatbot will use messages, let's first talk a bit more about advanced ways to work with messages in graph state."
   ]
  },
  {
   "cell_type": "code",
   "execution_count": null,
   "metadata": {},
   "outputs": [],
   "source": [
    "%%capture --no-stderr\n",
    "%pip install --quiet -U langchain_core langgraph langchain_google_genai"
   ]
  },
  {
   "cell_type": "code",
   "execution_count": 9,
   "metadata": {},
   "outputs": [
    {
     "name": "stdout",
     "output_type": "stream",
     "text": [
      "API key loaded from.env file.\n"
     ]
    }
   ],
   "source": [
    "import os \n",
    "from dotenv import load_dotenv\n",
    "\n",
    "load_dotenv()\n",
    "\n",
    "GEMINI_API_KEY = os.getenv(\"GEMINI_API_KEY\")\n",
    "\n",
    "if not GEMINI_API_KEY:\n",
    "    raise ValueError(\"GEMINI_API_KEY is not set in the.env file.\")\n",
    "\n",
    "print(\"API key loaded from.env file.\")\n"
   ]
  },
  {
   "cell_type": "code",
   "execution_count": 46,
   "metadata": {},
   "outputs": [
    {
     "name": "stdout",
     "output_type": "stream",
     "text": [
      "==================================\u001b[1m Ai Message \u001b[0m==================================\n",
      "Name: Bot\n",
      "\n",
      "So you said you were researching ocean mammals?\n",
      "================================\u001b[1m Human Message \u001b[0m=================================\n",
      "Name: Lance\n",
      "\n",
      "Yes, I know about whales. But what others should I learn about?\n"
     ]
    }
   ],
   "source": [
    "from pprint import pprint\n",
    "from langchain_core.messages import AIMessage, HumanMessage\n",
    "messages = [AIMessage(f\"So you said you were researching ocean mammals?\", name=\"Bot\")]\n",
    "messages.append(HumanMessage(f\"Yes, I know about whales. But what others should I learn about?\", name=\"Lance\"))\n",
    "\n",
    "for m in messages:\n",
    "    m.pretty_print()"
   ]
  },
  {
   "cell_type": "code",
   "execution_count": 47,
   "metadata": {},
   "outputs": [
    {
     "data": {
      "text/plain": [
       "AIMessage(content='That\\'s great you\\'re interested in ocean mammals beyond whales!  There\\'s a fascinating world of them to explore.  Here are some other groups you should learn about, categorized for easier understanding:\\n\\n**1. Seals, Sea Lions, and Walruses (Pinnipeds):**  These are all closely related, but have key differences:\\n\\n* **Seals (True Seals):** Lack external ear flaps, have smaller front flippers, and typically move on land by wriggling.  Examples include harbor seals, harp seals, and leopard seals.\\n* **Sea Lions:** Have external ear flaps, larger front flippers, and can \"walk\" on land using their flippers. Examples include California sea lions and Steller sea lions.\\n* **Walruses:**  Distinctive for their large tusks and thick blubber.  They are adapted for feeding on benthic (bottom-dwelling) invertebrates.\\n\\n**2. Sirenians (Manatees and Dugongs):**  These are gentle giants, completely aquatic mammals that graze on seagrass.\\n\\n* **Manatees:** Found in warmer, coastal waters of the Americas and the Caribbean.\\n* **Dugongs:** Found in warmer waters of the Indian and Pacific Oceans.\\n\\n**3. Sea Otters:**  The smallest marine mammal, known for their dense fur and use of tools (like rocks) to crack open shellfish.\\n\\n**4. Polar Bears (While technically terrestrial, they are highly reliant on the marine environment):**  These iconic Arctic animals are specialized for hunting seals on sea ice.\\n\\n\\nWhen researching, consider focusing on these aspects for each group:\\n\\n* **Physical characteristics:**  Adaptations for their environment (e.g., blubber for insulation, streamlined bodies for swimming).\\n* **Diet and feeding strategies:**  What they eat and how they obtain their food.\\n* **Social behavior:**  How they interact with each other, whether they are solitary or live in groups.\\n* **Reproduction and life cycle:**  How they reproduce, raise their young, and their lifespan.\\n* **Conservation status:**  Are they endangered or threatened, and what are the threats they face?\\n\\n\\nThis expanded list should give you a great starting point for your research.  Happy learning!\\n', additional_kwargs={}, response_metadata={'prompt_feedback': {'block_reason': 0, 'safety_ratings': []}, 'finish_reason': 'STOP', 'safety_ratings': []}, id='run-67bf9099-ed09-434f-8626-62c1dd996250-0', usage_metadata={'input_tokens': 26, 'output_tokens': 468, 'total_tokens': 494, 'input_token_details': {'cache_read': 0}})"
      ]
     },
     "execution_count": 47,
     "metadata": {},
     "output_type": "execute_result"
    }
   ],
   "source": [
    "from langchain_google_genai import ChatGoogleGenerativeAI\n",
    "llm: ChatGoogleGenerativeAI = ChatGoogleGenerativeAI(  model=\"gemini-1.5-flash\",\n",
    "    api_key=GEMINI_API_KEY,)\n",
    "llm.invoke(messages)"
   ]
  },
  {
   "cell_type": "markdown",
   "metadata": {},
   "source": [
    "We can run our chat model in a simple graph with `MessagesState`.\n"
   ]
  },
  {
   "cell_type": "code",
   "execution_count": 48,
   "metadata": {},
   "outputs": [
    {
     "data": {
      "image/png": "[encoded data removed]",
      "text/plain": [
       "<IPython.core.display.Image object>"
      ]
     },
     "metadata": {},
     "output_type": "display_data"
    }
   ],
   "source": [
    "from IPython.display import Image, display\n",
    "from langgraph.graph import MessagesState\n",
    "from langgraph.graph import StateGraph, START, END\n",
    "from langgraph.graph.state import CompiledStateGraph\n",
    "\n",
    "# Node\n",
    "def chat_model_node(state: MessagesState) -> MessagesState:\n",
    "    return {\"messages\": llm.invoke(state[\"messages\"])}\n",
    "\n",
    "# Build graph\n",
    "builder: StateGraph = StateGraph(MessagesState)\n",
    "builder.add_node(\"chat_model\", chat_model_node)\n",
    "builder.add_edge(START, \"chat_model\")\n",
    "builder.add_edge(\"chat_model\", END)\n",
    "graph: CompiledStateGraph = builder.compile()\n",
    "\n",
    "# View\n",
    "display(Image(graph.get_graph().draw_mermaid_png()))"
   ]
  },
  {
   "cell_type": "code",
   "execution_count": 49,
   "metadata": {},
   "outputs": [
    {
     "name": "stdout",
     "output_type": "stream",
     "text": [
      "==================================\u001b[1m Ai Message \u001b[0m==================================\n",
      "Name: Bot\n",
      "\n",
      "So you said you were researching ocean mammals?\n",
      "================================\u001b[1m Human Message \u001b[0m=================================\n",
      "Name: Lance\n",
      "\n",
      "Yes, I know about whales. But what others should I learn about?\n",
      "==================================\u001b[1m Ai Message \u001b[0m==================================\n",
      "\n",
      "That's a great starting point! Whales are a fascinating group, but the ocean holds a wealth of other incredible mammals.  To suggest further research, let's categorize them:\n",
      "\n",
      "**1.  Carnivora (Meat-Eaters):**\n",
      "\n",
      "* **Seals:**  A diverse group including harbor seals, elephant seals (known for their massive size), harp seals (with their distinctive black and white coats), and many others.  Learn about their adaptations for swimming and hunting, their breeding habits, and the threats they face.\n",
      "* **Sea Lions:**  Distinguished from seals by their external ear flaps and greater agility on land.  California sea lions are a common example, known for their playful behavior.\n",
      "* **Walruses:**  Unique for their tusks and blubber-rich bodies.  Learn about their social structure and their reliance on ice.\n",
      "* **Sea Otters:**  The smallest marine mammal, known for their incredible dexterity and use of tools.  They play a crucial role in maintaining kelp forests.\n",
      "\n",
      "**2. Sirenia (Herbivores):**\n",
      "\n",
      "* **Manatees (Sea Cows):**  Gentle giants that graze on seagrass.  Learn about their slow-moving lifestyle, their vulnerability to human activity, and their importance to their ecosystems.\n",
      "* **Dugongs:**  Close relatives of manatees, found in warmer waters of the Indian and Pacific Oceans.\n",
      "\n",
      "**Consider these research avenues:**\n",
      "\n",
      "* **Adaptations:**  How have these mammals adapted to life in the ocean?  Focus on features like blubber, streamlining, respiration, and sensory systems.\n",
      "* **Behavior:**  Study their social structures, communication methods, hunting strategies, and mating rituals.\n",
      "* **Conservation:**  What are the major threats facing these animals (e.g., pollution, climate change, fishing)?  What conservation efforts are underway?\n",
      "* **Geographic distribution:**  Where do these different species live?  What factors influence their distribution?\n",
      "* **Evolutionary history:**  How did these mammals evolve from land-dwelling ancestors?\n",
      "\n",
      "Remember to use reputable sources for your research, such as scientific journals, conservation organizations' websites, and educational institutions' resources.  Happy researching!\n"
     ]
    }
   ],
   "source": [
    "output = graph.invoke({'messages': messages})\n",
    "for m in output['messages']:\n",
    "    m.pretty_print()"
   ]
  },
  {
   "cell_type": "code",
   "execution_count": 50,
   "metadata": {},
   "outputs": [
    {
     "name": "stdout",
     "output_type": "stream",
     "text": [
      "{'input': {'messages': [AIMessage(content='So you said you were researching ocean mammals?', additional_kwargs={}, response_metadata={}, name='Bot', id='72d3e855-79a4-47ce-ace5-b3ce5087a953'), HumanMessage(content='Yes, I know about whales. But what others should I learn about?', additional_kwargs={}, response_metadata={}, name='Lance', id='fda2faf8-ad26-4c66-871f-34c85b7f1b97')]}}\n",
      "\n",
      "+++++++++++++++++\n",
      "{'input': {'messages': [AIMessage(content='So you said you were researching ocean mammals?', additional_kwargs={}, response_metadata={}, name='Bot', id='72d3e855-79a4-47ce-ace5-b3ce5087a953'), HumanMessage(content='Yes, I know about whales. But what others should I learn about?', additional_kwargs={}, response_metadata={}, name='Lance', id='fda2faf8-ad26-4c66-871f-34c85b7f1b97')]}}\n",
      "\n",
      "+++++++++++++++++\n",
      "{'input': {'messages': [AIMessage(content='So you said you were researching ocean mammals?', additional_kwargs={}, response_metadata={}, name='Bot', id='72d3e855-79a4-47ce-ace5-b3ce5087a953'), HumanMessage(content='Yes, I know about whales. But what others should I learn about?', additional_kwargs={}, response_metadata={}, name='Lance', id='fda2faf8-ad26-4c66-871f-34c85b7f1b97')]}}\n",
      "\n",
      "+++++++++++++++++\n",
      "{'output': {'messages': [AIMessage(content='So you said you were researching ocean mammals?', additional_kwargs={}, response_metadata={}, name='Bot', id='72d3e855-79a4-47ce-ace5-b3ce5087a953'), HumanMessage(content='Yes, I know about whales. But what others should I learn about?', additional_kwargs={}, response_metadata={}, name='Lance', id='fda2faf8-ad26-4c66-871f-34c85b7f1b97')]}, 'input': {'messages': [AIMessage(content='So you said you were researching ocean mammals?', additional_kwargs={}, response_metadata={}, name='Bot', id='72d3e855-79a4-47ce-ace5-b3ce5087a953'), HumanMessage(content='Yes, I know about whales. But what others should I learn about?', additional_kwargs={}, response_metadata={}, name='Lance', id='fda2faf8-ad26-4c66-871f-34c85b7f1b97')]}}\n",
      "\n",
      "+++++++++++++++++\n",
      "{'input': {'messages': [AIMessage(content='So you said you were researching ocean mammals?', additional_kwargs={}, response_metadata={}, name='Bot', id='72d3e855-79a4-47ce-ace5-b3ce5087a953'), HumanMessage(content='Yes, I know about whales. But what others should I learn about?', additional_kwargs={}, response_metadata={}, name='Lance', id='fda2faf8-ad26-4c66-871f-34c85b7f1b97')]}}\n",
      "\n",
      "+++++++++++++++++\n",
      "{'output': {'messages': [AIMessage(content='So you said you were researching ocean mammals?', additional_kwargs={}, response_metadata={}, name='Bot', id='72d3e855-79a4-47ce-ace5-b3ce5087a953'), HumanMessage(content='Yes, I know about whales. But what others should I learn about?', additional_kwargs={}, response_metadata={}, name='Lance', id='fda2faf8-ad26-4c66-871f-34c85b7f1b97')]}, 'input': {'messages': [AIMessage(content='So you said you were researching ocean mammals?', additional_kwargs={}, response_metadata={}, name='Bot', id='72d3e855-79a4-47ce-ace5-b3ce5087a953'), HumanMessage(content='Yes, I know about whales. But what others should I learn about?', additional_kwargs={}, response_metadata={}, name='Lance', id='fda2faf8-ad26-4c66-871f-34c85b7f1b97')]}}\n",
      "\n",
      "+++++++++++++++++\n",
      "{'chunk': {'messages': [AIMessage(content='So you said you were researching ocean mammals?', additional_kwargs={}, response_metadata={}, name='Bot', id='72d3e855-79a4-47ce-ace5-b3ce5087a953'), HumanMessage(content='Yes, I know about whales. But what others should I learn about?', additional_kwargs={}, response_metadata={}, name='Lance', id='fda2faf8-ad26-4c66-871f-34c85b7f1b97')]}}\n",
      "\n",
      "+++++++++++++++++\n",
      "{'output': {'messages': [AIMessage(content='So you said you were researching ocean mammals?', additional_kwargs={}, response_metadata={}, name='Bot', id='72d3e855-79a4-47ce-ace5-b3ce5087a953'), HumanMessage(content='Yes, I know about whales. But what others should I learn about?', additional_kwargs={}, response_metadata={}, name='Lance', id='fda2faf8-ad26-4c66-871f-34c85b7f1b97')]}, 'input': {'messages': [AIMessage(content='So you said you were researching ocean mammals?', additional_kwargs={}, response_metadata={}, name='Bot', id='72d3e855-79a4-47ce-ace5-b3ce5087a953'), HumanMessage(content='Yes, I know about whales. But what others should I learn about?', additional_kwargs={}, response_metadata={}, name='Lance', id='fda2faf8-ad26-4c66-871f-34c85b7f1b97')]}}\n",
      "\n",
      "+++++++++++++++++\n",
      "{'input': {'messages': [AIMessage(content='So you said you were researching ocean mammals?', additional_kwargs={}, response_metadata={}, name='Bot', id='72d3e855-79a4-47ce-ace5-b3ce5087a953'), HumanMessage(content='Yes, I know about whales. But what others should I learn about?', additional_kwargs={}, response_metadata={}, name='Lance', id='fda2faf8-ad26-4c66-871f-34c85b7f1b97')]}}\n",
      "\n",
      "+++++++++++++++++\n",
      "{'input': {'messages': [[AIMessage(content='So you said you were researching ocean mammals?', additional_kwargs={}, response_metadata={}, name='Bot', id='72d3e855-79a4-47ce-ace5-b3ce5087a953'), HumanMessage(content='Yes, I know about whales. But what others should I learn about?', additional_kwargs={}, response_metadata={}, name='Lance', id='fda2faf8-ad26-4c66-871f-34c85b7f1b97')]]}}\n",
      "\n",
      "+++++++++++++++++\n",
      "{'chunk': AIMessageChunk(content='That', additional_kwargs={}, response_metadata={'safety_ratings': []}, id='run-14490790-7f39-4cf7-bbe3-0e35441cf546', usage_metadata={'input_tokens': 26, 'output_tokens': 0, 'total_tokens': 26, 'input_token_details': {'cache_read': 0}})}\n",
      "\n",
      "+++++++++++++++++\n",
      "{'chunk': AIMessageChunk(content=\"'s great you're familiar with whales!  There's a whole\", additional_kwargs={}, response_metadata={'safety_ratings': []}, id='run-14490790-7f39-4cf7-bbe3-0e35441cf546', usage_metadata={'input_tokens': 0, 'output_tokens': 0, 'total_tokens': 0, 'input_token_details': {'cache_read': 0}})}\n",
      "\n",
      "+++++++++++++++++\n",
      "{'chunk': AIMessageChunk(content=' fascinating world of other ocean mammals beyond them.  To suggest some others to learn', additional_kwargs={}, response_metadata={'safety_ratings': []}, id='run-14490790-7f39-4cf7-bbe3-0e35441cf546', usage_metadata={'input_tokens': 0, 'output_tokens': 0, 'total_tokens': 0, 'input_token_details': {'cache_read': 0}})}\n",
      "\n",
      "+++++++++++++++++\n",
      "{'chunk': AIMessageChunk(content=' about, I need a little more direction.  What aspects of ocean mammals interest you most?  For example, are you interested in:\\n\\n* **Specific', additional_kwargs={}, response_metadata={'safety_ratings': []}, id='run-14490790-7f39-4cf7-bbe3-0e35441cf546', usage_metadata={'input_tokens': 0, 'output_tokens': 0, 'total_tokens': 0, 'input_token_details': {'cache_read': 0}})}\n",
      "\n",
      "+++++++++++++++++\n",
      "{'chunk': AIMessageChunk(content=' habitats?** (e.g., Arctic mammals, deep-sea mammals, coastal mammals)\\n* **Specific behaviors?** (e.g., migration', additional_kwargs={}, response_metadata={'safety_ratings': []}, id='run-14490790-7f39-4cf7-bbe3-0e35441cf546', usage_metadata={'input_tokens': 0, 'output_tokens': 0, 'total_tokens': 0, 'input_token_details': {'cache_read': 0}})}\n",
      "\n",
      "+++++++++++++++++\n",
      "{'chunk': AIMessageChunk(content=' patterns, social structures, hunting techniques)\\n* **Specific physical characteristics?** (e.g., adaptations for diving, echolocation, blubber)\\n* **Conservation status?** (e.g., endangered species, threats to', additional_kwargs={}, response_metadata={'safety_ratings': []}, id='run-14490790-7f39-4cf7-bbe3-0e35441cf546', usage_metadata={'input_tokens': 0, 'output_tokens': 0, 'total_tokens': 0, 'input_token_details': {'cache_read': 0}})}\n",
      "\n",
      "+++++++++++++++++\n",
      "{'chunk': AIMessageChunk(content=' their populations)\\n\\nOnce I know what aspects interest you, I can give you a more tailored list.\\n\\nHowever, here are some groups to get you started, regardless of your specific interests:\\n\\n* **Dolphins and Porpoises', additional_kwargs={}, response_metadata={'safety_ratings': []}, id='run-14490790-7f39-4cf7-bbe3-0e35441cf546', usage_metadata={'input_tokens': 0, 'output_tokens': 0, 'total_tokens': 0, 'input_token_details': {'cache_read': 0}})}\n",
      "\n",
      "+++++++++++++++++\n",
      "{'chunk': AIMessageChunk(content=\":**  Highly intelligent and diverse group with varying social structures and hunting strategies.\\n* **Seals and Sea Lions:**  Pinnipeds (fin-footed mammals) with different adaptations for land and water, including various species like harbor seals, elephant seals, and sea lions.  There's a lot of variety\", additional_kwargs={}, response_metadata={'safety_ratings': []}, id='run-14490790-7f39-4cf7-bbe3-0e35441cf546', usage_metadata={'input_tokens': 0, 'output_tokens': 0, 'total_tokens': 0, 'input_token_details': {'cache_read': 0}})}\n",
      "\n",
      "+++++++++++++++++\n",
      "{'chunk': AIMessageChunk(content=' within this group.\\n* **Sea Otters:**  The smallest marine mammal, known for their use of tools and high metabolisms.\\n* **Manatees and Dugongs:**  Gentle giants known as \"sea cows,\" herbivores found in warmer waters.\\n* **Polar Bears:** While technically found on', additional_kwargs={}, response_metadata={'safety_ratings': []}, id='run-14490790-7f39-4cf7-bbe3-0e35441cf546', usage_metadata={'input_tokens': 0, 'output_tokens': 0, 'total_tokens': 0, 'input_token_details': {'cache_read': 0}})}\n",
      "\n",
      "+++++++++++++++++\n",
      "{'chunk': AIMessageChunk(content=' land and ice, they are heavily reliant on the ocean for hunting and survival.\\n\\n\\nLearning about these groups will give you a broad overview of ocean mammal diversity.  Tell me more about your interests, and we can narrow it down further!\\n', additional_kwargs={}, response_metadata={'finish_reason': 'STOP', 'safety_ratings': []}, id='run-14490790-7f39-4cf7-bbe3-0e35441cf546', usage_metadata={'input_tokens': 0, 'output_tokens': 370, 'total_tokens': 370, 'input_token_details': {'cache_read': 0}})}\n",
      "\n",
      "+++++++++++++++++\n",
      "{'output': AIMessage(content='That\\'s great you\\'re familiar with whales!  There\\'s a whole fascinating world of other ocean mammals beyond them.  To suggest some others to learn about, I need a little more direction.  What aspects of ocean mammals interest you most?  For example, are you interested in:\\n\\n* **Specific habitats?** (e.g., Arctic mammals, deep-sea mammals, coastal mammals)\\n* **Specific behaviors?** (e.g., migration patterns, social structures, hunting techniques)\\n* **Specific physical characteristics?** (e.g., adaptations for diving, echolocation, blubber)\\n* **Conservation status?** (e.g., endangered species, threats to their populations)\\n\\nOnce I know what aspects interest you, I can give you a more tailored list.\\n\\nHowever, here are some groups to get you started, regardless of your specific interests:\\n\\n* **Dolphins and Porpoises:**  Highly intelligent and diverse group with varying social structures and hunting strategies.\\n* **Seals and Sea Lions:**  Pinnipeds (fin-footed mammals) with different adaptations for land and water, including various species like harbor seals, elephant seals, and sea lions.  There\\'s a lot of variety within this group.\\n* **Sea Otters:**  The smallest marine mammal, known for their use of tools and high metabolisms.\\n* **Manatees and Dugongs:**  Gentle giants known as \"sea cows,\" herbivores found in warmer waters.\\n* **Polar Bears:** While technically found on land and ice, they are heavily reliant on the ocean for hunting and survival.\\n\\n\\nLearning about these groups will give you a broad overview of ocean mammal diversity.  Tell me more about your interests, and we can narrow it down further!\\n', additional_kwargs={}, response_metadata={'safety_ratings': [], 'finish_reason': 'STOP'}, id='run-14490790-7f39-4cf7-bbe3-0e35441cf546', usage_metadata={'input_tokens': 26, 'output_tokens': 370, 'total_tokens': 396, 'input_token_details': {'cache_read': 0}}), 'input': {'messages': [[AIMessage(content='So you said you were researching ocean mammals?', additional_kwargs={}, response_metadata={}, name='Bot', id='72d3e855-79a4-47ce-ace5-b3ce5087a953'), HumanMessage(content='Yes, I know about whales. But what others should I learn about?', additional_kwargs={}, response_metadata={}, name='Lance', id='fda2faf8-ad26-4c66-871f-34c85b7f1b97')]]}}\n",
      "\n",
      "+++++++++++++++++\n",
      "{'input': {'messages': AIMessage(content='That\\'s great you\\'re familiar with whales!  There\\'s a whole fascinating world of other ocean mammals beyond them.  To suggest some others to learn about, I need a little more direction.  What aspects of ocean mammals interest you most?  For example, are you interested in:\\n\\n* **Specific habitats?** (e.g., Arctic mammals, deep-sea mammals, coastal mammals)\\n* **Specific behaviors?** (e.g., migration patterns, social structures, hunting techniques)\\n* **Specific physical characteristics?** (e.g., adaptations for diving, echolocation, blubber)\\n* **Conservation status?** (e.g., endangered species, threats to their populations)\\n\\nOnce I know what aspects interest you, I can give you a more tailored list.\\n\\nHowever, here are some groups to get you started, regardless of your specific interests:\\n\\n* **Dolphins and Porpoises:**  Highly intelligent and diverse group with varying social structures and hunting strategies.\\n* **Seals and Sea Lions:**  Pinnipeds (fin-footed mammals) with different adaptations for land and water, including various species like harbor seals, elephant seals, and sea lions.  There\\'s a lot of variety within this group.\\n* **Sea Otters:**  The smallest marine mammal, known for their use of tools and high metabolisms.\\n* **Manatees and Dugongs:**  Gentle giants known as \"sea cows,\" herbivores found in warmer waters.\\n* **Polar Bears:** While technically found on land and ice, they are heavily reliant on the ocean for hunting and survival.\\n\\n\\nLearning about these groups will give you a broad overview of ocean mammal diversity.  Tell me more about your interests, and we can narrow it down further!\\n', additional_kwargs={}, response_metadata={'safety_ratings': [], 'finish_reason': 'STOP'}, id='run-14490790-7f39-4cf7-bbe3-0e35441cf546', usage_metadata={'input_tokens': 26, 'output_tokens': 370, 'total_tokens': 396, 'input_token_details': {'cache_read': 0}})}}\n",
      "\n",
      "+++++++++++++++++\n",
      "{'output': {'messages': AIMessage(content='That\\'s great you\\'re familiar with whales!  There\\'s a whole fascinating world of other ocean mammals beyond them.  To suggest some others to learn about, I need a little more direction.  What aspects of ocean mammals interest you most?  For example, are you interested in:\\n\\n* **Specific habitats?** (e.g., Arctic mammals, deep-sea mammals, coastal mammals)\\n* **Specific behaviors?** (e.g., migration patterns, social structures, hunting techniques)\\n* **Specific physical characteristics?** (e.g., adaptations for diving, echolocation, blubber)\\n* **Conservation status?** (e.g., endangered species, threats to their populations)\\n\\nOnce I know what aspects interest you, I can give you a more tailored list.\\n\\nHowever, here are some groups to get you started, regardless of your specific interests:\\n\\n* **Dolphins and Porpoises:**  Highly intelligent and diverse group with varying social structures and hunting strategies.\\n* **Seals and Sea Lions:**  Pinnipeds (fin-footed mammals) with different adaptations for land and water, including various species like harbor seals, elephant seals, and sea lions.  There\\'s a lot of variety within this group.\\n* **Sea Otters:**  The smallest marine mammal, known for their use of tools and high metabolisms.\\n* **Manatees and Dugongs:**  Gentle giants known as \"sea cows,\" herbivores found in warmer waters.\\n* **Polar Bears:** While technically found on land and ice, they are heavily reliant on the ocean for hunting and survival.\\n\\n\\nLearning about these groups will give you a broad overview of ocean mammal diversity.  Tell me more about your interests, and we can narrow it down further!\\n', additional_kwargs={}, response_metadata={'safety_ratings': [], 'finish_reason': 'STOP'}, id='run-14490790-7f39-4cf7-bbe3-0e35441cf546', usage_metadata={'input_tokens': 26, 'output_tokens': 370, 'total_tokens': 396, 'input_token_details': {'cache_read': 0}})}, 'input': {'messages': AIMessage(content='That\\'s great you\\'re familiar with whales!  There\\'s a whole fascinating world of other ocean mammals beyond them.  To suggest some others to learn about, I need a little more direction.  What aspects of ocean mammals interest you most?  For example, are you interested in:\\n\\n* **Specific habitats?** (e.g., Arctic mammals, deep-sea mammals, coastal mammals)\\n* **Specific behaviors?** (e.g., migration patterns, social structures, hunting techniques)\\n* **Specific physical characteristics?** (e.g., adaptations for diving, echolocation, blubber)\\n* **Conservation status?** (e.g., endangered species, threats to their populations)\\n\\nOnce I know what aspects interest you, I can give you a more tailored list.\\n\\nHowever, here are some groups to get you started, regardless of your specific interests:\\n\\n* **Dolphins and Porpoises:**  Highly intelligent and diverse group with varying social structures and hunting strategies.\\n* **Seals and Sea Lions:**  Pinnipeds (fin-footed mammals) with different adaptations for land and water, including various species like harbor seals, elephant seals, and sea lions.  There\\'s a lot of variety within this group.\\n* **Sea Otters:**  The smallest marine mammal, known for their use of tools and high metabolisms.\\n* **Manatees and Dugongs:**  Gentle giants known as \"sea cows,\" herbivores found in warmer waters.\\n* **Polar Bears:** While technically found on land and ice, they are heavily reliant on the ocean for hunting and survival.\\n\\n\\nLearning about these groups will give you a broad overview of ocean mammal diversity.  Tell me more about your interests, and we can narrow it down further!\\n', additional_kwargs={}, response_metadata={'safety_ratings': [], 'finish_reason': 'STOP'}, id='run-14490790-7f39-4cf7-bbe3-0e35441cf546', usage_metadata={'input_tokens': 26, 'output_tokens': 370, 'total_tokens': 396, 'input_token_details': {'cache_read': 0}})}}\n",
      "\n",
      "+++++++++++++++++\n",
      "{'chunk': {'messages': AIMessage(content='That\\'s great you\\'re familiar with whales!  There\\'s a whole fascinating world of other ocean mammals beyond them.  To suggest some others to learn about, I need a little more direction.  What aspects of ocean mammals interest you most?  For example, are you interested in:\\n\\n* **Specific habitats?** (e.g., Arctic mammals, deep-sea mammals, coastal mammals)\\n* **Specific behaviors?** (e.g., migration patterns, social structures, hunting techniques)\\n* **Specific physical characteristics?** (e.g., adaptations for diving, echolocation, blubber)\\n* **Conservation status?** (e.g., endangered species, threats to their populations)\\n\\nOnce I know what aspects interest you, I can give you a more tailored list.\\n\\nHowever, here are some groups to get you started, regardless of your specific interests:\\n\\n* **Dolphins and Porpoises:**  Highly intelligent and diverse group with varying social structures and hunting strategies.\\n* **Seals and Sea Lions:**  Pinnipeds (fin-footed mammals) with different adaptations for land and water, including various species like harbor seals, elephant seals, and sea lions.  There\\'s a lot of variety within this group.\\n* **Sea Otters:**  The smallest marine mammal, known for their use of tools and high metabolisms.\\n* **Manatees and Dugongs:**  Gentle giants known as \"sea cows,\" herbivores found in warmer waters.\\n* **Polar Bears:** While technically found on land and ice, they are heavily reliant on the ocean for hunting and survival.\\n\\n\\nLearning about these groups will give you a broad overview of ocean mammal diversity.  Tell me more about your interests, and we can narrow it down further!\\n', additional_kwargs={}, response_metadata={'safety_ratings': [], 'finish_reason': 'STOP'}, id='run-14490790-7f39-4cf7-bbe3-0e35441cf546', usage_metadata={'input_tokens': 26, 'output_tokens': 370, 'total_tokens': 396, 'input_token_details': {'cache_read': 0}})}}\n",
      "\n",
      "+++++++++++++++++\n",
      "{'output': {'messages': AIMessage(content='That\\'s great you\\'re familiar with whales!  There\\'s a whole fascinating world of other ocean mammals beyond them.  To suggest some others to learn about, I need a little more direction.  What aspects of ocean mammals interest you most?  For example, are you interested in:\\n\\n* **Specific habitats?** (e.g., Arctic mammals, deep-sea mammals, coastal mammals)\\n* **Specific behaviors?** (e.g., migration patterns, social structures, hunting techniques)\\n* **Specific physical characteristics?** (e.g., adaptations for diving, echolocation, blubber)\\n* **Conservation status?** (e.g., endangered species, threats to their populations)\\n\\nOnce I know what aspects interest you, I can give you a more tailored list.\\n\\nHowever, here are some groups to get you started, regardless of your specific interests:\\n\\n* **Dolphins and Porpoises:**  Highly intelligent and diverse group with varying social structures and hunting strategies.\\n* **Seals and Sea Lions:**  Pinnipeds (fin-footed mammals) with different adaptations for land and water, including various species like harbor seals, elephant seals, and sea lions.  There\\'s a lot of variety within this group.\\n* **Sea Otters:**  The smallest marine mammal, known for their use of tools and high metabolisms.\\n* **Manatees and Dugongs:**  Gentle giants known as \"sea cows,\" herbivores found in warmer waters.\\n* **Polar Bears:** While technically found on land and ice, they are heavily reliant on the ocean for hunting and survival.\\n\\n\\nLearning about these groups will give you a broad overview of ocean mammal diversity.  Tell me more about your interests, and we can narrow it down further!\\n', additional_kwargs={}, response_metadata={'safety_ratings': [], 'finish_reason': 'STOP'}, id='run-14490790-7f39-4cf7-bbe3-0e35441cf546', usage_metadata={'input_tokens': 26, 'output_tokens': 370, 'total_tokens': 396, 'input_token_details': {'cache_read': 0}})}, 'input': {'messages': [AIMessage(content='So you said you were researching ocean mammals?', additional_kwargs={}, response_metadata={}, name='Bot', id='72d3e855-79a4-47ce-ace5-b3ce5087a953'), HumanMessage(content='Yes, I know about whales. But what others should I learn about?', additional_kwargs={}, response_metadata={}, name='Lance', id='fda2faf8-ad26-4c66-871f-34c85b7f1b97')]}}\n",
      "\n",
      "+++++++++++++++++\n",
      "{'chunk': {'chat_model': {'messages': AIMessage(content='That\\'s great you\\'re familiar with whales!  There\\'s a whole fascinating world of other ocean mammals beyond them.  To suggest some others to learn about, I need a little more direction.  What aspects of ocean mammals interest you most?  For example, are you interested in:\\n\\n* **Specific habitats?** (e.g., Arctic mammals, deep-sea mammals, coastal mammals)\\n* **Specific behaviors?** (e.g., migration patterns, social structures, hunting techniques)\\n* **Specific physical characteristics?** (e.g., adaptations for diving, echolocation, blubber)\\n* **Conservation status?** (e.g., endangered species, threats to their populations)\\n\\nOnce I know what aspects interest you, I can give you a more tailored list.\\n\\nHowever, here are some groups to get you started, regardless of your specific interests:\\n\\n* **Dolphins and Porpoises:**  Highly intelligent and diverse group with varying social structures and hunting strategies.\\n* **Seals and Sea Lions:**  Pinnipeds (fin-footed mammals) with different adaptations for land and water, including various species like harbor seals, elephant seals, and sea lions.  There\\'s a lot of variety within this group.\\n* **Sea Otters:**  The smallest marine mammal, known for their use of tools and high metabolisms.\\n* **Manatees and Dugongs:**  Gentle giants known as \"sea cows,\" herbivores found in warmer waters.\\n* **Polar Bears:** While technically found on land and ice, they are heavily reliant on the ocean for hunting and survival.\\n\\n\\nLearning about these groups will give you a broad overview of ocean mammal diversity.  Tell me more about your interests, and we can narrow it down further!\\n', additional_kwargs={}, response_metadata={'safety_ratings': [], 'finish_reason': 'STOP'}, id='run-14490790-7f39-4cf7-bbe3-0e35441cf546', usage_metadata={'input_tokens': 26, 'output_tokens': 370, 'total_tokens': 396, 'input_token_details': {'cache_read': 0}})}}}\n",
      "\n",
      "+++++++++++++++++\n",
      "{'output': {'messages': [AIMessage(content='So you said you were researching ocean mammals?', additional_kwargs={}, response_metadata={}, name='Bot', id='72d3e855-79a4-47ce-ace5-b3ce5087a953'), HumanMessage(content='Yes, I know about whales. But what others should I learn about?', additional_kwargs={}, response_metadata={}, name='Lance', id='fda2faf8-ad26-4c66-871f-34c85b7f1b97'), AIMessage(content='That\\'s great you\\'re familiar with whales!  There\\'s a whole fascinating world of other ocean mammals beyond them.  To suggest some others to learn about, I need a little more direction.  What aspects of ocean mammals interest you most?  For example, are you interested in:\\n\\n* **Specific habitats?** (e.g., Arctic mammals, deep-sea mammals, coastal mammals)\\n* **Specific behaviors?** (e.g., migration patterns, social structures, hunting techniques)\\n* **Specific physical characteristics?** (e.g., adaptations for diving, echolocation, blubber)\\n* **Conservation status?** (e.g., endangered species, threats to their populations)\\n\\nOnce I know what aspects interest you, I can give you a more tailored list.\\n\\nHowever, here are some groups to get you started, regardless of your specific interests:\\n\\n* **Dolphins and Porpoises:**  Highly intelligent and diverse group with varying social structures and hunting strategies.\\n* **Seals and Sea Lions:**  Pinnipeds (fin-footed mammals) with different adaptations for land and water, including various species like harbor seals, elephant seals, and sea lions.  There\\'s a lot of variety within this group.\\n* **Sea Otters:**  The smallest marine mammal, known for their use of tools and high metabolisms.\\n* **Manatees and Dugongs:**  Gentle giants known as \"sea cows,\" herbivores found in warmer waters.\\n* **Polar Bears:** While technically found on land and ice, they are heavily reliant on the ocean for hunting and survival.\\n\\n\\nLearning about these groups will give you a broad overview of ocean mammal diversity.  Tell me more about your interests, and we can narrow it down further!\\n', additional_kwargs={}, response_metadata={'safety_ratings': [], 'finish_reason': 'STOP'}, id='run-14490790-7f39-4cf7-bbe3-0e35441cf546', usage_metadata={'input_tokens': 26, 'output_tokens': 370, 'total_tokens': 396, 'input_token_details': {'cache_read': 0}})]}}\n",
      "\n",
      "+++++++++++++++++\n"
     ]
    }
   ],
   "source": [
    "async for i in graph.astream_events({'messages': messages},version='v2'):\n",
    "    print(i['data'])\n",
    "    print(\"\\n+++++++++++++++++\")"
   ]
  },
  {
   "cell_type": "code",
   "execution_count": 51,
   "metadata": {},
   "outputs": [
    {
     "name": "stdout",
     "output_type": "stream",
     "text": [
      "{'messages': [AIMessage(content='So you said you were researching ocean mammals?', additional_kwargs={}, response_metadata={}, name='Bot', id='72d3e855-79a4-47ce-ace5-b3ce5087a953'), HumanMessage(content='Yes, I know about whales. But what others should I learn about?', additional_kwargs={}, response_metadata={}, name='Lance', id='fda2faf8-ad26-4c66-871f-34c85b7f1b97')]}\n",
      "\n",
      "+++++++++++++++++\n",
      "{'messages': [AIMessage(content='So you said you were researching ocean mammals?', additional_kwargs={}, response_metadata={}, name='Bot', id='72d3e855-79a4-47ce-ace5-b3ce5087a953'), HumanMessage(content='Yes, I know about whales. But what others should I learn about?', additional_kwargs={}, response_metadata={}, name='Lance', id='fda2faf8-ad26-4c66-871f-34c85b7f1b97')]}\n",
      "\n",
      "+++++++++++++++++\n",
      "{'messages': [AIMessage(content='So you said you were researching ocean mammals?', additional_kwargs={}, response_metadata={}, name='Bot', id='72d3e855-79a4-47ce-ace5-b3ce5087a953'), HumanMessage(content='Yes, I know about whales. But what others should I learn about?', additional_kwargs={}, response_metadata={}, name='Lance', id='fda2faf8-ad26-4c66-871f-34c85b7f1b97')]}\n",
      "\n",
      "+++++++++++++++++\n",
      "content=\"That's great you're interested in ocean mammals!  Whales are a huge group, but there's a whole fascinating world beyond them. Here are some other groups of ocean mammals you should learn about:\\n\\n**1. Seals:**  This is a broad category encompassing several families with distinct characteristics:\\n\\n* **True Seals (Phocidae):** Lack external ear flaps, have streamlined bodies for swimming, and use their rear flippers for propulsion. Examples include harbor seals, elephant seals, leopard seals, and Weddell seals.\\n* **Eared Seals (Otariidae):** Possess external ear flaps, use their foreflippers for propulsion, and are generally more agile on land.  Examples include sea lions, fur seals, and Steller sea lions.\\n\\n**2. Sea Lions & Fur Seals (Otariidae):**  While mentioned above as a sub-group of seals, they deserve their own mention due to their significant differences from true seals and their diverse species.\\n\\n**3. Sea Otters (Mustelidae):**  These are the smallest marine mammals and are known for their dense fur, use of tools (rocks to crack open shellfish), and playful nature. They're the only marine mammal that relies on fur for insulation, rather than blubber.\\n\\n**4. Polar Bears (Ursidae):** While technically not entirely marine, they are highly adapted to Arctic environments and spend a significant portion of their lives on sea ice hunting seals.  They are fascinating in their own right.\\n\\n**5. Sirenians (Dugongidae & Trichechidae):**  These are gentle giants that are entirely aquatic.  The group includes:\\n\\n* **Manatees:** Found in warmer coastal waters of the Americas, Africa, and the Caribbean.\\n* **Dugongs:** Found in warm coastal waters of the Indian and western Pacific Oceans.  They are closely related to manatees but have distinct physical features.\\n\\n**6. Walruses (Odobenidae):**  These large pinnipeds are characterized by their prominent tusks and thick blubber layer. They are found in the Arctic.\\n\\n\\nWhen researching, consider focusing on these aspects for each group:\\n\\n* **Physical characteristics:**  Size, shape, adaptations for aquatic life, etc.\\n* **Habitat and distribution:** Where they live and what environments they prefer.\\n* **Diet and feeding strategies:** How they obtain food and what they eat.\\n* **Social behavior:**  Do they live alone, in pairs, or in large groups?\\n* **Reproduction and life cycle:**  How they reproduce, raise their young, and their lifespan.\\n* **Conservation status:**  Are they threatened or endangered, and what are the threats they face?\\n\\n\\nThis will give you a comprehensive understanding of the diverse world of ocean mammals beyond whales.  Happy researching!\\n\" additional_kwargs={} response_metadata={'safety_ratings': [], 'finish_reason': 'STOP'} id='run-d1671cbd-22c5-40b5-be98-b0f59a2c52c2' usage_metadata={'input_tokens': 26, 'output_tokens': 588, 'total_tokens': 614, 'input_token_details': {'cache_read': 0}}\n",
      "\n",
      "+++++++++++++++++\n",
      "{'messages': AIMessage(content=\"That's great you're interested in ocean mammals!  Whales are a huge group, but there's a whole fascinating world beyond them. Here are some other groups of ocean mammals you should learn about:\\n\\n**1. Seals:**  This is a broad category encompassing several families with distinct characteristics:\\n\\n* **True Seals (Phocidae):** Lack external ear flaps, have streamlined bodies for swimming, and use their rear flippers for propulsion. Examples include harbor seals, elephant seals, leopard seals, and Weddell seals.\\n* **Eared Seals (Otariidae):** Possess external ear flaps, use their foreflippers for propulsion, and are generally more agile on land.  Examples include sea lions, fur seals, and Steller sea lions.\\n\\n**2. Sea Lions & Fur Seals (Otariidae):**  While mentioned above as a sub-group of seals, they deserve their own mention due to their significant differences from true seals and their diverse species.\\n\\n**3. Sea Otters (Mustelidae):**  These are the smallest marine mammals and are known for their dense fur, use of tools (rocks to crack open shellfish), and playful nature. They're the only marine mammal that relies on fur for insulation, rather than blubber.\\n\\n**4. Polar Bears (Ursidae):** While technically not entirely marine, they are highly adapted to Arctic environments and spend a significant portion of their lives on sea ice hunting seals.  They are fascinating in their own right.\\n\\n**5. Sirenians (Dugongidae & Trichechidae):**  These are gentle giants that are entirely aquatic.  The group includes:\\n\\n* **Manatees:** Found in warmer coastal waters of the Americas, Africa, and the Caribbean.\\n* **Dugongs:** Found in warm coastal waters of the Indian and western Pacific Oceans.  They are closely related to manatees but have distinct physical features.\\n\\n**6. Walruses (Odobenidae):**  These large pinnipeds are characterized by their prominent tusks and thick blubber layer. They are found in the Arctic.\\n\\n\\nWhen researching, consider focusing on these aspects for each group:\\n\\n* **Physical characteristics:**  Size, shape, adaptations for aquatic life, etc.\\n* **Habitat and distribution:** Where they live and what environments they prefer.\\n* **Diet and feeding strategies:** How they obtain food and what they eat.\\n* **Social behavior:**  Do they live alone, in pairs, or in large groups?\\n* **Reproduction and life cycle:**  How they reproduce, raise their young, and their lifespan.\\n* **Conservation status:**  Are they threatened or endangered, and what are the threats they face?\\n\\n\\nThis will give you a comprehensive understanding of the diverse world of ocean mammals beyond whales.  Happy researching!\\n\", additional_kwargs={}, response_metadata={'safety_ratings': [], 'finish_reason': 'STOP'}, id='run-d1671cbd-22c5-40b5-be98-b0f59a2c52c2', usage_metadata={'input_tokens': 26, 'output_tokens': 588, 'total_tokens': 614, 'input_token_details': {'cache_read': 0}})}\n",
      "\n",
      "+++++++++++++++++\n",
      "{'messages': AIMessage(content=\"That's great you're interested in ocean mammals!  Whales are a huge group, but there's a whole fascinating world beyond them. Here are some other groups of ocean mammals you should learn about:\\n\\n**1. Seals:**  This is a broad category encompassing several families with distinct characteristics:\\n\\n* **True Seals (Phocidae):** Lack external ear flaps, have streamlined bodies for swimming, and use their rear flippers for propulsion. Examples include harbor seals, elephant seals, leopard seals, and Weddell seals.\\n* **Eared Seals (Otariidae):** Possess external ear flaps, use their foreflippers for propulsion, and are generally more agile on land.  Examples include sea lions, fur seals, and Steller sea lions.\\n\\n**2. Sea Lions & Fur Seals (Otariidae):**  While mentioned above as a sub-group of seals, they deserve their own mention due to their significant differences from true seals and their diverse species.\\n\\n**3. Sea Otters (Mustelidae):**  These are the smallest marine mammals and are known for their dense fur, use of tools (rocks to crack open shellfish), and playful nature. They're the only marine mammal that relies on fur for insulation, rather than blubber.\\n\\n**4. Polar Bears (Ursidae):** While technically not entirely marine, they are highly adapted to Arctic environments and spend a significant portion of their lives on sea ice hunting seals.  They are fascinating in their own right.\\n\\n**5. Sirenians (Dugongidae & Trichechidae):**  These are gentle giants that are entirely aquatic.  The group includes:\\n\\n* **Manatees:** Found in warmer coastal waters of the Americas, Africa, and the Caribbean.\\n* **Dugongs:** Found in warm coastal waters of the Indian and western Pacific Oceans.  They are closely related to manatees but have distinct physical features.\\n\\n**6. Walruses (Odobenidae):**  These large pinnipeds are characterized by their prominent tusks and thick blubber layer. They are found in the Arctic.\\n\\n\\nWhen researching, consider focusing on these aspects for each group:\\n\\n* **Physical characteristics:**  Size, shape, adaptations for aquatic life, etc.\\n* **Habitat and distribution:** Where they live and what environments they prefer.\\n* **Diet and feeding strategies:** How they obtain food and what they eat.\\n* **Social behavior:**  Do they live alone, in pairs, or in large groups?\\n* **Reproduction and life cycle:**  How they reproduce, raise their young, and their lifespan.\\n* **Conservation status:**  Are they threatened or endangered, and what are the threats they face?\\n\\n\\nThis will give you a comprehensive understanding of the diverse world of ocean mammals beyond whales.  Happy researching!\\n\", additional_kwargs={}, response_metadata={'safety_ratings': [], 'finish_reason': 'STOP'}, id='run-d1671cbd-22c5-40b5-be98-b0f59a2c52c2', usage_metadata={'input_tokens': 26, 'output_tokens': 588, 'total_tokens': 614, 'input_token_details': {'cache_read': 0}})}\n",
      "\n",
      "+++++++++++++++++\n",
      "{'messages': [AIMessage(content='So you said you were researching ocean mammals?', additional_kwargs={}, response_metadata={}, name='Bot', id='72d3e855-79a4-47ce-ace5-b3ce5087a953'), HumanMessage(content='Yes, I know about whales. But what others should I learn about?', additional_kwargs={}, response_metadata={}, name='Lance', id='fda2faf8-ad26-4c66-871f-34c85b7f1b97'), AIMessage(content=\"That's great you're interested in ocean mammals!  Whales are a huge group, but there's a whole fascinating world beyond them. Here are some other groups of ocean mammals you should learn about:\\n\\n**1. Seals:**  This is a broad category encompassing several families with distinct characteristics:\\n\\n* **True Seals (Phocidae):** Lack external ear flaps, have streamlined bodies for swimming, and use their rear flippers for propulsion. Examples include harbor seals, elephant seals, leopard seals, and Weddell seals.\\n* **Eared Seals (Otariidae):** Possess external ear flaps, use their foreflippers for propulsion, and are generally more agile on land.  Examples include sea lions, fur seals, and Steller sea lions.\\n\\n**2. Sea Lions & Fur Seals (Otariidae):**  While mentioned above as a sub-group of seals, they deserve their own mention due to their significant differences from true seals and their diverse species.\\n\\n**3. Sea Otters (Mustelidae):**  These are the smallest marine mammals and are known for their dense fur, use of tools (rocks to crack open shellfish), and playful nature. They're the only marine mammal that relies on fur for insulation, rather than blubber.\\n\\n**4. Polar Bears (Ursidae):** While technically not entirely marine, they are highly adapted to Arctic environments and spend a significant portion of their lives on sea ice hunting seals.  They are fascinating in their own right.\\n\\n**5. Sirenians (Dugongidae & Trichechidae):**  These are gentle giants that are entirely aquatic.  The group includes:\\n\\n* **Manatees:** Found in warmer coastal waters of the Americas, Africa, and the Caribbean.\\n* **Dugongs:** Found in warm coastal waters of the Indian and western Pacific Oceans.  They are closely related to manatees but have distinct physical features.\\n\\n**6. Walruses (Odobenidae):**  These large pinnipeds are characterized by their prominent tusks and thick blubber layer. They are found in the Arctic.\\n\\n\\nWhen researching, consider focusing on these aspects for each group:\\n\\n* **Physical characteristics:**  Size, shape, adaptations for aquatic life, etc.\\n* **Habitat and distribution:** Where they live and what environments they prefer.\\n* **Diet and feeding strategies:** How they obtain food and what they eat.\\n* **Social behavior:**  Do they live alone, in pairs, or in large groups?\\n* **Reproduction and life cycle:**  How they reproduce, raise their young, and their lifespan.\\n* **Conservation status:**  Are they threatened or endangered, and what are the threats they face?\\n\\n\\nThis will give you a comprehensive understanding of the diverse world of ocean mammals beyond whales.  Happy researching!\\n\", additional_kwargs={}, response_metadata={'safety_ratings': [], 'finish_reason': 'STOP'}, id='run-d1671cbd-22c5-40b5-be98-b0f59a2c52c2', usage_metadata={'input_tokens': 26, 'output_tokens': 588, 'total_tokens': 614, 'input_token_details': {'cache_read': 0}})]}\n",
      "\n",
      "+++++++++++++++++\n"
     ]
    }
   ],
   "source": [
    "async for i in graph.astream_events({'messages': messages}, version='v2'):\n",
    "    if 'output' in i['data']:\n",
    "        print(i['data']['output'])\n",
    "        print(\"\\n+++++++++++++++++\")"
   ]
  },
  {
   "cell_type": "code",
   "execution_count": 52,
   "metadata": {},
   "outputs": [
    {
     "name": "stdout",
     "output_type": "stream",
     "text": [
      "[AIMessage(content='So you said you were researching ocean mammals?', additional_kwargs={}, response_metadata={}, name='Bot', id='72d3e855-79a4-47ce-ace5-b3ce5087a953'), HumanMessage(content='Yes, I know about whales. But what others should I learn about?', additional_kwargs={}, response_metadata={}, name='Lance', id='fda2faf8-ad26-4c66-871f-34c85b7f1b97')]\n",
      "\n",
      "+++++++++++++++++\n",
      "[AIMessage(content='So you said you were researching ocean mammals?', additional_kwargs={}, response_metadata={}, name='Bot', id='72d3e855-79a4-47ce-ace5-b3ce5087a953'), HumanMessage(content='Yes, I know about whales. But what others should I learn about?', additional_kwargs={}, response_metadata={}, name='Lance', id='fda2faf8-ad26-4c66-871f-34c85b7f1b97')]\n",
      "\n",
      "+++++++++++++++++\n",
      "[AIMessage(content='So you said you were researching ocean mammals?', additional_kwargs={}, response_metadata={}, name='Bot', id='72d3e855-79a4-47ce-ace5-b3ce5087a953'), HumanMessage(content='Yes, I know about whales. But what others should I learn about?', additional_kwargs={}, response_metadata={}, name='Lance', id='fda2faf8-ad26-4c66-871f-34c85b7f1b97')]\n",
      "\n",
      "+++++++++++++++++\n",
      "content=\"That's great you're familiar with whales!  Beyond whales, the world of ocean mammals is incredibly diverse.  To help you focus your research, consider these groups:\\n\\n**1. Seals, Sea Lions, and Walruses (Pinnipeds):**  This is a large and fascinating group with distinct differences:\\n\\n* **Seals:** Generally lack external ear flaps (pinnae), have shorter flippers, and tend to be more awkward on land.  There are several types, including harbor seals, harp seals, and elephant seals, each with unique adaptations.\\n* **Sea Lions:** Possess external ear flaps, have longer flippers, and are much more agile on land.  They often form large colonies. California sea lions are a common example.\\n* **Walruses:**  Easily identifiable by their massive tusks, they are adapted to cold Arctic waters and feed on benthic invertebrates.\\n\\n**2. Sea Otters:** These adorable, playful creatures are the smallest marine mammals in North America.  They are known for their use of tools (rocks to crack open shellfish) and incredibly thick fur.\\n\\n**3. Polar Bears:** While technically considered terrestrial mammals, they are inextricably linked to the ocean and spend a significant portion of their lives on sea ice hunting seals. Their conservation status is a major concern.\\n\\n**4. Manatees and Dugongs (Sirenians):**  These gentle giants are herbivores found in warm, shallow coastal waters.  Manatees inhabit the Atlantic, while dugongs are found in the Indo-Pacific region.  They face threats from habitat loss and boat strikes.\\n\\n**5. Dolphins and Porpoises (Odontocetes):**  While often grouped with whales, they are a distinct suborder of toothed whales.  There's a vast diversity within this group, with species varying in size, behavior, and habitat.  Researching specific species like bottlenose dolphins, orcas (killer whales), or harbor porpoises would be worthwhile.\\n\\n\\nTo make your research more manageable, consider focusing on:\\n\\n* **A specific geographic region:**  The ocean mammals found in the Arctic will be very different from those in the tropics.\\n* **A specific type of mammal:**  Choosing one of the groups above (e.g., pinnipeds) will allow you to delve deeper into their unique adaptations and evolutionary history.\\n* **A specific conservation issue:**  Many ocean mammals are endangered or threatened, making their conservation a crucial area of research.\\n\\nRemember to cite your sources properly and enjoy the fascinating world of ocean mammals!\\n\" additional_kwargs={} response_metadata={'safety_ratings': [], 'finish_reason': 'STOP'} id='run-5088a86a-51a3-4bfc-a355-1d33f7aabc39' usage_metadata={'input_tokens': 26, 'output_tokens': 533, 'total_tokens': 559, 'input_token_details': {'cache_read': 0}}\n",
      "\n",
      "+++++++++++++++++\n",
      "content=\"That's great you're familiar with whales!  Beyond whales, the world of ocean mammals is incredibly diverse.  To help you focus your research, consider these groups:\\n\\n**1. Seals, Sea Lions, and Walruses (Pinnipeds):**  This is a large and fascinating group with distinct differences:\\n\\n* **Seals:** Generally lack external ear flaps (pinnae), have shorter flippers, and tend to be more awkward on land.  There are several types, including harbor seals, harp seals, and elephant seals, each with unique adaptations.\\n* **Sea Lions:** Possess external ear flaps, have longer flippers, and are much more agile on land.  They often form large colonies. California sea lions are a common example.\\n* **Walruses:**  Easily identifiable by their massive tusks, they are adapted to cold Arctic waters and feed on benthic invertebrates.\\n\\n**2. Sea Otters:** These adorable, playful creatures are the smallest marine mammals in North America.  They are known for their use of tools (rocks to crack open shellfish) and incredibly thick fur.\\n\\n**3. Polar Bears:** While technically considered terrestrial mammals, they are inextricably linked to the ocean and spend a significant portion of their lives on sea ice hunting seals. Their conservation status is a major concern.\\n\\n**4. Manatees and Dugongs (Sirenians):**  These gentle giants are herbivores found in warm, shallow coastal waters.  Manatees inhabit the Atlantic, while dugongs are found in the Indo-Pacific region.  They face threats from habitat loss and boat strikes.\\n\\n**5. Dolphins and Porpoises (Odontocetes):**  While often grouped with whales, they are a distinct suborder of toothed whales.  There's a vast diversity within this group, with species varying in size, behavior, and habitat.  Researching specific species like bottlenose dolphins, orcas (killer whales), or harbor porpoises would be worthwhile.\\n\\n\\nTo make your research more manageable, consider focusing on:\\n\\n* **A specific geographic region:**  The ocean mammals found in the Arctic will be very different from those in the tropics.\\n* **A specific type of mammal:**  Choosing one of the groups above (e.g., pinnipeds) will allow you to delve deeper into their unique adaptations and evolutionary history.\\n* **A specific conservation issue:**  Many ocean mammals are endangered or threatened, making their conservation a crucial area of research.\\n\\nRemember to cite your sources properly and enjoy the fascinating world of ocean mammals!\\n\" additional_kwargs={} response_metadata={'safety_ratings': [], 'finish_reason': 'STOP'} id='run-5088a86a-51a3-4bfc-a355-1d33f7aabc39' usage_metadata={'input_tokens': 26, 'output_tokens': 533, 'total_tokens': 559, 'input_token_details': {'cache_read': 0}}\n",
      "\n",
      "+++++++++++++++++\n",
      "[AIMessage(content='So you said you were researching ocean mammals?', additional_kwargs={}, response_metadata={}, name='Bot', id='72d3e855-79a4-47ce-ace5-b3ce5087a953'), HumanMessage(content='Yes, I know about whales. But what others should I learn about?', additional_kwargs={}, response_metadata={}, name='Lance', id='fda2faf8-ad26-4c66-871f-34c85b7f1b97'), AIMessage(content=\"That's great you're familiar with whales!  Beyond whales, the world of ocean mammals is incredibly diverse.  To help you focus your research, consider these groups:\\n\\n**1. Seals, Sea Lions, and Walruses (Pinnipeds):**  This is a large and fascinating group with distinct differences:\\n\\n* **Seals:** Generally lack external ear flaps (pinnae), have shorter flippers, and tend to be more awkward on land.  There are several types, including harbor seals, harp seals, and elephant seals, each with unique adaptations.\\n* **Sea Lions:** Possess external ear flaps, have longer flippers, and are much more agile on land.  They often form large colonies. California sea lions are a common example.\\n* **Walruses:**  Easily identifiable by their massive tusks, they are adapted to cold Arctic waters and feed on benthic invertebrates.\\n\\n**2. Sea Otters:** These adorable, playful creatures are the smallest marine mammals in North America.  They are known for their use of tools (rocks to crack open shellfish) and incredibly thick fur.\\n\\n**3. Polar Bears:** While technically considered terrestrial mammals, they are inextricably linked to the ocean and spend a significant portion of their lives on sea ice hunting seals. Their conservation status is a major concern.\\n\\n**4. Manatees and Dugongs (Sirenians):**  These gentle giants are herbivores found in warm, shallow coastal waters.  Manatees inhabit the Atlantic, while dugongs are found in the Indo-Pacific region.  They face threats from habitat loss and boat strikes.\\n\\n**5. Dolphins and Porpoises (Odontocetes):**  While often grouped with whales, they are a distinct suborder of toothed whales.  There's a vast diversity within this group, with species varying in size, behavior, and habitat.  Researching specific species like bottlenose dolphins, orcas (killer whales), or harbor porpoises would be worthwhile.\\n\\n\\nTo make your research more manageable, consider focusing on:\\n\\n* **A specific geographic region:**  The ocean mammals found in the Arctic will be very different from those in the tropics.\\n* **A specific type of mammal:**  Choosing one of the groups above (e.g., pinnipeds) will allow you to delve deeper into their unique adaptations and evolutionary history.\\n* **A specific conservation issue:**  Many ocean mammals are endangered or threatened, making their conservation a crucial area of research.\\n\\nRemember to cite your sources properly and enjoy the fascinating world of ocean mammals!\\n\", additional_kwargs={}, response_metadata={'safety_ratings': [], 'finish_reason': 'STOP'}, id='run-5088a86a-51a3-4bfc-a355-1d33f7aabc39', usage_metadata={'input_tokens': 26, 'output_tokens': 533, 'total_tokens': 559, 'input_token_details': {'cache_read': 0}})]\n",
      "\n",
      "+++++++++++++++++\n"
     ]
    }
   ],
   "source": [
    "async for i in graph.astream_events({'messages': messages}, version='v2'):\n",
    "    if 'output' in i['data'] and 'messages' in i['data']['output']:\n",
    "        print(i['data']['output']['messages'])\n",
    "        print(\"\\n+++++++++++++++++\")"
   ]
  },
  {
   "cell_type": "code",
   "execution_count": 53,
   "metadata": {},
   "outputs": [
    {
     "name": "stdout",
     "output_type": "stream",
     "text": [
      "That's great you're familiar with whales!  Beyond whales, the world of ocean mammals is incredibly diverse.  To suggest further research, let's break it down by group:\n",
      "\n",
      "**1. Marine Mammals closely related to land mammals:**\n",
      "\n",
      "* **Seals (Pinnipeds):**  This group includes three families:\n",
      "    * **True seals (Phocidae):** Lack external ear flaps, have streamlined bodies for swimming, and are generally less agile on land. Examples include harbor seals, harp seals, and elephant seals.\n",
      "    * **Eared seals (Otariidae):** Possess external ear flaps, are more agile on land, and use their foreflippers for propulsion in the water.  Examples include sea lions and fur seals.\n",
      "    * **Walruses (Odobenidae):**  Easily recognizable by their tusks, they are adapted to cold arctic waters and feed on clams and other invertebrates.\n",
      "\n",
      "* **Sea Otters (Mustelidae):**  These are the smallest marine mammals and are incredibly important for their role in maintaining kelp forests.  They're known for their use of tools.\n",
      "\n",
      "* **Polar Bears (Ursidae):** While technically not entirely marine mammals (they spend time on land and ice), they are heavily reliant on the marine environment for hunting seals and other prey.\n",
      "\n",
      "\n",
      "**2. Marine Mammals that are more distantly related to land mammals:**\n",
      "\n",
      "* **Manatees (Sirenia):** These gentle giants are herbivores found in warmer coastal waters and rivers.  They are also known as sea cows.  There are three species: West Indian, Amazonian, and West African manatees.\n",
      "* **Dugongs (Sirenia):** Close relatives of manatees, found in warmer waters of the Indian and Pacific Oceans.  They are also herbivores.\n",
      "\n",
      "\n",
      "**To deepen your research, consider these aspects:**\n",
      "\n",
      "* **Their habitats and distribution:** Where do they live? What environmental factors influence their populations?\n",
      "* **Their feeding habits and diet:** What do they eat? How do they obtain their food?  What is their role in the food web?\n",
      "* **Their social structures and behavior:** Do they live in groups? How do they communicate? What are their mating and breeding habits?\n",
      "* **Their conservation status and threats:** What are the major threats to their survival (e.g., climate change, pollution, hunting)? What conservation efforts are underway?\n",
      "* **Their evolutionary history and adaptations:** How did they evolve from their land-dwelling ancestors?  What physical and behavioral adaptations allow them to thrive in the marine environment?\n",
      "\n",
      "\n",
      "Choosing one or two groups from the list above to focus on initially would be a good starting point.  Good luck with your research!\n",
      "\n",
      "\n",
      "+++++++++++++++++\n",
      "That's great you're familiar with whales!  Beyond whales, the world of ocean mammals is incredibly diverse.  To suggest further research, let's break it down by group:\n",
      "\n",
      "**1. Marine Mammals closely related to land mammals:**\n",
      "\n",
      "* **Seals (Pinnipeds):**  This group includes three families:\n",
      "    * **True seals (Phocidae):** Lack external ear flaps, have streamlined bodies for swimming, and are generally less agile on land. Examples include harbor seals, harp seals, and elephant seals.\n",
      "    * **Eared seals (Otariidae):** Possess external ear flaps, are more agile on land, and use their foreflippers for propulsion in the water.  Examples include sea lions and fur seals.\n",
      "    * **Walruses (Odobenidae):**  Easily recognizable by their tusks, they are adapted to cold arctic waters and feed on clams and other invertebrates.\n",
      "\n",
      "* **Sea Otters (Mustelidae):**  These are the smallest marine mammals and are incredibly important for their role in maintaining kelp forests.  They're known for their use of tools.\n",
      "\n",
      "* **Polar Bears (Ursidae):** While technically not entirely marine mammals (they spend time on land and ice), they are heavily reliant on the marine environment for hunting seals and other prey.\n",
      "\n",
      "\n",
      "**2. Marine Mammals that are more distantly related to land mammals:**\n",
      "\n",
      "* **Manatees (Sirenia):** These gentle giants are herbivores found in warmer coastal waters and rivers.  They are also known as sea cows.  There are three species: West Indian, Amazonian, and West African manatees.\n",
      "* **Dugongs (Sirenia):** Close relatives of manatees, found in warmer waters of the Indian and Pacific Oceans.  They are also herbivores.\n",
      "\n",
      "\n",
      "**To deepen your research, consider these aspects:**\n",
      "\n",
      "* **Their habitats and distribution:** Where do they live? What environmental factors influence their populations?\n",
      "* **Their feeding habits and diet:** What do they eat? How do they obtain their food?  What is their role in the food web?\n",
      "* **Their social structures and behavior:** Do they live in groups? How do they communicate? What are their mating and breeding habits?\n",
      "* **Their conservation status and threats:** What are the major threats to their survival (e.g., climate change, pollution, hunting)? What conservation efforts are underway?\n",
      "* **Their evolutionary history and adaptations:** How did they evolve from their land-dwelling ancestors?  What physical and behavioral adaptations allow them to thrive in the marine environment?\n",
      "\n",
      "\n",
      "Choosing one or two groups from the list above to focus on initially would be a good starting point.  Good luck with your research!\n",
      "\n",
      "\n",
      "+++++++++++++++++\n"
     ]
    }
   ],
   "source": [
    "async for i in graph.astream_events({'messages': messages}, version='v2'):\n",
    "    if 'output' in i['data'] and 'messages' in i['data']['output']: \n",
    "        message = i['data']['output']['messages']\n",
    "        if isinstance(message, AIMessage):   \n",
    "            print(message.content)  \n",
    "            print(\"\\n+++++++++++++++++\")"
   ]
  },
  {
   "cell_type": "markdown",
   "metadata": {},
   "source": [
    "## Reducer\n",
    "\n",
    "A practical challenge when working with messages is managing long-running conversations.\n",
    "\n",
    "Long-running conversations result in high token usage and latency if we are not careful, because we pass a growing list of messages to the model.\n",
    "\n",
    "We have a few ways to address this.\n",
    "\n",
    "First, recall the trick we saw using `RemoveMessage` and the `add_messages` reducer."
   ]
  },
  {
   "cell_type": "code",
   "execution_count": 54,
   "metadata": {},
   "outputs": [
    {
     "data": {
      "image/png": "[encoded data removed]",
      "text/plain": [
       "<IPython.core.display.Image object>"
      ]
     },
     "metadata": {},
     "output_type": "display_data"
    }
   ],
   "source": [
    "from IPython.display import Image, display\n",
    "from langgraph.graph import MessagesState\n",
    "from langgraph.graph import StateGraph, START, END\n",
    "from langgraph.graph.state import CompiledStateGraph\n",
    "from langchain_core.messages import RemoveMessage\n",
    "\n",
    "def filter_messages(state:MessagesState):\n",
    "    delete_messages = [RemoveMessage(id=i.id) for i in state['messages'][:-2]]\n",
    "    return {'messages':delete_messages}\n",
    "\n",
    "def chat_model_node(state:MessagesState):\n",
    "    return {\"messages\": llm.invoke(state[\"messages\"])}\n",
    "builder: StateGraph = StateGraph(MessagesState)\n",
    "builder.add_node(\"filter\", filter_messages)\n",
    "builder.add_node(\"chat_model\", chat_model_node)\n",
    "builder.add_edge(START, \"filter\")\n",
    "builder.add_edge(\"filter\", \"chat_model\")\n",
    "builder.add_edge(\"chat_model\", END)\n",
    "graph: CompiledStateGraph = builder.compile()\n",
    "\n",
    "# View\n",
    "display(Image(graph.get_graph().draw_mermaid_png()))"
   ]
  },
  {
   "cell_type": "markdown",
   "metadata": {},
   "source": [
    "## Filtering messages\n",
    "\n",
    "If you don't need or want to modify the graph state, you can just filter the messages you pass to the chat model.\n",
    "\n",
    "For example, just pass in a filtered list: `llm.invoke(messages[-1:])` to the model."
   ]
  },
  {
   "cell_type": "code",
   "execution_count": 55,
   "metadata": {},
   "outputs": [
    {
     "data": {
      "image/png": "[encoded data removed]",
      "text/plain": [
       "<IPython.core.display.Image object>"
      ]
     },
     "metadata": {},
     "output_type": "display_data"
    }
   ],
   "source": [
    "def chat_model_node(state: MessagesState):\n",
    "    return {\"messages\": [llm.invoke(state[\"messages\"][-1:])]} #The function takes only the last message in the state[\"messages\"] list (state[\"messages\"][-1:]) and passes it to the llm.invoke method\n",
    " \n",
    "builder: StateGraph = StateGraph(MessagesState)\n",
    "builder.add_node(\"chat_model\", chat_model_node)\n",
    "builder.add_edge(START, \"chat_model\")\n",
    "builder.add_edge(\"chat_model\", END)\n",
    "graph: CompiledStateGraph = builder.compile()\n",
    " \n",
    "display(Image(graph.get_graph().draw_mermaid_png()))"
   ]
  },
  {
   "cell_type": "code",
   "execution_count": 56,
   "metadata": {},
   "outputs": [
    {
     "name": "stdout",
     "output_type": "stream",
     "text": [
      "==================================\u001b[1m Ai Message \u001b[0m==================================\n",
      "Name: Bot\n",
      "\n",
      "So you said you were researching ocean mammals?\n",
      "================================\u001b[1m Human Message \u001b[0m=================================\n",
      "Name: Lance\n",
      "\n",
      "Yes, I know about whales. But what others should I learn about?\n",
      "==================================\u001b[1m Ai Message \u001b[0m==================================\n",
      "\n",
      "That depends on what interests you! To give you some suggestions, I need a little more information.  What aspects of whales fascinate you?  Is it their size, their migration patterns, their songs, their biology, their conservation status, or something else?\n",
      "\n",
      "Knowing what you find interesting about whales will help me suggest similar topics.  \n",
      "\n",
      "For example, if you like the migration aspect, you might be interested in:\n",
      "\n",
      "* **Other migrating animals:**  Birds (especially shorebirds and waterfowl), Monarch butterflies, salmon, wildebeest.\n",
      "* **Ocean currents and weather patterns:** These drive many migrations.\n",
      "* **Navigation and orientation in animals:** How do animals find their way over such vast distances?\n",
      "\n",
      "If you are interested in their biology:\n",
      "\n",
      "* **Marine mammals in general:** Dolphins, porpoises, seals, sea lions, manatees.\n",
      "* **Deep-sea creatures:**  The bizarre adaptations of animals living in the deep ocean.\n",
      "* **Mammalian evolution:**  The story of how mammals evolved from earlier ancestors.\n",
      "\n",
      "If you are concerned about their conservation:\n",
      "\n",
      "* **Endangered species in general:**  The causes of endangerment and conservation efforts.\n",
      "* **Ocean pollution and its effects on marine life:**  Plastic pollution, chemical pollution, noise pollution.\n",
      "* **Climate change and its impact on the oceans:**  Rising sea levels, ocean acidification.\n",
      "\n",
      "\n",
      "Tell me more about what sparks your curiosity about whales, and I can give you more specific and relevant suggestions.\n"
     ]
    }
   ],
   "source": [
    " \n",
    "output = graph.invoke({'messages': messages})\n",
    "for m in output['messages']:\n",
    "    m.pretty_print()"
   ]
  },
  {
   "cell_type": "code",
   "execution_count": 45,
   "metadata": {},
   "outputs": [
    {
     "name": "stdout",
     "output_type": "stream",
     "text": [
      "[9]\n"
     ]
    }
   ],
   "source": [
    "messagess = [1,2,3,4,5,6,7,8,9]\n",
    "print(messagess[-1:])"
   ]
  },
  {
   "cell_type": "markdown",
   "metadata": {},
   "source": [
    "## Trim messages\n",
    "\n",
    "Another approach is to [trim messages](https://python.langchain.com/v0.2/docs/how_to/trim_messages/#getting-the-last-max_tokens-tokens), based upon a set number of tokens.\n",
    "\n",
    "This restricts the message history to a specified number of tokens.\n",
    "\n",
    "While filtering only returns a post-hoc subset of the messages between agents, trimming restricts the number of tokens that a chat model can use to respond.\n",
    "\n",
    "See the `trim_messages` below."
   ]
  },
  {
   "cell_type": "code",
   "execution_count": 85,
   "metadata": {},
   "outputs": [
    {
     "data": {
      "image/png": "[encoded data removed]",
      "text/plain": [
       "<IPython.core.display.Image object>"
      ]
     },
     "metadata": {},
     "output_type": "display_data"
    }
   ],
   "source": [
    "from langchain_core.messages import trim_messages\n",
    "\n",
    "# Node\n",
    "class ChatModel(MessagesState):\n",
    "    pass\n",
    "def chat_model_node(state: ChatModel):\n",
    "    messages = trim_messages(\n",
    "            state[\"messages\"],\n",
    "            max_tokens=100,\n",
    "            strategy=\"last\",\n",
    "            token_counter=ChatGoogleGenerativeAI(api_key=GEMINI_API_KEY,model=\"gemini-1.5-flash\"),\n",
    "            allow_partial=False,\n",
    "        )\n",
    "    print(messages)\n",
    "    return {\"messages\": [llm.invoke(messages)]}\n",
    "\n",
    "# Build graph\n",
    "builder = StateGraph(ChatModel)\n",
    "builder.add_node(\"chat_model\", chat_model_node)\n",
    "builder.add_edge(START, \"chat_model\")\n",
    "builder.add_edge(\"chat_model\", END)\n",
    "graph = builder.compile()\n",
    "\n",
    "# View\n",
    "display(Image(graph.get_graph().draw_mermaid_png()))"
   ]
  },
  {
   "cell_type": "code",
   "execution_count": 86,
   "metadata": {},
   "outputs": [
    {
     "name": "stdout",
     "output_type": "stream",
     "text": [
      "[AIMessage(content='So you said you were researching ocean mammals?', additional_kwargs={}, response_metadata={}, name='Bot', id='72d3e855-79a4-47ce-ace5-b3ce5087a953'), HumanMessage(content='Yes, I know about whales. But what others should I learn about?', additional_kwargs={}, response_metadata={}, name='Lance', id='fda2faf8-ad26-4c66-871f-34c85b7f1b97'), AIMessage(content='That depends on what interests you! To give you some suggestions, I need a little more information.  What aspects of whales fascinate you?  Is it their size, their migration patterns, their songs, their biology, their conservation status, or something else?\\n\\nKnowing what you find interesting about whales will help me suggest similar topics.  \\n\\nFor example, if you like the migration aspect, you might be interested in:\\n\\n* **Other migrating animals:**  Birds (especially shorebirds and waterfowl), Monarch butterflies, salmon, wildebeest.\\n* **Ocean currents and weather patterns:** These drive many migrations.\\n* **Navigation and orientation in animals:** How do animals find their way over such vast distances?\\n\\nIf you are interested in their biology:\\n\\n* **Marine mammals in general:** Dolphins, porpoises, seals, sea lions, manatees.\\n* **Deep-sea creatures:**  The bizarre adaptations of animals living in the deep ocean.\\n* **Mammalian evolution:**  The story of how mammals evolved from earlier ancestors.\\n\\nIf you are concerned about their conservation:\\n\\n* **Endangered species in general:**  The causes of endangerment and conservation efforts.\\n* **Ocean pollution and its effects on marine life:**  Plastic pollution, chemical pollution, noise pollution.\\n* **Climate change and its impact on the oceans:**  Rising sea levels, ocean acidification.\\n\\n\\nTell me more about what sparks your curiosity about whales, and I can give you more specific and relevant suggestions.\\n', additional_kwargs={}, response_metadata={'prompt_feedback': {'block_reason': 0, 'safety_ratings': []}, 'finish_reason': 'STOP', 'safety_ratings': []}, id='run-005fd39c-07fb-4242-be5c-10eef926c0c9-0', usage_metadata={'input_tokens': 16, 'output_tokens': 310, 'total_tokens': 326, 'input_token_details': {'cache_read': 0}})]\n"
     ]
    }
   ],
   "source": [
    "print(output['messages'])"
   ]
  },
  {
   "cell_type": "code",
   "execution_count": 70,
   "metadata": {},
   "outputs": [
    {
     "name": "stdout",
     "output_type": "stream",
     "text": [
      "content='That depends on what interests you! To give you some suggestions, I need a little more information.  What aspects of whales fascinate you?  Is it their size, their migration patterns, their songs, their biology, their conservation status, or something else?\\n\\nKnowing what you find interesting about whales will help me suggest similar topics.  \\n\\nFor example, if you like the migration aspect, you might be interested in:\\n\\n* **Other migrating animals:**  Birds (especially shorebirds and waterfowl), Monarch butterflies, salmon, wildebeest.\\n* **Ocean currents and weather patterns:** These drive many migrations.\\n* **Navigation and orientation in animals:** How do animals find their way over such vast distances?\\n\\nIf you are interested in their biology:\\n\\n* **Marine mammals in general:** Dolphins, porpoises, seals, sea lions, manatees.\\n* **Deep-sea creatures:**  The bizarre adaptations of animals living in the deep ocean.\\n* **Mammalian evolution:**  The story of how mammals evolved from earlier ancestors.\\n\\nIf you are concerned about their conservation:\\n\\n* **Endangered species in general:**  The causes of endangerment and conservation efforts.\\n* **Ocean pollution and its effects on marine life:**  Plastic pollution, chemical pollution, noise pollution.\\n* **Climate change and its impact on the oceans:**  Rising sea levels, ocean acidification.\\n\\n\\nTell me more about what sparks your curiosity about whales, and I can give you more specific and relevant suggestions.\\n' additional_kwargs={} response_metadata={'prompt_feedback': {'block_reason': 0, 'safety_ratings': []}, 'finish_reason': 'STOP', 'safety_ratings': []} id='run-005fd39c-07fb-4242-be5c-10eef926c0c9-0' usage_metadata={'input_tokens': 16, 'output_tokens': 310, 'total_tokens': 326, 'input_token_details': {'cache_read': 0}}\n"
     ]
    }
   ],
   "source": [
    "print(output['messages'][-1])"
   ]
  },
  {
   "cell_type": "code",
   "execution_count": 71,
   "metadata": {},
   "outputs": [],
   "source": [
    "messages.append(output['messages'][-1])\n",
    "messages.append(HumanMessage(f\"hi how are you\", name=\"arman\"))"
   ]
  },
  {
   "cell_type": "code",
   "execution_count": 87,
   "metadata": {},
   "outputs": [
    {
     "data": {
      "text/plain": [
       "[AIMessage(content='So you said you were researching ocean mammals?', additional_kwargs={}, response_metadata={}, name='Bot', id='72d3e855-79a4-47ce-ace5-b3ce5087a953'),\n",
       " HumanMessage(content='Yes, I know about whales. But what others should I learn about?', additional_kwargs={}, response_metadata={}, name='Lance', id='fda2faf8-ad26-4c66-871f-34c85b7f1b97'),\n",
       " AIMessage(content='That depends on what interests you! To give you some suggestions, I need a little more information.  What aspects of whales fascinate you?  Is it their size, their migration patterns, their songs, their biology, their conservation status, or something else?\\n\\nKnowing what you find interesting about whales will help me suggest similar topics.  \\n\\nFor example, if you like the migration aspect, you might be interested in:\\n\\n* **Other migrating animals:**  Birds (especially shorebirds and waterfowl), Monarch butterflies, salmon, wildebeest.\\n* **Ocean currents and weather patterns:** These drive many migrations.\\n* **Navigation and orientation in animals:** How do animals find their way over such vast distances?\\n\\nIf you are interested in their biology:\\n\\n* **Marine mammals in general:** Dolphins, porpoises, seals, sea lions, manatees.\\n* **Deep-sea creatures:**  The bizarre adaptations of animals living in the deep ocean.\\n* **Mammalian evolution:**  The story of how mammals evolved from earlier ancestors.\\n\\nIf you are concerned about their conservation:\\n\\n* **Endangered species in general:**  The causes of endangerment and conservation efforts.\\n* **Ocean pollution and its effects on marine life:**  Plastic pollution, chemical pollution, noise pollution.\\n* **Climate change and its impact on the oceans:**  Rising sea levels, ocean acidification.\\n\\n\\nTell me more about what sparks your curiosity about whales, and I can give you more specific and relevant suggestions.\\n', additional_kwargs={}, response_metadata={'prompt_feedback': {'block_reason': 0, 'safety_ratings': []}, 'finish_reason': 'STOP', 'safety_ratings': []}, id='run-005fd39c-07fb-4242-be5c-10eef926c0c9-0', usage_metadata={'input_tokens': 16, 'output_tokens': 310, 'total_tokens': 326, 'input_token_details': {'cache_read': 0}}),\n",
       " HumanMessage(content='hi how are you', additional_kwargs={}, response_metadata={}, name='arman', id='9512f2fb-9a5f-4187-808c-63f52938bcb3'),\n",
       " AIMessage(content='That depends on what interests you! To give you some suggestions, I need a little more information.  What aspects of whales fascinate you?  Is it their size, their migration patterns, their songs, their biology, their conservation status, or something else?\\n\\nKnowing what you find interesting about whales will help me suggest similar topics.  \\n\\nFor example, if you like the migration aspect, you might be interested in:\\n\\n* **Other migrating animals:**  Birds (especially shorebirds and waterfowl), Monarch butterflies, salmon, wildebeest.\\n* **Ocean currents and weather patterns:** These drive many migrations.\\n* **Navigation and orientation in animals:** How do animals find their way over such vast distances?\\n\\nIf you are interested in their biology:\\n\\n* **Marine mammals in general:** Dolphins, porpoises, seals, sea lions, manatees.\\n* **Deep-sea creatures:**  The bizarre adaptations of animals living in the deep ocean.\\n* **Mammalian evolution:**  The story of how mammals evolved from earlier ancestors.\\n\\nIf you are concerned about their conservation:\\n\\n* **Endangered species in general:**  The causes of endangerment and conservation efforts.\\n* **Ocean pollution and its effects on marine life:**  Plastic pollution, chemical pollution, noise pollution.\\n* **Climate change and its impact on the oceans:**  Rising sea levels, ocean acidification.\\n\\n\\nTell me more about what sparks your curiosity about whales, and I can give you more specific and relevant suggestions.\\n', additional_kwargs={}, response_metadata={'prompt_feedback': {'block_reason': 0, 'safety_ratings': []}, 'finish_reason': 'STOP', 'safety_ratings': []}, id='run-005fd39c-07fb-4242-be5c-10eef926c0c9-0', usage_metadata={'input_tokens': 16, 'output_tokens': 310, 'total_tokens': 326, 'input_token_details': {'cache_read': 0}}),\n",
       " HumanMessage(content='hi how are you', additional_kwargs={}, response_metadata={}, name='arman', id='54b6284f-d89b-4df8-bae5-1c34455f7679')]"
      ]
     },
     "execution_count": 87,
     "metadata": {},
     "output_type": "execute_result"
    }
   ],
   "source": [
    "messages"
   ]
  },
  {
   "cell_type": "code",
   "execution_count": 74,
   "metadata": {},
   "outputs": [
    {
     "data": {
      "text/plain": [
       "[HumanMessage(content='hi how are you', additional_kwargs={}, response_metadata={}, name='arman', id='9512f2fb-9a5f-4187-808c-63f52938bcb3'),\n",
       " AIMessage(content='That depends on what interests you! To give you some suggestions, I need a little more information.  What aspects of whales fascinate you?  Is it their size, their migration patterns, their songs, their biology, their conservation status, or something else?\\n\\nKnowing what you find interesting about whales will help me suggest similar topics.  \\n\\nFor example, if you like the migration aspect, you might be interested in:\\n\\n* **Other migrating animals:**  Birds (especially shorebirds and waterfowl), Monarch butterflies, salmon, wildebeest.\\n* **Ocean currents and weather patterns:** These drive many migrations.\\n* **Navigation and orientation in animals:** How do animals find their way over such vast distances?\\n\\nIf you are interested in their biology:\\n\\n* **Marine mammals in general:** Dolphins, porpoises, seals, sea lions, manatees.\\n* **Deep-sea creatures:**  The bizarre adaptations of animals living in the deep ocean.\\n* **Mammalian evolution:**  The story of how mammals evolved from earlier ancestors.\\n\\nIf you are concerned about their conservation:\\n\\n* **Endangered species in general:**  The causes of endangerment and conservation efforts.\\n* **Ocean pollution and its effects on marine life:**  Plastic pollution, chemical pollution, noise pollution.\\n* **Climate change and its impact on the oceans:**  Rising sea levels, ocean acidification.\\n\\n\\nTell me more about what sparks your curiosity about whales, and I can give you more specific and relevant suggestions.\\n', additional_kwargs={}, response_metadata={'prompt_feedback': {'block_reason': 0, 'safety_ratings': []}, 'finish_reason': 'STOP', 'safety_ratings': []}, id='run-005fd39c-07fb-4242-be5c-10eef926c0c9-0', usage_metadata={'input_tokens': 16, 'output_tokens': 310, 'total_tokens': 326, 'input_token_details': {'cache_read': 0}}),\n",
       " HumanMessage(content='hi how are you', additional_kwargs={}, response_metadata={}, name='arman')]"
      ]
     },
     "execution_count": 74,
     "metadata": {},
     "output_type": "execute_result"
    }
   ],
   "source": [
    "from langchain_core.messages import trim_messages\n",
    "trim_messages(\n",
    "            messages,\n",
    "            max_tokens=400,\n",
    "            strategy=\"last\",\n",
    "            token_counter=ChatGoogleGenerativeAI(api_key=GEMINI_API_KEY,model=\"gemini-1.5-flash\"),\n",
    "            allow_partial=False\n",
    "        )"
   ]
  },
  {
   "cell_type": "code",
   "execution_count": 75,
   "metadata": {},
   "outputs": [
    {
     "data": {
      "text/plain": [
       "[AIMessage(content='So you said you were researching ocean mammals?', additional_kwargs={}, response_metadata={}, name='Bot', id='72d3e855-79a4-47ce-ace5-b3ce5087a953'),\n",
       " HumanMessage(content='Yes, I know about whales. But what others should I learn about?', additional_kwargs={}, response_metadata={}, name='Lance', id='fda2faf8-ad26-4c66-871f-34c85b7f1b97'),\n",
       " AIMessage(content='That depends on what interests you! To give you some suggestions, I need a little more information.  What aspects of whales fascinate you?  Is it their size, their migration patterns, their songs, their biology, their conservation status, or something else?\\n\\nKnowing what you find interesting about whales will help me suggest similar topics.  \\n\\nFor example, if you like the migration aspect, you might be interested in:\\n\\n* **Other migrating animals:**  Birds (especially shorebirds and waterfowl), Monarch butterflies, salmon, wildebeest.\\n* **Ocean currents and weather patterns:** These drive many migrations.\\n* **Navigation and orientation in animals:** How do animals find their way over such vast distances?\\n\\nIf you are interested in their biology:\\n\\n* **Marine mammals in general:** Dolphins, porpoises, seals, sea lions, manatees.\\n* **Deep-sea creatures:**  The bizarre adaptations of animals living in the deep ocean.\\n* **Mammalian evolution:**  The story of how mammals evolved from earlier ancestors.\\n\\nIf you are concerned about their conservation:\\n\\n* **Endangered species in general:**  The causes of endangerment and conservation efforts.\\n* **Ocean pollution and its effects on marine life:**  Plastic pollution, chemical pollution, noise pollution.\\n* **Climate change and its impact on the oceans:**  Rising sea levels, ocean acidification.\\n\\n\\nTell me more about what sparks your curiosity about whales, and I can give you more specific and relevant suggestions.\\n', additional_kwargs={}, response_metadata={'prompt_feedback': {'block_reason': 0, 'safety_ratings': []}, 'finish_reason': 'STOP', 'safety_ratings': []}, id='run-005fd39c-07fb-4242-be5c-10eef926c0c9-0', usage_metadata={'input_tokens': 16, 'output_tokens': 310, 'total_tokens': 326, 'input_token_details': {'cache_read': 0}}),\n",
       " HumanMessage(content='hi how are you', additional_kwargs={}, response_metadata={}, name='arman', id='9512f2fb-9a5f-4187-808c-63f52938bcb3'),\n",
       " AIMessage(content='That depends on what interests you! To give you some suggestions, I need a little more information.  What aspects of whales fascinate you?  Is it their size, their migration patterns, their songs, their biology, their conservation status, or something else?\\n\\nKnowing what you find interesting about whales will help me suggest similar topics.  \\n\\nFor example, if you like the migration aspect, you might be interested in:\\n\\n* **Other migrating animals:**  Birds (especially shorebirds and waterfowl), Monarch butterflies, salmon, wildebeest.\\n* **Ocean currents and weather patterns:** These drive many migrations.\\n* **Navigation and orientation in animals:** How do animals find their way over such vast distances?\\n\\nIf you are interested in their biology:\\n\\n* **Marine mammals in general:** Dolphins, porpoises, seals, sea lions, manatees.\\n* **Deep-sea creatures:**  The bizarre adaptations of animals living in the deep ocean.\\n* **Mammalian evolution:**  The story of how mammals evolved from earlier ancestors.\\n\\nIf you are concerned about their conservation:\\n\\n* **Endangered species in general:**  The causes of endangerment and conservation efforts.\\n* **Ocean pollution and its effects on marine life:**  Plastic pollution, chemical pollution, noise pollution.\\n* **Climate change and its impact on the oceans:**  Rising sea levels, ocean acidification.\\n\\n\\nTell me more about what sparks your curiosity about whales, and I can give you more specific and relevant suggestions.\\n', additional_kwargs={}, response_metadata={'prompt_feedback': {'block_reason': 0, 'safety_ratings': []}, 'finish_reason': 'STOP', 'safety_ratings': []}, id='run-005fd39c-07fb-4242-be5c-10eef926c0c9-0', usage_metadata={'input_tokens': 16, 'output_tokens': 310, 'total_tokens': 326, 'input_token_details': {'cache_read': 0}}),\n",
       " HumanMessage(content='hi how are you', additional_kwargs={}, response_metadata={}, name='arman')]"
      ]
     },
     "execution_count": 75,
     "metadata": {},
     "output_type": "execute_result"
    }
   ],
   "source": [
    "messages"
   ]
  },
  {
   "cell_type": "code",
   "execution_count": 88,
   "metadata": {},
   "outputs": [
    {
     "name": "stdout",
     "output_type": "stream",
     "text": [
      "[HumanMessage(content='hi how are you', additional_kwargs={}, response_metadata={}, name='arman', id='54b6284f-d89b-4df8-bae5-1c34455f7679')]\n"
     ]
    }
   ],
   "source": [
    "\n",
    "messages_out_trim = graph.invoke({'messages': messages})"
   ]
  },
  {
   "cell_type": "code",
   "execution_count": 89,
   "metadata": {},
   "outputs": [
    {
     "name": "stdout",
     "output_type": "stream",
     "text": [
      "{'messages': [AIMessage(content='So you said you were researching ocean mammals?', additional_kwargs={}, response_metadata={}, name='Bot', id='72d3e855-79a4-47ce-ace5-b3ce5087a953'), HumanMessage(content='Yes, I know about whales. But what others should I learn about?', additional_kwargs={}, response_metadata={}, name='Lance', id='fda2faf8-ad26-4c66-871f-34c85b7f1b97'), AIMessage(content='That depends on what interests you! To give you some suggestions, I need a little more information.  What aspects of whales fascinate you?  Is it their size, their migration patterns, their songs, their biology, their conservation status, or something else?\\n\\nKnowing what you find interesting about whales will help me suggest similar topics.  \\n\\nFor example, if you like the migration aspect, you might be interested in:\\n\\n* **Other migrating animals:**  Birds (especially shorebirds and waterfowl), Monarch butterflies, salmon, wildebeest.\\n* **Ocean currents and weather patterns:** These drive many migrations.\\n* **Navigation and orientation in animals:** How do animals find their way over such vast distances?\\n\\nIf you are interested in their biology:\\n\\n* **Marine mammals in general:** Dolphins, porpoises, seals, sea lions, manatees.\\n* **Deep-sea creatures:**  The bizarre adaptations of animals living in the deep ocean.\\n* **Mammalian evolution:**  The story of how mammals evolved from earlier ancestors.\\n\\nIf you are concerned about their conservation:\\n\\n* **Endangered species in general:**  The causes of endangerment and conservation efforts.\\n* **Ocean pollution and its effects on marine life:**  Plastic pollution, chemical pollution, noise pollution.\\n* **Climate change and its impact on the oceans:**  Rising sea levels, ocean acidification.\\n\\n\\nTell me more about what sparks your curiosity about whales, and I can give you more specific and relevant suggestions.\\n', additional_kwargs={}, response_metadata={'prompt_feedback': {'block_reason': 0, 'safety_ratings': []}, 'finish_reason': 'STOP', 'safety_ratings': []}, id='run-005fd39c-07fb-4242-be5c-10eef926c0c9-0', usage_metadata={'input_tokens': 16, 'output_tokens': 310, 'total_tokens': 326, 'input_token_details': {'cache_read': 0}}), HumanMessage(content='hi how are you', additional_kwargs={}, response_metadata={}, name='arman', id='9512f2fb-9a5f-4187-808c-63f52938bcb3'), AIMessage(content='That depends on what interests you! To give you some suggestions, I need a little more information.  What aspects of whales fascinate you?  Is it their size, their migration patterns, their songs, their biology, their conservation status, or something else?\\n\\nKnowing what you find interesting about whales will help me suggest similar topics.  \\n\\nFor example, if you like the migration aspect, you might be interested in:\\n\\n* **Other migrating animals:**  Birds (especially shorebirds and waterfowl), Monarch butterflies, salmon, wildebeest.\\n* **Ocean currents and weather patterns:** These drive many migrations.\\n* **Navigation and orientation in animals:** How do animals find their way over such vast distances?\\n\\nIf you are interested in their biology:\\n\\n* **Marine mammals in general:** Dolphins, porpoises, seals, sea lions, manatees.\\n* **Deep-sea creatures:**  The bizarre adaptations of animals living in the deep ocean.\\n* **Mammalian evolution:**  The story of how mammals evolved from earlier ancestors.\\n\\nIf you are concerned about their conservation:\\n\\n* **Endangered species in general:**  The causes of endangerment and conservation efforts.\\n* **Ocean pollution and its effects on marine life:**  Plastic pollution, chemical pollution, noise pollution.\\n* **Climate change and its impact on the oceans:**  Rising sea levels, ocean acidification.\\n\\n\\nTell me more about what sparks your curiosity about whales, and I can give you more specific and relevant suggestions.\\n', additional_kwargs={}, response_metadata={'prompt_feedback': {'block_reason': 0, 'safety_ratings': []}, 'finish_reason': 'STOP', 'safety_ratings': []}, id='run-005fd39c-07fb-4242-be5c-10eef926c0c9-0', usage_metadata={'input_tokens': 16, 'output_tokens': 310, 'total_tokens': 326, 'input_token_details': {'cache_read': 0}}), HumanMessage(content='hi how are you', additional_kwargs={}, response_metadata={}, name='arman', id='54b6284f-d89b-4df8-bae5-1c34455f7679'), AIMessage(content=\"I'm doing well, thank you for asking!  How are you today?\\n\", additional_kwargs={}, response_metadata={'prompt_feedback': {'block_reason': 0, 'safety_ratings': []}, 'finish_reason': 'STOP', 'safety_ratings': []}, id='run-a0384b1a-e61a-42f6-994b-bd9059bc00ed-0', usage_metadata={'input_tokens': 5, 'output_tokens': 18, 'total_tokens': 23, 'input_token_details': {'cache_read': 0}})]}\n"
     ]
    }
   ],
   "source": [
    "print(messages_out_trim)"
   ]
  },
  {
   "cell_type": "code",
   "execution_count": 90,
   "metadata": {},
   "outputs": [
    {
     "data": {
      "text/plain": [
       "[AIMessage(content='So you said you were researching ocean mammals?', additional_kwargs={}, response_metadata={}, name='Bot', id='72d3e855-79a4-47ce-ace5-b3ce5087a953'),\n",
       " HumanMessage(content='Yes, I know about whales. But what others should I learn about?', additional_kwargs={}, response_metadata={}, name='Lance', id='fda2faf8-ad26-4c66-871f-34c85b7f1b97'),\n",
       " AIMessage(content='That depends on what interests you! To give you some suggestions, I need a little more information.  What aspects of whales fascinate you?  Is it their size, their migration patterns, their songs, their biology, their conservation status, or something else?\\n\\nKnowing what you find interesting about whales will help me suggest similar topics.  \\n\\nFor example, if you like the migration aspect, you might be interested in:\\n\\n* **Other migrating animals:**  Birds (especially shorebirds and waterfowl), Monarch butterflies, salmon, wildebeest.\\n* **Ocean currents and weather patterns:** These drive many migrations.\\n* **Navigation and orientation in animals:** How do animals find their way over such vast distances?\\n\\nIf you are interested in their biology:\\n\\n* **Marine mammals in general:** Dolphins, porpoises, seals, sea lions, manatees.\\n* **Deep-sea creatures:**  The bizarre adaptations of animals living in the deep ocean.\\n* **Mammalian evolution:**  The story of how mammals evolved from earlier ancestors.\\n\\nIf you are concerned about their conservation:\\n\\n* **Endangered species in general:**  The causes of endangerment and conservation efforts.\\n* **Ocean pollution and its effects on marine life:**  Plastic pollution, chemical pollution, noise pollution.\\n* **Climate change and its impact on the oceans:**  Rising sea levels, ocean acidification.\\n\\n\\nTell me more about what sparks your curiosity about whales, and I can give you more specific and relevant suggestions.\\n', additional_kwargs={}, response_metadata={'prompt_feedback': {'block_reason': 0, 'safety_ratings': []}, 'finish_reason': 'STOP', 'safety_ratings': []}, id='run-005fd39c-07fb-4242-be5c-10eef926c0c9-0', usage_metadata={'input_tokens': 16, 'output_tokens': 310, 'total_tokens': 326, 'input_token_details': {'cache_read': 0}}),\n",
       " HumanMessage(content='hi how are you', additional_kwargs={}, response_metadata={}, name='arman', id='9512f2fb-9a5f-4187-808c-63f52938bcb3'),\n",
       " AIMessage(content='That depends on what interests you! To give you some suggestions, I need a little more information.  What aspects of whales fascinate you?  Is it their size, their migration patterns, their songs, their biology, their conservation status, or something else?\\n\\nKnowing what you find interesting about whales will help me suggest similar topics.  \\n\\nFor example, if you like the migration aspect, you might be interested in:\\n\\n* **Other migrating animals:**  Birds (especially shorebirds and waterfowl), Monarch butterflies, salmon, wildebeest.\\n* **Ocean currents and weather patterns:** These drive many migrations.\\n* **Navigation and orientation in animals:** How do animals find their way over such vast distances?\\n\\nIf you are interested in their biology:\\n\\n* **Marine mammals in general:** Dolphins, porpoises, seals, sea lions, manatees.\\n* **Deep-sea creatures:**  The bizarre adaptations of animals living in the deep ocean.\\n* **Mammalian evolution:**  The story of how mammals evolved from earlier ancestors.\\n\\nIf you are concerned about their conservation:\\n\\n* **Endangered species in general:**  The causes of endangerment and conservation efforts.\\n* **Ocean pollution and its effects on marine life:**  Plastic pollution, chemical pollution, noise pollution.\\n* **Climate change and its impact on the oceans:**  Rising sea levels, ocean acidification.\\n\\n\\nTell me more about what sparks your curiosity about whales, and I can give you more specific and relevant suggestions.\\n', additional_kwargs={}, response_metadata={'prompt_feedback': {'block_reason': 0, 'safety_ratings': []}, 'finish_reason': 'STOP', 'safety_ratings': []}, id='run-005fd39c-07fb-4242-be5c-10eef926c0c9-0', usage_metadata={'input_tokens': 16, 'output_tokens': 310, 'total_tokens': 326, 'input_token_details': {'cache_read': 0}}),\n",
       " HumanMessage(content='hi how are you', additional_kwargs={}, response_metadata={}, name='arman', id='54b6284f-d89b-4df8-bae5-1c34455f7679')]"
      ]
     },
     "execution_count": 90,
     "metadata": {},
     "output_type": "execute_result"
    }
   ],
   "source": [
    "messages"
   ]
  },
  {
   "cell_type": "code",
   "execution_count": 83,
   "metadata": {},
   "outputs": [
    {
     "data": {
      "image/png": "[encoded data removed]",
      "text/plain": [
       "<IPython.core.display.Image object>"
      ]
     },
     "metadata": {},
     "output_type": "display_data"
    },
    {
     "name": "stdout",
     "output_type": "stream",
     "text": [
      "==================================\u001b[1m Ai Message \u001b[0m==================================\n",
      "\n",
      "AI stand for Artificial Inteligence\n",
      "================================\u001b[1m Human Message \u001b[0m=================================\n",
      "\n",
      "Helle\n",
      "==================================\u001b[1m Ai Message \u001b[0m==================================\n",
      "\n",
      "Hello there!\n"
     ]
    }
   ],
   "source": [
    "from langgraph.graph import StateGraph, START,END,MessagesState \n",
    "from langchain_core.messages import  AIMessage\n",
    " \n",
    "def fun_llm_calls(msg:MessagesState):\n",
    "    return {\"messages\":[llm.invoke(msg[\"messages\"])]}\n",
    "   \n",
    "\n",
    "starting_graph:StateGraph = StateGraph(MessagesState)\n",
    "starting_graph.add_node(\"Node_1\",fun_llm_calls)\n",
    "starting_graph.add_edge(START, 'Node_1')\n",
    "starting_graph.add_edge('Node_1' ,END)\n",
    "graph_compling = starting_graph.compile()\n",
    "from IPython.display import display,Image\n",
    "display(Image(graph_compling.get_graph().draw_mermaid_png()))\n",
    "\n",
    "result = graph_compling.invoke({\"messages\":[AIMessage(content='AI stand for Artificial Inteligence'), HumanMessage(content=\"Helle\")]})\n",
    "for m in result[\"messages\"]:\n",
    "    m.pretty_print()"
   ]
  },
  {
   "cell_type": "code",
   "execution_count": 82,
   "metadata": {},
   "outputs": [
    {
     "data": {
      "text/plain": [
       "[AIMessage(content='So you said you were researching ocean mammals?', additional_kwargs={}, response_metadata={}, name='Bot', id='72d3e855-79a4-47ce-ace5-b3ce5087a953'),\n",
       " HumanMessage(content='Yes, I know about whales. But what others should I learn about?', additional_kwargs={}, response_metadata={}, name='Lance', id='fda2faf8-ad26-4c66-871f-34c85b7f1b97'),\n",
       " AIMessage(content='That depends on what interests you! To give you some suggestions, I need a little more information.  What aspects of whales fascinate you?  Is it their size, their migration patterns, their songs, their biology, their conservation status, or something else?\\n\\nKnowing what you find interesting about whales will help me suggest similar topics.  \\n\\nFor example, if you like the migration aspect, you might be interested in:\\n\\n* **Other migrating animals:**  Birds (especially shorebirds and waterfowl), Monarch butterflies, salmon, wildebeest.\\n* **Ocean currents and weather patterns:** These drive many migrations.\\n* **Navigation and orientation in animals:** How do animals find their way over such vast distances?\\n\\nIf you are interested in their biology:\\n\\n* **Marine mammals in general:** Dolphins, porpoises, seals, sea lions, manatees.\\n* **Deep-sea creatures:**  The bizarre adaptations of animals living in the deep ocean.\\n* **Mammalian evolution:**  The story of how mammals evolved from earlier ancestors.\\n\\nIf you are concerned about their conservation:\\n\\n* **Endangered species in general:**  The causes of endangerment and conservation efforts.\\n* **Ocean pollution and its effects on marine life:**  Plastic pollution, chemical pollution, noise pollution.\\n* **Climate change and its impact on the oceans:**  Rising sea levels, ocean acidification.\\n\\n\\nTell me more about what sparks your curiosity about whales, and I can give you more specific and relevant suggestions.\\n', additional_kwargs={}, response_metadata={'prompt_feedback': {'block_reason': 0, 'safety_ratings': []}, 'finish_reason': 'STOP', 'safety_ratings': []}, id='run-005fd39c-07fb-4242-be5c-10eef926c0c9-0', usage_metadata={'input_tokens': 16, 'output_tokens': 310, 'total_tokens': 326, 'input_token_details': {'cache_read': 0}}),\n",
       " HumanMessage(content='hi how are you', additional_kwargs={}, response_metadata={}, name='arman', id='9512f2fb-9a5f-4187-808c-63f52938bcb3'),\n",
       " AIMessage(content='That depends on what interests you! To give you some suggestions, I need a little more information.  What aspects of whales fascinate you?  Is it their size, their migration patterns, their songs, their biology, their conservation status, or something else?\\n\\nKnowing what you find interesting about whales will help me suggest similar topics.  \\n\\nFor example, if you like the migration aspect, you might be interested in:\\n\\n* **Other migrating animals:**  Birds (especially shorebirds and waterfowl), Monarch butterflies, salmon, wildebeest.\\n* **Ocean currents and weather patterns:** These drive many migrations.\\n* **Navigation and orientation in animals:** How do animals find their way over such vast distances?\\n\\nIf you are interested in their biology:\\n\\n* **Marine mammals in general:** Dolphins, porpoises, seals, sea lions, manatees.\\n* **Deep-sea creatures:**  The bizarre adaptations of animals living in the deep ocean.\\n* **Mammalian evolution:**  The story of how mammals evolved from earlier ancestors.\\n\\nIf you are concerned about their conservation:\\n\\n* **Endangered species in general:**  The causes of endangerment and conservation efforts.\\n* **Ocean pollution and its effects on marine life:**  Plastic pollution, chemical pollution, noise pollution.\\n* **Climate change and its impact on the oceans:**  Rising sea levels, ocean acidification.\\n\\n\\nTell me more about what sparks your curiosity about whales, and I can give you more specific and relevant suggestions.\\n', additional_kwargs={}, response_metadata={'prompt_feedback': {'block_reason': 0, 'safety_ratings': []}, 'finish_reason': 'STOP', 'safety_ratings': []}, id='run-005fd39c-07fb-4242-be5c-10eef926c0c9-0', usage_metadata={'input_tokens': 16, 'output_tokens': 310, 'total_tokens': 326, 'input_token_details': {'cache_read': 0}}),\n",
       " HumanMessage(content='hi how are you', additional_kwargs={}, response_metadata={}, name='arman', id='54b6284f-d89b-4df8-bae5-1c34455f7679')]"
      ]
     },
     "execution_count": 82,
     "metadata": {},
     "output_type": "execute_result"
    }
   ],
   "source": [
    "messages"
   ]
  },
  {
   "cell_type": "code",
   "execution_count": null,
   "metadata": {},
   "outputs": [],
   "source": []
  }
 ],
 "metadata": {
  "kernelspec": {
   "display_name": "Python 3",
   "language": "python",
   "name": "python3"
  },
  "language_info": {
   "codemirror_mode": {
    "name": "ipython",
    "version": 3
   },
   "file_extension": ".py",
   "mimetype": "text/x-python",
   "name": "python",
   "nbconvert_exporter": "python",
   "pygments_lexer": "ipython3",
   "version": "3.12.3"
  }
 },
 "nbformat": 4,
 "nbformat_minor": 2
}
