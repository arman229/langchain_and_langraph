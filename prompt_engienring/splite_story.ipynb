{
 "cells": [
  {
   "cell_type": "code",
   "execution_count": null,
   "metadata": {},
   "outputs": [],
   "source": [
    " \n",
    "\n",
    "def split_story_into_scenes(full_story, scenes):\n",
    "    prompt = f\"\"\"\n",
    "    Here is a story. Please generate a narration that exactly follows this text, starting with 'Once upon a time...' and keeping all sentences unchanged. Do not change the wording or style. \n",
    "    ### Story:\n",
    "    {full_story}\n",
    "\n",
    "    ### Scene Descriptions:\n",
    "    {json.dumps(scenes, indent=2)}\n",
    "\n",
    "    ### Output format:\n",
    "    Return the result in JSON format with this structure:\n",
    "    {{\n",
    "      \"scenes\": [\n",
    "        {{\n",
    "          \"id\": \"\",\n",
    "          \"Scene\": \"\",\n",
    "          \"Description\": \"\",\n",
    "          \"Narration\": \"\"\n",
    "        }},\n",
    "        ...\n",
    "      ]\n",
    "    }}\n",
    "\n",
    "    Only output JSON. Do not change the wording of the narration.\n",
    "    \"\"\"\n",
    "     \n",
    "    hum_msg = HumanMessage(content=prompt)\n",
    "    res = llm.invoke([hum_msg])\n",
    "    print(res)\n",
    "    \n",
    "\n",
    " \n",
    "scene_narrations = split_story_into_scenes(resp[\"generated_story\"], resp1['final_res']['Scenes'])\n",
    "\n",
    "print(scene_narrations)\n"
   ]
  }
 ],
 "metadata": {
  "language_info": {
   "name": "python"
  }
 },
 "nbformat": 4,
 "nbformat_minor": 2
}
