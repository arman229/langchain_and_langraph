{
 "cells": [
  {
   "cell_type": "code",
   "execution_count": 1,
   "metadata": {},
   "outputs": [
    {
     "name": "stdout",
     "output_type": "stream",
     "text": [
      "Note: you may need to restart the kernel to use updated packages.\n"
     ]
    },
    {
     "name": "stderr",
     "output_type": "stream",
     "text": [
      "ERROR: Invalid requirement: '#': Expected package name at the start of dependency specifier\n",
      "    #\n",
      "    ^\n"
     ]
    }
   ],
   "source": [
    "%pip install -U -q \"google-genai\" # Install the Python SDK\n"
   ]
  },
  {
   "cell_type": "code",
   "execution_count": 6,
   "metadata": {},
   "outputs": [
    {
     "name": "stdout",
     "output_type": "stream",
     "text": [
      "Gemini Api is loaded successfully\n",
      "Im\n",
      "________________________________________________________________________________\n",
      "ran Khan is\n",
      "________________________________________________________________________________\n",
      " a Pakistani politician and former international cricketer. He served as the 22nd Prime\n",
      "________________________________________________________________________________\n",
      " Minister of Pakistan from August 2018 until April 202\n",
      "________________________________________________________________________________\n",
      "2, when he was removed from office following a successful vote of no confidence.\n",
      "\n",
      "Here's a breakdown of his key aspects:\n",
      "\n",
      "*   **Cricket\n",
      "________________________________________________________________________________\n",
      " Career:** Before entering politics, Khan was a world-renowned cricketer. He captained the Pakistan national cricket team to victory in the 1992 Cricket\n",
      "________________________________________________________________________________\n",
      " World Cup. He is considered one of the greatest cricketers of all time.\n",
      "\n",
      "*   **Political Career:** In 1996, Khan founded the Pakistan Tehreek-e-Insaf (PTI) party. After years in\n",
      "________________________________________________________________________________\n",
      " opposition, the PTI gained significant momentum, and Khan became Prime Minister in 2018.\n",
      "\n",
      "*   **Policies and Governance:** As Prime Minister, Khan focused on issues such as anti-corruption, economic reform, and poverty alleviation. His government\n",
      "________________________________________________________________________________\n",
      " initiated social welfare programs and emphasized an independent foreign policy.\n",
      "\n",
      "*   **Controversies:** Khan's political career has been marked by controversies, including allegations of corruption against his government, criticism of his economic policies, and disputes with opposition parties.\n",
      "\n",
      "*   **Current Status:** Since being removed from office, Khan has remained\n",
      "________________________________________________________________________________\n",
      " a prominent political figure in Pakistan, leading rallies and protests. He faces various legal challenges and has been critical of the current government.\n",
      "________________________________________________________________________________\n"
     ]
    }
   ],
   "source": [
    "\n",
    "from google import genai\n",
    "from dotenv import load_dotenv\n",
    "import os \n",
    "_ = load_dotenv()\n",
    "GOOGLE_API_KEY = os.getenv('GEMINI_API_KEY')\n",
    "if GOOGLE_API_KEY is None:\n",
    "    print('Gemini api key is not loaded successfully')\n",
    "print('Gemini Api is loaded successfully')    \n",
    "\n",
    "client = genai.Client(api_key=GOOGLE_API_KEY)\n",
    "for chunk in client.models.generate_content_stream(\n",
    "  model='gemini-2.0-flash',\n",
    "  contents='who is imran khan'\n",
    "):\n",
    "    print(chunk.text)\n",
    "    print(\"_\" * 80)"
   ]
  },
  {
   "cell_type": "code",
   "execution_count": 5,
   "metadata": {},
   "outputs": [
    {
     "name": "stdout",
     "output_type": "stream",
     "text": [
      "C\n",
      "________________________________________________________________________________\n",
      "lementine was a tiny, fluffy cloud of a kitten, barely bigger than a teacup. Her\n",
      "________________________________________________________________________________\n",
      " fur was the color of freshly churned butter, and her eyes were wide and innocent, the\n",
      "________________________________________________________________________________\n",
      " color of melted jade. Her biggest ambition in life was to catch the elusive dust bunnies that scurried under the sofa.\n",
      "\n",
      "Her best friend, a ginger tabby\n",
      "________________________________________________________________________________\n",
      " named Marmalade, was a seasoned adventurer (at least in Clementine's eyes). He had a confident swagger, a rumbling purr, and a\n",
      "________________________________________________________________________________\n",
      " knack for finding the sunniest spots in the house. Marmalade, though twice Clementine's size, treated her with the gentleness of a summer breeze.\n",
      "\n",
      "One afternoon, Clementine was practicing her pouncing technique on a particularly plump dust\n",
      "________________________________________________________________________________\n",
      " bunny. She wiggled her bottom, swished her tail, and launched herself with surprising force. Unfortunately, she missed. Spectacularly. Instead of landing on the dust bunny, she tumbled head over heels, landing in a heap of fluff\n",
      "________________________________________________________________________________\n",
      " and embarrassment.\n",
      "\n",
      "Marmalade, who had been napping on the armrest, opened one eye. He stifled a yawn that threatened to dislocate his jaw and ambled over to her.\n",
      "\n",
      "\"Having a bit of trouble, Clem?\" he purred, his voice a low rumble.\n",
      "\n",
      "Clementine wrigg\n",
      "________________________________________________________________________________\n",
      "led free of the dust and puffed out her chest. \"I was just... perfecting my technique!\" she declared, trying to sound more confident than she felt.\n",
      "\n",
      "Marmalade chuckled, a soft, warm sound. He nudged her gently with his head. \"I know a secret,\" he whispered. \"The\n",
      "________________________________________________________________________________\n",
      " best way to catch dust bunnies is to be sneaky.\"\n",
      "\n",
      "Clementine's ears perked up. \"Sneaky? How?\"\n",
      "\n",
      "Marmalade demonstrated. He crept low to the ground, his belly almost touching the carpet. He moved with the grace of a seasoned hunter, his eyes fixed on the unsuspecting dust bunny. He\n",
      "________________________________________________________________________________\n",
      " paused, wiggled his bottom, and then – *POUNCE!* – He landed squarely on his target, batting it around with playful paws.\n",
      "\n",
      "Clementine watched, mesmerized. \"Wow!\" she exclaimed. \"Can you teach me?\"\n",
      "\n",
      "And so, Marmalade became Clementine's dust\n",
      "________________________________________________________________________________\n",
      " bunny mentor. He taught her the art of the sneak, the importance of patience, and the sheer joy of a successful pounce. They practiced together, Clementine mimicking Marmalade's every move.\n",
      "\n",
      "She still missed sometimes, her enthusiasm often outweighing her skill. But Marmalade was always there, offering encouragement\n",
      "________________________________________________________________________________\n",
      " with a gentle lick or a playful swat. He taught her that even if you don't catch the dust bunny, the most important thing is to have fun trying.\n",
      "\n",
      "One sunny afternoon, Clementine and Marmalade were lounging on the windowsill, basking in the warmth. Clementine had just managed to catch a particularly\n",
      "________________________________________________________________________________\n",
      " stubborn dust bunny, and she was feeling immensely proud of herself.\n",
      "\n",
      "She snuggled up to Marmalade, purring contentedly. \"Thank you, Marmalade,\" she murmured. \"You're the best dust bunny teacher ever!\"\n",
      "\n",
      "Marmalade wrapped his tail around her and purred even louder. \"And\n",
      "________________________________________________________________________________\n",
      " you, Clem,\" he said, \"are the cutest, fluffiest, and most determined dust bunny hunter I know.\"\n",
      "\n",
      "And as the sun streamed through the window, painting them in golden light, they knew that even though they were just two little cats chasing dust bunnies, they were also the best of friends, and\n",
      "________________________________________________________________________________\n",
      " that was the most important thing of all.\n",
      "\n",
      "________________________________________________________________________________\n"
     ]
    }
   ],
   "source": [
    "async for chunk in await client.aio.models.generate_content_stream(\n",
    "    model='gemini-2.0-flash',\n",
    "    contents=\"Write a cute story about cats.\"):\n",
    "    if chunk.text:\n",
    "        print(chunk.text)\n",
    "    print(\"_\"*80)"
   ]
  }
 ],
 "metadata": {
  "kernelspec": {
   "display_name": "Python 3",
   "language": "python",
   "name": "python3"
  },
  "language_info": {
   "codemirror_mode": {
    "name": "ipython",
    "version": 3
   },
   "file_extension": ".py",
   "mimetype": "text/x-python",
   "name": "python",
   "nbconvert_exporter": "python",
   "pygments_lexer": "ipython3",
   "version": "3.12.3"
  }
 },
 "nbformat": 4,
 "nbformat_minor": 2
}
