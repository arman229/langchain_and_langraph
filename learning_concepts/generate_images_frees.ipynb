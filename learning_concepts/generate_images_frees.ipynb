{
 "cells": [
  {
   "cell_type": "code",
   "execution_count": 1,
   "metadata": {},
   "outputs": [
    {
     "name": "stdout",
     "output_type": "stream",
     "text": [
      "Requirement already satisfied: git-filter-repo in c:\\users\\arman\\appdata\\local\\programs\\python\\python312\\lib\\site-packages (2.38.0)\n"
     ]
    },
    {
     "name": "stderr",
     "output_type": "stream",
     "text": [
      "WARNING: Ignoring invalid distribution ~oetry (C:\\Users\\arman\\AppData\\Local\\Programs\\Python\\Python312\\Lib\\site-packages)\n",
      "WARNING: Ignoring invalid distribution ~oetry (C:\\Users\\arman\\AppData\\Local\\Programs\\Python\\Python312\\Lib\\site-packages)\n",
      "WARNING: Ignoring invalid distribution ~oetry (C:\\Users\\arman\\AppData\\Local\\Programs\\Python\\Python312\\Lib\\site-packages)\n"
     ]
    }
   ],
   "source": [
    "!pip install git-filter-repo\n"
   ]
  },
  {
   "cell_type": "code",
   "execution_count": 1,
   "metadata": {},
   "outputs": [
    {
     "name": "stdout",
     "output_type": "stream",
     "text": [
      "Loaded as API: https://bytedance-sdxl-lightning.hf.space ✔\n",
      "Temporary file path: C:\\Users\\arman\\AppData\\Local\\Temp\\gradio\\44e58a0d3e85c3d1a19e7d90d5025affac4ffac04434c098d880691683abeb54\\image.webp\n",
      "Image successfully saved to generated_image.webp\n"
     ]
    }
   ],
   "source": [
    "from gradio_client import Client\n",
    "import shutil\n",
    "\n",
    "# Create a Gradio client for the model\n",
    "client = Client(\"ByteDance/SDXL-Lightning\")\n",
    "prompt = \"\"\"Create a detailed, photorealistic image of the following scene:\\n        Leo learns about respecting wildlife.\\n        \\n        **Main Characters**:\\n        Leo - A young boy with bright eyes and short brown hair, wearing a simple, slightly torn shirt and shorts., Curious, adventurous, a little bit scared but brave.\\n \\n\\n      \"\"\"\n",
    "# Call the API to generate the image\n",
    "result = client.predict(\n",
    "    prompt=prompt,\n",
    "    ckpt=\"4-Step\",\n",
    "    api_name=\"/generate_image\"\n",
    ")\n",
    "\n",
    "print(\"Temporary file path:\", result)\n",
    "\n",
    "# Set the destination path in your working directory\n",
    "destination_path = \"generated_image.webp\"\n",
    "\n",
    "# Copy the generated file from the temporary location to your desired path\n",
    "shutil.copy(result, destination_path)\n",
    "print(f\"Image successfully saved to {destination_path}\")\n"
   ]
  },
  {
   "cell_type": "code",
   "execution_count": 2,
   "metadata": {},
   "outputs": [
    {
     "name": "stdout",
     "output_type": "stream",
     "text": [
      "Loaded as API: https://bytedance-sdxl-lightning.hf.space ✔\n"
     ]
    },
    {
     "ename": "AppError",
     "evalue": "The upstream Gradio app has raised an exception: 'You have exceeded your GPU quota (60s left vs. 60s requested). Sign-up on Hugging Face to get more quotas or retry in 20:00:54'",
     "output_type": "error",
     "traceback": [
      "\u001b[31m---------------------------------------------------------------------------\u001b[39m",
      "\u001b[31mAppError\u001b[39m                                  Traceback (most recent call last)",
      "\u001b[36mCell\u001b[39m\u001b[36m \u001b[39m\u001b[32mIn[2]\u001b[39m\u001b[32m, line 26\u001b[39m\n\u001b[32m      8\u001b[39m prompt = \u001b[33m\"\"\"\u001b[39m\u001b[33mCreate a detailed, photorealistic image of the following scene:\u001b[39m\n\u001b[32m      9\u001b[39m \u001b[33mLeo observes the lion family.\u001b[39m\n\u001b[32m     10\u001b[39m \n\u001b[32m   (...)\u001b[39m\u001b[32m     22\u001b[39m \u001b[33mThe illustration should capture the story’s essence and atmosphere.\u001b[39m\n\u001b[32m     23\u001b[39m \u001b[33m\"\"\"\u001b[39m\n\u001b[32m     25\u001b[39m \u001b[38;5;66;03m# Get the temp image path\u001b[39;00m\n\u001b[32m---> \u001b[39m\u001b[32m26\u001b[39m result_path = \u001b[43mclient\u001b[49m\u001b[43m.\u001b[49m\u001b[43mpredict\u001b[49m\u001b[43m(\u001b[49m\n\u001b[32m     27\u001b[39m \u001b[43m    \u001b[49m\u001b[43mprompt\u001b[49m\u001b[43m=\u001b[49m\u001b[43mprompt\u001b[49m\u001b[43m,\u001b[49m\n\u001b[32m     28\u001b[39m \u001b[43m    \u001b[49m\u001b[43mckpt\u001b[49m\u001b[43m=\u001b[49m\u001b[33;43m\"\u001b[39;49m\u001b[33;43m4-Step\u001b[39;49m\u001b[33;43m\"\u001b[39;49m\u001b[43m,\u001b[49m\n\u001b[32m     29\u001b[39m \u001b[43m    \u001b[49m\u001b[43mapi_name\u001b[49m\u001b[43m=\u001b[49m\u001b[33;43m\"\u001b[39;49m\u001b[33;43m/generate_image\u001b[39;49m\u001b[33;43m\"\u001b[39;49m\n\u001b[32m     30\u001b[39m \u001b[43m)\u001b[49m\n\u001b[32m     32\u001b[39m \u001b[38;5;66;03m# Open the image directly from the temp path (no need to save it again)\u001b[39;00m\n\u001b[32m     33\u001b[39m \u001b[38;5;28;01mwith\u001b[39;00m Image.open(result_path).convert(\u001b[33m\"\u001b[39m\u001b[33mRGB\u001b[39m\u001b[33m\"\u001b[39m) \u001b[38;5;28;01mas\u001b[39;00m img:\n\u001b[32m     34\u001b[39m     \u001b[38;5;66;03m# Resize to YouTube Shorts format (1080x1920)\u001b[39;00m\n",
      "\u001b[36mFile \u001b[39m\u001b[32mc:\\Users\\arman\\AppData\\Local\\Programs\\Python\\Python312\\Lib\\site-packages\\gradio_client\\client.py:478\u001b[39m, in \u001b[36mClient.predict\u001b[39m\u001b[34m(self, api_name, fn_index, *args, **kwargs)\u001b[39m\n\u001b[32m    460\u001b[39m \u001b[38;5;250m\u001b[39m\u001b[33;03m\"\"\"\u001b[39;00m\n\u001b[32m    461\u001b[39m \u001b[33;03mCalls the Gradio API and returns the result (this is a blocking call).\u001b[39;00m\n\u001b[32m    462\u001b[39m \n\u001b[32m   (...)\u001b[39m\u001b[32m    473\u001b[39m \u001b[33;03m    >> 9.0\u001b[39;00m\n\u001b[32m    474\u001b[39m \u001b[33;03m\"\"\"\u001b[39;00m\n\u001b[32m    475\u001b[39m \u001b[38;5;28mself\u001b[39m._infer_fn_index(api_name, fn_index)\n\u001b[32m    476\u001b[39m \u001b[38;5;28;01mreturn\u001b[39;00m \u001b[38;5;28;43mself\u001b[39;49m\u001b[43m.\u001b[49m\u001b[43msubmit\u001b[49m\u001b[43m(\u001b[49m\n\u001b[32m    477\u001b[39m \u001b[43m    \u001b[49m\u001b[43m*\u001b[49m\u001b[43margs\u001b[49m\u001b[43m,\u001b[49m\u001b[43m \u001b[49m\u001b[43mapi_name\u001b[49m\u001b[43m=\u001b[49m\u001b[43mapi_name\u001b[49m\u001b[43m,\u001b[49m\u001b[43m \u001b[49m\u001b[43mfn_index\u001b[49m\u001b[43m=\u001b[49m\u001b[43mfn_index\u001b[49m\u001b[43m,\u001b[49m\u001b[43m \u001b[49m\u001b[43m*\u001b[49m\u001b[43m*\u001b[49m\u001b[43mkwargs\u001b[49m\n\u001b[32m--> \u001b[39m\u001b[32m478\u001b[39m \u001b[43m\u001b[49m\u001b[43m)\u001b[49m\u001b[43m.\u001b[49m\u001b[43mresult\u001b[49m\u001b[43m(\u001b[49m\u001b[43m)\u001b[49m\n",
      "\u001b[36mFile \u001b[39m\u001b[32mc:\\Users\\arman\\AppData\\Local\\Programs\\Python\\Python312\\Lib\\site-packages\\gradio_client\\client.py:1539\u001b[39m, in \u001b[36mJob.result\u001b[39m\u001b[34m(self, timeout)\u001b[39m\n\u001b[32m   1524\u001b[39m \u001b[38;5;28;01mdef\u001b[39;00m\u001b[38;5;250m \u001b[39m\u001b[34mresult\u001b[39m(\u001b[38;5;28mself\u001b[39m, timeout: \u001b[38;5;28mfloat\u001b[39m | \u001b[38;5;28;01mNone\u001b[39;00m = \u001b[38;5;28;01mNone\u001b[39;00m) -> Any:\n\u001b[32m   1525\u001b[39m \u001b[38;5;250m    \u001b[39m\u001b[33;03m\"\"\"\u001b[39;00m\n\u001b[32m   1526\u001b[39m \u001b[33;03m    Return the result of the call that the future represents. Raises CancelledError: If the future was cancelled, TimeoutError: If the future didn't finish executing before the given timeout, and Exception: If the call raised then that exception will be raised.\u001b[39;00m\n\u001b[32m   1527\u001b[39m \n\u001b[32m   (...)\u001b[39m\u001b[32m   1537\u001b[39m \u001b[33;03m        >> 9\u001b[39;00m\n\u001b[32m   1538\u001b[39m \u001b[33;03m    \"\"\"\u001b[39;00m\n\u001b[32m-> \u001b[39m\u001b[32m1539\u001b[39m     \u001b[38;5;28;01mreturn\u001b[39;00m \u001b[38;5;28;43msuper\u001b[39;49m\u001b[43m(\u001b[49m\u001b[43m)\u001b[49m\u001b[43m.\u001b[49m\u001b[43mresult\u001b[49m\u001b[43m(\u001b[49m\u001b[43mtimeout\u001b[49m\u001b[43m=\u001b[49m\u001b[43mtimeout\u001b[49m\u001b[43m)\u001b[49m\n",
      "\u001b[36mFile \u001b[39m\u001b[32mc:\\Users\\arman\\AppData\\Local\\Programs\\Python\\Python312\\Lib\\concurrent\\futures\\_base.py:456\u001b[39m, in \u001b[36mFuture.result\u001b[39m\u001b[34m(self, timeout)\u001b[39m\n\u001b[32m    454\u001b[39m     \u001b[38;5;28;01mraise\u001b[39;00m CancelledError()\n\u001b[32m    455\u001b[39m \u001b[38;5;28;01melif\u001b[39;00m \u001b[38;5;28mself\u001b[39m._state == FINISHED:\n\u001b[32m--> \u001b[39m\u001b[32m456\u001b[39m     \u001b[38;5;28;01mreturn\u001b[39;00m \u001b[38;5;28;43mself\u001b[39;49m\u001b[43m.\u001b[49m\u001b[43m__get_result\u001b[49m\u001b[43m(\u001b[49m\u001b[43m)\u001b[49m\n\u001b[32m    457\u001b[39m \u001b[38;5;28;01melse\u001b[39;00m:\n\u001b[32m    458\u001b[39m     \u001b[38;5;28;01mraise\u001b[39;00m \u001b[38;5;167;01mTimeoutError\u001b[39;00m()\n",
      "\u001b[36mFile \u001b[39m\u001b[32mc:\\Users\\arman\\AppData\\Local\\Programs\\Python\\Python312\\Lib\\concurrent\\futures\\_base.py:401\u001b[39m, in \u001b[36mFuture.__get_result\u001b[39m\u001b[34m(self)\u001b[39m\n\u001b[32m    399\u001b[39m \u001b[38;5;28;01mif\u001b[39;00m \u001b[38;5;28mself\u001b[39m._exception:\n\u001b[32m    400\u001b[39m     \u001b[38;5;28;01mtry\u001b[39;00m:\n\u001b[32m--> \u001b[39m\u001b[32m401\u001b[39m         \u001b[38;5;28;01mraise\u001b[39;00m \u001b[38;5;28mself\u001b[39m._exception\n\u001b[32m    402\u001b[39m     \u001b[38;5;28;01mfinally\u001b[39;00m:\n\u001b[32m    403\u001b[39m         \u001b[38;5;66;03m# Break a reference cycle with the exception in self._exception\u001b[39;00m\n\u001b[32m    404\u001b[39m         \u001b[38;5;28mself\u001b[39m = \u001b[38;5;28;01mNone\u001b[39;00m\n",
      "\u001b[36mFile \u001b[39m\u001b[32mc:\\Users\\arman\\AppData\\Local\\Programs\\Python\\Python312\\Lib\\concurrent\\futures\\thread.py:58\u001b[39m, in \u001b[36m_WorkItem.run\u001b[39m\u001b[34m(self)\u001b[39m\n\u001b[32m     55\u001b[39m     \u001b[38;5;28;01mreturn\u001b[39;00m\n\u001b[32m     57\u001b[39m \u001b[38;5;28;01mtry\u001b[39;00m:\n\u001b[32m---> \u001b[39m\u001b[32m58\u001b[39m     result = \u001b[38;5;28;43mself\u001b[39;49m\u001b[43m.\u001b[49m\u001b[43mfn\u001b[49m\u001b[43m(\u001b[49m\u001b[43m*\u001b[49m\u001b[38;5;28;43mself\u001b[39;49m\u001b[43m.\u001b[49m\u001b[43margs\u001b[49m\u001b[43m,\u001b[49m\u001b[43m \u001b[49m\u001b[43m*\u001b[49m\u001b[43m*\u001b[49m\u001b[38;5;28;43mself\u001b[39;49m\u001b[43m.\u001b[49m\u001b[43mkwargs\u001b[49m\u001b[43m)\u001b[49m\n\u001b[32m     59\u001b[39m \u001b[38;5;28;01mexcept\u001b[39;00m \u001b[38;5;167;01mBaseException\u001b[39;00m \u001b[38;5;28;01mas\u001b[39;00m exc:\n\u001b[32m     60\u001b[39m     \u001b[38;5;28mself\u001b[39m.future.set_exception(exc)\n",
      "\u001b[36mFile \u001b[39m\u001b[32mc:\\Users\\arman\\AppData\\Local\\Programs\\Python\\Python312\\Lib\\site-packages\\gradio_client\\client.py:1158\u001b[39m, in \u001b[36mEndpoint.make_end_to_end_fn.<locals>._inner\u001b[39m\u001b[34m(*data)\u001b[39m\n\u001b[32m   1156\u001b[39m     data = \u001b[38;5;28mself\u001b[39m.insert_empty_state(*data)\n\u001b[32m   1157\u001b[39m data = \u001b[38;5;28mself\u001b[39m.process_input_files(*data)\n\u001b[32m-> \u001b[39m\u001b[32m1158\u001b[39m predictions = \u001b[43m_predict\u001b[49m\u001b[43m(\u001b[49m\u001b[43m*\u001b[49m\u001b[43mdata\u001b[49m\u001b[43m)\u001b[49m\n\u001b[32m   1159\u001b[39m predictions = \u001b[38;5;28mself\u001b[39m.process_predictions(*predictions)\n\u001b[32m   1161\u001b[39m \u001b[38;5;66;03m# Append final output only if not already present\u001b[39;00m\n\u001b[32m   1162\u001b[39m \u001b[38;5;66;03m# for consistency between generators and not generators\u001b[39;00m\n",
      "\u001b[36mFile \u001b[39m\u001b[32mc:\\Users\\arman\\AppData\\Local\\Programs\\Python\\Python312\\Lib\\site-packages\\gradio_client\\client.py:1275\u001b[39m, in \u001b[36mEndpoint.make_predict.<locals>._predict\u001b[39m\u001b[34m(*data)\u001b[39m\n\u001b[32m   1270\u001b[39m         \u001b[38;5;28;01mraise\u001b[39;00m AppError(\n\u001b[32m   1271\u001b[39m             \u001b[33m\"\u001b[39m\u001b[33mThe upstream Gradio app has raised an exception but has not enabled \u001b[39m\u001b[33m\"\u001b[39m\n\u001b[32m   1272\u001b[39m             \u001b[33m\"\u001b[39m\u001b[33mverbose error reporting. To enable, set show_error=True in launch().\u001b[39m\u001b[33m\"\u001b[39m\n\u001b[32m   1273\u001b[39m         )\n\u001b[32m   1274\u001b[39m     \u001b[38;5;28;01melse\u001b[39;00m:\n\u001b[32m-> \u001b[39m\u001b[32m1275\u001b[39m         \u001b[38;5;28;01mraise\u001b[39;00m AppError(\n\u001b[32m   1276\u001b[39m             \u001b[33m\"\u001b[39m\u001b[33mThe upstream Gradio app has raised an exception: \u001b[39m\u001b[33m\"\u001b[39m\n\u001b[32m   1277\u001b[39m             + result[\u001b[33m\"\u001b[39m\u001b[33merror\u001b[39m\u001b[33m\"\u001b[39m]\n\u001b[32m   1278\u001b[39m         )\n\u001b[32m   1280\u001b[39m \u001b[38;5;28;01mtry\u001b[39;00m:\n\u001b[32m   1281\u001b[39m     output = result[\u001b[33m\"\u001b[39m\u001b[33mdata\u001b[39m\u001b[33m\"\u001b[39m]\n",
      "\u001b[31mAppError\u001b[39m: The upstream Gradio app has raised an exception: 'You have exceeded your GPU quota (60s left vs. 60s requested). Sign-up on Hugging Face to get more quotas or retry in 20:00:54'"
     ]
    }
   ],
   "source": [
    "from gradio_client import Client\n",
    "from PIL import Image\n",
    "import os\n",
    "\n",
    "# Create a Gradio client for the model\n",
    "client = Client(\"ByteDance/SDXL-Lightning\")\n",
    "\n",
    "prompt = \"\"\"Create a detailed, photorealistic image of the following scene:\n",
    "Leo observes the lion family.\n",
    "\n",
    "**Main Characters**:\n",
    "Leo - A young boy with bright eyes and short brown hair, wearing a simple, slightly torn shirt and shorts. Curious, adventurous, a little bit scared but brave.\n",
    "\n",
    "**Supporting Characters**:\n",
    "Aslan - A large, majestic lion with a golden mane, powerful muscles, and piercing amber eyes. Initially appears fierce but is actually calm and protective of its cubs.\n",
    "\n",
    "**Objects**:\n",
    "The lion family resting, the cubs playfully batting at each other, the mother lion watching protectively.\n",
    "\n",
    "**Mood & Lighting**: Cinematic, immersive atmosphere with realistic lighting to match the scene's emotions.\n",
    "\n",
    "The illustration should capture the story’s essence and atmosphere.\n",
    "\"\"\"\n",
    "\n",
    "# Get the temp image path\n",
    "result_path = client.predict(\n",
    "    prompt=prompt,\n",
    "    ckpt=\"4-Step\",\n",
    "    api_name=\"/generate_image\"\n",
    ")\n",
    "\n",
    "# Open the image directly from the temp path (no need to save it again)\n",
    "with Image.open(result_path).convert(\"RGB\") as img:\n",
    "    # Resize to YouTube Shorts format (1080x1920)\n",
    "    resized_img = img.resize((1080, 1920), Image.Resampling.LANCZOS)\n",
    "\n",
    "    # Save final image to disk\n",
    "    output_path = \"youtube_shorts_image.png\"\n",
    "    resized_img.save(output_path, format=\"PNG\")\n",
    "    print(f\"Image saved in PNG format with size 1080x1920 at: {output_path}\")\n",
    "\n",
    "# Optionally: delete the temp file if you want\n",
    "os.remove(result_path)\n"
   ]
  },
  {
   "cell_type": "code",
   "execution_count": 10,
   "metadata": {},
   "outputs": [
    {
     "name": "stdout",
     "output_type": "stream",
     "text": [
      "Loaded as API: https://muhammadarman-stabilityai-stable-diffusion-xl-base-1-0.hf.space ✔\n"
     ]
    },
    {
     "ename": "TypeError",
     "evalue": "Parameter `prompt` is not a valid key-word argument. Please click on 'view API' in the footer of the Gradio app to see usage.",
     "output_type": "error",
     "traceback": [
      "\u001b[31m---------------------------------------------------------------------------\u001b[39m",
      "\u001b[31mTypeError\u001b[39m                                 Traceback (most recent call last)",
      "\u001b[36mCell\u001b[39m\u001b[36m \u001b[39m\u001b[32mIn[10]\u001b[39m\u001b[32m, line 23\u001b[39m\n\u001b[32m      5\u001b[39m prompt = \u001b[33m\"\"\"\u001b[39m\u001b[33mCreate a detailed, photorealistic image of the following scene:\u001b[39m\n\u001b[32m      6\u001b[39m \u001b[33mLeo observes the lion family.\u001b[39m\n\u001b[32m      7\u001b[39m \n\u001b[32m   (...)\u001b[39m\u001b[32m     19\u001b[39m \u001b[33mThe illustration should capture the story’s essence and atmosphere.\u001b[39m\n\u001b[32m     20\u001b[39m \u001b[33m\"\"\"\u001b[39m\n\u001b[32m     22\u001b[39m \u001b[38;5;66;03m# Get the temp image path\u001b[39;00m\n\u001b[32m---> \u001b[39m\u001b[32m23\u001b[39m result_path = \u001b[43mclient\u001b[49m\u001b[43m.\u001b[49m\u001b[43mpredict\u001b[49m\u001b[43m(\u001b[49m\n\u001b[32m     24\u001b[39m \u001b[43m    \u001b[49m\u001b[43mprompt\u001b[49m\u001b[43m=\u001b[49m\u001b[43mprompt\u001b[49m\u001b[43m,\u001b[49m\n\u001b[32m     25\u001b[39m \u001b[43m    \u001b[49m\u001b[43mckpt\u001b[49m\u001b[43m=\u001b[49m\u001b[33;43m\"\u001b[39;49m\u001b[33;43m4-Step\u001b[39;49m\u001b[33;43m\"\u001b[39;49m\u001b[43m,\u001b[49m\n\u001b[32m     26\u001b[39m \u001b[43m    \u001b[49m\u001b[43mapi_name\u001b[49m\u001b[43m=\u001b[49m\u001b[33;43m\"\u001b[39;49m\u001b[33;43m/_check_login_status\u001b[39;49m\u001b[33;43m\"\u001b[39;49m\n\u001b[32m     27\u001b[39m \u001b[43m)\u001b[49m\n\u001b[32m     29\u001b[39m \u001b[38;5;66;03m# Open the image directly from the temp path (no need to save it again)\u001b[39;00m\n\u001b[32m     30\u001b[39m \u001b[38;5;28;01mwith\u001b[39;00m Image.open(result_path).convert(\u001b[33m\"\u001b[39m\u001b[33mRGB\u001b[39m\u001b[33m\"\u001b[39m) \u001b[38;5;28;01mas\u001b[39;00m img:\n\u001b[32m     31\u001b[39m     \u001b[38;5;66;03m# Resize to YouTube Shorts format (1080x1920)\u001b[39;00m\n",
      "\u001b[36mFile \u001b[39m\u001b[32mc:\\Users\\arman\\AppData\\Local\\Programs\\Python\\Python312\\Lib\\site-packages\\gradio_client\\client.py:476\u001b[39m, in \u001b[36mClient.predict\u001b[39m\u001b[34m(self, api_name, fn_index, *args, **kwargs)\u001b[39m\n\u001b[32m    460\u001b[39m \u001b[38;5;250m\u001b[39m\u001b[33;03m\"\"\"\u001b[39;00m\n\u001b[32m    461\u001b[39m \u001b[33;03mCalls the Gradio API and returns the result (this is a blocking call).\u001b[39;00m\n\u001b[32m    462\u001b[39m \n\u001b[32m   (...)\u001b[39m\u001b[32m    473\u001b[39m \u001b[33;03m    >> 9.0\u001b[39;00m\n\u001b[32m    474\u001b[39m \u001b[33;03m\"\"\"\u001b[39;00m\n\u001b[32m    475\u001b[39m \u001b[38;5;28mself\u001b[39m._infer_fn_index(api_name, fn_index)\n\u001b[32m--> \u001b[39m\u001b[32m476\u001b[39m \u001b[38;5;28;01mreturn\u001b[39;00m \u001b[38;5;28;43mself\u001b[39;49m\u001b[43m.\u001b[49m\u001b[43msubmit\u001b[49m\u001b[43m(\u001b[49m\n\u001b[32m    477\u001b[39m \u001b[43m    \u001b[49m\u001b[43m*\u001b[49m\u001b[43margs\u001b[49m\u001b[43m,\u001b[49m\u001b[43m \u001b[49m\u001b[43mapi_name\u001b[49m\u001b[43m=\u001b[49m\u001b[43mapi_name\u001b[49m\u001b[43m,\u001b[49m\u001b[43m \u001b[49m\u001b[43mfn_index\u001b[49m\u001b[43m=\u001b[49m\u001b[43mfn_index\u001b[49m\u001b[43m,\u001b[49m\u001b[43m \u001b[49m\u001b[43m*\u001b[49m\u001b[43m*\u001b[49m\u001b[43mkwargs\u001b[49m\n\u001b[32m    478\u001b[39m \u001b[43m\u001b[49m\u001b[43m)\u001b[49m.result()\n",
      "\u001b[36mFile \u001b[39m\u001b[32mc:\\Users\\arman\\AppData\\Local\\Programs\\Python\\Python312\\Lib\\site-packages\\gradio_client\\client.py:520\u001b[39m, in \u001b[36mClient.submit\u001b[39m\u001b[34m(self, api_name, fn_index, result_callbacks, *args, **kwargs)\u001b[39m\n\u001b[32m    517\u001b[39m endpoint = \u001b[38;5;28mself\u001b[39m.endpoints[inferred_fn_index]\n\u001b[32m    519\u001b[39m \u001b[38;5;28;01mif\u001b[39;00m \u001b[38;5;28misinstance\u001b[39m(endpoint, Endpoint):\n\u001b[32m--> \u001b[39m\u001b[32m520\u001b[39m     args = \u001b[43mutils\u001b[49m\u001b[43m.\u001b[49m\u001b[43mconstruct_args\u001b[49m\u001b[43m(\u001b[49m\u001b[43mendpoint\u001b[49m\u001b[43m.\u001b[49m\u001b[43mparameters_info\u001b[49m\u001b[43m,\u001b[49m\u001b[43m \u001b[49m\u001b[43margs\u001b[49m\u001b[43m,\u001b[49m\u001b[43m \u001b[49m\u001b[43mkwargs\u001b[49m\u001b[43m)\u001b[49m\n\u001b[32m    522\u001b[39m helper = \u001b[38;5;28;01mNone\u001b[39;00m\n\u001b[32m    523\u001b[39m \u001b[38;5;28;01mif\u001b[39;00m endpoint.protocol \u001b[38;5;129;01min\u001b[39;00m (\n\u001b[32m    524\u001b[39m     \u001b[33m\"\u001b[39m\u001b[33mws\u001b[39m\u001b[33m\"\u001b[39m,\n\u001b[32m    525\u001b[39m     \u001b[33m\"\u001b[39m\u001b[33msse\u001b[39m\u001b[33m\"\u001b[39m,\n\u001b[32m   (...)\u001b[39m\u001b[32m    529\u001b[39m     \u001b[33m\"\u001b[39m\u001b[33msse_v3\u001b[39m\u001b[33m\"\u001b[39m,\n\u001b[32m    530\u001b[39m ):\n",
      "\u001b[36mFile \u001b[39m\u001b[32mc:\\Users\\arman\\AppData\\Local\\Programs\\Python\\Python312\\Lib\\site-packages\\gradio_client\\utils.py:1273\u001b[39m, in \u001b[36mconstruct_args\u001b[39m\u001b[34m(parameters_info, args, kwargs)\u001b[39m\n\u001b[32m   1271\u001b[39m             _args[kwarg_arg_mapping[key]] = value\n\u001b[32m   1272\u001b[39m     \u001b[38;5;28;01melse\u001b[39;00m:\n\u001b[32m-> \u001b[39m\u001b[32m1273\u001b[39m         \u001b[38;5;28;01mraise\u001b[39;00m \u001b[38;5;167;01mTypeError\u001b[39;00m(\n\u001b[32m   1274\u001b[39m             \u001b[33mf\u001b[39m\u001b[33m\"\u001b[39m\u001b[33mParameter `\u001b[39m\u001b[38;5;132;01m{\u001b[39;00mkey\u001b[38;5;132;01m}\u001b[39;00m\u001b[33m` is not a valid key-word argument. Please click on \u001b[39m\u001b[33m'\u001b[39m\u001b[33mview API\u001b[39m\u001b[33m'\u001b[39m\u001b[33m in the footer of the Gradio app to see usage.\u001b[39m\u001b[33m\"\u001b[39m\n\u001b[32m   1275\u001b[39m         )\n\u001b[32m   1277\u001b[39m \u001b[38;5;28;01mif\u001b[39;00m _Keywords.NO_VALUE \u001b[38;5;129;01min\u001b[39;00m _args:\n\u001b[32m   1278\u001b[39m     \u001b[38;5;28;01mraise\u001b[39;00m \u001b[38;5;167;01mTypeError\u001b[39;00m(\n\u001b[32m   1279\u001b[39m         \u001b[33mf\u001b[39m\u001b[33m\"\u001b[39m\u001b[33mNo value provided for required argument: \u001b[39m\u001b[38;5;132;01m{\u001b[39;00mkwarg_names[_args.index(_Keywords.NO_VALUE)]\u001b[38;5;132;01m}\u001b[39;00m\u001b[33m\"\u001b[39m\n\u001b[32m   1280\u001b[39m     )\n",
      "\u001b[31mTypeError\u001b[39m: Parameter `prompt` is not a valid key-word argument. Please click on 'view API' in the footer of the Gradio app to see usage."
     ]
    }
   ],
   "source": [
    "from gradio_client import Client\n",
    "client = Client(\"Muhammadarman/stabilityai-stable-diffusion-xl-base-1.0\", )\n",
    "# Get the temp image path\n",
    "\n",
    "prompt = \"\"\"Create a detailed, photorealistic image of the following scene:\n",
    "Leo observes the lion family.\n",
    "\n",
    "**Main Characters**:\n",
    "Leo - A young boy with bright eyes and short brown hair, wearing a simple, slightly torn shirt and shorts. Curious, adventurous, a little bit scared but brave.\n",
    "\n",
    "**Supporting Characters**:\n",
    "Aslan - A large, majestic lion with a golden mane, powerful muscles, and piercing amber eyes. Initially appears fierce but is actually calm and protective of its cubs.\n",
    "\n",
    "**Objects**:\n",
    "The lion family resting, the cubs playfully batting at each other, the mother lion watching protectively.\n",
    "\n",
    "**Mood & Lighting**: Cinematic, immersive atmosphere with realistic lighting to match the scene's emotions.\n",
    "\n",
    "The illustration should capture the story’s essence and atmosphere.\n",
    "\"\"\"\n",
    "\n",
    "# Get the temp image path\n",
    "result_path = client.predict(\n",
    "    prompt=prompt,\n",
    "    ckpt=\"4-Step\",\n",
    "    api_name=\"/_check_login_status\"\n",
    ")\n",
    "\n",
    "# Open the image directly from the temp path (no need to save it again)\n",
    "with Image.open(result_path).convert(\"RGB\") as img:\n",
    "    # Resize to YouTube Shorts format (1080x1920)\n",
    "    resized_img = img.resize((1080, 1920), Image.Resampling.LANCZOS)\n",
    "\n",
    "    # Save final image to disk\n",
    "    output_path = \"youtube_shorts_image.png\"\n",
    "    resized_img.save(output_path, format=\"PNG\")\n",
    "    print(f\"Image saved in PNG format with size 1080x1920 at: {output_path}\")\n",
    "\n",
    "# Optionally: delete the temp file if you want\n",
    "os.remove(result_path)\n"
   ]
  },
  {
   "cell_type": "code",
   "execution_count": null,
   "metadata": {},
   "outputs": [],
   "source": []
  }
 ],
 "metadata": {
  "kernelspec": {
   "display_name": "Python 3",
   "language": "python",
   "name": "python3"
  },
  "language_info": {
   "codemirror_mode": {
    "name": "ipython",
    "version": 3
   },
   "file_extension": ".py",
   "mimetype": "text/x-python",
   "name": "python",
   "nbconvert_exporter": "python",
   "pygments_lexer": "ipython3",
   "version": "3.12.3"
  }
 },
 "nbformat": 4,
 "nbformat_minor": 2
}
