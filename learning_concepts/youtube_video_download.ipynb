{
 "cells": [
  {
   "cell_type": "code",
   "execution_count": 5,
   "metadata": {},
   "outputs": [
    {
     "name": "stdout",
     "output_type": "stream",
     "text": [
      "[youtube] Extracting URL: https://www.youtube.com/shorts/-mrTvGn6gfI\n",
      "[youtube] -mrTvGn6gfI: Downloading webpage\n",
      "[youtube] -mrTvGn6gfI: Downloading tv client config\n",
      "[youtube] -mrTvGn6gfI: Downloading player 59b252b9-main\n",
      "[youtube] -mrTvGn6gfI: Downloading tv player API JSON\n",
      "[youtube] -mrTvGn6gfI: Downloading ios player API JSON\n",
      "[youtube] -mrTvGn6gfI: Downloading m3u8 information\n",
      "[info] -mrTvGn6gfI: Downloading 1 format(s): 616+251\n",
      "[hlsnative] Downloading m3u8 manifest\n",
      "[hlsnative] Total fragments: 7\n",
      "[download] Destination: videos\\The Magical Power of Sharing： A Captivating Moral Story for Kids ｜ AI Generated Short Video.f616.mp4\n",
      "[download] 100% of    6.89MiB in 00:00:21 at 328.34KiB/s               \n",
      "[download] Destination: videos\\The Magical Power of Sharing： A Captivating Moral Story for Kids ｜ AI Generated Short Video.f251.webm\n",
      "[download] 100% of  648.07KiB in 00:00:02 at 307.47KiB/s \n",
      "[Merger] Merging formats into \"videos\\The Magical Power of Sharing： A Captivating Moral Story for Kids ｜ AI Generated Short Video.mp4\"\n",
      "Deleting original file videos\\The Magical Power of Sharing： A Captivating Moral Story for Kids ｜ AI Generated Short Video.f251.webm (pass -k to keep)\n",
      "Deleting original file videos\\The Magical Power of Sharing： A Captivating Moral Story for Kids ｜ AI Generated Short Video.f616.mp4 (pass -k to keep)\n"
     ]
    }
   ],
   "source": [
    "import yt_dlp\n",
    "\n",
    "def download_youtube_video(video_url, output_path=\".\"):\n",
    "    ydl_opts = {\n",
    "        'format': 'bestvideo+bestaudio/best',  # Download best video and audio streams and merge them\n",
    "        'outtmpl': f'{output_path}/%(title)s.%(ext)s',  # Save the file in the specified output folder\n",
    "        'merge_output_format': 'mp4',           # Ensure the final file is an MP4\n",
    "        'noplaylist': True,                     # Download only the single video, not the playlist\n",
    "    }\n",
    "    with yt_dlp.YoutubeDL(ydl_opts) as ydl:\n",
    "        ydl.download([video_url])\n",
    "\n",
    "# Example usage:\n",
    "if __name__ == \"__main__\":\n",
    "    video_url = \"https://www.youtube.com/shorts/-mrTvGn6gfI\"  # Replace with your desired URL\n",
    "    download_youtube_video(video_url, output_path=\"videos\")\n"
   ]
  },
  {
   "cell_type": "code",
   "execution_count": null,
   "metadata": {},
   "outputs": [],
   "source": []
  }
 ],
 "metadata": {
  "kernelspec": {
   "display_name": "Python 3",
   "language": "python",
   "name": "python3"
  },
  "language_info": {
   "codemirror_mode": {
    "name": "ipython",
    "version": 3
   },
   "file_extension": ".py",
   "mimetype": "text/x-python",
   "name": "python",
   "nbconvert_exporter": "python",
   "pygments_lexer": "ipython3",
   "version": "3.13.3"
  }
 },
 "nbformat": 4,
 "nbformat_minor": 2
}
