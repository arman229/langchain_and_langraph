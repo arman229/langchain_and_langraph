{
 "cells": [
  {
   "cell_type": "code",
   "execution_count": null,
   "metadata": {},
   "outputs": [],
   "source": [
    "import yt_dlp\n",
    "\n",
    "def download_youtube_video(video_url, output_path=\".\"):\n",
    "    ydl_opts = {\n",
    "        'format': 'bestvideo+bestaudio/best',  # Download best video and audio streams and merge them\n",
    "        'outtmpl': f'{output_path}/%(title)s.%(ext)s',  # Save the file in the specified output folder\n",
    "        'merge_output_format': 'mp4',           # Ensure the final file is an MP4\n",
    "        'noplaylist': True,                     # Download only the single video, not the playlist\n",
    "    }\n",
    "    with yt_dlp.YoutubeDL(ydl_opts) as ydl:\n",
    "        ydl.download([video_url])\n",
    "\n",
    "# Example usage:\n",
    "if __name__ == \"__main__\":\n",
    "    video_url = \"https://www.youtube.com/watch?v=l1WtjJIZ4rw\"  # Replace with your desired URL\n",
    "    download_youtube_video(video_url, output_path=\"videos\")\n"
   ]
  }
 ],
 "metadata": {
  "language_info": {
   "name": "python"
  }
 },
 "nbformat": 4,
 "nbformat_minor": 2
}
