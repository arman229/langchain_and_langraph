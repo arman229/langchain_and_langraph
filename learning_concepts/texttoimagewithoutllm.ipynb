{
 "cells": [
  {
   "cell_type": "code",
   "execution_count": null,
   "metadata": {},
   "outputs": [],
   "source": [
    "from PIL import Image, ImageDraw, ImageFont\n",
    "\n",
    "from PIL import Image, ImageDraw, ImageFont\n",
    "\n",
    "def create_text_image(text, filename=\"text_image.png\", width=400, height=200, bg_color=\"white\", text_color=\"black\", font_size=24, font_path=\"arial.ttf\"):\n",
    "    try:\n",
    "        image = Image.new(\"RGB\", (width, height), bg_color)\n",
    "        draw = ImageDraw.Draw(image)\n",
    "\n",
    "        try:\n",
    "            font = ImageFont.truetype(font_path, font_size)\n",
    "        except OSError:\n",
    "            font = ImageFont.load_default()\n",
    "\n",
    "        # Use textbbox instead of textsize\n",
    "        bbox = draw.textbbox((0, 0), text, font=font)\n",
    "        text_width = bbox[2] - bbox[0]\n",
    "        text_height = bbox[3] - bbox[1]\n",
    "\n",
    "        x = (width - text_width) / 2\n",
    "        y = (height - text_height) / 2\n",
    "\n",
    "        draw.text((x, y), text, fill=text_color, font=font)\n",
    "\n",
    "        image.save(filename)\n",
    "        print(f\"Image saved as {filename}\")\n",
    "\n",
    "    except Exception as e:\n",
    "        print(f\"Error creating image: {e}\")\n",
    "\n",
    "# Example usage:\n",
    "my_text = \"Hello, Python!\"\n",
    "create_text_image(my_text, filename=\"hello_python.png\", text_color=\"blue\")\n",
    "\n",
    "my_text2 = \"Another example with a different font\"\n",
    "create_text_image(my_text2, filename=\"another_image.png\", font_path=\"arial.ttf\", text_color=\"red\") # make sure you have arial.ttf in the same directory, or specify the full path."
   ]
  }
 ],
 "metadata": {
  "language_info": {
   "name": "python"
  }
 },
 "nbformat": 4,
 "nbformat_minor": 2
}
