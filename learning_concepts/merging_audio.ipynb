{
 "cells": [
  {
   "cell_type": "code",
   "execution_count": null,
   "metadata": {},
   "outputs": [],
   "source": [
    "import edge_tts\n",
    "\n",
    "test = \"\"\"\n",
    "Once upon a time, in a village nestled between green hills, lived a clever but poor man named Mircho. He lived with his mother in a small hut. Despite his ragged clothes, Mircho was known for his wisdom.\n",
    "One day, the king announced a contest: three impossible tasks! Whoever solved them would win great riches. Mircho, seeing his chance, went to the palace.\n",
    "The first task: a rope made of ashes!  Mircho soaked a rope in salt water, burned it, and the salty ash held its shape!\n",
    "Next, fit elephants in a small pot! Mircho cleverly asked, “Where are the elephants already in a pot?” The king laughed!\n",
    "The final task: make the palace walk! Mircho told everyone to move the palace, brick by brick. The king understood Mircho's cleverness and rewarded him!\"\"\"\n",
    "async def generate_speech(test):\n",
    "    tts = edge_tts.Communicate(\n",
    "        test, voice=\"en-US-JennyNeural\", volume=\"+100%\", pitch=\"+5Hz\"\n",
    "    )\n",
    "    await tts.save('test.mp3')\n",
    "\n",
    "# Directly await in the notebook\n",
    "await generate_speech(test)\n"
   ]
  },
  {
   "cell_type": "code",
   "execution_count": null,
   "metadata": {},
   "outputs": [],
   "source": [
    "from pydub import AudioSegment\n",
    "\n",
    "# Load story narration and background music\n",
    "narration = AudioSegment.from_file(\"audio_20250402070643.mp3\")\n",
    "bg_music = AudioSegment.from_file(\"bgmusic.mp3\")\n",
    "\n",
    "# Adjust background music volume (reduce to 30%)\n",
    "bg_music = bg_music - 45 # Reduce by 15 dB\n",
    "\n",
    "# Loop background music if it's shorter than narration\n",
    "while len(bg_music) < len(narration):\n",
    "    bg_music += bg_music  # Repeat the background music\n",
    "\n",
    "# Trim background music to match narration length\n",
    "bg_music = bg_music[:len(narration)]\n",
    "\n",
    "# Overlay background music with narration\n",
    "merged_audio = narration.overlay(bg_music)\n",
    "\n",
    "# Export merged audio\n",
    "merged_audio.export(\"merged_audio.mp3\", format=\"mp3\")\n",
    "\n",
    "print(\"Audio merging complete! Saved as merged_audio.mp3\")\n"
   ]
  },
  {
   "cell_type": "code",
   "execution_count": null,
   "metadata": {},
   "outputs": [],
   "source": [
    "from pydub import AudioSegment\n",
    "\n",
    "# Load the audio file\n",
    "audio = AudioSegment.from_mp3(\"bgmusic.mp3\")\n",
    "\n",
    "# Define the time ranges to remove (in milliseconds)\n",
    "remove_times = [(15 * 1000, 17 * 1000),  # 15-16 seconds\n",
    "                (32 * 1000, 33 * 1000),  # 32-33 seconds\n",
    "                (48 * 1000, 51 * 1000)]  # 49-50 seconds\n",
    "\n",
    "# Initialize a list to hold the audio segments to keep\n",
    "audio_segments = []\n",
    "\n",
    "# Start from the beginning of the audio\n",
    "start = 0\n",
    "\n",
    "# Iterate through the remove times\n",
    "for start_time, end_time in remove_times:\n",
    "    # Add the segment before the removal time\n",
    "    if start < start_time:\n",
    "        audio_segments.append(audio[start:start_time])\n",
    "    # Update start to the time after the removal\n",
    "    start = end_time\n",
    "\n",
    "# Add the remaining part of the audio after the last removal time\n",
    "if start < len(audio):\n",
    "    audio_segments.append(audio[start:])\n",
    "\n",
    "# Concatenate all the segments to form the final audio\n",
    "final_audio = sum(audio_segments)\n",
    "\n",
    "# Export the final audio\n",
    "final_audio.export(\"final_audio.mp3\", format=\"mp3\")\n",
    "\n",
    "print(\"Audio processed successfully!\")\n"
   ]
  },
  {
   "cell_type": "code",
   "execution_count": null,
   "metadata": {},
   "outputs": [],
   "source": []
  },
  {
   "cell_type": "code",
   "execution_count": null,
   "metadata": {},
   "outputs": [],
   "source": []
  },
  {
   "cell_type": "code",
   "execution_count": null,
   "metadata": {},
   "outputs": [],
   "source": []
  }
 ],
 "metadata": {
  "language_info": {
   "name": "python"
  }
 },
 "nbformat": 4,
 "nbformat_minor": 2
}
