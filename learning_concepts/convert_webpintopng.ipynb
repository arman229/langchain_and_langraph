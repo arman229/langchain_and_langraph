{
 "cells": [
  {
   "cell_type": "code",
   "execution_count": null,
   "metadata": {},
   "outputs": [],
   "source": [
    "from PIL import Image\n",
    "\n",
    "def convert_webp_to_png(input_path, output_path):\n",
    "    \"\"\"Convert a .webp image to .png format.\"\"\"\n",
    "    try:\n",
    "        img = Image.open(input_path)  # Open the .webp image\n",
    "        img.save(output_path, \"PNG\")  # Save as .png\n",
    "        print(f\"Converted {input_path} → {output_path}\")\n",
    "    except Exception as e:\n",
    "        print(f\"Error: {e}\")\n",
    "\n",
    "# Example usage\n",
    "convert_webp_to_png(\"2.webp\", \"image_scene_6.png\")\n"
   ]
  }
 ],
 "metadata": {
  "language_info": {
   "name": "python"
  }
 },
 "nbformat": 4,
 "nbformat_minor": 2
}
