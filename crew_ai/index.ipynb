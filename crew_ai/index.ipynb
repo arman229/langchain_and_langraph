{
 "cells": [
  {
   "cell_type": "code",
   "execution_count": null,
   "metadata": {},
   "outputs": [],
   "source": [
    "import os\n",
    "\n",
    "from google.colab import userdata\n",
    "\n",
    "os.environ['GEMINI_API_KEY'] =  userdata.get('GEMINI_API_KEY')\n",
    "os.environ['OPENAI_API_KEY'] =  userdata.get('OPENAI_API_KEY')"
   ]
  },
  {
   "cell_type": "code",
   "execution_count": null,
   "metadata": {},
   "outputs": [],
   "source": [
    "!pip install -Uq crewai crewai-tools\n"
   ]
  },
  {
   "cell_type": "code",
   "execution_count": 5,
   "metadata": {},
   "outputs": [],
   "source": [
    "\n",
    "import nest_asyncio\n",
    "nest_asyncio.apply()\n"
   ]
  },
  {
   "cell_type": "code",
   "execution_count": null,
   "metadata": {},
   "outputs": [],
   "source": [
    "from crewai import LLM\n",
    "\n",
    "llm1 = LLM(\n",
    "    model=\"gemini/gemini-2.0-flash\",\n",
    ")\n",
    "\n",
    "llm1.call(\"What is the capital of France?\")"
   ]
  },
  {
   "cell_type": "code",
   "execution_count": null,
   "metadata": {},
   "outputs": [],
   "source": [
    "google_embedder = {\n",
    "    \"provider\": \"google\",\n",
    "    \"config\": {\n",
    "         \"model\": \"models/text-embedding-004\",\n",
    "         \"api_key\": userdata.get('GEMINI_API_KEY'),\n",
    "         }\n",
    "}"
   ]
  },
  {
   "cell_type": "code",
   "execution_count": 6,
   "metadata": {},
   "outputs": [
    {
     "name": "stdout",
     "output_type": "stream",
     "text": [
      "\u001b[1m\u001b[35m Flow started with ID: 12c37507-02d5-49c4-8792-51c662d459ce\u001b[00m\n",
      "step1\n",
      "step2\n"
     ]
    }
   ],
   "source": [
    "from crewai.flow.flow import Flow, start, listen\n",
    "\n",
    "\n",
    "class MyFlow(Flow):\n",
    "\n",
    "  @start()\n",
    "  def function1(self):\n",
    "    print(\"step1\")\n",
    "\n",
    "  @listen(function1)\n",
    "  def function2(self):\n",
    "    print(\"step2\")\n",
    "\n",
    "obj = MyFlow()\n",
    "obj.kickoff()"
   ]
  },
  {
   "cell_type": "code",
   "execution_count": 7,
   "metadata": {},
   "outputs": [
    {
     "name": "stdout",
     "output_type": "stream",
     "text": [
      "API key loaded successfully\n"
     ]
    }
   ],
   "source": [
    "from dotenv import load_dotenv\n",
    "load_dotenv()\n",
    "import os \n",
    "api_key=os.getenv('GEMINI_API_KEY'),\n",
    "if api_key:\n",
    "    print(\"API key loaded successfully\")\n",
    "else:\n",
    "    print(\"API key not loaded\")  "
   ]
  },
  {
   "cell_type": "code",
   "execution_count": 8,
   "metadata": {},
   "outputs": [
    {
     "data": {
      "text/plain": [
       "'The capital of India is **New Delhi**.\\n'"
      ]
     },
     "execution_count": 8,
     "metadata": {},
     "output_type": "execute_result"
    }
   ],
   "source": [
    "from crewai import LLM\n",
    "\n",
    "llm1 = LLM(model=\"gemini/gemini-2.0-flash\")\n",
    "\n",
    "llm1.call(\"What is the capital of india?\")"
   ]
  },
  {
   "cell_type": "code",
   "execution_count": 9,
   "metadata": {},
   "outputs": [],
   "source": [
    "google_embedder = {\n",
    "    \"provider\": \"google\",\n",
    "    \"config\": {\n",
    "         \"model\": \"models/text-embedding-004\",\n",
    "         \"api_key\": api_key,\n",
    "         }\n",
    "}"
   ]
  },
  {
   "cell_type": "code",
   "execution_count": null,
   "metadata": {},
   "outputs": [],
   "source": [
    " \n",
    "import os\n",
    "from crewai import LLM \n",
    "\n",
    " \n",
    "from crewai import Agent, Task, Crew, Process, LLM\n",
    "from crewai.knowledge.source.string_knowledge_source import StringKnowledgeSource \n",
    "\n",
    "GEMINI_API_KEY = os.environ.get(\"GEMINI_API_KEY\")\n",
    "MODEL = os.environ.get(\"MODEL\", \"gemini/gemini-1.5-flash\")\n",
    "\n",
    "gemini_llm = LLM(\n",
    "    model=MODEL,\n",
    "    api_key=GEMINI_API_KEY,\n",
    "    temperature=0,\n",
    ")\n",
    "google_embedder = {\n",
    "    \"provider\": \"google\",\n",
    "    \"config\": {\n",
    "        \"model\": \"models/embedding-001\",\n",
    "        \"api_key\": GEMINI_API_KEY,\n",
    "    },\n",
    "}\n",
    "content = \"Users name is John. He is 30 years old and lives in San Francisco.\"\n",
    "string_source = StringKnowledgeSource(\n",
    "    content=content,\n",
    ")\n",
    " \n",
    "agent = Agent(\n",
    "    role=\"About User\",\n",
    "    goal=\"You know everything about the user.\",\n",
    "    backstory=\"\"\"You are a master at understanding people and their preferences.\"\"\",\n",
    "    verbose=True,\n",
    "    allow_delegation=False,\n",
    "    llm=gemini_llm,\n",
    ")\n",
    "task = Task(\n",
    "    description=\"Answer the following questions about the user: {question}\",\n",
    "    expected_output=\"An answer to the question.\",\n",
    "    agent=agent,\n",
    ")\n",
    "\n",
    "crew = Crew(\n",
    "    agents=[agent],\n",
    "    tasks=[task],\n",
    "    verbose=True,\n",
    "    process=Process.sequential,\n",
    "    knowledge_sources=[string_source],  \n",
    "    embedder=google_embedder,\n",
    ")\n",
    "\n",
    "result = crew.kickoff(\n",
    "    inputs={\"question\": \"What city does John live in and how old is he?\"}\n",
    ")\n"
   ]
  },
  {
   "cell_type": "code",
   "execution_count": 16,
   "metadata": {},
   "outputs": [
    {
     "name": "stderr",
     "output_type": "stream",
     "text": [
      "Overriding of current TracerProvider is not allowed\n"
     ]
    },
    {
     "name": "stdout",
     "output_type": "stream",
     "text": [
      "\u001b[93m \n",
      "[2025-03-08 14:25:58][WARNING]: Failed to init knowledge: Please provide an OpenAI API key. You can get one at https://platform.openai.com/account/api-keys\u001b[00m\n",
      "\u001b[1m\u001b[95m# Agent:\u001b[00m \u001b[1m\u001b[92mAbout User\u001b[00m\n",
      "\u001b[95m## Task:\u001b[00m \u001b[92mAnswer the following questions about the user: What city muhammad qasim live?\u001b[00m\n",
      "\n",
      "\n",
      "\u001b[1m\u001b[95m# Agent:\u001b[00m \u001b[1m\u001b[92mAbout User\u001b[00m\n",
      "\u001b[95m## Final Answer:\u001b[00m \u001b[92m\n",
      "I am sorry, I do not have access to the current city of residence for Muhammad Qasim.\u001b[00m\n",
      "\n",
      "\n"
     ]
    }
   ],
   "source": [
    "from crewai import Agent, Task, Crew, Process, LLM\n",
    "from crewai.knowledge.source.string_knowledge_source import StringKnowledgeSource\n",
    "google_embedder = {\n",
    "    \"provider\": \"google\",\n",
    "    \"config\": {\n",
    "         \"model\": \"models/text-embedding-004\",\n",
    "         \"api_key\":  GEMINI_API_KEY,\n",
    "         }\n",
    "}\n",
    "from crewai import LLM\n",
    "\n",
    "llm1 = LLM(\n",
    "    model=\"gemini/gemini-2.0-flash\",\n",
    ")\n",
    "\n",
    "llm1.call(\"What is the capital of France?\")\n",
    "# Create a knowledge source\n",
    "content = \"Users name is Muhammad Qasim. He is 30 years old and lives in Karchi, Pakistan. He is working as Chief Data Scientist at CancerClarity LLC\"\n",
    "string_source = StringKnowledgeSource(\n",
    "    content=content,\n",
    ")\n",
    "\n",
    "\n",
    "# Create an agent with the knowledge store\n",
    "agent = Agent(\n",
    "    role=\"About User\",\n",
    "    goal=\"You know everything about the user.\",\n",
    "    backstory=\"\"\"You are a master at understanding people and their preferences.\"\"\",\n",
    "    verbose=True,\n",
    "    allow_delegation=False,\n",
    "    llm=llm1,\n",
    ")\n",
    "task = Task(\n",
    "    description=\"Answer the following questions about the user: {question}\",\n",
    "    expected_output=\"An answer to the question.\",\n",
    "    agent=agent,\n",
    ")\n",
    "\n",
    "crew = Crew(\n",
    "    memory=True,\n",
    "    agents=[agent],\n",
    "    tasks=[task],\n",
    "    verbose=True,\n",
    "    process=Process.sequential,\n",
    "    knowledge_sources=[string_source], # Enable knowledge by adding the sources here. You can also add more sources to the sources list.\n",
    "    embedder=google_embedder\n",
    "\n",
    ")\n",
    "\n",
    "result = crew.kickoff(inputs={\"question\": \"What city muhammad qasim live?\"})"
   ]
  },
  {
   "cell_type": "code",
   "execution_count": null,
   "metadata": {},
   "outputs": [],
   "source": [
    " "
   ]
  },
  {
   "cell_type": "code",
   "execution_count": null,
   "metadata": {},
   "outputs": [],
   "source": []
  }
 ],
 "metadata": {
  "kernelspec": {
   "display_name": "Python (global-venv)",
   "language": "python",
   "name": "global-venv"
  },
  "language_info": {
   "codemirror_mode": {
    "name": "ipython",
    "version": 3
   },
   "file_extension": ".py",
   "mimetype": "text/x-python",
   "name": "python",
   "nbconvert_exporter": "python",
   "pygments_lexer": "ipython3",
   "version": "3.12.3"
  }
 },
 "nbformat": 4,
 "nbformat_minor": 2
}
